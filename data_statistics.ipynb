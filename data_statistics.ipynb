{
 "cells": [
  {
   "cell_type": "code",
   "execution_count": 1,
   "metadata": {},
   "outputs": [],
   "source": [
    "# _*_ coding: utf-8 _*_\n",
    "# @Time: 2021/11/26 11:27 \n",
    "# @Author: yuyongsheng\n",
    "# @Software: PyCharm\n",
    "# @Description: 上海六院甲氨蝶呤：5. 数据统计"
   ]
  },
  {
   "cell_type": "code",
   "execution_count": 2,
   "metadata": {},
   "outputs": [],
   "source": [
    "# 导入程序包\n",
    "import pymysql as MySQLDB\n",
    "import pandas as pd\n",
    "import numpy as np\n",
    "\n",
    "import re\n",
    "import sys\n",
    "import os\n",
    "project_path = os.getcwd()"
   ]
  },
  {
   "cell_type": "code",
   "execution_count": 3,
   "metadata": {},
   "outputs": [],
   "source": [
    "# 过滤文字\n",
    "import numpy as np\n",
    "def filter_string(df,feature):\n",
    "    # 过滤文字!!!!!!!!!!!!!!!!!!!!!!!!!!!\n",
    "    df=df[df[feature].str.contains('\\d')]\n",
    "    return df"
   ]
  },
  {
   "cell_type": "markdown",
   "metadata": {},
   "source": [
    "# 变量统计"
   ]
  },
  {
   "cell_type": "code",
   "execution_count": 15,
   "metadata": {},
   "outputs": [],
   "source": [
    "df_model=pd.read_excel(project_path+'/data/processed_data/df_9.3_合并其他检测.xlsx')\n",
    "if 'Unnamed: 0' in df_model.columns:\n",
    "    df_model = df_model.drop(['Unnamed: 0'], axis=1)"
   ]
  },
  {
   "cell_type": "code",
   "execution_count": 16,
   "metadata": {},
   "outputs": [],
   "source": [
    "# 选取变量\n",
    "\n",
    "discrete_col=['gender','高血压', '糖尿病', '脑器质疾病', '肝炎', '肾病','喹硫平', '齐拉西酮', '奥氮平', '劳拉西泮', '脑苷肌肽', '阿立哌唑', '利培酮', '奥拉西坦', '帕利哌酮', '阿普唑仑', '舍曲林', '艾司西酞', '氯氮平']\n",
    "continuous_col=[x for x in df_model.columns if x not in discrete_col]\n",
    "# continuous_col.remove('受试者编号')"
   ]
  },
  {
   "cell_type": "code",
   "execution_count": 17,
   "metadata": {},
   "outputs": [
    {
     "data": {
      "text/plain": [
       "19"
      ]
     },
     "execution_count": 17,
     "metadata": {},
     "output_type": "execute_result"
    }
   ],
   "source": [
    "len(discrete_col)"
   ]
  },
  {
   "cell_type": "markdown",
   "metadata": {},
   "source": [
    "## 分类变量统计"
   ]
  },
  {
   "cell_type": "code",
   "execution_count": 18,
   "metadata": {},
   "outputs": [],
   "source": [
    "# 求分类变量比例\n",
    "feature_list=[]  \n",
    "num_0_list=[]\n",
    "num_1_list=[]\n",
    "percent_0_list=[]\n",
    "percent_1_list=[]\n",
    "miss_rate_list=[]\n",
    "\n",
    "for i in discrete_col:\n",
    "    feature_list.append(i)\n",
    "    num_0=df_model[df_model[i]==0].shape[0]\n",
    "    num_1=df_model[df_model[i]==1].shape[0]\n",
    "    \n",
    "    num_0_list.append(num_0)\n",
    "    num_1_list.append(num_1)\n",
    "    \n",
    "    percent_0=num_0/df_model.shape[0]\n",
    "    percent_0=\"%.2f%%\" % (percent_0 * 100)  \n",
    "    percent_1=num_1/df_model.shape[0]\n",
    "    percent_1=\"%.2f%%\" % (percent_1 * 100)  \n",
    "    percent_0_list.append(percent_0)\n",
    "    percent_1_list.append(percent_1)\n",
    "    \n",
    "    miss_rate=df_model[i].isnull().sum()/df_model.shape[0]\n",
    "    miss_rate=\"%.2f%%\" % (miss_rate * 100)      # 百分数输出\n",
    "    miss_rate_list.append(miss_rate)"
   ]
  },
  {
   "cell_type": "code",
   "execution_count": 19,
   "metadata": {},
   "outputs": [
    {
     "data": {
      "text/plain": [
       "'0.00%'"
      ]
     },
     "execution_count": 19,
     "metadata": {},
     "output_type": "execute_result"
    }
   ],
   "source": [
    "miss_rate"
   ]
  },
  {
   "cell_type": "code",
   "execution_count": 20,
   "metadata": {},
   "outputs": [],
   "source": [
    "df_result=pd.DataFrame({'特征':feature_list,\n",
    "                        'percent_0_num':num_0_list,\n",
    "                        'percent_0_percent':percent_0_list,\n",
    "                        'percent_1_num':num_1_list,\n",
    "                        'percent_1_percent':percent_1_list,\n",
    "                        'missing_rate':miss_rate_list})"
   ]
  },
  {
   "cell_type": "code",
   "execution_count": 21,
   "metadata": {},
   "outputs": [],
   "source": [
    "# 保存分类变量统计\n",
    "writer=pd.ExcelWriter(project_path+'/data/result/df_2.1_分类变量统计.xlsx')\n",
    "df_result.to_excel(writer)\n",
    "writer.save()"
   ]
  },
  {
   "cell_type": "markdown",
   "metadata": {},
   "source": [
    "## 连续变量统计"
   ]
  },
  {
   "cell_type": "code",
   "execution_count": 22,
   "metadata": {},
   "outputs": [],
   "source": [
    "# 统计全变量体系各变量的平均数、上下四分位数、缺失率\n",
    "feature_list=[]\n",
    "mean_list=[]\n",
    "up_quarter_list=[]\n",
    "down_quarter_list=[]\n",
    "miss_list=[]\n",
    "\n",
    "for i in continuous_col:\n",
    "    try:\n",
    "        data = df_model[i].astype('float')\n",
    "\n",
    "        stat_result = pd.DataFrame(data.describe())\n",
    "        # print(stat_result)\n",
    "        mean_value=stat_result.loc['mean',i]\n",
    "        up_quarter=stat_result.loc['25%',i]\n",
    "        down_quarter=stat_result.loc['75%',i]\n",
    "    except:\n",
    "        mean_value=np.nan\n",
    "        up_quarter=np.nan\n",
    "        down_quarter=np.nan\n",
    "\n",
    "    miss_rate=df_model[i].isnull().sum()/df_model.shape[0]\n",
    "    miss_rate=\"%.2f%%\" % (miss_rate * 100)      # 百分数输出\n",
    "\n",
    "    feature_list.append(i)\n",
    "    mean_list.append(round(mean_value,2))\n",
    "    up_quarter_list.append(round(up_quarter,2))\n",
    "    down_quarter_list.append(round(down_quarter,2))\n",
    "    miss_list.append(miss_rate)"
   ]
  },
  {
   "cell_type": "code",
   "execution_count": 23,
   "metadata": {},
   "outputs": [
    {
     "data": {
      "text/html": [
       "<div>\n",
       "<style scoped>\n",
       "    .dataframe tbody tr th:only-of-type {\n",
       "        vertical-align: middle;\n",
       "    }\n",
       "\n",
       "    .dataframe tbody tr th {\n",
       "        vertical-align: top;\n",
       "    }\n",
       "\n",
       "    .dataframe thead th {\n",
       "        text-align: right;\n",
       "    }\n",
       "</style>\n",
       "<table border=\"1\" class=\"dataframe\">\n",
       "  <thead>\n",
       "    <tr style=\"text-align: right;\">\n",
       "      <th></th>\n",
       "      <th>镜检红细胞</th>\n",
       "    </tr>\n",
       "  </thead>\n",
       "  <tbody>\n",
       "    <tr>\n",
       "      <th>count</th>\n",
       "      <td>1.0</td>\n",
       "    </tr>\n",
       "    <tr>\n",
       "      <th>mean</th>\n",
       "      <td>12.0</td>\n",
       "    </tr>\n",
       "    <tr>\n",
       "      <th>std</th>\n",
       "      <td>NaN</td>\n",
       "    </tr>\n",
       "    <tr>\n",
       "      <th>min</th>\n",
       "      <td>12.0</td>\n",
       "    </tr>\n",
       "    <tr>\n",
       "      <th>25%</th>\n",
       "      <td>12.0</td>\n",
       "    </tr>\n",
       "    <tr>\n",
       "      <th>50%</th>\n",
       "      <td>12.0</td>\n",
       "    </tr>\n",
       "    <tr>\n",
       "      <th>75%</th>\n",
       "      <td>12.0</td>\n",
       "    </tr>\n",
       "    <tr>\n",
       "      <th>max</th>\n",
       "      <td>12.0</td>\n",
       "    </tr>\n",
       "  </tbody>\n",
       "</table>\n",
       "</div>"
      ],
      "text/plain": [
       "       镜检红细胞\n",
       "count    1.0\n",
       "mean    12.0\n",
       "std      NaN\n",
       "min     12.0\n",
       "25%     12.0\n",
       "50%     12.0\n",
       "75%     12.0\n",
       "max     12.0"
      ]
     },
     "execution_count": 23,
     "metadata": {},
     "output_type": "execute_result"
    }
   ],
   "source": [
    "stat_result"
   ]
  },
  {
   "cell_type": "code",
   "execution_count": 24,
   "metadata": {},
   "outputs": [],
   "source": [
    "df_result=pd.DataFrame({'特征':feature_list,\n",
    "                        'mean_list':mean_list,\n",
    "                        'up_quarter':up_quarter_list,\n",
    "                        'down_quarter':down_quarter_list,\n",
    "                        'miss_list':miss_list})"
   ]
  },
  {
   "cell_type": "code",
   "execution_count": 25,
   "metadata": {},
   "outputs": [],
   "source": [
    "# 保存连续变量统计\n",
    "writer=pd.ExcelWriter(project_path+'/data/result/df_2.2_连续变量统计.xlsx')\n",
    "df_result.to_excel(writer)\n",
    "writer.save()"
   ]
  },
  {
   "cell_type": "code",
   "execution_count": null,
   "metadata": {},
   "outputs": [],
   "source": []
  }
 ],
 "metadata": {
  "kernelspec": {
   "display_name": "Python 3",
   "language": "python",
   "name": "python3"
  },
  "language_info": {
   "codemirror_mode": {
    "name": "ipython",
    "version": 3
   },
   "file_extension": ".py",
   "mimetype": "text/x-python",
   "name": "python",
   "nbconvert_exporter": "python",
   "pygments_lexer": "ipython3",
   "version": "3.6.8"
  },
  "toc": {
   "base_numbering": 1,
   "nav_menu": {},
   "number_sections": true,
   "sideBar": true,
   "skip_h1_title": false,
   "title_cell": "Table of Contents",
   "title_sidebar": "Contents",
   "toc_cell": false,
   "toc_position": {
    "height": "calc(100% - 180px)",
    "left": "10px",
    "top": "150px",
    "width": "460.8px"
   },
   "toc_section_display": true,
   "toc_window_display": true
  },
  "varInspector": {
   "cols": {
    "lenName": 16,
    "lenType": 16,
    "lenVar": 40
   },
   "kernels_config": {
    "python": {
     "delete_cmd_postfix": "",
     "delete_cmd_prefix": "del ",
     "library": "var_list.py",
     "varRefreshCmd": "print(var_dic_list())"
    },
    "r": {
     "delete_cmd_postfix": ") ",
     "delete_cmd_prefix": "rm(",
     "library": "var_list.r",
     "varRefreshCmd": "cat(var_dic_list()) "
    }
   },
   "types_to_exclude": [
    "module",
    "function",
    "builtin_function_or_method",
    "instance",
    "_Feature"
   ],
   "window_display": false
  }
 },
 "nbformat": 4,
 "nbformat_minor": 2
}
