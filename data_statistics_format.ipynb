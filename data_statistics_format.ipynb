{
 "cells": [
  {
   "cell_type": "code",
   "execution_count": 16,
   "metadata": {},
   "outputs": [],
   "source": [
    "# 规范化变量统计"
   ]
  },
  {
   "cell_type": "code",
   "execution_count": 2,
   "metadata": {},
   "outputs": [],
   "source": [
    "# 导入程序包\n",
    "import pandas as pd\n",
    "import numpy as np\n",
    "\n",
    "import re\n",
    "import sys\n",
    "import os\n",
    "project_path = os.getcwd()"
   ]
  },
  {
   "cell_type": "markdown",
   "metadata": {},
   "source": [
    "# 变量统计"
   ]
  },
  {
   "cell_type": "code",
   "execution_count": 45,
   "metadata": {},
   "outputs": [],
   "source": [
    "df_model=pd.read_excel(project_path+'/data/2_df_model_data_importance.xlsx')\n",
    "if 'Unnamed: 0' in df_model.columns:\n",
    "    df_model = df_model.drop(['Unnamed: 0'], axis=1)"
   ]
  },
  {
   "cell_type": "code",
   "execution_count": 46,
   "metadata": {},
   "outputs": [
    {
     "data": {
      "text/plain": [
       "Index(['日剂量', 'test_result', '血小板计数', '大型血小板比值', '平均红细胞血红蛋白量', '嗜碱性粒细胞百分数',\n",
       "       '尿素', '淋巴细胞百分数', '红细胞分布宽度-CV', '天门冬氨酸氨基转移酶', '血小板比积测定', '血小板分布宽度',\n",
       "       '单核细胞总数', '白细胞计数', '中性粒细胞百分数', '平均血小板容积', '平均红细胞体积', '嗜酸性粒细胞总数', '体重',\n",
       "       '红细胞计数', '白/球比值', '中性粒细胞总数', 'BMI', '血红蛋白测定', '抗精神病药', '红细胞分布宽度-SD',\n",
       "       '淋巴细胞总数', '单核细胞百分数', '尿酸', '肌酐', '白蛋白', '转氨酶比值', '平均RBC血红蛋白浓度',\n",
       "       '红细胞比积测定', '嗜酸性粒细胞百分数', 'age', '间接胆红素', '总胆红素', '球蛋白', '身高', '抗焦虑药',\n",
       "       'gender', '直接胆红素', '行为干预治疗', '总蛋白', '嗜碱性粒细胞总数'],\n",
       "      dtype='object')"
      ]
     },
     "execution_count": 46,
     "metadata": {},
     "output_type": "execute_result"
    }
   ],
   "source": [
    "df_model.columns"
   ]
  },
  {
   "cell_type": "code",
   "execution_count": 55,
   "metadata": {},
   "outputs": [],
   "source": [
    "# 选取变量\n",
    "# discrete_col = ['日剂量','gender', '基础疾病','情感稳定剂','抗精神病药','抗焦虑药','安眠药','行为干预治疗']\n",
    "discrete_col = ['日剂量','gender','抗精神病药','抗焦虑药','行为干预治疗']\n",
    "continuous_col=[x for x in df_model.columns if x not in discrete_col]"
   ]
  },
  {
   "cell_type": "markdown",
   "metadata": {},
   "source": [
    "## 分类变量统计"
   ]
  },
  {
   "cell_type": "code",
   "execution_count": 56,
   "metadata": {
    "scrolled": true
   },
   "outputs": [
    {
     "name": "stdout",
     "output_type": "stream",
     "text": [
      "日剂量\n",
      "是\n",
      "否\n",
      "gender\n",
      "男\n",
      "女\n",
      "抗精神病药\n",
      "是\n",
      "否\n",
      "抗焦虑药\n",
      "是\n",
      "否\n",
      "行为干预治疗\n",
      "是\n",
      "否\n"
     ]
    }
   ],
   "source": [
    "# 求分类变量比例\n",
    "df_discrete_stat=pd.DataFrame(columns=['变量名称','所有事件(%d)' % df_model.shape[0],'缺失率(%)'])\n",
    "for i in discrete_col:\n",
    "    print(i)\n",
    "    # 缺失率\n",
    "    if df_model[i].isnull().sum()==0:\n",
    "        miss_rate='0%'\n",
    "    else:\n",
    "        miss_rate=df_model[i].isnull().sum()/df_model.shape[0]\n",
    "        miss_rate=\"%.2f%%\" % (miss_rate * 100)      # 百分数输出\n",
    "    df_discrete_stat.loc[df_discrete_stat.shape[0],['变量名称','缺失率(%)']]=[i+'，n(%)',miss_rate]\n",
    "    \n",
    "    # 分类变量单独统计\n",
    "    name_list=[]\n",
    "    num_perc_list=[]\n",
    "    df_model_stat=df_model[df_model[i].notnull()].sort_values([i],ascending=True)\n",
    "    \n",
    "    if re.match('gender|性别',i):\n",
    "        name_list=['男','女']\n",
    "    else:\n",
    "        name_list=['是','否']\n",
    "    for name,value in zip(name_list,[1,0]):\n",
    "        print(name)\n",
    "        num=df_model_stat[df_model_stat[i]==value].shape[0]\n",
    "        percent=num/df_model.shape[0]\n",
    "        percent=\"%.2f%%\" % (percent * 100)\n",
    "        num_percent=str(num)+'('+percent+')'\n",
    "        num_perc_list.append(num_percent)\n",
    "        \n",
    "    df_temp = pd.DataFrame(data={'变量名称':name_list,\n",
    "                                 '所有事件(%d)' % df_model.shape[0]:num_perc_list})\n",
    "\n",
    "    df_discrete_stat=pd.concat([df_discrete_stat,df_temp],axis=0)\n",
    "    df_discrete_stat=df_discrete_stat.reset_index(drop=True)"
   ]
  },
  {
   "cell_type": "code",
   "execution_count": 57,
   "metadata": {},
   "outputs": [
    {
     "data": {
      "text/plain": [
       "['是', '否']"
      ]
     },
     "execution_count": 57,
     "metadata": {},
     "output_type": "execute_result"
    }
   ],
   "source": [
    "name_list"
   ]
  },
  {
   "cell_type": "code",
   "execution_count": 60,
   "metadata": {},
   "outputs": [],
   "source": [
    "# 保存分类变量统计\n",
    "df_discrete_stat.to_excel(project_path+'/data/stat/df_2.1_分类变量统计_importance.xlsx')"
   ]
  },
  {
   "cell_type": "markdown",
   "metadata": {},
   "source": [
    "## 连续变量统计"
   ]
  },
  {
   "cell_type": "code",
   "execution_count": 61,
   "metadata": {},
   "outputs": [],
   "source": [
    "# 统计全变量体系各变量的平均数、上下四分位数、缺失率\n",
    "feature_quarter_list=[]\n",
    "mean_quarter_list=[]\n",
    "feature_std_list=[]\n",
    "mean_std_list=[]\n",
    "miss_list=[]\n",
    "for i in continuous_col:\n",
    "    # 计算上下四分位、均值、标准差\n",
    "    try:\n",
    "        data = df_model[i].astype('float')\n",
    "        stat_result = pd.DataFrame(data.describe())\n",
    "        mean_value=stat_result.loc['mean',i]\n",
    "        up_quarter=stat_result.loc['25%',i]\n",
    "        down_quarter=stat_result.loc['75%',i]\n",
    "        std_value=stat_result.loc['std',i]\n",
    "    except:\n",
    "        mean_value=np.nan\n",
    "        up_quarter=np.nan\n",
    "        down_quarter=np.nan\n",
    "    # 计算缺失率\n",
    "    if df_model[i].isnull().sum()==0:\n",
    "        miss_rate='0%'\n",
    "    else:\n",
    "        miss_rate=df_model[i].isnull().sum()/df_model.shape[0]\n",
    "        miss_rate=\"%.2f%%\" % (miss_rate * 100)      # 百分数输出\n",
    "    miss_list.append(miss_rate)\n",
    "    # mean(quarter)\n",
    "    feature_quarter_list.append(i+'，mean（IQR）')\n",
    "    mean_quarter_list.append('%.2f(%.2f-%.2f)' % (mean_value,up_quarter,down_quarter))\n",
    "    # mean(std)\n",
    "    feature_std_list.append(i+'，mean±std')\n",
    "    mean_std_list.append('%.2f±%.2f' % (mean_value,std_value))"
   ]
  },
  {
   "cell_type": "code",
   "execution_count": 62,
   "metadata": {},
   "outputs": [],
   "source": [
    "df_continuous_quarter=pd.DataFrame(data={'特征':feature_quarter_list,\n",
    "                        'mean_quarter_list':mean_quarter_list,\n",
    "                        'miss_list':miss_list})\n",
    "df_continuous_std=pd.DataFrame(data={'特征':feature_std_list,\n",
    "                        'mean_std_list':mean_std_list,\n",
    "                        'miss_list':miss_list})"
   ]
  },
  {
   "cell_type": "code",
   "execution_count": 63,
   "metadata": {},
   "outputs": [],
   "source": [
    "df_continous_stat=pd.concat([df_continuous_quarter,df_continuous_std],axis=1)\n",
    "# 保存连续变量统计\n",
    "df_continous_stat.to_excel(project_path+'/data/stat/df_2.2_连续变量统计_importance.xlsx')"
   ]
  },
  {
   "cell_type": "code",
   "execution_count": null,
   "metadata": {},
   "outputs": [],
   "source": []
  }
 ],
 "metadata": {
  "kernelspec": {
   "display_name": "Python 3",
   "language": "python",
   "name": "python3"
  },
  "language_info": {
   "codemirror_mode": {
    "name": "ipython",
    "version": 3
   },
   "file_extension": ".py",
   "mimetype": "text/x-python",
   "name": "python",
   "nbconvert_exporter": "python",
   "pygments_lexer": "ipython3",
   "version": "3.6.8"
  },
  "toc": {
   "base_numbering": 1,
   "nav_menu": {},
   "number_sections": true,
   "sideBar": true,
   "skip_h1_title": false,
   "title_cell": "Table of Contents",
   "title_sidebar": "Contents",
   "toc_cell": false,
   "toc_position": {
    "height": "calc(100% - 180px)",
    "left": "10px",
    "top": "150px",
    "width": "460.8px"
   },
   "toc_section_display": true,
   "toc_window_display": true
  },
  "varInspector": {
   "cols": {
    "lenName": 16,
    "lenType": 16,
    "lenVar": 40
   },
   "kernels_config": {
    "python": {
     "delete_cmd_postfix": "",
     "delete_cmd_prefix": "del ",
     "library": "var_list.py",
     "varRefreshCmd": "print(var_dic_list())"
    },
    "r": {
     "delete_cmd_postfix": ") ",
     "delete_cmd_prefix": "rm(",
     "library": "var_list.r",
     "varRefreshCmd": "cat(var_dic_list()) "
    }
   },
   "types_to_exclude": [
    "module",
    "function",
    "builtin_function_or_method",
    "instance",
    "_Feature"
   ],
   "window_display": false
  }
 },
 "nbformat": 4,
 "nbformat_minor": 2
}
