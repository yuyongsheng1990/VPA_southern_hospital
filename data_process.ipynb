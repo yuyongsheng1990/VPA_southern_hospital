{
 "cells": [
  {
   "cell_type": "code",
   "execution_count": 1,
   "metadata": {},
   "outputs": [],
   "source": [
    "# _*_ coding: utf-8 _*_\n",
    "# @Time: 2021/12/09 16:05 \n",
    "# @Author: yuyongsheng\n",
    "# @Software: PyCharm\n",
    "# @Description: 南方医院丙戊酸：1. 数据处理"
   ]
  },
  {
   "cell_type": "markdown",
   "metadata": {},
   "source": [
    "# 原始数据预处理"
   ]
  },
  {
   "cell_type": "markdown",
   "metadata": {},
   "source": [
    "## 导入程序包"
   ]
  },
  {
   "cell_type": "code",
   "execution_count": 2,
   "metadata": {},
   "outputs": [
    {
     "name": "stdout",
     "output_type": "stream",
     "text": [
      "D:\\PycharmProjects\\VPA_southern_hospital\n"
     ]
    }
   ],
   "source": [
    "# 导入程序包\n",
    "import pymysql as MySQLDB\n",
    "import pandas as pd\n",
    "import numpy as np\n",
    "\n",
    "import re\n",
    "import sys\n",
    "import os\n",
    "project_path = os.getcwd()\n",
    "print(project_path)"
   ]
  },
  {
   "cell_type": "markdown",
   "metadata": {},
   "source": [
    "## 导入预定义函数"
   ]
  },
  {
   "cell_type": "code",
   "execution_count": 3,
   "metadata": {},
   "outputs": [],
   "source": [
    "# 字符串转换为时间格式\n",
    "import datetime\n",
    "def str_to_datetime(x):\n",
    "    try:\n",
    "        a = datetime.datetime.strptime(x, \"%d/%m/%Y %H:%M:%S\")\n",
    "        return a\n",
    "    except:\n",
    "        return np.NaN"
   ]
  },
  {
   "cell_type": "code",
   "execution_count": 4,
   "metadata": {},
   "outputs": [],
   "source": [
    "# 过滤文字\n",
    "import numpy as np\n",
    "def filter_string(df,feature):\n",
    "    # 过滤文字!!!!!!!!!!!!!!!!!!!!!!!!!!!\n",
    "    df=df[df[feature].str.contains('\\d')]\n",
    "    return df"
   ]
  },
  {
   "cell_type": "code",
   "execution_count": 5,
   "metadata": {},
   "outputs": [],
   "source": [
    "# 过滤特殊字符\n",
    "def filter_spec_character(df,feature):\n",
    "    df[feature]=df[feature].apply(lambda x: re.sub('<|>|\\+|\\/|-','',str(x)))\n",
    "    return df"
   ]
  },
  {
   "cell_type": "code",
   "execution_count": 6,
   "metadata": {},
   "outputs": [],
   "source": [
    "# 过滤异常大值\n",
    "def filter_huge_value(df,feature,median_value=1):\n",
    "    # 过滤异常大值!!!!!!!!!!!!!!!!!!!!!!!!!!\n",
    "    if not median_value:\n",
    "        median_value=df[feature].median()\n",
    "    df[feature]=df[feature].apply(lambda x: np.nan if x<0 else x if float(x) <= 100 * median_value else 100*median_value)\n",
    "    df=df[df[feature].notnull()]\n",
    "    return df"
   ]
  },
  {
   "cell_type": "code",
   "execution_count": 7,
   "metadata": {},
   "outputs": [],
   "source": [
    "# 使用随机森林对缺失值进行插补\n",
    "import pandas as pd\n",
    "pd.set_option('mode.chained_assignment', None)\n",
    "import numpy as np\n",
    "from sklearn.ensemble import RandomForestRegressor\n",
    "from sklearn.model_selection import GridSearchCV\n",
    "def missing_value_interpolation(df,missing_list=[]):\n",
    "    df = df.reset_index(drop=True)\n",
    "    # 提取存在缺失值的列名\n",
    "    if not missing_list:\n",
    "        for i in df.columns:\n",
    "            if df[i].isnull().sum() > 0:\n",
    "                missing_list.append(i)\n",
    "    missing_list_copy = missing_list.copy()\n",
    "    # 用该列未缺失的值训练随机森林，然后用训练好的rf预测缺失值\n",
    "    for i in range(len(missing_list)):\n",
    "        name=missing_list[0]\n",
    "        df_missing = df[missing_list_copy]\n",
    "        # 将其他列的缺失值用0表示。\n",
    "        missing_list.remove(name)\n",
    "        for j in missing_list:\n",
    "            df_missing[j]=df_missing[j].astype('str').apply(lambda x: 0 if x=='nan' else x)\n",
    "        df_missing_is = df_missing[df_missing[name].isnull()]\n",
    "        df_missing_not = df_missing[df_missing[name].notnull()]\n",
    "        y = df_missing_not[name]\n",
    "        x = df_missing_not.drop([name],axis=1)\n",
    "        # 列出参数列表\n",
    "        tree_grid_parameter = {'n_estimators': list((10, 50, 100, 150, 200))}\n",
    "        # 进行参数的搜索组合\n",
    "        grid = GridSearchCV(RandomForestRegressor(),param_grid=tree_grid_parameter,cv=3)\n",
    "        #rfr=RandomForestRegressor(random_state=0,n_estimators=100,n_jobs=-1)\n",
    "        #根据已有数据去拟合随机森林模型\n",
    "        grid.fit(x, y)\n",
    "        rfr = RandomForestRegressor(n_estimators=grid.best_params_['n_estimators'])\n",
    "        rfr.fit(x, y)\n",
    "        #预测缺失值\n",
    "        predict = rfr.predict(df_missing_is.drop([name],axis=1))\n",
    "        #填补缺失值\n",
    "        df.loc[df[name].isnull(),name] = predict\n",
    "    return df"
   ]
  },
  {
   "cell_type": "markdown",
   "metadata": {},
   "source": [
    "## 连接数据库"
   ]
  },
  {
   "cell_type": "code",
   "execution_count": 8,
   "metadata": {},
   "outputs": [
    {
     "name": "stdout",
     "output_type": "stream",
     "text": [
      "('8.0.22',)\n"
     ]
    }
   ],
   "source": [
    "# 丙戊酸-双相障碍1\n",
    "# 连接数据库\n",
    "conn = MySQLDB.connect(host='192.168.0.37', port=3306, user='root', password='111111', db='ndyy_vpa_sxza_1', charset='UTF8')\n",
    "# conn = MySQLDB.connect(host='localhost', port=3306, user='root', password='123456', db='上海六院', charset='UTF8')\n",
    "cursor = conn.cursor()\n",
    "cursor.execute(\"Select version()\")\n",
    "for i in cursor:\n",
    "    print(i)"
   ]
  },
  {
   "cell_type": "markdown",
   "metadata": {},
   "source": [
    "## 读取doctor_order数据库表"
   ]
  },
  {
   "cell_type": "code",
   "execution_count": 9,
   "metadata": {},
   "outputs": [],
   "source": [
    "# 丙戊酸-双相障碍v1.0和丙戊酸-双相障碍v2.0\n",
    "# 从df_doctor_order数据库读入数据\n",
    "# 丙戊酸long_d_order不准，不要\n",
    "try:\n",
    "    sql = 'select patient_id,case_no,drug_name,amount,drug_spec,dosage,frequency,start_datetime,end_datetime,statusdesc \\\n",
    "    from doctor_order \\\n",
    "    UNION \\\n",
    "    select patient_id,case_no,drug_name,amount,drug_spec,dosage,frequency,start_datetime,end_datetime,statusdesc \\\n",
    "    from ndyy_vpa_sxza_2.doctor_order;'\n",
    "    df_doctor_order = pd.read_sql(sql, conn)\n",
    "except MySQLDB.err.ProgrammingError as e:\n",
    "    print('surgical_record Error is ' + str(e))\n",
    "    sys.exit()"
   ]
  },
  {
   "cell_type": "code",
   "execution_count": 10,
   "metadata": {},
   "outputs": [
    {
     "name": "stdout",
     "output_type": "stream",
     "text": [
      "(26568, 10)\n",
      "218\n"
     ]
    }
   ],
   "source": [
    "print(df_doctor_order.shape)\n",
    "print(df_doctor_order['patient_id'].nunique())"
   ]
  },
  {
   "cell_type": "code",
   "execution_count": 11,
   "metadata": {},
   "outputs": [],
   "source": [
    "# 保存doctor_order用药记录\n",
    "df_doctor_order.to_excel(project_path+'/data/pre_processed_raw_data/df_doctor_order.xlsx')"
   ]
  },
  {
   "cell_type": "code",
   "execution_count": 12,
   "metadata": {},
   "outputs": [],
   "source": [
    "# 手工处理临时医嘱和长期医嘱，根据药物属性合并删除重复数据，一天只有一条临时医嘱和长期医嘱\n",
    "# # 设置patient_id，case_no字段数据数据格式，不然无法匹配id\n",
    "df_doctor_order=pd.read_excel(project_path+'/data/pre_processed_raw_data/df_doctor_order_手工处理临嘱和长嘱.xlsx',\n",
    "                              converters={'patient_id':str,'case_no':str})\n",
    "if 'Unnamed: 0' in df_doctor_order.columns:\n",
    "    df_doctor_order = df_doctor_order.drop(['Unnamed: 0'], axis=1)"
   ]
  },
  {
   "cell_type": "markdown",
   "metadata": {},
   "source": [
    "## 读取inp_record住院记录"
   ]
  },
  {
   "cell_type": "code",
   "execution_count": 13,
   "metadata": {},
   "outputs": [],
   "source": [
    "# 从inp_record表读入数据\n",
    "try:\n",
    "    sql = 'select patient_id,case_no,adm_date,care_area,dis_date,age from inp_record \\\n",
    "     UNION \\\n",
    "    select patient_id,case_no,adm_date,care_area,dis_date,age from ndyy_vpa_sxza_2.inp_record;'\n",
    "    df_inp_record = pd.read_sql(sql, conn)\n",
    "except MySQLDB.err.ProgrammingError as e:\n",
    "    print('surgical_record Error is ' + str(e))\n",
    "    sys.exit()"
   ]
  },
  {
   "cell_type": "code",
   "execution_count": 14,
   "metadata": {
    "scrolled": false
   },
   "outputs": [
    {
     "name": "stdout",
     "output_type": "stream",
     "text": [
      "(241, 6)\n",
      "218\n"
     ]
    }
   ],
   "source": [
    "print(df_inp_record.shape)\n",
    "print(df_inp_record['patient_id'].nunique())"
   ]
  },
  {
   "cell_type": "code",
   "execution_count": 15,
   "metadata": {},
   "outputs": [
    {
     "data": {
      "text/plain": [
       "patient_id    False\n",
       "case_no       False\n",
       "adm_date      False\n",
       "care_area     False\n",
       "dis_date       True\n",
       "age           False\n",
       "dtype: bool"
      ]
     },
     "execution_count": 15,
     "metadata": {},
     "output_type": "execute_result"
    }
   ],
   "source": [
    "#用来判断某列是否有缺失值\n",
    "df_inp_record.isnull().any() "
   ]
  },
  {
   "cell_type": "code",
   "execution_count": 16,
   "metadata": {},
   "outputs": [
    {
     "data": {
      "text/html": [
       "<div>\n",
       "<style scoped>\n",
       "    .dataframe tbody tr th:only-of-type {\n",
       "        vertical-align: middle;\n",
       "    }\n",
       "\n",
       "    .dataframe tbody tr th {\n",
       "        vertical-align: top;\n",
       "    }\n",
       "\n",
       "    .dataframe thead th {\n",
       "        text-align: right;\n",
       "    }\n",
       "</style>\n",
       "<table border=\"1\" class=\"dataframe\">\n",
       "  <thead>\n",
       "    <tr style=\"text-align: right;\">\n",
       "      <th></th>\n",
       "      <th>patient_id</th>\n",
       "      <th>case_no</th>\n",
       "      <th>adm_date</th>\n",
       "      <th>care_area</th>\n",
       "      <th>dis_date</th>\n",
       "      <th>age</th>\n",
       "    </tr>\n",
       "  </thead>\n",
       "  <tbody>\n",
       "    <tr>\n",
       "      <th>0</th>\n",
       "      <td>6873870</td>\n",
       "      <td>10001302</td>\n",
       "      <td>2020-08-15 17:12:30</td>\n",
       "      <td>JSKXLHLDY-心理二区护理单元江高</td>\n",
       "      <td>NaT</td>\n",
       "      <td>28</td>\n",
       "    </tr>\n",
       "    <tr>\n",
       "      <th>2</th>\n",
       "      <td>6949939</td>\n",
       "      <td>10019847</td>\n",
       "      <td>2020-08-17 20:28:47</td>\n",
       "      <td>JSKXLHLDY-心理二区护理单元江高</td>\n",
       "      <td>NaT</td>\n",
       "      <td>27</td>\n",
       "    </tr>\n",
       "    <tr>\n",
       "      <th>4</th>\n",
       "      <td>369329</td>\n",
       "      <td>10028911</td>\n",
       "      <td>2020-08-18 15:12:28</td>\n",
       "      <td>JSKXLHLDY-心理二区护理单元江高</td>\n",
       "      <td>NaT</td>\n",
       "      <td>33</td>\n",
       "    </tr>\n",
       "    <tr>\n",
       "      <th>27</th>\n",
       "      <td>8043274</td>\n",
       "      <td>10914758</td>\n",
       "      <td>2020-11-18 17:38:49</td>\n",
       "      <td>JSKXLHLDY-心理二区护理单元江高</td>\n",
       "      <td>NaT</td>\n",
       "      <td>29</td>\n",
       "    </tr>\n",
       "  </tbody>\n",
       "</table>\n",
       "</div>"
      ],
      "text/plain": [
       "   patient_id   case_no            adm_date             care_area dis_date  \\\n",
       "0     6873870  10001302 2020-08-15 17:12:30  JSKXLHLDY-心理二区护理单元江高      NaT   \n",
       "2     6949939  10019847 2020-08-17 20:28:47  JSKXLHLDY-心理二区护理单元江高      NaT   \n",
       "4      369329  10028911 2020-08-18 15:12:28  JSKXLHLDY-心理二区护理单元江高      NaT   \n",
       "27    8043274  10914758 2020-11-18 17:38:49  JSKXLHLDY-心理二区护理单元江高      NaT   \n",
       "\n",
       "    age  \n",
       "0    28  \n",
       "2    27  \n",
       "4    33  \n",
       "27   29  "
      ]
     },
     "execution_count": 16,
     "metadata": {},
     "output_type": "execute_result"
    }
   ],
   "source": [
    "df_inp_record[df_inp_record['dis_date'].isnull()]"
   ]
  },
  {
   "cell_type": "code",
   "execution_count": 17,
   "metadata": {},
   "outputs": [
    {
     "data": {
      "text/html": [
       "<div>\n",
       "<style scoped>\n",
       "    .dataframe tbody tr th:only-of-type {\n",
       "        vertical-align: middle;\n",
       "    }\n",
       "\n",
       "    .dataframe tbody tr th {\n",
       "        vertical-align: top;\n",
       "    }\n",
       "\n",
       "    .dataframe thead th {\n",
       "        text-align: right;\n",
       "    }\n",
       "</style>\n",
       "<table border=\"1\" class=\"dataframe\">\n",
       "  <thead>\n",
       "    <tr style=\"text-align: right;\">\n",
       "      <th></th>\n",
       "      <th>patient_id</th>\n",
       "      <th>case_no</th>\n",
       "      <th>adm_date</th>\n",
       "      <th>care_area</th>\n",
       "      <th>dis_date</th>\n",
       "      <th>age</th>\n",
       "    </tr>\n",
       "  </thead>\n",
       "  <tbody>\n",
       "  </tbody>\n",
       "</table>\n",
       "</div>"
      ],
      "text/plain": [
       "Empty DataFrame\n",
       "Columns: [patient_id, case_no, adm_date, care_area, dis_date, age]\n",
       "Index: []"
      ]
     },
     "execution_count": 17,
     "metadata": {},
     "output_type": "execute_result"
    }
   ],
   "source": [
    "# 查看重复数据\n",
    "df_inp_record[df_inp_record.duplicated(subset=['patient_id','adm_date'],keep='first')]"
   ]
  },
  {
   "cell_type": "code",
   "execution_count": 18,
   "metadata": {},
   "outputs": [],
   "source": [
    "df_inp_record.to_excel(project_path+'/data/pre_processed_raw_data/df_inp_record.xlsx')"
   ]
  },
  {
   "cell_type": "markdown",
   "metadata": {},
   "source": [
    "## 读取diagnostic_record"
   ]
  },
  {
   "cell_type": "code",
   "execution_count": 19,
   "metadata": {},
   "outputs": [],
   "source": [
    "# 从medical_record表读入数据\n",
    "try:\n",
    "    sql = 'select patient_id,case_no,record_date,diagnostic_type,diagnostic_content from diagnostic_record \\\n",
    "        UNION \\\n",
    "        select patient_id,case_no,record_date,diagnostic_type,diagnostic_content from ndyy_vpa_sxza_2.diagnostic_record;'\n",
    "    df_diagnostic_record = pd.read_sql(sql, conn)\n",
    "except MySQLDB.err.ProgrammingError as e:\n",
    "    print('surgical_record Error is ' + str(e))\n",
    "    sys.exit()"
   ]
  },
  {
   "cell_type": "code",
   "execution_count": 20,
   "metadata": {},
   "outputs": [
    {
     "name": "stdout",
     "output_type": "stream",
     "text": [
      "(1873, 5)\n",
      "359\n"
     ]
    }
   ],
   "source": [
    "print(df_diagnostic_record.shape)\n",
    "print(df_diagnostic_record['patient_id'].nunique())"
   ]
  },
  {
   "cell_type": "code",
   "execution_count": 21,
   "metadata": {},
   "outputs": [
    {
     "data": {
      "text/plain": [
       "patient_id            False\n",
       "case_no                True\n",
       "record_date           False\n",
       "diagnostic_type       False\n",
       "diagnostic_content    False\n",
       "dtype: bool"
      ]
     },
     "execution_count": 21,
     "metadata": {},
     "output_type": "execute_result"
    }
   ],
   "source": [
    "#用来判断某列是否有缺失值\n",
    "df_diagnostic_record.isnull().any() "
   ]
  },
  {
   "cell_type": "code",
   "execution_count": 22,
   "metadata": {},
   "outputs": [
    {
     "data": {
      "text/html": [
       "<div>\n",
       "<style scoped>\n",
       "    .dataframe tbody tr th:only-of-type {\n",
       "        vertical-align: middle;\n",
       "    }\n",
       "\n",
       "    .dataframe tbody tr th {\n",
       "        vertical-align: top;\n",
       "    }\n",
       "\n",
       "    .dataframe thead th {\n",
       "        text-align: right;\n",
       "    }\n",
       "</style>\n",
       "<table border=\"1\" class=\"dataframe\">\n",
       "  <thead>\n",
       "    <tr style=\"text-align: right;\">\n",
       "      <th></th>\n",
       "      <th>patient_id</th>\n",
       "      <th>case_no</th>\n",
       "      <th>record_date</th>\n",
       "      <th>diagnostic_type</th>\n",
       "      <th>diagnostic_content</th>\n",
       "    </tr>\n",
       "  </thead>\n",
       "  <tbody>\n",
       "  </tbody>\n",
       "</table>\n",
       "</div>"
      ],
      "text/plain": [
       "Empty DataFrame\n",
       "Columns: [patient_id, case_no, record_date, diagnostic_type, diagnostic_content]\n",
       "Index: []"
      ]
     },
     "execution_count": 22,
     "metadata": {},
     "output_type": "execute_result"
    }
   ],
   "source": [
    "# 查看重复数据\n",
    "df_diagnostic_record[df_diagnostic_record.duplicated(subset=['patient_id','case_no','record_date','diagnostic_content'],keep='first')]"
   ]
  },
  {
   "cell_type": "code",
   "execution_count": 23,
   "metadata": {},
   "outputs": [],
   "source": [
    "writer=pd.ExcelWriter(project_path+'/data/pre_processed_raw_data/df_diagnostic_record.xlsx')\n",
    "df_diagnostic_record.to_excel(writer)\n",
    "writer.save()"
   ]
  },
  {
   "cell_type": "markdown",
   "metadata": {},
   "source": [
    "## 读取test_result数据表"
   ]
  },
  {
   "cell_type": "markdown",
   "metadata": {},
   "source": [
    "### test_record"
   ]
  },
  {
   "cell_type": "code",
   "execution_count": 24,
   "metadata": {},
   "outputs": [],
   "source": [
    "# 从数据库读入test_record数据\n",
    "try:\n",
    "    sql = 'select test_record_id,patient_id,case_no,test_date,clinical_diagnosis,sample_type,sample_time from test_record \\\n",
    "    UNION \\\n",
    "    select test_record_id,patient_id,case_no,test_date,clinical_diagnosis,sample_type,sample_time from ndyy_vpa_sxza_2.test_record;'\n",
    "    df_test_record = pd.read_sql(sql, conn)\n",
    "except MySQLDB.err.ProgrammingError as e:\n",
    "    print('surgical_record Error is ' + str(e))\n",
    "    sys.exit()"
   ]
  },
  {
   "cell_type": "code",
   "execution_count": 25,
   "metadata": {},
   "outputs": [
    {
     "name": "stdout",
     "output_type": "stream",
     "text": [
      "(9953, 7)\n",
      "364\n"
     ]
    }
   ],
   "source": [
    "print(df_test_record.shape)\n",
    "print(df_test_record['patient_id'].nunique())"
   ]
  },
  {
   "cell_type": "code",
   "execution_count": 26,
   "metadata": {},
   "outputs": [
    {
     "data": {
      "text/html": [
       "<div>\n",
       "<style scoped>\n",
       "    .dataframe tbody tr th:only-of-type {\n",
       "        vertical-align: middle;\n",
       "    }\n",
       "\n",
       "    .dataframe tbody tr th {\n",
       "        vertical-align: top;\n",
       "    }\n",
       "\n",
       "    .dataframe thead th {\n",
       "        text-align: right;\n",
       "    }\n",
       "</style>\n",
       "<table border=\"1\" class=\"dataframe\">\n",
       "  <thead>\n",
       "    <tr style=\"text-align: right;\">\n",
       "      <th></th>\n",
       "      <th>test_record_id</th>\n",
       "      <th>patient_id</th>\n",
       "      <th>case_no</th>\n",
       "      <th>test_date</th>\n",
       "      <th>clinical_diagnosis</th>\n",
       "      <th>sample_type</th>\n",
       "      <th>sample_time</th>\n",
       "    </tr>\n",
       "  </thead>\n",
       "  <tbody>\n",
       "    <tr>\n",
       "      <th>0</th>\n",
       "      <td>800001202207||B001||1</td>\n",
       "      <td>7033812</td>\n",
       "      <td>None</td>\n",
       "      <td>2018-01-09 09:47:00</td>\n",
       "      <td>1:双相性情感障碍</td>\n",
       "      <td>血清</td>\n",
       "      <td>2018-01-09 08:05:35</td>\n",
       "    </tr>\n",
       "    <tr>\n",
       "      <th>1</th>\n",
       "      <td>800001202207||B002||1</td>\n",
       "      <td>7033812</td>\n",
       "      <td>None</td>\n",
       "      <td>2018-01-09 09:47:00</td>\n",
       "      <td>1:双相性情感障碍</td>\n",
       "      <td>血清</td>\n",
       "      <td>2018-01-09 08:05:35</td>\n",
       "    </tr>\n",
       "    <tr>\n",
       "      <th>2</th>\n",
       "      <td>800001202207||B005||1</td>\n",
       "      <td>7033812</td>\n",
       "      <td>None</td>\n",
       "      <td>2018-01-09 09:47:00</td>\n",
       "      <td>1:双相性情感障碍</td>\n",
       "      <td>血清</td>\n",
       "      <td>2018-01-09 08:05:35</td>\n",
       "    </tr>\n",
       "    <tr>\n",
       "      <th>3</th>\n",
       "      <td>800001202207||B006||1</td>\n",
       "      <td>7033812</td>\n",
       "      <td>None</td>\n",
       "      <td>2018-01-09 09:47:00</td>\n",
       "      <td>1:双相性情感障碍</td>\n",
       "      <td>血清</td>\n",
       "      <td>2018-01-09 08:05:35</td>\n",
       "    </tr>\n",
       "    <tr>\n",
       "      <th>4</th>\n",
       "      <td>800001202207||B007||1</td>\n",
       "      <td>7033812</td>\n",
       "      <td>None</td>\n",
       "      <td>2018-01-09 09:47:00</td>\n",
       "      <td>1:双相性情感障碍</td>\n",
       "      <td>血清</td>\n",
       "      <td>2018-01-09 08:05:35</td>\n",
       "    </tr>\n",
       "    <tr>\n",
       "      <th>...</th>\n",
       "      <td>...</td>\n",
       "      <td>...</td>\n",
       "      <td>...</td>\n",
       "      <td>...</td>\n",
       "      <td>...</td>\n",
       "      <td>...</td>\n",
       "      <td>...</td>\n",
       "    </tr>\n",
       "    <tr>\n",
       "      <th>9948</th>\n",
       "      <td>800014409316||B008||1</td>\n",
       "      <td>8004050</td>\n",
       "      <td>None</td>\n",
       "      <td>2021-12-24 11:55:00</td>\n",
       "      <td>1:双相情感障碍  2:锥体外系综合征</td>\n",
       "      <td>血清</td>\n",
       "      <td>2021-12-24 09:20:18</td>\n",
       "    </tr>\n",
       "    <tr>\n",
       "      <th>9949</th>\n",
       "      <td>800014409316||B010||1</td>\n",
       "      <td>8004050</td>\n",
       "      <td>None</td>\n",
       "      <td>2021-12-24 11:55:00</td>\n",
       "      <td>1:双相情感障碍  2:锥体外系综合征</td>\n",
       "      <td>血清</td>\n",
       "      <td>2021-12-24 09:20:47</td>\n",
       "    </tr>\n",
       "    <tr>\n",
       "      <th>9950</th>\n",
       "      <td>800014409316||B178||1</td>\n",
       "      <td>8004050</td>\n",
       "      <td>None</td>\n",
       "      <td>2021-12-24 11:55:00</td>\n",
       "      <td>1:双相情感障碍  2:锥体外系综合征</td>\n",
       "      <td>血清</td>\n",
       "      <td>2021-12-24 09:20:47</td>\n",
       "    </tr>\n",
       "    <tr>\n",
       "      <th>9951</th>\n",
       "      <td>800014409317||A083||1</td>\n",
       "      <td>8004050</td>\n",
       "      <td>None</td>\n",
       "      <td>2021-12-24 09:42:00</td>\n",
       "      <td>1:双相情感障碍  2:锥体外系综合征</td>\n",
       "      <td>静脉血</td>\n",
       "      <td>2021-12-24 09:20:18</td>\n",
       "    </tr>\n",
       "    <tr>\n",
       "      <th>9952</th>\n",
       "      <td>800014409318||Y006||1</td>\n",
       "      <td>8004050</td>\n",
       "      <td>None</td>\n",
       "      <td>2021-12-24 11:17:00</td>\n",
       "      <td>1:双相情感障碍  2:锥体外系综合征</td>\n",
       "      <td>血浆</td>\n",
       "      <td>2021-12-24 09:20:18</td>\n",
       "    </tr>\n",
       "  </tbody>\n",
       "</table>\n",
       "<p>9953 rows × 7 columns</p>\n",
       "</div>"
      ],
      "text/plain": [
       "             test_record_id patient_id case_no           test_date  \\\n",
       "0     800001202207||B001||1    7033812    None 2018-01-09 09:47:00   \n",
       "1     800001202207||B002||1    7033812    None 2018-01-09 09:47:00   \n",
       "2     800001202207||B005||1    7033812    None 2018-01-09 09:47:00   \n",
       "3     800001202207||B006||1    7033812    None 2018-01-09 09:47:00   \n",
       "4     800001202207||B007||1    7033812    None 2018-01-09 09:47:00   \n",
       "...                     ...        ...     ...                 ...   \n",
       "9948  800014409316||B008||1    8004050    None 2021-12-24 11:55:00   \n",
       "9949  800014409316||B010||1    8004050    None 2021-12-24 11:55:00   \n",
       "9950  800014409316||B178||1    8004050    None 2021-12-24 11:55:00   \n",
       "9951  800014409317||A083||1    8004050    None 2021-12-24 09:42:00   \n",
       "9952  800014409318||Y006||1    8004050    None 2021-12-24 11:17:00   \n",
       "\n",
       "         clinical_diagnosis sample_type         sample_time  \n",
       "0                1:双相性情感障碍           血清 2018-01-09 08:05:35  \n",
       "1                1:双相性情感障碍           血清 2018-01-09 08:05:35  \n",
       "2                1:双相性情感障碍           血清 2018-01-09 08:05:35  \n",
       "3                1:双相性情感障碍           血清 2018-01-09 08:05:35  \n",
       "4                1:双相性情感障碍           血清 2018-01-09 08:05:35  \n",
       "...                     ...         ...                 ...  \n",
       "9948   1:双相情感障碍  2:锥体外系综合征           血清 2021-12-24 09:20:18  \n",
       "9949   1:双相情感障碍  2:锥体外系综合征           血清 2021-12-24 09:20:47  \n",
       "9950   1:双相情感障碍  2:锥体外系综合征           血清 2021-12-24 09:20:47  \n",
       "9951   1:双相情感障碍  2:锥体外系综合征          静脉血 2021-12-24 09:20:18  \n",
       "9952   1:双相情感障碍  2:锥体外系综合征           血浆 2021-12-24 09:20:18  \n",
       "\n",
       "[9953 rows x 7 columns]"
      ]
     },
     "execution_count": 26,
     "metadata": {},
     "output_type": "execute_result"
    }
   ],
   "source": [
    "df_test_record"
   ]
  },
  {
   "cell_type": "code",
   "execution_count": 27,
   "metadata": {},
   "outputs": [
    {
     "data": {
      "text/plain": [
       "test_record_id        False\n",
       "patient_id            False\n",
       "case_no                True\n",
       "test_date             False\n",
       "clinical_diagnosis     True\n",
       "sample_type           False\n",
       "sample_time            True\n",
       "dtype: bool"
      ]
     },
     "execution_count": 27,
     "metadata": {},
     "output_type": "execute_result"
    }
   ],
   "source": [
    "#用来判断某列是否有缺失值\n",
    "df_test_record.isnull().any() "
   ]
  },
  {
   "cell_type": "code",
   "execution_count": 28,
   "metadata": {},
   "outputs": [],
   "source": [
    "# 保存test_record\n",
    "df_test_record.to_excel(project_path+'/data/pre_processed_raw_data/df_test_record.xlsx')"
   ]
  },
  {
   "cell_type": "markdown",
   "metadata": {},
   "source": [
    "### test_result"
   ]
  },
  {
   "cell_type": "code",
   "execution_count": 29,
   "metadata": {},
   "outputs": [],
   "source": [
    "# 从数据库读入test_result数据\n",
    "try:\n",
    "    sql = 'select test_record_id,project_name,test_result,result_unit,is_normal,refer_scope,synonym from test_result\\\n",
    "    UNION \\\n",
    "    select test_record_id,project_name,test_result,result_unit,is_normal,refer_scope,synonym from ndyy_vpa_sxza_2.test_result;'\n",
    "    df_test_result = pd.read_sql(sql, conn)\n",
    "except MySQLDB.err.ProgrammingError as e:\n",
    "    print('surgical_record Error is ' + str(e))\n",
    "    sys.exit()"
   ]
  },
  {
   "cell_type": "code",
   "execution_count": 30,
   "metadata": {},
   "outputs": [
    {
     "name": "stdout",
     "output_type": "stream",
     "text": [
      "(61713, 7)\n"
     ]
    }
   ],
   "source": [
    "print(df_test_result.shape)"
   ]
  },
  {
   "cell_type": "code",
   "execution_count": 31,
   "metadata": {},
   "outputs": [
    {
     "data": {
      "text/plain": [
       "test_record_id    False\n",
       "project_name      False\n",
       "test_result       False\n",
       "result_unit        True\n",
       "is_normal          True\n",
       "refer_scope        True\n",
       "synonym            True\n",
       "dtype: bool"
      ]
     },
     "execution_count": 31,
     "metadata": {},
     "output_type": "execute_result"
    }
   ],
   "source": [
    "#用来判断某列是否有缺失值\n",
    "df_test_result.isnull().any() "
   ]
  },
  {
   "cell_type": "code",
   "execution_count": 32,
   "metadata": {},
   "outputs": [
    {
     "data": {
      "text/html": [
       "<div>\n",
       "<style scoped>\n",
       "    .dataframe tbody tr th:only-of-type {\n",
       "        vertical-align: middle;\n",
       "    }\n",
       "\n",
       "    .dataframe tbody tr th {\n",
       "        vertical-align: top;\n",
       "    }\n",
       "\n",
       "    .dataframe thead th {\n",
       "        text-align: right;\n",
       "    }\n",
       "</style>\n",
       "<table border=\"1\" class=\"dataframe\">\n",
       "  <thead>\n",
       "    <tr style=\"text-align: right;\">\n",
       "      <th></th>\n",
       "      <th>test_record_id</th>\n",
       "      <th>project_name</th>\n",
       "      <th>test_result</th>\n",
       "      <th>result_unit</th>\n",
       "      <th>is_normal</th>\n",
       "      <th>refer_scope</th>\n",
       "      <th>synonym</th>\n",
       "    </tr>\n",
       "  </thead>\n",
       "  <tbody>\n",
       "    <tr>\n",
       "      <th>59467</th>\n",
       "      <td>800013465956||B042||1</td>\n",
       "      <td>免疫球蛋白</td>\n",
       "      <td>阴性(-)</td>\n",
       "      <td>None</td>\n",
       "      <td>N</td>\n",
       "      <td>阴性(-)</td>\n",
       "      <td>IgA_gd</td>\n",
       "    </tr>\n",
       "    <tr>\n",
       "      <th>59468</th>\n",
       "      <td>800013465956||B042||1</td>\n",
       "      <td>免疫球蛋白</td>\n",
       "      <td>阴性(-)</td>\n",
       "      <td>None</td>\n",
       "      <td>N</td>\n",
       "      <td>阴性(-)</td>\n",
       "      <td>IgM_gd</td>\n",
       "    </tr>\n",
       "  </tbody>\n",
       "</table>\n",
       "</div>"
      ],
      "text/plain": [
       "              test_record_id project_name test_result result_unit is_normal  \\\n",
       "59467  800013465956||B042||1        免疫球蛋白       阴性(-)        None         N   \n",
       "59468  800013465956||B042||1        免疫球蛋白       阴性(-)        None         N   \n",
       "\n",
       "      refer_scope synonym  \n",
       "59467       阴性(-)  IgA_gd  \n",
       "59468       阴性(-)  IgM_gd  "
      ]
     },
     "execution_count": 32,
     "metadata": {},
     "output_type": "execute_result"
    }
   ],
   "source": [
    "# 查看重复数据\n",
    "df_test_result[df_test_result.duplicated(subset=['test_record_id','project_name','test_result'],keep='first')]"
   ]
  },
  {
   "cell_type": "code",
   "execution_count": 33,
   "metadata": {},
   "outputs": [],
   "source": [
    "# 删除test_result数据\n",
    "df_test_result=df_test_result.drop_duplicates(subset=['test_record_id','project_name','test_result'],keep='first')\n",
    "df_test_result=df_test_result.reset_index(drop=True)"
   ]
  },
  {
   "cell_type": "code",
   "execution_count": 34,
   "metadata": {},
   "outputs": [
    {
     "name": "stdout",
     "output_type": "stream",
     "text": [
      "(61711, 7)\n"
     ]
    }
   ],
   "source": [
    "print(df_test_result.shape)"
   ]
  },
  {
   "cell_type": "code",
   "execution_count": 35,
   "metadata": {},
   "outputs": [],
   "source": [
    "# 删除<>号\n",
    "df_test_result=filter_spec_character(df_test_result,'test_result')"
   ]
  },
  {
   "cell_type": "code",
   "execution_count": 36,
   "metadata": {},
   "outputs": [
    {
     "name": "stdout",
     "output_type": "stream",
     "text": [
      "(61711, 7)\n"
     ]
    }
   ],
   "source": [
    "print(df_test_result.shape)"
   ]
  },
  {
   "cell_type": "code",
   "execution_count": 37,
   "metadata": {},
   "outputs": [],
   "source": [
    "# 保存test_result\n",
    "df_test_result.to_excel(project_path+'/data/pre_processed_raw_data/df_test_result.xlsx')"
   ]
  },
  {
   "cell_type": "markdown",
   "metadata": {},
   "source": [
    "### test_record+test_result"
   ]
  },
  {
   "cell_type": "code",
   "execution_count": 38,
   "metadata": {},
   "outputs": [],
   "source": [
    "df_test=pd.merge(df_test_record,df_test_result,on=['test_record_id'],how='inner')"
   ]
  },
  {
   "cell_type": "code",
   "execution_count": 39,
   "metadata": {},
   "outputs": [
    {
     "data": {
      "text/html": [
       "<div>\n",
       "<style scoped>\n",
       "    .dataframe tbody tr th:only-of-type {\n",
       "        vertical-align: middle;\n",
       "    }\n",
       "\n",
       "    .dataframe tbody tr th {\n",
       "        vertical-align: top;\n",
       "    }\n",
       "\n",
       "    .dataframe thead th {\n",
       "        text-align: right;\n",
       "    }\n",
       "</style>\n",
       "<table border=\"1\" class=\"dataframe\">\n",
       "  <thead>\n",
       "    <tr style=\"text-align: right;\">\n",
       "      <th></th>\n",
       "      <th>test_record_id</th>\n",
       "      <th>patient_id</th>\n",
       "      <th>case_no</th>\n",
       "      <th>test_date</th>\n",
       "      <th>clinical_diagnosis</th>\n",
       "      <th>sample_type</th>\n",
       "      <th>sample_time</th>\n",
       "      <th>project_name</th>\n",
       "      <th>test_result</th>\n",
       "      <th>result_unit</th>\n",
       "      <th>is_normal</th>\n",
       "      <th>refer_scope</th>\n",
       "      <th>synonym</th>\n",
       "    </tr>\n",
       "  </thead>\n",
       "  <tbody>\n",
       "    <tr>\n",
       "      <th>0</th>\n",
       "      <td>800001202207||B001||1</td>\n",
       "      <td>7033812</td>\n",
       "      <td>None</td>\n",
       "      <td>2018-01-09 09:47:00</td>\n",
       "      <td>1:双相性情感障碍</td>\n",
       "      <td>血清</td>\n",
       "      <td>2018-01-09 08:05:35</td>\n",
       "      <td>总二氧化碳</td>\n",
       "      <td>28.7</td>\n",
       "      <td>mmol/L</td>\n",
       "      <td>N</td>\n",
       "      <td>21.0-31.0</td>\n",
       "      <td>TCO2</td>\n",
       "    </tr>\n",
       "    <tr>\n",
       "      <th>1</th>\n",
       "      <td>800001202207||B001||1</td>\n",
       "      <td>7033812</td>\n",
       "      <td>None</td>\n",
       "      <td>2018-01-09 09:47:00</td>\n",
       "      <td>1:双相性情感障碍</td>\n",
       "      <td>血清</td>\n",
       "      <td>2018-01-09 08:05:35</td>\n",
       "      <td>尿酸</td>\n",
       "      <td>364</td>\n",
       "      <td>μmol/L</td>\n",
       "      <td>N</td>\n",
       "      <td>208-428</td>\n",
       "      <td>UA</td>\n",
       "    </tr>\n",
       "    <tr>\n",
       "      <th>2</th>\n",
       "      <td>800001202207||B001||1</td>\n",
       "      <td>7033812</td>\n",
       "      <td>None</td>\n",
       "      <td>2018-01-09 09:47:00</td>\n",
       "      <td>1:双相性情感障碍</td>\n",
       "      <td>血清</td>\n",
       "      <td>2018-01-09 08:05:35</td>\n",
       "      <td>肌酐</td>\n",
       "      <td>86</td>\n",
       "      <td>μmol/L</td>\n",
       "      <td>N</td>\n",
       "      <td>53-123</td>\n",
       "      <td>CR</td>\n",
       "    </tr>\n",
       "    <tr>\n",
       "      <th>3</th>\n",
       "      <td>800001202207||B001||1</td>\n",
       "      <td>7033812</td>\n",
       "      <td>None</td>\n",
       "      <td>2018-01-09 09:47:00</td>\n",
       "      <td>1:双相性情感障碍</td>\n",
       "      <td>血清</td>\n",
       "      <td>2018-01-09 08:05:35</td>\n",
       "      <td>尿素</td>\n",
       "      <td>4.7</td>\n",
       "      <td>mmol/L</td>\n",
       "      <td>N</td>\n",
       "      <td>2.8-7.2</td>\n",
       "      <td>UREA</td>\n",
       "    </tr>\n",
       "    <tr>\n",
       "      <th>4</th>\n",
       "      <td>800001202207||B002||1</td>\n",
       "      <td>7033812</td>\n",
       "      <td>None</td>\n",
       "      <td>2018-01-09 09:47:00</td>\n",
       "      <td>1:双相性情感障碍</td>\n",
       "      <td>血清</td>\n",
       "      <td>2018-01-09 08:05:35</td>\n",
       "      <td>天门冬氨酸氨基转移酶</td>\n",
       "      <td>25</td>\n",
       "      <td>U/L</td>\n",
       "      <td>N</td>\n",
       "      <td>15-40</td>\n",
       "      <td>AST</td>\n",
       "    </tr>\n",
       "  </tbody>\n",
       "</table>\n",
       "</div>"
      ],
      "text/plain": [
       "          test_record_id patient_id case_no           test_date  \\\n",
       "0  800001202207||B001||1    7033812    None 2018-01-09 09:47:00   \n",
       "1  800001202207||B001||1    7033812    None 2018-01-09 09:47:00   \n",
       "2  800001202207||B001||1    7033812    None 2018-01-09 09:47:00   \n",
       "3  800001202207||B001||1    7033812    None 2018-01-09 09:47:00   \n",
       "4  800001202207||B002||1    7033812    None 2018-01-09 09:47:00   \n",
       "\n",
       "  clinical_diagnosis sample_type         sample_time project_name test_result  \\\n",
       "0         1:双相性情感障碍           血清 2018-01-09 08:05:35        总二氧化碳        28.7   \n",
       "1         1:双相性情感障碍           血清 2018-01-09 08:05:35           尿酸         364   \n",
       "2         1:双相性情感障碍           血清 2018-01-09 08:05:35           肌酐          86   \n",
       "3         1:双相性情感障碍           血清 2018-01-09 08:05:35           尿素         4.7   \n",
       "4         1:双相性情感障碍           血清 2018-01-09 08:05:35   天门冬氨酸氨基转移酶          25   \n",
       "\n",
       "  result_unit is_normal refer_scope synonym  \n",
       "0      mmol/L         N   21.0-31.0    TCO2  \n",
       "1      μmol/L         N     208-428      UA  \n",
       "2      μmol/L         N      53-123      CR  \n",
       "3      mmol/L         N     2.8-7.2    UREA  \n",
       "4         U/L         N       15-40     AST  "
      ]
     },
     "execution_count": 39,
     "metadata": {},
     "output_type": "execute_result"
    }
   ],
   "source": [
    "df_test.head()"
   ]
  },
  {
   "cell_type": "code",
   "execution_count": 40,
   "metadata": {},
   "outputs": [
    {
     "name": "stdout",
     "output_type": "stream",
     "text": [
      "(61711, 13)\n",
      "364\n"
     ]
    }
   ],
   "source": [
    "print(df_test.shape)\n",
    "print(df_test['patient_id'].nunique())"
   ]
  },
  {
   "cell_type": "code",
   "execution_count": 41,
   "metadata": {},
   "outputs": [],
   "source": [
    "# 保存检测数据\n",
    "df_test.to_excel(project_path+'/data/pre_processed_raw_data/df_test.xlsx')"
   ]
  },
  {
   "cell_type": "markdown",
   "metadata": {},
   "source": [
    "## 体检数据"
   ]
  },
  {
   "cell_type": "code",
   "execution_count": 42,
   "metadata": {},
   "outputs": [],
   "source": [
    "# 从数据库读入体检exam数据\n",
    "try:\n",
    "    sql = 'select patientId,examDateTime,normalInd,description from exam_record \\\n",
    "        UNION select patientId,examDateTime,normalInd,description from ndyy_vpa_sxza_2.exam_record;'\n",
    "    df_exam = pd.read_sql(sql, conn)\n",
    "except MySQLDB.err.ProgrammingError as e:\n",
    "    print('surgical_record Error is ' + str(e))\n",
    "    sys.exit()"
   ]
  },
  {
   "cell_type": "code",
   "execution_count": 43,
   "metadata": {},
   "outputs": [],
   "source": [
    "# 删除空数据\n",
    "df_exam=df_exam[df_exam['description'].notnull()].reset_index(drop=True)"
   ]
  },
  {
   "cell_type": "code",
   "execution_count": 44,
   "metadata": {},
   "outputs": [],
   "source": [
    "# 重命名\n",
    "df_exam=df_exam.rename(columns={'patientId':'patient_id',\n",
    "                       'examDateTime':'exam_time'})"
   ]
  },
  {
   "cell_type": "code",
   "execution_count": 45,
   "metadata": {},
   "outputs": [
    {
     "name": "stdout",
     "output_type": "stream",
     "text": [
      "(429, 4)\n",
      "192\n"
     ]
    }
   ],
   "source": [
    "print(df_exam.shape)\n",
    "print(df_exam['patient_id'].nunique())"
   ]
  },
  {
   "cell_type": "code",
   "execution_count": 46,
   "metadata": {},
   "outputs": [
    {
     "data": {
      "text/html": [
       "<div>\n",
       "<style scoped>\n",
       "    .dataframe tbody tr th:only-of-type {\n",
       "        vertical-align: middle;\n",
       "    }\n",
       "\n",
       "    .dataframe tbody tr th {\n",
       "        vertical-align: top;\n",
       "    }\n",
       "\n",
       "    .dataframe thead th {\n",
       "        text-align: right;\n",
       "    }\n",
       "</style>\n",
       "<table border=\"1\" class=\"dataframe\">\n",
       "  <thead>\n",
       "    <tr style=\"text-align: right;\">\n",
       "      <th></th>\n",
       "      <th>patient_id</th>\n",
       "      <th>exam_time</th>\n",
       "      <th>normalInd</th>\n",
       "      <th>description</th>\n",
       "    </tr>\n",
       "  </thead>\n",
       "  <tbody>\n",
       "    <tr>\n",
       "      <th>0</th>\n",
       "      <td>8242965</td>\n",
       "      <td>2020-09-01 00:33:40</td>\n",
       "      <td>阴性</td>\n",
       "      <td>两侧胸廓对称、所见骨质未见异常；两侧肺野透过度正常，未见异常密度增高影；两肺纹理略增粗、增多...</td>\n",
       "    </tr>\n",
       "    <tr>\n",
       "      <th>1</th>\n",
       "      <td>8242965</td>\n",
       "      <td>2020-09-01 00:33:40</td>\n",
       "      <td>阳性</td>\n",
       "      <td>双肾大小形态正常，轮廓清晰，包膜完整，实质回声均匀，集合系统回声正常，双侧输尿管不扩张。膀胱...</td>\n",
       "    </tr>\n",
       "    <tr>\n",
       "      <th>2</th>\n",
       "      <td>7006940</td>\n",
       "      <td>2020-09-01 00:33:40</td>\n",
       "      <td>阳性</td>\n",
       "      <td>主动脉扩张、迂曲、延长，主动脉结向左突出，见弧状钙化影；两侧肺野透光度正常，未见明确实变影；...</td>\n",
       "    </tr>\n",
       "    <tr>\n",
       "      <th>3</th>\n",
       "      <td>7006940</td>\n",
       "      <td>2020-09-01 00:33:40</td>\n",
       "      <td>阳性</td>\n",
       "      <td>肝脏形态大小正常，包膜完整光滑，肝内实质回声细密稍增强，肝内血管及胆管显示欠清晰，门静脉、胆...</td>\n",
       "    </tr>\n",
       "    <tr>\n",
       "      <th>4</th>\n",
       "      <td>8413999</td>\n",
       "      <td>2020-09-03 00:33:40</td>\n",
       "      <td>阴性</td>\n",
       "      <td>两侧胸廓对称、所见骨质未见异常；两侧肺野透过度正常，未见异常密度增高影；两肺纹理略增粗、增多...</td>\n",
       "    </tr>\n",
       "    <tr>\n",
       "      <th>...</th>\n",
       "      <td>...</td>\n",
       "      <td>...</td>\n",
       "      <td>...</td>\n",
       "      <td>...</td>\n",
       "    </tr>\n",
       "    <tr>\n",
       "      <th>424</th>\n",
       "      <td>9080293</td>\n",
       "      <td>2021-10-22 10:32:30</td>\n",
       "      <td>阳性</td>\n",
       "      <td>头部平扫示双侧大脑半球对称，灰白质对比正常，脑实质内未见局灶性异常密度影。各脑室、脑...</td>\n",
       "    </tr>\n",
       "    <tr>\n",
       "      <th>425</th>\n",
       "      <td>7692024</td>\n",
       "      <td>2021-12-07 15:07:35</td>\n",
       "      <td>阴性</td>\n",
       "      <td>两侧胸廓对称、所见骨质未见异常；两侧肺野透过度正常，未见异常密度增高影；两肺纹理略增粗、增多...</td>\n",
       "    </tr>\n",
       "    <tr>\n",
       "      <th>426</th>\n",
       "      <td>7692024</td>\n",
       "      <td>2021-12-09 08:38:12</td>\n",
       "      <td>阴性</td>\n",
       "      <td>肝脏形态大小正常，包膜完整光滑，下缘角锐利，肝内实质回声均匀，肝内血管及胆管显示清晰，走行正...</td>\n",
       "    </tr>\n",
       "    <tr>\n",
       "      <th>427</th>\n",
       "      <td>8505473</td>\n",
       "      <td>2021-12-13 15:10:42</td>\n",
       "      <td>阴性</td>\n",
       "      <td>两侧胸廓对称、所见骨质未见异常；两侧肺野透过度正常，未见异常密度增高影；两肺纹理清晰，无增粗...</td>\n",
       "    </tr>\n",
       "    <tr>\n",
       "      <th>428</th>\n",
       "      <td>8505473</td>\n",
       "      <td>2021-12-16 08:50:13</td>\n",
       "      <td>阳性</td>\n",
       "      <td>肝脏形态大小正常，包膜完整光滑，下缘角锐利，肝内实质回声分布均匀，肝内血管及胆管显示清晰，走...</td>\n",
       "    </tr>\n",
       "  </tbody>\n",
       "</table>\n",
       "<p>429 rows × 4 columns</p>\n",
       "</div>"
      ],
      "text/plain": [
       "    patient_id           exam_time normalInd  \\\n",
       "0      8242965 2020-09-01 00:33:40        阴性   \n",
       "1      8242965 2020-09-01 00:33:40        阳性   \n",
       "2      7006940 2020-09-01 00:33:40        阳性   \n",
       "3      7006940 2020-09-01 00:33:40        阳性   \n",
       "4      8413999 2020-09-03 00:33:40        阴性   \n",
       "..         ...                 ...       ...   \n",
       "424    9080293 2021-10-22 10:32:30        阳性   \n",
       "425    7692024 2021-12-07 15:07:35        阴性   \n",
       "426    7692024 2021-12-09 08:38:12        阴性   \n",
       "427    8505473 2021-12-13 15:10:42        阴性   \n",
       "428    8505473 2021-12-16 08:50:13        阳性   \n",
       "\n",
       "                                           description  \n",
       "0    两侧胸廓对称、所见骨质未见异常；两侧肺野透过度正常，未见异常密度增高影；两肺纹理略增粗、增多...  \n",
       "1    双肾大小形态正常，轮廓清晰，包膜完整，实质回声均匀，集合系统回声正常，双侧输尿管不扩张。膀胱...  \n",
       "2    主动脉扩张、迂曲、延长，主动脉结向左突出，见弧状钙化影；两侧肺野透光度正常，未见明确实变影；...  \n",
       "3    肝脏形态大小正常，包膜完整光滑，肝内实质回声细密稍增强，肝内血管及胆管显示欠清晰，门静脉、胆...  \n",
       "4    两侧胸廓对称、所见骨质未见异常；两侧肺野透过度正常，未见异常密度增高影；两肺纹理略增粗、增多...  \n",
       "..                                                 ...  \n",
       "424      头部平扫示双侧大脑半球对称，灰白质对比正常，脑实质内未见局灶性异常密度影。各脑室、脑...  \n",
       "425  两侧胸廓对称、所见骨质未见异常；两侧肺野透过度正常，未见异常密度增高影；两肺纹理略增粗、增多...  \n",
       "426  肝脏形态大小正常，包膜完整光滑，下缘角锐利，肝内实质回声均匀，肝内血管及胆管显示清晰，走行正...  \n",
       "427  两侧胸廓对称、所见骨质未见异常；两侧肺野透过度正常，未见异常密度增高影；两肺纹理清晰，无增粗...  \n",
       "428  肝脏形态大小正常，包膜完整光滑，下缘角锐利，肝内实质回声分布均匀，肝内血管及胆管显示清晰，走...  \n",
       "\n",
       "[429 rows x 4 columns]"
      ]
     },
     "execution_count": 46,
     "metadata": {},
     "output_type": "execute_result"
    }
   ],
   "source": [
    "df_exam"
   ]
  },
  {
   "cell_type": "code",
   "execution_count": 47,
   "metadata": {},
   "outputs": [],
   "source": [
    "df_exam.to_excel(project_path+'/data/pre_processed_raw_data/df_exam.xlsx')"
   ]
  },
  {
   "cell_type": "markdown",
   "metadata": {},
   "source": [
    "## 提取人口学特征"
   ]
  },
  {
   "cell_type": "markdown",
   "metadata": {},
   "source": [
    "### gender、race"
   ]
  },
  {
   "cell_type": "code",
   "execution_count": 48,
   "metadata": {},
   "outputs": [],
   "source": [
    "# 从patient_info提取gender,race,birth_year\n",
    "try:\n",
    "    sql = 'select patient_id,gender,race,birth_year from patient_info \\\n",
    "        UNION select patient_id,gender,race,birth_year from ndyy_vpa_sxza_2.patient_info;'\n",
    "    df_patient_info = pd.read_sql(sql, conn)\n",
    "except MySQLDB.err.ProgrammingError as e:\n",
    "    print('surgical_record Error is ' + str(e))\n",
    "    sys.exit()"
   ]
  },
  {
   "cell_type": "code",
   "execution_count": 49,
   "metadata": {},
   "outputs": [
    {
     "name": "stdout",
     "output_type": "stream",
     "text": [
      "(364, 4)\n",
      "364\n"
     ]
    }
   ],
   "source": [
    "print(df_patient_info.shape)\n",
    "print(df_patient_info['patient_id'].nunique())"
   ]
  },
  {
   "cell_type": "code",
   "execution_count": 50,
   "metadata": {},
   "outputs": [],
   "source": [
    "df_patient_info['gender']=df_patient_info['gender'].apply(lambda x: 1 if re.match('男',x) else 0)"
   ]
  },
  {
   "cell_type": "code",
   "execution_count": 51,
   "metadata": {},
   "outputs": [
    {
     "data": {
      "text/plain": [
       "patient_id    False\n",
       "gender        False\n",
       "race           True\n",
       "birth_year    False\n",
       "dtype: bool"
      ]
     },
     "execution_count": 51,
     "metadata": {},
     "output_type": "execute_result"
    }
   ],
   "source": [
    "#用来判断某列是否有缺失值\n",
    "df_patient_info.isnull().any() "
   ]
  },
  {
   "cell_type": "code",
   "execution_count": 52,
   "metadata": {},
   "outputs": [
    {
     "data": {
      "text/html": [
       "<div>\n",
       "<style scoped>\n",
       "    .dataframe tbody tr th:only-of-type {\n",
       "        vertical-align: middle;\n",
       "    }\n",
       "\n",
       "    .dataframe tbody tr th {\n",
       "        vertical-align: top;\n",
       "    }\n",
       "\n",
       "    .dataframe thead th {\n",
       "        text-align: right;\n",
       "    }\n",
       "</style>\n",
       "<table border=\"1\" class=\"dataframe\">\n",
       "  <thead>\n",
       "    <tr style=\"text-align: right;\">\n",
       "      <th></th>\n",
       "      <th>patient_id</th>\n",
       "      <th>gender</th>\n",
       "      <th>race</th>\n",
       "      <th>birth_year</th>\n",
       "    </tr>\n",
       "  </thead>\n",
       "  <tbody>\n",
       "  </tbody>\n",
       "</table>\n",
       "</div>"
      ],
      "text/plain": [
       "Empty DataFrame\n",
       "Columns: [patient_id, gender, race, birth_year]\n",
       "Index: []"
      ]
     },
     "execution_count": 52,
     "metadata": {},
     "output_type": "execute_result"
    }
   ],
   "source": [
    "# 查看重复数据\n",
    "df_patient_info[df_patient_info.duplicated(subset=['patient_id','gender','race'],keep='first')]"
   ]
  },
  {
   "cell_type": "code",
   "execution_count": 53,
   "metadata": {},
   "outputs": [
    {
     "name": "stdout",
     "output_type": "stream",
     "text": [
      "(364, 4)\n",
      "364\n"
     ]
    }
   ],
   "source": [
    "print(df_patient_info.shape)\n",
    "print(df_patient_info['patient_id'].nunique())"
   ]
  },
  {
   "cell_type": "code",
   "execution_count": 54,
   "metadata": {},
   "outputs": [],
   "source": [
    "df_patient_info.to_excel(project_path+'/data/pre_processed_raw_data/人口学特征/df_patient_info.xlsx')"
   ]
  },
  {
   "cell_type": "markdown",
   "metadata": {},
   "source": [
    "### age"
   ]
  },
  {
   "cell_type": "code",
   "execution_count": 55,
   "metadata": {},
   "outputs": [],
   "source": [
    "df_age=df_inp_record[['patient_id','case_no','age']]"
   ]
  },
  {
   "cell_type": "code",
   "execution_count": 56,
   "metadata": {},
   "outputs": [
    {
     "name": "stdout",
     "output_type": "stream",
     "text": [
      "(241, 3)\n",
      "218\n"
     ]
    }
   ],
   "source": [
    "print(df_age.shape)\n",
    "print(df_age['patient_id'].nunique())"
   ]
  },
  {
   "cell_type": "code",
   "execution_count": 57,
   "metadata": {},
   "outputs": [
    {
     "data": {
      "text/html": [
       "<div>\n",
       "<style scoped>\n",
       "    .dataframe tbody tr th:only-of-type {\n",
       "        vertical-align: middle;\n",
       "    }\n",
       "\n",
       "    .dataframe tbody tr th {\n",
       "        vertical-align: top;\n",
       "    }\n",
       "\n",
       "    .dataframe thead th {\n",
       "        text-align: right;\n",
       "    }\n",
       "</style>\n",
       "<table border=\"1\" class=\"dataframe\">\n",
       "  <thead>\n",
       "    <tr style=\"text-align: right;\">\n",
       "      <th></th>\n",
       "      <th>patient_id</th>\n",
       "      <th>case_no</th>\n",
       "      <th>age</th>\n",
       "    </tr>\n",
       "  </thead>\n",
       "  <tbody>\n",
       "    <tr>\n",
       "      <th>0</th>\n",
       "      <td>6873870</td>\n",
       "      <td>10001302</td>\n",
       "      <td>28</td>\n",
       "    </tr>\n",
       "    <tr>\n",
       "      <th>1</th>\n",
       "      <td>547307</td>\n",
       "      <td>10005574</td>\n",
       "      <td>25</td>\n",
       "    </tr>\n",
       "    <tr>\n",
       "      <th>2</th>\n",
       "      <td>6949939</td>\n",
       "      <td>10019847</td>\n",
       "      <td>27</td>\n",
       "    </tr>\n",
       "    <tr>\n",
       "      <th>3</th>\n",
       "      <td>7765586</td>\n",
       "      <td>10024628</td>\n",
       "      <td>16</td>\n",
       "    </tr>\n",
       "    <tr>\n",
       "      <th>4</th>\n",
       "      <td>369329</td>\n",
       "      <td>10028911</td>\n",
       "      <td>33</td>\n",
       "    </tr>\n",
       "    <tr>\n",
       "      <th>...</th>\n",
       "      <td>...</td>\n",
       "      <td>...</td>\n",
       "      <td>...</td>\n",
       "    </tr>\n",
       "    <tr>\n",
       "      <th>236</th>\n",
       "      <td>9080293</td>\n",
       "      <td>14400275</td>\n",
       "      <td>24</td>\n",
       "    </tr>\n",
       "    <tr>\n",
       "      <th>237</th>\n",
       "      <td>9424074</td>\n",
       "      <td>14701280</td>\n",
       "      <td>27</td>\n",
       "    </tr>\n",
       "    <tr>\n",
       "      <th>238</th>\n",
       "      <td>9442416</td>\n",
       "      <td>14712892</td>\n",
       "      <td>25</td>\n",
       "    </tr>\n",
       "    <tr>\n",
       "      <th>239</th>\n",
       "      <td>7692024</td>\n",
       "      <td>14900947</td>\n",
       "      <td>21</td>\n",
       "    </tr>\n",
       "    <tr>\n",
       "      <th>240</th>\n",
       "      <td>8505473</td>\n",
       "      <td>15026052</td>\n",
       "      <td>25</td>\n",
       "    </tr>\n",
       "  </tbody>\n",
       "</table>\n",
       "<p>241 rows × 3 columns</p>\n",
       "</div>"
      ],
      "text/plain": [
       "    patient_id   case_no  age\n",
       "0      6873870  10001302   28\n",
       "1       547307  10005574   25\n",
       "2      6949939  10019847   27\n",
       "3      7765586  10024628   16\n",
       "4       369329  10028911   33\n",
       "..         ...       ...  ...\n",
       "236    9080293  14400275   24\n",
       "237    9424074  14701280   27\n",
       "238    9442416  14712892   25\n",
       "239    7692024  14900947   21\n",
       "240    8505473  15026052   25\n",
       "\n",
       "[241 rows x 3 columns]"
      ]
     },
     "execution_count": 57,
     "metadata": {},
     "output_type": "execute_result"
    }
   ],
   "source": [
    "df_age"
   ]
  },
  {
   "cell_type": "code",
   "execution_count": 58,
   "metadata": {},
   "outputs": [],
   "source": [
    "df_age.to_excel(project_path+'/data/pre_processed_raw_data/人口学特征/df_age.xlsx')"
   ]
  },
  {
   "cell_type": "markdown",
   "metadata": {},
   "source": [
    "### height"
   ]
  },
  {
   "cell_type": "code",
   "execution_count": 59,
   "metadata": {},
   "outputs": [],
   "source": [
    "# 从patient_sign_record提取height、weight\n",
    "try:\n",
    "    sql = 'select patient_id,case_no,record_date,sign_type,record_content,record_unit from patient_sign_record \\\n",
    "        UNION select patient_id,case_no,record_date,sign_type,record_content,record_unit from ndyy_vpa_sxza_2.patient_sign_record;'\n",
    "    df_patient_sign_record = pd.read_sql(sql, conn)\n",
    "except MySQLDB.err.ProgrammingError as e:\n",
    "    print('surgical_record Error is ' + str(e))\n",
    "    sys.exit()"
   ]
  },
  {
   "cell_type": "code",
   "execution_count": 60,
   "metadata": {},
   "outputs": [],
   "source": [
    "df_patient_sign_record.to_excel(project_path+'/data/pre_processed_raw_data/人口学特征/df_patient_sign_record.xlsx')"
   ]
  },
  {
   "cell_type": "code",
   "execution_count": 61,
   "metadata": {},
   "outputs": [],
   "source": [
    "# 提取身高信息\n",
    "df_height=df_patient_sign_record[df_patient_sign_record['sign_type'].str.contains('身高')]"
   ]
  },
  {
   "cell_type": "code",
   "execution_count": 62,
   "metadata": {},
   "outputs": [
    {
     "name": "stdout",
     "output_type": "stream",
     "text": [
      "(252, 6)\n",
      "217\n"
     ]
    }
   ],
   "source": [
    "print(df_height.shape)\n",
    "print(df_height['patient_id'].nunique())"
   ]
  },
  {
   "cell_type": "code",
   "execution_count": 63,
   "metadata": {},
   "outputs": [
    {
     "data": {
      "text/html": [
       "<div>\n",
       "<style scoped>\n",
       "    .dataframe tbody tr th:only-of-type {\n",
       "        vertical-align: middle;\n",
       "    }\n",
       "\n",
       "    .dataframe tbody tr th {\n",
       "        vertical-align: top;\n",
       "    }\n",
       "\n",
       "    .dataframe thead th {\n",
       "        text-align: right;\n",
       "    }\n",
       "</style>\n",
       "<table border=\"1\" class=\"dataframe\">\n",
       "  <thead>\n",
       "    <tr style=\"text-align: right;\">\n",
       "      <th></th>\n",
       "      <th>patient_id</th>\n",
       "      <th>case_no</th>\n",
       "      <th>record_date</th>\n",
       "      <th>sign_type</th>\n",
       "      <th>record_content</th>\n",
       "      <th>record_unit</th>\n",
       "    </tr>\n",
       "  </thead>\n",
       "  <tbody>\n",
       "    <tr>\n",
       "      <th>0</th>\n",
       "      <td>6873870</td>\n",
       "      <td>10001302</td>\n",
       "      <td>2020-08-15 14:00:00</td>\n",
       "      <td>身高(cm)</td>\n",
       "      <td>153</td>\n",
       "      <td>cm</td>\n",
       "    </tr>\n",
       "    <tr>\n",
       "      <th>79</th>\n",
       "      <td>547307</td>\n",
       "      <td>10005574</td>\n",
       "      <td>2020-08-16 14:00:00</td>\n",
       "      <td>身高(cm)</td>\n",
       "      <td>162</td>\n",
       "      <td>cm</td>\n",
       "    </tr>\n",
       "    <tr>\n",
       "      <th>143</th>\n",
       "      <td>6949939</td>\n",
       "      <td>10019847</td>\n",
       "      <td>2020-08-17 14:00:00</td>\n",
       "      <td>身高(cm)</td>\n",
       "      <td>160</td>\n",
       "      <td>cm</td>\n",
       "    </tr>\n",
       "    <tr>\n",
       "      <th>213</th>\n",
       "      <td>7765586</td>\n",
       "      <td>10024628</td>\n",
       "      <td>2020-08-18 14:00:00</td>\n",
       "      <td>身高(cm)</td>\n",
       "      <td>168</td>\n",
       "      <td>cm</td>\n",
       "    </tr>\n",
       "    <tr>\n",
       "      <th>262</th>\n",
       "      <td>369329</td>\n",
       "      <td>10028911</td>\n",
       "      <td>2020-08-18 14:00:00</td>\n",
       "      <td>身高(cm)</td>\n",
       "      <td>159</td>\n",
       "      <td>cm</td>\n",
       "    </tr>\n",
       "    <tr>\n",
       "      <th>...</th>\n",
       "      <td>...</td>\n",
       "      <td>...</td>\n",
       "      <td>...</td>\n",
       "      <td>...</td>\n",
       "      <td>...</td>\n",
       "      <td>...</td>\n",
       "    </tr>\n",
       "    <tr>\n",
       "      <th>19155</th>\n",
       "      <td>9080293</td>\n",
       "      <td>14400275</td>\n",
       "      <td>2021-10-20 14:00:00</td>\n",
       "      <td>身高(cm)</td>\n",
       "      <td>175</td>\n",
       "      <td>cm</td>\n",
       "    </tr>\n",
       "    <tr>\n",
       "      <th>19249</th>\n",
       "      <td>9424074</td>\n",
       "      <td>14701280</td>\n",
       "      <td>2021-11-15 14:00:00</td>\n",
       "      <td>身高(cm)</td>\n",
       "      <td>168</td>\n",
       "      <td>cm</td>\n",
       "    </tr>\n",
       "    <tr>\n",
       "      <th>19313</th>\n",
       "      <td>9442416</td>\n",
       "      <td>14712892</td>\n",
       "      <td>2021-11-16 14:00:00</td>\n",
       "      <td>身高(cm)</td>\n",
       "      <td>171</td>\n",
       "      <td>cm</td>\n",
       "    </tr>\n",
       "    <tr>\n",
       "      <th>19383</th>\n",
       "      <td>7692024</td>\n",
       "      <td>14900947</td>\n",
       "      <td>2021-12-02 14:00:00</td>\n",
       "      <td>身高(cm)</td>\n",
       "      <td>154</td>\n",
       "      <td>cm</td>\n",
       "    </tr>\n",
       "    <tr>\n",
       "      <th>19438</th>\n",
       "      <td>8505473</td>\n",
       "      <td>15026052</td>\n",
       "      <td>2021-12-11 14:00:00</td>\n",
       "      <td>身高(cm)</td>\n",
       "      <td>164</td>\n",
       "      <td>cm</td>\n",
       "    </tr>\n",
       "  </tbody>\n",
       "</table>\n",
       "<p>252 rows × 6 columns</p>\n",
       "</div>"
      ],
      "text/plain": [
       "      patient_id   case_no         record_date sign_type record_content  \\\n",
       "0        6873870  10001302 2020-08-15 14:00:00    身高(cm)            153   \n",
       "79        547307  10005574 2020-08-16 14:00:00    身高(cm)            162   \n",
       "143      6949939  10019847 2020-08-17 14:00:00    身高(cm)            160   \n",
       "213      7765586  10024628 2020-08-18 14:00:00    身高(cm)            168   \n",
       "262       369329  10028911 2020-08-18 14:00:00    身高(cm)            159   \n",
       "...          ...       ...                 ...       ...            ...   \n",
       "19155    9080293  14400275 2021-10-20 14:00:00    身高(cm)            175   \n",
       "19249    9424074  14701280 2021-11-15 14:00:00    身高(cm)            168   \n",
       "19313    9442416  14712892 2021-11-16 14:00:00    身高(cm)            171   \n",
       "19383    7692024  14900947 2021-12-02 14:00:00    身高(cm)            154   \n",
       "19438    8505473  15026052 2021-12-11 14:00:00    身高(cm)            164   \n",
       "\n",
       "      record_unit  \n",
       "0              cm  \n",
       "79             cm  \n",
       "143            cm  \n",
       "213            cm  \n",
       "262            cm  \n",
       "...           ...  \n",
       "19155          cm  \n",
       "19249          cm  \n",
       "19313          cm  \n",
       "19383          cm  \n",
       "19438          cm  \n",
       "\n",
       "[252 rows x 6 columns]"
      ]
     },
     "execution_count": 63,
     "metadata": {},
     "output_type": "execute_result"
    }
   ],
   "source": [
    "df_height"
   ]
  },
  {
   "cell_type": "code",
   "execution_count": 64,
   "metadata": {},
   "outputs": [],
   "source": [
    "# 过滤文字\n",
    "df_height=filter_string(df_height,'record_content')"
   ]
  },
  {
   "cell_type": "code",
   "execution_count": 65,
   "metadata": {},
   "outputs": [
    {
     "name": "stdout",
     "output_type": "stream",
     "text": [
      "(248, 6)\n",
      "217\n"
     ]
    }
   ],
   "source": [
    "print(df_height.shape)\n",
    "print(df_height['patient_id'].nunique())"
   ]
  },
  {
   "cell_type": "code",
   "execution_count": 66,
   "metadata": {},
   "outputs": [
    {
     "data": {
      "text/html": [
       "<div>\n",
       "<style scoped>\n",
       "    .dataframe tbody tr th:only-of-type {\n",
       "        vertical-align: middle;\n",
       "    }\n",
       "\n",
       "    .dataframe tbody tr th {\n",
       "        vertical-align: top;\n",
       "    }\n",
       "\n",
       "    .dataframe thead th {\n",
       "        text-align: right;\n",
       "    }\n",
       "</style>\n",
       "<table border=\"1\" class=\"dataframe\">\n",
       "  <thead>\n",
       "    <tr style=\"text-align: right;\">\n",
       "      <th></th>\n",
       "      <th>patient_id</th>\n",
       "      <th>case_no</th>\n",
       "      <th>record_date</th>\n",
       "      <th>sign_type</th>\n",
       "      <th>record_content</th>\n",
       "      <th>record_unit</th>\n",
       "    </tr>\n",
       "  </thead>\n",
       "  <tbody>\n",
       "    <tr>\n",
       "      <th>6324</th>\n",
       "      <td>8881895</td>\n",
       "      <td>14103871</td>\n",
       "      <td>2021-10-13 14:00:00</td>\n",
       "      <td>身高(cm)</td>\n",
       "      <td>168</td>\n",
       "      <td>cm</td>\n",
       "    </tr>\n",
       "    <tr>\n",
       "      <th>6425</th>\n",
       "      <td>8881895</td>\n",
       "      <td>14103871</td>\n",
       "      <td>2021-10-27 14:00:00</td>\n",
       "      <td>身高(cm)</td>\n",
       "      <td>168</td>\n",
       "      <td>cm</td>\n",
       "    </tr>\n",
       "    <tr>\n",
       "      <th>6473</th>\n",
       "      <td>8881895</td>\n",
       "      <td>14103871</td>\n",
       "      <td>2021-11-03 14:00:00</td>\n",
       "      <td>身高(cm)</td>\n",
       "      <td>168</td>\n",
       "      <td>cm</td>\n",
       "    </tr>\n",
       "    <tr>\n",
       "      <th>7508</th>\n",
       "      <td>7475493</td>\n",
       "      <td>4191397</td>\n",
       "      <td>2018-08-13 06:00:00</td>\n",
       "      <td>身高(cm)</td>\n",
       "      <td>173</td>\n",
       "      <td>cm</td>\n",
       "    </tr>\n",
       "    <tr>\n",
       "      <th>7545</th>\n",
       "      <td>7475493</td>\n",
       "      <td>4191397</td>\n",
       "      <td>2018-08-20 14:00:00</td>\n",
       "      <td>身高(cm)</td>\n",
       "      <td>173</td>\n",
       "      <td>cm</td>\n",
       "    </tr>\n",
       "    <tr>\n",
       "      <th>7786</th>\n",
       "      <td>6679951</td>\n",
       "      <td>4267891</td>\n",
       "      <td>2018-08-22 18:00:00</td>\n",
       "      <td>身高(cm)</td>\n",
       "      <td>156</td>\n",
       "      <td>cm</td>\n",
       "    </tr>\n",
       "    <tr>\n",
       "      <th>7790</th>\n",
       "      <td>6679951</td>\n",
       "      <td>4267891</td>\n",
       "      <td>2018-08-22 14:00:00</td>\n",
       "      <td>身高(cm)</td>\n",
       "      <td>156</td>\n",
       "      <td>cm</td>\n",
       "    </tr>\n",
       "    <tr>\n",
       "      <th>18043</th>\n",
       "      <td>8275190</td>\n",
       "      <td>9391429</td>\n",
       "      <td>2020-06-23 14:00:00</td>\n",
       "      <td>身高(cm)</td>\n",
       "      <td>155</td>\n",
       "      <td>cm</td>\n",
       "    </tr>\n",
       "  </tbody>\n",
       "</table>\n",
       "</div>"
      ],
      "text/plain": [
       "      patient_id   case_no         record_date sign_type record_content  \\\n",
       "6324     8881895  14103871 2021-10-13 14:00:00    身高(cm)            168   \n",
       "6425     8881895  14103871 2021-10-27 14:00:00    身高(cm)            168   \n",
       "6473     8881895  14103871 2021-11-03 14:00:00    身高(cm)            168   \n",
       "7508     7475493   4191397 2018-08-13 06:00:00    身高(cm)            173   \n",
       "7545     7475493   4191397 2018-08-20 14:00:00    身高(cm)            173   \n",
       "7786     6679951   4267891 2018-08-22 18:00:00    身高(cm)            156   \n",
       "7790     6679951   4267891 2018-08-22 14:00:00    身高(cm)            156   \n",
       "18043    8275190   9391429 2020-06-23 14:00:00    身高(cm)            155   \n",
       "\n",
       "      record_unit  \n",
       "6324           cm  \n",
       "6425           cm  \n",
       "6473           cm  \n",
       "7508           cm  \n",
       "7545           cm  \n",
       "7786           cm  \n",
       "7790           cm  \n",
       "18043          cm  "
      ]
     },
     "execution_count": 66,
     "metadata": {},
     "output_type": "execute_result"
    }
   ],
   "source": [
    "# 查看重复数据\n",
    "df_height[df_height.duplicated(subset=['patient_id','case_no','record_content'])]"
   ]
  },
  {
   "cell_type": "code",
   "execution_count": 67,
   "metadata": {},
   "outputs": [],
   "source": [
    "# 排序\n",
    "df_height=df_height.sort_values(by=['patient_id','case_no','record_date'],ascending=[True,True,True])\n",
    "# 删除重复数据\n",
    "df_height=df_height.drop_duplicates(subset=['patient_id','case_no','record_content'],keep='last')"
   ]
  },
  {
   "cell_type": "code",
   "execution_count": 68,
   "metadata": {},
   "outputs": [
    {
     "name": "stdout",
     "output_type": "stream",
     "text": [
      "(240, 6)\n",
      "217\n"
     ]
    }
   ],
   "source": [
    "print(df_height.shape)\n",
    "print(df_height['patient_id'].nunique())"
   ]
  },
  {
   "cell_type": "code",
   "execution_count": 69,
   "metadata": {},
   "outputs": [],
   "source": [
    "df_height.to_excel(project_path+'/data/pre_processed_raw_data/人口学特征/df_height.xlsx')"
   ]
  },
  {
   "cell_type": "markdown",
   "metadata": {},
   "source": [
    "### weight"
   ]
  },
  {
   "cell_type": "code",
   "execution_count": 70,
   "metadata": {},
   "outputs": [],
   "source": [
    "# 提取体重信息\n",
    "df_weight=df_patient_sign_record[df_patient_sign_record['sign_type'].str.contains('体重')]"
   ]
  },
  {
   "cell_type": "code",
   "execution_count": 71,
   "metadata": {},
   "outputs": [
    {
     "name": "stdout",
     "output_type": "stream",
     "text": [
      "(820, 6)\n",
      "218\n"
     ]
    }
   ],
   "source": [
    "print(df_weight.shape)\n",
    "print(df_weight['patient_id'].nunique())"
   ]
  },
  {
   "cell_type": "code",
   "execution_count": 72,
   "metadata": {},
   "outputs": [
    {
     "data": {
      "text/html": [
       "<div>\n",
       "<style scoped>\n",
       "    .dataframe tbody tr th:only-of-type {\n",
       "        vertical-align: middle;\n",
       "    }\n",
       "\n",
       "    .dataframe tbody tr th {\n",
       "        vertical-align: top;\n",
       "    }\n",
       "\n",
       "    .dataframe thead th {\n",
       "        text-align: right;\n",
       "    }\n",
       "</style>\n",
       "<table border=\"1\" class=\"dataframe\">\n",
       "  <thead>\n",
       "    <tr style=\"text-align: right;\">\n",
       "      <th></th>\n",
       "      <th>patient_id</th>\n",
       "      <th>case_no</th>\n",
       "      <th>record_date</th>\n",
       "      <th>sign_type</th>\n",
       "      <th>record_content</th>\n",
       "      <th>record_unit</th>\n",
       "    </tr>\n",
       "  </thead>\n",
       "  <tbody>\n",
       "    <tr>\n",
       "      <th>11</th>\n",
       "      <td>6873870</td>\n",
       "      <td>10001302</td>\n",
       "      <td>2020-08-15 14:00:00</td>\n",
       "      <td>体重(kg)</td>\n",
       "      <td>52</td>\n",
       "      <td>kg</td>\n",
       "    </tr>\n",
       "    <tr>\n",
       "      <th>30</th>\n",
       "      <td>6873870</td>\n",
       "      <td>10001302</td>\n",
       "      <td>2020-08-22 06:00:00</td>\n",
       "      <td>体重(kg)</td>\n",
       "      <td>52</td>\n",
       "      <td>kg</td>\n",
       "    </tr>\n",
       "    <tr>\n",
       "      <th>60</th>\n",
       "      <td>6873870</td>\n",
       "      <td>10001302</td>\n",
       "      <td>2020-08-29 14:00:00</td>\n",
       "      <td>体重(kg)</td>\n",
       "      <td>52</td>\n",
       "      <td>kg</td>\n",
       "    </tr>\n",
       "    <tr>\n",
       "      <th>90</th>\n",
       "      <td>547307</td>\n",
       "      <td>10005574</td>\n",
       "      <td>2020-08-16 14:00:00</td>\n",
       "      <td>体重(kg)</td>\n",
       "      <td>52</td>\n",
       "      <td>kg</td>\n",
       "    </tr>\n",
       "    <tr>\n",
       "      <th>111</th>\n",
       "      <td>547307</td>\n",
       "      <td>10005574</td>\n",
       "      <td>2020-08-23 06:00:00</td>\n",
       "      <td>体重(kg)</td>\n",
       "      <td>52</td>\n",
       "      <td>kg</td>\n",
       "    </tr>\n",
       "    <tr>\n",
       "      <th>...</th>\n",
       "      <td>...</td>\n",
       "      <td>...</td>\n",
       "      <td>...</td>\n",
       "      <td>...</td>\n",
       "      <td>...</td>\n",
       "      <td>...</td>\n",
       "    </tr>\n",
       "    <tr>\n",
       "      <th>19370</th>\n",
       "      <td>9442416</td>\n",
       "      <td>14712892</td>\n",
       "      <td>2021-11-30 06:00:00</td>\n",
       "      <td>体重(kg)</td>\n",
       "      <td>71</td>\n",
       "      <td>kg</td>\n",
       "    </tr>\n",
       "    <tr>\n",
       "      <th>19394</th>\n",
       "      <td>7692024</td>\n",
       "      <td>14900947</td>\n",
       "      <td>2021-12-02 14:00:00</td>\n",
       "      <td>体重(kg)</td>\n",
       "      <td>85</td>\n",
       "      <td>kg</td>\n",
       "    </tr>\n",
       "    <tr>\n",
       "      <th>19413</th>\n",
       "      <td>7692024</td>\n",
       "      <td>14900947</td>\n",
       "      <td>2021-12-09 14:00:00</td>\n",
       "      <td>体重(kg)</td>\n",
       "      <td>54</td>\n",
       "      <td>kg</td>\n",
       "    </tr>\n",
       "    <tr>\n",
       "      <th>19449</th>\n",
       "      <td>8505473</td>\n",
       "      <td>15026052</td>\n",
       "      <td>2021-12-11 14:00:00</td>\n",
       "      <td>体重(kg)</td>\n",
       "      <td>46</td>\n",
       "      <td>kg</td>\n",
       "    </tr>\n",
       "    <tr>\n",
       "      <th>19470</th>\n",
       "      <td>8505473</td>\n",
       "      <td>15026052</td>\n",
       "      <td>2021-12-18 14:00:00</td>\n",
       "      <td>体重(kg)</td>\n",
       "      <td>46</td>\n",
       "      <td>kg</td>\n",
       "    </tr>\n",
       "  </tbody>\n",
       "</table>\n",
       "<p>820 rows × 6 columns</p>\n",
       "</div>"
      ],
      "text/plain": [
       "      patient_id   case_no         record_date sign_type record_content  \\\n",
       "11       6873870  10001302 2020-08-15 14:00:00    体重(kg)             52   \n",
       "30       6873870  10001302 2020-08-22 06:00:00    体重(kg)             52   \n",
       "60       6873870  10001302 2020-08-29 14:00:00    体重(kg)             52   \n",
       "90        547307  10005574 2020-08-16 14:00:00    体重(kg)             52   \n",
       "111       547307  10005574 2020-08-23 06:00:00    体重(kg)             52   \n",
       "...          ...       ...                 ...       ...            ...   \n",
       "19370    9442416  14712892 2021-11-30 06:00:00    体重(kg)             71   \n",
       "19394    7692024  14900947 2021-12-02 14:00:00    体重(kg)             85   \n",
       "19413    7692024  14900947 2021-12-09 14:00:00    体重(kg)             54   \n",
       "19449    8505473  15026052 2021-12-11 14:00:00    体重(kg)             46   \n",
       "19470    8505473  15026052 2021-12-18 14:00:00    体重(kg)             46   \n",
       "\n",
       "      record_unit  \n",
       "11             kg  \n",
       "30             kg  \n",
       "60             kg  \n",
       "90             kg  \n",
       "111            kg  \n",
       "...           ...  \n",
       "19370          kg  \n",
       "19394          kg  \n",
       "19413          kg  \n",
       "19449          kg  \n",
       "19470          kg  \n",
       "\n",
       "[820 rows x 6 columns]"
      ]
     },
     "execution_count": 72,
     "metadata": {},
     "output_type": "execute_result"
    }
   ],
   "source": [
    "df_weight"
   ]
  },
  {
   "cell_type": "code",
   "execution_count": 73,
   "metadata": {},
   "outputs": [],
   "source": [
    "# 过滤文字\n",
    "df_weight=filter_string(df_weight,'record_content')"
   ]
  },
  {
   "cell_type": "code",
   "execution_count": 74,
   "metadata": {},
   "outputs": [
    {
     "name": "stdout",
     "output_type": "stream",
     "text": [
      "(815, 6)\n",
      "218\n"
     ]
    }
   ],
   "source": [
    "print(df_weight.shape)\n",
    "print(df_weight['patient_id'].nunique())"
   ]
  },
  {
   "cell_type": "code",
   "execution_count": 75,
   "metadata": {},
   "outputs": [],
   "source": [
    "# 过滤异常值\n",
    "df_weight=df_weight[~ df_weight['record_content'].str.contains('0')]"
   ]
  },
  {
   "cell_type": "code",
   "execution_count": 76,
   "metadata": {},
   "outputs": [
    {
     "name": "stdout",
     "output_type": "stream",
     "text": [
      "(688, 6)\n",
      "190\n"
     ]
    }
   ],
   "source": [
    "print(df_weight.shape)\n",
    "print(df_weight['patient_id'].nunique())"
   ]
  },
  {
   "cell_type": "code",
   "execution_count": 77,
   "metadata": {},
   "outputs": [
    {
     "data": {
      "text/html": [
       "<div>\n",
       "<style scoped>\n",
       "    .dataframe tbody tr th:only-of-type {\n",
       "        vertical-align: middle;\n",
       "    }\n",
       "\n",
       "    .dataframe tbody tr th {\n",
       "        vertical-align: top;\n",
       "    }\n",
       "\n",
       "    .dataframe thead th {\n",
       "        text-align: right;\n",
       "    }\n",
       "</style>\n",
       "<table border=\"1\" class=\"dataframe\">\n",
       "  <thead>\n",
       "    <tr style=\"text-align: right;\">\n",
       "      <th></th>\n",
       "      <th>patient_id</th>\n",
       "      <th>case_no</th>\n",
       "      <th>record_date</th>\n",
       "      <th>sign_type</th>\n",
       "      <th>record_content</th>\n",
       "      <th>record_unit</th>\n",
       "    </tr>\n",
       "  </thead>\n",
       "  <tbody>\n",
       "    <tr>\n",
       "      <th>30</th>\n",
       "      <td>6873870</td>\n",
       "      <td>10001302</td>\n",
       "      <td>2020-08-22 06:00:00</td>\n",
       "      <td>体重(kg)</td>\n",
       "      <td>52</td>\n",
       "      <td>kg</td>\n",
       "    </tr>\n",
       "    <tr>\n",
       "      <th>60</th>\n",
       "      <td>6873870</td>\n",
       "      <td>10001302</td>\n",
       "      <td>2020-08-29 14:00:00</td>\n",
       "      <td>体重(kg)</td>\n",
       "      <td>52</td>\n",
       "      <td>kg</td>\n",
       "    </tr>\n",
       "    <tr>\n",
       "      <th>111</th>\n",
       "      <td>547307</td>\n",
       "      <td>10005574</td>\n",
       "      <td>2020-08-23 06:00:00</td>\n",
       "      <td>体重(kg)</td>\n",
       "      <td>52</td>\n",
       "      <td>kg</td>\n",
       "    </tr>\n",
       "    <tr>\n",
       "      <th>140</th>\n",
       "      <td>547307</td>\n",
       "      <td>10005574</td>\n",
       "      <td>2020-08-30 14:00:00</td>\n",
       "      <td>体重(kg)</td>\n",
       "      <td>52</td>\n",
       "      <td>kg</td>\n",
       "    </tr>\n",
       "    <tr>\n",
       "      <th>177</th>\n",
       "      <td>6949939</td>\n",
       "      <td>10019847</td>\n",
       "      <td>2020-08-24 14:00:00</td>\n",
       "      <td>体重(kg)</td>\n",
       "      <td>45</td>\n",
       "      <td>kg</td>\n",
       "    </tr>\n",
       "    <tr>\n",
       "      <th>...</th>\n",
       "      <td>...</td>\n",
       "      <td>...</td>\n",
       "      <td>...</td>\n",
       "      <td>...</td>\n",
       "      <td>...</td>\n",
       "      <td>...</td>\n",
       "    </tr>\n",
       "    <tr>\n",
       "      <th>19215</th>\n",
       "      <td>9080293</td>\n",
       "      <td>14400275</td>\n",
       "      <td>2021-11-03 14:00:00</td>\n",
       "      <td>体重(kg)</td>\n",
       "      <td>57</td>\n",
       "      <td>kg</td>\n",
       "    </tr>\n",
       "    <tr>\n",
       "      <th>19238</th>\n",
       "      <td>9080293</td>\n",
       "      <td>14400275</td>\n",
       "      <td>2021-11-10 06:00:00</td>\n",
       "      <td>体重(kg)</td>\n",
       "      <td>57</td>\n",
       "      <td>kg</td>\n",
       "    </tr>\n",
       "    <tr>\n",
       "      <th>19343</th>\n",
       "      <td>9442416</td>\n",
       "      <td>14712892</td>\n",
       "      <td>2021-11-23 14:00:00</td>\n",
       "      <td>体重(kg)</td>\n",
       "      <td>71</td>\n",
       "      <td>kg</td>\n",
       "    </tr>\n",
       "    <tr>\n",
       "      <th>19370</th>\n",
       "      <td>9442416</td>\n",
       "      <td>14712892</td>\n",
       "      <td>2021-11-30 06:00:00</td>\n",
       "      <td>体重(kg)</td>\n",
       "      <td>71</td>\n",
       "      <td>kg</td>\n",
       "    </tr>\n",
       "    <tr>\n",
       "      <th>19470</th>\n",
       "      <td>8505473</td>\n",
       "      <td>15026052</td>\n",
       "      <td>2021-12-18 14:00:00</td>\n",
       "      <td>体重(kg)</td>\n",
       "      <td>46</td>\n",
       "      <td>kg</td>\n",
       "    </tr>\n",
       "  </tbody>\n",
       "</table>\n",
       "<p>442 rows × 6 columns</p>\n",
       "</div>"
      ],
      "text/plain": [
       "      patient_id   case_no         record_date sign_type record_content  \\\n",
       "30       6873870  10001302 2020-08-22 06:00:00    体重(kg)             52   \n",
       "60       6873870  10001302 2020-08-29 14:00:00    体重(kg)             52   \n",
       "111       547307  10005574 2020-08-23 06:00:00    体重(kg)             52   \n",
       "140       547307  10005574 2020-08-30 14:00:00    体重(kg)             52   \n",
       "177      6949939  10019847 2020-08-24 14:00:00    体重(kg)             45   \n",
       "...          ...       ...                 ...       ...            ...   \n",
       "19215    9080293  14400275 2021-11-03 14:00:00    体重(kg)             57   \n",
       "19238    9080293  14400275 2021-11-10 06:00:00    体重(kg)             57   \n",
       "19343    9442416  14712892 2021-11-23 14:00:00    体重(kg)             71   \n",
       "19370    9442416  14712892 2021-11-30 06:00:00    体重(kg)             71   \n",
       "19470    8505473  15026052 2021-12-18 14:00:00    体重(kg)             46   \n",
       "\n",
       "      record_unit  \n",
       "30             kg  \n",
       "60             kg  \n",
       "111            kg  \n",
       "140            kg  \n",
       "177            kg  \n",
       "...           ...  \n",
       "19215          kg  \n",
       "19238          kg  \n",
       "19343          kg  \n",
       "19370          kg  \n",
       "19470          kg  \n",
       "\n",
       "[442 rows x 6 columns]"
      ]
     },
     "execution_count": 77,
     "metadata": {},
     "output_type": "execute_result"
    }
   ],
   "source": [
    "# 查看重复数据\n",
    "df_weight[df_weight.duplicated(subset=['patient_id','case_no','record_content'])]"
   ]
  },
  {
   "cell_type": "code",
   "execution_count": 78,
   "metadata": {},
   "outputs": [],
   "source": [
    "# 排序\n",
    "df_weight=df_weight.sort_values(by=['patient_id','case_no','record_date'],ascending=[True,True,True])\n",
    "# 删除重复数据\n",
    "df_weight=df_weight.drop_duplicates(subset=['patient_id','case_no','record_content'],keep='last')"
   ]
  },
  {
   "cell_type": "code",
   "execution_count": 79,
   "metadata": {},
   "outputs": [
    {
     "name": "stdout",
     "output_type": "stream",
     "text": [
      "(246, 6)\n",
      "190\n"
     ]
    }
   ],
   "source": [
    "print(df_weight.shape)\n",
    "print(df_weight['patient_id'].nunique())"
   ]
  },
  {
   "cell_type": "code",
   "execution_count": 80,
   "metadata": {},
   "outputs": [],
   "source": [
    "df_weight.to_excel(project_path+'/data/pre_processed_raw_data/人口学特征/df_weight.xlsx')"
   ]
  },
  {
   "cell_type": "markdown",
   "metadata": {},
   "source": [
    "# 纳排"
   ]
  },
  {
   "cell_type": "markdown",
   "metadata": {},
   "source": [
    "## 纳入标准"
   ]
  },
  {
   "cell_type": "markdown",
   "metadata": {},
   "source": [
    "### 提取丙戊酸用药"
   ]
  },
  {
   "cell_type": "code",
   "execution_count": 81,
   "metadata": {},
   "outputs": [],
   "source": [
    "# 提取甲氨蝶呤的用药数据\n",
    "# 注意药物缩写和药物音译名，wtf\n",
    "df_VPA = df_doctor_order[df_doctor_order['drug_name'].str.contains('丙戊酸') & (~df_doctor_order['drug_name'].str.contains('药材科'))]"
   ]
  },
  {
   "cell_type": "code",
   "execution_count": 82,
   "metadata": {
    "scrolled": true
   },
   "outputs": [],
   "source": [
    "# 排序\n",
    "df_VPA=df_VPA.sort_values(['patient_id','case_no','start_datetime'])"
   ]
  },
  {
   "cell_type": "code",
   "execution_count": 83,
   "metadata": {},
   "outputs": [
    {
     "name": "stdout",
     "output_type": "stream",
     "text": [
      "(776, 10)\n",
      "218\n"
     ]
    }
   ],
   "source": [
    "print(df_VPA.shape)\n",
    "print(df_VPA['patient_id'].nunique())"
   ]
  },
  {
   "cell_type": "code",
   "execution_count": 84,
   "metadata": {
    "scrolled": true
   },
   "outputs": [],
   "source": [
    "# 保存丙戊酸用药数据\n",
    "df_VPA.to_excel(project_path+'/data/processed_data/df_2.1.1_VPA.xlsx')"
   ]
  },
  {
   "cell_type": "markdown",
   "metadata": {},
   "source": [
    "### 双相情感障碍者"
   ]
  },
  {
   "cell_type": "code",
   "execution_count": 85,
   "metadata": {},
   "outputs": [],
   "source": [
    "# 从diagnostic_record中提取双相情感障碍\n",
    "df_BD=df_diagnostic_record[df_diagnostic_record['diagnostic_content'].str.contains('双相')]"
   ]
  },
  {
   "cell_type": "code",
   "execution_count": 86,
   "metadata": {},
   "outputs": [
    {
     "data": {
      "text/plain": [
       "array(['双相情感障碍，目前为伴有精神病性症状的躁狂发作', '双相情感障碍，目前为轻度或中度抑郁发作',\n",
       "       '双相情感障碍目前为不伴精神病性症状躁狂发作', '双相情感障碍，目前为轻躁狂发作', '双相情感障碍，目前为中度抑郁发作',\n",
       "       '双相情感障碍，目前为缓解状态', '双相情感障碍', '双相情感障碍，目前为混合性发作',\n",
       "       '双相情感障碍目前为伴精神病的重度抑郁发作', '双相情感障碍目前为不伴精神病的重度抑郁发作', '非典型双相情感障碍',\n",
       "       '双相情感障碍，目前为不伴有精神病性症状的重度抑郁发作', '双相情感障碍,快速循环型',\n",
       "       '双相情感障碍，目前为躁狂发作，伴有精神病性症状', '双相情感障碍，目前为不伴有精神病性症状的躁狂发作', '双相性情感障碍',\n",
       "       '双相情感障碍（恢复期）', '双相情感障碍,目前为中度抑郁发作', '双相情感障碍，伴有精神病性症状，目前为躁狂发作',\n",
       "       '双相情感障碍不伴有精神病性症状的躁狂发作', '双相性情感障碍?', '双相情感障碍目前为伴精神病性症状的躁狂发作？',\n",
       "       '双相情感障碍，目前为混合性发作？', '双相情感障碍，目前为重度抑郁发作', '双相情感障碍？',\n",
       "       '双相情感障碍，目前为伴有精神病性症状的重度抑郁发作', '非典型双相情感障碍?',\n",
       "       '双相情感障碍，目前为重度抑郁发作，伴有精神病性症'], dtype=object)"
      ]
     },
     "execution_count": 86,
     "metadata": {},
     "output_type": "execute_result"
    }
   ],
   "source": [
    "df_BD['diagnostic_content'].unique()"
   ]
  },
  {
   "cell_type": "code",
   "execution_count": 87,
   "metadata": {},
   "outputs": [
    {
     "name": "stdout",
     "output_type": "stream",
     "text": [
      "(879, 5)\n",
      "354\n"
     ]
    }
   ],
   "source": [
    "print(df_BD.shape)\n",
    "print(df_BD['patient_id'].nunique())"
   ]
  },
  {
   "cell_type": "code",
   "execution_count": 88,
   "metadata": {},
   "outputs": [],
   "source": [
    "# 纳入双相情感障碍\n",
    "df_VPA_BD=df_VPA[df_VPA['patient_id'].isin(df_BD['patient_id'].unique())]"
   ]
  },
  {
   "cell_type": "code",
   "execution_count": 89,
   "metadata": {},
   "outputs": [
    {
     "name": "stdout",
     "output_type": "stream",
     "text": [
      "(767, 10)\n",
      "214\n"
     ]
    }
   ],
   "source": [
    "print(df_VPA_BD.shape)\n",
    "print(df_VPA_BD['patient_id'].nunique())"
   ]
  },
  {
   "cell_type": "code",
   "execution_count": 90,
   "metadata": {},
   "outputs": [
    {
     "data": {
      "text/plain": [
       "array(['7506303', '7512212', '7528046', '7680010'], dtype=object)"
      ]
     },
     "execution_count": 90,
     "metadata": {},
     "output_type": "execute_result"
    }
   ],
   "source": [
    "df_VPA_BD_not=df_VPA[~ df_VPA['patient_id'].isin(df_BD['patient_id'].unique())]\n",
    "df_VPA_BD_not['patient_id'].unique()"
   ]
  },
  {
   "cell_type": "code",
   "execution_count": 91,
   "metadata": {},
   "outputs": [],
   "source": [
    "# ### 年龄筛选：18-65岁\n",
    "\n",
    "# df_age_adult=df_age[(df_age['age']>=18) & (df_age['age']<=65)]\n",
    "\n",
    "# df_age_adult\n",
    "\n",
    "# print(df_age_adult.shape)\n",
    "# print(df_age_adult['patient_id'].nunique())\n",
    "\n",
    "# # 纳入年龄限制\n",
    "# df_VPA_age=df_VPA_BD[df_VPA_BD['patient_id'].isin(df_age_adult['patient_id'].unique())]\n",
    "\n",
    "# print(df_VPA_age.shape)\n",
    "# print(df_VPA_age['patient_id'].nunique())\n",
    "\n",
    "# df_VPA_age.to_excel(project_path+'/data/processed_data/df_temp_VPA_age.xlsx')"
   ]
  },
  {
   "cell_type": "markdown",
   "metadata": {},
   "source": [
    "### 达到血药浓度稳态"
   ]
  },
  {
   "cell_type": "markdown",
   "metadata": {},
   "source": [
    "#### 计算丙戊酸日剂量"
   ]
  },
  {
   "cell_type": "code",
   "execution_count": 92,
   "metadata": {},
   "outputs": [],
   "source": [
    "df_VPA_dosage=df_VPA_BD.copy()\n",
    "# 清洗单次日剂量dosage，100ml--5g，1ml--0.05g\n",
    "df_VPA_dosage['dosage']=df_VPA_dosage['dosage'].apply(lambda x: float(x.replace('ml', ''))*0.05 if 'ml' in x else x.replace('g', ''))"
   ]
  },
  {
   "cell_type": "code",
   "execution_count": 93,
   "metadata": {},
   "outputs": [
    {
     "data": {
      "text/plain": [
       "array(['1/日', '2/日', '1/早', 'ONCE', 'Tid', '1/晚', '1/12小时', '3/日（餐前）',\n",
       "       '1/午', '1/日(餐前)'], dtype=object)"
      ]
     },
     "execution_count": 93,
     "metadata": {},
     "output_type": "execute_result"
    }
   ],
   "source": [
    "df_VPA_dosage.frequency.unique()"
   ]
  },
  {
   "cell_type": "code",
   "execution_count": 94,
   "metadata": {},
   "outputs": [],
   "source": [
    "# 清洗频次\n",
    "one=['1/午','ONCE','1/日','1/日(餐前)','1/早','1/晚']\n",
    "two=['1/12小时','2/日']\n",
    "three=['Tid','3/日（餐前）']\n",
    "df_VPA_dosage['frequency']=df_VPA_dosage['frequency'].apply(lambda x: 1 if x in one else\n",
    "                                                                2 if x in two else\n",
    "                                                                3 if x in three else x)"
   ]
  },
  {
   "cell_type": "code",
   "execution_count": 95,
   "metadata": {},
   "outputs": [],
   "source": [
    "# 计算日剂量\n",
    "df_VPA_dosage['日剂量']=df_VPA_dosage['dosage'].astype('float') * df_VPA_dosage['frequency'].astype('float')"
   ]
  },
  {
   "cell_type": "code",
   "execution_count": 96,
   "metadata": {},
   "outputs": [
    {
     "data": {
      "text/html": [
       "<div>\n",
       "<style scoped>\n",
       "    .dataframe tbody tr th:only-of-type {\n",
       "        vertical-align: middle;\n",
       "    }\n",
       "\n",
       "    .dataframe tbody tr th {\n",
       "        vertical-align: top;\n",
       "    }\n",
       "\n",
       "    .dataframe thead th {\n",
       "        text-align: right;\n",
       "    }\n",
       "</style>\n",
       "<table border=\"1\" class=\"dataframe\">\n",
       "  <thead>\n",
       "    <tr style=\"text-align: right;\">\n",
       "      <th></th>\n",
       "      <th>patient_id</th>\n",
       "      <th>case_no</th>\n",
       "      <th>drug_name</th>\n",
       "      <th>amount</th>\n",
       "      <th>drug_spec</th>\n",
       "      <th>dosage</th>\n",
       "      <th>frequency</th>\n",
       "      <th>start_datetime</th>\n",
       "      <th>end_datetime</th>\n",
       "      <th>statusdesc</th>\n",
       "      <th>日剂量</th>\n",
       "    </tr>\n",
       "  </thead>\n",
       "  <tbody>\n",
       "    <tr>\n",
       "      <th>5276</th>\n",
       "      <td>1112533</td>\n",
       "      <td>12210690</td>\n",
       "      <td>丙戊酸钠缓释片(德巴金)[0.5g*30片]</td>\n",
       "      <td>1</td>\n",
       "      <td>0.5g*30片</td>\n",
       "      <td>0.5</td>\n",
       "      <td>1</td>\n",
       "      <td>2021-03-29 19:14:29</td>\n",
       "      <td>NaT</td>\n",
       "      <td>核实</td>\n",
       "      <td>0.50</td>\n",
       "    </tr>\n",
       "    <tr>\n",
       "      <th>5277</th>\n",
       "      <td>1112533</td>\n",
       "      <td>12210690</td>\n",
       "      <td>丙戊酸钠缓释片(德巴金)[0.5g*30片]</td>\n",
       "      <td>1</td>\n",
       "      <td>0.5g*30片</td>\n",
       "      <td>0.5</td>\n",
       "      <td>2</td>\n",
       "      <td>2021-03-31 09:09:50</td>\n",
       "      <td>NaT</td>\n",
       "      <td>核实</td>\n",
       "      <td>1.00</td>\n",
       "    </tr>\n",
       "    <tr>\n",
       "      <th>5289</th>\n",
       "      <td>1112533</td>\n",
       "      <td>12210690</td>\n",
       "      <td>丙戊酸钠缓释片(德巴金)[0.5g*30片]</td>\n",
       "      <td>1</td>\n",
       "      <td>0.5g*30片</td>\n",
       "      <td>0.75</td>\n",
       "      <td>1</td>\n",
       "      <td>2021-04-07 09:10:18</td>\n",
       "      <td>NaT</td>\n",
       "      <td>核实</td>\n",
       "      <td>0.75</td>\n",
       "    </tr>\n",
       "    <tr>\n",
       "      <th>5352</th>\n",
       "      <td>1112533</td>\n",
       "      <td>12210690</td>\n",
       "      <td>丙戊酸钠缓释片(德巴金)[0.5g*30片]</td>\n",
       "      <td>1</td>\n",
       "      <td>0.5g*30片</td>\n",
       "      <td>0.75</td>\n",
       "      <td>1</td>\n",
       "      <td>2021-04-09 19:49:24</td>\n",
       "      <td>NaT</td>\n",
       "      <td>核实</td>\n",
       "      <td>0.75</td>\n",
       "    </tr>\n",
       "    <tr>\n",
       "      <th>8053</th>\n",
       "      <td>1173560</td>\n",
       "      <td>13397293</td>\n",
       "      <td>丙戊酸钠缓释片(德巴金)[0.5g*30片]</td>\n",
       "      <td>1</td>\n",
       "      <td>0.5g*30片</td>\n",
       "      <td>0.5</td>\n",
       "      <td>2</td>\n",
       "      <td>2021-07-21 16:21:42</td>\n",
       "      <td>NaT</td>\n",
       "      <td>核实</td>\n",
       "      <td>1.00</td>\n",
       "    </tr>\n",
       "    <tr>\n",
       "      <th>...</th>\n",
       "      <td>...</td>\n",
       "      <td>...</td>\n",
       "      <td>...</td>\n",
       "      <td>...</td>\n",
       "      <td>...</td>\n",
       "      <td>...</td>\n",
       "      <td>...</td>\n",
       "      <td>...</td>\n",
       "      <td>...</td>\n",
       "      <td>...</td>\n",
       "      <td>...</td>\n",
       "    </tr>\n",
       "    <tr>\n",
       "      <th>10182</th>\n",
       "      <td>9307105</td>\n",
       "      <td>14184132</td>\n",
       "      <td>丙戊酸钠缓释片(德巴金)[0.5g*30片]</td>\n",
       "      <td>1</td>\n",
       "      <td>0.5g*30片</td>\n",
       "      <td>0.5</td>\n",
       "      <td>2</td>\n",
       "      <td>2021-09-30 10:29:44</td>\n",
       "      <td>NaT</td>\n",
       "      <td>核实</td>\n",
       "      <td>1.00</td>\n",
       "    </tr>\n",
       "    <tr>\n",
       "      <th>10628</th>\n",
       "      <td>9424074</td>\n",
       "      <td>14701280</td>\n",
       "      <td>丙戊酸钠缓释片(德巴金)[0.5g*30片]</td>\n",
       "      <td>1</td>\n",
       "      <td>0.5g*30片</td>\n",
       "      <td>0.5</td>\n",
       "      <td>2</td>\n",
       "      <td>2021-11-15 18:44:04</td>\n",
       "      <td>NaT</td>\n",
       "      <td>核实</td>\n",
       "      <td>1.00</td>\n",
       "    </tr>\n",
       "    <tr>\n",
       "      <th>10777</th>\n",
       "      <td>9442416</td>\n",
       "      <td>14712892</td>\n",
       "      <td>丙戊酸钠缓释片(德巴金)[0.5g*30片]</td>\n",
       "      <td>1</td>\n",
       "      <td>0.5g*30片</td>\n",
       "      <td>0.5</td>\n",
       "      <td>1</td>\n",
       "      <td>2021-11-17 10:47:51</td>\n",
       "      <td>NaT</td>\n",
       "      <td>核实</td>\n",
       "      <td>0.50</td>\n",
       "    </tr>\n",
       "    <tr>\n",
       "      <th>10889</th>\n",
       "      <td>9442416</td>\n",
       "      <td>14712892</td>\n",
       "      <td>丙戊酸钠缓释片(德巴金)[0.5g*30片]</td>\n",
       "      <td>1</td>\n",
       "      <td>0.5g*30片</td>\n",
       "      <td>0.5</td>\n",
       "      <td>2</td>\n",
       "      <td>2021-11-19 10:31:22</td>\n",
       "      <td>NaT</td>\n",
       "      <td>核实</td>\n",
       "      <td>1.00</td>\n",
       "    </tr>\n",
       "    <tr>\n",
       "      <th>11011</th>\n",
       "      <td>9442416</td>\n",
       "      <td>14712892</td>\n",
       "      <td>丙戊酸钠缓释片(德巴金)[0.5g*30片]</td>\n",
       "      <td>1</td>\n",
       "      <td>0.5g*30片</td>\n",
       "      <td>0.5</td>\n",
       "      <td>2</td>\n",
       "      <td>2021-12-02 11:38:25</td>\n",
       "      <td>NaT</td>\n",
       "      <td>核实</td>\n",
       "      <td>1.00</td>\n",
       "    </tr>\n",
       "  </tbody>\n",
       "</table>\n",
       "<p>767 rows × 11 columns</p>\n",
       "</div>"
      ],
      "text/plain": [
       "      patient_id   case_no               drug_name  amount drug_spec dosage  \\\n",
       "5276     1112533  12210690  丙戊酸钠缓释片(德巴金)[0.5g*30片]       1  0.5g*30片    0.5   \n",
       "5277     1112533  12210690  丙戊酸钠缓释片(德巴金)[0.5g*30片]       1  0.5g*30片    0.5   \n",
       "5289     1112533  12210690  丙戊酸钠缓释片(德巴金)[0.5g*30片]       1  0.5g*30片   0.75   \n",
       "5352     1112533  12210690  丙戊酸钠缓释片(德巴金)[0.5g*30片]       1  0.5g*30片   0.75   \n",
       "8053     1173560  13397293  丙戊酸钠缓释片(德巴金)[0.5g*30片]       1  0.5g*30片    0.5   \n",
       "...          ...       ...                     ...     ...       ...    ...   \n",
       "10182    9307105  14184132  丙戊酸钠缓释片(德巴金)[0.5g*30片]       1  0.5g*30片    0.5   \n",
       "10628    9424074  14701280  丙戊酸钠缓释片(德巴金)[0.5g*30片]       1  0.5g*30片    0.5   \n",
       "10777    9442416  14712892  丙戊酸钠缓释片(德巴金)[0.5g*30片]       1  0.5g*30片    0.5   \n",
       "10889    9442416  14712892  丙戊酸钠缓释片(德巴金)[0.5g*30片]       1  0.5g*30片    0.5   \n",
       "11011    9442416  14712892  丙戊酸钠缓释片(德巴金)[0.5g*30片]       1  0.5g*30片    0.5   \n",
       "\n",
       "       frequency      start_datetime end_datetime statusdesc   日剂量  \n",
       "5276           1 2021-03-29 19:14:29          NaT         核实  0.50  \n",
       "5277           2 2021-03-31 09:09:50          NaT         核实  1.00  \n",
       "5289           1 2021-04-07 09:10:18          NaT         核实  0.75  \n",
       "5352           1 2021-04-09 19:49:24          NaT         核实  0.75  \n",
       "8053           2 2021-07-21 16:21:42          NaT         核实  1.00  \n",
       "...          ...                 ...          ...        ...   ...  \n",
       "10182          2 2021-09-30 10:29:44          NaT         核实  1.00  \n",
       "10628          2 2021-11-15 18:44:04          NaT         核实  1.00  \n",
       "10777          1 2021-11-17 10:47:51          NaT         核实  0.50  \n",
       "10889          2 2021-11-19 10:31:22          NaT         核实  1.00  \n",
       "11011          2 2021-12-02 11:38:25          NaT         核实  1.00  \n",
       "\n",
       "[767 rows x 11 columns]"
      ]
     },
     "execution_count": 96,
     "metadata": {},
     "output_type": "execute_result"
    }
   ],
   "source": [
    "df_VPA_dosage"
   ]
  },
  {
   "cell_type": "code",
   "execution_count": 97,
   "metadata": {},
   "outputs": [
    {
     "name": "stdout",
     "output_type": "stream",
     "text": [
      "(767, 11)\n",
      "214\n",
      "237\n"
     ]
    }
   ],
   "source": [
    "print(df_VPA_dosage.shape)\n",
    "print(df_VPA_dosage['patient_id'].nunique())\n",
    "print(df_VPA_dosage['case_no'].nunique())"
   ]
  },
  {
   "cell_type": "code",
   "execution_count": 98,
   "metadata": {},
   "outputs": [],
   "source": [
    "df_VPA_dosage.to_excel(project_path+'/data/processed_data/df_2.1.4.1_计算日剂量.xlsx')"
   ]
  },
  {
   "cell_type": "markdown",
   "metadata": {},
   "source": [
    "#### 提取用药日期"
   ]
  },
  {
   "cell_type": "code",
   "execution_count": 99,
   "metadata": {},
   "outputs": [],
   "source": [
    "# 临时用药的结束时间=开始时间\n",
    "aaa=df_VPA_dosage[df_VPA_dosage['end_datetime'].isnull()]\n",
    "bbb=df_VPA_dosage[df_VPA_dosage['end_datetime'].notnull()]\n",
    "aaa['end_datetime']=aaa['start_datetime']"
   ]
  },
  {
   "cell_type": "code",
   "execution_count": 100,
   "metadata": {},
   "outputs": [
    {
     "data": {
      "text/html": [
       "<div>\n",
       "<style scoped>\n",
       "    .dataframe tbody tr th:only-of-type {\n",
       "        vertical-align: middle;\n",
       "    }\n",
       "\n",
       "    .dataframe tbody tr th {\n",
       "        vertical-align: top;\n",
       "    }\n",
       "\n",
       "    .dataframe thead th {\n",
       "        text-align: right;\n",
       "    }\n",
       "</style>\n",
       "<table border=\"1\" class=\"dataframe\">\n",
       "  <thead>\n",
       "    <tr style=\"text-align: right;\">\n",
       "      <th></th>\n",
       "      <th>patient_id</th>\n",
       "      <th>case_no</th>\n",
       "      <th>drug_name</th>\n",
       "      <th>amount</th>\n",
       "      <th>drug_spec</th>\n",
       "      <th>dosage</th>\n",
       "      <th>frequency</th>\n",
       "      <th>start_datetime</th>\n",
       "      <th>end_datetime</th>\n",
       "      <th>statusdesc</th>\n",
       "      <th>日剂量</th>\n",
       "    </tr>\n",
       "  </thead>\n",
       "  <tbody>\n",
       "    <tr>\n",
       "      <th>5276</th>\n",
       "      <td>1112533</td>\n",
       "      <td>12210690</td>\n",
       "      <td>丙戊酸钠缓释片(德巴金)[0.5g*30片]</td>\n",
       "      <td>1</td>\n",
       "      <td>0.5g*30片</td>\n",
       "      <td>0.5</td>\n",
       "      <td>1</td>\n",
       "      <td>2021-03-29 19:14:29</td>\n",
       "      <td>2021-03-29 19:14:29</td>\n",
       "      <td>核实</td>\n",
       "      <td>0.50</td>\n",
       "    </tr>\n",
       "    <tr>\n",
       "      <th>5277</th>\n",
       "      <td>1112533</td>\n",
       "      <td>12210690</td>\n",
       "      <td>丙戊酸钠缓释片(德巴金)[0.5g*30片]</td>\n",
       "      <td>1</td>\n",
       "      <td>0.5g*30片</td>\n",
       "      <td>0.5</td>\n",
       "      <td>2</td>\n",
       "      <td>2021-03-31 09:09:50</td>\n",
       "      <td>2021-03-31 09:09:50</td>\n",
       "      <td>核实</td>\n",
       "      <td>1.00</td>\n",
       "    </tr>\n",
       "    <tr>\n",
       "      <th>5289</th>\n",
       "      <td>1112533</td>\n",
       "      <td>12210690</td>\n",
       "      <td>丙戊酸钠缓释片(德巴金)[0.5g*30片]</td>\n",
       "      <td>1</td>\n",
       "      <td>0.5g*30片</td>\n",
       "      <td>0.75</td>\n",
       "      <td>1</td>\n",
       "      <td>2021-04-07 09:10:18</td>\n",
       "      <td>2021-04-07 09:10:18</td>\n",
       "      <td>核实</td>\n",
       "      <td>0.75</td>\n",
       "    </tr>\n",
       "    <tr>\n",
       "      <th>5352</th>\n",
       "      <td>1112533</td>\n",
       "      <td>12210690</td>\n",
       "      <td>丙戊酸钠缓释片(德巴金)[0.5g*30片]</td>\n",
       "      <td>1</td>\n",
       "      <td>0.5g*30片</td>\n",
       "      <td>0.75</td>\n",
       "      <td>1</td>\n",
       "      <td>2021-04-09 19:49:24</td>\n",
       "      <td>2021-04-09 19:49:24</td>\n",
       "      <td>核实</td>\n",
       "      <td>0.75</td>\n",
       "    </tr>\n",
       "    <tr>\n",
       "      <th>8053</th>\n",
       "      <td>1173560</td>\n",
       "      <td>13397293</td>\n",
       "      <td>丙戊酸钠缓释片(德巴金)[0.5g*30片]</td>\n",
       "      <td>1</td>\n",
       "      <td>0.5g*30片</td>\n",
       "      <td>0.5</td>\n",
       "      <td>2</td>\n",
       "      <td>2021-07-21 16:21:42</td>\n",
       "      <td>2021-07-21 16:21:42</td>\n",
       "      <td>核实</td>\n",
       "      <td>1.00</td>\n",
       "    </tr>\n",
       "    <tr>\n",
       "      <th>...</th>\n",
       "      <td>...</td>\n",
       "      <td>...</td>\n",
       "      <td>...</td>\n",
       "      <td>...</td>\n",
       "      <td>...</td>\n",
       "      <td>...</td>\n",
       "      <td>...</td>\n",
       "      <td>...</td>\n",
       "      <td>...</td>\n",
       "      <td>...</td>\n",
       "      <td>...</td>\n",
       "    </tr>\n",
       "    <tr>\n",
       "      <th>10182</th>\n",
       "      <td>9307105</td>\n",
       "      <td>14184132</td>\n",
       "      <td>丙戊酸钠缓释片(德巴金)[0.5g*30片]</td>\n",
       "      <td>1</td>\n",
       "      <td>0.5g*30片</td>\n",
       "      <td>0.5</td>\n",
       "      <td>2</td>\n",
       "      <td>2021-09-30 10:29:44</td>\n",
       "      <td>2021-09-30 10:29:44</td>\n",
       "      <td>核实</td>\n",
       "      <td>1.00</td>\n",
       "    </tr>\n",
       "    <tr>\n",
       "      <th>10628</th>\n",
       "      <td>9424074</td>\n",
       "      <td>14701280</td>\n",
       "      <td>丙戊酸钠缓释片(德巴金)[0.5g*30片]</td>\n",
       "      <td>1</td>\n",
       "      <td>0.5g*30片</td>\n",
       "      <td>0.5</td>\n",
       "      <td>2</td>\n",
       "      <td>2021-11-15 18:44:04</td>\n",
       "      <td>2021-11-15 18:44:04</td>\n",
       "      <td>核实</td>\n",
       "      <td>1.00</td>\n",
       "    </tr>\n",
       "    <tr>\n",
       "      <th>10777</th>\n",
       "      <td>9442416</td>\n",
       "      <td>14712892</td>\n",
       "      <td>丙戊酸钠缓释片(德巴金)[0.5g*30片]</td>\n",
       "      <td>1</td>\n",
       "      <td>0.5g*30片</td>\n",
       "      <td>0.5</td>\n",
       "      <td>1</td>\n",
       "      <td>2021-11-17 10:47:51</td>\n",
       "      <td>2021-11-17 10:47:51</td>\n",
       "      <td>核实</td>\n",
       "      <td>0.50</td>\n",
       "    </tr>\n",
       "    <tr>\n",
       "      <th>10889</th>\n",
       "      <td>9442416</td>\n",
       "      <td>14712892</td>\n",
       "      <td>丙戊酸钠缓释片(德巴金)[0.5g*30片]</td>\n",
       "      <td>1</td>\n",
       "      <td>0.5g*30片</td>\n",
       "      <td>0.5</td>\n",
       "      <td>2</td>\n",
       "      <td>2021-11-19 10:31:22</td>\n",
       "      <td>2021-11-19 10:31:22</td>\n",
       "      <td>核实</td>\n",
       "      <td>1.00</td>\n",
       "    </tr>\n",
       "    <tr>\n",
       "      <th>11011</th>\n",
       "      <td>9442416</td>\n",
       "      <td>14712892</td>\n",
       "      <td>丙戊酸钠缓释片(德巴金)[0.5g*30片]</td>\n",
       "      <td>1</td>\n",
       "      <td>0.5g*30片</td>\n",
       "      <td>0.5</td>\n",
       "      <td>2</td>\n",
       "      <td>2021-12-02 11:38:25</td>\n",
       "      <td>2021-12-02 11:38:25</td>\n",
       "      <td>核实</td>\n",
       "      <td>1.00</td>\n",
       "    </tr>\n",
       "  </tbody>\n",
       "</table>\n",
       "<p>460 rows × 11 columns</p>\n",
       "</div>"
      ],
      "text/plain": [
       "      patient_id   case_no               drug_name  amount drug_spec dosage  \\\n",
       "5276     1112533  12210690  丙戊酸钠缓释片(德巴金)[0.5g*30片]       1  0.5g*30片    0.5   \n",
       "5277     1112533  12210690  丙戊酸钠缓释片(德巴金)[0.5g*30片]       1  0.5g*30片    0.5   \n",
       "5289     1112533  12210690  丙戊酸钠缓释片(德巴金)[0.5g*30片]       1  0.5g*30片   0.75   \n",
       "5352     1112533  12210690  丙戊酸钠缓释片(德巴金)[0.5g*30片]       1  0.5g*30片   0.75   \n",
       "8053     1173560  13397293  丙戊酸钠缓释片(德巴金)[0.5g*30片]       1  0.5g*30片    0.5   \n",
       "...          ...       ...                     ...     ...       ...    ...   \n",
       "10182    9307105  14184132  丙戊酸钠缓释片(德巴金)[0.5g*30片]       1  0.5g*30片    0.5   \n",
       "10628    9424074  14701280  丙戊酸钠缓释片(德巴金)[0.5g*30片]       1  0.5g*30片    0.5   \n",
       "10777    9442416  14712892  丙戊酸钠缓释片(德巴金)[0.5g*30片]       1  0.5g*30片    0.5   \n",
       "10889    9442416  14712892  丙戊酸钠缓释片(德巴金)[0.5g*30片]       1  0.5g*30片    0.5   \n",
       "11011    9442416  14712892  丙戊酸钠缓释片(德巴金)[0.5g*30片]       1  0.5g*30片    0.5   \n",
       "\n",
       "       frequency      start_datetime        end_datetime statusdesc   日剂量  \n",
       "5276           1 2021-03-29 19:14:29 2021-03-29 19:14:29         核实  0.50  \n",
       "5277           2 2021-03-31 09:09:50 2021-03-31 09:09:50         核实  1.00  \n",
       "5289           1 2021-04-07 09:10:18 2021-04-07 09:10:18         核实  0.75  \n",
       "5352           1 2021-04-09 19:49:24 2021-04-09 19:49:24         核实  0.75  \n",
       "8053           2 2021-07-21 16:21:42 2021-07-21 16:21:42         核实  1.00  \n",
       "...          ...                 ...                 ...        ...   ...  \n",
       "10182          2 2021-09-30 10:29:44 2021-09-30 10:29:44         核实  1.00  \n",
       "10628          2 2021-11-15 18:44:04 2021-11-15 18:44:04         核实  1.00  \n",
       "10777          1 2021-11-17 10:47:51 2021-11-17 10:47:51         核实  0.50  \n",
       "10889          2 2021-11-19 10:31:22 2021-11-19 10:31:22         核实  1.00  \n",
       "11011          2 2021-12-02 11:38:25 2021-12-02 11:38:25         核实  1.00  \n",
       "\n",
       "[460 rows x 11 columns]"
      ]
     },
     "execution_count": 100,
     "metadata": {},
     "output_type": "execute_result"
    }
   ],
   "source": [
    "aaa"
   ]
  },
  {
   "cell_type": "code",
   "execution_count": 101,
   "metadata": {},
   "outputs": [],
   "source": [
    "df_VPA_date=pd.concat([aaa,bbb],axis=0)\n",
    "# 排序\n",
    "df_VPA_date=df_VPA_date.sort_values(by=['patient_id','case_no','start_datetime'])\n",
    "df_VPA_date=df_VPA_date.reset_index(drop=True)"
   ]
  },
  {
   "cell_type": "code",
   "execution_count": 102,
   "metadata": {},
   "outputs": [
    {
     "name": "stdout",
     "output_type": "stream",
     "text": [
      "(767, 11)\n",
      "214\n",
      "237\n"
     ]
    }
   ],
   "source": [
    "print(df_VPA_date.shape)\n",
    "print(df_VPA_date['patient_id'].nunique())\n",
    "print(df_VPA_date['case_no'].nunique())"
   ]
  },
  {
   "cell_type": "code",
   "execution_count": 103,
   "metadata": {},
   "outputs": [],
   "source": [
    "# 提取丙戊酸用药时间的年月日\n",
    "df_VPA_date['start_date']=df_VPA_date['start_datetime'].apply(lambda x: str(x).split(' ')[0])\n",
    "df_VPA_date['end_date']=df_VPA_date['end_datetime'].apply(lambda x: str(x).split(' ')[0])"
   ]
  },
  {
   "cell_type": "code",
   "execution_count": 104,
   "metadata": {},
   "outputs": [
    {
     "data": {
      "text/html": [
       "<div>\n",
       "<style scoped>\n",
       "    .dataframe tbody tr th:only-of-type {\n",
       "        vertical-align: middle;\n",
       "    }\n",
       "\n",
       "    .dataframe tbody tr th {\n",
       "        vertical-align: top;\n",
       "    }\n",
       "\n",
       "    .dataframe thead th {\n",
       "        text-align: right;\n",
       "    }\n",
       "</style>\n",
       "<table border=\"1\" class=\"dataframe\">\n",
       "  <thead>\n",
       "    <tr style=\"text-align: right;\">\n",
       "      <th></th>\n",
       "      <th>patient_id</th>\n",
       "      <th>case_no</th>\n",
       "      <th>drug_name</th>\n",
       "      <th>amount</th>\n",
       "      <th>drug_spec</th>\n",
       "      <th>dosage</th>\n",
       "      <th>frequency</th>\n",
       "      <th>start_datetime</th>\n",
       "      <th>end_datetime</th>\n",
       "      <th>statusdesc</th>\n",
       "      <th>日剂量</th>\n",
       "      <th>start_date</th>\n",
       "      <th>end_date</th>\n",
       "    </tr>\n",
       "  </thead>\n",
       "  <tbody>\n",
       "    <tr>\n",
       "      <th>0</th>\n",
       "      <td>1112533</td>\n",
       "      <td>12210690</td>\n",
       "      <td>丙戊酸钠缓释片(德巴金)[0.5g*30片]</td>\n",
       "      <td>1</td>\n",
       "      <td>0.5g*30片</td>\n",
       "      <td>0.5</td>\n",
       "      <td>1</td>\n",
       "      <td>2021-03-29 19:14:29</td>\n",
       "      <td>2021-03-29 19:14:29</td>\n",
       "      <td>核实</td>\n",
       "      <td>0.50</td>\n",
       "      <td>2021-03-29</td>\n",
       "      <td>2021-03-29</td>\n",
       "    </tr>\n",
       "    <tr>\n",
       "      <th>1</th>\n",
       "      <td>1112533</td>\n",
       "      <td>12210690</td>\n",
       "      <td>丙戊酸钠缓释片(德巴金)[0.5g*30片]</td>\n",
       "      <td>1</td>\n",
       "      <td>0.5g*30片</td>\n",
       "      <td>0.5</td>\n",
       "      <td>2</td>\n",
       "      <td>2021-03-31 09:09:50</td>\n",
       "      <td>2021-03-31 09:09:50</td>\n",
       "      <td>核实</td>\n",
       "      <td>1.00</td>\n",
       "      <td>2021-03-31</td>\n",
       "      <td>2021-03-31</td>\n",
       "    </tr>\n",
       "    <tr>\n",
       "      <th>2</th>\n",
       "      <td>1112533</td>\n",
       "      <td>12210690</td>\n",
       "      <td>丙戊酸钠缓释片(德巴金)[0.5g*30片]</td>\n",
       "      <td>1</td>\n",
       "      <td>0.5g*30片</td>\n",
       "      <td>0.75</td>\n",
       "      <td>1</td>\n",
       "      <td>2021-04-07 09:10:18</td>\n",
       "      <td>2021-04-07 09:10:18</td>\n",
       "      <td>核实</td>\n",
       "      <td>0.75</td>\n",
       "      <td>2021-04-07</td>\n",
       "      <td>2021-04-07</td>\n",
       "    </tr>\n",
       "    <tr>\n",
       "      <th>3</th>\n",
       "      <td>1112533</td>\n",
       "      <td>12210690</td>\n",
       "      <td>丙戊酸钠缓释片(德巴金)[0.5g*30片]</td>\n",
       "      <td>1</td>\n",
       "      <td>0.5g*30片</td>\n",
       "      <td>0.75</td>\n",
       "      <td>1</td>\n",
       "      <td>2021-04-09 19:49:24</td>\n",
       "      <td>2021-04-09 19:49:24</td>\n",
       "      <td>核实</td>\n",
       "      <td>0.75</td>\n",
       "      <td>2021-04-09</td>\n",
       "      <td>2021-04-09</td>\n",
       "    </tr>\n",
       "    <tr>\n",
       "      <th>4</th>\n",
       "      <td>1173560</td>\n",
       "      <td>13397293</td>\n",
       "      <td>丙戊酸钠缓释片(德巴金)[0.5g*30片]</td>\n",
       "      <td>1</td>\n",
       "      <td>0.5g*30片</td>\n",
       "      <td>0.5</td>\n",
       "      <td>2</td>\n",
       "      <td>2021-07-21 16:21:42</td>\n",
       "      <td>2021-07-21 16:21:42</td>\n",
       "      <td>核实</td>\n",
       "      <td>1.00</td>\n",
       "      <td>2021-07-21</td>\n",
       "      <td>2021-07-21</td>\n",
       "    </tr>\n",
       "  </tbody>\n",
       "</table>\n",
       "</div>"
      ],
      "text/plain": [
       "  patient_id   case_no               drug_name  amount drug_spec dosage  \\\n",
       "0    1112533  12210690  丙戊酸钠缓释片(德巴金)[0.5g*30片]       1  0.5g*30片    0.5   \n",
       "1    1112533  12210690  丙戊酸钠缓释片(德巴金)[0.5g*30片]       1  0.5g*30片    0.5   \n",
       "2    1112533  12210690  丙戊酸钠缓释片(德巴金)[0.5g*30片]       1  0.5g*30片   0.75   \n",
       "3    1112533  12210690  丙戊酸钠缓释片(德巴金)[0.5g*30片]       1  0.5g*30片   0.75   \n",
       "4    1173560  13397293  丙戊酸钠缓释片(德巴金)[0.5g*30片]       1  0.5g*30片    0.5   \n",
       "\n",
       "   frequency      start_datetime        end_datetime statusdesc   日剂量  \\\n",
       "0          1 2021-03-29 19:14:29 2021-03-29 19:14:29         核实  0.50   \n",
       "1          2 2021-03-31 09:09:50 2021-03-31 09:09:50         核实  1.00   \n",
       "2          1 2021-04-07 09:10:18 2021-04-07 09:10:18         核实  0.75   \n",
       "3          1 2021-04-09 19:49:24 2021-04-09 19:49:24         核实  0.75   \n",
       "4          2 2021-07-21 16:21:42 2021-07-21 16:21:42         核实  1.00   \n",
       "\n",
       "   start_date    end_date  \n",
       "0  2021-03-29  2021-03-29  \n",
       "1  2021-03-31  2021-03-31  \n",
       "2  2021-04-07  2021-04-07  \n",
       "3  2021-04-09  2021-04-09  \n",
       "4  2021-07-21  2021-07-21  "
      ]
     },
     "execution_count": 104,
     "metadata": {},
     "output_type": "execute_result"
    }
   ],
   "source": [
    "df_VPA_date.head()"
   ]
  },
  {
   "cell_type": "code",
   "execution_count": 105,
   "metadata": {},
   "outputs": [],
   "source": [
    "df_VPA_date.to_excel(project_path+'/data/processed_data/df_2.1.3.2_提取年月日.xlsx')"
   ]
  },
  {
   "cell_type": "markdown",
   "metadata": {},
   "source": [
    "#### 津源参考代码"
   ]
  },
  {
   "cell_type": "code",
   "execution_count": 106,
   "metadata": {
    "code_folding": [
     0
    ]
   },
   "outputs": [],
   "source": [
    "# #对环孢素进行处理只包含注射液\n",
    "# df = pd.read_excel(r'drug_2088_csa_injection_end.xls')\n",
    "\n",
    "# df = df[['PATIENT_ID', 'DOSAGE_all','START_DATETIME', 'END_DATETIME']]\n",
    "# df['PATIENT_ID'] = df['PATIENT_ID'].apply(lambda x: str(x))\n",
    "# df['START_DATETIME'] = pd.to_datetime(df['START_DATETIME']).dt.strftime('%Y-%m-%d')\n",
    "# df['END_DATETIME'] = pd.to_datetime(df['END_DATETIME']).dt.strftime('%Y-%m-%d')\n",
    "# #%%\n",
    "# import pandas as pd\n",
    "# df['ll'] = df['DOSAGE_all']\n",
    "# for i in range(len(df)):\n",
    "#     df['ll'][i] = list(pd.date_range(start=df['START_DATETIME'][i], end=df['END_DATETIME'][i]))\n",
    "    \n",
    "# df['id_dose'] = df['PATIENT_ID'].map(str) + \"_\" + df['DOSAGE_all'].map(str)\n",
    "# #%%\n",
    "# df_1 = df[['id_dose','ll']]\n",
    "\n",
    "\n",
    "\n",
    "\n",
    "\n",
    "# #%%\n",
    "# def explode1(df, col):\n",
    "#     dftem1 = pd.DataFrame()\n",
    "#     for i in range(df.shape[0]):\n",
    "#         dftem = df.iloc[i].to_frame().T\n",
    "#         if isinstance(df.iloc[i][col], list):\n",
    "#             if len(df.iloc[i][col]) > 0:\n",
    "#                 for j in range(len(df.iloc[i][col])):\n",
    "#                     dftem[col + \"_\"] = df.iloc[i][col][j]\n",
    "#                     dftem1 = pd.concat([dftem1, dftem])\n",
    "#             else:\n",
    "#                 dftem1 = pd.concat([dftem1, dftem])\n",
    "#         else:\n",
    "#             dftem1 = pd.concat([dftem1, dftem])\n",
    "#     del dftem1[col]\n",
    "#     dftem1.rename(columns={col + \"_\": col}, inplace=True)\n",
    "#     return dftem1\n",
    "\n",
    "# #%%\n",
    "\n",
    "# drug_2088_csa_injection_end_expand = explode1(df_1, 'll') \n",
    "# drug_2088_csa_injection_end_expand['PATIENT_ID'] = drug_2088_csa_injection_end_expand['id_dose'].apply(lambda x: x.split('_')[0])\n",
    "# drug_2088_csa_injection_end_expand['DOSAGE'] = drug_2088_csa_injection_end_expand['id_dose'].apply(lambda x: x.split('_')[1])\n",
    "\n",
    "# ll = drug_2088_csa_injection_end_expand\n",
    "# drug_2088_csa_injection_end_expand1 = ll[[ 'PATIENT_ID', 'DOSAGE', 'll']].drop_duplicates(subset=['PATIENT_ID','ll'], keep='last')\n"
   ]
  },
  {
   "cell_type": "markdown",
   "metadata": {},
   "source": [
    "#### 拆分长期医嘱和临时医嘱"
   ]
  },
  {
   "cell_type": "code",
   "execution_count": 107,
   "metadata": {
    "code_folding": []
   },
   "outputs": [],
   "source": []
  },
  {
   "cell_type": "code",
   "execution_count": 108,
   "metadata": {},
   "outputs": [],
   "source": [
    "# 打长期医嘱标签\n",
    "df_VPA_date['long_d_order']=df_VPA_date['statusdesc'].apply(lambda x: 1 if re.match('停止',x) else 0)"
   ]
  },
  {
   "cell_type": "code",
   "execution_count": 109,
   "metadata": {},
   "outputs": [],
   "source": [
    "# 长期医嘱和临时医嘱分开\n",
    "drug_temp = df_VPA_date[df_VPA_date['long_d_order']==0]\n",
    "drug_long = df_VPA_date[df_VPA_date['long_d_order']==1]"
   ]
  },
  {
   "cell_type": "code",
   "execution_count": 110,
   "metadata": {},
   "outputs": [
    {
     "name": "stdout",
     "output_type": "stream",
     "text": [
      "(460, 14)\n",
      "(307, 14)\n"
     ]
    }
   ],
   "source": [
    "print(drug_temp.shape)\n",
    "print(drug_long.shape)"
   ]
  },
  {
   "cell_type": "code",
   "execution_count": 111,
   "metadata": {},
   "outputs": [
    {
     "data": {
      "text/html": [
       "<div>\n",
       "<style scoped>\n",
       "    .dataframe tbody tr th:only-of-type {\n",
       "        vertical-align: middle;\n",
       "    }\n",
       "\n",
       "    .dataframe tbody tr th {\n",
       "        vertical-align: top;\n",
       "    }\n",
       "\n",
       "    .dataframe thead th {\n",
       "        text-align: right;\n",
       "    }\n",
       "</style>\n",
       "<table border=\"1\" class=\"dataframe\">\n",
       "  <thead>\n",
       "    <tr style=\"text-align: right;\">\n",
       "      <th></th>\n",
       "      <th>patient_id</th>\n",
       "      <th>case_no</th>\n",
       "      <th>drug_name</th>\n",
       "      <th>amount</th>\n",
       "      <th>drug_spec</th>\n",
       "      <th>dosage</th>\n",
       "      <th>frequency</th>\n",
       "      <th>start_datetime</th>\n",
       "      <th>end_datetime</th>\n",
       "      <th>statusdesc</th>\n",
       "      <th>日剂量</th>\n",
       "      <th>start_date</th>\n",
       "      <th>end_date</th>\n",
       "      <th>long_d_order</th>\n",
       "    </tr>\n",
       "  </thead>\n",
       "  <tbody>\n",
       "    <tr>\n",
       "      <th>0</th>\n",
       "      <td>1112533</td>\n",
       "      <td>12210690</td>\n",
       "      <td>丙戊酸钠缓释片(德巴金)[0.5g*30片]</td>\n",
       "      <td>1</td>\n",
       "      <td>0.5g*30片</td>\n",
       "      <td>0.5</td>\n",
       "      <td>1</td>\n",
       "      <td>2021-03-29 19:14:29</td>\n",
       "      <td>2021-03-29 19:14:29</td>\n",
       "      <td>核实</td>\n",
       "      <td>0.50</td>\n",
       "      <td>2021-03-29</td>\n",
       "      <td>2021-03-29</td>\n",
       "      <td>0</td>\n",
       "    </tr>\n",
       "    <tr>\n",
       "      <th>1</th>\n",
       "      <td>1112533</td>\n",
       "      <td>12210690</td>\n",
       "      <td>丙戊酸钠缓释片(德巴金)[0.5g*30片]</td>\n",
       "      <td>1</td>\n",
       "      <td>0.5g*30片</td>\n",
       "      <td>0.5</td>\n",
       "      <td>2</td>\n",
       "      <td>2021-03-31 09:09:50</td>\n",
       "      <td>2021-03-31 09:09:50</td>\n",
       "      <td>核实</td>\n",
       "      <td>1.00</td>\n",
       "      <td>2021-03-31</td>\n",
       "      <td>2021-03-31</td>\n",
       "      <td>0</td>\n",
       "    </tr>\n",
       "    <tr>\n",
       "      <th>2</th>\n",
       "      <td>1112533</td>\n",
       "      <td>12210690</td>\n",
       "      <td>丙戊酸钠缓释片(德巴金)[0.5g*30片]</td>\n",
       "      <td>1</td>\n",
       "      <td>0.5g*30片</td>\n",
       "      <td>0.75</td>\n",
       "      <td>1</td>\n",
       "      <td>2021-04-07 09:10:18</td>\n",
       "      <td>2021-04-07 09:10:18</td>\n",
       "      <td>核实</td>\n",
       "      <td>0.75</td>\n",
       "      <td>2021-04-07</td>\n",
       "      <td>2021-04-07</td>\n",
       "      <td>0</td>\n",
       "    </tr>\n",
       "    <tr>\n",
       "      <th>3</th>\n",
       "      <td>1112533</td>\n",
       "      <td>12210690</td>\n",
       "      <td>丙戊酸钠缓释片(德巴金)[0.5g*30片]</td>\n",
       "      <td>1</td>\n",
       "      <td>0.5g*30片</td>\n",
       "      <td>0.75</td>\n",
       "      <td>1</td>\n",
       "      <td>2021-04-09 19:49:24</td>\n",
       "      <td>2021-04-09 19:49:24</td>\n",
       "      <td>核实</td>\n",
       "      <td>0.75</td>\n",
       "      <td>2021-04-09</td>\n",
       "      <td>2021-04-09</td>\n",
       "      <td>0</td>\n",
       "    </tr>\n",
       "    <tr>\n",
       "      <th>4</th>\n",
       "      <td>1173560</td>\n",
       "      <td>13397293</td>\n",
       "      <td>丙戊酸钠缓释片(德巴金)[0.5g*30片]</td>\n",
       "      <td>1</td>\n",
       "      <td>0.5g*30片</td>\n",
       "      <td>0.5</td>\n",
       "      <td>2</td>\n",
       "      <td>2021-07-21 16:21:42</td>\n",
       "      <td>2021-07-21 16:21:42</td>\n",
       "      <td>核实</td>\n",
       "      <td>1.00</td>\n",
       "      <td>2021-07-21</td>\n",
       "      <td>2021-07-21</td>\n",
       "      <td>0</td>\n",
       "    </tr>\n",
       "  </tbody>\n",
       "</table>\n",
       "</div>"
      ],
      "text/plain": [
       "  patient_id   case_no               drug_name  amount drug_spec dosage  \\\n",
       "0    1112533  12210690  丙戊酸钠缓释片(德巴金)[0.5g*30片]       1  0.5g*30片    0.5   \n",
       "1    1112533  12210690  丙戊酸钠缓释片(德巴金)[0.5g*30片]       1  0.5g*30片    0.5   \n",
       "2    1112533  12210690  丙戊酸钠缓释片(德巴金)[0.5g*30片]       1  0.5g*30片   0.75   \n",
       "3    1112533  12210690  丙戊酸钠缓释片(德巴金)[0.5g*30片]       1  0.5g*30片   0.75   \n",
       "4    1173560  13397293  丙戊酸钠缓释片(德巴金)[0.5g*30片]       1  0.5g*30片    0.5   \n",
       "\n",
       "   frequency      start_datetime        end_datetime statusdesc   日剂量  \\\n",
       "0          1 2021-03-29 19:14:29 2021-03-29 19:14:29         核实  0.50   \n",
       "1          2 2021-03-31 09:09:50 2021-03-31 09:09:50         核实  1.00   \n",
       "2          1 2021-04-07 09:10:18 2021-04-07 09:10:18         核实  0.75   \n",
       "3          1 2021-04-09 19:49:24 2021-04-09 19:49:24         核实  0.75   \n",
       "4          2 2021-07-21 16:21:42 2021-07-21 16:21:42         核实  1.00   \n",
       "\n",
       "   start_date    end_date  long_d_order  \n",
       "0  2021-03-29  2021-03-29             0  \n",
       "1  2021-03-31  2021-03-31             0  \n",
       "2  2021-04-07  2021-04-07             0  \n",
       "3  2021-04-09  2021-04-09             0  \n",
       "4  2021-07-21  2021-07-21             0  "
      ]
     },
     "execution_count": 111,
     "metadata": {},
     "output_type": "execute_result"
    }
   ],
   "source": [
    "drug_temp.head()"
   ]
  },
  {
   "cell_type": "code",
   "execution_count": 112,
   "metadata": {},
   "outputs": [],
   "source": [
    "# 查看重复数据\n",
    "# drug_temp[drug_temp.duplicated(subset=['case_no','dosage','frequency','start_datetime','end_datetime','long_d_order'])]"
   ]
  },
  {
   "cell_type": "code",
   "execution_count": 113,
   "metadata": {},
   "outputs": [],
   "source": [
    "# 删除重复数据\n",
    "drug_temp=drug_temp.drop_duplicates(subset=['case_no','dosage','frequency','start_datetime','end_datetime','long_d_order'])\n",
    "drug_long=drug_long.drop_duplicates(subset=['case_no','dosage','frequency','start_datetime','end_datetime','long_d_order'])"
   ]
  },
  {
   "cell_type": "code",
   "execution_count": 115,
   "metadata": {},
   "outputs": [
    {
     "name": "stdout",
     "output_type": "stream",
     "text": [
      "(460, 14)\n",
      "(307, 14)\n"
     ]
    }
   ],
   "source": [
    "print(drug_temp.shape)\n",
    "print(drug_long.shape)"
   ]
  },
  {
   "cell_type": "markdown",
   "metadata": {},
   "source": [
    "#### 处理临时医嘱"
   ]
  },
  {
   "cell_type": "code",
   "execution_count": 119,
   "metadata": {},
   "outputs": [],
   "source": [
    "# # 打临时时间标签，上午为0，下午为1\n",
    "# drug_temp['用药上下午标签']=drug_temp['start_datetime'].apply(lambda x: 0 if x.hour <13 else 1)"
   ]
  },
  {
   "cell_type": "code",
   "execution_count": 128,
   "metadata": {},
   "outputs": [],
   "source": [
    "# 人工处理一天多次临时用药，删除或合并，每天只有一条临时用药\n",
    "'''\n",
    "1/日-1/晚、1/早-1/晚、1/午-1/晚等，相加\n",
    "1/日-ONCE、2/日-2/日、2/日-1/日，剂量相同-删除；剂量不同-相加\n",
    "'''"
   ]
  },
  {
   "cell_type": "code",
   "execution_count": 121,
   "metadata": {
    "collapsed": true
   },
   "outputs": [
    {
     "data": {
      "text/html": [
       "<div>\n",
       "<style scoped>\n",
       "    .dataframe tbody tr th:only-of-type {\n",
       "        vertical-align: middle;\n",
       "    }\n",
       "\n",
       "    .dataframe tbody tr th {\n",
       "        vertical-align: top;\n",
       "    }\n",
       "\n",
       "    .dataframe thead th {\n",
       "        text-align: right;\n",
       "    }\n",
       "</style>\n",
       "<table border=\"1\" class=\"dataframe\">\n",
       "  <thead>\n",
       "    <tr style=\"text-align: right;\">\n",
       "      <th></th>\n",
       "      <th>patient_id</th>\n",
       "      <th>case_no</th>\n",
       "      <th>drug_name</th>\n",
       "      <th>amount</th>\n",
       "      <th>drug_spec</th>\n",
       "      <th>dosage</th>\n",
       "      <th>frequency</th>\n",
       "      <th>start_datetime</th>\n",
       "      <th>end_datetime</th>\n",
       "      <th>statusdesc</th>\n",
       "      <th>日剂量</th>\n",
       "      <th>start_date</th>\n",
       "      <th>end_date</th>\n",
       "      <th>long_d_order</th>\n",
       "      <th>用药上下午标签</th>\n",
       "    </tr>\n",
       "  </thead>\n",
       "  <tbody>\n",
       "    <tr>\n",
       "      <th>0</th>\n",
       "      <td>1112533</td>\n",
       "      <td>12210690</td>\n",
       "      <td>丙戊酸钠缓释片(德巴金)[0.5g*30片]</td>\n",
       "      <td>1</td>\n",
       "      <td>0.5g*30片</td>\n",
       "      <td>0.5</td>\n",
       "      <td>1</td>\n",
       "      <td>2021-03-29 19:14:29</td>\n",
       "      <td>2021-03-29 19:14:29</td>\n",
       "      <td>核实</td>\n",
       "      <td>0.50</td>\n",
       "      <td>2021-03-29</td>\n",
       "      <td>2021-03-29</td>\n",
       "      <td>0</td>\n",
       "      <td>1</td>\n",
       "    </tr>\n",
       "    <tr>\n",
       "      <th>1</th>\n",
       "      <td>1112533</td>\n",
       "      <td>12210690</td>\n",
       "      <td>丙戊酸钠缓释片(德巴金)[0.5g*30片]</td>\n",
       "      <td>1</td>\n",
       "      <td>0.5g*30片</td>\n",
       "      <td>0.5</td>\n",
       "      <td>2</td>\n",
       "      <td>2021-03-31 09:09:50</td>\n",
       "      <td>2021-03-31 09:09:50</td>\n",
       "      <td>核实</td>\n",
       "      <td>1.00</td>\n",
       "      <td>2021-03-31</td>\n",
       "      <td>2021-03-31</td>\n",
       "      <td>0</td>\n",
       "      <td>0</td>\n",
       "    </tr>\n",
       "    <tr>\n",
       "      <th>2</th>\n",
       "      <td>1112533</td>\n",
       "      <td>12210690</td>\n",
       "      <td>丙戊酸钠缓释片(德巴金)[0.5g*30片]</td>\n",
       "      <td>1</td>\n",
       "      <td>0.5g*30片</td>\n",
       "      <td>0.75</td>\n",
       "      <td>1</td>\n",
       "      <td>2021-04-07 09:10:18</td>\n",
       "      <td>2021-04-07 09:10:18</td>\n",
       "      <td>核实</td>\n",
       "      <td>0.75</td>\n",
       "      <td>2021-04-07</td>\n",
       "      <td>2021-04-07</td>\n",
       "      <td>0</td>\n",
       "      <td>0</td>\n",
       "    </tr>\n",
       "    <tr>\n",
       "      <th>3</th>\n",
       "      <td>1112533</td>\n",
       "      <td>12210690</td>\n",
       "      <td>丙戊酸钠缓释片(德巴金)[0.5g*30片]</td>\n",
       "      <td>1</td>\n",
       "      <td>0.5g*30片</td>\n",
       "      <td>0.75</td>\n",
       "      <td>1</td>\n",
       "      <td>2021-04-09 19:49:24</td>\n",
       "      <td>2021-04-09 19:49:24</td>\n",
       "      <td>核实</td>\n",
       "      <td>0.75</td>\n",
       "      <td>2021-04-09</td>\n",
       "      <td>2021-04-09</td>\n",
       "      <td>0</td>\n",
       "      <td>1</td>\n",
       "    </tr>\n",
       "    <tr>\n",
       "      <th>4</th>\n",
       "      <td>1173560</td>\n",
       "      <td>13397293</td>\n",
       "      <td>丙戊酸钠缓释片(德巴金)[0.5g*30片]</td>\n",
       "      <td>1</td>\n",
       "      <td>0.5g*30片</td>\n",
       "      <td>0.5</td>\n",
       "      <td>2</td>\n",
       "      <td>2021-07-21 16:21:42</td>\n",
       "      <td>2021-07-21 16:21:42</td>\n",
       "      <td>核实</td>\n",
       "      <td>1.00</td>\n",
       "      <td>2021-07-21</td>\n",
       "      <td>2021-07-21</td>\n",
       "      <td>0</td>\n",
       "      <td>1</td>\n",
       "    </tr>\n",
       "  </tbody>\n",
       "</table>\n",
       "</div>"
      ],
      "text/plain": [
       "  patient_id   case_no               drug_name  amount drug_spec dosage  \\\n",
       "0    1112533  12210690  丙戊酸钠缓释片(德巴金)[0.5g*30片]       1  0.5g*30片    0.5   \n",
       "1    1112533  12210690  丙戊酸钠缓释片(德巴金)[0.5g*30片]       1  0.5g*30片    0.5   \n",
       "2    1112533  12210690  丙戊酸钠缓释片(德巴金)[0.5g*30片]       1  0.5g*30片   0.75   \n",
       "3    1112533  12210690  丙戊酸钠缓释片(德巴金)[0.5g*30片]       1  0.5g*30片   0.75   \n",
       "4    1173560  13397293  丙戊酸钠缓释片(德巴金)[0.5g*30片]       1  0.5g*30片    0.5   \n",
       "\n",
       "   frequency      start_datetime        end_datetime statusdesc   日剂量  \\\n",
       "0          1 2021-03-29 19:14:29 2021-03-29 19:14:29         核实  0.50   \n",
       "1          2 2021-03-31 09:09:50 2021-03-31 09:09:50         核实  1.00   \n",
       "2          1 2021-04-07 09:10:18 2021-04-07 09:10:18         核实  0.75   \n",
       "3          1 2021-04-09 19:49:24 2021-04-09 19:49:24         核实  0.75   \n",
       "4          2 2021-07-21 16:21:42 2021-07-21 16:21:42         核实  1.00   \n",
       "\n",
       "   start_date    end_date  long_d_order  用药上下午标签  \n",
       "0  2021-03-29  2021-03-29             0        1  \n",
       "1  2021-03-31  2021-03-31             0        0  \n",
       "2  2021-04-07  2021-04-07             0        0  \n",
       "3  2021-04-09  2021-04-09             0        1  \n",
       "4  2021-07-21  2021-07-21             0        1  "
      ]
     },
     "execution_count": 121,
     "metadata": {},
     "output_type": "execute_result"
    }
   ],
   "source": [
    "drug_temp.head()"
   ]
  },
  {
   "cell_type": "code",
   "execution_count": 124,
   "metadata": {},
   "outputs": [],
   "source": [
    "# 调整临时医嘱的日剂量， 根据开药时间\n",
    "def dosage_temp(x):\n",
    "    if (x['frequency']==2)&(x['小时_标签']>=13):\n",
    "        return x['日剂量']/2\n",
    "    elif (x['frequency']==3):\n",
    "        if (x['小时_标签']>=8) & (x['小时_标签']<12):\n",
    "            return x['日剂量']*2/3\n",
    "        elif x['小时_标签']>=12:\n",
    "            return x['日剂量']/3\n",
    "    else:\n",
    "        return x['日剂量']\n",
    "    \n",
    "# 小时标签用来 标记临时医嘱的时间，根据 frequency进行 日剂量的更改\n",
    "# 例如： 一日三次， 则 按照 12点和6点划分， 12-6之间是 2/3 \n",
    "drug_temp['小时_标签'] = drug_temp['start_datetime'].dt.hour\n",
    "\n",
    "drug_temp['日剂量'] = drug_temp.apply(dosage_temp,axis=1)\n",
    "drug_temp = drug_temp.drop(columns='小时_标签')"
   ]
  },
  {
   "cell_type": "code",
   "execution_count": 123,
   "metadata": {
    "collapsed": true
   },
   "outputs": [
    {
     "data": {
      "text/plain": [
       "0      19\n",
       "1       9\n",
       "2       9\n",
       "3      19\n",
       "4      16\n",
       "       ..\n",
       "762    10\n",
       "763    18\n",
       "764    10\n",
       "765    10\n",
       "766    11\n",
       "Name: start_datetime, Length: 460, dtype: int64"
      ]
     },
     "execution_count": 123,
     "metadata": {},
     "output_type": "execute_result"
    }
   ],
   "source": [
    "drug_temp['start_datetime'].dt.hour"
   ]
  },
  {
   "cell_type": "code",
   "execution_count": 129,
   "metadata": {},
   "outputs": [
    {
     "data": {
      "text/html": [
       "<div>\n",
       "<style scoped>\n",
       "    .dataframe tbody tr th:only-of-type {\n",
       "        vertical-align: middle;\n",
       "    }\n",
       "\n",
       "    .dataframe tbody tr th {\n",
       "        vertical-align: top;\n",
       "    }\n",
       "\n",
       "    .dataframe thead th {\n",
       "        text-align: right;\n",
       "    }\n",
       "</style>\n",
       "<table border=\"1\" class=\"dataframe\">\n",
       "  <thead>\n",
       "    <tr style=\"text-align: right;\">\n",
       "      <th></th>\n",
       "      <th>patient_id</th>\n",
       "      <th>case_no</th>\n",
       "      <th>drug_name</th>\n",
       "      <th>amount</th>\n",
       "      <th>drug_spec</th>\n",
       "      <th>dosage</th>\n",
       "      <th>frequency</th>\n",
       "      <th>start_datetime</th>\n",
       "      <th>end_datetime</th>\n",
       "      <th>statusdesc</th>\n",
       "      <th>日剂量</th>\n",
       "      <th>start_date</th>\n",
       "      <th>end_date</th>\n",
       "      <th>long_d_order</th>\n",
       "      <th>用药上下午标签</th>\n",
       "    </tr>\n",
       "  </thead>\n",
       "  <tbody>\n",
       "    <tr>\n",
       "      <th>0</th>\n",
       "      <td>1112533</td>\n",
       "      <td>12210690</td>\n",
       "      <td>丙戊酸钠缓释片(德巴金)[0.5g*30片]</td>\n",
       "      <td>1</td>\n",
       "      <td>0.5g*30片</td>\n",
       "      <td>0.5</td>\n",
       "      <td>1</td>\n",
       "      <td>2021-03-29 19:14:29</td>\n",
       "      <td>2021-03-29 19:14:29</td>\n",
       "      <td>核实</td>\n",
       "      <td>0.50</td>\n",
       "      <td>2021-03-29</td>\n",
       "      <td>2021-03-29</td>\n",
       "      <td>0</td>\n",
       "      <td>1</td>\n",
       "    </tr>\n",
       "    <tr>\n",
       "      <th>1</th>\n",
       "      <td>1112533</td>\n",
       "      <td>12210690</td>\n",
       "      <td>丙戊酸钠缓释片(德巴金)[0.5g*30片]</td>\n",
       "      <td>1</td>\n",
       "      <td>0.5g*30片</td>\n",
       "      <td>0.5</td>\n",
       "      <td>2</td>\n",
       "      <td>2021-03-31 09:09:50</td>\n",
       "      <td>2021-03-31 09:09:50</td>\n",
       "      <td>核实</td>\n",
       "      <td>1.00</td>\n",
       "      <td>2021-03-31</td>\n",
       "      <td>2021-03-31</td>\n",
       "      <td>0</td>\n",
       "      <td>0</td>\n",
       "    </tr>\n",
       "    <tr>\n",
       "      <th>2</th>\n",
       "      <td>1112533</td>\n",
       "      <td>12210690</td>\n",
       "      <td>丙戊酸钠缓释片(德巴金)[0.5g*30片]</td>\n",
       "      <td>1</td>\n",
       "      <td>0.5g*30片</td>\n",
       "      <td>0.75</td>\n",
       "      <td>1</td>\n",
       "      <td>2021-04-07 09:10:18</td>\n",
       "      <td>2021-04-07 09:10:18</td>\n",
       "      <td>核实</td>\n",
       "      <td>0.75</td>\n",
       "      <td>2021-04-07</td>\n",
       "      <td>2021-04-07</td>\n",
       "      <td>0</td>\n",
       "      <td>0</td>\n",
       "    </tr>\n",
       "    <tr>\n",
       "      <th>3</th>\n",
       "      <td>1112533</td>\n",
       "      <td>12210690</td>\n",
       "      <td>丙戊酸钠缓释片(德巴金)[0.5g*30片]</td>\n",
       "      <td>1</td>\n",
       "      <td>0.5g*30片</td>\n",
       "      <td>0.75</td>\n",
       "      <td>1</td>\n",
       "      <td>2021-04-09 19:49:24</td>\n",
       "      <td>2021-04-09 19:49:24</td>\n",
       "      <td>核实</td>\n",
       "      <td>0.75</td>\n",
       "      <td>2021-04-09</td>\n",
       "      <td>2021-04-09</td>\n",
       "      <td>0</td>\n",
       "      <td>1</td>\n",
       "    </tr>\n",
       "    <tr>\n",
       "      <th>4</th>\n",
       "      <td>1173560</td>\n",
       "      <td>13397293</td>\n",
       "      <td>丙戊酸钠缓释片(德巴金)[0.5g*30片]</td>\n",
       "      <td>1</td>\n",
       "      <td>0.5g*30片</td>\n",
       "      <td>0.5</td>\n",
       "      <td>2</td>\n",
       "      <td>2021-07-21 16:21:42</td>\n",
       "      <td>2021-07-21 16:21:42</td>\n",
       "      <td>核实</td>\n",
       "      <td>0.50</td>\n",
       "      <td>2021-07-21</td>\n",
       "      <td>2021-07-21</td>\n",
       "      <td>0</td>\n",
       "      <td>1</td>\n",
       "    </tr>\n",
       "  </tbody>\n",
       "</table>\n",
       "</div>"
      ],
      "text/plain": [
       "  patient_id   case_no               drug_name  amount drug_spec dosage  \\\n",
       "0    1112533  12210690  丙戊酸钠缓释片(德巴金)[0.5g*30片]       1  0.5g*30片    0.5   \n",
       "1    1112533  12210690  丙戊酸钠缓释片(德巴金)[0.5g*30片]       1  0.5g*30片    0.5   \n",
       "2    1112533  12210690  丙戊酸钠缓释片(德巴金)[0.5g*30片]       1  0.5g*30片   0.75   \n",
       "3    1112533  12210690  丙戊酸钠缓释片(德巴金)[0.5g*30片]       1  0.5g*30片   0.75   \n",
       "4    1173560  13397293  丙戊酸钠缓释片(德巴金)[0.5g*30片]       1  0.5g*30片    0.5   \n",
       "\n",
       "   frequency      start_datetime        end_datetime statusdesc   日剂量  \\\n",
       "0          1 2021-03-29 19:14:29 2021-03-29 19:14:29         核实  0.50   \n",
       "1          2 2021-03-31 09:09:50 2021-03-31 09:09:50         核实  1.00   \n",
       "2          1 2021-04-07 09:10:18 2021-04-07 09:10:18         核实  0.75   \n",
       "3          1 2021-04-09 19:49:24 2021-04-09 19:49:24         核实  0.75   \n",
       "4          2 2021-07-21 16:21:42 2021-07-21 16:21:42         核实  0.50   \n",
       "\n",
       "   start_date    end_date  long_d_order  用药上下午标签  \n",
       "0  2021-03-29  2021-03-29             0        1  \n",
       "1  2021-03-31  2021-03-31             0        0  \n",
       "2  2021-04-07  2021-04-07             0        0  \n",
       "3  2021-04-09  2021-04-09             0        1  \n",
       "4  2021-07-21  2021-07-21             0        1  "
      ]
     },
     "execution_count": 129,
     "metadata": {},
     "output_type": "execute_result"
    }
   ],
   "source": [
    "drug_temp.head()"
   ]
  },
  {
   "cell_type": "code",
   "execution_count": 131,
   "metadata": {},
   "outputs": [
    {
     "name": "stdout",
     "output_type": "stream",
     "text": [
      "(460, 15)\n",
      "205\n",
      "227\n"
     ]
    }
   ],
   "source": [
    "print(drug_temp.shape)\n",
    "print(drug_temp.patient_id.nunique())\n",
    "print(drug_temp.case_no.nunique())"
   ]
  },
  {
   "cell_type": "code",
   "execution_count": 132,
   "metadata": {},
   "outputs": [],
   "source": [
    "drug_temp.to_excel(project_path+'/data/processed_data/df_2.1.3.5_处理临时医嘱.xlsx')"
   ]
  },
  {
   "cell_type": "markdown",
   "metadata": {},
   "source": [
    "#### 处理长期医嘱"
   ]
  },
  {
   "cell_type": "code",
   "execution_count": null,
   "metadata": {},
   "outputs": [],
   "source": [
    "# 人工处理交叉的长期用药，合并或修改时间，处理成不存在用药期间交叉的长期用药\n",
    "'''\n",
    "1/日-1/晚，相加\n",
    "1/日-1/晚、1/早-1/晚、1/午-1/晚等，相加\n",
    "1/日-ONCE、2/日-2/日、2/日-1/日，剂量相同-删除；剂量不同-相加\n",
    "如果上一次用药的结束日期=下一次用药的起始日期：\n",
    "上 上，下一次日剂量\n",
    "上、下；下 上；下 下，上一次日剂量*1/2+下一次日剂量*1/2\n",
    "'''"
   ]
  },
  {
   "cell_type": "code",
   "execution_count": 134,
   "metadata": {},
   "outputs": [],
   "source": [
    "# 日期分裂函数\n",
    "def explode1(df, col):\n",
    "    dftem1 = pd.DataFrame()\n",
    "    for i in range(df.shape[0]):\n",
    "        dftem = df.iloc[i].to_frame().T\n",
    "        if isinstance(df.iloc[i][col], list):\n",
    "            if len(df.iloc[i][col]) > 0:\n",
    "                for j in range(len(df.iloc[i][col])):\n",
    "                    dftem[col + \"_\"] = df.iloc[i][col][j]\n",
    "                    dftem1 = pd.concat([dftem1, dftem])\n",
    "            else:\n",
    "                dftem1 = pd.concat([dftem1, dftem])\n",
    "        else:\n",
    "            dftem1 = pd.concat([dftem1, dftem])\n",
    "    del dftem1[col]\n",
    "    dftem1.rename(columns={col + \"_\": col}, inplace=True)\n",
    "    return dftem1"
   ]
  },
  {
   "cell_type": "code",
   "execution_count": 141,
   "metadata": {},
   "outputs": [],
   "source": [
    "# 分裂长期医嘱日期\n",
    "drug_long['分裂日期']=''\n",
    "drug_long=drug_long.reset_index(drop=True)\n",
    "for i in range(len(drug_long)):\n",
    "    drug_long['分裂日期'][i] = list(pd.date_range(start=drug_long['start_date'][i],end=drug_long['end_date'][i]))\n",
    "    \n",
    "drug_long=explode1(drug_long,'分裂日期')"
   ]
  },
  {
   "cell_type": "code",
   "execution_count": 147,
   "metadata": {},
   "outputs": [
    {
     "data": {
      "text/html": [
       "<div>\n",
       "<style scoped>\n",
       "    .dataframe tbody tr th:only-of-type {\n",
       "        vertical-align: middle;\n",
       "    }\n",
       "\n",
       "    .dataframe tbody tr th {\n",
       "        vertical-align: top;\n",
       "    }\n",
       "\n",
       "    .dataframe thead th {\n",
       "        text-align: right;\n",
       "    }\n",
       "</style>\n",
       "<table border=\"1\" class=\"dataframe\">\n",
       "  <thead>\n",
       "    <tr style=\"text-align: right;\">\n",
       "      <th></th>\n",
       "      <th>patient_id</th>\n",
       "      <th>case_no</th>\n",
       "      <th>drug_name</th>\n",
       "      <th>amount</th>\n",
       "      <th>drug_spec</th>\n",
       "      <th>dosage</th>\n",
       "      <th>frequency</th>\n",
       "      <th>start_datetime</th>\n",
       "      <th>end_datetime</th>\n",
       "      <th>statusdesc</th>\n",
       "      <th>日剂量</th>\n",
       "      <th>start_date</th>\n",
       "      <th>end_date</th>\n",
       "      <th>long_d_order</th>\n",
       "      <th>分裂日期</th>\n",
       "    </tr>\n",
       "  </thead>\n",
       "  <tbody>\n",
       "    <tr>\n",
       "      <th>0</th>\n",
       "      <td>1285315</td>\n",
       "      <td>4922567</td>\n",
       "      <td>丙戊酸钠缓释片(德巴金)[0.5g*30片]</td>\n",
       "      <td>1</td>\n",
       "      <td>0.5g*30片</td>\n",
       "      <td>0.5</td>\n",
       "      <td>2</td>\n",
       "      <td>2018-11-10 15:39:01</td>\n",
       "      <td>2018-11-30 08:15:00</td>\n",
       "      <td>停止</td>\n",
       "      <td>1</td>\n",
       "      <td>2018-11-10</td>\n",
       "      <td>2018-11-30</td>\n",
       "      <td>1</td>\n",
       "      <td>2018-11-10</td>\n",
       "    </tr>\n",
       "    <tr>\n",
       "      <th>0</th>\n",
       "      <td>1285315</td>\n",
       "      <td>4922567</td>\n",
       "      <td>丙戊酸钠缓释片(德巴金)[0.5g*30片]</td>\n",
       "      <td>1</td>\n",
       "      <td>0.5g*30片</td>\n",
       "      <td>0.5</td>\n",
       "      <td>2</td>\n",
       "      <td>2018-11-10 15:39:01</td>\n",
       "      <td>2018-11-30 08:15:00</td>\n",
       "      <td>停止</td>\n",
       "      <td>1</td>\n",
       "      <td>2018-11-10</td>\n",
       "      <td>2018-11-30</td>\n",
       "      <td>1</td>\n",
       "      <td>2018-11-11</td>\n",
       "    </tr>\n",
       "    <tr>\n",
       "      <th>0</th>\n",
       "      <td>1285315</td>\n",
       "      <td>4922567</td>\n",
       "      <td>丙戊酸钠缓释片(德巴金)[0.5g*30片]</td>\n",
       "      <td>1</td>\n",
       "      <td>0.5g*30片</td>\n",
       "      <td>0.5</td>\n",
       "      <td>2</td>\n",
       "      <td>2018-11-10 15:39:01</td>\n",
       "      <td>2018-11-30 08:15:00</td>\n",
       "      <td>停止</td>\n",
       "      <td>1</td>\n",
       "      <td>2018-11-10</td>\n",
       "      <td>2018-11-30</td>\n",
       "      <td>1</td>\n",
       "      <td>2018-11-12</td>\n",
       "    </tr>\n",
       "    <tr>\n",
       "      <th>0</th>\n",
       "      <td>1285315</td>\n",
       "      <td>4922567</td>\n",
       "      <td>丙戊酸钠缓释片(德巴金)[0.5g*30片]</td>\n",
       "      <td>1</td>\n",
       "      <td>0.5g*30片</td>\n",
       "      <td>0.5</td>\n",
       "      <td>2</td>\n",
       "      <td>2018-11-10 15:39:01</td>\n",
       "      <td>2018-11-30 08:15:00</td>\n",
       "      <td>停止</td>\n",
       "      <td>1</td>\n",
       "      <td>2018-11-10</td>\n",
       "      <td>2018-11-30</td>\n",
       "      <td>1</td>\n",
       "      <td>2018-11-13</td>\n",
       "    </tr>\n",
       "    <tr>\n",
       "      <th>0</th>\n",
       "      <td>1285315</td>\n",
       "      <td>4922567</td>\n",
       "      <td>丙戊酸钠缓释片(德巴金)[0.5g*30片]</td>\n",
       "      <td>1</td>\n",
       "      <td>0.5g*30片</td>\n",
       "      <td>0.5</td>\n",
       "      <td>2</td>\n",
       "      <td>2018-11-10 15:39:01</td>\n",
       "      <td>2018-11-30 08:15:00</td>\n",
       "      <td>停止</td>\n",
       "      <td>1</td>\n",
       "      <td>2018-11-10</td>\n",
       "      <td>2018-11-30</td>\n",
       "      <td>1</td>\n",
       "      <td>2018-11-14</td>\n",
       "    </tr>\n",
       "  </tbody>\n",
       "</table>\n",
       "</div>"
      ],
      "text/plain": [
       "  patient_id  case_no               drug_name amount drug_spec dosage  \\\n",
       "0    1285315  4922567  丙戊酸钠缓释片(德巴金)[0.5g*30片]      1  0.5g*30片    0.5   \n",
       "0    1285315  4922567  丙戊酸钠缓释片(德巴金)[0.5g*30片]      1  0.5g*30片    0.5   \n",
       "0    1285315  4922567  丙戊酸钠缓释片(德巴金)[0.5g*30片]      1  0.5g*30片    0.5   \n",
       "0    1285315  4922567  丙戊酸钠缓释片(德巴金)[0.5g*30片]      1  0.5g*30片    0.5   \n",
       "0    1285315  4922567  丙戊酸钠缓释片(德巴金)[0.5g*30片]      1  0.5g*30片    0.5   \n",
       "\n",
       "  frequency      start_datetime        end_datetime statusdesc 日剂量  \\\n",
       "0         2 2018-11-10 15:39:01 2018-11-30 08:15:00         停止   1   \n",
       "0         2 2018-11-10 15:39:01 2018-11-30 08:15:00         停止   1   \n",
       "0         2 2018-11-10 15:39:01 2018-11-30 08:15:00         停止   1   \n",
       "0         2 2018-11-10 15:39:01 2018-11-30 08:15:00         停止   1   \n",
       "0         2 2018-11-10 15:39:01 2018-11-30 08:15:00         停止   1   \n",
       "\n",
       "   start_date    end_date long_d_order       分裂日期  \n",
       "0  2018-11-10  2018-11-30            1 2018-11-10  \n",
       "0  2018-11-10  2018-11-30            1 2018-11-11  \n",
       "0  2018-11-10  2018-11-30            1 2018-11-12  \n",
       "0  2018-11-10  2018-11-30            1 2018-11-13  \n",
       "0  2018-11-10  2018-11-30            1 2018-11-14  "
      ]
     },
     "execution_count": 147,
     "metadata": {},
     "output_type": "execute_result"
    }
   ],
   "source": [
    "drug_long.head()"
   ]
  },
  {
   "cell_type": "code",
   "execution_count": 146,
   "metadata": {},
   "outputs": [],
   "source": [
    "drug_long.to_excel('./data/processed_data/df_2.1.3.6_拆分长期医嘱.xlsx')"
   ]
  },
  {
   "cell_type": "code",
   "execution_count": 148,
   "metadata": {},
   "outputs": [
    {
     "ename": "KeyError",
     "evalue": "1",
     "output_type": "error",
     "traceback": [
      "\u001b[1;31m---------------------------------------------------------------------------\u001b[0m",
      "\u001b[1;31mKeyError\u001b[0m                                  Traceback (most recent call last)",
      "\u001b[1;32mD:\\Anaconda3\\lib\\site-packages\\pandas\\core\\indexes\\base.py\u001b[0m in \u001b[0;36mget_loc\u001b[1;34m(self, key, method, tolerance)\u001b[0m\n\u001b[0;32m   2897\u001b[0m             \u001b[1;32mtry\u001b[0m\u001b[1;33m:\u001b[0m\u001b[1;33m\u001b[0m\u001b[1;33m\u001b[0m\u001b[0m\n\u001b[1;32m-> 2898\u001b[1;33m                 \u001b[1;32mreturn\u001b[0m \u001b[0mself\u001b[0m\u001b[1;33m.\u001b[0m\u001b[0m_engine\u001b[0m\u001b[1;33m.\u001b[0m\u001b[0mget_loc\u001b[0m\u001b[1;33m(\u001b[0m\u001b[0mcasted_key\u001b[0m\u001b[1;33m)\u001b[0m\u001b[1;33m\u001b[0m\u001b[1;33m\u001b[0m\u001b[0m\n\u001b[0m\u001b[0;32m   2899\u001b[0m             \u001b[1;32mexcept\u001b[0m \u001b[0mKeyError\u001b[0m \u001b[1;32mas\u001b[0m \u001b[0merr\u001b[0m\u001b[1;33m:\u001b[0m\u001b[1;33m\u001b[0m\u001b[1;33m\u001b[0m\u001b[0m\n",
      "\u001b[1;32mpandas\\_libs\\index.pyx\u001b[0m in \u001b[0;36mpandas._libs.index.IndexEngine.get_loc\u001b[1;34m()\u001b[0m\n",
      "\u001b[1;32mpandas\\_libs\\index.pyx\u001b[0m in \u001b[0;36mpandas._libs.index.IndexEngine.get_loc\u001b[1;34m()\u001b[0m\n",
      "\u001b[1;32mpandas\\_libs\\index.pyx\u001b[0m in \u001b[0;36mpandas._libs.index.IndexEngine._get_loc_duplicates\u001b[1;34m()\u001b[0m\n",
      "\u001b[1;31mKeyError\u001b[0m: 1",
      "\nThe above exception was the direct cause of the following exception:\n",
      "\u001b[1;31mKeyError\u001b[0m                                  Traceback (most recent call last)",
      "\u001b[1;32m<ipython-input-148-575e33deb9b6>\u001b[0m in \u001b[0;36m<module>\u001b[1;34m\u001b[0m\n\u001b[0;32m      4\u001b[0m     \u001b[0mtemp\u001b[0m\u001b[1;33m=\u001b[0m\u001b[0mdrug_long\u001b[0m\u001b[1;33m[\u001b[0m\u001b[0mdrug_long\u001b[0m\u001b[1;33m[\u001b[0m\u001b[1;34m'case_no'\u001b[0m\u001b[1;33m]\u001b[0m\u001b[1;33m==\u001b[0m\u001b[0mi\u001b[0m\u001b[1;33m]\u001b[0m\u001b[1;33m\u001b[0m\u001b[1;33m\u001b[0m\u001b[0m\n\u001b[0;32m      5\u001b[0m     \u001b[1;32mfor\u001b[0m \u001b[0mj\u001b[0m \u001b[1;32min\u001b[0m \u001b[0mrange\u001b[0m\u001b[1;33m(\u001b[0m\u001b[0mtemp\u001b[0m\u001b[1;33m.\u001b[0m\u001b[0mshape\u001b[0m\u001b[1;33m[\u001b[0m\u001b[1;36m0\u001b[0m\u001b[1;33m]\u001b[0m\u001b[1;33m)\u001b[0m\u001b[1;33m:\u001b[0m\u001b[1;33m\u001b[0m\u001b[1;33m\u001b[0m\u001b[0m\n\u001b[1;32m----> 6\u001b[1;33m         \u001b[1;32mif\u001b[0m \u001b[0mtemp\u001b[0m\u001b[1;33m.\u001b[0m\u001b[0mloc\u001b[0m\u001b[1;33m[\u001b[0m\u001b[0mj\u001b[0m\u001b[1;33m,\u001b[0m\u001b[1;34m'分裂日期'\u001b[0m\u001b[1;33m]\u001b[0m\u001b[1;33m==\u001b[0m\u001b[0mtemp\u001b[0m\u001b[1;33m.\u001b[0m\u001b[0mloc\u001b[0m\u001b[1;33m[\u001b[0m\u001b[0mj\u001b[0m\u001b[1;33m+\u001b[0m\u001b[1;36m1\u001b[0m\u001b[1;33m,\u001b[0m\u001b[1;34m'分裂日期'\u001b[0m\u001b[1;33m]\u001b[0m\u001b[1;33m:\u001b[0m\u001b[1;33m\u001b[0m\u001b[1;33m\u001b[0m\u001b[0m\n\u001b[0m\u001b[0;32m      7\u001b[0m             \u001b[1;32mpass\u001b[0m\u001b[1;33m\u001b[0m\u001b[1;33m\u001b[0m\u001b[0m\n",
      "\u001b[1;32mD:\\Anaconda3\\lib\\site-packages\\pandas\\core\\indexing.py\u001b[0m in \u001b[0;36m__getitem__\u001b[1;34m(self, key)\u001b[0m\n\u001b[0;32m    871\u001b[0m                     \u001b[1;31m# AttributeError for IntervalTree get_value\u001b[0m\u001b[1;33m\u001b[0m\u001b[1;33m\u001b[0m\u001b[1;33m\u001b[0m\u001b[0m\n\u001b[0;32m    872\u001b[0m                     \u001b[1;32mpass\u001b[0m\u001b[1;33m\u001b[0m\u001b[1;33m\u001b[0m\u001b[0m\n\u001b[1;32m--> 873\u001b[1;33m             \u001b[1;32mreturn\u001b[0m \u001b[0mself\u001b[0m\u001b[1;33m.\u001b[0m\u001b[0m_getitem_tuple\u001b[0m\u001b[1;33m(\u001b[0m\u001b[0mkey\u001b[0m\u001b[1;33m)\u001b[0m\u001b[1;33m\u001b[0m\u001b[1;33m\u001b[0m\u001b[0m\n\u001b[0m\u001b[0;32m    874\u001b[0m         \u001b[1;32melse\u001b[0m\u001b[1;33m:\u001b[0m\u001b[1;33m\u001b[0m\u001b[1;33m\u001b[0m\u001b[0m\n\u001b[0;32m    875\u001b[0m             \u001b[1;31m# we by definition only have the 0th axis\u001b[0m\u001b[1;33m\u001b[0m\u001b[1;33m\u001b[0m\u001b[1;33m\u001b[0m\u001b[0m\n",
      "\u001b[1;32mD:\\Anaconda3\\lib\\site-packages\\pandas\\core\\indexing.py\u001b[0m in \u001b[0;36m_getitem_tuple\u001b[1;34m(self, tup)\u001b[0m\n\u001b[0;32m   1042\u001b[0m     \u001b[1;32mdef\u001b[0m \u001b[0m_getitem_tuple\u001b[0m\u001b[1;33m(\u001b[0m\u001b[0mself\u001b[0m\u001b[1;33m,\u001b[0m \u001b[0mtup\u001b[0m\u001b[1;33m:\u001b[0m \u001b[0mTuple\u001b[0m\u001b[1;33m)\u001b[0m\u001b[1;33m:\u001b[0m\u001b[1;33m\u001b[0m\u001b[1;33m\u001b[0m\u001b[0m\n\u001b[0;32m   1043\u001b[0m         \u001b[1;32mtry\u001b[0m\u001b[1;33m:\u001b[0m\u001b[1;33m\u001b[0m\u001b[1;33m\u001b[0m\u001b[0m\n\u001b[1;32m-> 1044\u001b[1;33m             \u001b[1;32mreturn\u001b[0m \u001b[0mself\u001b[0m\u001b[1;33m.\u001b[0m\u001b[0m_getitem_lowerdim\u001b[0m\u001b[1;33m(\u001b[0m\u001b[0mtup\u001b[0m\u001b[1;33m)\u001b[0m\u001b[1;33m\u001b[0m\u001b[1;33m\u001b[0m\u001b[0m\n\u001b[0m\u001b[0;32m   1045\u001b[0m         \u001b[1;32mexcept\u001b[0m \u001b[0mIndexingError\u001b[0m\u001b[1;33m:\u001b[0m\u001b[1;33m\u001b[0m\u001b[1;33m\u001b[0m\u001b[0m\n\u001b[0;32m   1046\u001b[0m             \u001b[1;32mpass\u001b[0m\u001b[1;33m\u001b[0m\u001b[1;33m\u001b[0m\u001b[0m\n",
      "\u001b[1;32mD:\\Anaconda3\\lib\\site-packages\\pandas\\core\\indexing.py\u001b[0m in \u001b[0;36m_getitem_lowerdim\u001b[1;34m(self, tup)\u001b[0m\n\u001b[0;32m    784\u001b[0m                 \u001b[1;31m# We don't need to check for tuples here because those are\u001b[0m\u001b[1;33m\u001b[0m\u001b[1;33m\u001b[0m\u001b[1;33m\u001b[0m\u001b[0m\n\u001b[0;32m    785\u001b[0m                 \u001b[1;31m#  caught by the _is_nested_tuple_indexer check above.\u001b[0m\u001b[1;33m\u001b[0m\u001b[1;33m\u001b[0m\u001b[1;33m\u001b[0m\u001b[0m\n\u001b[1;32m--> 786\u001b[1;33m                 \u001b[0msection\u001b[0m \u001b[1;33m=\u001b[0m \u001b[0mself\u001b[0m\u001b[1;33m.\u001b[0m\u001b[0m_getitem_axis\u001b[0m\u001b[1;33m(\u001b[0m\u001b[0mkey\u001b[0m\u001b[1;33m,\u001b[0m \u001b[0maxis\u001b[0m\u001b[1;33m=\u001b[0m\u001b[0mi\u001b[0m\u001b[1;33m)\u001b[0m\u001b[1;33m\u001b[0m\u001b[1;33m\u001b[0m\u001b[0m\n\u001b[0m\u001b[0;32m    787\u001b[0m \u001b[1;33m\u001b[0m\u001b[0m\n\u001b[0;32m    788\u001b[0m                 \u001b[1;31m# We should never have a scalar section here, because\u001b[0m\u001b[1;33m\u001b[0m\u001b[1;33m\u001b[0m\u001b[1;33m\u001b[0m\u001b[0m\n",
      "\u001b[1;32mD:\\Anaconda3\\lib\\site-packages\\pandas\\core\\indexing.py\u001b[0m in \u001b[0;36m_getitem_axis\u001b[1;34m(self, key, axis)\u001b[0m\n\u001b[0;32m   1108\u001b[0m         \u001b[1;31m# fall thru to straight lookup\u001b[0m\u001b[1;33m\u001b[0m\u001b[1;33m\u001b[0m\u001b[1;33m\u001b[0m\u001b[0m\n\u001b[0;32m   1109\u001b[0m         \u001b[0mself\u001b[0m\u001b[1;33m.\u001b[0m\u001b[0m_validate_key\u001b[0m\u001b[1;33m(\u001b[0m\u001b[0mkey\u001b[0m\u001b[1;33m,\u001b[0m \u001b[0maxis\u001b[0m\u001b[1;33m)\u001b[0m\u001b[1;33m\u001b[0m\u001b[1;33m\u001b[0m\u001b[0m\n\u001b[1;32m-> 1110\u001b[1;33m         \u001b[1;32mreturn\u001b[0m \u001b[0mself\u001b[0m\u001b[1;33m.\u001b[0m\u001b[0m_get_label\u001b[0m\u001b[1;33m(\u001b[0m\u001b[0mkey\u001b[0m\u001b[1;33m,\u001b[0m \u001b[0maxis\u001b[0m\u001b[1;33m=\u001b[0m\u001b[0maxis\u001b[0m\u001b[1;33m)\u001b[0m\u001b[1;33m\u001b[0m\u001b[1;33m\u001b[0m\u001b[0m\n\u001b[0m\u001b[0;32m   1111\u001b[0m \u001b[1;33m\u001b[0m\u001b[0m\n\u001b[0;32m   1112\u001b[0m     \u001b[1;32mdef\u001b[0m \u001b[0m_get_slice_axis\u001b[0m\u001b[1;33m(\u001b[0m\u001b[0mself\u001b[0m\u001b[1;33m,\u001b[0m \u001b[0mslice_obj\u001b[0m\u001b[1;33m:\u001b[0m \u001b[0mslice\u001b[0m\u001b[1;33m,\u001b[0m \u001b[0maxis\u001b[0m\u001b[1;33m:\u001b[0m \u001b[0mint\u001b[0m\u001b[1;33m)\u001b[0m\u001b[1;33m:\u001b[0m\u001b[1;33m\u001b[0m\u001b[1;33m\u001b[0m\u001b[0m\n",
      "\u001b[1;32mD:\\Anaconda3\\lib\\site-packages\\pandas\\core\\indexing.py\u001b[0m in \u001b[0;36m_get_label\u001b[1;34m(self, label, axis)\u001b[0m\n\u001b[0;32m   1057\u001b[0m     \u001b[1;32mdef\u001b[0m \u001b[0m_get_label\u001b[0m\u001b[1;33m(\u001b[0m\u001b[0mself\u001b[0m\u001b[1;33m,\u001b[0m \u001b[0mlabel\u001b[0m\u001b[1;33m,\u001b[0m \u001b[0maxis\u001b[0m\u001b[1;33m:\u001b[0m \u001b[0mint\u001b[0m\u001b[1;33m)\u001b[0m\u001b[1;33m:\u001b[0m\u001b[1;33m\u001b[0m\u001b[1;33m\u001b[0m\u001b[0m\n\u001b[0;32m   1058\u001b[0m         \u001b[1;31m# GH#5667 this will fail if the label is not present in the axis.\u001b[0m\u001b[1;33m\u001b[0m\u001b[1;33m\u001b[0m\u001b[1;33m\u001b[0m\u001b[0m\n\u001b[1;32m-> 1059\u001b[1;33m         \u001b[1;32mreturn\u001b[0m \u001b[0mself\u001b[0m\u001b[1;33m.\u001b[0m\u001b[0mobj\u001b[0m\u001b[1;33m.\u001b[0m\u001b[0mxs\u001b[0m\u001b[1;33m(\u001b[0m\u001b[0mlabel\u001b[0m\u001b[1;33m,\u001b[0m \u001b[0maxis\u001b[0m\u001b[1;33m=\u001b[0m\u001b[0maxis\u001b[0m\u001b[1;33m)\u001b[0m\u001b[1;33m\u001b[0m\u001b[1;33m\u001b[0m\u001b[0m\n\u001b[0m\u001b[0;32m   1060\u001b[0m \u001b[1;33m\u001b[0m\u001b[0m\n\u001b[0;32m   1061\u001b[0m     \u001b[1;32mdef\u001b[0m \u001b[0m_handle_lowerdim_multi_index_axis0\u001b[0m\u001b[1;33m(\u001b[0m\u001b[0mself\u001b[0m\u001b[1;33m,\u001b[0m \u001b[0mtup\u001b[0m\u001b[1;33m:\u001b[0m \u001b[0mTuple\u001b[0m\u001b[1;33m)\u001b[0m\u001b[1;33m:\u001b[0m\u001b[1;33m\u001b[0m\u001b[1;33m\u001b[0m\u001b[0m\n",
      "\u001b[1;32mD:\\Anaconda3\\lib\\site-packages\\pandas\\core\\generic.py\u001b[0m in \u001b[0;36mxs\u001b[1;34m(self, key, axis, level, drop_level)\u001b[0m\n\u001b[0;32m   3491\u001b[0m             \u001b[0mloc\u001b[0m\u001b[1;33m,\u001b[0m \u001b[0mnew_index\u001b[0m \u001b[1;33m=\u001b[0m \u001b[0mself\u001b[0m\u001b[1;33m.\u001b[0m\u001b[0mindex\u001b[0m\u001b[1;33m.\u001b[0m\u001b[0mget_loc_level\u001b[0m\u001b[1;33m(\u001b[0m\u001b[0mkey\u001b[0m\u001b[1;33m,\u001b[0m \u001b[0mdrop_level\u001b[0m\u001b[1;33m=\u001b[0m\u001b[0mdrop_level\u001b[0m\u001b[1;33m)\u001b[0m\u001b[1;33m\u001b[0m\u001b[1;33m\u001b[0m\u001b[0m\n\u001b[0;32m   3492\u001b[0m         \u001b[1;32melse\u001b[0m\u001b[1;33m:\u001b[0m\u001b[1;33m\u001b[0m\u001b[1;33m\u001b[0m\u001b[0m\n\u001b[1;32m-> 3493\u001b[1;33m             \u001b[0mloc\u001b[0m \u001b[1;33m=\u001b[0m \u001b[0mself\u001b[0m\u001b[1;33m.\u001b[0m\u001b[0mindex\u001b[0m\u001b[1;33m.\u001b[0m\u001b[0mget_loc\u001b[0m\u001b[1;33m(\u001b[0m\u001b[0mkey\u001b[0m\u001b[1;33m)\u001b[0m\u001b[1;33m\u001b[0m\u001b[1;33m\u001b[0m\u001b[0m\n\u001b[0m\u001b[0;32m   3494\u001b[0m \u001b[1;33m\u001b[0m\u001b[0m\n\u001b[0;32m   3495\u001b[0m             \u001b[1;32mif\u001b[0m \u001b[0misinstance\u001b[0m\u001b[1;33m(\u001b[0m\u001b[0mloc\u001b[0m\u001b[1;33m,\u001b[0m \u001b[0mnp\u001b[0m\u001b[1;33m.\u001b[0m\u001b[0mndarray\u001b[0m\u001b[1;33m)\u001b[0m\u001b[1;33m:\u001b[0m\u001b[1;33m\u001b[0m\u001b[1;33m\u001b[0m\u001b[0m\n",
      "\u001b[1;32mD:\\Anaconda3\\lib\\site-packages\\pandas\\core\\indexes\\base.py\u001b[0m in \u001b[0;36mget_loc\u001b[1;34m(self, key, method, tolerance)\u001b[0m\n\u001b[0;32m   2898\u001b[0m                 \u001b[1;32mreturn\u001b[0m \u001b[0mself\u001b[0m\u001b[1;33m.\u001b[0m\u001b[0m_engine\u001b[0m\u001b[1;33m.\u001b[0m\u001b[0mget_loc\u001b[0m\u001b[1;33m(\u001b[0m\u001b[0mcasted_key\u001b[0m\u001b[1;33m)\u001b[0m\u001b[1;33m\u001b[0m\u001b[1;33m\u001b[0m\u001b[0m\n\u001b[0;32m   2899\u001b[0m             \u001b[1;32mexcept\u001b[0m \u001b[0mKeyError\u001b[0m \u001b[1;32mas\u001b[0m \u001b[0merr\u001b[0m\u001b[1;33m:\u001b[0m\u001b[1;33m\u001b[0m\u001b[1;33m\u001b[0m\u001b[0m\n\u001b[1;32m-> 2900\u001b[1;33m                 \u001b[1;32mraise\u001b[0m \u001b[0mKeyError\u001b[0m\u001b[1;33m(\u001b[0m\u001b[0mkey\u001b[0m\u001b[1;33m)\u001b[0m \u001b[1;32mfrom\u001b[0m \u001b[0merr\u001b[0m\u001b[1;33m\u001b[0m\u001b[1;33m\u001b[0m\u001b[0m\n\u001b[0m\u001b[0;32m   2901\u001b[0m \u001b[1;33m\u001b[0m\u001b[0m\n\u001b[0;32m   2902\u001b[0m         \u001b[1;32mif\u001b[0m \u001b[0mtolerance\u001b[0m \u001b[1;32mis\u001b[0m \u001b[1;32mnot\u001b[0m \u001b[1;32mNone\u001b[0m\u001b[1;33m:\u001b[0m\u001b[1;33m\u001b[0m\u001b[1;33m\u001b[0m\u001b[0m\n",
      "\u001b[1;31mKeyError\u001b[0m: 1"
     ]
    }
   ],
   "source": [
    "# 调整上一次结束日期=下一次起始的日剂量\n",
    "temp_list=[]\n",
    "for i in drug_long.case_no.unique():\n",
    "    temp=drug_long[drug_long['case_no']==i]\n",
    "    for j in range(temp.shape[0]):\n",
    "        if temp.loc[j,'分裂日期']==temp.loc[j+1,'分裂日期']:\n",
    "            pass"
   ]
  },
  {
   "cell_type": "code",
   "execution_count": null,
   "metadata": {},
   "outputs": [],
   "source": []
  },
  {
   "cell_type": "code",
   "execution_count": 137,
   "metadata": {},
   "outputs": [
    {
     "ename": "KeyError",
     "evalue": "'分裂日期'",
     "output_type": "error",
     "traceback": [
      "\u001b[1;31m---------------------------------------------------------------------------\u001b[0m",
      "\u001b[1;31mKeyError\u001b[0m                                  Traceback (most recent call last)",
      "\u001b[1;32mD:\\Anaconda3\\lib\\site-packages\\pandas\\core\\indexes\\base.py\u001b[0m in \u001b[0;36mget_loc\u001b[1;34m(self, key, method, tolerance)\u001b[0m\n\u001b[0;32m   2897\u001b[0m             \u001b[1;32mtry\u001b[0m\u001b[1;33m:\u001b[0m\u001b[1;33m\u001b[0m\u001b[1;33m\u001b[0m\u001b[0m\n\u001b[1;32m-> 2898\u001b[1;33m                 \u001b[1;32mreturn\u001b[0m \u001b[0mself\u001b[0m\u001b[1;33m.\u001b[0m\u001b[0m_engine\u001b[0m\u001b[1;33m.\u001b[0m\u001b[0mget_loc\u001b[0m\u001b[1;33m(\u001b[0m\u001b[0mcasted_key\u001b[0m\u001b[1;33m)\u001b[0m\u001b[1;33m\u001b[0m\u001b[1;33m\u001b[0m\u001b[0m\n\u001b[0m\u001b[0;32m   2899\u001b[0m             \u001b[1;32mexcept\u001b[0m \u001b[0mKeyError\u001b[0m \u001b[1;32mas\u001b[0m \u001b[0merr\u001b[0m\u001b[1;33m:\u001b[0m\u001b[1;33m\u001b[0m\u001b[1;33m\u001b[0m\u001b[0m\n",
      "\u001b[1;32mpandas\\_libs\\index.pyx\u001b[0m in \u001b[0;36mpandas._libs.index.IndexEngine.get_loc\u001b[1;34m()\u001b[0m\n",
      "\u001b[1;32mpandas\\_libs\\index.pyx\u001b[0m in \u001b[0;36mpandas._libs.index.IndexEngine.get_loc\u001b[1;34m()\u001b[0m\n",
      "\u001b[1;32mpandas\\_libs\\hashtable_class_helper.pxi\u001b[0m in \u001b[0;36mpandas._libs.hashtable.PyObjectHashTable.get_item\u001b[1;34m()\u001b[0m\n",
      "\u001b[1;32mpandas\\_libs\\hashtable_class_helper.pxi\u001b[0m in \u001b[0;36mpandas._libs.hashtable.PyObjectHashTable.get_item\u001b[1;34m()\u001b[0m\n",
      "\u001b[1;31mKeyError\u001b[0m: '分裂日期'",
      "\nThe above exception was the direct cause of the following exception:\n",
      "\u001b[1;31mKeyError\u001b[0m                                  Traceback (most recent call last)",
      "\u001b[1;32m<ipython-input-137-cbb92a53606b>\u001b[0m in \u001b[0;36m<module>\u001b[1;34m\u001b[0m\n\u001b[0;32m      2\u001b[0m \u001b[0mdrug_long\u001b[0m\u001b[1;33m=\u001b[0m\u001b[0mexplode1\u001b[0m\u001b[1;33m(\u001b[0m\u001b[0mdrug_long\u001b[0m\u001b[1;33m,\u001b[0m\u001b[1;34m'分裂日期'\u001b[0m\u001b[1;33m)\u001b[0m\u001b[1;33m\u001b[0m\u001b[1;33m\u001b[0m\u001b[0m\n\u001b[0;32m      3\u001b[0m \u001b[1;33m\u001b[0m\u001b[0m\n\u001b[1;32m----> 4\u001b[1;33m \u001b[0mdrug_long\u001b[0m\u001b[1;33m[\u001b[0m\u001b[1;34m'分裂日期'\u001b[0m\u001b[1;33m]\u001b[0m\u001b[1;33m=\u001b[0m\u001b[0mdrug_long\u001b[0m\u001b[1;33m[\u001b[0m\u001b[1;34m'分裂日期'\u001b[0m\u001b[1;33m]\u001b[0m\u001b[1;33m.\u001b[0m\u001b[0mapply\u001b[0m\u001b[1;33m(\u001b[0m\u001b[1;32mlambda\u001b[0m \u001b[0mx\u001b[0m\u001b[1;33m:\u001b[0m \u001b[0mstr\u001b[0m\u001b[1;33m(\u001b[0m\u001b[0mx\u001b[0m\u001b[1;33m)\u001b[0m\u001b[1;33m.\u001b[0m\u001b[0msplit\u001b[0m\u001b[1;33m(\u001b[0m\u001b[1;34m' '\u001b[0m\u001b[1;33m)\u001b[0m\u001b[1;33m[\u001b[0m\u001b[1;36m0\u001b[0m\u001b[1;33m]\u001b[0m\u001b[1;33m)\u001b[0m\u001b[1;33m\u001b[0m\u001b[1;33m\u001b[0m\u001b[0m\n\u001b[0m\u001b[0;32m      5\u001b[0m \u001b[1;33m\u001b[0m\u001b[0m\n\u001b[0;32m      6\u001b[0m drug_long['起始标签'] = drug_long.apply(lambda x: '起始' if x['分裂日期']==x['start_date'] else \n",
      "\u001b[1;32mD:\\Anaconda3\\lib\\site-packages\\pandas\\core\\frame.py\u001b[0m in \u001b[0;36m__getitem__\u001b[1;34m(self, key)\u001b[0m\n\u001b[0;32m   2904\u001b[0m             \u001b[1;32mif\u001b[0m \u001b[0mself\u001b[0m\u001b[1;33m.\u001b[0m\u001b[0mcolumns\u001b[0m\u001b[1;33m.\u001b[0m\u001b[0mnlevels\u001b[0m \u001b[1;33m>\u001b[0m \u001b[1;36m1\u001b[0m\u001b[1;33m:\u001b[0m\u001b[1;33m\u001b[0m\u001b[1;33m\u001b[0m\u001b[0m\n\u001b[0;32m   2905\u001b[0m                 \u001b[1;32mreturn\u001b[0m \u001b[0mself\u001b[0m\u001b[1;33m.\u001b[0m\u001b[0m_getitem_multilevel\u001b[0m\u001b[1;33m(\u001b[0m\u001b[0mkey\u001b[0m\u001b[1;33m)\u001b[0m\u001b[1;33m\u001b[0m\u001b[1;33m\u001b[0m\u001b[0m\n\u001b[1;32m-> 2906\u001b[1;33m             \u001b[0mindexer\u001b[0m \u001b[1;33m=\u001b[0m \u001b[0mself\u001b[0m\u001b[1;33m.\u001b[0m\u001b[0mcolumns\u001b[0m\u001b[1;33m.\u001b[0m\u001b[0mget_loc\u001b[0m\u001b[1;33m(\u001b[0m\u001b[0mkey\u001b[0m\u001b[1;33m)\u001b[0m\u001b[1;33m\u001b[0m\u001b[1;33m\u001b[0m\u001b[0m\n\u001b[0m\u001b[0;32m   2907\u001b[0m             \u001b[1;32mif\u001b[0m \u001b[0mis_integer\u001b[0m\u001b[1;33m(\u001b[0m\u001b[0mindexer\u001b[0m\u001b[1;33m)\u001b[0m\u001b[1;33m:\u001b[0m\u001b[1;33m\u001b[0m\u001b[1;33m\u001b[0m\u001b[0m\n\u001b[0;32m   2908\u001b[0m                 \u001b[0mindexer\u001b[0m \u001b[1;33m=\u001b[0m \u001b[1;33m[\u001b[0m\u001b[0mindexer\u001b[0m\u001b[1;33m]\u001b[0m\u001b[1;33m\u001b[0m\u001b[1;33m\u001b[0m\u001b[0m\n",
      "\u001b[1;32mD:\\Anaconda3\\lib\\site-packages\\pandas\\core\\indexes\\base.py\u001b[0m in \u001b[0;36mget_loc\u001b[1;34m(self, key, method, tolerance)\u001b[0m\n\u001b[0;32m   2898\u001b[0m                 \u001b[1;32mreturn\u001b[0m \u001b[0mself\u001b[0m\u001b[1;33m.\u001b[0m\u001b[0m_engine\u001b[0m\u001b[1;33m.\u001b[0m\u001b[0mget_loc\u001b[0m\u001b[1;33m(\u001b[0m\u001b[0mcasted_key\u001b[0m\u001b[1;33m)\u001b[0m\u001b[1;33m\u001b[0m\u001b[1;33m\u001b[0m\u001b[0m\n\u001b[0;32m   2899\u001b[0m             \u001b[1;32mexcept\u001b[0m \u001b[0mKeyError\u001b[0m \u001b[1;32mas\u001b[0m \u001b[0merr\u001b[0m\u001b[1;33m:\u001b[0m\u001b[1;33m\u001b[0m\u001b[1;33m\u001b[0m\u001b[0m\n\u001b[1;32m-> 2900\u001b[1;33m                 \u001b[1;32mraise\u001b[0m \u001b[0mKeyError\u001b[0m\u001b[1;33m(\u001b[0m\u001b[0mkey\u001b[0m\u001b[1;33m)\u001b[0m \u001b[1;32mfrom\u001b[0m \u001b[0merr\u001b[0m\u001b[1;33m\u001b[0m\u001b[1;33m\u001b[0m\u001b[0m\n\u001b[0m\u001b[0;32m   2901\u001b[0m \u001b[1;33m\u001b[0m\u001b[0m\n\u001b[0;32m   2902\u001b[0m         \u001b[1;32mif\u001b[0m \u001b[0mtolerance\u001b[0m \u001b[1;32mis\u001b[0m \u001b[1;32mnot\u001b[0m \u001b[1;32mNone\u001b[0m\u001b[1;33m:\u001b[0m\u001b[1;33m\u001b[0m\u001b[1;33m\u001b[0m\u001b[0m\n",
      "\u001b[1;31mKeyError\u001b[0m: '分裂日期'"
     ]
    }
   ],
   "source": [
    "# 分裂长期医嘱日期\n",
    "drug_long=explode1(drug_long,'分裂日期')\n",
    "\n",
    "drug_long['分裂日期']=drug_long['分裂日期'].apply(lambda x: str(x).split(' ')[0])\n",
    "\n",
    "drug_long['起始标签'] = drug_long.apply(lambda x: '起始' if x['分裂日期']==x['start_date'] else \n",
    "                                                    '结尾' if x['分裂日期']==x['end_date'] else \n",
    "                                                    '期间', axis=1)"
   ]
  },
  {
   "cell_type": "code",
   "execution_count": null,
   "metadata": {},
   "outputs": [],
   "source": [
    "drug_long.to_excel(project_path+'/data/processed_data/df_2.1.3.6_处理长期医嘱.xlsx')"
   ]
  },
  {
   "cell_type": "code",
   "execution_count": null,
   "metadata": {},
   "outputs": [],
   "source": []
  },
  {
   "cell_type": "code",
   "execution_count": null,
   "metadata": {},
   "outputs": [],
   "source": []
  },
  {
   "cell_type": "markdown",
   "metadata": {},
   "source": [
    "#### 处理临时医嘱"
   ]
  },
  {
   "cell_type": "code",
   "execution_count": 115,
   "metadata": {},
   "outputs": [],
   "source": [
    "# 打临时时间标签，上午为0，下午为1\n",
    "drug_temp['用药上下午标签']=drug_temp['start_datetime'].apply(lambda x: 0 if x.hour <13 else 1)"
   ]
  },
  {
   "cell_type": "code",
   "execution_count": 116,
   "metadata": {},
   "outputs": [],
   "source": [
    "drug_temp_all = drug_temp.drop_duplicates(subset=['patient_id','start_date'],keep='first')"
   ]
  },
  {
   "cell_type": "code",
   "execution_count": 117,
   "metadata": {},
   "outputs": [],
   "source": [
    "# ======= 单独对‘临时医嘱’处理 =======\n",
    "drug_temp_all = drug_temp.drop_duplicates(subset=['patient_id','start_date'],keep='first')\n",
    "drug_temp_1 = drug_temp.drop_duplicates(subset=['patient_id','start_date','用药上下午标签'],keep='first')\n",
    "drug_temp_group = drug_temp_1.groupby(['patient_id','start_date'])['日剂量'].sum().reset_index()   # 同一天的临时医嘱相加，保证每天一条临时医嘱\n",
    "\n",
    "# 拼接完整数据\n",
    "drug_temp_result = pd.merge(drug_temp_all.drop(columns=['日剂量','用药上下午标签']),drug_temp_group,on=['patient_id','start_date'],how='inner')"
   ]
  },
  {
   "cell_type": "code",
   "execution_count": 118,
   "metadata": {},
   "outputs": [
    {
     "name": "stdout",
     "output_type": "stream",
     "text": [
      "(460, 14)\n"
     ]
    }
   ],
   "source": [
    "print(drug_temp_result.shape)"
   ]
  },
  {
   "cell_type": "code",
   "execution_count": 119,
   "metadata": {},
   "outputs": [],
   "source": [
    "# 计算临时医嘱的 日剂量， 根据开药时间\n",
    "def dosage_temp(x):\n",
    "    if (x['frequency']==2)&(x['小时_标签']>=13):\n",
    "        return x['日剂量']/2\n",
    "    elif (x['frequency']==3):\n",
    "        if (x['小时_标签']>=8) & (x['小时_标签']<12):\n",
    "            return x['日剂量']*2/3\n",
    "        elif x['小时_标签']>=12:\n",
    "            return x['日剂量']/3\n",
    "    else:\n",
    "        return x['日剂量']\n",
    "    \n",
    "# 小时标签用来 标记临时医嘱的时间，根据 frequency进行 日剂量的更改\n",
    "# 例如： 一日三次， 则 按照 12点和6点划分， 12-6之间是 2/3 \n",
    "drug_temp_result['小时_标签'] = drug_temp_result['start_datetime'].dt.hour\n",
    "\n",
    "drug_temp_result['日剂量'] = drug_temp_result.apply(dosage_temp,axis=1)\n",
    "drug_temp_result = drug_temp_result.drop(columns='小时_标签')"
   ]
  },
  {
   "cell_type": "code",
   "execution_count": 120,
   "metadata": {
    "collapsed": true
   },
   "outputs": [
    {
     "data": {
      "text/html": [
       "<div>\n",
       "<style scoped>\n",
       "    .dataframe tbody tr th:only-of-type {\n",
       "        vertical-align: middle;\n",
       "    }\n",
       "\n",
       "    .dataframe tbody tr th {\n",
       "        vertical-align: top;\n",
       "    }\n",
       "\n",
       "    .dataframe thead th {\n",
       "        text-align: right;\n",
       "    }\n",
       "</style>\n",
       "<table border=\"1\" class=\"dataframe\">\n",
       "  <thead>\n",
       "    <tr style=\"text-align: right;\">\n",
       "      <th></th>\n",
       "      <th>patient_id</th>\n",
       "      <th>case_no</th>\n",
       "      <th>drug_name</th>\n",
       "      <th>amount</th>\n",
       "      <th>drug_spec</th>\n",
       "      <th>dosage</th>\n",
       "      <th>frequency</th>\n",
       "      <th>start_datetime</th>\n",
       "      <th>end_datetime</th>\n",
       "      <th>statusdesc</th>\n",
       "      <th>start_date</th>\n",
       "      <th>end_date</th>\n",
       "      <th>long_d_order</th>\n",
       "    </tr>\n",
       "  </thead>\n",
       "  <tbody>\n",
       "    <tr>\n",
       "      <th>0</th>\n",
       "      <td>1112533</td>\n",
       "      <td>12210690</td>\n",
       "      <td>丙戊酸钠缓释片(德巴金)[0.5g*30片]</td>\n",
       "      <td>1</td>\n",
       "      <td>0.5g*30片</td>\n",
       "      <td>0.5</td>\n",
       "      <td>1</td>\n",
       "      <td>2021-03-29 19:14:29</td>\n",
       "      <td>2021-03-29 19:14:29</td>\n",
       "      <td>核实</td>\n",
       "      <td>2021-03-29</td>\n",
       "      <td>2021-03-29</td>\n",
       "      <td>0</td>\n",
       "    </tr>\n",
       "    <tr>\n",
       "      <th>1</th>\n",
       "      <td>1112533</td>\n",
       "      <td>12210690</td>\n",
       "      <td>丙戊酸钠缓释片(德巴金)[0.5g*30片]</td>\n",
       "      <td>1</td>\n",
       "      <td>0.5g*30片</td>\n",
       "      <td>0.5</td>\n",
       "      <td>2</td>\n",
       "      <td>2021-03-31 09:09:50</td>\n",
       "      <td>2021-03-31 09:09:50</td>\n",
       "      <td>核实</td>\n",
       "      <td>2021-03-31</td>\n",
       "      <td>2021-03-31</td>\n",
       "      <td>0</td>\n",
       "    </tr>\n",
       "    <tr>\n",
       "      <th>2</th>\n",
       "      <td>1112533</td>\n",
       "      <td>12210690</td>\n",
       "      <td>丙戊酸钠缓释片(德巴金)[0.5g*30片]</td>\n",
       "      <td>1</td>\n",
       "      <td>0.5g*30片</td>\n",
       "      <td>0.75</td>\n",
       "      <td>1</td>\n",
       "      <td>2021-04-07 09:10:18</td>\n",
       "      <td>2021-04-07 09:10:18</td>\n",
       "      <td>核实</td>\n",
       "      <td>2021-04-07</td>\n",
       "      <td>2021-04-07</td>\n",
       "      <td>0</td>\n",
       "    </tr>\n",
       "    <tr>\n",
       "      <th>3</th>\n",
       "      <td>1112533</td>\n",
       "      <td>12210690</td>\n",
       "      <td>丙戊酸钠缓释片(德巴金)[0.5g*30片]</td>\n",
       "      <td>1</td>\n",
       "      <td>0.5g*30片</td>\n",
       "      <td>0.75</td>\n",
       "      <td>1</td>\n",
       "      <td>2021-04-09 19:49:24</td>\n",
       "      <td>2021-04-09 19:49:24</td>\n",
       "      <td>核实</td>\n",
       "      <td>2021-04-09</td>\n",
       "      <td>2021-04-09</td>\n",
       "      <td>0</td>\n",
       "    </tr>\n",
       "    <tr>\n",
       "      <th>4</th>\n",
       "      <td>1173560</td>\n",
       "      <td>13397293</td>\n",
       "      <td>丙戊酸钠缓释片(德巴金)[0.5g*30片]</td>\n",
       "      <td>1</td>\n",
       "      <td>0.5g*30片</td>\n",
       "      <td>0.5</td>\n",
       "      <td>2</td>\n",
       "      <td>2021-07-21 16:21:42</td>\n",
       "      <td>2021-07-21 16:21:42</td>\n",
       "      <td>核实</td>\n",
       "      <td>2021-07-21</td>\n",
       "      <td>2021-07-21</td>\n",
       "      <td>0</td>\n",
       "    </tr>\n",
       "    <tr>\n",
       "      <th>...</th>\n",
       "      <td>...</td>\n",
       "      <td>...</td>\n",
       "      <td>...</td>\n",
       "      <td>...</td>\n",
       "      <td>...</td>\n",
       "      <td>...</td>\n",
       "      <td>...</td>\n",
       "      <td>...</td>\n",
       "      <td>...</td>\n",
       "      <td>...</td>\n",
       "      <td>...</td>\n",
       "      <td>...</td>\n",
       "      <td>...</td>\n",
       "    </tr>\n",
       "    <tr>\n",
       "      <th>762</th>\n",
       "      <td>9307105</td>\n",
       "      <td>14184132</td>\n",
       "      <td>丙戊酸钠缓释片(德巴金)[0.5g*30片]</td>\n",
       "      <td>1</td>\n",
       "      <td>0.5g*30片</td>\n",
       "      <td>0.5</td>\n",
       "      <td>2</td>\n",
       "      <td>2021-09-30 10:29:44</td>\n",
       "      <td>2021-09-30 10:29:44</td>\n",
       "      <td>核实</td>\n",
       "      <td>2021-09-30</td>\n",
       "      <td>2021-09-30</td>\n",
       "      <td>0</td>\n",
       "    </tr>\n",
       "    <tr>\n",
       "      <th>763</th>\n",
       "      <td>9424074</td>\n",
       "      <td>14701280</td>\n",
       "      <td>丙戊酸钠缓释片(德巴金)[0.5g*30片]</td>\n",
       "      <td>1</td>\n",
       "      <td>0.5g*30片</td>\n",
       "      <td>0.5</td>\n",
       "      <td>2</td>\n",
       "      <td>2021-11-15 18:44:04</td>\n",
       "      <td>2021-11-15 18:44:04</td>\n",
       "      <td>核实</td>\n",
       "      <td>2021-11-15</td>\n",
       "      <td>2021-11-15</td>\n",
       "      <td>0</td>\n",
       "    </tr>\n",
       "    <tr>\n",
       "      <th>764</th>\n",
       "      <td>9442416</td>\n",
       "      <td>14712892</td>\n",
       "      <td>丙戊酸钠缓释片(德巴金)[0.5g*30片]</td>\n",
       "      <td>1</td>\n",
       "      <td>0.5g*30片</td>\n",
       "      <td>0.5</td>\n",
       "      <td>1</td>\n",
       "      <td>2021-11-17 10:47:51</td>\n",
       "      <td>2021-11-17 10:47:51</td>\n",
       "      <td>核实</td>\n",
       "      <td>2021-11-17</td>\n",
       "      <td>2021-11-17</td>\n",
       "      <td>0</td>\n",
       "    </tr>\n",
       "    <tr>\n",
       "      <th>765</th>\n",
       "      <td>9442416</td>\n",
       "      <td>14712892</td>\n",
       "      <td>丙戊酸钠缓释片(德巴金)[0.5g*30片]</td>\n",
       "      <td>1</td>\n",
       "      <td>0.5g*30片</td>\n",
       "      <td>0.5</td>\n",
       "      <td>2</td>\n",
       "      <td>2021-11-19 10:31:22</td>\n",
       "      <td>2021-11-19 10:31:22</td>\n",
       "      <td>核实</td>\n",
       "      <td>2021-11-19</td>\n",
       "      <td>2021-11-19</td>\n",
       "      <td>0</td>\n",
       "    </tr>\n",
       "    <tr>\n",
       "      <th>766</th>\n",
       "      <td>9442416</td>\n",
       "      <td>14712892</td>\n",
       "      <td>丙戊酸钠缓释片(德巴金)[0.5g*30片]</td>\n",
       "      <td>1</td>\n",
       "      <td>0.5g*30片</td>\n",
       "      <td>0.5</td>\n",
       "      <td>2</td>\n",
       "      <td>2021-12-02 11:38:25</td>\n",
       "      <td>2021-12-02 11:38:25</td>\n",
       "      <td>核实</td>\n",
       "      <td>2021-12-02</td>\n",
       "      <td>2021-12-02</td>\n",
       "      <td>0</td>\n",
       "    </tr>\n",
       "  </tbody>\n",
       "</table>\n",
       "<p>460 rows × 13 columns</p>\n",
       "</div>"
      ],
      "text/plain": [
       "    patient_id   case_no               drug_name  amount drug_spec dosage  \\\n",
       "0      1112533  12210690  丙戊酸钠缓释片(德巴金)[0.5g*30片]       1  0.5g*30片    0.5   \n",
       "1      1112533  12210690  丙戊酸钠缓释片(德巴金)[0.5g*30片]       1  0.5g*30片    0.5   \n",
       "2      1112533  12210690  丙戊酸钠缓释片(德巴金)[0.5g*30片]       1  0.5g*30片   0.75   \n",
       "3      1112533  12210690  丙戊酸钠缓释片(德巴金)[0.5g*30片]       1  0.5g*30片   0.75   \n",
       "4      1173560  13397293  丙戊酸钠缓释片(德巴金)[0.5g*30片]       1  0.5g*30片    0.5   \n",
       "..         ...       ...                     ...     ...       ...    ...   \n",
       "762    9307105  14184132  丙戊酸钠缓释片(德巴金)[0.5g*30片]       1  0.5g*30片    0.5   \n",
       "763    9424074  14701280  丙戊酸钠缓释片(德巴金)[0.5g*30片]       1  0.5g*30片    0.5   \n",
       "764    9442416  14712892  丙戊酸钠缓释片(德巴金)[0.5g*30片]       1  0.5g*30片    0.5   \n",
       "765    9442416  14712892  丙戊酸钠缓释片(德巴金)[0.5g*30片]       1  0.5g*30片    0.5   \n",
       "766    9442416  14712892  丙戊酸钠缓释片(德巴金)[0.5g*30片]       1  0.5g*30片    0.5   \n",
       "\n",
       "     frequency      start_datetime        end_datetime statusdesc  start_date  \\\n",
       "0            1 2021-03-29 19:14:29 2021-03-29 19:14:29         核实  2021-03-29   \n",
       "1            2 2021-03-31 09:09:50 2021-03-31 09:09:50         核实  2021-03-31   \n",
       "2            1 2021-04-07 09:10:18 2021-04-07 09:10:18         核实  2021-04-07   \n",
       "3            1 2021-04-09 19:49:24 2021-04-09 19:49:24         核实  2021-04-09   \n",
       "4            2 2021-07-21 16:21:42 2021-07-21 16:21:42         核实  2021-07-21   \n",
       "..         ...                 ...                 ...        ...         ...   \n",
       "762          2 2021-09-30 10:29:44 2021-09-30 10:29:44         核实  2021-09-30   \n",
       "763          2 2021-11-15 18:44:04 2021-11-15 18:44:04         核实  2021-11-15   \n",
       "764          1 2021-11-17 10:47:51 2021-11-17 10:47:51         核实  2021-11-17   \n",
       "765          2 2021-11-19 10:31:22 2021-11-19 10:31:22         核实  2021-11-19   \n",
       "766          2 2021-12-02 11:38:25 2021-12-02 11:38:25         核实  2021-12-02   \n",
       "\n",
       "       end_date  long_d_order  \n",
       "0    2021-03-29             0  \n",
       "1    2021-03-31             0  \n",
       "2    2021-04-07             0  \n",
       "3    2021-04-09             0  \n",
       "4    2021-07-21             0  \n",
       "..          ...           ...  \n",
       "762  2021-09-30             0  \n",
       "763  2021-11-15             0  \n",
       "764  2021-11-17             0  \n",
       "765  2021-11-19             0  \n",
       "766  2021-12-02             0  \n",
       "\n",
       "[460 rows x 13 columns]"
      ]
     },
     "execution_count": 120,
     "metadata": {},
     "output_type": "execute_result"
    }
   ],
   "source": [
    "drug_temp_all.drop(columns=['日剂量','用药上下午标签'])"
   ]
  },
  {
   "cell_type": "code",
   "execution_count": 121,
   "metadata": {},
   "outputs": [
    {
     "name": "stdout",
     "output_type": "stream",
     "text": [
      "(460, 14)\n",
      "205\n",
      "227\n"
     ]
    }
   ],
   "source": [
    "print(drug_temp_result.shape)\n",
    "print(drug_temp_result['patient_id'].nunique())\n",
    "print(drug_temp_result['case_no'].nunique())"
   ]
  },
  {
   "cell_type": "code",
   "execution_count": 122,
   "metadata": {},
   "outputs": [
    {
     "data": {
      "text/html": [
       "<div>\n",
       "<style scoped>\n",
       "    .dataframe tbody tr th:only-of-type {\n",
       "        vertical-align: middle;\n",
       "    }\n",
       "\n",
       "    .dataframe tbody tr th {\n",
       "        vertical-align: top;\n",
       "    }\n",
       "\n",
       "    .dataframe thead th {\n",
       "        text-align: right;\n",
       "    }\n",
       "</style>\n",
       "<table border=\"1\" class=\"dataframe\">\n",
       "  <thead>\n",
       "    <tr style=\"text-align: right;\">\n",
       "      <th></th>\n",
       "      <th>patient_id</th>\n",
       "      <th>case_no</th>\n",
       "      <th>drug_name</th>\n",
       "      <th>amount</th>\n",
       "      <th>drug_spec</th>\n",
       "      <th>dosage</th>\n",
       "      <th>frequency</th>\n",
       "      <th>start_datetime</th>\n",
       "      <th>end_datetime</th>\n",
       "      <th>statusdesc</th>\n",
       "      <th>start_date</th>\n",
       "      <th>end_date</th>\n",
       "      <th>long_d_order</th>\n",
       "      <th>日剂量</th>\n",
       "    </tr>\n",
       "  </thead>\n",
       "  <tbody>\n",
       "    <tr>\n",
       "      <th>0</th>\n",
       "      <td>1112533</td>\n",
       "      <td>12210690</td>\n",
       "      <td>丙戊酸钠缓释片(德巴金)[0.5g*30片]</td>\n",
       "      <td>1</td>\n",
       "      <td>0.5g*30片</td>\n",
       "      <td>0.5</td>\n",
       "      <td>1</td>\n",
       "      <td>2021-03-29 19:14:29</td>\n",
       "      <td>2021-03-29 19:14:29</td>\n",
       "      <td>核实</td>\n",
       "      <td>2021-03-29</td>\n",
       "      <td>2021-03-29</td>\n",
       "      <td>0</td>\n",
       "      <td>0.50</td>\n",
       "    </tr>\n",
       "    <tr>\n",
       "      <th>1</th>\n",
       "      <td>1112533</td>\n",
       "      <td>12210690</td>\n",
       "      <td>丙戊酸钠缓释片(德巴金)[0.5g*30片]</td>\n",
       "      <td>1</td>\n",
       "      <td>0.5g*30片</td>\n",
       "      <td>0.5</td>\n",
       "      <td>2</td>\n",
       "      <td>2021-03-31 09:09:50</td>\n",
       "      <td>2021-03-31 09:09:50</td>\n",
       "      <td>核实</td>\n",
       "      <td>2021-03-31</td>\n",
       "      <td>2021-03-31</td>\n",
       "      <td>0</td>\n",
       "      <td>1.00</td>\n",
       "    </tr>\n",
       "    <tr>\n",
       "      <th>2</th>\n",
       "      <td>1112533</td>\n",
       "      <td>12210690</td>\n",
       "      <td>丙戊酸钠缓释片(德巴金)[0.5g*30片]</td>\n",
       "      <td>1</td>\n",
       "      <td>0.5g*30片</td>\n",
       "      <td>0.75</td>\n",
       "      <td>1</td>\n",
       "      <td>2021-04-07 09:10:18</td>\n",
       "      <td>2021-04-07 09:10:18</td>\n",
       "      <td>核实</td>\n",
       "      <td>2021-04-07</td>\n",
       "      <td>2021-04-07</td>\n",
       "      <td>0</td>\n",
       "      <td>0.75</td>\n",
       "    </tr>\n",
       "    <tr>\n",
       "      <th>3</th>\n",
       "      <td>1112533</td>\n",
       "      <td>12210690</td>\n",
       "      <td>丙戊酸钠缓释片(德巴金)[0.5g*30片]</td>\n",
       "      <td>1</td>\n",
       "      <td>0.5g*30片</td>\n",
       "      <td>0.75</td>\n",
       "      <td>1</td>\n",
       "      <td>2021-04-09 19:49:24</td>\n",
       "      <td>2021-04-09 19:49:24</td>\n",
       "      <td>核实</td>\n",
       "      <td>2021-04-09</td>\n",
       "      <td>2021-04-09</td>\n",
       "      <td>0</td>\n",
       "      <td>0.75</td>\n",
       "    </tr>\n",
       "    <tr>\n",
       "      <th>4</th>\n",
       "      <td>1173560</td>\n",
       "      <td>13397293</td>\n",
       "      <td>丙戊酸钠缓释片(德巴金)[0.5g*30片]</td>\n",
       "      <td>1</td>\n",
       "      <td>0.5g*30片</td>\n",
       "      <td>0.5</td>\n",
       "      <td>2</td>\n",
       "      <td>2021-07-21 16:21:42</td>\n",
       "      <td>2021-07-21 16:21:42</td>\n",
       "      <td>核实</td>\n",
       "      <td>2021-07-21</td>\n",
       "      <td>2021-07-21</td>\n",
       "      <td>0</td>\n",
       "      <td>0.50</td>\n",
       "    </tr>\n",
       "  </tbody>\n",
       "</table>\n",
       "</div>"
      ],
      "text/plain": [
       "  patient_id   case_no               drug_name  amount drug_spec dosage  \\\n",
       "0    1112533  12210690  丙戊酸钠缓释片(德巴金)[0.5g*30片]       1  0.5g*30片    0.5   \n",
       "1    1112533  12210690  丙戊酸钠缓释片(德巴金)[0.5g*30片]       1  0.5g*30片    0.5   \n",
       "2    1112533  12210690  丙戊酸钠缓释片(德巴金)[0.5g*30片]       1  0.5g*30片   0.75   \n",
       "3    1112533  12210690  丙戊酸钠缓释片(德巴金)[0.5g*30片]       1  0.5g*30片   0.75   \n",
       "4    1173560  13397293  丙戊酸钠缓释片(德巴金)[0.5g*30片]       1  0.5g*30片    0.5   \n",
       "\n",
       "   frequency      start_datetime        end_datetime statusdesc  start_date  \\\n",
       "0          1 2021-03-29 19:14:29 2021-03-29 19:14:29         核实  2021-03-29   \n",
       "1          2 2021-03-31 09:09:50 2021-03-31 09:09:50         核实  2021-03-31   \n",
       "2          1 2021-04-07 09:10:18 2021-04-07 09:10:18         核实  2021-04-07   \n",
       "3          1 2021-04-09 19:49:24 2021-04-09 19:49:24         核实  2021-04-09   \n",
       "4          2 2021-07-21 16:21:42 2021-07-21 16:21:42         核实  2021-07-21   \n",
       "\n",
       "     end_date  long_d_order   日剂量  \n",
       "0  2021-03-29             0  0.50  \n",
       "1  2021-03-31             0  1.00  \n",
       "2  2021-04-07             0  0.75  \n",
       "3  2021-04-09             0  0.75  \n",
       "4  2021-07-21             0  0.50  "
      ]
     },
     "execution_count": 122,
     "metadata": {},
     "output_type": "execute_result"
    }
   ],
   "source": [
    "drug_temp_result.head()"
   ]
  },
  {
   "cell_type": "code",
   "execution_count": 123,
   "metadata": {},
   "outputs": [],
   "source": [
    "# 把‘临时医嘱’和‘长期医嘱’拼接\n",
    "df_test_1 = pd.concat([drug_long,drug_temp_result],axis=0)\n",
    "df_test_1 = df_test_1[drug_long.columns.tolist()]\n",
    "\n",
    "# 拼接后重新排序\n",
    "drug_vancomycin_4 = df_test_1.groupby(['case_no']).apply(\n",
    "    lambda _df: _df.sort_values(by=['start_datetime'],ascending=1)).reset_index(drop=True)"
   ]
  },
  {
   "cell_type": "code",
   "execution_count": 124,
   "metadata": {},
   "outputs": [
    {
     "data": {
      "text/html": [
       "<div>\n",
       "<style scoped>\n",
       "    .dataframe tbody tr th:only-of-type {\n",
       "        vertical-align: middle;\n",
       "    }\n",
       "\n",
       "    .dataframe tbody tr th {\n",
       "        vertical-align: top;\n",
       "    }\n",
       "\n",
       "    .dataframe thead th {\n",
       "        text-align: right;\n",
       "    }\n",
       "</style>\n",
       "<table border=\"1\" class=\"dataframe\">\n",
       "  <thead>\n",
       "    <tr style=\"text-align: right;\">\n",
       "      <th></th>\n",
       "      <th>patient_id</th>\n",
       "      <th>case_no</th>\n",
       "      <th>drug_name</th>\n",
       "      <th>amount</th>\n",
       "      <th>drug_spec</th>\n",
       "      <th>dosage</th>\n",
       "      <th>frequency</th>\n",
       "      <th>start_datetime</th>\n",
       "      <th>end_datetime</th>\n",
       "      <th>statusdesc</th>\n",
       "      <th>日剂量</th>\n",
       "      <th>start_date</th>\n",
       "      <th>end_date</th>\n",
       "      <th>long_d_order</th>\n",
       "    </tr>\n",
       "  </thead>\n",
       "  <tbody>\n",
       "    <tr>\n",
       "      <th>0</th>\n",
       "      <td>6873870</td>\n",
       "      <td>10001302</td>\n",
       "      <td>丙戊酸钠缓释片(德巴金)[0.5g*30片]</td>\n",
       "      <td>1</td>\n",
       "      <td>0.5g*30片</td>\n",
       "      <td>0.5</td>\n",
       "      <td>1</td>\n",
       "      <td>2020-08-15 19:51:46</td>\n",
       "      <td>2020-08-24 10:37:37</td>\n",
       "      <td>停止</td>\n",
       "      <td>0.5</td>\n",
       "      <td>2020-08-15</td>\n",
       "      <td>2020-08-24</td>\n",
       "      <td>1</td>\n",
       "    </tr>\n",
       "    <tr>\n",
       "      <th>1</th>\n",
       "      <td>6873870</td>\n",
       "      <td>10001302</td>\n",
       "      <td>丙戊酸钠缓释片(德巴金)[0.5g*30片]</td>\n",
       "      <td>1</td>\n",
       "      <td>0.5g*30片</td>\n",
       "      <td>0.5</td>\n",
       "      <td>2</td>\n",
       "      <td>2020-08-24 10:37:31</td>\n",
       "      <td>2020-09-04 11:38:00</td>\n",
       "      <td>停止</td>\n",
       "      <td>1.0</td>\n",
       "      <td>2020-08-24</td>\n",
       "      <td>2020-09-04</td>\n",
       "      <td>1</td>\n",
       "    </tr>\n",
       "    <tr>\n",
       "      <th>2</th>\n",
       "      <td>6873870</td>\n",
       "      <td>10001302</td>\n",
       "      <td>丙戊酸钠缓释片(德巴金)[0.5g*30片]</td>\n",
       "      <td>1</td>\n",
       "      <td>0.5g*30片</td>\n",
       "      <td>0.5</td>\n",
       "      <td>1</td>\n",
       "      <td>2020-08-25 17:31:34</td>\n",
       "      <td>2020-08-25 17:31:34</td>\n",
       "      <td>核实</td>\n",
       "      <td>0.5</td>\n",
       "      <td>2020-08-25</td>\n",
       "      <td>2020-08-25</td>\n",
       "      <td>0</td>\n",
       "    </tr>\n",
       "    <tr>\n",
       "      <th>3</th>\n",
       "      <td>6873870</td>\n",
       "      <td>10001302</td>\n",
       "      <td>丙戊酸钠缓释片(德巴金)[0.5g*30片]</td>\n",
       "      <td>1</td>\n",
       "      <td>0.5g*30片</td>\n",
       "      <td>0.5</td>\n",
       "      <td>2</td>\n",
       "      <td>2020-09-04 11:38:55</td>\n",
       "      <td>2020-09-04 11:38:55</td>\n",
       "      <td>核实</td>\n",
       "      <td>1.0</td>\n",
       "      <td>2020-09-04</td>\n",
       "      <td>2020-09-04</td>\n",
       "      <td>0</td>\n",
       "    </tr>\n",
       "    <tr>\n",
       "      <th>4</th>\n",
       "      <td>547307</td>\n",
       "      <td>10005574</td>\n",
       "      <td>丙戊酸钠缓释片(德巴金)[0.5g*30片]</td>\n",
       "      <td>1</td>\n",
       "      <td>0.5g*30片</td>\n",
       "      <td>0.5</td>\n",
       "      <td>2</td>\n",
       "      <td>2020-08-16 16:41:46</td>\n",
       "      <td>2020-08-31 11:15:00</td>\n",
       "      <td>停止</td>\n",
       "      <td>1.0</td>\n",
       "      <td>2020-08-16</td>\n",
       "      <td>2020-08-31</td>\n",
       "      <td>1</td>\n",
       "    </tr>\n",
       "  </tbody>\n",
       "</table>\n",
       "</div>"
      ],
      "text/plain": [
       "  patient_id   case_no               drug_name  amount drug_spec dosage  \\\n",
       "0    6873870  10001302  丙戊酸钠缓释片(德巴金)[0.5g*30片]       1  0.5g*30片    0.5   \n",
       "1    6873870  10001302  丙戊酸钠缓释片(德巴金)[0.5g*30片]       1  0.5g*30片    0.5   \n",
       "2    6873870  10001302  丙戊酸钠缓释片(德巴金)[0.5g*30片]       1  0.5g*30片    0.5   \n",
       "3    6873870  10001302  丙戊酸钠缓释片(德巴金)[0.5g*30片]       1  0.5g*30片    0.5   \n",
       "4     547307  10005574  丙戊酸钠缓释片(德巴金)[0.5g*30片]       1  0.5g*30片    0.5   \n",
       "\n",
       "   frequency      start_datetime        end_datetime statusdesc  日剂量  \\\n",
       "0          1 2020-08-15 19:51:46 2020-08-24 10:37:37         停止  0.5   \n",
       "1          2 2020-08-24 10:37:31 2020-09-04 11:38:00         停止  1.0   \n",
       "2          1 2020-08-25 17:31:34 2020-08-25 17:31:34         核实  0.5   \n",
       "3          2 2020-09-04 11:38:55 2020-09-04 11:38:55         核实  1.0   \n",
       "4          2 2020-08-16 16:41:46 2020-08-31 11:15:00         停止  1.0   \n",
       "\n",
       "   start_date    end_date  long_d_order  \n",
       "0  2020-08-15  2020-08-24             1  \n",
       "1  2020-08-24  2020-09-04             1  \n",
       "2  2020-08-25  2020-08-25             0  \n",
       "3  2020-09-04  2020-09-04             0  \n",
       "4  2020-08-16  2020-08-31             1  "
      ]
     },
     "execution_count": 124,
     "metadata": {},
     "output_type": "execute_result"
    }
   ],
   "source": [
    "drug_vancomycin_4.head()"
   ]
  },
  {
   "cell_type": "code",
   "execution_count": 125,
   "metadata": {},
   "outputs": [],
   "source": [
    "drug_vancomycin_4.to_excel(project_path+'/data/processed_data/df_2.1.4.5_处理临时医嘱.xlsx')"
   ]
  },
  {
   "cell_type": "markdown",
   "metadata": {},
   "source": [
    "#### 分裂日期"
   ]
  },
  {
   "cell_type": "code",
   "execution_count": 126,
   "metadata": {},
   "outputs": [],
   "source": [
    "# 将时间拆开\n",
    "def explode1(df, col):\n",
    "    dftem1 = pd.DataFrame()\n",
    "    for i in range(df.shape[0]):\n",
    "        dftem = df.iloc[i].to_frame().T\n",
    "        if isinstance(df.iloc[i][col], list):\n",
    "            if len(df.iloc[i][col]) > 0:\n",
    "                for j in range(len(df.iloc[i][col])):\n",
    "                    dftem[col + \"_\"] = df.iloc[i][col][j]\n",
    "                    dftem1 = pd.concat([dftem1, dftem])\n",
    "            else:\n",
    "                dftem1 = pd.concat([dftem1, dftem])\n",
    "        else:\n",
    "            dftem1 = pd.concat([dftem1, dftem])\n",
    "    del dftem1[col]\n",
    "    dftem1.rename(columns={col + \"_\": col}, inplace=True)\n",
    "    return dftem1"
   ]
  },
  {
   "cell_type": "code",
   "execution_count": 127,
   "metadata": {},
   "outputs": [
    {
     "data": {
      "text/plain": [
       "(767, 14)"
      ]
     },
     "execution_count": 127,
     "metadata": {},
     "output_type": "execute_result"
    }
   ],
   "source": [
    "drug_vancomycin_4.shape"
   ]
  },
  {
   "cell_type": "code",
   "execution_count": 128,
   "metadata": {},
   "outputs": [],
   "source": [
    "# 生成 分裂日期\n",
    "drug_vancomycin_4['分裂日期'] = ''\n",
    "for i in range(len(drug_vancomycin_4)):\n",
    "    drug_vancomycin_4['分裂日期'][i] = list(pd.date_range(start=drug_vancomycin_4['start_date'][i], \n",
    "                                                      end=drug_vancomycin_4['end_date'][i]))\n",
    "\n",
    "##　＝＝　把时间List拆开　＝＝    \n",
    "drug_vancomycin_5 = explode1(drug_vancomycin_4,'分裂日期')\n",
    "drug_vancomycin_5['分裂日期']=drug_vancomycin_5['分裂日期'].apply(lambda x: str(x).split(' ')[0])\n",
    "\n",
    "drug_vancomycin_5['起始标签'] = drug_vancomycin_5.apply(lambda x: '起始' if x['分裂日期']==x['start_date'] else \n",
    "                                                                '结尾' if x['分裂日期']==x['end_date'] else \n",
    "                                                                '期间', axis=1)"
   ]
  },
  {
   "cell_type": "code",
   "execution_count": 129,
   "metadata": {
    "scrolled": true
   },
   "outputs": [
    {
     "data": {
      "text/html": [
       "<div>\n",
       "<style scoped>\n",
       "    .dataframe tbody tr th:only-of-type {\n",
       "        vertical-align: middle;\n",
       "    }\n",
       "\n",
       "    .dataframe tbody tr th {\n",
       "        vertical-align: top;\n",
       "    }\n",
       "\n",
       "    .dataframe thead th {\n",
       "        text-align: right;\n",
       "    }\n",
       "</style>\n",
       "<table border=\"1\" class=\"dataframe\">\n",
       "  <thead>\n",
       "    <tr style=\"text-align: right;\">\n",
       "      <th></th>\n",
       "      <th>patient_id</th>\n",
       "      <th>case_no</th>\n",
       "      <th>drug_name</th>\n",
       "      <th>amount</th>\n",
       "      <th>drug_spec</th>\n",
       "      <th>dosage</th>\n",
       "      <th>frequency</th>\n",
       "      <th>start_datetime</th>\n",
       "      <th>end_datetime</th>\n",
       "      <th>statusdesc</th>\n",
       "      <th>日剂量</th>\n",
       "      <th>start_date</th>\n",
       "      <th>end_date</th>\n",
       "      <th>long_d_order</th>\n",
       "      <th>分裂日期</th>\n",
       "      <th>起始标签</th>\n",
       "    </tr>\n",
       "  </thead>\n",
       "  <tbody>\n",
       "    <tr>\n",
       "      <th>0</th>\n",
       "      <td>6873870</td>\n",
       "      <td>10001302</td>\n",
       "      <td>丙戊酸钠缓释片(德巴金)[0.5g*30片]</td>\n",
       "      <td>1</td>\n",
       "      <td>0.5g*30片</td>\n",
       "      <td>0.5</td>\n",
       "      <td>1</td>\n",
       "      <td>2020-08-15 19:51:46</td>\n",
       "      <td>2020-08-24 10:37:37</td>\n",
       "      <td>停止</td>\n",
       "      <td>0.5</td>\n",
       "      <td>2020-08-15</td>\n",
       "      <td>2020-08-24</td>\n",
       "      <td>1</td>\n",
       "      <td>2020-08-15</td>\n",
       "      <td>起始</td>\n",
       "    </tr>\n",
       "    <tr>\n",
       "      <th>0</th>\n",
       "      <td>6873870</td>\n",
       "      <td>10001302</td>\n",
       "      <td>丙戊酸钠缓释片(德巴金)[0.5g*30片]</td>\n",
       "      <td>1</td>\n",
       "      <td>0.5g*30片</td>\n",
       "      <td>0.5</td>\n",
       "      <td>1</td>\n",
       "      <td>2020-08-15 19:51:46</td>\n",
       "      <td>2020-08-24 10:37:37</td>\n",
       "      <td>停止</td>\n",
       "      <td>0.5</td>\n",
       "      <td>2020-08-15</td>\n",
       "      <td>2020-08-24</td>\n",
       "      <td>1</td>\n",
       "      <td>2020-08-16</td>\n",
       "      <td>期间</td>\n",
       "    </tr>\n",
       "    <tr>\n",
       "      <th>0</th>\n",
       "      <td>6873870</td>\n",
       "      <td>10001302</td>\n",
       "      <td>丙戊酸钠缓释片(德巴金)[0.5g*30片]</td>\n",
       "      <td>1</td>\n",
       "      <td>0.5g*30片</td>\n",
       "      <td>0.5</td>\n",
       "      <td>1</td>\n",
       "      <td>2020-08-15 19:51:46</td>\n",
       "      <td>2020-08-24 10:37:37</td>\n",
       "      <td>停止</td>\n",
       "      <td>0.5</td>\n",
       "      <td>2020-08-15</td>\n",
       "      <td>2020-08-24</td>\n",
       "      <td>1</td>\n",
       "      <td>2020-08-17</td>\n",
       "      <td>期间</td>\n",
       "    </tr>\n",
       "    <tr>\n",
       "      <th>0</th>\n",
       "      <td>6873870</td>\n",
       "      <td>10001302</td>\n",
       "      <td>丙戊酸钠缓释片(德巴金)[0.5g*30片]</td>\n",
       "      <td>1</td>\n",
       "      <td>0.5g*30片</td>\n",
       "      <td>0.5</td>\n",
       "      <td>1</td>\n",
       "      <td>2020-08-15 19:51:46</td>\n",
       "      <td>2020-08-24 10:37:37</td>\n",
       "      <td>停止</td>\n",
       "      <td>0.5</td>\n",
       "      <td>2020-08-15</td>\n",
       "      <td>2020-08-24</td>\n",
       "      <td>1</td>\n",
       "      <td>2020-08-18</td>\n",
       "      <td>期间</td>\n",
       "    </tr>\n",
       "    <tr>\n",
       "      <th>0</th>\n",
       "      <td>6873870</td>\n",
       "      <td>10001302</td>\n",
       "      <td>丙戊酸钠缓释片(德巴金)[0.5g*30片]</td>\n",
       "      <td>1</td>\n",
       "      <td>0.5g*30片</td>\n",
       "      <td>0.5</td>\n",
       "      <td>1</td>\n",
       "      <td>2020-08-15 19:51:46</td>\n",
       "      <td>2020-08-24 10:37:37</td>\n",
       "      <td>停止</td>\n",
       "      <td>0.5</td>\n",
       "      <td>2020-08-15</td>\n",
       "      <td>2020-08-24</td>\n",
       "      <td>1</td>\n",
       "      <td>2020-08-19</td>\n",
       "      <td>期间</td>\n",
       "    </tr>\n",
       "  </tbody>\n",
       "</table>\n",
       "</div>"
      ],
      "text/plain": [
       "  patient_id   case_no               drug_name amount drug_spec dosage  \\\n",
       "0    6873870  10001302  丙戊酸钠缓释片(德巴金)[0.5g*30片]      1  0.5g*30片    0.5   \n",
       "0    6873870  10001302  丙戊酸钠缓释片(德巴金)[0.5g*30片]      1  0.5g*30片    0.5   \n",
       "0    6873870  10001302  丙戊酸钠缓释片(德巴金)[0.5g*30片]      1  0.5g*30片    0.5   \n",
       "0    6873870  10001302  丙戊酸钠缓释片(德巴金)[0.5g*30片]      1  0.5g*30片    0.5   \n",
       "0    6873870  10001302  丙戊酸钠缓释片(德巴金)[0.5g*30片]      1  0.5g*30片    0.5   \n",
       "\n",
       "  frequency      start_datetime        end_datetime statusdesc  日剂量  \\\n",
       "0         1 2020-08-15 19:51:46 2020-08-24 10:37:37         停止  0.5   \n",
       "0         1 2020-08-15 19:51:46 2020-08-24 10:37:37         停止  0.5   \n",
       "0         1 2020-08-15 19:51:46 2020-08-24 10:37:37         停止  0.5   \n",
       "0         1 2020-08-15 19:51:46 2020-08-24 10:37:37         停止  0.5   \n",
       "0         1 2020-08-15 19:51:46 2020-08-24 10:37:37         停止  0.5   \n",
       "\n",
       "   start_date    end_date long_d_order        分裂日期 起始标签  \n",
       "0  2020-08-15  2020-08-24            1  2020-08-15   起始  \n",
       "0  2020-08-15  2020-08-24            1  2020-08-16   期间  \n",
       "0  2020-08-15  2020-08-24            1  2020-08-17   期间  \n",
       "0  2020-08-15  2020-08-24            1  2020-08-18   期间  \n",
       "0  2020-08-15  2020-08-24            1  2020-08-19   期间  "
      ]
     },
     "execution_count": 129,
     "metadata": {},
     "output_type": "execute_result"
    }
   ],
   "source": [
    "drug_vancomycin_5.head()"
   ]
  },
  {
   "cell_type": "code",
   "execution_count": 130,
   "metadata": {},
   "outputs": [
    {
     "name": "stdout",
     "output_type": "stream",
     "text": [
      "(3541, 16)\n",
      "214\n",
      "237\n"
     ]
    }
   ],
   "source": [
    "print(drug_vancomycin_5.shape)\n",
    "print(drug_vancomycin_5['patient_id'].nunique())\n",
    "print(drug_vancomycin_5['case_no'].nunique())"
   ]
  },
  {
   "cell_type": "code",
   "execution_count": 131,
   "metadata": {},
   "outputs": [],
   "source": [
    "drug_vancomycin_5.to_excel(project_path+'/data/processed_data/df_2.1.4.6_分裂日期.xlsx')"
   ]
  },
  {
   "cell_type": "markdown",
   "metadata": {},
   "source": [
    "#### 打时间标签"
   ]
  },
  {
   "cell_type": "code",
   "execution_count": 132,
   "metadata": {},
   "outputs": [],
   "source": [
    "# 打日期标签\n",
    "def flag_ttt(x):\n",
    "    if (x['起始标签']!='结尾'):\n",
    "        if x['start_datetime'].hour<13:\n",
    "            return 0\n",
    "        else:\n",
    "            return 1\n",
    "    else:\n",
    "        if x['end_datetime'].hour<13:\n",
    "            return 0\n",
    "        else:\n",
    "            return 1"
   ]
  },
  {
   "cell_type": "code",
   "execution_count": 133,
   "metadata": {},
   "outputs": [],
   "source": [
    "# 上午是0，下午是1\n",
    "# 起始和期间看 起始时间， 结尾看停止时间\n",
    "drug_vancomycin_5['时间标签'] = drug_vancomycin_5.apply(lambda x: 0 if ((x['起始标签']!='结尾')and(x['start_datetime'].hour < 13)) else 1, axis=1)\n",
    "drug_vancomycin_5['时间标签'] = drug_vancomycin_5.apply(flag_ttt,axis=1)"
   ]
  },
  {
   "cell_type": "code",
   "execution_count": 134,
   "metadata": {},
   "outputs": [
    {
     "name": "stdout",
     "output_type": "stream",
     "text": [
      "(3541, 17)\n",
      "214\n",
      "237\n"
     ]
    }
   ],
   "source": [
    "print(drug_vancomycin_5.shape)\n",
    "print(drug_vancomycin_5['patient_id'].nunique())\n",
    "print(drug_vancomycin_5['case_no'].nunique())"
   ]
  },
  {
   "cell_type": "code",
   "execution_count": 135,
   "metadata": {},
   "outputs": [
    {
     "data": {
      "text/html": [
       "<div>\n",
       "<style scoped>\n",
       "    .dataframe tbody tr th:only-of-type {\n",
       "        vertical-align: middle;\n",
       "    }\n",
       "\n",
       "    .dataframe tbody tr th {\n",
       "        vertical-align: top;\n",
       "    }\n",
       "\n",
       "    .dataframe thead th {\n",
       "        text-align: right;\n",
       "    }\n",
       "</style>\n",
       "<table border=\"1\" class=\"dataframe\">\n",
       "  <thead>\n",
       "    <tr style=\"text-align: right;\">\n",
       "      <th></th>\n",
       "      <th>patient_id</th>\n",
       "      <th>case_no</th>\n",
       "      <th>drug_name</th>\n",
       "      <th>amount</th>\n",
       "      <th>drug_spec</th>\n",
       "      <th>dosage</th>\n",
       "      <th>frequency</th>\n",
       "      <th>start_datetime</th>\n",
       "      <th>end_datetime</th>\n",
       "      <th>statusdesc</th>\n",
       "      <th>日剂量</th>\n",
       "      <th>start_date</th>\n",
       "      <th>end_date</th>\n",
       "      <th>long_d_order</th>\n",
       "      <th>分裂日期</th>\n",
       "      <th>起始标签</th>\n",
       "      <th>时间标签</th>\n",
       "    </tr>\n",
       "  </thead>\n",
       "  <tbody>\n",
       "    <tr>\n",
       "      <th>0</th>\n",
       "      <td>6873870</td>\n",
       "      <td>10001302</td>\n",
       "      <td>丙戊酸钠缓释片(德巴金)[0.5g*30片]</td>\n",
       "      <td>1</td>\n",
       "      <td>0.5g*30片</td>\n",
       "      <td>0.5</td>\n",
       "      <td>1</td>\n",
       "      <td>2020-08-15 19:51:46</td>\n",
       "      <td>2020-08-24 10:37:37</td>\n",
       "      <td>停止</td>\n",
       "      <td>0.5</td>\n",
       "      <td>2020-08-15</td>\n",
       "      <td>2020-08-24</td>\n",
       "      <td>1</td>\n",
       "      <td>2020-08-15</td>\n",
       "      <td>起始</td>\n",
       "      <td>1</td>\n",
       "    </tr>\n",
       "    <tr>\n",
       "      <th>0</th>\n",
       "      <td>6873870</td>\n",
       "      <td>10001302</td>\n",
       "      <td>丙戊酸钠缓释片(德巴金)[0.5g*30片]</td>\n",
       "      <td>1</td>\n",
       "      <td>0.5g*30片</td>\n",
       "      <td>0.5</td>\n",
       "      <td>1</td>\n",
       "      <td>2020-08-15 19:51:46</td>\n",
       "      <td>2020-08-24 10:37:37</td>\n",
       "      <td>停止</td>\n",
       "      <td>0.5</td>\n",
       "      <td>2020-08-15</td>\n",
       "      <td>2020-08-24</td>\n",
       "      <td>1</td>\n",
       "      <td>2020-08-16</td>\n",
       "      <td>期间</td>\n",
       "      <td>1</td>\n",
       "    </tr>\n",
       "    <tr>\n",
       "      <th>0</th>\n",
       "      <td>6873870</td>\n",
       "      <td>10001302</td>\n",
       "      <td>丙戊酸钠缓释片(德巴金)[0.5g*30片]</td>\n",
       "      <td>1</td>\n",
       "      <td>0.5g*30片</td>\n",
       "      <td>0.5</td>\n",
       "      <td>1</td>\n",
       "      <td>2020-08-15 19:51:46</td>\n",
       "      <td>2020-08-24 10:37:37</td>\n",
       "      <td>停止</td>\n",
       "      <td>0.5</td>\n",
       "      <td>2020-08-15</td>\n",
       "      <td>2020-08-24</td>\n",
       "      <td>1</td>\n",
       "      <td>2020-08-17</td>\n",
       "      <td>期间</td>\n",
       "      <td>1</td>\n",
       "    </tr>\n",
       "    <tr>\n",
       "      <th>0</th>\n",
       "      <td>6873870</td>\n",
       "      <td>10001302</td>\n",
       "      <td>丙戊酸钠缓释片(德巴金)[0.5g*30片]</td>\n",
       "      <td>1</td>\n",
       "      <td>0.5g*30片</td>\n",
       "      <td>0.5</td>\n",
       "      <td>1</td>\n",
       "      <td>2020-08-15 19:51:46</td>\n",
       "      <td>2020-08-24 10:37:37</td>\n",
       "      <td>停止</td>\n",
       "      <td>0.5</td>\n",
       "      <td>2020-08-15</td>\n",
       "      <td>2020-08-24</td>\n",
       "      <td>1</td>\n",
       "      <td>2020-08-18</td>\n",
       "      <td>期间</td>\n",
       "      <td>1</td>\n",
       "    </tr>\n",
       "    <tr>\n",
       "      <th>0</th>\n",
       "      <td>6873870</td>\n",
       "      <td>10001302</td>\n",
       "      <td>丙戊酸钠缓释片(德巴金)[0.5g*30片]</td>\n",
       "      <td>1</td>\n",
       "      <td>0.5g*30片</td>\n",
       "      <td>0.5</td>\n",
       "      <td>1</td>\n",
       "      <td>2020-08-15 19:51:46</td>\n",
       "      <td>2020-08-24 10:37:37</td>\n",
       "      <td>停止</td>\n",
       "      <td>0.5</td>\n",
       "      <td>2020-08-15</td>\n",
       "      <td>2020-08-24</td>\n",
       "      <td>1</td>\n",
       "      <td>2020-08-19</td>\n",
       "      <td>期间</td>\n",
       "      <td>1</td>\n",
       "    </tr>\n",
       "  </tbody>\n",
       "</table>\n",
       "</div>"
      ],
      "text/plain": [
       "  patient_id   case_no               drug_name amount drug_spec dosage  \\\n",
       "0    6873870  10001302  丙戊酸钠缓释片(德巴金)[0.5g*30片]      1  0.5g*30片    0.5   \n",
       "0    6873870  10001302  丙戊酸钠缓释片(德巴金)[0.5g*30片]      1  0.5g*30片    0.5   \n",
       "0    6873870  10001302  丙戊酸钠缓释片(德巴金)[0.5g*30片]      1  0.5g*30片    0.5   \n",
       "0    6873870  10001302  丙戊酸钠缓释片(德巴金)[0.5g*30片]      1  0.5g*30片    0.5   \n",
       "0    6873870  10001302  丙戊酸钠缓释片(德巴金)[0.5g*30片]      1  0.5g*30片    0.5   \n",
       "\n",
       "  frequency      start_datetime        end_datetime statusdesc  日剂量  \\\n",
       "0         1 2020-08-15 19:51:46 2020-08-24 10:37:37         停止  0.5   \n",
       "0         1 2020-08-15 19:51:46 2020-08-24 10:37:37         停止  0.5   \n",
       "0         1 2020-08-15 19:51:46 2020-08-24 10:37:37         停止  0.5   \n",
       "0         1 2020-08-15 19:51:46 2020-08-24 10:37:37         停止  0.5   \n",
       "0         1 2020-08-15 19:51:46 2020-08-24 10:37:37         停止  0.5   \n",
       "\n",
       "   start_date    end_date long_d_order        分裂日期 起始标签  时间标签  \n",
       "0  2020-08-15  2020-08-24            1  2020-08-15   起始     1  \n",
       "0  2020-08-15  2020-08-24            1  2020-08-16   期间     1  \n",
       "0  2020-08-15  2020-08-24            1  2020-08-17   期间     1  \n",
       "0  2020-08-15  2020-08-24            1  2020-08-18   期间     1  \n",
       "0  2020-08-15  2020-08-24            1  2020-08-19   期间     1  "
      ]
     },
     "execution_count": 135,
     "metadata": {},
     "output_type": "execute_result"
    }
   ],
   "source": [
    "drug_vancomycin_5.head()"
   ]
  },
  {
   "cell_type": "code",
   "execution_count": 136,
   "metadata": {},
   "outputs": [],
   "source": [
    "drug_vancomycin_5.to_excel(project_path+'/data/processed_data/df_2.1.4.7_打时间标签.xlsx')"
   ]
  },
  {
   "cell_type": "markdown",
   "metadata": {},
   "source": [
    "#### 调整日剂量"
   ]
  },
  {
   "cell_type": "code",
   "execution_count": 137,
   "metadata": {},
   "outputs": [],
   "source": [
    "temp_l = []\n",
    "\n",
    "for i in drug_vancomycin_5.case_no.unique():\n",
    "    temp = drug_vancomycin_5[drug_vancomycin_5['case_no']==i].reset_index(drop=True)\n",
    "\n",
    "    for j in temp.分裂日期.unique():\n",
    "\n",
    "        temp_2 = temp[temp['分裂日期']==j]\n",
    "        if 0 in temp_2['long_d_order'].unique():\n",
    "            temp_long = temp_2[temp_2['long_d_order']==1].tail(1).reset_index(drop=True)\n",
    "            temp_st = temp_2[temp_2['long_d_order']==0]\n",
    "            temp_st['日剂量'] = temp_st['日剂量'].sum()\n",
    "            temp_st = temp_st.tail(1).reset_index(drop=True)\n",
    "            # 同一天，既有长期医嘱又有短期医嘱\n",
    "            if len(temp_long)>0:\n",
    "                flag = temp_long.起始标签.unique()[0]\n",
    "                if flag == '期间':\n",
    "                    temp_long.loc[0,'日剂量'] = temp_long.loc[0,'日剂量'] + temp_st.loc[0,'日剂量']                           \n",
    "                    temp_l.append(temp_long)\n",
    "                else:\n",
    "                    temp_l.append(temp_st)\n",
    "            # 该天全是短期医嘱\n",
    "            else:\n",
    "                temp_l.append(temp_st)\n",
    "        # 该天全是长期医嘱\n",
    "        else:\n",
    "            temp_long = temp_2.tail(1).reset_index(drop=True)\n",
    "            flag_l = temp_2.起始标签.unique().tolist()\n",
    "            flag_time_l = temp_2.时间标签.unique().tolist()\n",
    "            \n",
    "            if ('结尾' in flag_l and '起始' in flag_l) or len(flag_time_l)>1:\n",
    "                # 按剂量去重（防止上一次结束，与下一次开始是两种情况）                \n",
    "                if (len(flag_time_l) == 1) and (temp_long.loc[0,'时间标签'] == 0):   \n",
    "                    pass                                                         \n",
    "                # 第一条结尾，第二条开始:   时间 上午 上午 取第二条(开始), 上下、下上、下下取mean\n",
    "                # 按剂量去重（防止上一次结束，与下一次开始是两种情况）\n",
    "                else:\n",
    "                    temp_long.loc[0,'日剂量'] = temp_2.drop_duplicates(subset=['日剂量'],keep='last').日剂量.mean()\n",
    "                temp_l.append(temp_long)\n",
    "            else:\n",
    "                flag = temp_long.loc[0,'起始标签']\n",
    "                flag_time = temp_long.loc[0,'时间标签']\n",
    "                # 开头：大于13点取半天，  结尾：小于13点取半天\n",
    "                if flag=='起始' and flag_time==1:\n",
    "                    temp_long.loc[0,'日剂量'] = temp_long.loc[0,'日剂量'] / 2\n",
    "                if flag=='结尾' and flag_time==0:\n",
    "                    temp_long.loc[0,'日剂量'] = temp_long.loc[0,'日剂量'] / 2\n",
    "\n",
    "                temp_l.append(temp_long)"
   ]
  },
  {
   "cell_type": "code",
   "execution_count": 138,
   "metadata": {},
   "outputs": [],
   "source": [
    "df_VPA_modification = pd.concat(temp_l,axis=0).reset_index(drop=True)\n",
    "df_VPA_modification['日剂量']=df_VPA_modification['日剂量'].apply(lambda x: round(x,2))\n",
    "del temp_l"
   ]
  },
  {
   "cell_type": "code",
   "execution_count": 139,
   "metadata": {},
   "outputs": [],
   "source": [
    "# 设置patient_id，case_no字段数据数据格式，不然无法匹配id\n",
    "df_VPA_modification['patient_id']=df_VPA_modification['patient_id'].astype('str')\n",
    "df_VPA_modification['case_no']=df_VPA_modification['case_no'].astype('str')"
   ]
  },
  {
   "cell_type": "code",
   "execution_count": 140,
   "metadata": {},
   "outputs": [
    {
     "name": "stdout",
     "output_type": "stream",
     "text": [
      "(3188, 17)\n",
      "214\n",
      "237\n"
     ]
    }
   ],
   "source": [
    "print(df_VPA_modification.shape)\n",
    "print(df_VPA_modification['patient_id'].nunique())\n",
    "print(df_VPA_modification['case_no'].nunique())"
   ]
  },
  {
   "cell_type": "code",
   "execution_count": 141,
   "metadata": {},
   "outputs": [
    {
     "data": {
      "text/html": [
       "<div>\n",
       "<style scoped>\n",
       "    .dataframe tbody tr th:only-of-type {\n",
       "        vertical-align: middle;\n",
       "    }\n",
       "\n",
       "    .dataframe tbody tr th {\n",
       "        vertical-align: top;\n",
       "    }\n",
       "\n",
       "    .dataframe thead th {\n",
       "        text-align: right;\n",
       "    }\n",
       "</style>\n",
       "<table border=\"1\" class=\"dataframe\">\n",
       "  <thead>\n",
       "    <tr style=\"text-align: right;\">\n",
       "      <th></th>\n",
       "      <th>patient_id</th>\n",
       "      <th>case_no</th>\n",
       "      <th>drug_name</th>\n",
       "      <th>amount</th>\n",
       "      <th>drug_spec</th>\n",
       "      <th>dosage</th>\n",
       "      <th>frequency</th>\n",
       "      <th>start_datetime</th>\n",
       "      <th>end_datetime</th>\n",
       "      <th>statusdesc</th>\n",
       "      <th>日剂量</th>\n",
       "      <th>start_date</th>\n",
       "      <th>end_date</th>\n",
       "      <th>long_d_order</th>\n",
       "      <th>分裂日期</th>\n",
       "      <th>起始标签</th>\n",
       "      <th>时间标签</th>\n",
       "    </tr>\n",
       "  </thead>\n",
       "  <tbody>\n",
       "    <tr>\n",
       "      <th>0</th>\n",
       "      <td>6873870</td>\n",
       "      <td>10001302</td>\n",
       "      <td>丙戊酸钠缓释片(德巴金)[0.5g*30片]</td>\n",
       "      <td>1</td>\n",
       "      <td>0.5g*30片</td>\n",
       "      <td>0.5</td>\n",
       "      <td>1</td>\n",
       "      <td>2020-08-15 19:51:46</td>\n",
       "      <td>2020-08-24 10:37:37</td>\n",
       "      <td>停止</td>\n",
       "      <td>0.25</td>\n",
       "      <td>2020-08-15</td>\n",
       "      <td>2020-08-24</td>\n",
       "      <td>1</td>\n",
       "      <td>2020-08-15</td>\n",
       "      <td>起始</td>\n",
       "      <td>1</td>\n",
       "    </tr>\n",
       "    <tr>\n",
       "      <th>1</th>\n",
       "      <td>6873870</td>\n",
       "      <td>10001302</td>\n",
       "      <td>丙戊酸钠缓释片(德巴金)[0.5g*30片]</td>\n",
       "      <td>1</td>\n",
       "      <td>0.5g*30片</td>\n",
       "      <td>0.5</td>\n",
       "      <td>1</td>\n",
       "      <td>2020-08-15 19:51:46</td>\n",
       "      <td>2020-08-24 10:37:37</td>\n",
       "      <td>停止</td>\n",
       "      <td>0.50</td>\n",
       "      <td>2020-08-15</td>\n",
       "      <td>2020-08-24</td>\n",
       "      <td>1</td>\n",
       "      <td>2020-08-16</td>\n",
       "      <td>期间</td>\n",
       "      <td>1</td>\n",
       "    </tr>\n",
       "    <tr>\n",
       "      <th>2</th>\n",
       "      <td>6873870</td>\n",
       "      <td>10001302</td>\n",
       "      <td>丙戊酸钠缓释片(德巴金)[0.5g*30片]</td>\n",
       "      <td>1</td>\n",
       "      <td>0.5g*30片</td>\n",
       "      <td>0.5</td>\n",
       "      <td>1</td>\n",
       "      <td>2020-08-15 19:51:46</td>\n",
       "      <td>2020-08-24 10:37:37</td>\n",
       "      <td>停止</td>\n",
       "      <td>0.50</td>\n",
       "      <td>2020-08-15</td>\n",
       "      <td>2020-08-24</td>\n",
       "      <td>1</td>\n",
       "      <td>2020-08-17</td>\n",
       "      <td>期间</td>\n",
       "      <td>1</td>\n",
       "    </tr>\n",
       "    <tr>\n",
       "      <th>3</th>\n",
       "      <td>6873870</td>\n",
       "      <td>10001302</td>\n",
       "      <td>丙戊酸钠缓释片(德巴金)[0.5g*30片]</td>\n",
       "      <td>1</td>\n",
       "      <td>0.5g*30片</td>\n",
       "      <td>0.5</td>\n",
       "      <td>1</td>\n",
       "      <td>2020-08-15 19:51:46</td>\n",
       "      <td>2020-08-24 10:37:37</td>\n",
       "      <td>停止</td>\n",
       "      <td>0.50</td>\n",
       "      <td>2020-08-15</td>\n",
       "      <td>2020-08-24</td>\n",
       "      <td>1</td>\n",
       "      <td>2020-08-18</td>\n",
       "      <td>期间</td>\n",
       "      <td>1</td>\n",
       "    </tr>\n",
       "    <tr>\n",
       "      <th>4</th>\n",
       "      <td>6873870</td>\n",
       "      <td>10001302</td>\n",
       "      <td>丙戊酸钠缓释片(德巴金)[0.5g*30片]</td>\n",
       "      <td>1</td>\n",
       "      <td>0.5g*30片</td>\n",
       "      <td>0.5</td>\n",
       "      <td>1</td>\n",
       "      <td>2020-08-15 19:51:46</td>\n",
       "      <td>2020-08-24 10:37:37</td>\n",
       "      <td>停止</td>\n",
       "      <td>0.50</td>\n",
       "      <td>2020-08-15</td>\n",
       "      <td>2020-08-24</td>\n",
       "      <td>1</td>\n",
       "      <td>2020-08-19</td>\n",
       "      <td>期间</td>\n",
       "      <td>1</td>\n",
       "    </tr>\n",
       "  </tbody>\n",
       "</table>\n",
       "</div>"
      ],
      "text/plain": [
       "  patient_id   case_no               drug_name amount drug_spec dosage  \\\n",
       "0    6873870  10001302  丙戊酸钠缓释片(德巴金)[0.5g*30片]      1  0.5g*30片    0.5   \n",
       "1    6873870  10001302  丙戊酸钠缓释片(德巴金)[0.5g*30片]      1  0.5g*30片    0.5   \n",
       "2    6873870  10001302  丙戊酸钠缓释片(德巴金)[0.5g*30片]      1  0.5g*30片    0.5   \n",
       "3    6873870  10001302  丙戊酸钠缓释片(德巴金)[0.5g*30片]      1  0.5g*30片    0.5   \n",
       "4    6873870  10001302  丙戊酸钠缓释片(德巴金)[0.5g*30片]      1  0.5g*30片    0.5   \n",
       "\n",
       "  frequency      start_datetime        end_datetime statusdesc   日剂量  \\\n",
       "0         1 2020-08-15 19:51:46 2020-08-24 10:37:37         停止  0.25   \n",
       "1         1 2020-08-15 19:51:46 2020-08-24 10:37:37         停止  0.50   \n",
       "2         1 2020-08-15 19:51:46 2020-08-24 10:37:37         停止  0.50   \n",
       "3         1 2020-08-15 19:51:46 2020-08-24 10:37:37         停止  0.50   \n",
       "4         1 2020-08-15 19:51:46 2020-08-24 10:37:37         停止  0.50   \n",
       "\n",
       "   start_date    end_date long_d_order        分裂日期 起始标签  时间标签  \n",
       "0  2020-08-15  2020-08-24            1  2020-08-15   起始     1  \n",
       "1  2020-08-15  2020-08-24            1  2020-08-16   期间     1  \n",
       "2  2020-08-15  2020-08-24            1  2020-08-17   期间     1  \n",
       "3  2020-08-15  2020-08-24            1  2020-08-18   期间     1  \n",
       "4  2020-08-15  2020-08-24            1  2020-08-19   期间     1  "
      ]
     },
     "execution_count": 141,
     "metadata": {},
     "output_type": "execute_result"
    }
   ],
   "source": [
    "df_VPA_modification.head()"
   ]
  },
  {
   "cell_type": "code",
   "execution_count": 142,
   "metadata": {},
   "outputs": [],
   "source": [
    "df_VPA_modification.to_excel(project_path+'/data/processed_data/df_2.1.4.8_调整日剂量.xlsx')"
   ]
  },
  {
   "cell_type": "code",
   "execution_count": 143,
   "metadata": {},
   "outputs": [],
   "source": [
    "#### 用药稳态筛选"
   ]
  },
  {
   "cell_type": "code",
   "execution_count": 144,
   "metadata": {},
   "outputs": [],
   "source": [
    "# df_VPA_steady=df_VPA_modification.copy()\n",
    "# # 到稳态血药浓度（同一剂量至少连续服用3天)\n",
    "# temp_list=[]\n",
    "# for i in df_VPA_steady['case_no'].unique():\n",
    "#     print(i)\n",
    "#     temp=df_VPA_steady[df_VPA_steady['case_no']==i]\n",
    "#     temp=temp.reset_index(drop=True)\n",
    "#     j=0\n",
    "#     while j < temp.shape[0]:\n",
    "# #         print(j)\n",
    "#         # 连续服药3天，tdm达到稳态。1.剂量连续3天；2. 时间连续3天\n",
    "#         dosage_judge=temp.loc[j,'日剂量']    \n",
    "#         # 1. 剂量判断\n",
    "#         break_bool=False\n",
    "#         for k in range(j+1,temp.shape[0]):\n",
    "#             differ = (pd.to_datetime(temp.loc[k,'分裂日期'])-pd.to_datetime(temp.loc[k-1,'分裂日期'])).days\n",
    "#             if dosage_judge != temp.loc[k,'日剂量'] or differ != 1:\n",
    "#                 # 判断是否中断\n",
    "#                 break_bool=True\n",
    "#                 break\n",
    "#         # 是否是最后一天\n",
    "#         if k != temp.shape[0]-1:\n",
    "#             # 是否是稳态\n",
    "#             if k-1-j>=2:\n",
    "#                 temp_list.append(temp.loc[j:k-1,])\n",
    "#             j=k\n",
    "#             continue\n",
    "#         else:\n",
    "#             # 最后一天是否中断\n",
    "#             if break_bool:\n",
    "#                 # 是否是稳态\n",
    "#                 if k-1-j>=2:\n",
    "#                     temp_list.append(temp.loc[j:k-1,])\n",
    "#             else:\n",
    "#                 if k-j >=2:\n",
    "#                     temp_list.append(temp.loc[j:k,])\n",
    "#             j=k+1\n",
    "\n",
    "# # list转换为DataFrame\n",
    "# df_VPA_steady = pd.concat(temp_list,axis=0).reset_index(drop=True)\n",
    "# del temp_list\n",
    "\n",
    "# print(df_VPA_steady.shape)\n",
    "# print(df_VPA_steady['patient_id'].nunique())\n",
    "# print(df_VPA_steady['case_no'].nunique())\n",
    "\n",
    "# df_VPA_steady.head()\n",
    "\n",
    "# df_VPA_steady.to_excel(project_path+'/data/processed_data/df_2.1.4.7_用药稳态筛选.xlsx')"
   ]
  },
  {
   "cell_type": "markdown",
   "metadata": {},
   "source": [
    "## 排除标准"
   ]
  },
  {
   "cell_type": "markdown",
   "metadata": {},
   "source": [
    "### 妊娠或哺乳期妇女"
   ]
  },
  {
   "cell_type": "code",
   "execution_count": 145,
   "metadata": {},
   "outputs": [],
   "source": [
    "# 字段“尿妊娠试验”阳性为怀孕；“β人绒毛膜促性腺激素”在正常值范围内表明没有怀孕；\n",
    "df_pregnant_1=df_test[df_test['project_name'].str.contains('尿妊娠试验')]\n",
    "df_pregnant_1=df_pregnant_1[df_pregnant_1['test_result'].str.contains('阳性')]\n",
    "df_pregnant_2=df_test[df_test['project_name'].str.contains('β人绒毛膜促性腺激素')]\n",
    "df_pregnant_2=df_pregnant_2[df_pregnant_2['test_result'].astype('float')>5.3]"
   ]
  },
  {
   "cell_type": "code",
   "execution_count": 146,
   "metadata": {},
   "outputs": [],
   "source": [
    "df_test_pregnant=pd.concat([df_pregnant_1,df_pregnant_2],axis=0)"
   ]
  },
  {
   "cell_type": "code",
   "execution_count": 147,
   "metadata": {},
   "outputs": [
    {
     "data": {
      "text/html": [
       "<div>\n",
       "<style scoped>\n",
       "    .dataframe tbody tr th:only-of-type {\n",
       "        vertical-align: middle;\n",
       "    }\n",
       "\n",
       "    .dataframe tbody tr th {\n",
       "        vertical-align: top;\n",
       "    }\n",
       "\n",
       "    .dataframe thead th {\n",
       "        text-align: right;\n",
       "    }\n",
       "</style>\n",
       "<table border=\"1\" class=\"dataframe\">\n",
       "  <thead>\n",
       "    <tr style=\"text-align: right;\">\n",
       "      <th></th>\n",
       "      <th>test_record_id</th>\n",
       "      <th>patient_id</th>\n",
       "      <th>case_no</th>\n",
       "      <th>test_date</th>\n",
       "      <th>clinical_diagnosis</th>\n",
       "      <th>sample_type</th>\n",
       "      <th>sample_time</th>\n",
       "      <th>project_name</th>\n",
       "      <th>test_result</th>\n",
       "      <th>result_unit</th>\n",
       "      <th>is_normal</th>\n",
       "      <th>refer_scope</th>\n",
       "      <th>synonym</th>\n",
       "    </tr>\n",
       "  </thead>\n",
       "  <tbody>\n",
       "    <tr>\n",
       "      <th>19330</th>\n",
       "      <td>800005121742||C122||1</td>\n",
       "      <td>7565842</td>\n",
       "      <td>6917667</td>\n",
       "      <td>2019-07-13 11:34:00</td>\n",
       "      <td>双相情感障碍，目前为重度抑郁发作</td>\n",
       "      <td>血清</td>\n",
       "      <td>NaT</td>\n",
       "      <td>β人绒毛膜促性腺激素</td>\n",
       "      <td>107584.000</td>\n",
       "      <td>mIU/mL</td>\n",
       "      <td>N</td>\n",
       "      <td>绝经后(0.00-8.30) 绝经前(0.00-5.30)\\n\\r</td>\n",
       "      <td>βHCG</td>\n",
       "    </tr>\n",
       "  </tbody>\n",
       "</table>\n",
       "</div>"
      ],
      "text/plain": [
       "              test_record_id patient_id  case_no           test_date  \\\n",
       "19330  800005121742||C122||1    7565842  6917667 2019-07-13 11:34:00   \n",
       "\n",
       "      clinical_diagnosis sample_type sample_time project_name test_result  \\\n",
       "19330   双相情感障碍，目前为重度抑郁发作          血清         NaT   β人绒毛膜促性腺激素  107584.000   \n",
       "\n",
       "      result_unit is_normal                        refer_scope synonym  \n",
       "19330      mIU/mL         N  绝经后(0.00-8.30) 绝经前(0.00-5.30)\\n\\r    βHCG  "
      ]
     },
     "execution_count": 147,
     "metadata": {},
     "output_type": "execute_result"
    }
   ],
   "source": [
    "df_test_pregnant"
   ]
  },
  {
   "cell_type": "code",
   "execution_count": 148,
   "metadata": {},
   "outputs": [],
   "source": [
    "# 剔除妊娠妇女\n",
    "df_VPA_pregnant=df_VPA_modification[~ df_VPA_modification['patient_id'].isin(df_test_pregnant.patient_id.unique())]"
   ]
  },
  {
   "cell_type": "code",
   "execution_count": 149,
   "metadata": {},
   "outputs": [
    {
     "name": "stdout",
     "output_type": "stream",
     "text": [
      "(3175, 17)\n",
      "213\n",
      "236\n"
     ]
    }
   ],
   "source": [
    "print(df_VPA_pregnant.shape)\n",
    "print(df_VPA_pregnant['patient_id'].nunique())\n",
    "print(df_VPA_pregnant['case_no'].nunique())"
   ]
  },
  {
   "cell_type": "code",
   "execution_count": 150,
   "metadata": {},
   "outputs": [],
   "source": [
    "# 排除妊娠妇女\n",
    "df_VPA_pregnant.to_excel(project_path+'/data/processed_data/df_2.2.1_排除妊娠妇女.xlsx')"
   ]
  },
  {
   "cell_type": "markdown",
   "metadata": {},
   "source": [
    "### 排除数据严重缺失"
   ]
  },
  {
   "cell_type": "code",
   "execution_count": 151,
   "metadata": {},
   "outputs": [
    {
     "data": {
      "text/plain": [
       "patient_id        False\n",
       "case_no           False\n",
       "drug_name         False\n",
       "amount            False\n",
       "drug_spec         False\n",
       "dosage            False\n",
       "frequency         False\n",
       "start_datetime    False\n",
       "end_datetime      False\n",
       "statusdesc        False\n",
       "日剂量               False\n",
       "start_date        False\n",
       "end_date          False\n",
       "long_d_order      False\n",
       "分裂日期              False\n",
       "起始标签              False\n",
       "时间标签              False\n",
       "dtype: bool"
      ]
     },
     "execution_count": 151,
     "metadata": {},
     "output_type": "execute_result"
    }
   ],
   "source": [
    "# 数据严重缺失（如患者ID、主要研究结局等\n",
    "df_VPA_pregnant.isnull().any()"
   ]
  },
  {
   "cell_type": "markdown",
   "metadata": {},
   "source": [
    "# 合并人口学特征"
   ]
  },
  {
   "cell_type": "markdown",
   "metadata": {},
   "source": [
    "## 合并人口学信息"
   ]
  },
  {
   "cell_type": "code",
   "execution_count": 152,
   "metadata": {},
   "outputs": [],
   "source": [
    "# 取 patient_id和case_no\n",
    "df_popu=df_VPA_pregnant[['patient_id','case_no']]"
   ]
  },
  {
   "cell_type": "code",
   "execution_count": 153,
   "metadata": {},
   "outputs": [],
   "source": [
    "# merge gender\n",
    "df_popu=pd.merge(df_popu,df_patient_info,on=['patient_id'],how='left')"
   ]
  },
  {
   "cell_type": "code",
   "execution_count": 154,
   "metadata": {},
   "outputs": [],
   "source": [
    "# merge age\n",
    "df_age_simple=df_age[['case_no','age']]\n",
    "df_popu=pd.merge(df_popu,df_age_simple,on=['case_no'],how='left')"
   ]
  },
  {
   "cell_type": "code",
   "execution_count": 155,
   "metadata": {},
   "outputs": [],
   "source": [
    "# merge height\n",
    "df_height_simple=df_height[['case_no','record_content']]\n",
    "df_height_simple=df_height_simple.rename(columns={'record_content':'身高'})\n",
    "df_height_simple['身高']=df_height_simple['身高'].astype('float')\n",
    "df_popu=pd.merge(df_popu,df_height_simple,on=['case_no'],how='left')"
   ]
  },
  {
   "cell_type": "code",
   "execution_count": 156,
   "metadata": {},
   "outputs": [],
   "source": [
    "# merge weight\n",
    "df_weight_simple=df_weight[['case_no','record_content']]\n",
    "df_weight_simple=df_weight_simple.rename(columns={'record_content':'体重'})\n",
    "df_weight_simple['体重']=df_weight_simple['体重'].astype('float')\n",
    "df_popu=pd.merge(df_popu,df_weight_simple,on=['case_no'],how='left')"
   ]
  },
  {
   "cell_type": "code",
   "execution_count": 157,
   "metadata": {},
   "outputs": [
    {
     "name": "stdout",
     "output_type": "stream",
     "text": [
      "<class 'pandas.core.frame.DataFrame'>\n",
      "Int64Index: 246 entries, 3600 to 19370\n",
      "Data columns (total 2 columns):\n",
      " #   Column   Non-Null Count  Dtype  \n",
      "---  ------   --------------  -----  \n",
      " 0   case_no  246 non-null    object \n",
      " 1   体重       246 non-null    float64\n",
      "dtypes: float64(1), object(1)\n",
      "memory usage: 5.8+ KB\n"
     ]
    }
   ],
   "source": [
    "df_weight_simple.info()"
   ]
  },
  {
   "cell_type": "code",
   "execution_count": 158,
   "metadata": {},
   "outputs": [
    {
     "data": {
      "text/html": [
       "<div>\n",
       "<style scoped>\n",
       "    .dataframe tbody tr th:only-of-type {\n",
       "        vertical-align: middle;\n",
       "    }\n",
       "\n",
       "    .dataframe tbody tr th {\n",
       "        vertical-align: top;\n",
       "    }\n",
       "\n",
       "    .dataframe thead th {\n",
       "        text-align: right;\n",
       "    }\n",
       "</style>\n",
       "<table border=\"1\" class=\"dataframe\">\n",
       "  <thead>\n",
       "    <tr style=\"text-align: right;\">\n",
       "      <th></th>\n",
       "      <th>patient_id</th>\n",
       "      <th>case_no</th>\n",
       "      <th>gender</th>\n",
       "      <th>race</th>\n",
       "      <th>birth_year</th>\n",
       "      <th>age</th>\n",
       "      <th>身高</th>\n",
       "      <th>体重</th>\n",
       "    </tr>\n",
       "  </thead>\n",
       "  <tbody>\n",
       "    <tr>\n",
       "      <th>0</th>\n",
       "      <td>6873870</td>\n",
       "      <td>10001302</td>\n",
       "      <td>0</td>\n",
       "      <td>汉族</td>\n",
       "      <td>1992-11-06</td>\n",
       "      <td>28</td>\n",
       "      <td>153.0</td>\n",
       "      <td>52.0</td>\n",
       "    </tr>\n",
       "    <tr>\n",
       "      <th>1</th>\n",
       "      <td>6873870</td>\n",
       "      <td>10001302</td>\n",
       "      <td>0</td>\n",
       "      <td>汉族</td>\n",
       "      <td>1992-11-06</td>\n",
       "      <td>28</td>\n",
       "      <td>153.0</td>\n",
       "      <td>52.0</td>\n",
       "    </tr>\n",
       "    <tr>\n",
       "      <th>2</th>\n",
       "      <td>6873870</td>\n",
       "      <td>10001302</td>\n",
       "      <td>0</td>\n",
       "      <td>汉族</td>\n",
       "      <td>1992-11-06</td>\n",
       "      <td>28</td>\n",
       "      <td>153.0</td>\n",
       "      <td>52.0</td>\n",
       "    </tr>\n",
       "    <tr>\n",
       "      <th>3</th>\n",
       "      <td>6873870</td>\n",
       "      <td>10001302</td>\n",
       "      <td>0</td>\n",
       "      <td>汉族</td>\n",
       "      <td>1992-11-06</td>\n",
       "      <td>28</td>\n",
       "      <td>153.0</td>\n",
       "      <td>52.0</td>\n",
       "    </tr>\n",
       "    <tr>\n",
       "      <th>4</th>\n",
       "      <td>6873870</td>\n",
       "      <td>10001302</td>\n",
       "      <td>0</td>\n",
       "      <td>汉族</td>\n",
       "      <td>1992-11-06</td>\n",
       "      <td>28</td>\n",
       "      <td>153.0</td>\n",
       "      <td>52.0</td>\n",
       "    </tr>\n",
       "  </tbody>\n",
       "</table>\n",
       "</div>"
      ],
      "text/plain": [
       "  patient_id   case_no  gender race  birth_year  age     身高    体重\n",
       "0    6873870  10001302       0   汉族  1992-11-06   28  153.0  52.0\n",
       "1    6873870  10001302       0   汉族  1992-11-06   28  153.0  52.0\n",
       "2    6873870  10001302       0   汉族  1992-11-06   28  153.0  52.0\n",
       "3    6873870  10001302       0   汉族  1992-11-06   28  153.0  52.0\n",
       "4    6873870  10001302       0   汉族  1992-11-06   28  153.0  52.0"
      ]
     },
     "execution_count": 158,
     "metadata": {},
     "output_type": "execute_result"
    }
   ],
   "source": [
    "df_popu.head()"
   ]
  },
  {
   "cell_type": "code",
   "execution_count": 159,
   "metadata": {},
   "outputs": [
    {
     "name": "stdout",
     "output_type": "stream",
     "text": [
      "(4084, 8)\n",
      "213\n"
     ]
    }
   ],
   "source": [
    "print(df_popu.shape)\n",
    "print(df_popu['patient_id'].nunique())"
   ]
  },
  {
   "cell_type": "code",
   "execution_count": 160,
   "metadata": {},
   "outputs": [],
   "source": [
    "# 删除重复数据\n",
    "df_popu=df_popu.drop_duplicates(['patient_id','case_no','gender'])"
   ]
  },
  {
   "cell_type": "code",
   "execution_count": 161,
   "metadata": {},
   "outputs": [
    {
     "name": "stdout",
     "output_type": "stream",
     "text": [
      "(236, 8)\n",
      "213\n",
      "236\n"
     ]
    }
   ],
   "source": [
    "print(df_popu.shape)\n",
    "print(df_popu['patient_id'].nunique())\n",
    "print(df_popu.case_no.nunique())"
   ]
  },
  {
   "cell_type": "code",
   "execution_count": 162,
   "metadata": {},
   "outputs": [],
   "source": [
    "df_popu.to_excel(project_path+'/data/processed_data/df_3.1_popu.xlsx')"
   ]
  },
  {
   "cell_type": "markdown",
   "metadata": {},
   "source": [
    "## 计算BMI"
   ]
  },
  {
   "cell_type": "code",
   "execution_count": 163,
   "metadata": {},
   "outputs": [],
   "source": [
    "BMI_list=[round(x*10000/y/y,2) for (x,y) in zip(df_popu['体重'].astype('float').tolist(),df_popu['身高'].astype('float').tolist())]"
   ]
  },
  {
   "cell_type": "code",
   "execution_count": 164,
   "metadata": {},
   "outputs": [
    {
     "name": "stdout",
     "output_type": "stream",
     "text": [
      "236\n",
      "(236, 8)\n"
     ]
    }
   ],
   "source": [
    "print(len(BMI_list))\n",
    "print(df_popu.shape)"
   ]
  },
  {
   "cell_type": "code",
   "execution_count": 165,
   "metadata": {},
   "outputs": [],
   "source": [
    "df_popu['BMI']=np.array(BMI_list)"
   ]
  },
  {
   "cell_type": "code",
   "execution_count": 166,
   "metadata": {},
   "outputs": [
    {
     "data": {
      "text/html": [
       "<div>\n",
       "<style scoped>\n",
       "    .dataframe tbody tr th:only-of-type {\n",
       "        vertical-align: middle;\n",
       "    }\n",
       "\n",
       "    .dataframe tbody tr th {\n",
       "        vertical-align: top;\n",
       "    }\n",
       "\n",
       "    .dataframe thead th {\n",
       "        text-align: right;\n",
       "    }\n",
       "</style>\n",
       "<table border=\"1\" class=\"dataframe\">\n",
       "  <thead>\n",
       "    <tr style=\"text-align: right;\">\n",
       "      <th></th>\n",
       "      <th>patient_id</th>\n",
       "      <th>case_no</th>\n",
       "      <th>gender</th>\n",
       "      <th>race</th>\n",
       "      <th>birth_year</th>\n",
       "      <th>age</th>\n",
       "      <th>身高</th>\n",
       "      <th>体重</th>\n",
       "      <th>BMI</th>\n",
       "    </tr>\n",
       "  </thead>\n",
       "  <tbody>\n",
       "    <tr>\n",
       "      <th>0</th>\n",
       "      <td>6873870</td>\n",
       "      <td>10001302</td>\n",
       "      <td>0</td>\n",
       "      <td>汉族</td>\n",
       "      <td>1992-11-06</td>\n",
       "      <td>28</td>\n",
       "      <td>153.0</td>\n",
       "      <td>52.0</td>\n",
       "      <td>22.21</td>\n",
       "    </tr>\n",
       "    <tr>\n",
       "      <th>21</th>\n",
       "      <td>547307</td>\n",
       "      <td>10005574</td>\n",
       "      <td>0</td>\n",
       "      <td>汉族</td>\n",
       "      <td>1995-05-13</td>\n",
       "      <td>25</td>\n",
       "      <td>162.0</td>\n",
       "      <td>52.0</td>\n",
       "      <td>19.81</td>\n",
       "    </tr>\n",
       "    <tr>\n",
       "      <th>37</th>\n",
       "      <td>6949939</td>\n",
       "      <td>10019847</td>\n",
       "      <td>0</td>\n",
       "      <td>汉族</td>\n",
       "      <td>1993-11-22</td>\n",
       "      <td>27</td>\n",
       "      <td>160.0</td>\n",
       "      <td>45.0</td>\n",
       "      <td>17.58</td>\n",
       "    </tr>\n",
       "    <tr>\n",
       "      <th>55</th>\n",
       "      <td>7765586</td>\n",
       "      <td>10024628</td>\n",
       "      <td>0</td>\n",
       "      <td>汉族</td>\n",
       "      <td>2003-12-08</td>\n",
       "      <td>16</td>\n",
       "      <td>168.0</td>\n",
       "      <td>82.0</td>\n",
       "      <td>29.05</td>\n",
       "    </tr>\n",
       "    <tr>\n",
       "      <th>67</th>\n",
       "      <td>369329</td>\n",
       "      <td>10028911</td>\n",
       "      <td>0</td>\n",
       "      <td>汉族</td>\n",
       "      <td>1987-11-03</td>\n",
       "      <td>33</td>\n",
       "      <td>159.0</td>\n",
       "      <td>67.0</td>\n",
       "      <td>26.50</td>\n",
       "    </tr>\n",
       "    <tr>\n",
       "      <th>...</th>\n",
       "      <td>...</td>\n",
       "      <td>...</td>\n",
       "      <td>...</td>\n",
       "      <td>...</td>\n",
       "      <td>...</td>\n",
       "      <td>...</td>\n",
       "      <td>...</td>\n",
       "      <td>...</td>\n",
       "      <td>...</td>\n",
       "    </tr>\n",
       "    <tr>\n",
       "      <th>4018</th>\n",
       "      <td>2583650</td>\n",
       "      <td>9818116</td>\n",
       "      <td>0</td>\n",
       "      <td>汉族</td>\n",
       "      <td>1961-10-27</td>\n",
       "      <td>59</td>\n",
       "      <td>158.0</td>\n",
       "      <td>76.0</td>\n",
       "      <td>30.44</td>\n",
       "    </tr>\n",
       "    <tr>\n",
       "      <th>4026</th>\n",
       "      <td>7411504</td>\n",
       "      <td>9835190</td>\n",
       "      <td>0</td>\n",
       "      <td>汉族</td>\n",
       "      <td>2003-10-15</td>\n",
       "      <td>17</td>\n",
       "      <td>163.0</td>\n",
       "      <td>57.0</td>\n",
       "      <td>21.45</td>\n",
       "    </tr>\n",
       "    <tr>\n",
       "      <th>4039</th>\n",
       "      <td>8334957</td>\n",
       "      <td>9890262</td>\n",
       "      <td>1</td>\n",
       "      <td>汉族</td>\n",
       "      <td>2006-07-25</td>\n",
       "      <td>14</td>\n",
       "      <td>166.0</td>\n",
       "      <td>49.0</td>\n",
       "      <td>17.78</td>\n",
       "    </tr>\n",
       "    <tr>\n",
       "      <th>4054</th>\n",
       "      <td>6865481</td>\n",
       "      <td>9910592</td>\n",
       "      <td>1</td>\n",
       "      <td>汉族</td>\n",
       "      <td>2000-11-06</td>\n",
       "      <td>20</td>\n",
       "      <td>183.0</td>\n",
       "      <td>NaN</td>\n",
       "      <td>NaN</td>\n",
       "    </tr>\n",
       "    <tr>\n",
       "      <th>4076</th>\n",
       "      <td>8374053</td>\n",
       "      <td>9963165</td>\n",
       "      <td>0</td>\n",
       "      <td>汉族</td>\n",
       "      <td>1997-09-15</td>\n",
       "      <td>23</td>\n",
       "      <td>160.0</td>\n",
       "      <td>62.0</td>\n",
       "      <td>24.22</td>\n",
       "    </tr>\n",
       "  </tbody>\n",
       "</table>\n",
       "<p>236 rows × 9 columns</p>\n",
       "</div>"
      ],
      "text/plain": [
       "     patient_id   case_no  gender race  birth_year  age     身高    体重    BMI\n",
       "0       6873870  10001302       0   汉族  1992-11-06   28  153.0  52.0  22.21\n",
       "21       547307  10005574       0   汉族  1995-05-13   25  162.0  52.0  19.81\n",
       "37      6949939  10019847       0   汉族  1993-11-22   27  160.0  45.0  17.58\n",
       "55      7765586  10024628       0   汉族  2003-12-08   16  168.0  82.0  29.05\n",
       "67       369329  10028911       0   汉族  1987-11-03   33  159.0  67.0  26.50\n",
       "...         ...       ...     ...  ...         ...  ...    ...   ...    ...\n",
       "4018    2583650   9818116       0   汉族  1961-10-27   59  158.0  76.0  30.44\n",
       "4026    7411504   9835190       0   汉族  2003-10-15   17  163.0  57.0  21.45\n",
       "4039    8334957   9890262       1   汉族  2006-07-25   14  166.0  49.0  17.78\n",
       "4054    6865481   9910592       1   汉族  2000-11-06   20  183.0   NaN    NaN\n",
       "4076    8374053   9963165       0   汉族  1997-09-15   23  160.0  62.0  24.22\n",
       "\n",
       "[236 rows x 9 columns]"
      ]
     },
     "execution_count": 166,
     "metadata": {},
     "output_type": "execute_result"
    }
   ],
   "source": [
    "df_popu"
   ]
  },
  {
   "cell_type": "markdown",
   "metadata": {},
   "source": [
    "## 并入人口学特征"
   ]
  },
  {
   "cell_type": "code",
   "execution_count": 167,
   "metadata": {},
   "outputs": [],
   "source": [
    "df_popu=df_popu[['case_no','gender','age','身高','体重','BMI']]"
   ]
  },
  {
   "cell_type": "code",
   "execution_count": 168,
   "metadata": {},
   "outputs": [
    {
     "name": "stdout",
     "output_type": "stream",
     "text": [
      "(3175, 17)\n",
      "213\n",
      "236\n"
     ]
    }
   ],
   "source": [
    "print(df_VPA_pregnant.shape)\n",
    "print(df_VPA_pregnant['patient_id'].nunique())\n",
    "print(df_VPA_pregnant['case_no'].nunique())"
   ]
  },
  {
   "cell_type": "code",
   "execution_count": 169,
   "metadata": {},
   "outputs": [],
   "source": [
    "df_VPA_popu=pd.merge(df_VPA_pregnant,df_popu,on=['case_no'],how='left')"
   ]
  },
  {
   "cell_type": "code",
   "execution_count": 170,
   "metadata": {},
   "outputs": [
    {
     "name": "stdout",
     "output_type": "stream",
     "text": [
      "(3175, 22)\n",
      "213\n",
      "236\n"
     ]
    }
   ],
   "source": [
    "print(df_VPA_popu.shape)\n",
    "print(df_VPA_popu['patient_id'].nunique())\n",
    "print(df_VPA_popu['case_no'].nunique())"
   ]
  },
  {
   "cell_type": "code",
   "execution_count": 171,
   "metadata": {},
   "outputs": [],
   "source": [
    "# 合并人口学特征\n",
    "df_VPA_popu.to_excel(project_path+'/data/processed_data/df_3.3_并入人口学特征.xlsx')"
   ]
  },
  {
   "cell_type": "markdown",
   "metadata": {},
   "source": [
    "# 基础疾病"
   ]
  },
  {
   "cell_type": "code",
   "execution_count": 172,
   "metadata": {},
   "outputs": [],
   "source": [
    "# 将高血压、糖尿病、脑器质疾病、肝炎、肾炎合并为基础疾病一项"
   ]
  },
  {
   "cell_type": "code",
   "execution_count": 173,
   "metadata": {},
   "outputs": [],
   "source": [
    "# 高血压、糖尿病\n",
    "df_VPA_history=df_VPA_popu.copy()\n",
    "# 提取高血压\n",
    "df_EH=df_diagnostic_record[df_diagnostic_record['diagnostic_content'].str.contains('高血压')]\n",
    "# 提取糖尿病\n",
    "df_DM=df_diagnostic_record[df_diagnostic_record['diagnostic_content'].str.contains('糖尿病')]\n",
    "# 脑器质疾病：脑退行性改变（痴呆）、脑血管病（脑梗塞/缺血性卒中/中风、脑出血）、颅内感染、脑外伤、脑肿瘤、癫痫\n",
    "# 提取脑器质疾病brain organic mental disorders\n",
    "df_bomd=df_diagnostic_record[(df_diagnostic_record['diagnostic_content'].str.contains('器质'))&\n",
    "                            df_diagnostic_record['diagnostic_content'].str.contains('精神')]\n",
    "# 提取肝炎\n",
    "df_HCA=df_diagnostic_record[df_diagnostic_record['diagnostic_content'].str.contains('肝炎')]\n",
    "# 提取肾病，不包括肾结石\n",
    "df_NEP=df_diagnostic_record[(df_diagnostic_record['diagnostic_content'].str.contains('肾'))&\n",
    "                           (~ df_diagnostic_record['diagnostic_content'].str.contains('肾结石'))]"
   ]
  },
  {
   "cell_type": "code",
   "execution_count": 174,
   "metadata": {},
   "outputs": [],
   "source": [
    "df_basic_disease=pd.concat([df_EH,df_DM],axis=0)\n",
    "df_basic_disease=pd.concat([df_basic_disease,df_bomd],axis=0)\n",
    "df_basic_disease=pd.concat([df_basic_disease,df_HCA],axis=0)\n",
    "df_basic_disease=pd.concat([df_basic_disease,df_NEP],axis=0)"
   ]
  },
  {
   "cell_type": "code",
   "execution_count": 175,
   "metadata": {},
   "outputs": [],
   "source": [
    "df_VPA_history['基础疾病']=df_VPA_history['patient_id'].apply(lambda x: 1 if x in df_basic_disease.patient_id.unique() else 0)"
   ]
  },
  {
   "cell_type": "code",
   "execution_count": 176,
   "metadata": {},
   "outputs": [
    {
     "name": "stdout",
     "output_type": "stream",
     "text": [
      "(3175, 23)\n",
      "213\n",
      "236\n"
     ]
    }
   ],
   "source": [
    "print(df_VPA_history.shape)\n",
    "print(df_VPA_history['patient_id'].nunique())\n",
    "print(df_VPA_history['case_no'].nunique())"
   ]
  },
  {
   "cell_type": "code",
   "execution_count": 177,
   "metadata": {},
   "outputs": [
    {
     "data": {
      "text/html": [
       "<div>\n",
       "<style scoped>\n",
       "    .dataframe tbody tr th:only-of-type {\n",
       "        vertical-align: middle;\n",
       "    }\n",
       "\n",
       "    .dataframe tbody tr th {\n",
       "        vertical-align: top;\n",
       "    }\n",
       "\n",
       "    .dataframe thead th {\n",
       "        text-align: right;\n",
       "    }\n",
       "</style>\n",
       "<table border=\"1\" class=\"dataframe\">\n",
       "  <thead>\n",
       "    <tr style=\"text-align: right;\">\n",
       "      <th></th>\n",
       "      <th>patient_id</th>\n",
       "      <th>case_no</th>\n",
       "      <th>drug_name</th>\n",
       "      <th>amount</th>\n",
       "      <th>drug_spec</th>\n",
       "      <th>dosage</th>\n",
       "      <th>frequency</th>\n",
       "      <th>start_datetime</th>\n",
       "      <th>end_datetime</th>\n",
       "      <th>statusdesc</th>\n",
       "      <th>...</th>\n",
       "      <th>long_d_order</th>\n",
       "      <th>分裂日期</th>\n",
       "      <th>起始标签</th>\n",
       "      <th>时间标签</th>\n",
       "      <th>gender</th>\n",
       "      <th>age</th>\n",
       "      <th>身高</th>\n",
       "      <th>体重</th>\n",
       "      <th>BMI</th>\n",
       "      <th>基础疾病</th>\n",
       "    </tr>\n",
       "  </thead>\n",
       "  <tbody>\n",
       "    <tr>\n",
       "      <th>0</th>\n",
       "      <td>6873870</td>\n",
       "      <td>10001302</td>\n",
       "      <td>丙戊酸钠缓释片(德巴金)[0.5g*30片]</td>\n",
       "      <td>1</td>\n",
       "      <td>0.5g*30片</td>\n",
       "      <td>0.5</td>\n",
       "      <td>1</td>\n",
       "      <td>2020-08-15 19:51:46</td>\n",
       "      <td>2020-08-24 10:37:37</td>\n",
       "      <td>停止</td>\n",
       "      <td>...</td>\n",
       "      <td>1</td>\n",
       "      <td>2020-08-15</td>\n",
       "      <td>起始</td>\n",
       "      <td>1</td>\n",
       "      <td>0</td>\n",
       "      <td>28</td>\n",
       "      <td>153.0</td>\n",
       "      <td>52.0</td>\n",
       "      <td>22.21</td>\n",
       "      <td>0</td>\n",
       "    </tr>\n",
       "    <tr>\n",
       "      <th>1</th>\n",
       "      <td>6873870</td>\n",
       "      <td>10001302</td>\n",
       "      <td>丙戊酸钠缓释片(德巴金)[0.5g*30片]</td>\n",
       "      <td>1</td>\n",
       "      <td>0.5g*30片</td>\n",
       "      <td>0.5</td>\n",
       "      <td>1</td>\n",
       "      <td>2020-08-15 19:51:46</td>\n",
       "      <td>2020-08-24 10:37:37</td>\n",
       "      <td>停止</td>\n",
       "      <td>...</td>\n",
       "      <td>1</td>\n",
       "      <td>2020-08-16</td>\n",
       "      <td>期间</td>\n",
       "      <td>1</td>\n",
       "      <td>0</td>\n",
       "      <td>28</td>\n",
       "      <td>153.0</td>\n",
       "      <td>52.0</td>\n",
       "      <td>22.21</td>\n",
       "      <td>0</td>\n",
       "    </tr>\n",
       "    <tr>\n",
       "      <th>2</th>\n",
       "      <td>6873870</td>\n",
       "      <td>10001302</td>\n",
       "      <td>丙戊酸钠缓释片(德巴金)[0.5g*30片]</td>\n",
       "      <td>1</td>\n",
       "      <td>0.5g*30片</td>\n",
       "      <td>0.5</td>\n",
       "      <td>1</td>\n",
       "      <td>2020-08-15 19:51:46</td>\n",
       "      <td>2020-08-24 10:37:37</td>\n",
       "      <td>停止</td>\n",
       "      <td>...</td>\n",
       "      <td>1</td>\n",
       "      <td>2020-08-17</td>\n",
       "      <td>期间</td>\n",
       "      <td>1</td>\n",
       "      <td>0</td>\n",
       "      <td>28</td>\n",
       "      <td>153.0</td>\n",
       "      <td>52.0</td>\n",
       "      <td>22.21</td>\n",
       "      <td>0</td>\n",
       "    </tr>\n",
       "    <tr>\n",
       "      <th>3</th>\n",
       "      <td>6873870</td>\n",
       "      <td>10001302</td>\n",
       "      <td>丙戊酸钠缓释片(德巴金)[0.5g*30片]</td>\n",
       "      <td>1</td>\n",
       "      <td>0.5g*30片</td>\n",
       "      <td>0.5</td>\n",
       "      <td>1</td>\n",
       "      <td>2020-08-15 19:51:46</td>\n",
       "      <td>2020-08-24 10:37:37</td>\n",
       "      <td>停止</td>\n",
       "      <td>...</td>\n",
       "      <td>1</td>\n",
       "      <td>2020-08-18</td>\n",
       "      <td>期间</td>\n",
       "      <td>1</td>\n",
       "      <td>0</td>\n",
       "      <td>28</td>\n",
       "      <td>153.0</td>\n",
       "      <td>52.0</td>\n",
       "      <td>22.21</td>\n",
       "      <td>0</td>\n",
       "    </tr>\n",
       "    <tr>\n",
       "      <th>4</th>\n",
       "      <td>6873870</td>\n",
       "      <td>10001302</td>\n",
       "      <td>丙戊酸钠缓释片(德巴金)[0.5g*30片]</td>\n",
       "      <td>1</td>\n",
       "      <td>0.5g*30片</td>\n",
       "      <td>0.5</td>\n",
       "      <td>1</td>\n",
       "      <td>2020-08-15 19:51:46</td>\n",
       "      <td>2020-08-24 10:37:37</td>\n",
       "      <td>停止</td>\n",
       "      <td>...</td>\n",
       "      <td>1</td>\n",
       "      <td>2020-08-19</td>\n",
       "      <td>期间</td>\n",
       "      <td>1</td>\n",
       "      <td>0</td>\n",
       "      <td>28</td>\n",
       "      <td>153.0</td>\n",
       "      <td>52.0</td>\n",
       "      <td>22.21</td>\n",
       "      <td>0</td>\n",
       "    </tr>\n",
       "  </tbody>\n",
       "</table>\n",
       "<p>5 rows × 23 columns</p>\n",
       "</div>"
      ],
      "text/plain": [
       "  patient_id   case_no               drug_name amount drug_spec dosage  \\\n",
       "0    6873870  10001302  丙戊酸钠缓释片(德巴金)[0.5g*30片]      1  0.5g*30片    0.5   \n",
       "1    6873870  10001302  丙戊酸钠缓释片(德巴金)[0.5g*30片]      1  0.5g*30片    0.5   \n",
       "2    6873870  10001302  丙戊酸钠缓释片(德巴金)[0.5g*30片]      1  0.5g*30片    0.5   \n",
       "3    6873870  10001302  丙戊酸钠缓释片(德巴金)[0.5g*30片]      1  0.5g*30片    0.5   \n",
       "4    6873870  10001302  丙戊酸钠缓释片(德巴金)[0.5g*30片]      1  0.5g*30片    0.5   \n",
       "\n",
       "  frequency      start_datetime        end_datetime statusdesc  ...  \\\n",
       "0         1 2020-08-15 19:51:46 2020-08-24 10:37:37         停止  ...   \n",
       "1         1 2020-08-15 19:51:46 2020-08-24 10:37:37         停止  ...   \n",
       "2         1 2020-08-15 19:51:46 2020-08-24 10:37:37         停止  ...   \n",
       "3         1 2020-08-15 19:51:46 2020-08-24 10:37:37         停止  ...   \n",
       "4         1 2020-08-15 19:51:46 2020-08-24 10:37:37         停止  ...   \n",
       "\n",
       "   long_d_order        分裂日期 起始标签 时间标签 gender age     身高    体重    BMI  基础疾病  \n",
       "0             1  2020-08-15   起始    1      0  28  153.0  52.0  22.21     0  \n",
       "1             1  2020-08-16   期间    1      0  28  153.0  52.0  22.21     0  \n",
       "2             1  2020-08-17   期间    1      0  28  153.0  52.0  22.21     0  \n",
       "3             1  2020-08-18   期间    1      0  28  153.0  52.0  22.21     0  \n",
       "4             1  2020-08-19   期间    1      0  28  153.0  52.0  22.21     0  \n",
       "\n",
       "[5 rows x 23 columns]"
      ]
     },
     "execution_count": 177,
     "metadata": {},
     "output_type": "execute_result"
    }
   ],
   "source": [
    "df_VPA_history.head()"
   ]
  },
  {
   "cell_type": "code",
   "execution_count": 178,
   "metadata": {},
   "outputs": [],
   "source": [
    "# 保存纳入标准数据\n",
    "df_VPA_history.to_excel(project_path+'/data/processed_data/df_4.3_并入基础疾病.xlsx')"
   ]
  },
  {
   "cell_type": "markdown",
   "metadata": {},
   "source": [
    "# 并入出入院时间"
   ]
  },
  {
   "cell_type": "code",
   "execution_count": 179,
   "metadata": {},
   "outputs": [],
   "source": [
    "df_inp_record_simple=df_inp_record[['case_no','adm_date','dis_date']]"
   ]
  },
  {
   "cell_type": "code",
   "execution_count": 180,
   "metadata": {},
   "outputs": [],
   "source": [
    "# 并入出入院时间\n",
    "df_VPA_inp_time=pd.merge(df_VPA_history,df_inp_record_simple,on='case_no',how='left')"
   ]
  },
  {
   "cell_type": "code",
   "execution_count": 181,
   "metadata": {},
   "outputs": [
    {
     "name": "stdout",
     "output_type": "stream",
     "text": [
      "(3175, 25)\n",
      "213\n",
      "236\n"
     ]
    }
   ],
   "source": [
    "print(df_VPA_inp_time.shape)\n",
    "print(df_VPA_inp_time['patient_id'].nunique())\n",
    "print(df_VPA_inp_time['case_no'].nunique())"
   ]
  },
  {
   "cell_type": "markdown",
   "metadata": {},
   "source": [
    "## 补充住院时间"
   ]
  },
  {
   "cell_type": "code",
   "execution_count": 182,
   "metadata": {},
   "outputs": [],
   "source": [
    "# 补充住院时间\n",
    "aaa=df_VPA_inp_time[df_VPA_inp_time['adm_date'].isnull()]\n",
    "bbb=df_VPA_inp_time[df_VPA_inp_time['adm_date'].notnull()]\n",
    "aaa['adm_date']=aaa['start_datetime']\n",
    "df_VPA_inp_time=pd.concat([aaa,bbb],axis=0)\n",
    "df_VPA_inp_time=df_VPA_inp_time.sort_values(by=['patient_id','case_no','分裂日期'])\n",
    "df_VPA_inp_time=df_VPA_inp_time.reset_index(drop=True)"
   ]
  },
  {
   "cell_type": "code",
   "execution_count": 183,
   "metadata": {},
   "outputs": [],
   "source": [
    "# 补充出院时间\n",
    "aaa=df_VPA_inp_time[df_VPA_inp_time['dis_date'].isnull()]\n",
    "bbb=df_VPA_inp_time[df_VPA_inp_time['dis_date'].notnull()]\n",
    "aaa['dis_date']=aaa['end_datetime']\n",
    "df_VPA_inp_time=pd.concat([aaa,bbb],axis=0)\n",
    "df_VPA_inp_time=df_VPA_inp_time.sort_values(by=['patient_id','case_no','分裂日期'])\n",
    "df_VPA_inp_time=df_VPA_inp_time.reset_index(drop=True)"
   ]
  },
  {
   "cell_type": "code",
   "execution_count": 184,
   "metadata": {},
   "outputs": [],
   "source": [
    "df_VPA_inp_time.to_excel(project_path+'/data/processed_data/df_5.1_补充住院时间.xlsx')"
   ]
  },
  {
   "cell_type": "markdown",
   "metadata": {},
   "source": [
    "## 计算住院时长"
   ]
  },
  {
   "cell_type": "code",
   "execution_count": 185,
   "metadata": {},
   "outputs": [],
   "source": [
    "# 计算住院时长\n",
    "df_VPA_inp_time['住院时长']=(pd.to_datetime(df_VPA_inp_time['dis_date']) - pd.to_datetime(df_VPA_inp_time['adm_date']))\n",
    "df_VPA_inp_time['住院时长']=df_VPA_inp_time['住院时长'].apply(lambda x:x.days+1)"
   ]
  },
  {
   "cell_type": "code",
   "execution_count": 186,
   "metadata": {},
   "outputs": [
    {
     "name": "stdout",
     "output_type": "stream",
     "text": [
      "(3175, 26)\n",
      "213\n",
      "236\n"
     ]
    }
   ],
   "source": [
    "print(df_VPA_inp_time.shape)\n",
    "print(df_VPA_inp_time['patient_id'].nunique())\n",
    "print(df_VPA_inp_time['case_no'].nunique())"
   ]
  },
  {
   "cell_type": "code",
   "execution_count": 187,
   "metadata": {},
   "outputs": [],
   "source": [
    "df_VPA_inp_time.to_excel(project_path+'/data/processed_data/df_5.2_计算住院时长.xlsx')"
   ]
  },
  {
   "cell_type": "markdown",
   "metadata": {},
   "source": [
    "# 并入安全性指标"
   ]
  },
  {
   "cell_type": "markdown",
   "metadata": {},
   "source": [
    "## 提取安全性指标"
   ]
  },
  {
   "cell_type": "code",
   "execution_count": 188,
   "metadata": {},
   "outputs": [],
   "source": [
    "# 肝功能异常：丙氨酸氨基转移酶(0-40U/L)--24、天门冬氨酸氨基转移酶(0-35U/L)、转氨酶比值(1.0-1.5)、总蛋白(65.0-85.0)、白蛋白(40.0-55.0)、\n",
    "        # 球蛋白(20.0-40.0)、白/球比值(1.2-2.4)（有一个指标不正常就算肝功能异常）\n",
    "# 皮疹：复方酮氯乳膏、莫米松乳膏（在治疗后使用，算为不良反应）\n",
    "# 恶心：多潘立酮、甲氧氯普胺（在治疗后使用，算为不良反应）\n",
    "# 血小板减少：血小板计数<100x109（在治疗后）"
   ]
  },
  {
   "cell_type": "markdown",
   "metadata": {},
   "source": [
    "### 肝功能异常"
   ]
  },
  {
   "cell_type": "markdown",
   "metadata": {},
   "source": [
    "#### 丙氨酸氨基转移酶ALT"
   ]
  },
  {
   "cell_type": "code",
   "execution_count": 189,
   "metadata": {},
   "outputs": [],
   "source": [
    "df_test_ALT=df_test[df_test['project_name'].str.contains('丙氨酸氨基转移酶')]\n",
    "\n",
    "# 患者限定\n",
    "df_test_ALT=df_test_ALT[df_test_ALT.case_no.isin(df_VPA_inp_time.case_no.unique())]\n",
    "\n",
    "# 指标0-1转换\n",
    "df_test_ALT['肝功_label']=df_test_ALT['test_result'].apply(lambda x: 0 if float(x)<=40 else 1)"
   ]
  },
  {
   "cell_type": "code",
   "execution_count": 190,
   "metadata": {},
   "outputs": [
    {
     "data": {
      "text/html": [
       "<div>\n",
       "<style scoped>\n",
       "    .dataframe tbody tr th:only-of-type {\n",
       "        vertical-align: middle;\n",
       "    }\n",
       "\n",
       "    .dataframe tbody tr th {\n",
       "        vertical-align: top;\n",
       "    }\n",
       "\n",
       "    .dataframe thead th {\n",
       "        text-align: right;\n",
       "    }\n",
       "</style>\n",
       "<table border=\"1\" class=\"dataframe\">\n",
       "  <thead>\n",
       "    <tr style=\"text-align: right;\">\n",
       "      <th></th>\n",
       "      <th>test_record_id</th>\n",
       "      <th>patient_id</th>\n",
       "      <th>case_no</th>\n",
       "      <th>test_date</th>\n",
       "      <th>clinical_diagnosis</th>\n",
       "      <th>sample_type</th>\n",
       "      <th>sample_time</th>\n",
       "      <th>project_name</th>\n",
       "      <th>test_result</th>\n",
       "      <th>result_unit</th>\n",
       "      <th>is_normal</th>\n",
       "      <th>refer_scope</th>\n",
       "      <th>synonym</th>\n",
       "      <th>肝功_label</th>\n",
       "    </tr>\n",
       "  </thead>\n",
       "  <tbody>\n",
       "    <tr>\n",
       "      <th>2345</th>\n",
       "      <td>800001934594||B005||1</td>\n",
       "      <td>365567</td>\n",
       "      <td>4028318</td>\n",
       "      <td>2018-07-18 13:31:00</td>\n",
       "      <td>双相情感障碍，目前为混合性发作</td>\n",
       "      <td>血清</td>\n",
       "      <td>2018-07-18 07:25:07</td>\n",
       "      <td>丙氨酸氨基转移酶</td>\n",
       "      <td>17</td>\n",
       "      <td>U/L</td>\n",
       "      <td>N</td>\n",
       "      <td>9-50</td>\n",
       "      <td>ALT</td>\n",
       "      <td>0</td>\n",
       "    </tr>\n",
       "    <tr>\n",
       "      <th>2532</th>\n",
       "      <td>800001953715||B005||1</td>\n",
       "      <td>1819998</td>\n",
       "      <td>4045163</td>\n",
       "      <td>2018-07-20 11:02:00</td>\n",
       "      <td>双相情感障碍，目前为混合性发作</td>\n",
       "      <td>血清</td>\n",
       "      <td>2018-07-20 07:40:33</td>\n",
       "      <td>丙氨酸氨基转移酶</td>\n",
       "      <td>42</td>\n",
       "      <td>U/L</td>\n",
       "      <td>H</td>\n",
       "      <td>7-40</td>\n",
       "      <td>ALT</td>\n",
       "      <td>1</td>\n",
       "    </tr>\n",
       "    <tr>\n",
       "      <th>2665</th>\n",
       "      <td>800001979565||B005||1</td>\n",
       "      <td>7412218</td>\n",
       "      <td>4069083</td>\n",
       "      <td>2018-07-24 11:48:00</td>\n",
       "      <td>双相情感障碍，目前为伴有精神病性症状的躁狂发作</td>\n",
       "      <td>血清</td>\n",
       "      <td>2018-07-24 07:05:36</td>\n",
       "      <td>丙氨酸氨基转移酶</td>\n",
       "      <td>24</td>\n",
       "      <td>U/L</td>\n",
       "      <td>N</td>\n",
       "      <td>7-40</td>\n",
       "      <td>ALT</td>\n",
       "      <td>0</td>\n",
       "    </tr>\n",
       "    <tr>\n",
       "      <th>2794</th>\n",
       "      <td>800002012932||B005||1</td>\n",
       "      <td>7459164</td>\n",
       "      <td>4103620</td>\n",
       "      <td>2018-07-27 11:22:00</td>\n",
       "      <td>双相情感障碍，目前为混合性发作</td>\n",
       "      <td>血清</td>\n",
       "      <td>2018-07-27 07:40:37</td>\n",
       "      <td>丙氨酸氨基转移酶</td>\n",
       "      <td>9</td>\n",
       "      <td>U/L</td>\n",
       "      <td>N</td>\n",
       "      <td>9-50</td>\n",
       "      <td>ALT</td>\n",
       "      <td>0</td>\n",
       "    </tr>\n",
       "    <tr>\n",
       "      <th>2901</th>\n",
       "      <td>800002023150||B005||1</td>\n",
       "      <td>7461862</td>\n",
       "      <td>4112018</td>\n",
       "      <td>2018-07-28 11:40:00</td>\n",
       "      <td>双相情感障碍目前为不伴精神病的重度抑郁发作</td>\n",
       "      <td>血清</td>\n",
       "      <td>2018-07-28 07:38:51</td>\n",
       "      <td>丙氨酸氨基转移酶</td>\n",
       "      <td>7</td>\n",
       "      <td>U/L</td>\n",
       "      <td>L</td>\n",
       "      <td>9-50</td>\n",
       "      <td>ALT</td>\n",
       "      <td>0</td>\n",
       "    </tr>\n",
       "  </tbody>\n",
       "</table>\n",
       "</div>"
      ],
      "text/plain": [
       "             test_record_id patient_id  case_no           test_date  \\\n",
       "2345  800001934594||B005||1     365567  4028318 2018-07-18 13:31:00   \n",
       "2532  800001953715||B005||1    1819998  4045163 2018-07-20 11:02:00   \n",
       "2665  800001979565||B005||1    7412218  4069083 2018-07-24 11:48:00   \n",
       "2794  800002012932||B005||1    7459164  4103620 2018-07-27 11:22:00   \n",
       "2901  800002023150||B005||1    7461862  4112018 2018-07-28 11:40:00   \n",
       "\n",
       "           clinical_diagnosis sample_type         sample_time project_name  \\\n",
       "2345          双相情感障碍，目前为混合性发作          血清 2018-07-18 07:25:07     丙氨酸氨基转移酶   \n",
       "2532          双相情感障碍，目前为混合性发作          血清 2018-07-20 07:40:33     丙氨酸氨基转移酶   \n",
       "2665  双相情感障碍，目前为伴有精神病性症状的躁狂发作          血清 2018-07-24 07:05:36     丙氨酸氨基转移酶   \n",
       "2794          双相情感障碍，目前为混合性发作          血清 2018-07-27 07:40:37     丙氨酸氨基转移酶   \n",
       "2901    双相情感障碍目前为不伴精神病的重度抑郁发作          血清 2018-07-28 07:38:51     丙氨酸氨基转移酶   \n",
       "\n",
       "     test_result result_unit is_normal refer_scope synonym  肝功_label  \n",
       "2345          17         U/L         N        9-50     ALT         0  \n",
       "2532          42         U/L         H        7-40     ALT         1  \n",
       "2665          24         U/L         N        7-40     ALT         0  \n",
       "2794           9         U/L         N        9-50     ALT         0  \n",
       "2901           7         U/L         L        9-50     ALT         0  "
      ]
     },
     "execution_count": 190,
     "metadata": {},
     "output_type": "execute_result"
    }
   ],
   "source": [
    "df_test_ALT.head()"
   ]
  },
  {
   "cell_type": "markdown",
   "metadata": {},
   "source": [
    "#### 天门冬氨酸氨基转移酶AST"
   ]
  },
  {
   "cell_type": "code",
   "execution_count": 191,
   "metadata": {},
   "outputs": [],
   "source": [
    "df_test_AST=df_test[df_test['project_name'].str.contains('天门冬氨酸氨基转移酶')]\n",
    "\n",
    "# 患者限定\n",
    "df_test_AST=df_test_AST[df_test_AST.case_no.isin(df_VPA_inp_time.case_no.unique())]\n",
    "\n",
    "# 指标0-1转换\n",
    "df_test_AST['肝功_label']=df_test_AST['test_result'].apply(lambda x: 0 if float(x)<=35 else 1)"
   ]
  },
  {
   "cell_type": "code",
   "execution_count": 192,
   "metadata": {},
   "outputs": [
    {
     "data": {
      "text/html": [
       "<div>\n",
       "<style scoped>\n",
       "    .dataframe tbody tr th:only-of-type {\n",
       "        vertical-align: middle;\n",
       "    }\n",
       "\n",
       "    .dataframe tbody tr th {\n",
       "        vertical-align: top;\n",
       "    }\n",
       "\n",
       "    .dataframe thead th {\n",
       "        text-align: right;\n",
       "    }\n",
       "</style>\n",
       "<table border=\"1\" class=\"dataframe\">\n",
       "  <thead>\n",
       "    <tr style=\"text-align: right;\">\n",
       "      <th></th>\n",
       "      <th>test_record_id</th>\n",
       "      <th>patient_id</th>\n",
       "      <th>case_no</th>\n",
       "      <th>test_date</th>\n",
       "      <th>clinical_diagnosis</th>\n",
       "      <th>sample_type</th>\n",
       "      <th>sample_time</th>\n",
       "      <th>project_name</th>\n",
       "      <th>test_result</th>\n",
       "      <th>result_unit</th>\n",
       "      <th>is_normal</th>\n",
       "      <th>refer_scope</th>\n",
       "      <th>synonym</th>\n",
       "      <th>肝功_label</th>\n",
       "    </tr>\n",
       "  </thead>\n",
       "  <tbody>\n",
       "    <tr>\n",
       "      <th>2340</th>\n",
       "      <td>800001934594||B002||1</td>\n",
       "      <td>365567</td>\n",
       "      <td>4028318</td>\n",
       "      <td>2018-07-18 13:31:00</td>\n",
       "      <td>双相情感障碍，目前为混合性发作</td>\n",
       "      <td>血清</td>\n",
       "      <td>2018-07-18 07:25:07</td>\n",
       "      <td>天门冬氨酸氨基转移酶</td>\n",
       "      <td>18</td>\n",
       "      <td>U/L</td>\n",
       "      <td>N</td>\n",
       "      <td>15-40</td>\n",
       "      <td>AST</td>\n",
       "      <td>0</td>\n",
       "    </tr>\n",
       "    <tr>\n",
       "      <th>2346</th>\n",
       "      <td>800001934594||B005||1</td>\n",
       "      <td>365567</td>\n",
       "      <td>4028318</td>\n",
       "      <td>2018-07-18 13:31:00</td>\n",
       "      <td>双相情感障碍，目前为混合性发作</td>\n",
       "      <td>血清</td>\n",
       "      <td>2018-07-18 07:25:07</td>\n",
       "      <td>天门冬氨酸氨基转移酶</td>\n",
       "      <td>18</td>\n",
       "      <td>U/L</td>\n",
       "      <td>N</td>\n",
       "      <td>15-40</td>\n",
       "      <td>AST</td>\n",
       "      <td>0</td>\n",
       "    </tr>\n",
       "    <tr>\n",
       "      <th>2527</th>\n",
       "      <td>800001953715||B002||1</td>\n",
       "      <td>1819998</td>\n",
       "      <td>4045163</td>\n",
       "      <td>2018-07-20 11:02:00</td>\n",
       "      <td>双相情感障碍，目前为混合性发作</td>\n",
       "      <td>血清</td>\n",
       "      <td>2018-07-20 07:40:33</td>\n",
       "      <td>天门冬氨酸氨基转移酶</td>\n",
       "      <td>30</td>\n",
       "      <td>U/L</td>\n",
       "      <td>N</td>\n",
       "      <td>13-35</td>\n",
       "      <td>AST</td>\n",
       "      <td>0</td>\n",
       "    </tr>\n",
       "    <tr>\n",
       "      <th>2533</th>\n",
       "      <td>800001953715||B005||1</td>\n",
       "      <td>1819998</td>\n",
       "      <td>4045163</td>\n",
       "      <td>2018-07-20 11:02:00</td>\n",
       "      <td>双相情感障碍，目前为混合性发作</td>\n",
       "      <td>血清</td>\n",
       "      <td>2018-07-20 07:40:33</td>\n",
       "      <td>天门冬氨酸氨基转移酶</td>\n",
       "      <td>30</td>\n",
       "      <td>U/L</td>\n",
       "      <td>N</td>\n",
       "      <td>13-35</td>\n",
       "      <td>AST</td>\n",
       "      <td>0</td>\n",
       "    </tr>\n",
       "    <tr>\n",
       "      <th>2660</th>\n",
       "      <td>800001979565||B002||1</td>\n",
       "      <td>7412218</td>\n",
       "      <td>4069083</td>\n",
       "      <td>2018-07-24 11:48:00</td>\n",
       "      <td>双相情感障碍，目前为伴有精神病性症状的躁狂发作</td>\n",
       "      <td>血清</td>\n",
       "      <td>2018-07-24 07:05:36</td>\n",
       "      <td>天门冬氨酸氨基转移酶</td>\n",
       "      <td>32</td>\n",
       "      <td>U/L</td>\n",
       "      <td>N</td>\n",
       "      <td>13-35</td>\n",
       "      <td>AST</td>\n",
       "      <td>0</td>\n",
       "    </tr>\n",
       "  </tbody>\n",
       "</table>\n",
       "</div>"
      ],
      "text/plain": [
       "             test_record_id patient_id  case_no           test_date  \\\n",
       "2340  800001934594||B002||1     365567  4028318 2018-07-18 13:31:00   \n",
       "2346  800001934594||B005||1     365567  4028318 2018-07-18 13:31:00   \n",
       "2527  800001953715||B002||1    1819998  4045163 2018-07-20 11:02:00   \n",
       "2533  800001953715||B005||1    1819998  4045163 2018-07-20 11:02:00   \n",
       "2660  800001979565||B002||1    7412218  4069083 2018-07-24 11:48:00   \n",
       "\n",
       "           clinical_diagnosis sample_type         sample_time project_name  \\\n",
       "2340          双相情感障碍，目前为混合性发作          血清 2018-07-18 07:25:07   天门冬氨酸氨基转移酶   \n",
       "2346          双相情感障碍，目前为混合性发作          血清 2018-07-18 07:25:07   天门冬氨酸氨基转移酶   \n",
       "2527          双相情感障碍，目前为混合性发作          血清 2018-07-20 07:40:33   天门冬氨酸氨基转移酶   \n",
       "2533          双相情感障碍，目前为混合性发作          血清 2018-07-20 07:40:33   天门冬氨酸氨基转移酶   \n",
       "2660  双相情感障碍，目前为伴有精神病性症状的躁狂发作          血清 2018-07-24 07:05:36   天门冬氨酸氨基转移酶   \n",
       "\n",
       "     test_result result_unit is_normal refer_scope synonym  肝功_label  \n",
       "2340          18         U/L         N       15-40     AST         0  \n",
       "2346          18         U/L         N       15-40     AST         0  \n",
       "2527          30         U/L         N       13-35     AST         0  \n",
       "2533          30         U/L         N       13-35     AST         0  \n",
       "2660          32         U/L         N       13-35     AST         0  "
      ]
     },
     "execution_count": 192,
     "metadata": {},
     "output_type": "execute_result"
    }
   ],
   "source": [
    "df_test_AST.head()"
   ]
  },
  {
   "cell_type": "markdown",
   "metadata": {},
   "source": [
    "#### 转氨酶比值"
   ]
  },
  {
   "cell_type": "code",
   "execution_count": 193,
   "metadata": {},
   "outputs": [],
   "source": [
    "df_test_zhuananmei=df_test[df_test['project_name'].str.contains('转氨酶比值')]\n",
    "# 患者限定\n",
    "df_test_zhuananmei=df_test_zhuananmei[df_test_zhuananmei.case_no.isin(df_VPA_inp_time.case_no.unique())]\n",
    "# 指标0-1转换\n",
    "df_test_zhuananmei['肝功_label']=df_test_zhuananmei['test_result'].apply(lambda x: 0 if 1.0<=float(x)<=1.5 else 1)"
   ]
  },
  {
   "cell_type": "code",
   "execution_count": 194,
   "metadata": {},
   "outputs": [
    {
     "data": {
      "text/html": [
       "<div>\n",
       "<style scoped>\n",
       "    .dataframe tbody tr th:only-of-type {\n",
       "        vertical-align: middle;\n",
       "    }\n",
       "\n",
       "    .dataframe tbody tr th {\n",
       "        vertical-align: top;\n",
       "    }\n",
       "\n",
       "    .dataframe thead th {\n",
       "        text-align: right;\n",
       "    }\n",
       "</style>\n",
       "<table border=\"1\" class=\"dataframe\">\n",
       "  <thead>\n",
       "    <tr style=\"text-align: right;\">\n",
       "      <th></th>\n",
       "      <th>test_record_id</th>\n",
       "      <th>patient_id</th>\n",
       "      <th>case_no</th>\n",
       "      <th>test_date</th>\n",
       "      <th>clinical_diagnosis</th>\n",
       "      <th>sample_type</th>\n",
       "      <th>sample_time</th>\n",
       "      <th>project_name</th>\n",
       "      <th>test_result</th>\n",
       "      <th>result_unit</th>\n",
       "      <th>is_normal</th>\n",
       "      <th>refer_scope</th>\n",
       "      <th>synonym</th>\n",
       "      <th>肝功_label</th>\n",
       "    </tr>\n",
       "  </thead>\n",
       "  <tbody>\n",
       "    <tr>\n",
       "      <th>2347</th>\n",
       "      <td>800001934594||B005||1</td>\n",
       "      <td>365567</td>\n",
       "      <td>4028318</td>\n",
       "      <td>2018-07-18 13:31:00</td>\n",
       "      <td>双相情感障碍，目前为混合性发作</td>\n",
       "      <td>血清</td>\n",
       "      <td>2018-07-18 07:25:07</td>\n",
       "      <td>转氨酶比值</td>\n",
       "      <td>1.1</td>\n",
       "      <td>None</td>\n",
       "      <td>N</td>\n",
       "      <td>1.0-1.5</td>\n",
       "      <td>AST/ALT</td>\n",
       "      <td>0</td>\n",
       "    </tr>\n",
       "    <tr>\n",
       "      <th>2534</th>\n",
       "      <td>800001953715||B005||1</td>\n",
       "      <td>1819998</td>\n",
       "      <td>4045163</td>\n",
       "      <td>2018-07-20 11:02:00</td>\n",
       "      <td>双相情感障碍，目前为混合性发作</td>\n",
       "      <td>血清</td>\n",
       "      <td>2018-07-20 07:40:33</td>\n",
       "      <td>转氨酶比值</td>\n",
       "      <td>0.7</td>\n",
       "      <td>None</td>\n",
       "      <td>L</td>\n",
       "      <td>1.0-1.5</td>\n",
       "      <td>AST/ALT</td>\n",
       "      <td>1</td>\n",
       "    </tr>\n",
       "    <tr>\n",
       "      <th>2667</th>\n",
       "      <td>800001979565||B005||1</td>\n",
       "      <td>7412218</td>\n",
       "      <td>4069083</td>\n",
       "      <td>2018-07-24 11:48:00</td>\n",
       "      <td>双相情感障碍，目前为伴有精神病性症状的躁狂发作</td>\n",
       "      <td>血清</td>\n",
       "      <td>2018-07-24 07:05:36</td>\n",
       "      <td>转氨酶比值</td>\n",
       "      <td>1.3</td>\n",
       "      <td>None</td>\n",
       "      <td>N</td>\n",
       "      <td>1.0-1.5</td>\n",
       "      <td>AST/ALT</td>\n",
       "      <td>0</td>\n",
       "    </tr>\n",
       "    <tr>\n",
       "      <th>2796</th>\n",
       "      <td>800002012932||B005||1</td>\n",
       "      <td>7459164</td>\n",
       "      <td>4103620</td>\n",
       "      <td>2018-07-27 11:22:00</td>\n",
       "      <td>双相情感障碍，目前为混合性发作</td>\n",
       "      <td>血清</td>\n",
       "      <td>2018-07-27 07:40:37</td>\n",
       "      <td>转氨酶比值</td>\n",
       "      <td>1.6</td>\n",
       "      <td>None</td>\n",
       "      <td>H</td>\n",
       "      <td>1.0-1.5</td>\n",
       "      <td>AST/ALT</td>\n",
       "      <td>1</td>\n",
       "    </tr>\n",
       "    <tr>\n",
       "      <th>2903</th>\n",
       "      <td>800002023150||B005||1</td>\n",
       "      <td>7461862</td>\n",
       "      <td>4112018</td>\n",
       "      <td>2018-07-28 11:40:00</td>\n",
       "      <td>双相情感障碍目前为不伴精神病的重度抑郁发作</td>\n",
       "      <td>血清</td>\n",
       "      <td>2018-07-28 07:38:51</td>\n",
       "      <td>转氨酶比值</td>\n",
       "      <td>1.4</td>\n",
       "      <td>None</td>\n",
       "      <td>N</td>\n",
       "      <td>1.0-1.5</td>\n",
       "      <td>AST/ALT</td>\n",
       "      <td>0</td>\n",
       "    </tr>\n",
       "  </tbody>\n",
       "</table>\n",
       "</div>"
      ],
      "text/plain": [
       "             test_record_id patient_id  case_no           test_date  \\\n",
       "2347  800001934594||B005||1     365567  4028318 2018-07-18 13:31:00   \n",
       "2534  800001953715||B005||1    1819998  4045163 2018-07-20 11:02:00   \n",
       "2667  800001979565||B005||1    7412218  4069083 2018-07-24 11:48:00   \n",
       "2796  800002012932||B005||1    7459164  4103620 2018-07-27 11:22:00   \n",
       "2903  800002023150||B005||1    7461862  4112018 2018-07-28 11:40:00   \n",
       "\n",
       "           clinical_diagnosis sample_type         sample_time project_name  \\\n",
       "2347          双相情感障碍，目前为混合性发作          血清 2018-07-18 07:25:07        转氨酶比值   \n",
       "2534          双相情感障碍，目前为混合性发作          血清 2018-07-20 07:40:33        转氨酶比值   \n",
       "2667  双相情感障碍，目前为伴有精神病性症状的躁狂发作          血清 2018-07-24 07:05:36        转氨酶比值   \n",
       "2796          双相情感障碍，目前为混合性发作          血清 2018-07-27 07:40:37        转氨酶比值   \n",
       "2903    双相情感障碍目前为不伴精神病的重度抑郁发作          血清 2018-07-28 07:38:51        转氨酶比值   \n",
       "\n",
       "     test_result result_unit is_normal refer_scope  synonym  肝功_label  \n",
       "2347         1.1        None         N     1.0-1.5  AST/ALT         0  \n",
       "2534         0.7        None         L     1.0-1.5  AST/ALT         1  \n",
       "2667         1.3        None         N     1.0-1.5  AST/ALT         0  \n",
       "2796         1.6        None         H     1.0-1.5  AST/ALT         1  \n",
       "2903         1.4        None         N     1.0-1.5  AST/ALT         0  "
      ]
     },
     "execution_count": 194,
     "metadata": {},
     "output_type": "execute_result"
    }
   ],
   "source": [
    "df_test_zhuananmei.head()"
   ]
  },
  {
   "cell_type": "markdown",
   "metadata": {},
   "source": [
    "#### 总蛋白TP"
   ]
  },
  {
   "cell_type": "code",
   "execution_count": 195,
   "metadata": {},
   "outputs": [],
   "source": [
    "df_test_TP=df_test[df_test['project_name']=='总蛋白']\n",
    "# 患者限定\n",
    "df_test_TP=df_test_TP[df_test_TP.case_no.isin(df_VPA_inp_time.case_no.unique())]\n",
    "# 指标0-1转换\n",
    "df_test_TP['肝功_label']=df_test_TP['test_result'].apply(lambda x: 0 if 65<=float(x)<=85 else 1)"
   ]
  },
  {
   "cell_type": "code",
   "execution_count": 196,
   "metadata": {},
   "outputs": [
    {
     "data": {
      "text/html": [
       "<div>\n",
       "<style scoped>\n",
       "    .dataframe tbody tr th:only-of-type {\n",
       "        vertical-align: middle;\n",
       "    }\n",
       "\n",
       "    .dataframe tbody tr th {\n",
       "        vertical-align: top;\n",
       "    }\n",
       "\n",
       "    .dataframe thead th {\n",
       "        text-align: right;\n",
       "    }\n",
       "</style>\n",
       "<table border=\"1\" class=\"dataframe\">\n",
       "  <thead>\n",
       "    <tr style=\"text-align: right;\">\n",
       "      <th></th>\n",
       "      <th>test_record_id</th>\n",
       "      <th>patient_id</th>\n",
       "      <th>case_no</th>\n",
       "      <th>test_date</th>\n",
       "      <th>clinical_diagnosis</th>\n",
       "      <th>sample_type</th>\n",
       "      <th>sample_time</th>\n",
       "      <th>project_name</th>\n",
       "      <th>test_result</th>\n",
       "      <th>result_unit</th>\n",
       "      <th>is_normal</th>\n",
       "      <th>refer_scope</th>\n",
       "      <th>synonym</th>\n",
       "      <th>肝功_label</th>\n",
       "    </tr>\n",
       "  </thead>\n",
       "  <tbody>\n",
       "    <tr>\n",
       "      <th>2348</th>\n",
       "      <td>800001934594||B005||1</td>\n",
       "      <td>365567</td>\n",
       "      <td>4028318</td>\n",
       "      <td>2018-07-18 13:31:00</td>\n",
       "      <td>双相情感障碍，目前为混合性发作</td>\n",
       "      <td>血清</td>\n",
       "      <td>2018-07-18 07:25:07</td>\n",
       "      <td>总蛋白</td>\n",
       "      <td>66.3</td>\n",
       "      <td>g/L</td>\n",
       "      <td>N</td>\n",
       "      <td>65.0-85.0</td>\n",
       "      <td>TP</td>\n",
       "      <td>0</td>\n",
       "    </tr>\n",
       "    <tr>\n",
       "      <th>2535</th>\n",
       "      <td>800001953715||B005||1</td>\n",
       "      <td>1819998</td>\n",
       "      <td>4045163</td>\n",
       "      <td>2018-07-20 11:02:00</td>\n",
       "      <td>双相情感障碍，目前为混合性发作</td>\n",
       "      <td>血清</td>\n",
       "      <td>2018-07-20 07:40:33</td>\n",
       "      <td>总蛋白</td>\n",
       "      <td>62.1</td>\n",
       "      <td>g/L</td>\n",
       "      <td>L</td>\n",
       "      <td>65.0-85.0</td>\n",
       "      <td>TP</td>\n",
       "      <td>1</td>\n",
       "    </tr>\n",
       "    <tr>\n",
       "      <th>2668</th>\n",
       "      <td>800001979565||B005||1</td>\n",
       "      <td>7412218</td>\n",
       "      <td>4069083</td>\n",
       "      <td>2018-07-24 11:48:00</td>\n",
       "      <td>双相情感障碍，目前为伴有精神病性症状的躁狂发作</td>\n",
       "      <td>血清</td>\n",
       "      <td>2018-07-24 07:05:36</td>\n",
       "      <td>总蛋白</td>\n",
       "      <td>76.2</td>\n",
       "      <td>g/L</td>\n",
       "      <td>N</td>\n",
       "      <td>65.0-85.0</td>\n",
       "      <td>TP</td>\n",
       "      <td>0</td>\n",
       "    </tr>\n",
       "    <tr>\n",
       "      <th>2797</th>\n",
       "      <td>800002012932||B005||1</td>\n",
       "      <td>7459164</td>\n",
       "      <td>4103620</td>\n",
       "      <td>2018-07-27 11:22:00</td>\n",
       "      <td>双相情感障碍，目前为混合性发作</td>\n",
       "      <td>血清</td>\n",
       "      <td>2018-07-27 07:40:37</td>\n",
       "      <td>总蛋白</td>\n",
       "      <td>78.9</td>\n",
       "      <td>g/L</td>\n",
       "      <td>N</td>\n",
       "      <td>65.0-85.0</td>\n",
       "      <td>TP</td>\n",
       "      <td>0</td>\n",
       "    </tr>\n",
       "    <tr>\n",
       "      <th>2904</th>\n",
       "      <td>800002023150||B005||1</td>\n",
       "      <td>7461862</td>\n",
       "      <td>4112018</td>\n",
       "      <td>2018-07-28 11:40:00</td>\n",
       "      <td>双相情感障碍目前为不伴精神病的重度抑郁发作</td>\n",
       "      <td>血清</td>\n",
       "      <td>2018-07-28 07:38:51</td>\n",
       "      <td>总蛋白</td>\n",
       "      <td>73.8</td>\n",
       "      <td>g/L</td>\n",
       "      <td>N</td>\n",
       "      <td>65.0-85.0</td>\n",
       "      <td>TP</td>\n",
       "      <td>0</td>\n",
       "    </tr>\n",
       "  </tbody>\n",
       "</table>\n",
       "</div>"
      ],
      "text/plain": [
       "             test_record_id patient_id  case_no           test_date  \\\n",
       "2348  800001934594||B005||1     365567  4028318 2018-07-18 13:31:00   \n",
       "2535  800001953715||B005||1    1819998  4045163 2018-07-20 11:02:00   \n",
       "2668  800001979565||B005||1    7412218  4069083 2018-07-24 11:48:00   \n",
       "2797  800002012932||B005||1    7459164  4103620 2018-07-27 11:22:00   \n",
       "2904  800002023150||B005||1    7461862  4112018 2018-07-28 11:40:00   \n",
       "\n",
       "           clinical_diagnosis sample_type         sample_time project_name  \\\n",
       "2348          双相情感障碍，目前为混合性发作          血清 2018-07-18 07:25:07          总蛋白   \n",
       "2535          双相情感障碍，目前为混合性发作          血清 2018-07-20 07:40:33          总蛋白   \n",
       "2668  双相情感障碍，目前为伴有精神病性症状的躁狂发作          血清 2018-07-24 07:05:36          总蛋白   \n",
       "2797          双相情感障碍，目前为混合性发作          血清 2018-07-27 07:40:37          总蛋白   \n",
       "2904    双相情感障碍目前为不伴精神病的重度抑郁发作          血清 2018-07-28 07:38:51          总蛋白   \n",
       "\n",
       "     test_result result_unit is_normal refer_scope synonym  肝功_label  \n",
       "2348        66.3         g/L         N   65.0-85.0      TP         0  \n",
       "2535        62.1         g/L         L   65.0-85.0      TP         1  \n",
       "2668        76.2         g/L         N   65.0-85.0      TP         0  \n",
       "2797        78.9         g/L         N   65.0-85.0      TP         0  \n",
       "2904        73.8         g/L         N   65.0-85.0      TP         0  "
      ]
     },
     "execution_count": 196,
     "metadata": {},
     "output_type": "execute_result"
    }
   ],
   "source": [
    "df_test_TP.head()"
   ]
  },
  {
   "cell_type": "markdown",
   "metadata": {},
   "source": [
    "#### 白蛋白ALB"
   ]
  },
  {
   "cell_type": "code",
   "execution_count": 197,
   "metadata": {},
   "outputs": [],
   "source": [
    "df_test_ALB=df_test[df_test['project_name']=='白蛋白']\n",
    "# 患者限定\n",
    "df_test_ALB=df_test_ALB[df_test_ALB.case_no.isin(df_VPA_inp_time.case_no.unique())]\n",
    "# 指标0-1转换\n",
    "df_test_ALB['肝功_label']=df_test_ALB['test_result'].apply(lambda x: 0 if 40<=float(x)<=55 else 1)"
   ]
  },
  {
   "cell_type": "code",
   "execution_count": 198,
   "metadata": {},
   "outputs": [
    {
     "data": {
      "text/html": [
       "<div>\n",
       "<style scoped>\n",
       "    .dataframe tbody tr th:only-of-type {\n",
       "        vertical-align: middle;\n",
       "    }\n",
       "\n",
       "    .dataframe tbody tr th {\n",
       "        vertical-align: top;\n",
       "    }\n",
       "\n",
       "    .dataframe thead th {\n",
       "        text-align: right;\n",
       "    }\n",
       "</style>\n",
       "<table border=\"1\" class=\"dataframe\">\n",
       "  <thead>\n",
       "    <tr style=\"text-align: right;\">\n",
       "      <th></th>\n",
       "      <th>test_record_id</th>\n",
       "      <th>patient_id</th>\n",
       "      <th>case_no</th>\n",
       "      <th>test_date</th>\n",
       "      <th>clinical_diagnosis</th>\n",
       "      <th>sample_type</th>\n",
       "      <th>sample_time</th>\n",
       "      <th>project_name</th>\n",
       "      <th>test_result</th>\n",
       "      <th>result_unit</th>\n",
       "      <th>is_normal</th>\n",
       "      <th>refer_scope</th>\n",
       "      <th>synonym</th>\n",
       "      <th>肝功_label</th>\n",
       "    </tr>\n",
       "  </thead>\n",
       "  <tbody>\n",
       "    <tr>\n",
       "      <th>2349</th>\n",
       "      <td>800001934594||B005||1</td>\n",
       "      <td>365567</td>\n",
       "      <td>4028318</td>\n",
       "      <td>2018-07-18 13:31:00</td>\n",
       "      <td>双相情感障碍，目前为混合性发作</td>\n",
       "      <td>血清</td>\n",
       "      <td>2018-07-18 07:25:07</td>\n",
       "      <td>白蛋白</td>\n",
       "      <td>41.4</td>\n",
       "      <td>g/L</td>\n",
       "      <td>N</td>\n",
       "      <td>40.0-55.0</td>\n",
       "      <td>ALB</td>\n",
       "      <td>0</td>\n",
       "    </tr>\n",
       "    <tr>\n",
       "      <th>2536</th>\n",
       "      <td>800001953715||B005||1</td>\n",
       "      <td>1819998</td>\n",
       "      <td>4045163</td>\n",
       "      <td>2018-07-20 11:02:00</td>\n",
       "      <td>双相情感障碍，目前为混合性发作</td>\n",
       "      <td>血清</td>\n",
       "      <td>2018-07-20 07:40:33</td>\n",
       "      <td>白蛋白</td>\n",
       "      <td>38.9</td>\n",
       "      <td>g/L</td>\n",
       "      <td>L</td>\n",
       "      <td>40.0-55.0</td>\n",
       "      <td>ALB</td>\n",
       "      <td>1</td>\n",
       "    </tr>\n",
       "    <tr>\n",
       "      <th>2669</th>\n",
       "      <td>800001979565||B005||1</td>\n",
       "      <td>7412218</td>\n",
       "      <td>4069083</td>\n",
       "      <td>2018-07-24 11:48:00</td>\n",
       "      <td>双相情感障碍，目前为伴有精神病性症状的躁狂发作</td>\n",
       "      <td>血清</td>\n",
       "      <td>2018-07-24 07:05:36</td>\n",
       "      <td>白蛋白</td>\n",
       "      <td>42.4</td>\n",
       "      <td>g/L</td>\n",
       "      <td>N</td>\n",
       "      <td>40.0-55.0</td>\n",
       "      <td>ALB</td>\n",
       "      <td>0</td>\n",
       "    </tr>\n",
       "    <tr>\n",
       "      <th>2798</th>\n",
       "      <td>800002012932||B005||1</td>\n",
       "      <td>7459164</td>\n",
       "      <td>4103620</td>\n",
       "      <td>2018-07-27 11:22:00</td>\n",
       "      <td>双相情感障碍，目前为混合性发作</td>\n",
       "      <td>血清</td>\n",
       "      <td>2018-07-27 07:40:37</td>\n",
       "      <td>白蛋白</td>\n",
       "      <td>47.6</td>\n",
       "      <td>g/L</td>\n",
       "      <td>N</td>\n",
       "      <td>40.0-55.0</td>\n",
       "      <td>ALB</td>\n",
       "      <td>0</td>\n",
       "    </tr>\n",
       "    <tr>\n",
       "      <th>2905</th>\n",
       "      <td>800002023150||B005||1</td>\n",
       "      <td>7461862</td>\n",
       "      <td>4112018</td>\n",
       "      <td>2018-07-28 11:40:00</td>\n",
       "      <td>双相情感障碍目前为不伴精神病的重度抑郁发作</td>\n",
       "      <td>血清</td>\n",
       "      <td>2018-07-28 07:38:51</td>\n",
       "      <td>白蛋白</td>\n",
       "      <td>45.6</td>\n",
       "      <td>g/L</td>\n",
       "      <td>N</td>\n",
       "      <td>40.0-55.0</td>\n",
       "      <td>ALB</td>\n",
       "      <td>0</td>\n",
       "    </tr>\n",
       "  </tbody>\n",
       "</table>\n",
       "</div>"
      ],
      "text/plain": [
       "             test_record_id patient_id  case_no           test_date  \\\n",
       "2349  800001934594||B005||1     365567  4028318 2018-07-18 13:31:00   \n",
       "2536  800001953715||B005||1    1819998  4045163 2018-07-20 11:02:00   \n",
       "2669  800001979565||B005||1    7412218  4069083 2018-07-24 11:48:00   \n",
       "2798  800002012932||B005||1    7459164  4103620 2018-07-27 11:22:00   \n",
       "2905  800002023150||B005||1    7461862  4112018 2018-07-28 11:40:00   \n",
       "\n",
       "           clinical_diagnosis sample_type         sample_time project_name  \\\n",
       "2349          双相情感障碍，目前为混合性发作          血清 2018-07-18 07:25:07          白蛋白   \n",
       "2536          双相情感障碍，目前为混合性发作          血清 2018-07-20 07:40:33          白蛋白   \n",
       "2669  双相情感障碍，目前为伴有精神病性症状的躁狂发作          血清 2018-07-24 07:05:36          白蛋白   \n",
       "2798          双相情感障碍，目前为混合性发作          血清 2018-07-27 07:40:37          白蛋白   \n",
       "2905    双相情感障碍目前为不伴精神病的重度抑郁发作          血清 2018-07-28 07:38:51          白蛋白   \n",
       "\n",
       "     test_result result_unit is_normal refer_scope synonym  肝功_label  \n",
       "2349        41.4         g/L         N   40.0-55.0     ALB         0  \n",
       "2536        38.9         g/L         L   40.0-55.0     ALB         1  \n",
       "2669        42.4         g/L         N   40.0-55.0     ALB         0  \n",
       "2798        47.6         g/L         N   40.0-55.0     ALB         0  \n",
       "2905        45.6         g/L         N   40.0-55.0     ALB         0  "
      ]
     },
     "execution_count": 198,
     "metadata": {},
     "output_type": "execute_result"
    }
   ],
   "source": [
    "df_test_ALB.head()"
   ]
  },
  {
   "cell_type": "markdown",
   "metadata": {},
   "source": [
    "#### 球蛋白lgG"
   ]
  },
  {
   "cell_type": "code",
   "execution_count": 199,
   "metadata": {},
   "outputs": [],
   "source": [
    "df_test_lgG=df_test[df_test['project_name']=='球蛋白']\n",
    "# 患者限定\n",
    "df_test_lgG=df_test_lgG[df_test_lgG.case_no.isin(df_VPA_inp_time.case_no.unique())]\n",
    "# 指标0-1转换\n",
    "df_test_lgG['肝功_label']=df_test_lgG['test_result'].apply(lambda x: 0 if 20<=float(x)<=40 else 1)"
   ]
  },
  {
   "cell_type": "code",
   "execution_count": 200,
   "metadata": {},
   "outputs": [
    {
     "data": {
      "text/html": [
       "<div>\n",
       "<style scoped>\n",
       "    .dataframe tbody tr th:only-of-type {\n",
       "        vertical-align: middle;\n",
       "    }\n",
       "\n",
       "    .dataframe tbody tr th {\n",
       "        vertical-align: top;\n",
       "    }\n",
       "\n",
       "    .dataframe thead th {\n",
       "        text-align: right;\n",
       "    }\n",
       "</style>\n",
       "<table border=\"1\" class=\"dataframe\">\n",
       "  <thead>\n",
       "    <tr style=\"text-align: right;\">\n",
       "      <th></th>\n",
       "      <th>test_record_id</th>\n",
       "      <th>patient_id</th>\n",
       "      <th>case_no</th>\n",
       "      <th>test_date</th>\n",
       "      <th>clinical_diagnosis</th>\n",
       "      <th>sample_type</th>\n",
       "      <th>sample_time</th>\n",
       "      <th>project_name</th>\n",
       "      <th>test_result</th>\n",
       "      <th>result_unit</th>\n",
       "      <th>is_normal</th>\n",
       "      <th>refer_scope</th>\n",
       "      <th>synonym</th>\n",
       "      <th>肝功_label</th>\n",
       "    </tr>\n",
       "  </thead>\n",
       "  <tbody>\n",
       "    <tr>\n",
       "      <th>2350</th>\n",
       "      <td>800001934594||B005||1</td>\n",
       "      <td>365567</td>\n",
       "      <td>4028318</td>\n",
       "      <td>2018-07-18 13:31:00</td>\n",
       "      <td>双相情感障碍，目前为混合性发作</td>\n",
       "      <td>血清</td>\n",
       "      <td>2018-07-18 07:25:07</td>\n",
       "      <td>球蛋白</td>\n",
       "      <td>24.9</td>\n",
       "      <td>g/L</td>\n",
       "      <td>N</td>\n",
       "      <td>20.0-40.0</td>\n",
       "      <td>G</td>\n",
       "      <td>0</td>\n",
       "    </tr>\n",
       "    <tr>\n",
       "      <th>2537</th>\n",
       "      <td>800001953715||B005||1</td>\n",
       "      <td>1819998</td>\n",
       "      <td>4045163</td>\n",
       "      <td>2018-07-20 11:02:00</td>\n",
       "      <td>双相情感障碍，目前为混合性发作</td>\n",
       "      <td>血清</td>\n",
       "      <td>2018-07-20 07:40:33</td>\n",
       "      <td>球蛋白</td>\n",
       "      <td>23.2</td>\n",
       "      <td>g/L</td>\n",
       "      <td>N</td>\n",
       "      <td>20.0-40.0</td>\n",
       "      <td>G</td>\n",
       "      <td>0</td>\n",
       "    </tr>\n",
       "    <tr>\n",
       "      <th>2670</th>\n",
       "      <td>800001979565||B005||1</td>\n",
       "      <td>7412218</td>\n",
       "      <td>4069083</td>\n",
       "      <td>2018-07-24 11:48:00</td>\n",
       "      <td>双相情感障碍，目前为伴有精神病性症状的躁狂发作</td>\n",
       "      <td>血清</td>\n",
       "      <td>2018-07-24 07:05:36</td>\n",
       "      <td>球蛋白</td>\n",
       "      <td>33.8</td>\n",
       "      <td>g/L</td>\n",
       "      <td>N</td>\n",
       "      <td>20.0-40.0</td>\n",
       "      <td>G</td>\n",
       "      <td>0</td>\n",
       "    </tr>\n",
       "    <tr>\n",
       "      <th>2799</th>\n",
       "      <td>800002012932||B005||1</td>\n",
       "      <td>7459164</td>\n",
       "      <td>4103620</td>\n",
       "      <td>2018-07-27 11:22:00</td>\n",
       "      <td>双相情感障碍，目前为混合性发作</td>\n",
       "      <td>血清</td>\n",
       "      <td>2018-07-27 07:40:37</td>\n",
       "      <td>球蛋白</td>\n",
       "      <td>31.3</td>\n",
       "      <td>g/L</td>\n",
       "      <td>N</td>\n",
       "      <td>20.0-40.0</td>\n",
       "      <td>G</td>\n",
       "      <td>0</td>\n",
       "    </tr>\n",
       "    <tr>\n",
       "      <th>2906</th>\n",
       "      <td>800002023150||B005||1</td>\n",
       "      <td>7461862</td>\n",
       "      <td>4112018</td>\n",
       "      <td>2018-07-28 11:40:00</td>\n",
       "      <td>双相情感障碍目前为不伴精神病的重度抑郁发作</td>\n",
       "      <td>血清</td>\n",
       "      <td>2018-07-28 07:38:51</td>\n",
       "      <td>球蛋白</td>\n",
       "      <td>28.2</td>\n",
       "      <td>g/L</td>\n",
       "      <td>N</td>\n",
       "      <td>20.0-40.0</td>\n",
       "      <td>G</td>\n",
       "      <td>0</td>\n",
       "    </tr>\n",
       "  </tbody>\n",
       "</table>\n",
       "</div>"
      ],
      "text/plain": [
       "             test_record_id patient_id  case_no           test_date  \\\n",
       "2350  800001934594||B005||1     365567  4028318 2018-07-18 13:31:00   \n",
       "2537  800001953715||B005||1    1819998  4045163 2018-07-20 11:02:00   \n",
       "2670  800001979565||B005||1    7412218  4069083 2018-07-24 11:48:00   \n",
       "2799  800002012932||B005||1    7459164  4103620 2018-07-27 11:22:00   \n",
       "2906  800002023150||B005||1    7461862  4112018 2018-07-28 11:40:00   \n",
       "\n",
       "           clinical_diagnosis sample_type         sample_time project_name  \\\n",
       "2350          双相情感障碍，目前为混合性发作          血清 2018-07-18 07:25:07          球蛋白   \n",
       "2537          双相情感障碍，目前为混合性发作          血清 2018-07-20 07:40:33          球蛋白   \n",
       "2670  双相情感障碍，目前为伴有精神病性症状的躁狂发作          血清 2018-07-24 07:05:36          球蛋白   \n",
       "2799          双相情感障碍，目前为混合性发作          血清 2018-07-27 07:40:37          球蛋白   \n",
       "2906    双相情感障碍目前为不伴精神病的重度抑郁发作          血清 2018-07-28 07:38:51          球蛋白   \n",
       "\n",
       "     test_result result_unit is_normal refer_scope synonym  肝功_label  \n",
       "2350        24.9         g/L         N   20.0-40.0       G         0  \n",
       "2537        23.2         g/L         N   20.0-40.0       G         0  \n",
       "2670        33.8         g/L         N   20.0-40.0       G         0  \n",
       "2799        31.3         g/L         N   20.0-40.0       G         0  \n",
       "2906        28.2         g/L         N   20.0-40.0       G         0  "
      ]
     },
     "execution_count": 200,
     "metadata": {},
     "output_type": "execute_result"
    }
   ],
   "source": [
    "df_test_lgG.head()"
   ]
  },
  {
   "cell_type": "markdown",
   "metadata": {},
   "source": [
    "#### 白球比值AG"
   ]
  },
  {
   "cell_type": "code",
   "execution_count": 201,
   "metadata": {},
   "outputs": [],
   "source": [
    "df_test_AG=df_test[df_test['project_name'].str.contains('白/球比值')]\n",
    "# 患者限定\n",
    "df_test_AG=df_test_AG[df_test_AG.case_no.isin(df_VPA_inp_time.case_no.unique())]\n",
    "# 指标0-1转换\n",
    "df_test_AG['肝功_label']=df_test_AG['test_result'].apply(lambda x: 0 if 1.2<=float(x)<=2.4 else 1)"
   ]
  },
  {
   "cell_type": "code",
   "execution_count": 202,
   "metadata": {},
   "outputs": [
    {
     "data": {
      "text/html": [
       "<div>\n",
       "<style scoped>\n",
       "    .dataframe tbody tr th:only-of-type {\n",
       "        vertical-align: middle;\n",
       "    }\n",
       "\n",
       "    .dataframe tbody tr th {\n",
       "        vertical-align: top;\n",
       "    }\n",
       "\n",
       "    .dataframe thead th {\n",
       "        text-align: right;\n",
       "    }\n",
       "</style>\n",
       "<table border=\"1\" class=\"dataframe\">\n",
       "  <thead>\n",
       "    <tr style=\"text-align: right;\">\n",
       "      <th></th>\n",
       "      <th>test_record_id</th>\n",
       "      <th>patient_id</th>\n",
       "      <th>case_no</th>\n",
       "      <th>test_date</th>\n",
       "      <th>clinical_diagnosis</th>\n",
       "      <th>sample_type</th>\n",
       "      <th>sample_time</th>\n",
       "      <th>project_name</th>\n",
       "      <th>test_result</th>\n",
       "      <th>result_unit</th>\n",
       "      <th>is_normal</th>\n",
       "      <th>refer_scope</th>\n",
       "      <th>synonym</th>\n",
       "      <th>肝功_label</th>\n",
       "    </tr>\n",
       "  </thead>\n",
       "  <tbody>\n",
       "    <tr>\n",
       "      <th>2351</th>\n",
       "      <td>800001934594||B005||1</td>\n",
       "      <td>365567</td>\n",
       "      <td>4028318</td>\n",
       "      <td>2018-07-18 13:31:00</td>\n",
       "      <td>双相情感障碍，目前为混合性发作</td>\n",
       "      <td>血清</td>\n",
       "      <td>2018-07-18 07:25:07</td>\n",
       "      <td>白/球比值</td>\n",
       "      <td>1.7</td>\n",
       "      <td>None</td>\n",
       "      <td>N</td>\n",
       "      <td>1.2-2.4</td>\n",
       "      <td>A/G</td>\n",
       "      <td>0</td>\n",
       "    </tr>\n",
       "    <tr>\n",
       "      <th>2538</th>\n",
       "      <td>800001953715||B005||1</td>\n",
       "      <td>1819998</td>\n",
       "      <td>4045163</td>\n",
       "      <td>2018-07-20 11:02:00</td>\n",
       "      <td>双相情感障碍，目前为混合性发作</td>\n",
       "      <td>血清</td>\n",
       "      <td>2018-07-20 07:40:33</td>\n",
       "      <td>白/球比值</td>\n",
       "      <td>1.7</td>\n",
       "      <td>None</td>\n",
       "      <td>N</td>\n",
       "      <td>1.2-2.4</td>\n",
       "      <td>A/G</td>\n",
       "      <td>0</td>\n",
       "    </tr>\n",
       "    <tr>\n",
       "      <th>2671</th>\n",
       "      <td>800001979565||B005||1</td>\n",
       "      <td>7412218</td>\n",
       "      <td>4069083</td>\n",
       "      <td>2018-07-24 11:48:00</td>\n",
       "      <td>双相情感障碍，目前为伴有精神病性症状的躁狂发作</td>\n",
       "      <td>血清</td>\n",
       "      <td>2018-07-24 07:05:36</td>\n",
       "      <td>白/球比值</td>\n",
       "      <td>1.3</td>\n",
       "      <td>None</td>\n",
       "      <td>N</td>\n",
       "      <td>1.2-2.4</td>\n",
       "      <td>A/G</td>\n",
       "      <td>0</td>\n",
       "    </tr>\n",
       "    <tr>\n",
       "      <th>2800</th>\n",
       "      <td>800002012932||B005||1</td>\n",
       "      <td>7459164</td>\n",
       "      <td>4103620</td>\n",
       "      <td>2018-07-27 11:22:00</td>\n",
       "      <td>双相情感障碍，目前为混合性发作</td>\n",
       "      <td>血清</td>\n",
       "      <td>2018-07-27 07:40:37</td>\n",
       "      <td>白/球比值</td>\n",
       "      <td>1.5</td>\n",
       "      <td>None</td>\n",
       "      <td>N</td>\n",
       "      <td>1.2-2.4</td>\n",
       "      <td>A/G</td>\n",
       "      <td>0</td>\n",
       "    </tr>\n",
       "    <tr>\n",
       "      <th>2907</th>\n",
       "      <td>800002023150||B005||1</td>\n",
       "      <td>7461862</td>\n",
       "      <td>4112018</td>\n",
       "      <td>2018-07-28 11:40:00</td>\n",
       "      <td>双相情感障碍目前为不伴精神病的重度抑郁发作</td>\n",
       "      <td>血清</td>\n",
       "      <td>2018-07-28 07:38:51</td>\n",
       "      <td>白/球比值</td>\n",
       "      <td>1.6</td>\n",
       "      <td>None</td>\n",
       "      <td>N</td>\n",
       "      <td>1.2-2.4</td>\n",
       "      <td>A/G</td>\n",
       "      <td>0</td>\n",
       "    </tr>\n",
       "  </tbody>\n",
       "</table>\n",
       "</div>"
      ],
      "text/plain": [
       "             test_record_id patient_id  case_no           test_date  \\\n",
       "2351  800001934594||B005||1     365567  4028318 2018-07-18 13:31:00   \n",
       "2538  800001953715||B005||1    1819998  4045163 2018-07-20 11:02:00   \n",
       "2671  800001979565||B005||1    7412218  4069083 2018-07-24 11:48:00   \n",
       "2800  800002012932||B005||1    7459164  4103620 2018-07-27 11:22:00   \n",
       "2907  800002023150||B005||1    7461862  4112018 2018-07-28 11:40:00   \n",
       "\n",
       "           clinical_diagnosis sample_type         sample_time project_name  \\\n",
       "2351          双相情感障碍，目前为混合性发作          血清 2018-07-18 07:25:07        白/球比值   \n",
       "2538          双相情感障碍，目前为混合性发作          血清 2018-07-20 07:40:33        白/球比值   \n",
       "2671  双相情感障碍，目前为伴有精神病性症状的躁狂发作          血清 2018-07-24 07:05:36        白/球比值   \n",
       "2800          双相情感障碍，目前为混合性发作          血清 2018-07-27 07:40:37        白/球比值   \n",
       "2907    双相情感障碍目前为不伴精神病的重度抑郁发作          血清 2018-07-28 07:38:51        白/球比值   \n",
       "\n",
       "     test_result result_unit is_normal refer_scope synonym  肝功_label  \n",
       "2351         1.7        None         N     1.2-2.4     A/G         0  \n",
       "2538         1.7        None         N     1.2-2.4     A/G         0  \n",
       "2671         1.3        None         N     1.2-2.4     A/G         0  \n",
       "2800         1.5        None         N     1.2-2.4     A/G         0  \n",
       "2907         1.6        None         N     1.2-2.4     A/G         0  "
      ]
     },
     "execution_count": 202,
     "metadata": {},
     "output_type": "execute_result"
    }
   ],
   "source": [
    "df_test_AG.head()"
   ]
  },
  {
   "cell_type": "markdown",
   "metadata": {},
   "source": [
    "#### 合并肝功能指标"
   ]
  },
  {
   "cell_type": "code",
   "execution_count": 293,
   "metadata": {},
   "outputs": [],
   "source": [
    "df_test_gangong=pd.concat([df_test_ALT,df_test_AST],axis=0)\n",
    "df_test_gangong=pd.concat([df_test_gangong,df_test_zhuananmei],axis=0)\n",
    "df_test_gangong=pd.concat([df_test_gangong,df_test_TP],axis=0)\n",
    "df_test_gangong=pd.concat([df_test_gangong,df_test_ALB],axis=0)\n",
    "df_test_gangong=pd.concat([df_test_gangong,df_test_lgG],axis=0)\n",
    "df_test_gangong=pd.concat([df_test_gangong,df_test_AG],axis=0)"
   ]
  },
  {
   "cell_type": "code",
   "execution_count": 294,
   "metadata": {},
   "outputs": [
    {
     "data": {
      "text/plain": [
       "array(['丙氨酸氨基转移酶', '天门冬氨酸氨基转移酶', '转氨酶比值', '总蛋白', '白蛋白', '球蛋白', '白/球比值'],\n",
       "      dtype=object)"
      ]
     },
     "execution_count": 294,
     "metadata": {},
     "output_type": "execute_result"
    }
   ],
   "source": [
    "df_test_gangong.project_name.unique()"
   ]
  },
  {
   "cell_type": "code",
   "execution_count": 295,
   "metadata": {},
   "outputs": [],
   "source": [
    "df_test_gangong.to_excel(project_path+'/data/processed_data/df_6.1.1_肝功能指标.xlsx')"
   ]
  },
  {
   "cell_type": "markdown",
   "metadata": {},
   "source": [
    "### 皮疹"
   ]
  },
  {
   "cell_type": "code",
   "execution_count": 296,
   "metadata": {},
   "outputs": [],
   "source": [
    "df_test_pizhen=df_doctor_order[df_doctor_order.drug_name.str.contains('复方酮氯乳膏|莫米松乳膏')]\n",
    "# 患者限定\n",
    "df_test_pizhen=df_test_pizhen[df_test_pizhen.case_no.isin(df_VPA_inp_time.case_no.unique())]"
   ]
  },
  {
   "cell_type": "code",
   "execution_count": 297,
   "metadata": {},
   "outputs": [
    {
     "data": {
      "text/plain": [
       "array(['复方酮氯乳膏(自产)[20g*1支]', '莫米松乳膏(通用)[5g*1支]', '莫米松乳膏[5g*1支]'],\n",
       "      dtype=object)"
      ]
     },
     "execution_count": 297,
     "metadata": {},
     "output_type": "execute_result"
    }
   ],
   "source": [
    "df_test_pizhen.drug_name.unique()"
   ]
  },
  {
   "cell_type": "code",
   "execution_count": 298,
   "metadata": {},
   "outputs": [
    {
     "data": {
      "text/html": [
       "<div>\n",
       "<style scoped>\n",
       "    .dataframe tbody tr th:only-of-type {\n",
       "        vertical-align: middle;\n",
       "    }\n",
       "\n",
       "    .dataframe tbody tr th {\n",
       "        vertical-align: top;\n",
       "    }\n",
       "\n",
       "    .dataframe thead th {\n",
       "        text-align: right;\n",
       "    }\n",
       "</style>\n",
       "<table border=\"1\" class=\"dataframe\">\n",
       "  <thead>\n",
       "    <tr style=\"text-align: right;\">\n",
       "      <th></th>\n",
       "      <th>patient_id</th>\n",
       "      <th>case_no</th>\n",
       "      <th>drug_name</th>\n",
       "      <th>amount</th>\n",
       "      <th>drug_spec</th>\n",
       "      <th>dosage</th>\n",
       "      <th>frequency</th>\n",
       "      <th>start_datetime</th>\n",
       "      <th>end_datetime</th>\n",
       "      <th>statusdesc</th>\n",
       "    </tr>\n",
       "  </thead>\n",
       "  <tbody>\n",
       "    <tr>\n",
       "      <th>7131</th>\n",
       "      <td>8970838</td>\n",
       "      <td>13022476</td>\n",
       "      <td>复方酮氯乳膏(自产)[20g*1支]</td>\n",
       "      <td>1</td>\n",
       "      <td>20g*1支</td>\n",
       "      <td>0.3g</td>\n",
       "      <td>2/日</td>\n",
       "      <td>2021-06-27 10:46:38</td>\n",
       "      <td>NaT</td>\n",
       "      <td>核实</td>\n",
       "    </tr>\n",
       "    <tr>\n",
       "      <th>7940</th>\n",
       "      <td>7216247</td>\n",
       "      <td>13317922</td>\n",
       "      <td>复方酮氯乳膏(自产)[20g*1支]</td>\n",
       "      <td>1</td>\n",
       "      <td>20g*1支</td>\n",
       "      <td>0.3g</td>\n",
       "      <td>ONCE</td>\n",
       "      <td>2021-07-19 10:42:41</td>\n",
       "      <td>NaT</td>\n",
       "      <td>核实</td>\n",
       "    </tr>\n",
       "    <tr>\n",
       "      <th>7941</th>\n",
       "      <td>7216247</td>\n",
       "      <td>13317922</td>\n",
       "      <td>复方酮氯乳膏(自产)[20g*1支]</td>\n",
       "      <td>1</td>\n",
       "      <td>20g*1支</td>\n",
       "      <td>0.3g</td>\n",
       "      <td>Tid</td>\n",
       "      <td>2021-07-19 10:46:46</td>\n",
       "      <td>NaT</td>\n",
       "      <td>核实</td>\n",
       "    </tr>\n",
       "    <tr>\n",
       "      <th>9817</th>\n",
       "      <td>9290063</td>\n",
       "      <td>14107745</td>\n",
       "      <td>莫米松乳膏(通用)[5g*1支]</td>\n",
       "      <td>1</td>\n",
       "      <td>5g*1支</td>\n",
       "      <td>0.1g</td>\n",
       "      <td>1/日</td>\n",
       "      <td>2021-09-29 16:18:17</td>\n",
       "      <td>NaT</td>\n",
       "      <td>核实</td>\n",
       "    </tr>\n",
       "    <tr>\n",
       "      <th>16143</th>\n",
       "      <td>6637533</td>\n",
       "      <td>6085020</td>\n",
       "      <td>莫米松乳膏[5g*1支]</td>\n",
       "      <td>1</td>\n",
       "      <td>5g*1支</td>\n",
       "      <td>5g</td>\n",
       "      <td>1/日</td>\n",
       "      <td>2019-04-19 10:12:04</td>\n",
       "      <td>NaT</td>\n",
       "      <td>核实</td>\n",
       "    </tr>\n",
       "  </tbody>\n",
       "</table>\n",
       "</div>"
      ],
      "text/plain": [
       "      patient_id   case_no           drug_name  amount drug_spec dosage  \\\n",
       "7131     8970838  13022476  复方酮氯乳膏(自产)[20g*1支]       1    20g*1支   0.3g   \n",
       "7940     7216247  13317922  复方酮氯乳膏(自产)[20g*1支]       1    20g*1支   0.3g   \n",
       "7941     7216247  13317922  复方酮氯乳膏(自产)[20g*1支]       1    20g*1支   0.3g   \n",
       "9817     9290063  14107745    莫米松乳膏(通用)[5g*1支]       1     5g*1支   0.1g   \n",
       "16143    6637533   6085020        莫米松乳膏[5g*1支]       1     5g*1支     5g   \n",
       "\n",
       "      frequency      start_datetime end_datetime statusdesc  \n",
       "7131        2/日 2021-06-27 10:46:38          NaT         核实  \n",
       "7940       ONCE 2021-07-19 10:42:41          NaT         核实  \n",
       "7941        Tid 2021-07-19 10:46:46          NaT         核实  \n",
       "9817        1/日 2021-09-29 16:18:17          NaT         核实  \n",
       "16143       1/日 2019-04-19 10:12:04          NaT         核实  "
      ]
     },
     "execution_count": 298,
     "metadata": {},
     "output_type": "execute_result"
    }
   ],
   "source": [
    "df_test_pizhen.head()"
   ]
  },
  {
   "cell_type": "code",
   "execution_count": 299,
   "metadata": {},
   "outputs": [],
   "source": [
    "df_test_pizhen.to_excel(project_path+'/data/processed_data/df_6.1.2_皮疹指标.xlsx')"
   ]
  },
  {
   "cell_type": "markdown",
   "metadata": {},
   "source": [
    "### 恶心"
   ]
  },
  {
   "cell_type": "code",
   "execution_count": 300,
   "metadata": {},
   "outputs": [],
   "source": [
    "df_test_exin=df_doctor_order[df_doctor_order.drug_name.str.contains('多潘立酮|甲氧氯普胺')]\n",
    "# 患者限定\n",
    "df_test_exin=df_test_exin[df_test_exin.case_no.isin(df_VPA_inp_time.case_no.unique())]"
   ]
  },
  {
   "cell_type": "code",
   "execution_count": 301,
   "metadata": {},
   "outputs": [
    {
     "data": {
      "text/plain": [
       "array(['多潘立酮片(吗丁啉)[10mg*42片]', '甲氧氯普胺注射液(胃复安)[1ml/10mg*1支]',\n",
       "       '甲氧氯普胺片(开封)[5mg*100片]'], dtype=object)"
      ]
     },
     "execution_count": 301,
     "metadata": {},
     "output_type": "execute_result"
    }
   ],
   "source": [
    "df_test_exin.drug_name.unique()"
   ]
  },
  {
   "cell_type": "code",
   "execution_count": 302,
   "metadata": {},
   "outputs": [
    {
     "data": {
      "text/html": [
       "<div>\n",
       "<style scoped>\n",
       "    .dataframe tbody tr th:only-of-type {\n",
       "        vertical-align: middle;\n",
       "    }\n",
       "\n",
       "    .dataframe tbody tr th {\n",
       "        vertical-align: top;\n",
       "    }\n",
       "\n",
       "    .dataframe thead th {\n",
       "        text-align: right;\n",
       "    }\n",
       "</style>\n",
       "<table border=\"1\" class=\"dataframe\">\n",
       "  <thead>\n",
       "    <tr style=\"text-align: right;\">\n",
       "      <th></th>\n",
       "      <th>patient_id</th>\n",
       "      <th>case_no</th>\n",
       "      <th>drug_name</th>\n",
       "      <th>amount</th>\n",
       "      <th>drug_spec</th>\n",
       "      <th>dosage</th>\n",
       "      <th>frequency</th>\n",
       "      <th>start_datetime</th>\n",
       "      <th>end_datetime</th>\n",
       "      <th>statusdesc</th>\n",
       "    </tr>\n",
       "  </thead>\n",
       "  <tbody>\n",
       "    <tr>\n",
       "      <th>551</th>\n",
       "      <td>8242965</td>\n",
       "      <td>10130473</td>\n",
       "      <td>多潘立酮片(吗丁啉)[10mg*42片]</td>\n",
       "      <td>1</td>\n",
       "      <td>10mg*42片</td>\n",
       "      <td>10mg</td>\n",
       "      <td>ONCE</td>\n",
       "      <td>2020-09-06 16:16:29</td>\n",
       "      <td>NaT</td>\n",
       "      <td>核实</td>\n",
       "    </tr>\n",
       "    <tr>\n",
       "      <th>1587</th>\n",
       "      <td>8485991</td>\n",
       "      <td>10389652</td>\n",
       "      <td>多潘立酮片(吗丁啉)[10mg*42片]</td>\n",
       "      <td>1</td>\n",
       "      <td>10mg*42片</td>\n",
       "      <td>10mg</td>\n",
       "      <td>ONCE</td>\n",
       "      <td>2020-10-14 23:11:21</td>\n",
       "      <td>NaT</td>\n",
       "      <td>核实</td>\n",
       "    </tr>\n",
       "    <tr>\n",
       "      <th>2055</th>\n",
       "      <td>8530956</td>\n",
       "      <td>10588084</td>\n",
       "      <td>甲氧氯普胺注射液(胃复安)[1ml/10mg*1支]</td>\n",
       "      <td>1</td>\n",
       "      <td>1ml/10mg*1支</td>\n",
       "      <td>1ml</td>\n",
       "      <td>ONCE</td>\n",
       "      <td>2020-10-23 02:20:58</td>\n",
       "      <td>NaT</td>\n",
       "      <td>核实</td>\n",
       "    </tr>\n",
       "    <tr>\n",
       "      <th>5844</th>\n",
       "      <td>8889350</td>\n",
       "      <td>12327058</td>\n",
       "      <td>甲氧氯普胺片(开封)[5mg*100片]</td>\n",
       "      <td>1</td>\n",
       "      <td>5mg*100片</td>\n",
       "      <td>5mg</td>\n",
       "      <td>ONCE</td>\n",
       "      <td>2021-04-18 11:04:44</td>\n",
       "      <td>NaT</td>\n",
       "      <td>核实</td>\n",
       "    </tr>\n",
       "    <tr>\n",
       "      <th>5938</th>\n",
       "      <td>8889350</td>\n",
       "      <td>12327058</td>\n",
       "      <td>甲氧氯普胺片(开封)[5mg*100片]</td>\n",
       "      <td>1</td>\n",
       "      <td>5mg*100片</td>\n",
       "      <td>5mg</td>\n",
       "      <td>ONCE</td>\n",
       "      <td>2021-04-16 12:05:59</td>\n",
       "      <td>NaT</td>\n",
       "      <td>核实</td>\n",
       "    </tr>\n",
       "  </tbody>\n",
       "</table>\n",
       "</div>"
      ],
      "text/plain": [
       "     patient_id   case_no                   drug_name  amount    drug_spec  \\\n",
       "551     8242965  10130473        多潘立酮片(吗丁啉)[10mg*42片]       1     10mg*42片   \n",
       "1587    8485991  10389652        多潘立酮片(吗丁啉)[10mg*42片]       1     10mg*42片   \n",
       "2055    8530956  10588084  甲氧氯普胺注射液(胃复安)[1ml/10mg*1支]       1  1ml/10mg*1支   \n",
       "5844    8889350  12327058        甲氧氯普胺片(开封)[5mg*100片]       1     5mg*100片   \n",
       "5938    8889350  12327058        甲氧氯普胺片(开封)[5mg*100片]       1     5mg*100片   \n",
       "\n",
       "     dosage frequency      start_datetime end_datetime statusdesc  \n",
       "551    10mg      ONCE 2020-09-06 16:16:29          NaT         核实  \n",
       "1587   10mg      ONCE 2020-10-14 23:11:21          NaT         核实  \n",
       "2055    1ml      ONCE 2020-10-23 02:20:58          NaT         核实  \n",
       "5844    5mg      ONCE 2021-04-18 11:04:44          NaT         核实  \n",
       "5938    5mg      ONCE 2021-04-16 12:05:59          NaT         核实  "
      ]
     },
     "execution_count": 302,
     "metadata": {},
     "output_type": "execute_result"
    }
   ],
   "source": [
    "df_test_exin.head()"
   ]
  },
  {
   "cell_type": "code",
   "execution_count": 303,
   "metadata": {},
   "outputs": [],
   "source": [
    "df_test_exin.to_excel(project_path+'/data/processed_data/df_6.1.3_恶心指标.xlsx')"
   ]
  },
  {
   "cell_type": "markdown",
   "metadata": {},
   "source": [
    "### 血小板计数<100"
   ]
  },
  {
   "cell_type": "code",
   "execution_count": 304,
   "metadata": {},
   "outputs": [],
   "source": [
    "df_test_PLT=df_test[df_test['project_name'].str.contains('血小板计数')]\n",
    "# 患者限定\n",
    "df_test_PLT=df_test_PLT[df_test_PLT.case_no.isin(df_VPA_inp_time.case_no.unique())]\n",
    "# 指标0-1转换\n",
    "df_test_PLT['PLT_label']=df_test_PLT['test_result'].apply(lambda x: 1 if float(x)<=100 else 0)"
   ]
  },
  {
   "cell_type": "code",
   "execution_count": 305,
   "metadata": {},
   "outputs": [
    {
     "data": {
      "text/plain": [
       "array(['血小板计数'], dtype=object)"
      ]
     },
     "execution_count": 305,
     "metadata": {},
     "output_type": "execute_result"
    }
   ],
   "source": [
    "df_test_PLT.project_name.unique()"
   ]
  },
  {
   "cell_type": "code",
   "execution_count": 306,
   "metadata": {},
   "outputs": [],
   "source": [
    "df_test_PLT.to_excel(project_path+'/data/processed_data/df_6.1.2_血小板计数指标.xlsx')"
   ]
  },
  {
   "cell_type": "markdown",
   "metadata": {},
   "source": [
    "## 安全性指标转置"
   ]
  },
  {
   "cell_type": "code",
   "execution_count": 307,
   "metadata": {
    "code_folding": []
   },
   "outputs": [
    {
     "name": "stdout",
     "output_type": "stream",
     "text": [
      "12210690\n",
      "13397293\n",
      "4922567\n",
      "5386601\n",
      "8981054\n",
      "7251581\n",
      "4045163\n",
      "7661760\n",
      "9123719\n",
      "5407981\n",
      "9818116\n",
      "11787937\n",
      "11022153\n",
      "6435824\n",
      "7967752\n",
      "4028318\n",
      "10028911\n",
      "7564885\n",
      "6610460\n",
      "8150786\n",
      "7531700\n",
      "6000741\n",
      "6338386\n",
      "5682081\n",
      "10005574\n",
      "9574993\n",
      "4860902\n",
      "5082652\n",
      "11747590\n",
      "8898454\n",
      "8806185\n",
      "12855725\n",
      "5638515\n",
      "6591824\n",
      "14322457\n",
      "4366097\n",
      "5708206\n",
      "6667714\n",
      "5125578\n",
      "6268920\n",
      "7079833\n",
      "14135942\n",
      "10692337\n",
      "5375034\n",
      "5968455\n",
      "5634908\n",
      "6486860\n",
      "8838428\n",
      "7480196\n",
      "4151975\n",
      "6085020\n",
      "11351405\n",
      "4267891\n",
      "5544859\n",
      "7901590\n",
      "11291598\n",
      "10357709\n",
      "4255479\n",
      "9910592\n",
      "4821017\n",
      "10001302\n",
      "5302878\n",
      "4283749\n",
      "10019847\n",
      "12313528\n",
      "7830248\n",
      "8542045\n",
      "5612768\n",
      "7882556\n",
      "10146112\n",
      "12631919\n",
      "5044456\n",
      "8915869\n",
      "4553217\n",
      "13317922\n",
      "5679938\n",
      "14040566\n",
      "9781575\n",
      "13176502\n",
      "4918748\n",
      "6884107\n",
      "6324940\n",
      "5653155\n",
      "7719716\n",
      "9687004\n",
      "7728906\n",
      "10989230\n",
      "9835190\n",
      "11547061\n",
      "4069083\n",
      "5722142\n",
      "4103620\n",
      "4112018\n",
      "4216082\n",
      "4133350\n",
      "13951019\n",
      "4191397\n",
      "4236927\n",
      "10674663\n",
      "4304073\n",
      "4579522\n",
      "4364618\n",
      "4560293\n",
      "4446680\n",
      "4446056\n",
      "4592169\n",
      "4536465\n",
      "4569640\n",
      "7754134\n",
      "4707313\n",
      "8390447\n",
      "4761372\n",
      "4842956\n",
      "4891032\n",
      "11223919\n",
      "4926506\n",
      "5180331\n",
      "10368285\n",
      "5278319\n",
      "13817948\n",
      "5436932\n",
      "5696642\n",
      "14900947\n",
      "5779804\n",
      "5892598\n",
      "5926069\n",
      "6158479\n",
      "8955947\n",
      "10024628\n",
      "6242952\n",
      "6352376\n",
      "6361827\n",
      "6145716\n",
      "10200584\n",
      "11200975\n",
      "6495430\n",
      "6494466\n",
      "6518811\n",
      "7731315\n",
      "8138479\n",
      "6982291\n",
      "6588818\n",
      "6645105\n",
      "6655263\n",
      "6800640\n",
      "7284196\n",
      "8231866\n",
      "7234285\n",
      "7234799\n",
      "7284844\n",
      "7309258\n",
      "7937051\n",
      "7423611\n",
      "8368444\n",
      "8039284\n",
      "7749789\n",
      "10877290\n",
      "7869986\n",
      "10297961\n",
      "7689281\n",
      "7732089\n",
      "13150462\n",
      "9739796\n",
      "7891161\n",
      "10914758\n",
      "8012028\n",
      "9077075\n",
      "12070485\n",
      "10859517\n",
      "10830666\n",
      "8311059\n",
      "12610841\n",
      "8435856\n",
      "8399009\n",
      "12415154\n",
      "8463579\n",
      "8506469\n",
      "10293806\n",
      "8839333\n",
      "8981088\n",
      "10130473\n",
      "9243738\n",
      "9224530\n",
      "9391429\n",
      "9706442\n",
      "9513550\n",
      "9601149\n",
      "9812242\n",
      "9890262\n",
      "10582637\n",
      "9691399\n",
      "9963165\n",
      "10171606\n",
      "12238352\n",
      "10338392\n",
      "10343367\n",
      "10389652\n",
      "10559425\n",
      "15026052\n",
      "10616235\n",
      "10526969\n",
      "10588084\n",
      "10864711\n",
      "10941636\n",
      "11238946\n",
      "12782405\n",
      "12693940\n",
      "11103754\n",
      "5683098\n",
      "11069250\n",
      "12069121\n",
      "12550325\n",
      "12297734\n",
      "12055514\n",
      "12001085\n",
      "12165203\n",
      "12325442\n",
      "14103871\n",
      "12327058\n",
      "12696147\n",
      "13022476\n",
      "12835527\n",
      "13425571\n",
      "13063464\n",
      "13335769\n",
      "14400275\n",
      "14120909\n",
      "13266036\n",
      "13491055\n",
      "13561501\n",
      "13692578\n",
      "13997754\n",
      "14107745\n",
      "14184132\n",
      "14701280\n",
      "14712892\n"
     ]
    }
   ],
   "source": [
    "df_VPA_indicators=df_VPA_inp_time.copy()\n",
    "df_VPA_indicators=df_VPA_indicators.sort_values(['patient_id','case_no','分裂日期'])\n",
    "df_VPA_indicators=df_VPA_indicators.reset_index(drop=True)\n",
    "# 将一次用药的不同检测装置到一行中，比如WBC_before,WBC_3d,WBC_7d\n",
    "temp_list=[]\n",
    "for i in df_VPA_indicators.case_no.unique():\n",
    "    print(i)\n",
    "    # drug_time\n",
    "    temp=df_VPA_indicators[df_VPA_indicators['case_no']==i]\n",
    "    temp=temp.sort_values(['分裂日期']).reset_index(drop=True)\n",
    "    drug_start_datetime=temp.loc[0,'start_datetime']\n",
    "    # 肝功数据\n",
    "    temp_gan=df_test_gangong[df_test_gangong['case_no']==i]\n",
    "    gan_before=temp_gan[temp_gan['test_date']<=drug_start_datetime]\n",
    "    gan_after=temp_gan[temp_gan['test_date']>drug_start_datetime]\n",
    "    if np.sum(gan_before['肝功_label']) >0:\n",
    "        temp['肝功_before']=1\n",
    "    else:\n",
    "        temp['肝功_before']=0\n",
    "        \n",
    "    if np.sum(gan_after['肝功_label']) >0:\n",
    "        temp['肝功_after']=1\n",
    "    else:\n",
    "        temp['肝功_after']=0\n",
    "    # 皮疹数据\n",
    "    temp_pizhen=df_test_pizhen[df_test_pizhen['case_no']==i]\n",
    "    pizhen_before=temp_pizhen[temp_pizhen['start_datetime']<=drug_start_datetime]\n",
    "    pizhen_after=temp_pizhen[temp_pizhen['start_datetime']>drug_start_datetime]\n",
    "    if pizhen_before.shape[0]>0:\n",
    "        temp['皮疹_before']=1\n",
    "    else:\n",
    "        temp['皮疹_before']=0\n",
    "    if pizhen_after.shape[0]>0:\n",
    "        temp['皮疹_after']=1\n",
    "    else:\n",
    "        temp['皮疹_after']=0\n",
    "    # 恶心数据\n",
    "    temp_exin=df_test_exin[df_test_exin['case_no']==i]\n",
    "    exin_before=temp_exin[temp_exin['start_datetime']<=drug_start_datetime]\n",
    "    exin_after=temp_exin[temp_exin['start_datetime']>drug_start_datetime]\n",
    "    if exin_before.shape[0]>0:\n",
    "        temp['恶心_before']=1\n",
    "    else:\n",
    "        temp['恶心_before']=0\n",
    "    if exin_after.shape[0]>0:\n",
    "        temp['恶心_after']=1\n",
    "    else:\n",
    "        temp['恶心_after']=0\n",
    "    # 血小板计数\n",
    "    temp_PLT=df_test_PLT[df_test_PLT['case_no']==i]\n",
    "    PLT_before=temp_PLT[temp_PLT['test_date']<=drug_start_datetime]\n",
    "    PLT_after=temp_PLT[temp_PLT['test_date']>drug_start_datetime]\n",
    "    if np.sum(PLT_before['PLT_label']) >0:\n",
    "        temp['PLT_before']=1\n",
    "    else:\n",
    "        temp['PLT_before']=0\n",
    "        \n",
    "    if np.sum(PLT_after['PLT_label']) >0:\n",
    "        temp['PLT_after']=1\n",
    "    else:\n",
    "        temp['PLT_after']=0\n",
    "    # 计算安全性指标\n",
    "    for j in range(temp.shape[0]):\n",
    "        if np.sum(temp.loc[j,['肝功_before','皮疹_before','恶心_before','PLT_before']])>0:\n",
    "            temp.loc[j,'security_before']=1\n",
    "        else:\n",
    "            temp.loc[j,'security_before']=0\n",
    "\n",
    "        if np.sum(temp.loc[j,['肝功_after','皮疹_after','恶心_after','PLT_after']])>0:\n",
    "            temp.loc[j,'security_after']=1        \n",
    "        else:\n",
    "            temp.loc[j,'security_after']=0\n",
    "        # \n",
    "        if (temp.loc[j,'security_before']==0) & (temp.loc[j,'security_after']==1):\n",
    "            temp.loc[j,'security_label']=1\n",
    "        else:\n",
    "            temp.loc[j,'security_label']=0\n",
    "    temp_list.append(temp)"
   ]
  },
  {
   "cell_type": "code",
   "execution_count": 308,
   "metadata": {},
   "outputs": [],
   "source": [
    "df_VPA_indicators=pd.concat(temp_list,axis=0).reset_index(drop=True)\n",
    "del temp_list"
   ]
  },
  {
   "cell_type": "code",
   "execution_count": 309,
   "metadata": {
    "scrolled": true
   },
   "outputs": [
    {
     "data": {
      "text/html": [
       "<div>\n",
       "<style scoped>\n",
       "    .dataframe tbody tr th:only-of-type {\n",
       "        vertical-align: middle;\n",
       "    }\n",
       "\n",
       "    .dataframe tbody tr th {\n",
       "        vertical-align: top;\n",
       "    }\n",
       "\n",
       "    .dataframe thead th {\n",
       "        text-align: right;\n",
       "    }\n",
       "</style>\n",
       "<table border=\"1\" class=\"dataframe\">\n",
       "  <thead>\n",
       "    <tr style=\"text-align: right;\">\n",
       "      <th></th>\n",
       "      <th>patient_id</th>\n",
       "      <th>case_no</th>\n",
       "      <th>drug_name</th>\n",
       "      <th>amount</th>\n",
       "      <th>drug_spec</th>\n",
       "      <th>dosage</th>\n",
       "      <th>frequency</th>\n",
       "      <th>start_datetime</th>\n",
       "      <th>end_datetime</th>\n",
       "      <th>statusdesc</th>\n",
       "      <th>...</th>\n",
       "      <th>肝功_after</th>\n",
       "      <th>皮疹_before</th>\n",
       "      <th>皮疹_after</th>\n",
       "      <th>恶心_before</th>\n",
       "      <th>恶心_after</th>\n",
       "      <th>PLT_before</th>\n",
       "      <th>PLT_after</th>\n",
       "      <th>security_before</th>\n",
       "      <th>security_after</th>\n",
       "      <th>security_label</th>\n",
       "    </tr>\n",
       "  </thead>\n",
       "  <tbody>\n",
       "    <tr>\n",
       "      <th>0</th>\n",
       "      <td>1112533</td>\n",
       "      <td>12210690</td>\n",
       "      <td>丙戊酸钠缓释片(德巴金)[0.5g*30片]</td>\n",
       "      <td>1</td>\n",
       "      <td>0.5g*30片</td>\n",
       "      <td>0.5</td>\n",
       "      <td>1</td>\n",
       "      <td>2021-03-29 19:14:29</td>\n",
       "      <td>2021-03-29 19:14:29</td>\n",
       "      <td>核实</td>\n",
       "      <td>...</td>\n",
       "      <td>1</td>\n",
       "      <td>0</td>\n",
       "      <td>0</td>\n",
       "      <td>0</td>\n",
       "      <td>0</td>\n",
       "      <td>0</td>\n",
       "      <td>0</td>\n",
       "      <td>0.0</td>\n",
       "      <td>1.0</td>\n",
       "      <td>1.0</td>\n",
       "    </tr>\n",
       "    <tr>\n",
       "      <th>1</th>\n",
       "      <td>1112533</td>\n",
       "      <td>12210690</td>\n",
       "      <td>丙戊酸钠缓释片(德巴金)[0.5g*30片]</td>\n",
       "      <td>1</td>\n",
       "      <td>0.5g*30片</td>\n",
       "      <td>0.5</td>\n",
       "      <td>2</td>\n",
       "      <td>2021-03-31 09:09:50</td>\n",
       "      <td>2021-03-31 09:09:50</td>\n",
       "      <td>核实</td>\n",
       "      <td>...</td>\n",
       "      <td>1</td>\n",
       "      <td>0</td>\n",
       "      <td>0</td>\n",
       "      <td>0</td>\n",
       "      <td>0</td>\n",
       "      <td>0</td>\n",
       "      <td>0</td>\n",
       "      <td>0.0</td>\n",
       "      <td>1.0</td>\n",
       "      <td>1.0</td>\n",
       "    </tr>\n",
       "    <tr>\n",
       "      <th>2</th>\n",
       "      <td>1112533</td>\n",
       "      <td>12210690</td>\n",
       "      <td>丙戊酸钠缓释片(德巴金)[0.5g*30片]</td>\n",
       "      <td>1</td>\n",
       "      <td>0.5g*30片</td>\n",
       "      <td>0.75</td>\n",
       "      <td>1</td>\n",
       "      <td>2021-04-07 09:10:18</td>\n",
       "      <td>2021-04-07 09:10:18</td>\n",
       "      <td>核实</td>\n",
       "      <td>...</td>\n",
       "      <td>1</td>\n",
       "      <td>0</td>\n",
       "      <td>0</td>\n",
       "      <td>0</td>\n",
       "      <td>0</td>\n",
       "      <td>0</td>\n",
       "      <td>0</td>\n",
       "      <td>0.0</td>\n",
       "      <td>1.0</td>\n",
       "      <td>1.0</td>\n",
       "    </tr>\n",
       "    <tr>\n",
       "      <th>3</th>\n",
       "      <td>1112533</td>\n",
       "      <td>12210690</td>\n",
       "      <td>丙戊酸钠缓释片(德巴金)[0.5g*30片]</td>\n",
       "      <td>1</td>\n",
       "      <td>0.5g*30片</td>\n",
       "      <td>0.75</td>\n",
       "      <td>1</td>\n",
       "      <td>2021-04-09 19:49:24</td>\n",
       "      <td>2021-04-09 19:49:24</td>\n",
       "      <td>核实</td>\n",
       "      <td>...</td>\n",
       "      <td>1</td>\n",
       "      <td>0</td>\n",
       "      <td>0</td>\n",
       "      <td>0</td>\n",
       "      <td>0</td>\n",
       "      <td>0</td>\n",
       "      <td>0</td>\n",
       "      <td>0.0</td>\n",
       "      <td>1.0</td>\n",
       "      <td>1.0</td>\n",
       "    </tr>\n",
       "    <tr>\n",
       "      <th>4</th>\n",
       "      <td>1173560</td>\n",
       "      <td>13397293</td>\n",
       "      <td>丙戊酸钠缓释片(德巴金)[0.5g*30片]</td>\n",
       "      <td>1</td>\n",
       "      <td>0.5g*30片</td>\n",
       "      <td>0.5</td>\n",
       "      <td>2</td>\n",
       "      <td>2021-07-21 16:21:42</td>\n",
       "      <td>2021-07-21 16:21:42</td>\n",
       "      <td>核实</td>\n",
       "      <td>...</td>\n",
       "      <td>1</td>\n",
       "      <td>0</td>\n",
       "      <td>0</td>\n",
       "      <td>0</td>\n",
       "      <td>0</td>\n",
       "      <td>0</td>\n",
       "      <td>0</td>\n",
       "      <td>0.0</td>\n",
       "      <td>1.0</td>\n",
       "      <td>1.0</td>\n",
       "    </tr>\n",
       "  </tbody>\n",
       "</table>\n",
       "<p>5 rows × 37 columns</p>\n",
       "</div>"
      ],
      "text/plain": [
       "  patient_id   case_no               drug_name amount drug_spec dosage  \\\n",
       "0    1112533  12210690  丙戊酸钠缓释片(德巴金)[0.5g*30片]      1  0.5g*30片    0.5   \n",
       "1    1112533  12210690  丙戊酸钠缓释片(德巴金)[0.5g*30片]      1  0.5g*30片    0.5   \n",
       "2    1112533  12210690  丙戊酸钠缓释片(德巴金)[0.5g*30片]      1  0.5g*30片   0.75   \n",
       "3    1112533  12210690  丙戊酸钠缓释片(德巴金)[0.5g*30片]      1  0.5g*30片   0.75   \n",
       "4    1173560  13397293  丙戊酸钠缓释片(德巴金)[0.5g*30片]      1  0.5g*30片    0.5   \n",
       "\n",
       "  frequency      start_datetime        end_datetime statusdesc  ...  肝功_after  \\\n",
       "0         1 2021-03-29 19:14:29 2021-03-29 19:14:29         核实  ...         1   \n",
       "1         2 2021-03-31 09:09:50 2021-03-31 09:09:50         核实  ...         1   \n",
       "2         1 2021-04-07 09:10:18 2021-04-07 09:10:18         核实  ...         1   \n",
       "3         1 2021-04-09 19:49:24 2021-04-09 19:49:24         核实  ...         1   \n",
       "4         2 2021-07-21 16:21:42 2021-07-21 16:21:42         核实  ...         1   \n",
       "\n",
       "  皮疹_before 皮疹_after 恶心_before 恶心_after PLT_before  PLT_after  \\\n",
       "0         0        0         0        0          0          0   \n",
       "1         0        0         0        0          0          0   \n",
       "2         0        0         0        0          0          0   \n",
       "3         0        0         0        0          0          0   \n",
       "4         0        0         0        0          0          0   \n",
       "\n",
       "   security_before  security_after  security_label  \n",
       "0              0.0             1.0             1.0  \n",
       "1              0.0             1.0             1.0  \n",
       "2              0.0             1.0             1.0  \n",
       "3              0.0             1.0             1.0  \n",
       "4              0.0             1.0             1.0  \n",
       "\n",
       "[5 rows x 37 columns]"
      ]
     },
     "execution_count": 309,
     "metadata": {},
     "output_type": "execute_result"
    }
   ],
   "source": [
    "df_VPA_indicators.head()"
   ]
  },
  {
   "cell_type": "code",
   "execution_count": 310,
   "metadata": {},
   "outputs": [
    {
     "name": "stdout",
     "output_type": "stream",
     "text": [
      "(3175, 37)\n",
      "213\n"
     ]
    }
   ],
   "source": [
    "print(df_VPA_indicators.shape)\n",
    "print(df_VPA_indicators['patient_id'].nunique())"
   ]
  },
  {
   "cell_type": "code",
   "execution_count": 311,
   "metadata": {},
   "outputs": [
    {
     "data": {
      "text/html": [
       "<div>\n",
       "<style scoped>\n",
       "    .dataframe tbody tr th:only-of-type {\n",
       "        vertical-align: middle;\n",
       "    }\n",
       "\n",
       "    .dataframe tbody tr th {\n",
       "        vertical-align: top;\n",
       "    }\n",
       "\n",
       "    .dataframe thead th {\n",
       "        text-align: right;\n",
       "    }\n",
       "</style>\n",
       "<table border=\"1\" class=\"dataframe\">\n",
       "  <thead>\n",
       "    <tr style=\"text-align: right;\">\n",
       "      <th></th>\n",
       "      <th>patient_id</th>\n",
       "      <th>case_no</th>\n",
       "      <th>drug_name</th>\n",
       "      <th>amount</th>\n",
       "      <th>drug_spec</th>\n",
       "      <th>dosage</th>\n",
       "      <th>frequency</th>\n",
       "      <th>start_datetime</th>\n",
       "      <th>end_datetime</th>\n",
       "      <th>statusdesc</th>\n",
       "      <th>...</th>\n",
       "      <th>肝功_after</th>\n",
       "      <th>皮疹_before</th>\n",
       "      <th>皮疹_after</th>\n",
       "      <th>恶心_before</th>\n",
       "      <th>恶心_after</th>\n",
       "      <th>PLT_before</th>\n",
       "      <th>PLT_after</th>\n",
       "      <th>security_before</th>\n",
       "      <th>security_after</th>\n",
       "      <th>security_label</th>\n",
       "    </tr>\n",
       "  </thead>\n",
       "  <tbody>\n",
       "    <tr>\n",
       "      <th>0</th>\n",
       "      <td>1112533</td>\n",
       "      <td>12210690</td>\n",
       "      <td>丙戊酸钠缓释片(德巴金)[0.5g*30片]</td>\n",
       "      <td>1</td>\n",
       "      <td>0.5g*30片</td>\n",
       "      <td>0.5</td>\n",
       "      <td>1</td>\n",
       "      <td>2021-03-29 19:14:29</td>\n",
       "      <td>2021-03-29 19:14:29</td>\n",
       "      <td>核实</td>\n",
       "      <td>...</td>\n",
       "      <td>1</td>\n",
       "      <td>0</td>\n",
       "      <td>0</td>\n",
       "      <td>0</td>\n",
       "      <td>0</td>\n",
       "      <td>0</td>\n",
       "      <td>0</td>\n",
       "      <td>0.0</td>\n",
       "      <td>1.0</td>\n",
       "      <td>1.0</td>\n",
       "    </tr>\n",
       "    <tr>\n",
       "      <th>1</th>\n",
       "      <td>1112533</td>\n",
       "      <td>12210690</td>\n",
       "      <td>丙戊酸钠缓释片(德巴金)[0.5g*30片]</td>\n",
       "      <td>1</td>\n",
       "      <td>0.5g*30片</td>\n",
       "      <td>0.5</td>\n",
       "      <td>2</td>\n",
       "      <td>2021-03-31 09:09:50</td>\n",
       "      <td>2021-03-31 09:09:50</td>\n",
       "      <td>核实</td>\n",
       "      <td>...</td>\n",
       "      <td>1</td>\n",
       "      <td>0</td>\n",
       "      <td>0</td>\n",
       "      <td>0</td>\n",
       "      <td>0</td>\n",
       "      <td>0</td>\n",
       "      <td>0</td>\n",
       "      <td>0.0</td>\n",
       "      <td>1.0</td>\n",
       "      <td>1.0</td>\n",
       "    </tr>\n",
       "    <tr>\n",
       "      <th>2</th>\n",
       "      <td>1112533</td>\n",
       "      <td>12210690</td>\n",
       "      <td>丙戊酸钠缓释片(德巴金)[0.5g*30片]</td>\n",
       "      <td>1</td>\n",
       "      <td>0.5g*30片</td>\n",
       "      <td>0.75</td>\n",
       "      <td>1</td>\n",
       "      <td>2021-04-07 09:10:18</td>\n",
       "      <td>2021-04-07 09:10:18</td>\n",
       "      <td>核实</td>\n",
       "      <td>...</td>\n",
       "      <td>1</td>\n",
       "      <td>0</td>\n",
       "      <td>0</td>\n",
       "      <td>0</td>\n",
       "      <td>0</td>\n",
       "      <td>0</td>\n",
       "      <td>0</td>\n",
       "      <td>0.0</td>\n",
       "      <td>1.0</td>\n",
       "      <td>1.0</td>\n",
       "    </tr>\n",
       "    <tr>\n",
       "      <th>3</th>\n",
       "      <td>1112533</td>\n",
       "      <td>12210690</td>\n",
       "      <td>丙戊酸钠缓释片(德巴金)[0.5g*30片]</td>\n",
       "      <td>1</td>\n",
       "      <td>0.5g*30片</td>\n",
       "      <td>0.75</td>\n",
       "      <td>1</td>\n",
       "      <td>2021-04-09 19:49:24</td>\n",
       "      <td>2021-04-09 19:49:24</td>\n",
       "      <td>核实</td>\n",
       "      <td>...</td>\n",
       "      <td>1</td>\n",
       "      <td>0</td>\n",
       "      <td>0</td>\n",
       "      <td>0</td>\n",
       "      <td>0</td>\n",
       "      <td>0</td>\n",
       "      <td>0</td>\n",
       "      <td>0.0</td>\n",
       "      <td>1.0</td>\n",
       "      <td>1.0</td>\n",
       "    </tr>\n",
       "    <tr>\n",
       "      <th>4</th>\n",
       "      <td>1173560</td>\n",
       "      <td>13397293</td>\n",
       "      <td>丙戊酸钠缓释片(德巴金)[0.5g*30片]</td>\n",
       "      <td>1</td>\n",
       "      <td>0.5g*30片</td>\n",
       "      <td>0.5</td>\n",
       "      <td>2</td>\n",
       "      <td>2021-07-21 16:21:42</td>\n",
       "      <td>2021-07-21 16:21:42</td>\n",
       "      <td>核实</td>\n",
       "      <td>...</td>\n",
       "      <td>1</td>\n",
       "      <td>0</td>\n",
       "      <td>0</td>\n",
       "      <td>0</td>\n",
       "      <td>0</td>\n",
       "      <td>0</td>\n",
       "      <td>0</td>\n",
       "      <td>0.0</td>\n",
       "      <td>1.0</td>\n",
       "      <td>1.0</td>\n",
       "    </tr>\n",
       "  </tbody>\n",
       "</table>\n",
       "<p>5 rows × 37 columns</p>\n",
       "</div>"
      ],
      "text/plain": [
       "  patient_id   case_no               drug_name amount drug_spec dosage  \\\n",
       "0    1112533  12210690  丙戊酸钠缓释片(德巴金)[0.5g*30片]      1  0.5g*30片    0.5   \n",
       "1    1112533  12210690  丙戊酸钠缓释片(德巴金)[0.5g*30片]      1  0.5g*30片    0.5   \n",
       "2    1112533  12210690  丙戊酸钠缓释片(德巴金)[0.5g*30片]      1  0.5g*30片   0.75   \n",
       "3    1112533  12210690  丙戊酸钠缓释片(德巴金)[0.5g*30片]      1  0.5g*30片   0.75   \n",
       "4    1173560  13397293  丙戊酸钠缓释片(德巴金)[0.5g*30片]      1  0.5g*30片    0.5   \n",
       "\n",
       "  frequency      start_datetime        end_datetime statusdesc  ...  肝功_after  \\\n",
       "0         1 2021-03-29 19:14:29 2021-03-29 19:14:29         核实  ...         1   \n",
       "1         2 2021-03-31 09:09:50 2021-03-31 09:09:50         核实  ...         1   \n",
       "2         1 2021-04-07 09:10:18 2021-04-07 09:10:18         核实  ...         1   \n",
       "3         1 2021-04-09 19:49:24 2021-04-09 19:49:24         核实  ...         1   \n",
       "4         2 2021-07-21 16:21:42 2021-07-21 16:21:42         核实  ...         1   \n",
       "\n",
       "  皮疹_before 皮疹_after 恶心_before 恶心_after PLT_before  PLT_after  \\\n",
       "0         0        0         0        0          0          0   \n",
       "1         0        0         0        0          0          0   \n",
       "2         0        0         0        0          0          0   \n",
       "3         0        0         0        0          0          0   \n",
       "4         0        0         0        0          0          0   \n",
       "\n",
       "   security_before  security_after  security_label  \n",
       "0              0.0             1.0             1.0  \n",
       "1              0.0             1.0             1.0  \n",
       "2              0.0             1.0             1.0  \n",
       "3              0.0             1.0             1.0  \n",
       "4              0.0             1.0             1.0  \n",
       "\n",
       "[5 rows x 37 columns]"
      ]
     },
     "execution_count": 311,
     "metadata": {},
     "output_type": "execute_result"
    }
   ],
   "source": [
    "df_VPA_indicators.head()"
   ]
  },
  {
   "cell_type": "code",
   "execution_count": 312,
   "metadata": {},
   "outputs": [],
   "source": [
    "df_VPA_indicators.to_excel(project_path+'/data/processed_data/df_6.2_安全性指标转置.xlsx')"
   ]
  },
  {
   "cell_type": "markdown",
   "metadata": {},
   "source": [
    "# 添加丙戊酸TDM检测"
   ]
  },
  {
   "cell_type": "markdown",
   "metadata": {},
   "source": [
    "## 提取tdm检测数据"
   ]
  },
  {
   "cell_type": "code",
   "execution_count": 313,
   "metadata": {},
   "outputs": [],
   "source": [
    "# 提取用药后不良反应发生前的甲氨蝶呤血药浓度检测\n",
    "df_test_VPA=df_test[df_test['project_name'].str.contains('丙戊酸|VPA')]\n",
    "# 排序\n",
    "df_test_VPA=df_test_VPA.sort_values(['patient_id','case_no','test_date'])\n",
    "df_test_VPA=df_test_VPA.reset_index(drop=True)"
   ]
  },
  {
   "cell_type": "code",
   "execution_count": 314,
   "metadata": {},
   "outputs": [],
   "source": [
    "df_test_VPA['tdm_date']=df_test_VPA['test_date'].apply(lambda x: str(x).split(' ')[0])"
   ]
  },
  {
   "cell_type": "code",
   "execution_count": 315,
   "metadata": {},
   "outputs": [],
   "source": [
    "df_test_VPA['test_result']=df_test_VPA['test_result'].astype('float')"
   ]
  },
  {
   "cell_type": "code",
   "execution_count": 316,
   "metadata": {},
   "outputs": [
    {
     "data": {
      "text/plain": [
       "test_record_id        False\n",
       "patient_id            False\n",
       "case_no                True\n",
       "test_date             False\n",
       "clinical_diagnosis     True\n",
       "sample_type           False\n",
       "sample_time            True\n",
       "project_name          False\n",
       "test_result           False\n",
       "result_unit           False\n",
       "is_normal             False\n",
       "refer_scope            True\n",
       "synonym               False\n",
       "tdm_date              False\n",
       "dtype: bool"
      ]
     },
     "execution_count": 316,
     "metadata": {},
     "output_type": "execute_result"
    }
   ],
   "source": [
    "df_test_VPA.isnull().any()"
   ]
  },
  {
   "cell_type": "code",
   "execution_count": 317,
   "metadata": {},
   "outputs": [],
   "source": [
    "df_test_VPA=df_test_VPA[df_test_VPA.case_no.notnull()].reset_index(drop=True)"
   ]
  },
  {
   "cell_type": "code",
   "execution_count": 318,
   "metadata": {},
   "outputs": [
    {
     "name": "stdout",
     "output_type": "stream",
     "text": [
      "(349, 14)\n",
      "218\n"
     ]
    }
   ],
   "source": [
    "print(df_test_VPA.shape)\n",
    "print(df_test_VPA['patient_id'].nunique())"
   ]
  },
  {
   "cell_type": "code",
   "execution_count": 319,
   "metadata": {},
   "outputs": [
    {
     "name": "stdout",
     "output_type": "stream",
     "text": [
      "<class 'pandas.core.frame.DataFrame'>\n",
      "RangeIndex: 3175 entries, 0 to 3174\n",
      "Data columns (total 37 columns):\n",
      " #   Column           Non-Null Count  Dtype         \n",
      "---  ------           --------------  -----         \n",
      " 0   patient_id       3175 non-null   object        \n",
      " 1   case_no          3175 non-null   object        \n",
      " 2   drug_name        3175 non-null   object        \n",
      " 3   amount           3175 non-null   object        \n",
      " 4   drug_spec        3175 non-null   object        \n",
      " 5   dosage           3175 non-null   object        \n",
      " 6   frequency        3175 non-null   object        \n",
      " 7   start_datetime   3175 non-null   datetime64[ns]\n",
      " 8   end_datetime     3175 non-null   datetime64[ns]\n",
      " 9   statusdesc       3175 non-null   object        \n",
      " 10  日剂量              3175 non-null   float64       \n",
      " 11  start_date       3175 non-null   object        \n",
      " 12  end_date         3175 non-null   object        \n",
      " 13  long_d_order     3175 non-null   object        \n",
      " 14  分裂日期             3175 non-null   object        \n",
      " 15  起始标签             3175 non-null   object        \n",
      " 16  时间标签             3175 non-null   int64         \n",
      " 17  gender           3175 non-null   int64         \n",
      " 18  age              3175 non-null   int64         \n",
      " 19  身高               3172 non-null   float64       \n",
      " 20  体重               2714 non-null   float64       \n",
      " 21  BMI              2711 non-null   float64       \n",
      " 22  基础疾病             3175 non-null   int64         \n",
      " 23  adm_date         3175 non-null   datetime64[ns]\n",
      " 24  dis_date         3175 non-null   datetime64[ns]\n",
      " 25  住院时长             3175 non-null   int64         \n",
      " 26  肝功_before        3175 non-null   int64         \n",
      " 27  肝功_after         3175 non-null   int64         \n",
      " 28  皮疹_before        3175 non-null   int64         \n",
      " 29  皮疹_after         3175 non-null   int64         \n",
      " 30  恶心_before        3175 non-null   int64         \n",
      " 31  恶心_after         3175 non-null   int64         \n",
      " 32  PLT_before       3175 non-null   int64         \n",
      " 33  PLT_after        3175 non-null   int64         \n",
      " 34  security_before  3175 non-null   float64       \n",
      " 35  security_after   3175 non-null   float64       \n",
      " 36  security_label   3175 non-null   float64       \n",
      "dtypes: datetime64[ns](4), float64(7), int64(13), object(13)\n",
      "memory usage: 917.9+ KB\n"
     ]
    }
   ],
   "source": [
    "df_VPA_indicators.info()"
   ]
  },
  {
   "cell_type": "code",
   "execution_count": 320,
   "metadata": {},
   "outputs": [],
   "source": [
    "# 提取患者的tdm检测\n",
    "df_test_VPA_choose=df_test_VPA[df_test_VPA['patient_id'].isin(df_VPA_indicators.patient_id.unique())]\n",
    "df_test_VPA_choose=df_test_VPA_choose.sort_values(['patient_id','test_date'])\n",
    "df_test_VPA_choose=df_test_VPA_choose.reset_index(drop=True)"
   ]
  },
  {
   "cell_type": "code",
   "execution_count": 321,
   "metadata": {},
   "outputs": [
    {
     "name": "stdout",
     "output_type": "stream",
     "text": [
      "(342, 14)\n",
      "213\n",
      "236\n"
     ]
    }
   ],
   "source": [
    "print(df_test_VPA_choose.shape)\n",
    "print(df_test_VPA_choose['patient_id'].nunique())\n",
    "print(df_test_VPA_choose['case_no'].nunique())"
   ]
  },
  {
   "cell_type": "code",
   "execution_count": 322,
   "metadata": {},
   "outputs": [],
   "source": [
    "# 保存丙戊酸血药浓度检测\n",
    "df_test_VPA_choose.to_excel(project_path+'/data/processed_data/df_7.1_test_VPA.xlsx')"
   ]
  },
  {
   "cell_type": "markdown",
   "metadata": {},
   "source": [
    "## 合并tdm检测数据"
   ]
  },
  {
   "cell_type": "code",
   "execution_count": 323,
   "metadata": {},
   "outputs": [],
   "source": [
    "import datetime\n",
    "# 合并甲氨蝶呤tdm检测信息\n",
    "# 所有tdm检测都认为是稳态检测。\n",
    "temp_list=[]\n",
    "for i in np.unique(df_VPA_indicators['case_no']):\n",
    "    # 稳态 丙戊酸 temp\n",
    "    temp_steady=df_VPA_indicators[df_VPA_indicators['case_no']==i]\n",
    "    temp_steady=temp_steady.sort_values(['patient_id','case_no','分裂日期'])\n",
    "    temp_steady=temp_steady.reset_index(drop=True)\n",
    "    \n",
    "    # tdm temp\n",
    "    temp_tdm=df_test_VPA_choose[df_test_VPA_choose['case_no']==i]\n",
    "    temp_tdm=temp_tdm.sort_values(['patient_id','case_no','test_date'])\n",
    "    temp_tdm=temp_tdm.reset_index(drop=True)\n",
    "    # tdm都认为是稳态浓度，不考虑3天稳态\n",
    "    for j in range(temp_tdm.shape[0]):\n",
    "        # 提取tdm检测日期\n",
    "        tdm_date=pd.to_datetime(temp_tdm.loc[j,'tdm_date'])\n",
    "#         print(tdm_date)\n",
    "#         # 提取稳态前tdm前3天用药\n",
    "#         temp_before_drug=temp_before[(pd.to_datetime(temp_before['分裂日期'])<=tdm_date-datetime.timedelta(days=1))&\n",
    "#                                     (pd.to_datetime(temp_before['分裂日期'])>=tdm_date-datetime.timedelta(days=3))]\n",
    "        # 提取tdm前3天用药\n",
    "        temp_steady_drug=temp_steady[(pd.to_datetime(temp_steady['分裂日期'])<=tdm_date-datetime.timedelta(days=1)) &\n",
    "                                    (pd.to_datetime(temp_steady['分裂日期'])>=tdm_date-datetime.timedelta(days=4))]\n",
    "        # 如果稳态前和稳态时用药有变化，则舍弃tdm数据，否则，并入到VPA用药数据中\n",
    "#         if temp_before_drug.shape[0] != temp_steady_drug.shape[0]:\n",
    "#             continue\n",
    "#         else:\n",
    "        if temp_steady_drug.shape[0]>0:\n",
    "            # 获取最近用药的索引\n",
    "            index=temp_steady_drug.index.tolist()[-1]\n",
    "            temp_steady.loc[index,'tdm_date']=temp_tdm.loc[j,'tdm_date']\n",
    "            temp_steady.loc[index,'test_result']=temp_tdm.loc[j,'test_result']\n",
    "    temp_list.append(temp_steady)"
   ]
  },
  {
   "cell_type": "code",
   "execution_count": 324,
   "metadata": {},
   "outputs": [
    {
     "data": {
      "text/plain": [
       "Timestamp('2020-08-14 00:00:00')"
      ]
     },
     "execution_count": 324,
     "metadata": {},
     "output_type": "execute_result"
    }
   ],
   "source": [
    "tdm_date"
   ]
  },
  {
   "cell_type": "code",
   "execution_count": 325,
   "metadata": {},
   "outputs": [],
   "source": [
    "df_VPA_tdm = pd.concat(temp_list,axis=0).reset_index(drop=True)\n",
    "# df_VPA_tdm = df_VPA_tdm.drop_duplicates().reset_index(drop=True)\n",
    "del temp_list"
   ]
  },
  {
   "cell_type": "code",
   "execution_count": 326,
   "metadata": {},
   "outputs": [
    {
     "name": "stdout",
     "output_type": "stream",
     "text": [
      "(3175, 39)\n",
      "213\n",
      "236\n"
     ]
    }
   ],
   "source": [
    "print(df_VPA_tdm.shape)\n",
    "print(df_VPA_tdm['patient_id'].nunique())\n",
    "print(df_VPA_tdm['case_no'].nunique())"
   ]
  },
  {
   "cell_type": "code",
   "execution_count": 327,
   "metadata": {},
   "outputs": [
    {
     "data": {
      "text/plain": [
       "Index(['patient_id', 'case_no', 'drug_name', 'amount', 'drug_spec', 'dosage',\n",
       "       'frequency', 'start_datetime', 'end_datetime', 'statusdesc', '日剂量',\n",
       "       'start_date', 'end_date', 'long_d_order', '分裂日期', '起始标签', '时间标签',\n",
       "       'gender', 'age', '身高', '体重', 'BMI', '基础疾病', 'adm_date', 'dis_date',\n",
       "       '住院时长', '肝功_before', '肝功_after', '皮疹_before', '皮疹_after', '恶心_before',\n",
       "       '恶心_after', 'PLT_before', 'PLT_after', 'security_before',\n",
       "       'security_after', 'security_label', 'tdm_date', 'test_result'],\n",
       "      dtype='object')"
      ]
     },
     "execution_count": 327,
     "metadata": {},
     "output_type": "execute_result"
    }
   ],
   "source": [
    "df_VPA_tdm.columns"
   ]
  },
  {
   "cell_type": "code",
   "execution_count": 328,
   "metadata": {},
   "outputs": [],
   "source": [
    "# 保存添加tdm检测的甲氨蝶呤用药\n",
    "writer=pd.ExcelWriter(project_path+'/data/processed_data/df_7.2_添加tdm检测.xlsx')\n",
    "df_VPA_tdm.to_excel(writer)\n",
    "writer.save()"
   ]
  },
  {
   "cell_type": "markdown",
   "metadata": {},
   "source": [
    "## 删除tdm为空的数据"
   ]
  },
  {
   "cell_type": "code",
   "execution_count": 329,
   "metadata": {},
   "outputs": [],
   "source": [
    "df_VPA_tdm=df_VPA_tdm[df_VPA_tdm['test_result'].notnull()].reset_index(drop=True)"
   ]
  },
  {
   "cell_type": "code",
   "execution_count": 330,
   "metadata": {},
   "outputs": [
    {
     "name": "stdout",
     "output_type": "stream",
     "text": [
      "(270, 39)\n",
      "177\n",
      "196\n"
     ]
    }
   ],
   "source": [
    "print(df_VPA_tdm.shape)\n",
    "print(df_VPA_tdm['patient_id'].nunique())\n",
    "print(df_VPA_tdm['case_no'].nunique())"
   ]
  },
  {
   "cell_type": "code",
   "execution_count": 331,
   "metadata": {},
   "outputs": [],
   "source": [
    "# 保存tdm非空的用药\n",
    "writer=pd.ExcelWriter(project_path+'/data/processed_data/df_7.3_tdm非空用药.xlsx')\n",
    "df_VPA_tdm.to_excel(writer)\n",
    "writer.save()"
   ]
  },
  {
   "cell_type": "markdown",
   "metadata": {},
   "source": [
    "## 插入有效性标签"
   ]
  },
  {
   "cell_type": "code",
   "execution_count": 332,
   "metadata": {},
   "outputs": [],
   "source": [
    "df_VPA_tdm['efficiency_label']=df_VPA_tdm['test_result'].apply(lambda x: 1 if 50<=float(x)<=100 else 0)"
   ]
  },
  {
   "cell_type": "code",
   "execution_count": 333,
   "metadata": {},
   "outputs": [],
   "source": [
    "df_VPA_tdm.to_excel(project_path+'/data/processed_data/df_7.4_插入有效性标签.xlsx')"
   ]
  },
  {
   "cell_type": "markdown",
   "metadata": {},
   "source": [
    "## 提取安全有效的用药数据"
   ]
  },
  {
   "cell_type": "code",
   "execution_count": 334,
   "metadata": {},
   "outputs": [],
   "source": [
    "# 安全标签为1，有效标签为1\n",
    "df_VPA_tdm_choose=df_VPA_tdm[(df_VPA_tdm['security_label']==1) & (df_VPA_tdm['efficiency_label']==1)]"
   ]
  },
  {
   "cell_type": "code",
   "execution_count": 335,
   "metadata": {},
   "outputs": [
    {
     "name": "stdout",
     "output_type": "stream",
     "text": [
      "(151, 40)\n",
      "110\n"
     ]
    }
   ],
   "source": [
    "print(df_VPA_tdm_choose.shape)\n",
    "print(df_VPA_tdm_choose['patient_id'].nunique())"
   ]
  },
  {
   "cell_type": "code",
   "execution_count": 336,
   "metadata": {},
   "outputs": [],
   "source": [
    "df_VPA_tdm_choose.to_excel(project_path+'/data/processed_data/df_7.4_筛选安全有效的用药数据.xlsx')"
   ]
  },
  {
   "cell_type": "code",
   "execution_count": 337,
   "metadata": {},
   "outputs": [],
   "source": [
    "# 非安全有效指标\n",
    "df_VPA_tdm_no=df_VPA_tdm[~ ((df_VPA_tdm['security_label']==1) & (df_VPA_tdm['efficiency_label']==1))]"
   ]
  },
  {
   "cell_type": "code",
   "execution_count": 338,
   "metadata": {},
   "outputs": [
    {
     "name": "stdout",
     "output_type": "stream",
     "text": [
      "(119, 40)\n",
      "95\n"
     ]
    }
   ],
   "source": [
    "print(df_VPA_tdm_no.shape)\n",
    "print(df_VPA_tdm_no['patient_id'].nunique())"
   ]
  },
  {
   "cell_type": "code",
   "execution_count": 339,
   "metadata": {},
   "outputs": [],
   "source": [
    "# ## 统计用药和tdm先后\n",
    "\n",
    "# # 丙戊酸首次用药\n",
    "# # 排序\n",
    "# df_VPA=df_VPA.sort_values(['patient_id','case_no','start_datetime'])\n",
    "# # 取第一次用药\n",
    "# df_VPA_first=df_VPA.drop_duplicates(['case_no'],keep='first')\n",
    "\n",
    "# df_VPA_first.info()\n",
    "\n",
    "# print(df_VPA_first.shape)\n",
    "# print(df_VPA_first['patient_id'].nunique())\n",
    "\n",
    "# # tdm首次检测\n",
    "# # 排序\n",
    "# df_test_VPA=df_test_VPA.sort_values(['patient_id','case_no','test_date'])\n",
    "# # 取第一次tdm\n",
    "# df_test_VPA_first=df_test_VPA.drop_duplicates(['case_no'],keep='first')\n",
    "# df_test_VPA_first['case_no']=df_test_VPA_first['case_no'].astype(str)\n",
    "\n",
    "# df_test_VPA_first.info()\n",
    "\n",
    "# print(df_test_VPA_first.shape)\n",
    "# print(df_test_VPA_first['patient_id'].nunique())\n",
    "\n",
    "# # tdm时间早于用药的id\n",
    "# temp_list=[]\n",
    "# for i in df_VPA_first.case_no.unique():\n",
    "#     temp_VPA=df_VPA_first[df_VPA_first['case_no']==i]\n",
    "#     temp_VPA=temp_VPA.reset_index(drop=True)\n",
    "#     temp_tdm=df_test_VPA_first[df_test_VPA_first['case_no']==i]\n",
    "#     break\n",
    "#     temp_tdm=temp_tdm.reset_index(drop=True)\n",
    "#     if temp_VPA.shape[0]>0:\n",
    "#         if temp_VPA.loc[0,'start_datetime'] >= temp_tdm.loc[0,'test_date']:\n",
    "#             temp_list.append(temp_VPA)\n",
    "\n",
    "# df_temp_compare = pd.concat(temp_list,axis=0).reset_index(drop=True)\n",
    "# del temp_list\n",
    "\n",
    "# print(df_temp_compare.shape)\n",
    "# print(df_temp_compare['patient_id'].nunique())\n",
    "\n",
    "# df_temp_compare.to_excel(project_path+'/data/processed_data/df_7.4_比较tdm和用药时间先后.xlsx')"
   ]
  },
  {
   "cell_type": "markdown",
   "metadata": {},
   "source": [
    "## 统计tdm检测前用药天数"
   ]
  },
  {
   "cell_type": "code",
   "execution_count": 340,
   "metadata": {},
   "outputs": [],
   "source": [
    "# 纳排后不同用药稳态在tdm检测前天数"
   ]
  },
  {
   "cell_type": "code",
   "execution_count": 341,
   "metadata": {},
   "outputs": [],
   "source": [
    "# 1天用药稳态\n",
    "df_VPA_steady_1d=df_VPA_modification.copy()"
   ]
  },
  {
   "cell_type": "code",
   "execution_count": 342,
   "metadata": {},
   "outputs": [
    {
     "name": "stdout",
     "output_type": "stream",
     "text": [
      "10001302\n",
      "10005574\n",
      "10019847\n",
      "10024628\n",
      "10028911\n",
      "10130473\n",
      "10146112\n",
      "10171606\n",
      "10200584\n",
      "10293806\n",
      "10297961\n",
      "10338392\n",
      "10343367\n",
      "10357709\n",
      "10368285\n",
      "10389652\n",
      "10526969\n",
      "10559425\n",
      "10582637\n",
      "10588084\n",
      "10616235\n",
      "10674663\n",
      "10692337\n",
      "10830666\n",
      "10859517\n",
      "10864711\n",
      "10877290\n",
      "10914758\n",
      "10941636\n",
      "10989230\n",
      "11022153\n",
      "11069250\n",
      "11103754\n",
      "11200975\n",
      "11223919\n",
      "11238946\n",
      "11291598\n",
      "11351405\n",
      "11547061\n",
      "11747590\n",
      "11787937\n",
      "12001085\n",
      "12055514\n",
      "12069121\n",
      "12070485\n",
      "12165203\n",
      "12210690\n",
      "12238352\n",
      "12297734\n",
      "12313528\n",
      "12325442\n",
      "12327058\n",
      "12415154\n",
      "12550325\n",
      "12610841\n",
      "12631919\n",
      "12693940\n",
      "12696147\n",
      "12782405\n",
      "12835527\n",
      "12855725\n",
      "13022476\n",
      "13063464\n",
      "13150462\n",
      "13176502\n",
      "13266036\n",
      "13317922\n",
      "13335769\n",
      "13397293\n",
      "13425571\n",
      "13491055\n",
      "13561501\n",
      "13692578\n",
      "13817948\n",
      "13951019\n",
      "13997754\n",
      "14040566\n",
      "14103871\n",
      "14107745\n",
      "14120909\n",
      "14135942\n",
      "14184132\n",
      "14322457\n",
      "14400275\n",
      "14701280\n",
      "14712892\n",
      "14900947\n",
      "15026052\n",
      "4028318\n",
      "4045163\n",
      "4069083\n",
      "4103620\n",
      "4112018\n",
      "4133350\n",
      "4151975\n",
      "4191397\n",
      "4216082\n",
      "4236927\n",
      "4255479\n",
      "4267891\n",
      "4283749\n",
      "4304073\n",
      "4364618\n",
      "4366097\n",
      "4446056\n",
      "4446680\n",
      "4536465\n",
      "4553217\n",
      "4560293\n",
      "4569640\n",
      "4579522\n",
      "4592169\n",
      "4707313\n",
      "4761372\n",
      "4821017\n",
      "4842956\n",
      "4860902\n",
      "4891032\n",
      "4918748\n",
      "4922567\n",
      "4926506\n",
      "5044456\n",
      "5082652\n",
      "5125578\n",
      "5180331\n",
      "5278319\n",
      "5302878\n",
      "5375034\n",
      "5386601\n",
      "5407981\n",
      "5436932\n",
      "5544859\n",
      "5612768\n",
      "5634908\n",
      "5638515\n",
      "5653155\n",
      "5679938\n",
      "5682081\n",
      "5683098\n",
      "5696642\n",
      "5708206\n",
      "5722142\n",
      "5779804\n",
      "5892598\n",
      "5926069\n",
      "5968455\n",
      "6000741\n",
      "6085020\n",
      "6145716\n",
      "6158479\n",
      "6242952\n",
      "6268920\n",
      "6324940\n",
      "6338386\n",
      "6352376\n",
      "6361827\n",
      "6435824\n",
      "6486860\n",
      "6494466\n",
      "6495430\n",
      "6518811\n",
      "6588818\n",
      "6591824\n",
      "6610460\n",
      "6645105\n",
      "6655263\n",
      "6667714\n",
      "6800640\n",
      "6884107\n",
      "6917667\n",
      "6982291\n",
      "7079833\n",
      "7234285\n",
      "7234799\n",
      "7251581\n",
      "7284196\n",
      "7284844\n",
      "7309258\n",
      "7423611\n",
      "7480196\n",
      "7531700\n",
      "7564885\n",
      "7661760\n",
      "7689281\n",
      "7719716\n",
      "7728906\n",
      "7731315\n",
      "7732089\n",
      "7749789\n",
      "7754134\n",
      "7830248\n",
      "7869986\n",
      "7882556\n",
      "7891161\n",
      "7901590\n",
      "7937051\n",
      "7967752\n",
      "8012028\n",
      "8039284\n",
      "8138479\n",
      "8150786\n",
      "8231866\n",
      "8311059\n",
      "8368444\n",
      "8390447\n",
      "8399009\n",
      "8435856\n",
      "8463579\n",
      "8506469\n",
      "8542045\n",
      "8806185\n",
      "8838428\n",
      "8839333\n",
      "8898454\n",
      "8915869\n",
      "8955947\n",
      "8981054\n",
      "8981088\n",
      "9077075\n",
      "9123719\n",
      "9224530\n",
      "9243738\n",
      "9391429\n",
      "9513550\n",
      "9574993\n",
      "9601149\n",
      "9687004\n",
      "9691399\n",
      "9706442\n",
      "9739796\n",
      "9781575\n",
      "9812242\n",
      "9818116\n",
      "9835190\n",
      "9890262\n",
      "9910592\n",
      "9963165\n"
     ]
    }
   ],
   "source": [
    "# 2天用药稳态\n",
    "df_VPA_steady_2d=df_VPA_modification.copy()\n",
    "# 到稳态血药浓度（同一剂量至少连续服用3天)\n",
    "temp_list=[]\n",
    "for i in df_VPA_steady_2d['case_no'].unique():\n",
    "    print(i)\n",
    "    temp=df_VPA_steady_2d[df_VPA_steady_2d['case_no']==i]\n",
    "    temp=temp.reset_index(drop=True)\n",
    "    j=0\n",
    "    while j < temp.shape[0]:\n",
    "#         print(j)\n",
    "        # 连续服药3天，tdm达到稳态。1.剂量连续3天；2. 时间连续3天\n",
    "        dosage_judge=temp.loc[j,'日剂量']    \n",
    "        # 1. 剂量判断\n",
    "        break_bool=False\n",
    "        for k in range(j+1,temp.shape[0]):\n",
    "            differ = (pd.to_datetime(temp.loc[k,'分裂日期'])-pd.to_datetime(temp.loc[k-1,'分裂日期'])).days\n",
    "            if dosage_judge != temp.loc[k,'日剂量'] or differ != 1:\n",
    "                # 判断是否中断\n",
    "                break_bool=True\n",
    "                break\n",
    "        # 是否是最后一天\n",
    "        if k != temp.shape[0]-1:\n",
    "            # 是否是稳态\n",
    "            if k-1-j>=1:\n",
    "                temp_list.append(temp.loc[j:k-1,])\n",
    "            j=k\n",
    "            continue\n",
    "        else:\n",
    "            # 最后一天是否中断\n",
    "            if break_bool:\n",
    "                # 是否是稳态\n",
    "                if k-1-j>=1:\n",
    "                    temp_list.append(temp.loc[j:k-1,])\n",
    "            else:\n",
    "                if k-j >=1:\n",
    "                    temp_list.append(temp.loc[j:k,])\n",
    "            j=k+1\n",
    "# list转换为DataFrame\n",
    "df_VPA_steady_2d = pd.concat(temp_list,axis=0).reset_index(drop=True)\n",
    "del temp_list"
   ]
  },
  {
   "cell_type": "code",
   "execution_count": 343,
   "metadata": {},
   "outputs": [
    {
     "name": "stdout",
     "output_type": "stream",
     "text": [
      "(2522, 17)\n",
      "155\n"
     ]
    }
   ],
   "source": [
    "print(df_VPA_steady_2d.shape)\n",
    "print(df_VPA_steady_2d['patient_id'].nunique())"
   ]
  },
  {
   "cell_type": "code",
   "execution_count": 344,
   "metadata": {},
   "outputs": [],
   "source": [
    "df_VPA_steady_2d.to_excel(project_path+'/data/df_VPA_steady_2d.xlsx')"
   ]
  },
  {
   "cell_type": "code",
   "execution_count": 345,
   "metadata": {},
   "outputs": [
    {
     "name": "stdout",
     "output_type": "stream",
     "text": [
      "10001302\n",
      "10005574\n",
      "10019847\n",
      "10024628\n",
      "10028911\n",
      "10130473\n",
      "10146112\n",
      "10171606\n",
      "10200584\n",
      "10293806\n",
      "10297961\n",
      "10338392\n",
      "10343367\n",
      "10357709\n",
      "10368285\n",
      "10389652\n",
      "10526969\n",
      "10559425\n",
      "10582637\n",
      "10588084\n",
      "10616235\n",
      "10674663\n",
      "10692337\n",
      "10830666\n",
      "10859517\n",
      "10864711\n",
      "10877290\n",
      "10914758\n",
      "10941636\n",
      "10989230\n",
      "11022153\n",
      "11069250\n",
      "11103754\n",
      "11200975\n",
      "11223919\n",
      "11238946\n",
      "11291598\n",
      "11351405\n",
      "11547061\n",
      "11747590\n",
      "11787937\n",
      "12001085\n",
      "12055514\n",
      "12069121\n",
      "12070485\n",
      "12165203\n",
      "12210690\n",
      "12238352\n",
      "12297734\n",
      "12313528\n",
      "12325442\n",
      "12327058\n",
      "12415154\n",
      "12550325\n",
      "12610841\n",
      "12631919\n",
      "12693940\n",
      "12696147\n",
      "12782405\n",
      "12835527\n",
      "12855725\n",
      "13022476\n",
      "13063464\n",
      "13150462\n",
      "13176502\n",
      "13266036\n",
      "13317922\n",
      "13335769\n",
      "13397293\n",
      "13425571\n",
      "13491055\n",
      "13561501\n",
      "13692578\n",
      "13817948\n",
      "13951019\n",
      "13997754\n",
      "14040566\n",
      "14103871\n",
      "14107745\n",
      "14120909\n",
      "14135942\n",
      "14184132\n",
      "14322457\n",
      "14400275\n",
      "14701280\n",
      "14712892\n",
      "14900947\n",
      "15026052\n",
      "4028318\n",
      "4045163\n",
      "4069083\n",
      "4103620\n",
      "4112018\n",
      "4133350\n",
      "4151975\n",
      "4191397\n",
      "4216082\n",
      "4236927\n",
      "4255479\n",
      "4267891\n",
      "4283749\n",
      "4304073\n",
      "4364618\n",
      "4366097\n",
      "4446056\n",
      "4446680\n",
      "4536465\n",
      "4553217\n",
      "4560293\n",
      "4569640\n",
      "4579522\n",
      "4592169\n",
      "4707313\n",
      "4761372\n",
      "4821017\n",
      "4842956\n",
      "4860902\n",
      "4891032\n",
      "4918748\n",
      "4922567\n",
      "4926506\n",
      "5044456\n",
      "5082652\n",
      "5125578\n",
      "5180331\n",
      "5278319\n",
      "5302878\n",
      "5375034\n",
      "5386601\n",
      "5407981\n",
      "5436932\n",
      "5544859\n",
      "5612768\n",
      "5634908\n",
      "5638515\n",
      "5653155\n",
      "5679938\n",
      "5682081\n",
      "5683098\n",
      "5696642\n",
      "5708206\n",
      "5722142\n",
      "5779804\n",
      "5892598\n",
      "5926069\n",
      "5968455\n",
      "6000741\n",
      "6085020\n",
      "6145716\n",
      "6158479\n",
      "6242952\n",
      "6268920\n",
      "6324940\n",
      "6338386\n",
      "6352376\n",
      "6361827\n",
      "6435824\n",
      "6486860\n",
      "6494466\n",
      "6495430\n",
      "6518811\n",
      "6588818\n",
      "6591824\n",
      "6610460\n",
      "6645105\n",
      "6655263\n",
      "6667714\n",
      "6800640\n",
      "6884107\n",
      "6917667\n",
      "6982291\n",
      "7079833\n",
      "7234285\n",
      "7234799\n",
      "7251581\n",
      "7284196\n",
      "7284844\n",
      "7309258\n",
      "7423611\n",
      "7480196\n",
      "7531700\n",
      "7564885\n",
      "7661760\n",
      "7689281\n",
      "7719716\n",
      "7728906\n",
      "7731315\n",
      "7732089\n",
      "7749789\n",
      "7754134\n",
      "7830248\n",
      "7869986\n",
      "7882556\n",
      "7891161\n",
      "7901590\n",
      "7937051\n",
      "7967752\n",
      "8012028\n",
      "8039284\n",
      "8138479\n",
      "8150786\n",
      "8231866\n",
      "8311059\n",
      "8368444\n",
      "8390447\n",
      "8399009\n",
      "8435856\n",
      "8463579\n",
      "8506469\n",
      "8542045\n",
      "8806185\n",
      "8838428\n",
      "8839333\n",
      "8898454\n",
      "8915869\n",
      "8955947\n",
      "8981054\n",
      "8981088\n",
      "9077075\n",
      "9123719\n",
      "9224530\n",
      "9243738\n",
      "9391429\n",
      "9513550\n",
      "9574993\n",
      "9601149\n",
      "9687004\n",
      "9691399\n",
      "9706442\n",
      "9739796\n",
      "9781575\n",
      "9812242\n",
      "9818116\n",
      "9835190\n",
      "9890262\n",
      "9910592\n",
      "9963165\n"
     ]
    }
   ],
   "source": [
    "# 同一剂量3天连续用药\n",
    "df_VPA_steady=df_VPA_modification.copy()\n",
    "# 到稳态血药浓度（同一剂量至少连续服用3天)\n",
    "temp_list=[]\n",
    "for i in df_VPA_steady['case_no'].unique():\n",
    "    print(i)\n",
    "    temp=df_VPA_steady[df_VPA_steady['case_no']==i]\n",
    "    temp=temp.reset_index(drop=True)\n",
    "    j=0\n",
    "    while j < temp.shape[0]:\n",
    "#         print(j)\n",
    "        # 连续服药3天，tdm达到稳态。1.剂量连续3天；2. 时间连续3天\n",
    "        dosage_judge=temp.loc[j,'日剂量']    \n",
    "        # 1. 剂量判断\n",
    "        break_bool=False\n",
    "        for k in range(j+1,temp.shape[0]):\n",
    "            differ = (pd.to_datetime(temp.loc[k,'分裂日期'])-pd.to_datetime(temp.loc[k-1,'分裂日期'])).days\n",
    "            if dosage_judge != temp.loc[k,'日剂量'] or differ != 1:\n",
    "                # 判断是否中断\n",
    "                break_bool=True\n",
    "                break\n",
    "        # 是否是最后一天\n",
    "        if k != temp.shape[0]-1:\n",
    "            # 是否是稳态\n",
    "            if k-1-j>=2:\n",
    "                temp_list.append(temp.loc[j:k-1,])\n",
    "            j=k\n",
    "            continue\n",
    "        else:\n",
    "            # 最后一天是否中断\n",
    "            if break_bool:\n",
    "                # 是否是稳态\n",
    "                if k-1-j>=2:\n",
    "                    temp_list.append(temp.loc[j:k-1,])\n",
    "            else:\n",
    "                if k-j >=2:\n",
    "                    temp_list.append(temp.loc[j:k,])\n",
    "            j=k+1\n",
    "\n",
    "# list转换为DataFrame\n",
    "df_VPA_steady = pd.concat(temp_list,axis=0).reset_index(drop=True)\n",
    "del temp_list"
   ]
  },
  {
   "cell_type": "code",
   "execution_count": 346,
   "metadata": {},
   "outputs": [
    {
     "name": "stdout",
     "output_type": "stream",
     "text": [
      "0\n"
     ]
    }
   ],
   "source": [
    "df_aaa=pd.DataFrame(data=[],columns=['aaa','bbb'])\n",
    "print(df_aaa.shape[0])"
   ]
  },
  {
   "cell_type": "code",
   "execution_count": 347,
   "metadata": {},
   "outputs": [],
   "source": [
    "# 3天用药稳态\n",
    "drug_days_list=[]\n",
    "case_no_list=[]\n",
    "for i in df_VPA_steady_1d.case_no.unique():\n",
    "#     print(i)\n",
    "    case_no_list.append(i)\n",
    "    # 1天稳态\n",
    "    temp_VPA_1d=df_VPA_steady_1d[df_VPA_steady_1d['case_no']==i]\n",
    "    temp_VPA_1d=temp_VPA_1d.reset_index(drop=True)\n",
    "    # 2天稳态\n",
    "    temp_VPA_2d=df_VPA_steady_2d[df_VPA_steady_2d['case_no']==i]\n",
    "    temp_VPA_2d=temp_VPA_2d.reset_index(drop=True)\n",
    "    # 3天稳态\n",
    "    temp_VPA=df_VPA_steady[df_VPA_steady['case_no']==i]\n",
    "    temp_VPA=temp_VPA.reset_index(drop=True)\n",
    "    # tdm检测\n",
    "    temp_tdm=df_test_VPA[df_test_VPA['case_no']==i]\n",
    "    temp_tdm=temp_tdm.reset_index(drop=True)\n",
    "    day_list=[]\n",
    "    for j in range(temp_tdm.shape[0]):\n",
    "        # 1天稳态\n",
    "        temp2=temp_VPA_1d[(pd.to_datetime(temp_VPA_1d['分裂日期'])>=pd.to_datetime(temp_tdm.loc[j,'tdm_date'])-datetime.timedelta(days=3))&\n",
    "                          (temp_VPA_1d['分裂日期']<temp_tdm.loc[j,'tdm_date'])]\n",
    "        if temp2.shape[0]<1:\n",
    "            day_list.append(0)\n",
    "        else:\n",
    "            day_list.append(1)\n",
    "        # 2天稳态\n",
    "        temp2=temp_VPA_2d[(pd.to_datetime(temp_VPA_2d['分裂日期'])>=pd.to_datetime(temp_tdm.loc[j,'tdm_date'])-datetime.timedelta(days=2))&\n",
    "                          (temp_VPA_2d['分裂日期']<temp_tdm.loc[j,'tdm_date'])]\n",
    "        if temp2.shape[0]<2:\n",
    "            day_list.append(0)\n",
    "        else:\n",
    "            day_list.append(1)\n",
    "        # 3天稳态\n",
    "        temp2=temp_VPA[(pd.to_datetime(temp_VPA['分裂日期'])>=pd.to_datetime(temp_tdm.loc[j,'tdm_date'])-datetime.timedelta(days=3))&\n",
    "                      (temp_VPA['分裂日期']<temp_tdm.loc[j,'tdm_date'])]\n",
    "        if temp2.shape[0]<3:\n",
    "            day_list.append(0)\n",
    "        else:\n",
    "            day_list.append(1)\n",
    "    drug_days_list.append(day_list)"
   ]
  },
  {
   "cell_type": "code",
   "execution_count": 348,
   "metadata": {},
   "outputs": [],
   "source": [
    "df_tdm_days_count=pd.DataFrame(data=drug_days_list,index=case_no_list,columns=['1d_tdm1','2d_tdm1','3d_tdm1',\n",
    "                                                                               '1d_tdm2','2d_tdm2','3d_tdm2',\n",
    "                                                                               '1d_tdm3','2d_tdm3','3d_tdm3',\n",
    "                                                                               '1d_tdm4','2d_tdm4','3d_tdm4',\n",
    "                                                                               '1d_tdm5','2d_tdm5','3d_tdm5'])"
   ]
  },
  {
   "cell_type": "code",
   "execution_count": 349,
   "metadata": {},
   "outputs": [],
   "source": [
    "df_tdm_days_count.to_excel(project_path+'/data/processed_data/df_7.5_统计tdm检测前用药天数.xlsx')"
   ]
  },
  {
   "cell_type": "markdown",
   "metadata": {},
   "source": [
    "# 增加联合用药"
   ]
  },
  {
   "cell_type": "markdown",
   "metadata": {},
   "source": [
    "## 提取联合用药"
   ]
  },
  {
   "cell_type": "code",
   "execution_count": 350,
   "metadata": {},
   "outputs": [],
   "source": [
    "# 提取患者的联合用药\n",
    "df_drug_other=df_doctor_order[~ df_doctor_order['drug_name'].str.contains('丙戊酸|葡萄糖|氯化钠')]\n",
    "# 患者限定\n",
    "df_drug_other=df_drug_other[df_drug_other['case_no'].isin(df_VPA_tdm['case_no'].unique())]\n",
    "df_drug_other=df_drug_other.reset_index(drop=True)"
   ]
  },
  {
   "cell_type": "code",
   "execution_count": 351,
   "metadata": {},
   "outputs": [
    {
     "name": "stdout",
     "output_type": "stream",
     "text": [
      "(19916, 10)\n",
      "177\n"
     ]
    }
   ],
   "source": [
    "print(df_drug_other.shape)\n",
    "print(df_drug_other['patient_id'].nunique())"
   ]
  },
  {
   "cell_type": "code",
   "execution_count": 352,
   "metadata": {
    "scrolled": true
   },
   "outputs": [
    {
     "data": {
      "text/html": [
       "<div>\n",
       "<style scoped>\n",
       "    .dataframe tbody tr th:only-of-type {\n",
       "        vertical-align: middle;\n",
       "    }\n",
       "\n",
       "    .dataframe tbody tr th {\n",
       "        vertical-align: top;\n",
       "    }\n",
       "\n",
       "    .dataframe thead th {\n",
       "        text-align: right;\n",
       "    }\n",
       "</style>\n",
       "<table border=\"1\" class=\"dataframe\">\n",
       "  <thead>\n",
       "    <tr style=\"text-align: right;\">\n",
       "      <th></th>\n",
       "      <th>patient_id</th>\n",
       "      <th>case_no</th>\n",
       "      <th>drug_name</th>\n",
       "      <th>amount</th>\n",
       "      <th>drug_spec</th>\n",
       "      <th>dosage</th>\n",
       "      <th>frequency</th>\n",
       "      <th>start_datetime</th>\n",
       "      <th>end_datetime</th>\n",
       "      <th>statusdesc</th>\n",
       "    </tr>\n",
       "  </thead>\n",
       "  <tbody>\n",
       "    <tr>\n",
       "      <th>0</th>\n",
       "      <td>6873870</td>\n",
       "      <td>10001302</td>\n",
       "      <td>齐拉西酮冻干粉针(江都医院)[30mg*1瓶]</td>\n",
       "      <td>1</td>\n",
       "      <td>30mg*1瓶</td>\n",
       "      <td>20mg</td>\n",
       "      <td>ONCE</td>\n",
       "      <td>2020-08-15 18:59:57</td>\n",
       "      <td>NaT</td>\n",
       "      <td>核实</td>\n",
       "    </tr>\n",
       "    <tr>\n",
       "      <th>1</th>\n",
       "      <td>6873870</td>\n",
       "      <td>10001302</td>\n",
       "      <td>行为矫正治疗</td>\n",
       "      <td>20</td>\n",
       "      <td>NaN</td>\n",
       "      <td>NaN</td>\n",
       "      <td>1/日</td>\n",
       "      <td>2020-08-15 19:45:12</td>\n",
       "      <td>2020-09-04 11:38:00</td>\n",
       "      <td>停止</td>\n",
       "    </tr>\n",
       "    <tr>\n",
       "      <th>2</th>\n",
       "      <td>6873870</td>\n",
       "      <td>10001302</td>\n",
       "      <td>静脉输液第二组起每组</td>\n",
       "      <td>3</td>\n",
       "      <td>NaN</td>\n",
       "      <td>NaN</td>\n",
       "      <td>1/日</td>\n",
       "      <td>2020-08-17 11:24:51</td>\n",
       "      <td>2020-08-20 10:11:04</td>\n",
       "      <td>停止</td>\n",
       "    </tr>\n",
       "    <tr>\n",
       "      <th>3</th>\n",
       "      <td>6873870</td>\n",
       "      <td>10001302</td>\n",
       "      <td>脑苷肌肽注射液(欧迪美)[2ml*1支]</td>\n",
       "      <td>6</td>\n",
       "      <td>2ml*1支</td>\n",
       "      <td>4ml</td>\n",
       "      <td>1/日</td>\n",
       "      <td>2020-08-17 11:25:27</td>\n",
       "      <td>2020-08-20 10:11:09</td>\n",
       "      <td>停止</td>\n",
       "    </tr>\n",
       "    <tr>\n",
       "      <th>4</th>\n",
       "      <td>6873870</td>\n",
       "      <td>10001302</td>\n",
       "      <td>静脉输液第二组起每组</td>\n",
       "      <td>3</td>\n",
       "      <td>NaN</td>\n",
       "      <td>NaN</td>\n",
       "      <td>1/日</td>\n",
       "      <td>2020-08-17 11:25:27</td>\n",
       "      <td>2020-08-20 10:11:09</td>\n",
       "      <td>停止</td>\n",
       "    </tr>\n",
       "    <tr>\n",
       "      <th>...</th>\n",
       "      <td>...</td>\n",
       "      <td>...</td>\n",
       "      <td>...</td>\n",
       "      <td>...</td>\n",
       "      <td>...</td>\n",
       "      <td>...</td>\n",
       "      <td>...</td>\n",
       "      <td>...</td>\n",
       "      <td>...</td>\n",
       "      <td>...</td>\n",
       "    </tr>\n",
       "    <tr>\n",
       "      <th>19911</th>\n",
       "      <td>7692024</td>\n",
       "      <td>14900947</td>\n",
       "      <td>2*一次性使用无菌输液接头JT-SJ-WZ</td>\n",
       "      <td>1</td>\n",
       "      <td>NaN</td>\n",
       "      <td>NaN</td>\n",
       "      <td>ONCE</td>\n",
       "      <td>2021-12-04 09:02:34</td>\n",
       "      <td>NaT</td>\n",
       "      <td>核实</td>\n",
       "    </tr>\n",
       "    <tr>\n",
       "      <th>19912</th>\n",
       "      <td>7692024</td>\n",
       "      <td>14900947</td>\n",
       "      <td>静脉留置针护理(含换药、封管)</td>\n",
       "      <td>1</td>\n",
       "      <td>NaN</td>\n",
       "      <td>NaN</td>\n",
       "      <td>1/日</td>\n",
       "      <td>2021-12-04 09:03:08</td>\n",
       "      <td>NaT</td>\n",
       "      <td>核实</td>\n",
       "    </tr>\n",
       "    <tr>\n",
       "      <th>19913</th>\n",
       "      <td>7692024</td>\n",
       "      <td>14900947</td>\n",
       "      <td>★富马酸喹硫平缓释片(百朗欣)[0.2g*20片]</td>\n",
       "      <td>1</td>\n",
       "      <td>0.2g*20片</td>\n",
       "      <td>0.4g</td>\n",
       "      <td>1/日</td>\n",
       "      <td>2021-12-05 08:39:56</td>\n",
       "      <td>NaT</td>\n",
       "      <td>核实</td>\n",
       "    </tr>\n",
       "    <tr>\n",
       "      <th>19914</th>\n",
       "      <td>7692024</td>\n",
       "      <td>14900947</td>\n",
       "      <td>★富马酸喹硫平缓释片(百朗欣)[0.2g*20片]</td>\n",
       "      <td>1</td>\n",
       "      <td>0.2g*20片</td>\n",
       "      <td>0.4g</td>\n",
       "      <td>ONCE</td>\n",
       "      <td>2021-12-05 10:40:00</td>\n",
       "      <td>NaT</td>\n",
       "      <td>核实</td>\n",
       "    </tr>\n",
       "    <tr>\n",
       "      <th>19915</th>\n",
       "      <td>7692024</td>\n",
       "      <td>14900947</td>\n",
       "      <td>拉莫三嗪片(利必通)[50mg*30片]</td>\n",
       "      <td>1</td>\n",
       "      <td>50mg*30片</td>\n",
       "      <td>50mg</td>\n",
       "      <td>ONCE</td>\n",
       "      <td>2021-12-05 16:28:07</td>\n",
       "      <td>NaT</td>\n",
       "      <td>核实</td>\n",
       "    </tr>\n",
       "  </tbody>\n",
       "</table>\n",
       "<p>19916 rows × 10 columns</p>\n",
       "</div>"
      ],
      "text/plain": [
       "      patient_id   case_no                  drug_name  amount drug_spec  \\\n",
       "0        6873870  10001302    齐拉西酮冻干粉针(江都医院)[30mg*1瓶]       1   30mg*1瓶   \n",
       "1        6873870  10001302                     行为矫正治疗      20       NaN   \n",
       "2        6873870  10001302                 静脉输液第二组起每组       3       NaN   \n",
       "3        6873870  10001302       脑苷肌肽注射液(欧迪美)[2ml*1支]       6    2ml*1支   \n",
       "4        6873870  10001302                 静脉输液第二组起每组       3       NaN   \n",
       "...          ...       ...                        ...     ...       ...   \n",
       "19911    7692024  14900947      2*一次性使用无菌输液接头JT-SJ-WZ       1       NaN   \n",
       "19912    7692024  14900947            静脉留置针护理(含换药、封管)       1       NaN   \n",
       "19913    7692024  14900947  ★富马酸喹硫平缓释片(百朗欣)[0.2g*20片]       1  0.2g*20片   \n",
       "19914    7692024  14900947  ★富马酸喹硫平缓释片(百朗欣)[0.2g*20片]       1  0.2g*20片   \n",
       "19915    7692024  14900947       拉莫三嗪片(利必通)[50mg*30片]       1  50mg*30片   \n",
       "\n",
       "      dosage frequency      start_datetime        end_datetime statusdesc  \n",
       "0       20mg      ONCE 2020-08-15 18:59:57                 NaT         核实  \n",
       "1        NaN       1/日 2020-08-15 19:45:12 2020-09-04 11:38:00         停止  \n",
       "2        NaN       1/日 2020-08-17 11:24:51 2020-08-20 10:11:04         停止  \n",
       "3        4ml       1/日 2020-08-17 11:25:27 2020-08-20 10:11:09         停止  \n",
       "4        NaN       1/日 2020-08-17 11:25:27 2020-08-20 10:11:09         停止  \n",
       "...      ...       ...                 ...                 ...        ...  \n",
       "19911    NaN      ONCE 2021-12-04 09:02:34                 NaT         核实  \n",
       "19912    NaN       1/日 2021-12-04 09:03:08                 NaT         核实  \n",
       "19913   0.4g       1/日 2021-12-05 08:39:56                 NaT         核实  \n",
       "19914   0.4g      ONCE 2021-12-05 10:40:00                 NaT         核实  \n",
       "19915   50mg      ONCE 2021-12-05 16:28:07                 NaT         核实  \n",
       "\n",
       "[19916 rows x 10 columns]"
      ]
     },
     "execution_count": 352,
     "metadata": {},
     "output_type": "execute_result"
    }
   ],
   "source": [
    "df_drug_other"
   ]
  },
  {
   "cell_type": "code",
   "execution_count": 353,
   "metadata": {},
   "outputs": [],
   "source": [
    "df_drug_other.to_excel(project_path+'/data/processed_data/df_8.1_drug_other.xlsx')"
   ]
  },
  {
   "cell_type": "markdown",
   "metadata": {},
   "source": [
    "## 统计联合用药频数"
   ]
  },
  {
   "cell_type": "code",
   "execution_count": 354,
   "metadata": {},
   "outputs": [
    {
     "name": "stdout",
     "output_type": "stream",
     "text": [
      "(164, 2)\n"
     ]
    }
   ],
   "source": [
    "# 统计用药频数，由业务人员确定选用哪些联合用药。\n",
    "# 联合用药时间限定：结束时间>=用药前3天内+开始时间<=tdm检测前，取交集\n",
    "df_VPA_drug_other=df_VPA_tdm.copy()\n",
    "temp_list=[]\n",
    "for i in range(df_VPA_drug_other.shape[0]):\n",
    "    case_no=df_VPA_drug_other.loc[i,'case_no']\n",
    "    # 联合用药\n",
    "    drug_other=df_drug_other[df_drug_other['case_no']==case_no]\n",
    "    drug_other=drug_other.reset_index(drop=True)\n",
    "    # 分裂联合用药日期\n",
    "    drug_other['start_date']=drug_other['start_datetime'].apply(lambda x: pd.to_datetime(str(x).split(' ')[0])) \n",
    "    drug_other['end_date']=drug_other['end_datetime'].apply(lambda x: pd.to_datetime(str(x).split(' ')[0])) \n",
    "    # 时间限定：用药前-tdm检测前\n",
    "    drug_time=df_VPA_drug_other.loc[i,'分裂日期']\n",
    "    tdm_time=df_VPA_drug_other.loc[i,'tdm_date']\n",
    "    # 提取用药前3天内-tdm前的联合用药。\n",
    "    drug_other_1=drug_other[(drug_other['end_date']>=pd.to_datetime(tdm_time)-datetime.timedelta(days=4)) &\n",
    "                         (drug_other['start_date']<=pd.to_datetime(tdm_time))]\n",
    "    temp_list.append(drug_other_1)\n",
    "\n",
    "df_drug_other_choose = pd.concat(temp_list,axis=0)\n",
    "del temp_list\n",
    "df_drug_other_choose=df_drug_other_choose.drop_duplicates().reset_index(drop=True)\n",
    "drug_name_counts=df_drug_other_choose.drug_name.value_counts()\n",
    "df_drug_name_counts=pd.DataFrame(data={'药物名称':drug_name_counts.index,\n",
    "                                     '频次':drug_name_counts.values})\n",
    "print(df_drug_name_counts.shape)\n",
    "# 保存联合用药名\n",
    "df_drug_name_counts.to_excel(project_path+'/data/processed_data/df_8.2_统计联合用药频数.xlsx')"
   ]
  },
  {
   "cell_type": "markdown",
   "metadata": {},
   "source": [
    "## 合并联合用药"
   ]
  },
  {
   "cell_type": "code",
   "execution_count": 355,
   "metadata": {},
   "outputs": [],
   "source": [
    "# 业务人员给定的联合用药\n",
    "emotion_wending=['拉莫三嗪', '氯硝西泮', '地西泮', '氢溴酸伏硫西汀片', '阿戈美拉汀', '西酞普兰']\n",
    "anti_psychotic=['奥氮平', '喹硫平', '阿立哌唑', '齐拉西酮', '利培酮', '帕利哌酮', '氯氮平', '氯丙嗪']\n",
    "anti_anxiety=['劳拉西泮', '阿普唑仑', '坦度螺酮', '舍曲林片', '艾司西酞普兰', '氟西汀', '帕罗西汀', '米氮平', '曲唑酮']\n",
    "sleeping_pills=['右佐匹克隆', '唑吡坦', '舒眠胶囊', '乌灵胶囊', '艾司唑仑']\n",
    "behavior_therapy=['暗示治疗', '引导式教育训练', '行为矫正治疗', '冲动行为干预治疗']"
   ]
  },
  {
   "cell_type": "code",
   "execution_count": 356,
   "metadata": {},
   "outputs": [],
   "source": [
    "df_emotion_wending=df_drug_other_choose[df_drug_other_choose.drug_name.str.contains('拉莫三嗪|氯硝西泮|地西泮|氢溴酸伏硫西汀片|阿戈美拉汀|西酞普兰')]\n",
    "df_emotion_wending.to_excel(project_path+'/data/processed_data/df_emotion_wending.xlsx')"
   ]
  },
  {
   "cell_type": "code",
   "execution_count": 357,
   "metadata": {},
   "outputs": [],
   "source": [
    "df_anti_psychotic=df_drug_other_choose[df_drug_other_choose.drug_name.str.contains('奥氮平|喹硫平|阿立哌唑|齐拉西酮|利培酮|帕利哌酮|氯氮平|氯丙嗪')]\n",
    "df_anti_psychotic.to_excel(project_path+'/data/processed_data/df_anti_psychotic.xlsx')"
   ]
  },
  {
   "cell_type": "code",
   "execution_count": 358,
   "metadata": {},
   "outputs": [
    {
     "name": "stderr",
     "output_type": "stream",
     "text": [
      "D:\\Anaconda3\\lib\\site-packages\\ipykernel_launcher.py:1: UserWarning: Boolean Series key will be reindexed to match DataFrame index.\n",
      "  \"\"\"Entry point for launching an IPython kernel.\n"
     ]
    }
   ],
   "source": [
    "df_anti_anxiety=df_drug_other_choose[df_drug_other.drug_name.str.contains('劳拉西泮|阿普唑仑|坦度螺酮|舍曲林片|艾司西酞普兰|氟西汀|帕罗西汀|米氮平|曲唑酮')]\n",
    "df_anti_anxiety.to_excel(project_path+'/data/processed_data/df_anti_anxiety.xlsx')"
   ]
  },
  {
   "cell_type": "code",
   "execution_count": 359,
   "metadata": {},
   "outputs": [],
   "source": [
    "df_sleeping_pills=df_drug_other_choose[df_drug_other_choose.drug_name.str.contains('右佐匹克隆|唑吡坦|舒眠胶囊|乌灵胶囊|艾司唑仑')]\n",
    "df_sleeping_pills.to_excel(project_path+'/data/processed_data/df_sleeping_pills.xlsx')"
   ]
  },
  {
   "cell_type": "code",
   "execution_count": 360,
   "metadata": {},
   "outputs": [],
   "source": [
    "df_behavior_therapy=df_drug_other_choose[df_drug_other_choose.drug_name.str.contains('暗示治疗|引导式教育训练|行为矫正治疗|冲动行为干预治疗')]\n",
    "df_behavior_therapy.to_excel(project_path+'/data/processed_data/df_behavior_therapy.xlsx')"
   ]
  },
  {
   "cell_type": "code",
   "execution_count": 361,
   "metadata": {},
   "outputs": [
    {
     "name": "stdout",
     "output_type": "stream",
     "text": [
      "<class 'pandas.core.frame.DataFrame'>\n",
      "RangeIndex: 270 entries, 0 to 269\n",
      "Data columns (total 40 columns):\n",
      " #   Column            Non-Null Count  Dtype         \n",
      "---  ------            --------------  -----         \n",
      " 0   patient_id        270 non-null    object        \n",
      " 1   case_no           270 non-null    object        \n",
      " 2   drug_name         270 non-null    object        \n",
      " 3   amount            270 non-null    object        \n",
      " 4   drug_spec         270 non-null    object        \n",
      " 5   dosage            270 non-null    object        \n",
      " 6   frequency         270 non-null    object        \n",
      " 7   start_datetime    270 non-null    datetime64[ns]\n",
      " 8   end_datetime      270 non-null    datetime64[ns]\n",
      " 9   statusdesc        270 non-null    object        \n",
      " 10  日剂量               270 non-null    float64       \n",
      " 11  start_date        270 non-null    object        \n",
      " 12  end_date          270 non-null    object        \n",
      " 13  long_d_order      270 non-null    object        \n",
      " 14  分裂日期              270 non-null    object        \n",
      " 15  起始标签              270 non-null    object        \n",
      " 16  时间标签              270 non-null    int64         \n",
      " 17  gender            270 non-null    int64         \n",
      " 18  age               270 non-null    int64         \n",
      " 19  身高                270 non-null    float64       \n",
      " 20  体重                234 non-null    float64       \n",
      " 21  BMI               234 non-null    float64       \n",
      " 22  基础疾病              270 non-null    int64         \n",
      " 23  adm_date          270 non-null    datetime64[ns]\n",
      " 24  dis_date          270 non-null    datetime64[ns]\n",
      " 25  住院时长              270 non-null    int64         \n",
      " 26  肝功_before         270 non-null    int64         \n",
      " 27  肝功_after          270 non-null    int64         \n",
      " 28  皮疹_before         270 non-null    int64         \n",
      " 29  皮疹_after          270 non-null    int64         \n",
      " 30  恶心_before         270 non-null    int64         \n",
      " 31  恶心_after          270 non-null    int64         \n",
      " 32  PLT_before        270 non-null    int64         \n",
      " 33  PLT_after         270 non-null    int64         \n",
      " 34  security_before   270 non-null    float64       \n",
      " 35  security_after    270 non-null    float64       \n",
      " 36  security_label    270 non-null    float64       \n",
      " 37  tdm_date          270 non-null    object        \n",
      " 38  test_result       270 non-null    float64       \n",
      " 39  efficiency_label  270 non-null    int64         \n",
      "dtypes: datetime64[ns](4), float64(8), int64(14), object(14)\n",
      "memory usage: 84.5+ KB\n"
     ]
    }
   ],
   "source": [
    "df_VPA_drug_other.info()"
   ]
  },
  {
   "cell_type": "code",
   "execution_count": 362,
   "metadata": {},
   "outputs": [],
   "source": [
    "# 联合用药时间限定：结束时间>=用药前3天内+开始时间<=tdm检测前，取交集\n",
    "df_VPA_drug_other=df_VPA_tdm.copy()\n",
    "df_VPA_drug_other=df_VPA_drug_other.reset_index(drop=True)\n",
    "for i in range(df_VPA_drug_other.shape[0]):\n",
    "    case_no=df_VPA_drug_other.loc[i,'case_no']\n",
    "    # 联合用药\n",
    "    drug_other=df_drug_other[df_drug_other['case_no']==case_no]\n",
    "    drug_other=drug_other.reset_index(drop=True)\n",
    "    # 分裂联合用药日期\n",
    "    drug_other['start_date']=drug_other['start_datetime'].apply(lambda x: pd.to_datetime(str(x).split(' ')[0])) \n",
    "    drug_other['end_date']=drug_other['end_datetime'].apply(lambda x: pd.to_datetime(str(x).split(' ')[0])) \n",
    "    # 结束时间>=用药前3天内+开始时间<=tdm检测前，取交集\n",
    "    drug_time=df_VPA_drug_other.loc[i,'分裂日期']\n",
    "    tdm_time=df_VPA_drug_other.loc[i,'tdm_date']\n",
    "    drug_other_1=drug_other[(drug_other['end_date']>=pd.to_datetime(tdm_time)-datetime.timedelta(days=4)) &\n",
    "                         (drug_other['start_date']<=pd.to_datetime(tdm_time))]\n",
    "    # 联合用药列表\n",
    "    drug_other_list=drug_other_1.drug_name.unique()\n",
    "    # 联合用药转置\n",
    "    selet_drug_other=['情感稳定剂','抗精神病药','抗焦虑药','安眠药','行为干预治疗']\n",
    "    drug_other_name_list=[emotion_wending,anti_psychotic,anti_anxiety,sleeping_pills,behavior_therapy]\n",
    "    for name,name_list in zip(selet_drug_other,drug_other_name_list):\n",
    "        match_value=[1 if re.match(x,y) else 0 for x in name_list for y in drug_other_list]\n",
    "        if np.sum(match_value)>0:\n",
    "            df_VPA_drug_other.loc[i,name]=1\n",
    "        else:\n",
    "            df_VPA_drug_other.loc[i,name]=0"
   ]
  },
  {
   "cell_type": "code",
   "execution_count": 363,
   "metadata": {},
   "outputs": [
    {
     "name": "stdout",
     "output_type": "stream",
     "text": [
      "(270, 45)\n",
      "177\n"
     ]
    }
   ],
   "source": [
    "print(df_VPA_drug_other.shape)\n",
    "print(df_VPA_drug_other['patient_id'].nunique())"
   ]
  },
  {
   "cell_type": "code",
   "execution_count": 364,
   "metadata": {},
   "outputs": [],
   "source": [
    "# 时间限定的联合用药\n",
    "df_VPA_drug_other.to_excel(project_path+'/data/processed_data/df_8.3_合并联合用药.xlsx')"
   ]
  },
  {
   "cell_type": "markdown",
   "metadata": {},
   "source": [
    "# 合并其他相关检测"
   ]
  },
  {
   "cell_type": "markdown",
   "metadata": {},
   "source": [
    "## 提取其他检测"
   ]
  },
  {
   "cell_type": "code",
   "execution_count": 365,
   "metadata": {},
   "outputs": [],
   "source": [
    "# 提取甲氨蝶呤患者的所有检测\n",
    "df_test_other=df_test[df_test['case_no'].isin(df_VPA_drug_other['case_no'].unique())]"
   ]
  },
  {
   "cell_type": "code",
   "execution_count": 366,
   "metadata": {},
   "outputs": [],
   "source": [
    "# 提取患者的其他检测\n",
    "df_test_other = df_test_other[~ df_test_other['project_name'].str.contains('丙戊酸')]\n",
    "df_test_other = df_test_other.reset_index(drop=True)"
   ]
  },
  {
   "cell_type": "code",
   "execution_count": 383,
   "metadata": {},
   "outputs": [
    {
     "data": {
      "text/plain": [
       "test_record_id        False\n",
       "patient_id            False\n",
       "case_no               False\n",
       "test_date             False\n",
       "clinical_diagnosis     True\n",
       "sample_type           False\n",
       "sample_time            True\n",
       "project_name          False\n",
       "test_result           False\n",
       "result_unit            True\n",
       "is_normal              True\n",
       "refer_scope            True\n",
       "synonym                True\n",
       "dtype: bool"
      ]
     },
     "execution_count": 383,
     "metadata": {},
     "output_type": "execute_result"
    }
   ],
   "source": [
    "df_test_other.isnull().any()"
   ]
  },
  {
   "cell_type": "code",
   "execution_count": 384,
   "metadata": {},
   "outputs": [
    {
     "name": "stdout",
     "output_type": "stream",
     "text": [
      "(29494, 13)\n",
      "177\n"
     ]
    }
   ],
   "source": [
    "print(df_test_other.shape)\n",
    "print(df_test_other['patient_id'].nunique())"
   ]
  },
  {
   "cell_type": "code",
   "execution_count": 385,
   "metadata": {},
   "outputs": [],
   "source": [
    "# 保存其他检测\n",
    "df_test_other.to_csv(project_path+'/data/processed_data/df_9.1_test_other.csv')"
   ]
  },
  {
   "cell_type": "markdown",
   "metadata": {},
   "source": [
    "## 统计其他检测项频数"
   ]
  },
  {
   "cell_type": "code",
   "execution_count": 386,
   "metadata": {},
   "outputs": [],
   "source": [
    "df_test_other_name=pd.DataFrame(df_test_other['project_name'].value_counts())"
   ]
  },
  {
   "cell_type": "code",
   "execution_count": 387,
   "metadata": {},
   "outputs": [],
   "source": [
    "writer=pd.ExcelWriter(project_path+'/data/processed_data/df_9.2_统计其他检测项频数.xlsx')\n",
    "df_test_other_name.to_excel(writer)\n",
    "writer.save()"
   ]
  },
  {
   "cell_type": "markdown",
   "metadata": {},
   "source": [
    "## 合并其他检测"
   ]
  },
  {
   "cell_type": "code",
   "execution_count": 388,
   "metadata": {},
   "outputs": [],
   "source": [
    "def judge_float(x):\n",
    "    try:\n",
    "        a=float(x)\n",
    "        return a\n",
    "    except:\n",
    "        return np.NaN"
   ]
  },
  {
   "cell_type": "code",
   "execution_count": 389,
   "metadata": {},
   "outputs": [],
   "source": [
    "df_VPA_test_other=df_VPA_drug_other.copy()\n",
    "# 将用药后不良反应发生前的最近一次其他检测转置到一行中\n",
    "for i in range(df_VPA_test_other.shape[0]):\n",
    "    case_no=df_VPA_test_other.loc[i,'case_no']\n",
    "    drug_time=df_VPA_test_other.loc[i,'分裂日期']\n",
    "    tdm_date=df_VPA_test_other.loc[i,'tdm_date']\n",
    "    # case_no的其他检测\n",
    "    test_other= df_test_other[df_test_other['case_no']==case_no]\n",
    "    test_other=test_other.reset_index(drop=True)\n",
    "    test_other['test_date']=test_other['test_date'].apply(lambda x: pd.to_datetime(str(x).split(' ')[0])) # 分裂检测日期\n",
    "    # 取用药后-不良反应发生前的其他检测，此案例中start_datetime>tdm_date-1。\n",
    "    test_other_1=test_other[(test_other['test_date']>=pd.to_datetime(tdm_date)-datetime.timedelta(days=4))&\n",
    "                            (test_other['test_date']<=tdm_date)]\n",
    "    # 取最近的一次其他检测\n",
    "    test_other_1=test_other_1.sort_values(['test_date'])\n",
    "    test_other_1=test_other_1.drop_duplicates(['project_name'],keep='last')\n",
    "    test_other_1=test_other_1.reset_index(drop=True)\n",
    "    \n",
    "    # 检验项转置为表头\n",
    "    if test_other_1.shape[0]>0:\n",
    "        test_other_1['test_result']=test_other_1['test_result'].apply(judge_float)\n",
    "        test_other_pivot=test_other_1.pivot_table('test_result',['case_no'], 'project_name')\n",
    "        test_other_pivot=test_other_pivot.reset_index(drop=True)\n",
    "        for j in test_other_pivot.columns[1:]:\n",
    "            df_VPA_test_other.loc[i,j]=test_other_pivot.loc[0,j]\n",
    "#     break\n",
    "#     if case_no == '410308':\n",
    "#         print(temp.loc[0,'start_datetime'])\n",
    "#         print(temp.loc[0,'bmd_time'])\n",
    "#         print(test_other_1)\n",
    "#         print(test_other_2[test_other_2['project_name']=='肌酐(干式)'])\n",
    "#         break"
   ]
  },
  {
   "cell_type": "code",
   "execution_count": 390,
   "metadata": {},
   "outputs": [
    {
     "name": "stdout",
     "output_type": "stream",
     "text": [
      "(270, 178)\n",
      "177\n"
     ]
    }
   ],
   "source": [
    "print(df_VPA_test_other.shape)\n",
    "print(df_VPA_test_other['patient_id'].nunique())"
   ]
  },
  {
   "cell_type": "code",
   "execution_count": 375,
   "metadata": {},
   "outputs": [],
   "source": [
    "# 合并其他检测\n",
    "writer=pd.ExcelWriter(project_path+'/data/processed_data/df_9.3_合并其他检测.xlsx')\n",
    "df_VPA_test_other.to_excel(writer)\n",
    "writer.save()"
   ]
  },
  {
   "cell_type": "markdown",
   "metadata": {},
   "source": [
    "## 删除缺失率超过50%的列"
   ]
  },
  {
   "cell_type": "code",
   "execution_count": 398,
   "metadata": {},
   "outputs": [
    {
     "data": {
      "text/plain": [
       "Index(['patient_id', 'case_no', 'drug_name', 'amount', 'drug_spec', 'dosage',\n",
       "       'frequency', 'start_datetime', 'end_datetime', 'statusdesc',\n",
       "       ...\n",
       "       '碱性磷酸酶', '红细胞沉降率测定', '胆碱脂酶', '乙肝病毒表面抗原', '艾滋病病毒抗体', '抗甲状腺球蛋白抗体',\n",
       "       '抗甲状腺过氧化物酶', '降钙素原', '促甲状腺受体自身抗体', '镜检红细胞'],\n",
       "      dtype='object', length=172)"
      ]
     },
     "execution_count": 398,
     "metadata": {},
     "output_type": "execute_result"
    }
   ],
   "source": [
    "df_VPA_test_other.columns"
   ]
  },
  {
   "cell_type": "code",
   "execution_count": 399,
   "metadata": {},
   "outputs": [
    {
     "name": "stdout",
     "output_type": "stream",
     "text": [
      "-IG#\n",
      "-IG%\n",
      "-LYZ\n",
      "-MicroR\n",
      "-NESFL\n",
      "-NEWX\n",
      "中性粒细胞总数\n",
      "中性粒细胞百分数\n",
      "单核细胞总数\n",
      "单核细胞百分数\n",
      "嗜碱性粒细胞总数\n",
      "嗜碱性粒细胞百分数\n",
      "嗜酸性粒细胞总数\n",
      "嗜酸性粒细胞百分数\n",
      "大型血小板比值\n",
      "平均RBC血红蛋白浓度\n",
      "平均红细胞体积\n",
      "平均红细胞血红蛋白量\n",
      "平均血小板容积\n",
      "淋巴细胞总数\n",
      "淋巴细胞百分数\n",
      "白细胞计数\n",
      "红细胞分布宽度-CV\n",
      "红细胞分布宽度-SD\n",
      "红细胞比积测定\n",
      "红细胞计数\n",
      "血小板分布宽度\n",
      "血小板比积测定\n",
      "血小板计数\n",
      "血红蛋白测定\n",
      "天门冬氨酸氨基转移酶\n",
      "总胆红素\n",
      "总蛋白\n",
      "球蛋白\n",
      "白/球比值\n",
      "白蛋白\n",
      "直接胆红素\n",
      "转氨酶比值\n",
      "间接胆红素\n",
      "催乳素\n",
      "卵泡刺激素\n",
      "可溶性转铁蛋白受体\n",
      "孕酮\n",
      "总铁结合力\n",
      "睾酮\n",
      "转铁蛋白\n",
      "转铁蛋白饱和度\n",
      "铁离子\n",
      "铁蛋白\n",
      "雌二醇\n",
      "黄体生成素\n",
      "不饱和铁结合力\n",
      "丙型肝炎病毒抗体[电化学发光]\n",
      "丙氨酸氨基转移酶\n",
      "乙型肝炎e抗体测定\n",
      "乙型肝炎e抗原测定\n",
      "乙型肝炎核心抗体测定\n",
      "乙型肝炎表面抗体测定\n",
      "乙型肝炎表面抗原测定\n",
      "低密度脂蛋白胆固醇\n",
      "促甲状腺素\n",
      "凝血酶原时间比率\n",
      "凝血酶原活动度\n",
      "凝血酶时间测定\n",
      "国际标准比率\n",
      "小而密低密度脂蛋白胆固醇\n",
      "尿比重(拆射计法)\n",
      "尿素\n",
      "尿酸\n",
      "心型肌酸激酶\n",
      "总胆固醇\n",
      "总钙\n",
      "极低密度脂蛋白胆固醇\n",
      "梅毒螺旋体特异性抗体[电化学发光法]\n",
      "活化部分凝血活酶时间\n",
      "游离T3\n",
      "游离T4\n",
      "甘油三酯\n",
      "甲状三碘原氨酸\n",
      "甲状腺素\n",
      "白介素-6\n",
      "肌酐\n",
      "肌酸激酶\n",
      "胱抑素-C\n",
      "脂蛋白a\n",
      "葡萄糖\n",
      "血浆D-二聚体测定\n",
      "血浆凝血酶原时间测定\n",
      "血浆纤维蛋白原测定\n",
      "血清载脂蛋白E测定\n",
      "载脂蛋白A\n",
      "载脂蛋白B\n",
      "载脂蛋白比值\n",
      "酸碱浓度\n",
      "高密度脂蛋白胆固醇\n",
      "乳酸脱氢酶\n",
      "β人绒毛膜促性腺激素\n",
      "尿沉渣镜检白细胞\n",
      "a-羟丁酸脱氢酶\n",
      "糖化血红蛋白\n",
      "肾小球滤过率(CKD-EPI公式)\n",
      "非高密度脂蛋白胆固醇\n",
      "皮质醇\n",
      "脂肪酶\n",
      "尿沉渣镜检红细胞\n",
      "r-谷氨酰基转移酶\n",
      "前白蛋白\n",
      "同型半胱氨酸\n",
      "尿上皮细胞(仪器定量)\n",
      "尿白细胞(仪器定量)\n",
      "尿管型(仪器定量)\n",
      "尿红细胞(仪器定量)\n",
      "尿细菌(仪器定量)\n",
      "尿结晶\n",
      "尿酵母菌\n",
      "岩藻糖苷酶\n",
      "总胆汁酸\n",
      "碱性磷酸酶\n",
      "红细胞沉降率测定\n",
      "胆碱脂酶\n",
      "乙肝病毒表面抗原\n",
      "艾滋病病毒抗体\n",
      "抗甲状腺球蛋白抗体\n",
      "抗甲状腺过氧化物酶\n",
      "降钙素原\n",
      "促甲状腺受体自身抗体\n",
      "镜检红细胞\n"
     ]
    }
   ],
   "source": [
    "# 删除缺失超过50%的检测\n",
    "for i in df_VPA_test_other.columns:\n",
    "    x=df_VPA_test_other[i].isnull().sum()\n",
    "    per_x = x/df_VPA_test_other.shape[0]  \n",
    "    if per_x >= 0.5:\n",
    "        print(i)\n",
    "        del df_VPA_test_other[i]"
   ]
  },
  {
   "cell_type": "code",
   "execution_count": 400,
   "metadata": {},
   "outputs": [
    {
     "name": "stdout",
     "output_type": "stream",
     "text": [
      "(270, 45)\n",
      "177\n"
     ]
    }
   ],
   "source": [
    "print(df_VPA_test_other.shape)\n",
    "print(df_VPA_test_other['patient_id'].nunique())"
   ]
  },
  {
   "cell_type": "code",
   "execution_count": 401,
   "metadata": {},
   "outputs": [],
   "source": [
    "# 保存删除缺失率后的数据\n",
    "writer=pd.ExcelWriter(project_path+'/data/processed_data/df_9.4_删除缺失超过50%的列.xlsx')\n",
    "df_VPA_test_other.to_excel(writer)\n",
    "writer.save()"
   ]
  },
  {
   "cell_type": "code",
   "execution_count": 402,
   "metadata": {},
   "outputs": [
    {
     "data": {
      "text/plain": [
       "1.00    184\n",
       "0.50     40\n",
       "1.50     23\n",
       "2.00      9\n",
       "0.75      6\n",
       "1.25      5\n",
       "0.25      2\n",
       "2.25      1\n",
       "Name: 日剂量, dtype: int64"
      ]
     },
     "execution_count": 402,
     "metadata": {},
     "output_type": "execute_result"
    }
   ],
   "source": [
    "df_VPA_test_other.日剂量.value_counts()"
   ]
  },
  {
   "cell_type": "markdown",
   "metadata": {},
   "source": [
    "## 人工删除没有意义的指标"
   ]
  },
  {
   "cell_type": "code",
   "execution_count": 403,
   "metadata": {},
   "outputs": [
    {
     "ename": "KeyError",
     "evalue": "'氯离子'",
     "output_type": "error",
     "traceback": [
      "\u001b[1;31m---------------------------------------------------------------------------\u001b[0m",
      "\u001b[1;31mKeyError\u001b[0m                                  Traceback (most recent call last)",
      "\u001b[1;32mD:\\Anaconda3\\lib\\site-packages\\pandas\\core\\indexes\\base.py\u001b[0m in \u001b[0;36mget_loc\u001b[1;34m(self, key, method, tolerance)\u001b[0m\n\u001b[0;32m   2897\u001b[0m             \u001b[1;32mtry\u001b[0m\u001b[1;33m:\u001b[0m\u001b[1;33m\u001b[0m\u001b[1;33m\u001b[0m\u001b[0m\n\u001b[1;32m-> 2898\u001b[1;33m                 \u001b[1;32mreturn\u001b[0m \u001b[0mself\u001b[0m\u001b[1;33m.\u001b[0m\u001b[0m_engine\u001b[0m\u001b[1;33m.\u001b[0m\u001b[0mget_loc\u001b[0m\u001b[1;33m(\u001b[0m\u001b[0mcasted_key\u001b[0m\u001b[1;33m)\u001b[0m\u001b[1;33m\u001b[0m\u001b[1;33m\u001b[0m\u001b[0m\n\u001b[0m\u001b[0;32m   2899\u001b[0m             \u001b[1;32mexcept\u001b[0m \u001b[0mKeyError\u001b[0m \u001b[1;32mas\u001b[0m \u001b[0merr\u001b[0m\u001b[1;33m:\u001b[0m\u001b[1;33m\u001b[0m\u001b[1;33m\u001b[0m\u001b[0m\n",
      "\u001b[1;32mpandas\\_libs\\index.pyx\u001b[0m in \u001b[0;36mpandas._libs.index.IndexEngine.get_loc\u001b[1;34m()\u001b[0m\n",
      "\u001b[1;32mpandas\\_libs\\index.pyx\u001b[0m in \u001b[0;36mpandas._libs.index.IndexEngine.get_loc\u001b[1;34m()\u001b[0m\n",
      "\u001b[1;32mpandas\\_libs\\hashtable_class_helper.pxi\u001b[0m in \u001b[0;36mpandas._libs.hashtable.PyObjectHashTable.get_item\u001b[1;34m()\u001b[0m\n",
      "\u001b[1;32mpandas\\_libs\\hashtable_class_helper.pxi\u001b[0m in \u001b[0;36mpandas._libs.hashtable.PyObjectHashTable.get_item\u001b[1;34m()\u001b[0m\n",
      "\u001b[1;31mKeyError\u001b[0m: '氯离子'",
      "\nThe above exception was the direct cause of the following exception:\n",
      "\u001b[1;31mKeyError\u001b[0m                                  Traceback (most recent call last)",
      "\u001b[1;32m<ipython-input-403-bcd36491ab8b>\u001b[0m in \u001b[0;36m<module>\u001b[1;34m\u001b[0m\n\u001b[1;32m----> 1\u001b[1;33m \u001b[1;32mdel\u001b[0m \u001b[0mdf_VPA_test_other\u001b[0m\u001b[1;33m[\u001b[0m\u001b[1;34m'氯离子'\u001b[0m\u001b[1;33m]\u001b[0m\u001b[1;33m\u001b[0m\u001b[1;33m\u001b[0m\u001b[0m\n\u001b[0m\u001b[0;32m      2\u001b[0m \u001b[1;32mdel\u001b[0m \u001b[0mdf_VPA_test_other\u001b[0m\u001b[1;33m[\u001b[0m\u001b[1;34m'无机磷'\u001b[0m\u001b[1;33m]\u001b[0m\u001b[1;33m\u001b[0m\u001b[1;33m\u001b[0m\u001b[0m\n\u001b[0;32m      3\u001b[0m \u001b[1;32mdel\u001b[0m \u001b[0mdf_VPA_test_other\u001b[0m\u001b[1;33m[\u001b[0m\u001b[1;34m'总二氧化碳'\u001b[0m\u001b[1;33m]\u001b[0m\u001b[1;33m\u001b[0m\u001b[1;33m\u001b[0m\u001b[0m\n\u001b[0;32m      4\u001b[0m \u001b[1;32mdel\u001b[0m \u001b[0mdf_VPA_test_other\u001b[0m\u001b[1;33m[\u001b[0m\u001b[1;34m'钠离子'\u001b[0m\u001b[1;33m]\u001b[0m\u001b[1;33m\u001b[0m\u001b[1;33m\u001b[0m\u001b[0m\n\u001b[0;32m      5\u001b[0m \u001b[1;32mdel\u001b[0m \u001b[0mdf_VPA_test_other\u001b[0m\u001b[1;33m[\u001b[0m\u001b[1;34m'钾离子'\u001b[0m\u001b[1;33m]\u001b[0m\u001b[1;33m\u001b[0m\u001b[1;33m\u001b[0m\u001b[0m\n",
      "\u001b[1;32mD:\\Anaconda3\\lib\\site-packages\\pandas\\core\\generic.py\u001b[0m in \u001b[0;36m__delitem__\u001b[1;34m(self, key)\u001b[0m\n\u001b[0;32m   3711\u001b[0m             \u001b[1;31m# there was no match, this call should raise the appropriate\u001b[0m\u001b[1;33m\u001b[0m\u001b[1;33m\u001b[0m\u001b[1;33m\u001b[0m\u001b[0m\n\u001b[0;32m   3712\u001b[0m             \u001b[1;31m# exception:\u001b[0m\u001b[1;33m\u001b[0m\u001b[1;33m\u001b[0m\u001b[1;33m\u001b[0m\u001b[0m\n\u001b[1;32m-> 3713\u001b[1;33m             \u001b[0mloc\u001b[0m \u001b[1;33m=\u001b[0m \u001b[0mself\u001b[0m\u001b[1;33m.\u001b[0m\u001b[0maxes\u001b[0m\u001b[1;33m[\u001b[0m\u001b[1;33m-\u001b[0m\u001b[1;36m1\u001b[0m\u001b[1;33m]\u001b[0m\u001b[1;33m.\u001b[0m\u001b[0mget_loc\u001b[0m\u001b[1;33m(\u001b[0m\u001b[0mkey\u001b[0m\u001b[1;33m)\u001b[0m\u001b[1;33m\u001b[0m\u001b[1;33m\u001b[0m\u001b[0m\n\u001b[0m\u001b[0;32m   3714\u001b[0m             \u001b[0mself\u001b[0m\u001b[1;33m.\u001b[0m\u001b[0m_mgr\u001b[0m\u001b[1;33m.\u001b[0m\u001b[0midelete\u001b[0m\u001b[1;33m(\u001b[0m\u001b[0mloc\u001b[0m\u001b[1;33m)\u001b[0m\u001b[1;33m\u001b[0m\u001b[1;33m\u001b[0m\u001b[0m\n\u001b[0;32m   3715\u001b[0m \u001b[1;33m\u001b[0m\u001b[0m\n",
      "\u001b[1;32mD:\\Anaconda3\\lib\\site-packages\\pandas\\core\\indexes\\base.py\u001b[0m in \u001b[0;36mget_loc\u001b[1;34m(self, key, method, tolerance)\u001b[0m\n\u001b[0;32m   2898\u001b[0m                 \u001b[1;32mreturn\u001b[0m \u001b[0mself\u001b[0m\u001b[1;33m.\u001b[0m\u001b[0m_engine\u001b[0m\u001b[1;33m.\u001b[0m\u001b[0mget_loc\u001b[0m\u001b[1;33m(\u001b[0m\u001b[0mcasted_key\u001b[0m\u001b[1;33m)\u001b[0m\u001b[1;33m\u001b[0m\u001b[1;33m\u001b[0m\u001b[0m\n\u001b[0;32m   2899\u001b[0m             \u001b[1;32mexcept\u001b[0m \u001b[0mKeyError\u001b[0m \u001b[1;32mas\u001b[0m \u001b[0merr\u001b[0m\u001b[1;33m:\u001b[0m\u001b[1;33m\u001b[0m\u001b[1;33m\u001b[0m\u001b[0m\n\u001b[1;32m-> 2900\u001b[1;33m                 \u001b[1;32mraise\u001b[0m \u001b[0mKeyError\u001b[0m\u001b[1;33m(\u001b[0m\u001b[0mkey\u001b[0m\u001b[1;33m)\u001b[0m \u001b[1;32mfrom\u001b[0m \u001b[0merr\u001b[0m\u001b[1;33m\u001b[0m\u001b[1;33m\u001b[0m\u001b[0m\n\u001b[0m\u001b[0;32m   2901\u001b[0m \u001b[1;33m\u001b[0m\u001b[0m\n\u001b[0;32m   2902\u001b[0m         \u001b[1;32mif\u001b[0m \u001b[0mtolerance\u001b[0m \u001b[1;32mis\u001b[0m \u001b[1;32mnot\u001b[0m \u001b[1;32mNone\u001b[0m\u001b[1;33m:\u001b[0m\u001b[1;33m\u001b[0m\u001b[1;33m\u001b[0m\u001b[0m\n",
      "\u001b[1;31mKeyError\u001b[0m: '氯离子'"
     ]
    }
   ],
   "source": [
    "del df_VPA_test_other['氯离子']\n",
    "del df_VPA_test_other['无机磷']\n",
    "del df_VPA_test_other['总二氧化碳']\n",
    "del df_VPA_test_other['钠离子']\n",
    "del df_VPA_test_other['钾离子']\n",
    "del df_VPA_test_other['镁离子']"
   ]
  },
  {
   "cell_type": "code",
   "execution_count": 404,
   "metadata": {},
   "outputs": [],
   "source": [
    "df_VPA_test_other.to_excel(project_path+'/data/processed_data/df_9.5_人工删除没有意义的指标.xlsx')"
   ]
  },
  {
   "cell_type": "code",
   "execution_count": null,
   "metadata": {},
   "outputs": [],
   "source": []
  }
 ],
 "metadata": {
  "kernelspec": {
   "display_name": "Python 3",
   "language": "python",
   "name": "python3"
  },
  "language_info": {
   "codemirror_mode": {
    "name": "ipython",
    "version": 3
   },
   "file_extension": ".py",
   "mimetype": "text/x-python",
   "name": "python",
   "nbconvert_exporter": "python",
   "pygments_lexer": "ipython3",
   "version": "3.6.8"
  },
  "toc": {
   "base_numbering": 1,
   "nav_menu": {},
   "number_sections": true,
   "sideBar": true,
   "skip_h1_title": false,
   "title_cell": "Table of Contents",
   "title_sidebar": "Contents",
   "toc_cell": false,
   "toc_position": {
    "height": "902.4px",
    "left": "39px",
    "top": "124.956px",
    "width": "409.594px"
   },
   "toc_section_display": true,
   "toc_window_display": true
  },
  "varInspector": {
   "cols": {
    "lenName": 16,
    "lenType": 16,
    "lenVar": 40
   },
   "kernels_config": {
    "python": {
     "delete_cmd_postfix": "",
     "delete_cmd_prefix": "del ",
     "library": "var_list.py",
     "varRefreshCmd": "print(var_dic_list())"
    },
    "r": {
     "delete_cmd_postfix": ") ",
     "delete_cmd_prefix": "rm(",
     "library": "var_list.r",
     "varRefreshCmd": "cat(var_dic_list()) "
    }
   },
   "types_to_exclude": [
    "module",
    "function",
    "builtin_function_or_method",
    "instance",
    "_Feature"
   ],
   "window_display": false
  }
 },
 "nbformat": 4,
 "nbformat_minor": 2
}
