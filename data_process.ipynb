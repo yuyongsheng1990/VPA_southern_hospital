{
 "cells": [
  {
   "cell_type": "code",
   "execution_count": 1,
   "metadata": {},
   "outputs": [],
   "source": [
    "# _*_ coding: utf-8 _*_\n",
    "# @Time: 2021/12/09 16:05 \n",
    "# @Author: yuyongsheng\n",
    "# @Software: PyCharm\n",
    "# @Description: 南方医院丙戊酸：1. 数据处理"
   ]
  },
  {
   "cell_type": "markdown",
   "metadata": {},
   "source": [
    "# 原始数据预处理"
   ]
  },
  {
   "cell_type": "markdown",
   "metadata": {},
   "source": [
    "## 导入程序包"
   ]
  },
  {
   "cell_type": "code",
   "execution_count": 2,
   "metadata": {},
   "outputs": [],
   "source": [
    "# 导入程序包\n",
    "import pymysql as MySQLDB\n",
    "import pandas as pd\n",
    "import numpy as np\n",
    "\n",
    "import re\n",
    "import sys\n",
    "import os\n",
    "project_path = os.getcwd()"
   ]
  },
  {
   "cell_type": "markdown",
   "metadata": {},
   "source": [
    "## 导入预定义函数"
   ]
  },
  {
   "cell_type": "code",
   "execution_count": 3,
   "metadata": {},
   "outputs": [],
   "source": [
    "# 字符串转换为时间格式\n",
    "import datetime\n",
    "def str_to_datetime(x):\n",
    "    try:\n",
    "        a = datetime.datetime.strptime(x, \"%d/%m/%Y %H:%M:%S\")\n",
    "        return a\n",
    "    except:\n",
    "        return np.NaN"
   ]
  },
  {
   "cell_type": "code",
   "execution_count": 4,
   "metadata": {},
   "outputs": [],
   "source": [
    "# 过滤文字\n",
    "import numpy as np\n",
    "def filter_string(df,feature):\n",
    "    # 过滤文字!!!!!!!!!!!!!!!!!!!!!!!!!!!\n",
    "    df=df[df[feature].str.contains('\\d')]\n",
    "    return df"
   ]
  },
  {
   "cell_type": "code",
   "execution_count": 5,
   "metadata": {},
   "outputs": [],
   "source": [
    "# 过滤异常大值\n",
    "def filter_exception_value(df,feature,median_value=1):\n",
    "    # 过滤异常大值!!!!!!!!!!!!!!!!!!!!!!!!!!\n",
    "    if not median_value:\n",
    "        median_value=df[feature].median()\n",
    "    df[feature]=df[feature].apply(lambda x: x if abs(float(x)) < (100 * abs(median_value)) else np.nan)\n",
    "    df=df[df[feature].notnull()]\n",
    "    return df"
   ]
  },
  {
   "cell_type": "code",
   "execution_count": 6,
   "metadata": {},
   "outputs": [],
   "source": [
    "# 使用随机森林对缺失值进行插补\n",
    "import pandas as pd\n",
    "pd.set_option('mode.chained_assignment', None)\n",
    "import numpy as np\n",
    "from sklearn.ensemble import RandomForestRegressor\n",
    "from sklearn.model_selection import GridSearchCV\n",
    "def missing_value_interpolation(df,missing_list=[]):\n",
    "    df = df.reset_index(drop=True)\n",
    "    # 提取存在缺失值的列名\n",
    "    if not missing_list:\n",
    "        for i in df.columns:\n",
    "            if df[i].isnull().sum() > 0:\n",
    "                missing_list.append(i)\n",
    "    missing_list_copy = missing_list.copy()\n",
    "    # 用该列未缺失的值训练随机森林，然后用训练好的rf预测缺失值\n",
    "    for i in range(len(missing_list)):\n",
    "        name=missing_list[0]\n",
    "        df_missing = df[missing_list_copy]\n",
    "        # 将其他列的缺失值用0表示。\n",
    "        missing_list.remove(name)\n",
    "        for j in missing_list:\n",
    "            df_missing[j]=df_missing[j].astype('str').apply(lambda x: 0 if x=='nan' else x)\n",
    "        df_missing_is = df_missing[df_missing[name].isnull()]\n",
    "        df_missing_not = df_missing[df_missing[name].notnull()]\n",
    "        y = df_missing_not[name]\n",
    "        x = df_missing_not.drop([name],axis=1)\n",
    "        # 列出参数列表\n",
    "        tree_grid_parameter = {'n_estimators': list((10, 50, 100, 150, 200))}\n",
    "        # 进行参数的搜索组合\n",
    "        grid = GridSearchCV(RandomForestRegressor(),param_grid=tree_grid_parameter,cv=3)\n",
    "        #rfr=RandomForestRegressor(random_state=0,n_estimators=100,n_jobs=-1)\n",
    "        #根据已有数据去拟合随机森林模型\n",
    "        grid.fit(x, y)\n",
    "        rfr = RandomForestRegressor(n_estimators=grid.best_params_['n_estimators'])\n",
    "        rfr.fit(x, y)\n",
    "        #预测缺失值\n",
    "        predict = rfr.predict(df_missing_is.drop([name],axis=1))\n",
    "        #填补缺失值\n",
    "        df.loc[df[name].isnull(),name] = predict\n",
    "    return df"
   ]
  },
  {
   "cell_type": "markdown",
   "metadata": {},
   "source": [
    "## 连接数据库"
   ]
  },
  {
   "cell_type": "code",
   "execution_count": 7,
   "metadata": {},
   "outputs": [
    {
     "name": "stdout",
     "output_type": "stream",
     "text": [
      "('8.0.22',)\n"
     ]
    }
   ],
   "source": [
    "# 连接数据库\n",
    "conn = MySQLDB.connect(host='192.168.0.37', port=3306, user='root', password='111111', db='nfyx_bingwusuan', charset='UTF8')\n",
    "# conn = MySQLDB.connect(host='localhost', port=3306, user='root', password='123456', db='上海六院', charset='UTF8')\n",
    "cursor = conn.cursor()\n",
    "cursor.execute(\"Select version()\")\n",
    "for i in cursor:\n",
    "    print(i)"
   ]
  },
  {
   "cell_type": "markdown",
   "metadata": {},
   "source": [
    "## 读取doctor_order数据库表"
   ]
  },
  {
   "cell_type": "code",
   "execution_count": 8,
   "metadata": {},
   "outputs": [],
   "source": [
    "# 从df_doctor_order数据库读入数据\n",
    "# 丙戊酸long_d_order不准，不要\n",
    "try:\n",
    "    sql = 'select patient_id,case_no,drug_name,amount,drug_spec,dosage,frequency,start_datetime,end_datetime,statusdesc from doctor_order;'\n",
    "    df_doctor_order = pd.read_sql(sql, conn)\n",
    "except MySQLDB.err.ProgrammingError as e:\n",
    "    print('surgical_record Error is ' + str(e))\n",
    "    sys.exit()"
   ]
  },
  {
   "cell_type": "code",
   "execution_count": 9,
   "metadata": {},
   "outputs": [
    {
     "name": "stdout",
     "output_type": "stream",
     "text": [
      "(35169, 10)\n",
      "212\n"
     ]
    }
   ],
   "source": [
    "print(df_doctor_order.shape)\n",
    "print(df_doctor_order['patient_id'].nunique())"
   ]
  },
  {
   "cell_type": "code",
   "execution_count": 10,
   "metadata": {},
   "outputs": [],
   "source": [
    "# 保存doctor_order用药记录\n",
    "df_doctor_order.to_excel(project_path+'/data/pre_processed_raw_data/df_doctor_order.xlsx')"
   ]
  },
  {
   "cell_type": "markdown",
   "metadata": {},
   "source": [
    "## 读取inp_record住院记录"
   ]
  },
  {
   "cell_type": "code",
   "execution_count": 11,
   "metadata": {},
   "outputs": [],
   "source": [
    "# 从inp_record表读入数据\n",
    "try:\n",
    "    sql = 'select patient_id,case_no,adm_date,care_area,dis_date,age,cost from inp_record;'\n",
    "    df_inp_record = pd.read_sql(sql, conn)\n",
    "except MySQLDB.err.ProgrammingError as e:\n",
    "    print('surgical_record Error is ' + str(e))\n",
    "    sys.exit()"
   ]
  },
  {
   "cell_type": "code",
   "execution_count": 12,
   "metadata": {
    "scrolled": false
   },
   "outputs": [
    {
     "name": "stdout",
     "output_type": "stream",
     "text": [
      "(235, 7)\n",
      "212\n"
     ]
    }
   ],
   "source": [
    "print(df_inp_record.shape)\n",
    "print(df_inp_record['patient_id'].nunique())"
   ]
  },
  {
   "cell_type": "code",
   "execution_count": 13,
   "metadata": {},
   "outputs": [
    {
     "data": {
      "text/plain": [
       "patient_id    False\n",
       "case_no       False\n",
       "adm_date      False\n",
       "care_area     False\n",
       "dis_date       True\n",
       "age           False\n",
       "cost          False\n",
       "dtype: bool"
      ]
     },
     "execution_count": 13,
     "metadata": {},
     "output_type": "execute_result"
    }
   ],
   "source": [
    "#用来判断某列是否有缺失值\n",
    "df_inp_record.isnull().any() "
   ]
  },
  {
   "cell_type": "code",
   "execution_count": 14,
   "metadata": {},
   "outputs": [
    {
     "data": {
      "text/html": [
       "<div>\n",
       "<style scoped>\n",
       "    .dataframe tbody tr th:only-of-type {\n",
       "        vertical-align: middle;\n",
       "    }\n",
       "\n",
       "    .dataframe tbody tr th {\n",
       "        vertical-align: top;\n",
       "    }\n",
       "\n",
       "    .dataframe thead th {\n",
       "        text-align: right;\n",
       "    }\n",
       "</style>\n",
       "<table border=\"1\" class=\"dataframe\">\n",
       "  <thead>\n",
       "    <tr style=\"text-align: right;\">\n",
       "      <th></th>\n",
       "      <th>patient_id</th>\n",
       "      <th>case_no</th>\n",
       "      <th>adm_date</th>\n",
       "      <th>care_area</th>\n",
       "      <th>dis_date</th>\n",
       "      <th>age</th>\n",
       "      <th>cost</th>\n",
       "    </tr>\n",
       "  </thead>\n",
       "  <tbody>\n",
       "    <tr>\n",
       "      <th>0</th>\n",
       "      <td>6873870</td>\n",
       "      <td>10001302</td>\n",
       "      <td>2020-08-15 17:12:30</td>\n",
       "      <td>JSKXLHLDY-心理二区护理单元江高</td>\n",
       "      <td>NaT</td>\n",
       "      <td>28</td>\n",
       "      <td>13004.95</td>\n",
       "    </tr>\n",
       "    <tr>\n",
       "      <th>2</th>\n",
       "      <td>6949939</td>\n",
       "      <td>10019847</td>\n",
       "      <td>2020-08-17 20:28:47</td>\n",
       "      <td>JSKXLHLDY-心理二区护理单元江高</td>\n",
       "      <td>NaT</td>\n",
       "      <td>27</td>\n",
       "      <td>9171.29</td>\n",
       "    </tr>\n",
       "    <tr>\n",
       "      <th>4</th>\n",
       "      <td>369329</td>\n",
       "      <td>10028911</td>\n",
       "      <td>2020-08-18 15:12:28</td>\n",
       "      <td>JSKXLHLDY-心理二区护理单元江高</td>\n",
       "      <td>NaT</td>\n",
       "      <td>33</td>\n",
       "      <td>9219.83</td>\n",
       "    </tr>\n",
       "    <tr>\n",
       "      <th>27</th>\n",
       "      <td>8043274</td>\n",
       "      <td>10914758</td>\n",
       "      <td>2020-11-18 17:38:49</td>\n",
       "      <td>JSKXLHLDY-心理二区护理单元江高</td>\n",
       "      <td>NaT</td>\n",
       "      <td>29</td>\n",
       "      <td>20882.11</td>\n",
       "    </tr>\n",
       "  </tbody>\n",
       "</table>\n",
       "</div>"
      ],
      "text/plain": [
       "   patient_id   case_no            adm_date             care_area dis_date  \\\n",
       "0     6873870  10001302 2020-08-15 17:12:30  JSKXLHLDY-心理二区护理单元江高      NaT   \n",
       "2     6949939  10019847 2020-08-17 20:28:47  JSKXLHLDY-心理二区护理单元江高      NaT   \n",
       "4      369329  10028911 2020-08-18 15:12:28  JSKXLHLDY-心理二区护理单元江高      NaT   \n",
       "27    8043274  10914758 2020-11-18 17:38:49  JSKXLHLDY-心理二区护理单元江高      NaT   \n",
       "\n",
       "    age      cost  \n",
       "0    28  13004.95  \n",
       "2    27   9171.29  \n",
       "4    33   9219.83  \n",
       "27   29  20882.11  "
      ]
     },
     "execution_count": 14,
     "metadata": {},
     "output_type": "execute_result"
    }
   ],
   "source": [
    "df_inp_record[df_inp_record['dis_date'].isnull()]"
   ]
  },
  {
   "cell_type": "code",
   "execution_count": 15,
   "metadata": {},
   "outputs": [
    {
     "data": {
      "text/html": [
       "<div>\n",
       "<style scoped>\n",
       "    .dataframe tbody tr th:only-of-type {\n",
       "        vertical-align: middle;\n",
       "    }\n",
       "\n",
       "    .dataframe tbody tr th {\n",
       "        vertical-align: top;\n",
       "    }\n",
       "\n",
       "    .dataframe thead th {\n",
       "        text-align: right;\n",
       "    }\n",
       "</style>\n",
       "<table border=\"1\" class=\"dataframe\">\n",
       "  <thead>\n",
       "    <tr style=\"text-align: right;\">\n",
       "      <th></th>\n",
       "      <th>patient_id</th>\n",
       "      <th>case_no</th>\n",
       "      <th>adm_date</th>\n",
       "      <th>care_area</th>\n",
       "      <th>dis_date</th>\n",
       "      <th>age</th>\n",
       "      <th>cost</th>\n",
       "    </tr>\n",
       "  </thead>\n",
       "  <tbody>\n",
       "  </tbody>\n",
       "</table>\n",
       "</div>"
      ],
      "text/plain": [
       "Empty DataFrame\n",
       "Columns: [patient_id, case_no, adm_date, care_area, dis_date, age, cost]\n",
       "Index: []"
      ]
     },
     "execution_count": 15,
     "metadata": {},
     "output_type": "execute_result"
    }
   ],
   "source": [
    "# 查看重复数据\n",
    "df_inp_record[df_inp_record.duplicated(subset=['patient_id','adm_date'],keep='first')]"
   ]
  },
  {
   "cell_type": "code",
   "execution_count": 16,
   "metadata": {},
   "outputs": [],
   "source": [
    "df_inp_record.to_excel(project_path+'/data/pre_processed_raw_data/df_inp_record.xlsx')"
   ]
  },
  {
   "cell_type": "markdown",
   "metadata": {},
   "source": [
    "## 读取diagnostic_record"
   ]
  },
  {
   "cell_type": "code",
   "execution_count": 17,
   "metadata": {},
   "outputs": [],
   "source": [
    "# 从medical_record表读入数据\n",
    "try:\n",
    "    sql = 'select patient_id,case_no,record_date,diagnostic_type,diagnostic_content from diagnostic_record;'\n",
    "    df_diagnostic_record = pd.read_sql(sql, conn)\n",
    "except MySQLDB.err.ProgrammingError as e:\n",
    "    print('surgical_record Error is ' + str(e))\n",
    "    sys.exit()"
   ]
  },
  {
   "cell_type": "code",
   "execution_count": 18,
   "metadata": {},
   "outputs": [
    {
     "name": "stdout",
     "output_type": "stream",
     "text": [
      "(1818, 5)\n",
      "353\n"
     ]
    }
   ],
   "source": [
    "print(df_diagnostic_record.shape)\n",
    "print(df_diagnostic_record['patient_id'].nunique())"
   ]
  },
  {
   "cell_type": "code",
   "execution_count": 19,
   "metadata": {},
   "outputs": [
    {
     "data": {
      "text/plain": [
       "patient_id            False\n",
       "case_no                True\n",
       "record_date           False\n",
       "diagnostic_type       False\n",
       "diagnostic_content    False\n",
       "dtype: bool"
      ]
     },
     "execution_count": 19,
     "metadata": {},
     "output_type": "execute_result"
    }
   ],
   "source": [
    "#用来判断某列是否有缺失值\n",
    "df_diagnostic_record.isnull().any() "
   ]
  },
  {
   "cell_type": "code",
   "execution_count": 20,
   "metadata": {},
   "outputs": [
    {
     "data": {
      "text/html": [
       "<div>\n",
       "<style scoped>\n",
       "    .dataframe tbody tr th:only-of-type {\n",
       "        vertical-align: middle;\n",
       "    }\n",
       "\n",
       "    .dataframe tbody tr th {\n",
       "        vertical-align: top;\n",
       "    }\n",
       "\n",
       "    .dataframe thead th {\n",
       "        text-align: right;\n",
       "    }\n",
       "</style>\n",
       "<table border=\"1\" class=\"dataframe\">\n",
       "  <thead>\n",
       "    <tr style=\"text-align: right;\">\n",
       "      <th></th>\n",
       "      <th>patient_id</th>\n",
       "      <th>case_no</th>\n",
       "      <th>record_date</th>\n",
       "      <th>diagnostic_type</th>\n",
       "      <th>diagnostic_content</th>\n",
       "    </tr>\n",
       "  </thead>\n",
       "  <tbody>\n",
       "  </tbody>\n",
       "</table>\n",
       "</div>"
      ],
      "text/plain": [
       "Empty DataFrame\n",
       "Columns: [patient_id, case_no, record_date, diagnostic_type, diagnostic_content]\n",
       "Index: []"
      ]
     },
     "execution_count": 20,
     "metadata": {},
     "output_type": "execute_result"
    }
   ],
   "source": [
    "# 查看重复数据\n",
    "df_diagnostic_record[df_diagnostic_record.duplicated(subset=['patient_id','case_no','record_date','diagnostic_content'],keep='first')]"
   ]
  },
  {
   "cell_type": "code",
   "execution_count": 21,
   "metadata": {},
   "outputs": [],
   "source": [
    "writer=pd.ExcelWriter(project_path+'/data/pre_processed_raw_data/df_diagnostic_record.xlsx')\n",
    "df_diagnostic_record.to_excel(writer)\n",
    "writer.save()"
   ]
  },
  {
   "cell_type": "markdown",
   "metadata": {},
   "source": [
    "## 读取test_result数据表"
   ]
  },
  {
   "cell_type": "markdown",
   "metadata": {},
   "source": [
    "### test_record"
   ]
  },
  {
   "cell_type": "code",
   "execution_count": 22,
   "metadata": {},
   "outputs": [],
   "source": [
    "# 从数据库读入test_record数据\n",
    "try:\n",
    "    sql = 'select test_record_id,patient_id,case_no,test_date,clinical_diagnosis,sample_type,sample_time from test_record;'\n",
    "    df_test_record = pd.read_sql(sql, conn)\n",
    "except MySQLDB.err.ProgrammingError as e:\n",
    "    print('surgical_record Error is ' + str(e))\n",
    "    sys.exit()"
   ]
  },
  {
   "cell_type": "code",
   "execution_count": 23,
   "metadata": {},
   "outputs": [
    {
     "name": "stdout",
     "output_type": "stream",
     "text": [
      "(9669, 7)\n",
      "358\n"
     ]
    }
   ],
   "source": [
    "print(df_test_record.shape)\n",
    "print(df_test_record['patient_id'].nunique())"
   ]
  },
  {
   "cell_type": "code",
   "execution_count": 24,
   "metadata": {},
   "outputs": [
    {
     "data": {
      "text/html": [
       "<div>\n",
       "<style scoped>\n",
       "    .dataframe tbody tr th:only-of-type {\n",
       "        vertical-align: middle;\n",
       "    }\n",
       "\n",
       "    .dataframe tbody tr th {\n",
       "        vertical-align: top;\n",
       "    }\n",
       "\n",
       "    .dataframe thead th {\n",
       "        text-align: right;\n",
       "    }\n",
       "</style>\n",
       "<table border=\"1\" class=\"dataframe\">\n",
       "  <thead>\n",
       "    <tr style=\"text-align: right;\">\n",
       "      <th></th>\n",
       "      <th>test_record_id</th>\n",
       "      <th>patient_id</th>\n",
       "      <th>case_no</th>\n",
       "      <th>test_date</th>\n",
       "      <th>clinical_diagnosis</th>\n",
       "      <th>sample_type</th>\n",
       "      <th>sample_time</th>\n",
       "    </tr>\n",
       "  </thead>\n",
       "  <tbody>\n",
       "    <tr>\n",
       "      <th>0</th>\n",
       "      <td>800001202207||B001||1</td>\n",
       "      <td>7033812</td>\n",
       "      <td>None</td>\n",
       "      <td>2018-01-09 09:47:00</td>\n",
       "      <td>1:双相性情感障碍</td>\n",
       "      <td>血清</td>\n",
       "      <td>2018-01-09 08:05:35</td>\n",
       "    </tr>\n",
       "    <tr>\n",
       "      <th>1</th>\n",
       "      <td>800001202207||B002||1</td>\n",
       "      <td>7033812</td>\n",
       "      <td>None</td>\n",
       "      <td>2018-01-09 09:47:00</td>\n",
       "      <td>1:双相性情感障碍</td>\n",
       "      <td>血清</td>\n",
       "      <td>2018-01-09 08:05:35</td>\n",
       "    </tr>\n",
       "    <tr>\n",
       "      <th>2</th>\n",
       "      <td>800001202207||B005||1</td>\n",
       "      <td>7033812</td>\n",
       "      <td>None</td>\n",
       "      <td>2018-01-09 09:47:00</td>\n",
       "      <td>1:双相性情感障碍</td>\n",
       "      <td>血清</td>\n",
       "      <td>2018-01-09 08:05:35</td>\n",
       "    </tr>\n",
       "    <tr>\n",
       "      <th>3</th>\n",
       "      <td>800001202207||B006||1</td>\n",
       "      <td>7033812</td>\n",
       "      <td>None</td>\n",
       "      <td>2018-01-09 09:47:00</td>\n",
       "      <td>1:双相性情感障碍</td>\n",
       "      <td>血清</td>\n",
       "      <td>2018-01-09 08:05:35</td>\n",
       "    </tr>\n",
       "    <tr>\n",
       "      <th>4</th>\n",
       "      <td>800001202207||B007||1</td>\n",
       "      <td>7033812</td>\n",
       "      <td>None</td>\n",
       "      <td>2018-01-09 09:47:00</td>\n",
       "      <td>1:双相性情感障碍</td>\n",
       "      <td>血清</td>\n",
       "      <td>2018-01-09 08:05:35</td>\n",
       "    </tr>\n",
       "    <tr>\n",
       "      <th>...</th>\n",
       "      <td>...</td>\n",
       "      <td>...</td>\n",
       "      <td>...</td>\n",
       "      <td>...</td>\n",
       "      <td>...</td>\n",
       "      <td>...</td>\n",
       "      <td>...</td>\n",
       "    </tr>\n",
       "    <tr>\n",
       "      <th>9664</th>\n",
       "      <td>800013768402||B005||1</td>\n",
       "      <td>9290063</td>\n",
       "      <td>14107745</td>\n",
       "      <td>2021-11-09 10:44:00</td>\n",
       "      <td>脑器质性精神障碍</td>\n",
       "      <td>血清</td>\n",
       "      <td>NaT</td>\n",
       "    </tr>\n",
       "    <tr>\n",
       "      <th>9665</th>\n",
       "      <td>800013768402||B006||1</td>\n",
       "      <td>9290063</td>\n",
       "      <td>14107745</td>\n",
       "      <td>2021-11-09 10:44:00</td>\n",
       "      <td>脑器质性精神障碍</td>\n",
       "      <td>血清</td>\n",
       "      <td>NaT</td>\n",
       "    </tr>\n",
       "    <tr>\n",
       "      <th>9666</th>\n",
       "      <td>800013768402||B034||1</td>\n",
       "      <td>9290063</td>\n",
       "      <td>14107745</td>\n",
       "      <td>2021-11-09 10:44:00</td>\n",
       "      <td>脑器质性精神障碍</td>\n",
       "      <td>血清</td>\n",
       "      <td>NaT</td>\n",
       "    </tr>\n",
       "    <tr>\n",
       "      <th>9667</th>\n",
       "      <td>800013768403||A083||1</td>\n",
       "      <td>9290063</td>\n",
       "      <td>14107745</td>\n",
       "      <td>2021-11-09 08:42:00</td>\n",
       "      <td>脑器质性精神障碍</td>\n",
       "      <td>静脉血</td>\n",
       "      <td>NaT</td>\n",
       "    </tr>\n",
       "    <tr>\n",
       "      <th>9668</th>\n",
       "      <td>800013771461||Y006||1</td>\n",
       "      <td>9290063</td>\n",
       "      <td>14107745</td>\n",
       "      <td>2021-11-09 11:39:00</td>\n",
       "      <td>脑器质性精神障碍</td>\n",
       "      <td>血浆</td>\n",
       "      <td>NaT</td>\n",
       "    </tr>\n",
       "  </tbody>\n",
       "</table>\n",
       "<p>9669 rows × 7 columns</p>\n",
       "</div>"
      ],
      "text/plain": [
       "             test_record_id patient_id   case_no           test_date  \\\n",
       "0     800001202207||B001||1    7033812      None 2018-01-09 09:47:00   \n",
       "1     800001202207||B002||1    7033812      None 2018-01-09 09:47:00   \n",
       "2     800001202207||B005||1    7033812      None 2018-01-09 09:47:00   \n",
       "3     800001202207||B006||1    7033812      None 2018-01-09 09:47:00   \n",
       "4     800001202207||B007||1    7033812      None 2018-01-09 09:47:00   \n",
       "...                     ...        ...       ...                 ...   \n",
       "9664  800013768402||B005||1    9290063  14107745 2021-11-09 10:44:00   \n",
       "9665  800013768402||B006||1    9290063  14107745 2021-11-09 10:44:00   \n",
       "9666  800013768402||B034||1    9290063  14107745 2021-11-09 10:44:00   \n",
       "9667  800013768403||A083||1    9290063  14107745 2021-11-09 08:42:00   \n",
       "9668  800013771461||Y006||1    9290063  14107745 2021-11-09 11:39:00   \n",
       "\n",
       "     clinical_diagnosis sample_type         sample_time  \n",
       "0            1:双相性情感障碍           血清 2018-01-09 08:05:35  \n",
       "1            1:双相性情感障碍           血清 2018-01-09 08:05:35  \n",
       "2            1:双相性情感障碍           血清 2018-01-09 08:05:35  \n",
       "3            1:双相性情感障碍           血清 2018-01-09 08:05:35  \n",
       "4            1:双相性情感障碍           血清 2018-01-09 08:05:35  \n",
       "...                 ...         ...                 ...  \n",
       "9664           脑器质性精神障碍          血清                 NaT  \n",
       "9665           脑器质性精神障碍          血清                 NaT  \n",
       "9666           脑器质性精神障碍          血清                 NaT  \n",
       "9667           脑器质性精神障碍         静脉血                 NaT  \n",
       "9668           脑器质性精神障碍          血浆                 NaT  \n",
       "\n",
       "[9669 rows x 7 columns]"
      ]
     },
     "execution_count": 24,
     "metadata": {},
     "output_type": "execute_result"
    }
   ],
   "source": [
    "df_test_record"
   ]
  },
  {
   "cell_type": "code",
   "execution_count": 25,
   "metadata": {},
   "outputs": [
    {
     "data": {
      "text/plain": [
       "test_record_id        False\n",
       "patient_id            False\n",
       "case_no                True\n",
       "test_date             False\n",
       "clinical_diagnosis     True\n",
       "sample_type           False\n",
       "sample_time            True\n",
       "dtype: bool"
      ]
     },
     "execution_count": 25,
     "metadata": {},
     "output_type": "execute_result"
    }
   ],
   "source": [
    "#用来判断某列是否有缺失值\n",
    "df_test_record.isnull().any() "
   ]
  },
  {
   "cell_type": "code",
   "execution_count": 26,
   "metadata": {},
   "outputs": [],
   "source": [
    "# 保存test_record\n",
    "df_test_record.to_excel(project_path+'/data/pre_processed_raw_data/df_test_record.xlsx')"
   ]
  },
  {
   "cell_type": "markdown",
   "metadata": {},
   "source": [
    "### test_result"
   ]
  },
  {
   "cell_type": "code",
   "execution_count": 27,
   "metadata": {},
   "outputs": [],
   "source": [
    "# 从数据库读入test_result数据\n",
    "try:\n",
    "    sql = 'select test_record_id,project_name,test_result,result_unit,is_normal,refer_scope,synonym from test_result;'\n",
    "    df_test_result = pd.read_sql(sql, conn)\n",
    "except MySQLDB.err.ProgrammingError as e:\n",
    "    print('surgical_record Error is ' + str(e))\n",
    "    sys.exit()"
   ]
  },
  {
   "cell_type": "code",
   "execution_count": 28,
   "metadata": {},
   "outputs": [
    {
     "name": "stdout",
     "output_type": "stream",
     "text": [
      "(60001, 7)\n"
     ]
    }
   ],
   "source": [
    "print(df_test_result.shape)"
   ]
  },
  {
   "cell_type": "code",
   "execution_count": 29,
   "metadata": {},
   "outputs": [
    {
     "data": {
      "text/plain": [
       "test_record_id    False\n",
       "project_name      False\n",
       "test_result       False\n",
       "result_unit        True\n",
       "is_normal          True\n",
       "refer_scope        True\n",
       "synonym            True\n",
       "dtype: bool"
      ]
     },
     "execution_count": 29,
     "metadata": {},
     "output_type": "execute_result"
    }
   ],
   "source": [
    "#用来判断某列是否有缺失值\n",
    "df_test_result.isnull().any() "
   ]
  },
  {
   "cell_type": "code",
   "execution_count": 30,
   "metadata": {},
   "outputs": [
    {
     "data": {
      "text/html": [
       "<div>\n",
       "<style scoped>\n",
       "    .dataframe tbody tr th:only-of-type {\n",
       "        vertical-align: middle;\n",
       "    }\n",
       "\n",
       "    .dataframe tbody tr th {\n",
       "        vertical-align: top;\n",
       "    }\n",
       "\n",
       "    .dataframe thead th {\n",
       "        text-align: right;\n",
       "    }\n",
       "</style>\n",
       "<table border=\"1\" class=\"dataframe\">\n",
       "  <thead>\n",
       "    <tr style=\"text-align: right;\">\n",
       "      <th></th>\n",
       "      <th>test_record_id</th>\n",
       "      <th>project_name</th>\n",
       "      <th>test_result</th>\n",
       "      <th>result_unit</th>\n",
       "      <th>is_normal</th>\n",
       "      <th>refer_scope</th>\n",
       "      <th>synonym</th>\n",
       "    </tr>\n",
       "  </thead>\n",
       "  <tbody>\n",
       "    <tr>\n",
       "      <th>59467</th>\n",
       "      <td>800013465956||B042||1</td>\n",
       "      <td>免疫球蛋白</td>\n",
       "      <td>阴性(-)</td>\n",
       "      <td>None</td>\n",
       "      <td>N</td>\n",
       "      <td>阴性(-)</td>\n",
       "      <td>IgA_gd</td>\n",
       "    </tr>\n",
       "    <tr>\n",
       "      <th>59468</th>\n",
       "      <td>800013465956||B042||1</td>\n",
       "      <td>免疫球蛋白</td>\n",
       "      <td>阴性(-)</td>\n",
       "      <td>None</td>\n",
       "      <td>N</td>\n",
       "      <td>阴性(-)</td>\n",
       "      <td>IgM_gd</td>\n",
       "    </tr>\n",
       "  </tbody>\n",
       "</table>\n",
       "</div>"
      ],
      "text/plain": [
       "              test_record_id project_name test_result result_unit is_normal  \\\n",
       "59467  800013465956||B042||1        免疫球蛋白       阴性(-)        None         N   \n",
       "59468  800013465956||B042||1        免疫球蛋白       阴性(-)        None         N   \n",
       "\n",
       "      refer_scope synonym  \n",
       "59467       阴性(-)  IgA_gd  \n",
       "59468       阴性(-)  IgM_gd  "
      ]
     },
     "execution_count": 30,
     "metadata": {},
     "output_type": "execute_result"
    }
   ],
   "source": [
    "# 查看重复数据\n",
    "df_test_result[df_test_result.duplicated(subset=['test_record_id','project_name','test_result'],keep='first')]"
   ]
  },
  {
   "cell_type": "code",
   "execution_count": 31,
   "metadata": {},
   "outputs": [],
   "source": [
    "# 删除test_result数据\n",
    "df_test_result=df_test_result.drop_duplicates(subset=['test_record_id','project_name','test_result'],keep='first')\n",
    "df_test_result=df_test_result.reset_index(drop=True)"
   ]
  },
  {
   "cell_type": "code",
   "execution_count": 32,
   "metadata": {},
   "outputs": [
    {
     "name": "stdout",
     "output_type": "stream",
     "text": [
      "(59999, 7)\n"
     ]
    }
   ],
   "source": [
    "print(df_test_result.shape)"
   ]
  },
  {
   "cell_type": "code",
   "execution_count": 33,
   "metadata": {},
   "outputs": [],
   "source": [
    "# 删除<>号\n",
    "df_test_result['test_result']=df_test_result['test_result'].astype('str').apply(lambda x:x.replace('<',''))\n",
    "df_test_result['test_result']=df_test_result['test_result'].astype('str').apply(lambda x:x.replace('>',''))"
   ]
  },
  {
   "cell_type": "code",
   "execution_count": 34,
   "metadata": {},
   "outputs": [
    {
     "name": "stdout",
     "output_type": "stream",
     "text": [
      "(59999, 7)\n"
     ]
    }
   ],
   "source": [
    "print(df_test_result.shape)"
   ]
  },
  {
   "cell_type": "code",
   "execution_count": 35,
   "metadata": {},
   "outputs": [],
   "source": [
    "# 保存test_result\n",
    "df_test_result.to_excel(project_path+'/data/pre_processed_raw_data/df_test_result.xlsx')"
   ]
  },
  {
   "cell_type": "markdown",
   "metadata": {},
   "source": [
    "### test_record+test_result"
   ]
  },
  {
   "cell_type": "code",
   "execution_count": 36,
   "metadata": {},
   "outputs": [],
   "source": [
    "df_test=pd.merge(df_test_record,df_test_result,on=['test_record_id'],how='inner')"
   ]
  },
  {
   "cell_type": "code",
   "execution_count": 37,
   "metadata": {},
   "outputs": [
    {
     "name": "stdout",
     "output_type": "stream",
     "text": [
      "(59999, 13)\n",
      "358\n"
     ]
    }
   ],
   "source": [
    "print(df_test.shape)\n",
    "print(df_test['patient_id'].nunique())"
   ]
  },
  {
   "cell_type": "code",
   "execution_count": 38,
   "metadata": {},
   "outputs": [],
   "source": [
    "# 保存检测数据\n",
    "df_test.to_excel(project_path+'/data/pre_processed_raw_data/df_test.xlsx')"
   ]
  },
  {
   "cell_type": "markdown",
   "metadata": {},
   "source": [
    "## 体检数据"
   ]
  },
  {
   "cell_type": "code",
   "execution_count": 163,
   "metadata": {},
   "outputs": [],
   "source": [
    "# 从数据库读入体检exam数据\n",
    "try:\n",
    "    sql = 'select patientId,examDateTime,normalInd,description from exam_record;'\n",
    "    df_exam = pd.read_sql(sql, conn)\n",
    "except MySQLDB.err.ProgrammingError as e:\n",
    "    print('surgical_record Error is ' + str(e))\n",
    "    sys.exit()"
   ]
  },
  {
   "cell_type": "code",
   "execution_count": 187,
   "metadata": {},
   "outputs": [],
   "source": [
    "# 删除空数据\n",
    "df_exam=df_exam[df_exam['description'].notnull()].reset_index(drop=True)"
   ]
  },
  {
   "cell_type": "code",
   "execution_count": 188,
   "metadata": {},
   "outputs": [],
   "source": [
    "# 重命名\n",
    "df_exam=df_exam.rename(columns={'patientId':'patient_id',\n",
    "                       'examDateTime':'exam_time'})"
   ]
  },
  {
   "cell_type": "code",
   "execution_count": 189,
   "metadata": {},
   "outputs": [
    {
     "name": "stdout",
     "output_type": "stream",
     "text": [
      "(652, 4)\n",
      "188\n"
     ]
    }
   ],
   "source": [
    "print(df_exam.shape)\n",
    "print(df_exam['patient_id'].nunique())"
   ]
  },
  {
   "cell_type": "code",
   "execution_count": 190,
   "metadata": {},
   "outputs": [
    {
     "data": {
      "text/html": [
       "<div>\n",
       "<style scoped>\n",
       "    .dataframe tbody tr th:only-of-type {\n",
       "        vertical-align: middle;\n",
       "    }\n",
       "\n",
       "    .dataframe tbody tr th {\n",
       "        vertical-align: top;\n",
       "    }\n",
       "\n",
       "    .dataframe thead th {\n",
       "        text-align: right;\n",
       "    }\n",
       "</style>\n",
       "<table border=\"1\" class=\"dataframe\">\n",
       "  <thead>\n",
       "    <tr style=\"text-align: right;\">\n",
       "      <th></th>\n",
       "      <th>patient_id</th>\n",
       "      <th>exam_time</th>\n",
       "      <th>normalInd</th>\n",
       "      <th>description</th>\n",
       "    </tr>\n",
       "  </thead>\n",
       "  <tbody>\n",
       "    <tr>\n",
       "      <th>0</th>\n",
       "      <td>8242965</td>\n",
       "      <td>2020-09-01 00:33:40</td>\n",
       "      <td>阴性</td>\n",
       "      <td>两侧胸廓对称、所见骨质未见异常；两侧肺野透过度正常，未见异常密度增高影；两肺纹理略增粗、增多...</td>\n",
       "    </tr>\n",
       "    <tr>\n",
       "      <th>1</th>\n",
       "      <td>8242965</td>\n",
       "      <td>2020-09-01 00:33:40</td>\n",
       "      <td>阳性</td>\n",
       "      <td>双肾大小形态正常，轮廓清晰，包膜完整，实质回声均匀，集合系统回声正常，双侧输尿管不扩张。膀胱...</td>\n",
       "    </tr>\n",
       "    <tr>\n",
       "      <th>2</th>\n",
       "      <td>8242965</td>\n",
       "      <td>2020-09-01 00:33:40</td>\n",
       "      <td>阳性</td>\n",
       "      <td>双肾大小形态正常，轮廓清晰，包膜完整，实质回声均匀，集合系统回声正常，双侧输尿管不扩张。膀胱...</td>\n",
       "    </tr>\n",
       "    <tr>\n",
       "      <th>3</th>\n",
       "      <td>7006940</td>\n",
       "      <td>2020-09-01 00:33:40</td>\n",
       "      <td>阳性</td>\n",
       "      <td>主动脉扩张、迂曲、延长，主动脉结向左突出，见弧状钙化影；两侧肺野透光度正常，未见明确实变影；...</td>\n",
       "    </tr>\n",
       "    <tr>\n",
       "      <th>4</th>\n",
       "      <td>7006940</td>\n",
       "      <td>2020-09-01 00:33:40</td>\n",
       "      <td>阳性</td>\n",
       "      <td>肝脏形态大小正常，包膜完整光滑，肝内实质回声细密稍增强，肝内血管及胆管显示欠清晰，门静脉、胆...</td>\n",
       "    </tr>\n",
       "    <tr>\n",
       "      <th>...</th>\n",
       "      <td>...</td>\n",
       "      <td>...</td>\n",
       "      <td>...</td>\n",
       "      <td>...</td>\n",
       "    </tr>\n",
       "    <tr>\n",
       "      <th>647</th>\n",
       "      <td>7765586</td>\n",
       "      <td>2020-08-21 00:33:40</td>\n",
       "      <td>阳性</td>\n",
       "      <td>肝脏形态大小正常，包膜完整光滑，下缘角锐利，肝内实质回声均匀，肝内血管及胆管显示清晰，走行正...</td>\n",
       "    </tr>\n",
       "    <tr>\n",
       "      <th>648</th>\n",
       "      <td>7765586</td>\n",
       "      <td>2020-08-21 00:33:40</td>\n",
       "      <td>阳性</td>\n",
       "      <td>肝脏形态大小正常，包膜完整光滑，下缘角锐利，肝内实质回声均匀，肝内血管及胆管显示清晰，走行正...</td>\n",
       "    </tr>\n",
       "    <tr>\n",
       "      <th>649</th>\n",
       "      <td>369329</td>\n",
       "      <td>2020-08-20 00:33:40</td>\n",
       "      <td>阳性</td>\n",
       "      <td>两侧胸廓对称、所见骨质未见异常；两侧肺野透过度正常，右肺尖见体外异物影；两肺纹理略增粗、增多...</td>\n",
       "    </tr>\n",
       "    <tr>\n",
       "      <th>650</th>\n",
       "      <td>369329</td>\n",
       "      <td>2020-08-21 00:33:40</td>\n",
       "      <td>阳性</td>\n",
       "      <td>肝脏形态大小正常，包膜完整光滑，下缘角锐利，肝内实质回声均匀，肝内血管及胆管显示清晰，走行正...</td>\n",
       "    </tr>\n",
       "    <tr>\n",
       "      <th>651</th>\n",
       "      <td>369329</td>\n",
       "      <td>2020-08-21 00:33:40</td>\n",
       "      <td>阳性</td>\n",
       "      <td>肝脏形态大小正常，包膜完整光滑，下缘角锐利，肝内实质回声均匀，肝内血管及胆管显示清晰，走行正...</td>\n",
       "    </tr>\n",
       "  </tbody>\n",
       "</table>\n",
       "<p>652 rows × 4 columns</p>\n",
       "</div>"
      ],
      "text/plain": [
       "    patient_id           exam_time normalInd  \\\n",
       "0      8242965 2020-09-01 00:33:40        阴性   \n",
       "1      8242965 2020-09-01 00:33:40        阳性   \n",
       "2      8242965 2020-09-01 00:33:40        阳性   \n",
       "3      7006940 2020-09-01 00:33:40        阳性   \n",
       "4      7006940 2020-09-01 00:33:40        阳性   \n",
       "..         ...                 ...       ...   \n",
       "647    7765586 2020-08-21 00:33:40        阳性   \n",
       "648    7765586 2020-08-21 00:33:40        阳性   \n",
       "649     369329 2020-08-20 00:33:40        阳性   \n",
       "650     369329 2020-08-21 00:33:40        阳性   \n",
       "651     369329 2020-08-21 00:33:40        阳性   \n",
       "\n",
       "                                           description  \n",
       "0    两侧胸廓对称、所见骨质未见异常；两侧肺野透过度正常，未见异常密度增高影；两肺纹理略增粗、增多...  \n",
       "1    双肾大小形态正常，轮廓清晰，包膜完整，实质回声均匀，集合系统回声正常，双侧输尿管不扩张。膀胱...  \n",
       "2    双肾大小形态正常，轮廓清晰，包膜完整，实质回声均匀，集合系统回声正常，双侧输尿管不扩张。膀胱...  \n",
       "3    主动脉扩张、迂曲、延长，主动脉结向左突出，见弧状钙化影；两侧肺野透光度正常，未见明确实变影；...  \n",
       "4    肝脏形态大小正常，包膜完整光滑，肝内实质回声细密稍增强，肝内血管及胆管显示欠清晰，门静脉、胆...  \n",
       "..                                                 ...  \n",
       "647  肝脏形态大小正常，包膜完整光滑，下缘角锐利，肝内实质回声均匀，肝内血管及胆管显示清晰，走行正...  \n",
       "648  肝脏形态大小正常，包膜完整光滑，下缘角锐利，肝内实质回声均匀，肝内血管及胆管显示清晰，走行正...  \n",
       "649  两侧胸廓对称、所见骨质未见异常；两侧肺野透过度正常，右肺尖见体外异物影；两肺纹理略增粗、增多...  \n",
       "650  肝脏形态大小正常，包膜完整光滑，下缘角锐利，肝内实质回声均匀，肝内血管及胆管显示清晰，走行正...  \n",
       "651  肝脏形态大小正常，包膜完整光滑，下缘角锐利，肝内实质回声均匀，肝内血管及胆管显示清晰，走行正...  \n",
       "\n",
       "[652 rows x 4 columns]"
      ]
     },
     "execution_count": 190,
     "metadata": {},
     "output_type": "execute_result"
    }
   ],
   "source": [
    "df_exam"
   ]
  },
  {
   "cell_type": "code",
   "execution_count": 191,
   "metadata": {},
   "outputs": [],
   "source": [
    "df_exam.to_excel(project_path+'/data/pre_processed_raw_data/df_exam.xlsx')"
   ]
  },
  {
   "cell_type": "markdown",
   "metadata": {},
   "source": [
    "## 提取人口学特征"
   ]
  },
  {
   "cell_type": "markdown",
   "metadata": {},
   "source": [
    "### gender、race"
   ]
  },
  {
   "cell_type": "code",
   "execution_count": 39,
   "metadata": {},
   "outputs": [],
   "source": [
    "# 从patient_info提取gender,race,birth_year\n",
    "try:\n",
    "    sql = 'select patient_id,gender,race,birth_year from patient_info;'\n",
    "    df_patient_info = pd.read_sql(sql, conn)\n",
    "except MySQLDB.err.ProgrammingError as e:\n",
    "    print('surgical_record Error is ' + str(e))\n",
    "    sys.exit()"
   ]
  },
  {
   "cell_type": "code",
   "execution_count": 40,
   "metadata": {},
   "outputs": [
    {
     "name": "stdout",
     "output_type": "stream",
     "text": [
      "(358, 4)\n",
      "358\n"
     ]
    }
   ],
   "source": [
    "print(df_patient_info.shape)\n",
    "print(df_patient_info['patient_id'].nunique())"
   ]
  },
  {
   "cell_type": "code",
   "execution_count": 41,
   "metadata": {},
   "outputs": [
    {
     "data": {
      "text/html": [
       "<div>\n",
       "<style scoped>\n",
       "    .dataframe tbody tr th:only-of-type {\n",
       "        vertical-align: middle;\n",
       "    }\n",
       "\n",
       "    .dataframe tbody tr th {\n",
       "        vertical-align: top;\n",
       "    }\n",
       "\n",
       "    .dataframe thead th {\n",
       "        text-align: right;\n",
       "    }\n",
       "</style>\n",
       "<table border=\"1\" class=\"dataframe\">\n",
       "  <thead>\n",
       "    <tr style=\"text-align: right;\">\n",
       "      <th></th>\n",
       "      <th>patient_id</th>\n",
       "      <th>gender</th>\n",
       "      <th>race</th>\n",
       "      <th>birth_year</th>\n",
       "    </tr>\n",
       "  </thead>\n",
       "  <tbody>\n",
       "    <tr>\n",
       "      <th>0</th>\n",
       "      <td>1007763</td>\n",
       "      <td>女</td>\n",
       "      <td>汉族</td>\n",
       "      <td>1982-07-14</td>\n",
       "    </tr>\n",
       "    <tr>\n",
       "      <th>1</th>\n",
       "      <td>1039505</td>\n",
       "      <td>女</td>\n",
       "      <td>汉族</td>\n",
       "      <td>1996-05-13</td>\n",
       "    </tr>\n",
       "    <tr>\n",
       "      <th>2</th>\n",
       "      <td>110166</td>\n",
       "      <td>男</td>\n",
       "      <td>汉族</td>\n",
       "      <td>2003-06-03</td>\n",
       "    </tr>\n",
       "    <tr>\n",
       "      <th>3</th>\n",
       "      <td>1112533</td>\n",
       "      <td>女</td>\n",
       "      <td>汉族</td>\n",
       "      <td>1996-08-21</td>\n",
       "    </tr>\n",
       "    <tr>\n",
       "      <th>4</th>\n",
       "      <td>1126688</td>\n",
       "      <td>男</td>\n",
       "      <td>汉族</td>\n",
       "      <td>1990-09-28</td>\n",
       "    </tr>\n",
       "    <tr>\n",
       "      <th>...</th>\n",
       "      <td>...</td>\n",
       "      <td>...</td>\n",
       "      <td>...</td>\n",
       "      <td>...</td>\n",
       "    </tr>\n",
       "    <tr>\n",
       "      <th>353</th>\n",
       "      <td>9165958</td>\n",
       "      <td>男</td>\n",
       "      <td>汉族</td>\n",
       "      <td>1999-12-25</td>\n",
       "    </tr>\n",
       "    <tr>\n",
       "      <th>354</th>\n",
       "      <td>9203877</td>\n",
       "      <td>男</td>\n",
       "      <td>汉族</td>\n",
       "      <td>2006-06-08</td>\n",
       "    </tr>\n",
       "    <tr>\n",
       "      <th>355</th>\n",
       "      <td>9261032</td>\n",
       "      <td>女</td>\n",
       "      <td>None</td>\n",
       "      <td>1999-06-21</td>\n",
       "    </tr>\n",
       "    <tr>\n",
       "      <th>356</th>\n",
       "      <td>9290063</td>\n",
       "      <td>男</td>\n",
       "      <td>汉族</td>\n",
       "      <td>1995-01-24</td>\n",
       "    </tr>\n",
       "    <tr>\n",
       "      <th>357</th>\n",
       "      <td>9307105</td>\n",
       "      <td>男</td>\n",
       "      <td>None</td>\n",
       "      <td>1999-10-09</td>\n",
       "    </tr>\n",
       "  </tbody>\n",
       "</table>\n",
       "<p>358 rows × 4 columns</p>\n",
       "</div>"
      ],
      "text/plain": [
       "    patient_id gender  race  birth_year\n",
       "0      1007763      女    汉族  1982-07-14\n",
       "1      1039505      女    汉族  1996-05-13\n",
       "2       110166      男    汉族  2003-06-03\n",
       "3      1112533      女    汉族  1996-08-21\n",
       "4      1126688      男    汉族  1990-09-28\n",
       "..         ...    ...   ...         ...\n",
       "353    9165958      男    汉族  1999-12-25\n",
       "354    9203877      男    汉族  2006-06-08\n",
       "355    9261032      女  None  1999-06-21\n",
       "356    9290063      男    汉族  1995-01-24\n",
       "357    9307105      男  None  1999-10-09\n",
       "\n",
       "[358 rows x 4 columns]"
      ]
     },
     "execution_count": 41,
     "metadata": {},
     "output_type": "execute_result"
    }
   ],
   "source": [
    "df_patient_info"
   ]
  },
  {
   "cell_type": "code",
   "execution_count": 42,
   "metadata": {},
   "outputs": [
    {
     "data": {
      "text/plain": [
       "patient_id    False\n",
       "gender        False\n",
       "race           True\n",
       "birth_year    False\n",
       "dtype: bool"
      ]
     },
     "execution_count": 42,
     "metadata": {},
     "output_type": "execute_result"
    }
   ],
   "source": [
    "#用来判断某列是否有缺失值\n",
    "df_patient_info.isnull().any() "
   ]
  },
  {
   "cell_type": "code",
   "execution_count": 43,
   "metadata": {},
   "outputs": [
    {
     "data": {
      "text/html": [
       "<div>\n",
       "<style scoped>\n",
       "    .dataframe tbody tr th:only-of-type {\n",
       "        vertical-align: middle;\n",
       "    }\n",
       "\n",
       "    .dataframe tbody tr th {\n",
       "        vertical-align: top;\n",
       "    }\n",
       "\n",
       "    .dataframe thead th {\n",
       "        text-align: right;\n",
       "    }\n",
       "</style>\n",
       "<table border=\"1\" class=\"dataframe\">\n",
       "  <thead>\n",
       "    <tr style=\"text-align: right;\">\n",
       "      <th></th>\n",
       "      <th>patient_id</th>\n",
       "      <th>gender</th>\n",
       "      <th>race</th>\n",
       "      <th>birth_year</th>\n",
       "    </tr>\n",
       "  </thead>\n",
       "  <tbody>\n",
       "  </tbody>\n",
       "</table>\n",
       "</div>"
      ],
      "text/plain": [
       "Empty DataFrame\n",
       "Columns: [patient_id, gender, race, birth_year]\n",
       "Index: []"
      ]
     },
     "execution_count": 43,
     "metadata": {},
     "output_type": "execute_result"
    }
   ],
   "source": [
    "# 查看重复数据\n",
    "df_patient_info[df_patient_info.duplicated(subset=['patient_id','gender','race'],keep='first')]"
   ]
  },
  {
   "cell_type": "code",
   "execution_count": 44,
   "metadata": {},
   "outputs": [
    {
     "name": "stdout",
     "output_type": "stream",
     "text": [
      "(358, 4)\n",
      "358\n"
     ]
    }
   ],
   "source": [
    "print(df_patient_info.shape)\n",
    "print(df_patient_info['patient_id'].nunique())"
   ]
  },
  {
   "cell_type": "code",
   "execution_count": 45,
   "metadata": {},
   "outputs": [],
   "source": [
    "df_patient_info.to_excel(project_path+'/data/pre_processed_raw_data/人口学特征/df_patient_info.xlsx')"
   ]
  },
  {
   "cell_type": "markdown",
   "metadata": {},
   "source": [
    "### age"
   ]
  },
  {
   "cell_type": "code",
   "execution_count": 46,
   "metadata": {},
   "outputs": [],
   "source": [
    "df_age=df_inp_record[['patient_id','case_no','age']]"
   ]
  },
  {
   "cell_type": "code",
   "execution_count": 47,
   "metadata": {},
   "outputs": [
    {
     "name": "stdout",
     "output_type": "stream",
     "text": [
      "(235, 3)\n",
      "212\n"
     ]
    }
   ],
   "source": [
    "print(df_age.shape)\n",
    "print(df_age['patient_id'].nunique())"
   ]
  },
  {
   "cell_type": "code",
   "execution_count": 48,
   "metadata": {},
   "outputs": [
    {
     "data": {
      "text/html": [
       "<div>\n",
       "<style scoped>\n",
       "    .dataframe tbody tr th:only-of-type {\n",
       "        vertical-align: middle;\n",
       "    }\n",
       "\n",
       "    .dataframe tbody tr th {\n",
       "        vertical-align: top;\n",
       "    }\n",
       "\n",
       "    .dataframe thead th {\n",
       "        text-align: right;\n",
       "    }\n",
       "</style>\n",
       "<table border=\"1\" class=\"dataframe\">\n",
       "  <thead>\n",
       "    <tr style=\"text-align: right;\">\n",
       "      <th></th>\n",
       "      <th>patient_id</th>\n",
       "      <th>case_no</th>\n",
       "      <th>age</th>\n",
       "    </tr>\n",
       "  </thead>\n",
       "  <tbody>\n",
       "    <tr>\n",
       "      <th>0</th>\n",
       "      <td>6873870</td>\n",
       "      <td>10001302</td>\n",
       "      <td>28</td>\n",
       "    </tr>\n",
       "    <tr>\n",
       "      <th>1</th>\n",
       "      <td>547307</td>\n",
       "      <td>10005574</td>\n",
       "      <td>25</td>\n",
       "    </tr>\n",
       "    <tr>\n",
       "      <th>2</th>\n",
       "      <td>6949939</td>\n",
       "      <td>10019847</td>\n",
       "      <td>27</td>\n",
       "    </tr>\n",
       "    <tr>\n",
       "      <th>3</th>\n",
       "      <td>7765586</td>\n",
       "      <td>10024628</td>\n",
       "      <td>16</td>\n",
       "    </tr>\n",
       "    <tr>\n",
       "      <th>4</th>\n",
       "      <td>369329</td>\n",
       "      <td>10028911</td>\n",
       "      <td>33</td>\n",
       "    </tr>\n",
       "    <tr>\n",
       "      <th>...</th>\n",
       "      <td>...</td>\n",
       "      <td>...</td>\n",
       "      <td>...</td>\n",
       "    </tr>\n",
       "    <tr>\n",
       "      <th>230</th>\n",
       "      <td>2583650</td>\n",
       "      <td>9818116</td>\n",
       "      <td>59</td>\n",
       "    </tr>\n",
       "    <tr>\n",
       "      <th>231</th>\n",
       "      <td>7411504</td>\n",
       "      <td>9835190</td>\n",
       "      <td>17</td>\n",
       "    </tr>\n",
       "    <tr>\n",
       "      <th>232</th>\n",
       "      <td>8334957</td>\n",
       "      <td>9890262</td>\n",
       "      <td>14</td>\n",
       "    </tr>\n",
       "    <tr>\n",
       "      <th>233</th>\n",
       "      <td>6865481</td>\n",
       "      <td>9910592</td>\n",
       "      <td>20</td>\n",
       "    </tr>\n",
       "    <tr>\n",
       "      <th>234</th>\n",
       "      <td>8374053</td>\n",
       "      <td>9963165</td>\n",
       "      <td>23</td>\n",
       "    </tr>\n",
       "  </tbody>\n",
       "</table>\n",
       "<p>235 rows × 3 columns</p>\n",
       "</div>"
      ],
      "text/plain": [
       "    patient_id   case_no  age\n",
       "0      6873870  10001302   28\n",
       "1       547307  10005574   25\n",
       "2      6949939  10019847   27\n",
       "3      7765586  10024628   16\n",
       "4       369329  10028911   33\n",
       "..         ...       ...  ...\n",
       "230    2583650   9818116   59\n",
       "231    7411504   9835190   17\n",
       "232    8334957   9890262   14\n",
       "233    6865481   9910592   20\n",
       "234    8374053   9963165   23\n",
       "\n",
       "[235 rows x 3 columns]"
      ]
     },
     "execution_count": 48,
     "metadata": {},
     "output_type": "execute_result"
    }
   ],
   "source": [
    "df_age"
   ]
  },
  {
   "cell_type": "code",
   "execution_count": 49,
   "metadata": {},
   "outputs": [],
   "source": [
    "df_age.to_excel(project_path+'/data/pre_processed_raw_data/人口学特征/df_age.xlsx')"
   ]
  },
  {
   "cell_type": "markdown",
   "metadata": {},
   "source": [
    "### height、weight"
   ]
  },
  {
   "cell_type": "code",
   "execution_count": 50,
   "metadata": {},
   "outputs": [],
   "source": [
    "# 从patient_sign_record提取height、weight\n",
    "try:\n",
    "    sql = 'select patient_id,case_no,record_date,sign_type,record_content,record_unit from patient_sign_record;'\n",
    "    df_patient_sign_record = pd.read_sql(sql, conn)\n",
    "except MySQLDB.err.ProgrammingError as e:\n",
    "    print('surgical_record Error is ' + str(e))\n",
    "    sys.exit()"
   ]
  },
  {
   "cell_type": "code",
   "execution_count": 51,
   "metadata": {},
   "outputs": [],
   "source": [
    "# 提取身高信息\n",
    "df_height=df_patient_sign_record[df_patient_sign_record['sign_type'].str.contains('身高')]"
   ]
  },
  {
   "cell_type": "code",
   "execution_count": 52,
   "metadata": {},
   "outputs": [
    {
     "name": "stdout",
     "output_type": "stream",
     "text": [
      "(246, 6)\n",
      "211\n"
     ]
    }
   ],
   "source": [
    "print(df_height.shape)\n",
    "print(df_height['patient_id'].nunique())"
   ]
  },
  {
   "cell_type": "code",
   "execution_count": 53,
   "metadata": {},
   "outputs": [
    {
     "data": {
      "text/html": [
       "<div>\n",
       "<style scoped>\n",
       "    .dataframe tbody tr th:only-of-type {\n",
       "        vertical-align: middle;\n",
       "    }\n",
       "\n",
       "    .dataframe tbody tr th {\n",
       "        vertical-align: top;\n",
       "    }\n",
       "\n",
       "    .dataframe thead th {\n",
       "        text-align: right;\n",
       "    }\n",
       "</style>\n",
       "<table border=\"1\" class=\"dataframe\">\n",
       "  <thead>\n",
       "    <tr style=\"text-align: right;\">\n",
       "      <th></th>\n",
       "      <th>patient_id</th>\n",
       "      <th>case_no</th>\n",
       "      <th>record_date</th>\n",
       "      <th>sign_type</th>\n",
       "      <th>record_content</th>\n",
       "      <th>record_unit</th>\n",
       "    </tr>\n",
       "  </thead>\n",
       "  <tbody>\n",
       "    <tr>\n",
       "      <th>0</th>\n",
       "      <td>6873870</td>\n",
       "      <td>10001302</td>\n",
       "      <td>2020-08-15 14:00:00</td>\n",
       "      <td>身高(cm)</td>\n",
       "      <td>153</td>\n",
       "      <td>cm</td>\n",
       "    </tr>\n",
       "    <tr>\n",
       "      <th>79</th>\n",
       "      <td>547307</td>\n",
       "      <td>10005574</td>\n",
       "      <td>2020-08-16 14:00:00</td>\n",
       "      <td>身高(cm)</td>\n",
       "      <td>162</td>\n",
       "      <td>cm</td>\n",
       "    </tr>\n",
       "    <tr>\n",
       "      <th>143</th>\n",
       "      <td>6949939</td>\n",
       "      <td>10019847</td>\n",
       "      <td>2020-08-17 14:00:00</td>\n",
       "      <td>身高(cm)</td>\n",
       "      <td>160</td>\n",
       "      <td>cm</td>\n",
       "    </tr>\n",
       "    <tr>\n",
       "      <th>213</th>\n",
       "      <td>7765586</td>\n",
       "      <td>10024628</td>\n",
       "      <td>2020-08-18 14:00:00</td>\n",
       "      <td>身高(cm)</td>\n",
       "      <td>168</td>\n",
       "      <td>cm</td>\n",
       "    </tr>\n",
       "    <tr>\n",
       "      <th>262</th>\n",
       "      <td>369329</td>\n",
       "      <td>10028911</td>\n",
       "      <td>2020-08-18 14:00:00</td>\n",
       "      <td>身高(cm)</td>\n",
       "      <td>159</td>\n",
       "      <td>cm</td>\n",
       "    </tr>\n",
       "    <tr>\n",
       "      <th>...</th>\n",
       "      <td>...</td>\n",
       "      <td>...</td>\n",
       "      <td>...</td>\n",
       "      <td>...</td>\n",
       "      <td>...</td>\n",
       "      <td>...</td>\n",
       "    </tr>\n",
       "    <tr>\n",
       "      <th>18808</th>\n",
       "      <td>2583650</td>\n",
       "      <td>9818116</td>\n",
       "      <td>2020-07-27 14:00:00</td>\n",
       "      <td>身高(cm)</td>\n",
       "      <td>158</td>\n",
       "      <td>cm</td>\n",
       "    </tr>\n",
       "    <tr>\n",
       "      <th>18845</th>\n",
       "      <td>7411504</td>\n",
       "      <td>9835190</td>\n",
       "      <td>2020-07-29 14:00:00</td>\n",
       "      <td>身高(cm)</td>\n",
       "      <td>163</td>\n",
       "      <td>cm</td>\n",
       "    </tr>\n",
       "    <tr>\n",
       "      <th>18897</th>\n",
       "      <td>8334957</td>\n",
       "      <td>9890262</td>\n",
       "      <td>2020-08-04 14:00:00</td>\n",
       "      <td>身高(cm)</td>\n",
       "      <td>166</td>\n",
       "      <td>cm</td>\n",
       "    </tr>\n",
       "    <tr>\n",
       "      <th>18958</th>\n",
       "      <td>6865481</td>\n",
       "      <td>9910592</td>\n",
       "      <td>2020-08-06 14:00:00</td>\n",
       "      <td>身高(cm)</td>\n",
       "      <td>183</td>\n",
       "      <td>cm</td>\n",
       "    </tr>\n",
       "    <tr>\n",
       "      <th>19046</th>\n",
       "      <td>8374053</td>\n",
       "      <td>9963165</td>\n",
       "      <td>2020-08-11 14:00:00</td>\n",
       "      <td>身高(cm)</td>\n",
       "      <td>160</td>\n",
       "      <td>cm</td>\n",
       "    </tr>\n",
       "  </tbody>\n",
       "</table>\n",
       "<p>246 rows × 6 columns</p>\n",
       "</div>"
      ],
      "text/plain": [
       "      patient_id   case_no         record_date sign_type record_content  \\\n",
       "0        6873870  10001302 2020-08-15 14:00:00    身高(cm)            153   \n",
       "79        547307  10005574 2020-08-16 14:00:00    身高(cm)            162   \n",
       "143      6949939  10019847 2020-08-17 14:00:00    身高(cm)            160   \n",
       "213      7765586  10024628 2020-08-18 14:00:00    身高(cm)            168   \n",
       "262       369329  10028911 2020-08-18 14:00:00    身高(cm)            159   \n",
       "...          ...       ...                 ...       ...            ...   \n",
       "18808    2583650   9818116 2020-07-27 14:00:00    身高(cm)            158   \n",
       "18845    7411504   9835190 2020-07-29 14:00:00    身高(cm)            163   \n",
       "18897    8334957   9890262 2020-08-04 14:00:00    身高(cm)            166   \n",
       "18958    6865481   9910592 2020-08-06 14:00:00    身高(cm)            183   \n",
       "19046    8374053   9963165 2020-08-11 14:00:00    身高(cm)            160   \n",
       "\n",
       "      record_unit  \n",
       "0              cm  \n",
       "79             cm  \n",
       "143            cm  \n",
       "213            cm  \n",
       "262            cm  \n",
       "...           ...  \n",
       "18808          cm  \n",
       "18845          cm  \n",
       "18897          cm  \n",
       "18958          cm  \n",
       "19046          cm  \n",
       "\n",
       "[246 rows x 6 columns]"
      ]
     },
     "execution_count": 53,
     "metadata": {},
     "output_type": "execute_result"
    }
   ],
   "source": [
    "df_height"
   ]
  },
  {
   "cell_type": "code",
   "execution_count": 54,
   "metadata": {},
   "outputs": [],
   "source": [
    "# 过滤文字\n",
    "df_height=filter_string(df_height,'record_content')"
   ]
  },
  {
   "cell_type": "code",
   "execution_count": 55,
   "metadata": {},
   "outputs": [
    {
     "name": "stdout",
     "output_type": "stream",
     "text": [
      "(242, 6)\n",
      "211\n"
     ]
    }
   ],
   "source": [
    "print(df_height.shape)\n",
    "print(df_height['patient_id'].nunique())"
   ]
  },
  {
   "cell_type": "code",
   "execution_count": 56,
   "metadata": {},
   "outputs": [
    {
     "data": {
      "text/html": [
       "<div>\n",
       "<style scoped>\n",
       "    .dataframe tbody tr th:only-of-type {\n",
       "        vertical-align: middle;\n",
       "    }\n",
       "\n",
       "    .dataframe tbody tr th {\n",
       "        vertical-align: top;\n",
       "    }\n",
       "\n",
       "    .dataframe thead th {\n",
       "        text-align: right;\n",
       "    }\n",
       "</style>\n",
       "<table border=\"1\" class=\"dataframe\">\n",
       "  <thead>\n",
       "    <tr style=\"text-align: right;\">\n",
       "      <th></th>\n",
       "      <th>patient_id</th>\n",
       "      <th>case_no</th>\n",
       "      <th>record_date</th>\n",
       "      <th>sign_type</th>\n",
       "      <th>record_content</th>\n",
       "      <th>record_unit</th>\n",
       "    </tr>\n",
       "  </thead>\n",
       "  <tbody>\n",
       "    <tr>\n",
       "      <th>2540</th>\n",
       "      <td>7808248</td>\n",
       "      <td>11200975</td>\n",
       "      <td>2020-12-16 14:00:00</td>\n",
       "      <td>身高(cm)</td>\n",
       "      <td>155</td>\n",
       "      <td>cm</td>\n",
       "    </tr>\n",
       "    <tr>\n",
       "      <th>4842</th>\n",
       "      <td>8970838</td>\n",
       "      <td>13022476</td>\n",
       "      <td>2021-06-15 14:00:00</td>\n",
       "      <td>身高(cm)</td>\n",
       "      <td>155</td>\n",
       "      <td>cm</td>\n",
       "    </tr>\n",
       "    <tr>\n",
       "      <th>6324</th>\n",
       "      <td>8881895</td>\n",
       "      <td>14103871</td>\n",
       "      <td>2021-10-13 14:00:00</td>\n",
       "      <td>身高(cm)</td>\n",
       "      <td>168</td>\n",
       "      <td>cm</td>\n",
       "    </tr>\n",
       "    <tr>\n",
       "      <th>6425</th>\n",
       "      <td>8881895</td>\n",
       "      <td>14103871</td>\n",
       "      <td>2021-10-27 14:00:00</td>\n",
       "      <td>身高(cm)</td>\n",
       "      <td>168</td>\n",
       "      <td>cm</td>\n",
       "    </tr>\n",
       "    <tr>\n",
       "      <th>6473</th>\n",
       "      <td>8881895</td>\n",
       "      <td>14103871</td>\n",
       "      <td>2021-11-03 14:00:00</td>\n",
       "      <td>身高(cm)</td>\n",
       "      <td>168</td>\n",
       "      <td>cm</td>\n",
       "    </tr>\n",
       "    <tr>\n",
       "      <th>7114</th>\n",
       "      <td>7412218</td>\n",
       "      <td>4069083</td>\n",
       "      <td>2018-07-23 14:00:00</td>\n",
       "      <td>身高(cm)</td>\n",
       "      <td>160</td>\n",
       "      <td>cm</td>\n",
       "    </tr>\n",
       "    <tr>\n",
       "      <th>7508</th>\n",
       "      <td>7475493</td>\n",
       "      <td>4191397</td>\n",
       "      <td>2018-08-13 06:00:00</td>\n",
       "      <td>身高(cm)</td>\n",
       "      <td>173</td>\n",
       "      <td>cm</td>\n",
       "    </tr>\n",
       "    <tr>\n",
       "      <th>7545</th>\n",
       "      <td>7475493</td>\n",
       "      <td>4191397</td>\n",
       "      <td>2018-08-20 14:00:00</td>\n",
       "      <td>身高(cm)</td>\n",
       "      <td>173</td>\n",
       "      <td>cm</td>\n",
       "    </tr>\n",
       "    <tr>\n",
       "      <th>7660</th>\n",
       "      <td>6865481</td>\n",
       "      <td>4255479</td>\n",
       "      <td>2018-08-14 14:00:00</td>\n",
       "      <td>身高(cm)</td>\n",
       "      <td>182</td>\n",
       "      <td>cm</td>\n",
       "    </tr>\n",
       "    <tr>\n",
       "      <th>7786</th>\n",
       "      <td>6679951</td>\n",
       "      <td>4267891</td>\n",
       "      <td>2018-08-22 18:00:00</td>\n",
       "      <td>身高(cm)</td>\n",
       "      <td>156</td>\n",
       "      <td>cm</td>\n",
       "    </tr>\n",
       "    <tr>\n",
       "      <th>7790</th>\n",
       "      <td>6679951</td>\n",
       "      <td>4267891</td>\n",
       "      <td>2018-08-22 14:00:00</td>\n",
       "      <td>身高(cm)</td>\n",
       "      <td>156</td>\n",
       "      <td>cm</td>\n",
       "    </tr>\n",
       "    <tr>\n",
       "      <th>7909</th>\n",
       "      <td>7489030</td>\n",
       "      <td>4304073</td>\n",
       "      <td>2018-08-20 14:00:00</td>\n",
       "      <td>身高(cm)</td>\n",
       "      <td>159</td>\n",
       "      <td>cm</td>\n",
       "    </tr>\n",
       "    <tr>\n",
       "      <th>8483</th>\n",
       "      <td>7503148</td>\n",
       "      <td>4560293</td>\n",
       "      <td>2018-09-23 14:00:00</td>\n",
       "      <td>身高(cm)</td>\n",
       "      <td>163</td>\n",
       "      <td>cm</td>\n",
       "    </tr>\n",
       "    <tr>\n",
       "      <th>9182</th>\n",
       "      <td>7315359</td>\n",
       "      <td>4918748</td>\n",
       "      <td>2018-11-09 14:00:00</td>\n",
       "      <td>身高(cm)</td>\n",
       "      <td>166</td>\n",
       "      <td>cm</td>\n",
       "    </tr>\n",
       "    <tr>\n",
       "      <th>11450</th>\n",
       "      <td>6019394</td>\n",
       "      <td>6268920</td>\n",
       "      <td>2019-04-29 14:00:00</td>\n",
       "      <td>身高(cm)</td>\n",
       "      <td>180</td>\n",
       "      <td>cm</td>\n",
       "    </tr>\n",
       "    <tr>\n",
       "      <th>12196</th>\n",
       "      <td>6328985</td>\n",
       "      <td>6486860</td>\n",
       "      <td>2019-05-24 14:00:00</td>\n",
       "      <td>身高(cm)</td>\n",
       "      <td>160</td>\n",
       "      <td>cm</td>\n",
       "    </tr>\n",
       "    <tr>\n",
       "      <th>13292</th>\n",
       "      <td>6019394</td>\n",
       "      <td>7079833</td>\n",
       "      <td>2019-07-30 14:00:00</td>\n",
       "      <td>身高(cm)</td>\n",
       "      <td>181</td>\n",
       "      <td>cm</td>\n",
       "    </tr>\n",
       "    <tr>\n",
       "      <th>14285</th>\n",
       "      <td>369329</td>\n",
       "      <td>7564885</td>\n",
       "      <td>2019-09-24 14:00:00</td>\n",
       "      <td>身高(cm)</td>\n",
       "      <td>158</td>\n",
       "      <td>cm</td>\n",
       "    </tr>\n",
       "    <tr>\n",
       "      <th>14419</th>\n",
       "      <td>8004050</td>\n",
       "      <td>7689281</td>\n",
       "      <td>2019-10-10 14:00:00</td>\n",
       "      <td>身高(cm)</td>\n",
       "      <td>150</td>\n",
       "      <td>cm</td>\n",
       "    </tr>\n",
       "    <tr>\n",
       "      <th>14643</th>\n",
       "      <td>7822576</td>\n",
       "      <td>7731315</td>\n",
       "      <td>2019-10-15 14:00:00</td>\n",
       "      <td>身高(cm)</td>\n",
       "      <td>170</td>\n",
       "      <td>cm</td>\n",
       "    </tr>\n",
       "    <tr>\n",
       "      <th>15100</th>\n",
       "      <td>7999786</td>\n",
       "      <td>7869986</td>\n",
       "      <td>2019-10-30 14:00:00</td>\n",
       "      <td>身高(cm)</td>\n",
       "      <td>161</td>\n",
       "      <td>cm</td>\n",
       "    </tr>\n",
       "    <tr>\n",
       "      <th>15534</th>\n",
       "      <td>6832310</td>\n",
       "      <td>7901590</td>\n",
       "      <td>2019-11-03 14:00:00</td>\n",
       "      <td>身高(cm)</td>\n",
       "      <td>159</td>\n",
       "      <td>cm</td>\n",
       "    </tr>\n",
       "    <tr>\n",
       "      <th>16576</th>\n",
       "      <td>8115745</td>\n",
       "      <td>8463579</td>\n",
       "      <td>2020-01-02 14:00:00</td>\n",
       "      <td>身高(cm)</td>\n",
       "      <td>159</td>\n",
       "      <td>cm</td>\n",
       "    </tr>\n",
       "    <tr>\n",
       "      <th>17099</th>\n",
       "      <td>5706621</td>\n",
       "      <td>8898454</td>\n",
       "      <td>2020-04-03 14:00:00</td>\n",
       "      <td>身高(cm)</td>\n",
       "      <td>157</td>\n",
       "      <td>cm</td>\n",
       "    </tr>\n",
       "    <tr>\n",
       "      <th>17332</th>\n",
       "      <td>7763889</td>\n",
       "      <td>8955947</td>\n",
       "      <td>2020-04-13 14:00:00</td>\n",
       "      <td>身高(cm)</td>\n",
       "      <td>154</td>\n",
       "      <td>cm</td>\n",
       "    </tr>\n",
       "    <tr>\n",
       "      <th>17751</th>\n",
       "      <td>216997</td>\n",
       "      <td>9123719</td>\n",
       "      <td>2020-05-07 14:00:00</td>\n",
       "      <td>身高(cm)</td>\n",
       "      <td>171</td>\n",
       "      <td>cm</td>\n",
       "    </tr>\n",
       "    <tr>\n",
       "      <th>18043</th>\n",
       "      <td>8275190</td>\n",
       "      <td>9391429</td>\n",
       "      <td>2020-06-23 14:00:00</td>\n",
       "      <td>身高(cm)</td>\n",
       "      <td>155</td>\n",
       "      <td>cm</td>\n",
       "    </tr>\n",
       "    <tr>\n",
       "      <th>18603</th>\n",
       "      <td>8029177</td>\n",
       "      <td>9739796</td>\n",
       "      <td>2020-07-19 14:00:00</td>\n",
       "      <td>身高(cm)</td>\n",
       "      <td>160</td>\n",
       "      <td>cm</td>\n",
       "    </tr>\n",
       "    <tr>\n",
       "      <th>18682</th>\n",
       "      <td>7299707</td>\n",
       "      <td>9781575</td>\n",
       "      <td>2020-07-23 14:00:00</td>\n",
       "      <td>身高(cm)</td>\n",
       "      <td>174</td>\n",
       "      <td>cm</td>\n",
       "    </tr>\n",
       "    <tr>\n",
       "      <th>18808</th>\n",
       "      <td>2583650</td>\n",
       "      <td>9818116</td>\n",
       "      <td>2020-07-27 14:00:00</td>\n",
       "      <td>身高(cm)</td>\n",
       "      <td>158</td>\n",
       "      <td>cm</td>\n",
       "    </tr>\n",
       "    <tr>\n",
       "      <th>18958</th>\n",
       "      <td>6865481</td>\n",
       "      <td>9910592</td>\n",
       "      <td>2020-08-06 14:00:00</td>\n",
       "      <td>身高(cm)</td>\n",
       "      <td>183</td>\n",
       "      <td>cm</td>\n",
       "    </tr>\n",
       "  </tbody>\n",
       "</table>\n",
       "</div>"
      ],
      "text/plain": [
       "      patient_id   case_no         record_date sign_type record_content  \\\n",
       "2540     7808248  11200975 2020-12-16 14:00:00    身高(cm)            155   \n",
       "4842     8970838  13022476 2021-06-15 14:00:00    身高(cm)            155   \n",
       "6324     8881895  14103871 2021-10-13 14:00:00    身高(cm)            168   \n",
       "6425     8881895  14103871 2021-10-27 14:00:00    身高(cm)            168   \n",
       "6473     8881895  14103871 2021-11-03 14:00:00    身高(cm)            168   \n",
       "7114     7412218   4069083 2018-07-23 14:00:00    身高(cm)            160   \n",
       "7508     7475493   4191397 2018-08-13 06:00:00    身高(cm)            173   \n",
       "7545     7475493   4191397 2018-08-20 14:00:00    身高(cm)            173   \n",
       "7660     6865481   4255479 2018-08-14 14:00:00    身高(cm)            182   \n",
       "7786     6679951   4267891 2018-08-22 18:00:00    身高(cm)            156   \n",
       "7790     6679951   4267891 2018-08-22 14:00:00    身高(cm)            156   \n",
       "7909     7489030   4304073 2018-08-20 14:00:00    身高(cm)            159   \n",
       "8483     7503148   4560293 2018-09-23 14:00:00    身高(cm)            163   \n",
       "9182     7315359   4918748 2018-11-09 14:00:00    身高(cm)            166   \n",
       "11450    6019394   6268920 2019-04-29 14:00:00    身高(cm)            180   \n",
       "12196    6328985   6486860 2019-05-24 14:00:00    身高(cm)            160   \n",
       "13292    6019394   7079833 2019-07-30 14:00:00    身高(cm)            181   \n",
       "14285     369329   7564885 2019-09-24 14:00:00    身高(cm)            158   \n",
       "14419    8004050   7689281 2019-10-10 14:00:00    身高(cm)            150   \n",
       "14643    7822576   7731315 2019-10-15 14:00:00    身高(cm)            170   \n",
       "15100    7999786   7869986 2019-10-30 14:00:00    身高(cm)            161   \n",
       "15534    6832310   7901590 2019-11-03 14:00:00    身高(cm)            159   \n",
       "16576    8115745   8463579 2020-01-02 14:00:00    身高(cm)            159   \n",
       "17099    5706621   8898454 2020-04-03 14:00:00    身高(cm)            157   \n",
       "17332    7763889   8955947 2020-04-13 14:00:00    身高(cm)            154   \n",
       "17751     216997   9123719 2020-05-07 14:00:00    身高(cm)            171   \n",
       "18043    8275190   9391429 2020-06-23 14:00:00    身高(cm)            155   \n",
       "18603    8029177   9739796 2020-07-19 14:00:00    身高(cm)            160   \n",
       "18682    7299707   9781575 2020-07-23 14:00:00    身高(cm)            174   \n",
       "18808    2583650   9818116 2020-07-27 14:00:00    身高(cm)            158   \n",
       "18958    6865481   9910592 2020-08-06 14:00:00    身高(cm)            183   \n",
       "\n",
       "      record_unit  \n",
       "2540           cm  \n",
       "4842           cm  \n",
       "6324           cm  \n",
       "6425           cm  \n",
       "6473           cm  \n",
       "7114           cm  \n",
       "7508           cm  \n",
       "7545           cm  \n",
       "7660           cm  \n",
       "7786           cm  \n",
       "7790           cm  \n",
       "7909           cm  \n",
       "8483           cm  \n",
       "9182           cm  \n",
       "11450          cm  \n",
       "12196          cm  \n",
       "13292          cm  \n",
       "14285          cm  \n",
       "14419          cm  \n",
       "14643          cm  \n",
       "15100          cm  \n",
       "15534          cm  \n",
       "16576          cm  \n",
       "17099          cm  \n",
       "17332          cm  \n",
       "17751          cm  \n",
       "18043          cm  \n",
       "18603          cm  \n",
       "18682          cm  \n",
       "18808          cm  \n",
       "18958          cm  "
      ]
     },
     "execution_count": 56,
     "metadata": {},
     "output_type": "execute_result"
    }
   ],
   "source": [
    "# 查看重复数据\n",
    "df_height[df_height.duplicated(subset=['patient_id','sign_type'])]"
   ]
  },
  {
   "cell_type": "code",
   "execution_count": 57,
   "metadata": {},
   "outputs": [],
   "source": [
    "# # 排序\n",
    "# df_height=df_height.sort_values(by=['patient_id','record_date'],ascending=[True,True])\n",
    "# # 删除重复数据\n",
    "# df_height=df_height.drop_duplicates(subset=['patient_id','sign_type'],keep='last')"
   ]
  },
  {
   "cell_type": "code",
   "execution_count": 58,
   "metadata": {},
   "outputs": [
    {
     "name": "stdout",
     "output_type": "stream",
     "text": [
      "(242, 6)\n",
      "211\n"
     ]
    }
   ],
   "source": [
    "print(df_height.shape)\n",
    "print(df_height['patient_id'].nunique())"
   ]
  },
  {
   "cell_type": "code",
   "execution_count": 59,
   "metadata": {},
   "outputs": [],
   "source": [
    "df_height.to_excel(project_path+'/data/pre_processed_raw_data/人口学特征/df_height.xlsx')"
   ]
  },
  {
   "cell_type": "code",
   "execution_count": 60,
   "metadata": {},
   "outputs": [],
   "source": [
    "# 提取体重信息\n",
    "df_weight=df_patient_sign_record[df_patient_sign_record['sign_type'].str.contains('体重')]"
   ]
  },
  {
   "cell_type": "code",
   "execution_count": 61,
   "metadata": {},
   "outputs": [
    {
     "name": "stdout",
     "output_type": "stream",
     "text": [
      "(803, 6)\n",
      "212\n"
     ]
    }
   ],
   "source": [
    "print(df_weight.shape)\n",
    "print(df_weight['patient_id'].nunique())"
   ]
  },
  {
   "cell_type": "code",
   "execution_count": 62,
   "metadata": {},
   "outputs": [
    {
     "data": {
      "text/html": [
       "<div>\n",
       "<style scoped>\n",
       "    .dataframe tbody tr th:only-of-type {\n",
       "        vertical-align: middle;\n",
       "    }\n",
       "\n",
       "    .dataframe tbody tr th {\n",
       "        vertical-align: top;\n",
       "    }\n",
       "\n",
       "    .dataframe thead th {\n",
       "        text-align: right;\n",
       "    }\n",
       "</style>\n",
       "<table border=\"1\" class=\"dataframe\">\n",
       "  <thead>\n",
       "    <tr style=\"text-align: right;\">\n",
       "      <th></th>\n",
       "      <th>patient_id</th>\n",
       "      <th>case_no</th>\n",
       "      <th>record_date</th>\n",
       "      <th>sign_type</th>\n",
       "      <th>record_content</th>\n",
       "      <th>record_unit</th>\n",
       "    </tr>\n",
       "  </thead>\n",
       "  <tbody>\n",
       "    <tr>\n",
       "      <th>11</th>\n",
       "      <td>6873870</td>\n",
       "      <td>10001302</td>\n",
       "      <td>2020-08-15 14:00:00</td>\n",
       "      <td>体重(kg)</td>\n",
       "      <td>52</td>\n",
       "      <td>kg</td>\n",
       "    </tr>\n",
       "    <tr>\n",
       "      <th>30</th>\n",
       "      <td>6873870</td>\n",
       "      <td>10001302</td>\n",
       "      <td>2020-08-22 06:00:00</td>\n",
       "      <td>体重(kg)</td>\n",
       "      <td>52</td>\n",
       "      <td>kg</td>\n",
       "    </tr>\n",
       "    <tr>\n",
       "      <th>60</th>\n",
       "      <td>6873870</td>\n",
       "      <td>10001302</td>\n",
       "      <td>2020-08-29 14:00:00</td>\n",
       "      <td>体重(kg)</td>\n",
       "      <td>52</td>\n",
       "      <td>kg</td>\n",
       "    </tr>\n",
       "    <tr>\n",
       "      <th>90</th>\n",
       "      <td>547307</td>\n",
       "      <td>10005574</td>\n",
       "      <td>2020-08-16 14:00:00</td>\n",
       "      <td>体重(kg)</td>\n",
       "      <td>52</td>\n",
       "      <td>kg</td>\n",
       "    </tr>\n",
       "    <tr>\n",
       "      <th>111</th>\n",
       "      <td>547307</td>\n",
       "      <td>10005574</td>\n",
       "      <td>2020-08-23 06:00:00</td>\n",
       "      <td>体重(kg)</td>\n",
       "      <td>52</td>\n",
       "      <td>kg</td>\n",
       "    </tr>\n",
       "    <tr>\n",
       "      <th>...</th>\n",
       "      <td>...</td>\n",
       "      <td>...</td>\n",
       "      <td>...</td>\n",
       "      <td>...</td>\n",
       "      <td>...</td>\n",
       "      <td>...</td>\n",
       "    </tr>\n",
       "    <tr>\n",
       "      <th>19018</th>\n",
       "      <td>6865481</td>\n",
       "      <td>9910592</td>\n",
       "      <td>2020-08-20 18:00:00</td>\n",
       "      <td>体重(kg)</td>\n",
       "      <td>80</td>\n",
       "      <td>kg</td>\n",
       "    </tr>\n",
       "    <tr>\n",
       "      <th>19019</th>\n",
       "      <td>6865481</td>\n",
       "      <td>9910592</td>\n",
       "      <td>2020-08-20 06:00:00</td>\n",
       "      <td>体重(kg)</td>\n",
       "      <td>80</td>\n",
       "      <td>kg</td>\n",
       "    </tr>\n",
       "    <tr>\n",
       "      <th>19044</th>\n",
       "      <td>6865481</td>\n",
       "      <td>9910592</td>\n",
       "      <td>2020-08-27 14:00:00</td>\n",
       "      <td>体重(kg)</td>\n",
       "      <td>80</td>\n",
       "      <td>kg</td>\n",
       "    </tr>\n",
       "    <tr>\n",
       "      <th>19057</th>\n",
       "      <td>8374053</td>\n",
       "      <td>9963165</td>\n",
       "      <td>2020-08-11 14:00:00</td>\n",
       "      <td>体重(kg)</td>\n",
       "      <td>62</td>\n",
       "      <td>kg</td>\n",
       "    </tr>\n",
       "    <tr>\n",
       "      <th>19076</th>\n",
       "      <td>8374053</td>\n",
       "      <td>9963165</td>\n",
       "      <td>2020-08-18 06:00:00</td>\n",
       "      <td>体重(kg)</td>\n",
       "      <td>62</td>\n",
       "      <td>kg</td>\n",
       "    </tr>\n",
       "  </tbody>\n",
       "</table>\n",
       "<p>803 rows × 6 columns</p>\n",
       "</div>"
      ],
      "text/plain": [
       "      patient_id   case_no         record_date sign_type record_content  \\\n",
       "11       6873870  10001302 2020-08-15 14:00:00    体重(kg)             52   \n",
       "30       6873870  10001302 2020-08-22 06:00:00    体重(kg)             52   \n",
       "60       6873870  10001302 2020-08-29 14:00:00    体重(kg)             52   \n",
       "90        547307  10005574 2020-08-16 14:00:00    体重(kg)             52   \n",
       "111       547307  10005574 2020-08-23 06:00:00    体重(kg)             52   \n",
       "...          ...       ...                 ...       ...            ...   \n",
       "19018    6865481   9910592 2020-08-20 18:00:00    体重(kg)             80   \n",
       "19019    6865481   9910592 2020-08-20 06:00:00    体重(kg)             80   \n",
       "19044    6865481   9910592 2020-08-27 14:00:00    体重(kg)             80   \n",
       "19057    8374053   9963165 2020-08-11 14:00:00    体重(kg)             62   \n",
       "19076    8374053   9963165 2020-08-18 06:00:00    体重(kg)             62   \n",
       "\n",
       "      record_unit  \n",
       "11             kg  \n",
       "30             kg  \n",
       "60             kg  \n",
       "90             kg  \n",
       "111            kg  \n",
       "...           ...  \n",
       "19018          kg  \n",
       "19019          kg  \n",
       "19044          kg  \n",
       "19057          kg  \n",
       "19076          kg  \n",
       "\n",
       "[803 rows x 6 columns]"
      ]
     },
     "execution_count": 62,
     "metadata": {},
     "output_type": "execute_result"
    }
   ],
   "source": [
    "df_weight"
   ]
  },
  {
   "cell_type": "code",
   "execution_count": 63,
   "metadata": {},
   "outputs": [],
   "source": [
    "# 过滤文字\n",
    "df_weight=filter_string(df_weight,'record_content')"
   ]
  },
  {
   "cell_type": "code",
   "execution_count": 64,
   "metadata": {},
   "outputs": [
    {
     "name": "stdout",
     "output_type": "stream",
     "text": [
      "(798, 6)\n",
      "212\n"
     ]
    }
   ],
   "source": [
    "print(df_weight.shape)\n",
    "print(df_weight['patient_id'].nunique())"
   ]
  },
  {
   "cell_type": "code",
   "execution_count": 65,
   "metadata": {},
   "outputs": [],
   "source": [
    "# 过滤异常值\n",
    "df_weight=df_weight[df_weight['record_content']!=0]"
   ]
  },
  {
   "cell_type": "code",
   "execution_count": 66,
   "metadata": {},
   "outputs": [
    {
     "name": "stdout",
     "output_type": "stream",
     "text": [
      "(798, 6)\n",
      "212\n"
     ]
    }
   ],
   "source": [
    "print(df_weight.shape)\n",
    "print(df_weight['patient_id'].nunique())"
   ]
  },
  {
   "cell_type": "code",
   "execution_count": 67,
   "metadata": {},
   "outputs": [
    {
     "data": {
      "text/html": [
       "<div>\n",
       "<style scoped>\n",
       "    .dataframe tbody tr th:only-of-type {\n",
       "        vertical-align: middle;\n",
       "    }\n",
       "\n",
       "    .dataframe tbody tr th {\n",
       "        vertical-align: top;\n",
       "    }\n",
       "\n",
       "    .dataframe thead th {\n",
       "        text-align: right;\n",
       "    }\n",
       "</style>\n",
       "<table border=\"1\" class=\"dataframe\">\n",
       "  <thead>\n",
       "    <tr style=\"text-align: right;\">\n",
       "      <th></th>\n",
       "      <th>patient_id</th>\n",
       "      <th>case_no</th>\n",
       "      <th>record_date</th>\n",
       "      <th>sign_type</th>\n",
       "      <th>record_content</th>\n",
       "      <th>record_unit</th>\n",
       "    </tr>\n",
       "  </thead>\n",
       "  <tbody>\n",
       "    <tr>\n",
       "      <th>30</th>\n",
       "      <td>6873870</td>\n",
       "      <td>10001302</td>\n",
       "      <td>2020-08-22 06:00:00</td>\n",
       "      <td>体重(kg)</td>\n",
       "      <td>52</td>\n",
       "      <td>kg</td>\n",
       "    </tr>\n",
       "    <tr>\n",
       "      <th>60</th>\n",
       "      <td>6873870</td>\n",
       "      <td>10001302</td>\n",
       "      <td>2020-08-29 14:00:00</td>\n",
       "      <td>体重(kg)</td>\n",
       "      <td>52</td>\n",
       "      <td>kg</td>\n",
       "    </tr>\n",
       "    <tr>\n",
       "      <th>111</th>\n",
       "      <td>547307</td>\n",
       "      <td>10005574</td>\n",
       "      <td>2020-08-23 06:00:00</td>\n",
       "      <td>体重(kg)</td>\n",
       "      <td>52</td>\n",
       "      <td>kg</td>\n",
       "    </tr>\n",
       "    <tr>\n",
       "      <th>140</th>\n",
       "      <td>547307</td>\n",
       "      <td>10005574</td>\n",
       "      <td>2020-08-30 14:00:00</td>\n",
       "      <td>体重(kg)</td>\n",
       "      <td>52</td>\n",
       "      <td>kg</td>\n",
       "    </tr>\n",
       "    <tr>\n",
       "      <th>177</th>\n",
       "      <td>6949939</td>\n",
       "      <td>10019847</td>\n",
       "      <td>2020-08-24 14:00:00</td>\n",
       "      <td>体重(kg)</td>\n",
       "      <td>45</td>\n",
       "      <td>kg</td>\n",
       "    </tr>\n",
       "    <tr>\n",
       "      <th>...</th>\n",
       "      <td>...</td>\n",
       "      <td>...</td>\n",
       "      <td>...</td>\n",
       "      <td>...</td>\n",
       "      <td>...</td>\n",
       "      <td>...</td>\n",
       "    </tr>\n",
       "    <tr>\n",
       "      <th>18990</th>\n",
       "      <td>6865481</td>\n",
       "      <td>9910592</td>\n",
       "      <td>2020-08-13 06:00:00</td>\n",
       "      <td>体重(kg)</td>\n",
       "      <td>80</td>\n",
       "      <td>kg</td>\n",
       "    </tr>\n",
       "    <tr>\n",
       "      <th>19018</th>\n",
       "      <td>6865481</td>\n",
       "      <td>9910592</td>\n",
       "      <td>2020-08-20 18:00:00</td>\n",
       "      <td>体重(kg)</td>\n",
       "      <td>80</td>\n",
       "      <td>kg</td>\n",
       "    </tr>\n",
       "    <tr>\n",
       "      <th>19019</th>\n",
       "      <td>6865481</td>\n",
       "      <td>9910592</td>\n",
       "      <td>2020-08-20 06:00:00</td>\n",
       "      <td>体重(kg)</td>\n",
       "      <td>80</td>\n",
       "      <td>kg</td>\n",
       "    </tr>\n",
       "    <tr>\n",
       "      <th>19044</th>\n",
       "      <td>6865481</td>\n",
       "      <td>9910592</td>\n",
       "      <td>2020-08-27 14:00:00</td>\n",
       "      <td>体重(kg)</td>\n",
       "      <td>80</td>\n",
       "      <td>kg</td>\n",
       "    </tr>\n",
       "    <tr>\n",
       "      <th>19076</th>\n",
       "      <td>8374053</td>\n",
       "      <td>9963165</td>\n",
       "      <td>2020-08-18 06:00:00</td>\n",
       "      <td>体重(kg)</td>\n",
       "      <td>62</td>\n",
       "      <td>kg</td>\n",
       "    </tr>\n",
       "  </tbody>\n",
       "</table>\n",
       "<p>586 rows × 6 columns</p>\n",
       "</div>"
      ],
      "text/plain": [
       "      patient_id   case_no         record_date sign_type record_content  \\\n",
       "30       6873870  10001302 2020-08-22 06:00:00    体重(kg)             52   \n",
       "60       6873870  10001302 2020-08-29 14:00:00    体重(kg)             52   \n",
       "111       547307  10005574 2020-08-23 06:00:00    体重(kg)             52   \n",
       "140       547307  10005574 2020-08-30 14:00:00    体重(kg)             52   \n",
       "177      6949939  10019847 2020-08-24 14:00:00    体重(kg)             45   \n",
       "...          ...       ...                 ...       ...            ...   \n",
       "18990    6865481   9910592 2020-08-13 06:00:00    体重(kg)             80   \n",
       "19018    6865481   9910592 2020-08-20 18:00:00    体重(kg)             80   \n",
       "19019    6865481   9910592 2020-08-20 06:00:00    体重(kg)             80   \n",
       "19044    6865481   9910592 2020-08-27 14:00:00    体重(kg)             80   \n",
       "19076    8374053   9963165 2020-08-18 06:00:00    体重(kg)             62   \n",
       "\n",
       "      record_unit  \n",
       "30             kg  \n",
       "60             kg  \n",
       "111            kg  \n",
       "140            kg  \n",
       "177            kg  \n",
       "...           ...  \n",
       "18990          kg  \n",
       "19018          kg  \n",
       "19019          kg  \n",
       "19044          kg  \n",
       "19076          kg  \n",
       "\n",
       "[586 rows x 6 columns]"
      ]
     },
     "execution_count": 67,
     "metadata": {},
     "output_type": "execute_result"
    }
   ],
   "source": [
    "# 查看重复数据\n",
    "df_weight[df_weight.duplicated(subset=['patient_id','sign_type'])]"
   ]
  },
  {
   "cell_type": "code",
   "execution_count": 68,
   "metadata": {},
   "outputs": [],
   "source": [
    "# # 排序\n",
    "# df_weight=df_weight.sort_values(by=['patient_id','record_date'],ascending=[True,True])\n",
    "# # 删除重复数据\n",
    "# df_weight=df_weight.drop_duplicates(subset=['patient_id','sign_type'],keep='last')"
   ]
  },
  {
   "cell_type": "code",
   "execution_count": 69,
   "metadata": {},
   "outputs": [
    {
     "name": "stdout",
     "output_type": "stream",
     "text": [
      "(798, 6)\n",
      "212\n"
     ]
    }
   ],
   "source": [
    "print(df_weight.shape)\n",
    "print(df_weight['patient_id'].nunique())"
   ]
  },
  {
   "cell_type": "code",
   "execution_count": 70,
   "metadata": {},
   "outputs": [],
   "source": [
    "df_weight.to_excel(project_path+'/data/pre_processed_raw_data/人口学特征/df_weight.xlsx')"
   ]
  },
  {
   "cell_type": "markdown",
   "metadata": {},
   "source": [
    "### patient_info merge"
   ]
  },
  {
   "cell_type": "code",
   "execution_count": 71,
   "metadata": {},
   "outputs": [],
   "source": [
    "# 取 patient_id和case_no\n",
    "df_patient=df_height[['patient_id','case_no']]"
   ]
  },
  {
   "cell_type": "code",
   "execution_count": 72,
   "metadata": {},
   "outputs": [],
   "source": [
    "# merge gender\n",
    "df_patient_merge=pd.merge(df_patient,df_patient_info,on=['patient_id'],how='left')"
   ]
  },
  {
   "cell_type": "code",
   "execution_count": 73,
   "metadata": {},
   "outputs": [],
   "source": [
    "# merge age\n",
    "df_age_simple=df_age[['case_no','age']]\n",
    "df_patient_merge=pd.merge(df_patient_merge,df_age_simple,on=['case_no'],how='left')"
   ]
  },
  {
   "cell_type": "code",
   "execution_count": 74,
   "metadata": {},
   "outputs": [],
   "source": [
    "# merge height\n",
    "df_height_simple=df_height[['case_no','record_content']]\n",
    "df_height_simple=df_height_simple.rename(columns={'record_content':'身高'})\n",
    "df_patient_merge=pd.merge(df_patient_merge,df_height_simple,on=['case_no'],how='left')"
   ]
  },
  {
   "cell_type": "code",
   "execution_count": 75,
   "metadata": {},
   "outputs": [],
   "source": [
    "# merge weight\n",
    "df_weight_simple=df_weight[['case_no','record_content']]\n",
    "df_weight_simple=df_weight_simple.rename(columns={'record_content':'体重'})\n",
    "df_patient_merge=pd.merge(df_patient_merge,df_weight_simple,on=['case_no'],how='left')"
   ]
  },
  {
   "cell_type": "code",
   "execution_count": 76,
   "metadata": {},
   "outputs": [
    {
     "data": {
      "text/html": [
       "<div>\n",
       "<style scoped>\n",
       "    .dataframe tbody tr th:only-of-type {\n",
       "        vertical-align: middle;\n",
       "    }\n",
       "\n",
       "    .dataframe tbody tr th {\n",
       "        vertical-align: top;\n",
       "    }\n",
       "\n",
       "    .dataframe thead th {\n",
       "        text-align: right;\n",
       "    }\n",
       "</style>\n",
       "<table border=\"1\" class=\"dataframe\">\n",
       "  <thead>\n",
       "    <tr style=\"text-align: right;\">\n",
       "      <th></th>\n",
       "      <th>patient_id</th>\n",
       "      <th>case_no</th>\n",
       "      <th>gender</th>\n",
       "      <th>race</th>\n",
       "      <th>birth_year</th>\n",
       "      <th>age</th>\n",
       "      <th>身高</th>\n",
       "      <th>体重</th>\n",
       "    </tr>\n",
       "  </thead>\n",
       "  <tbody>\n",
       "    <tr>\n",
       "      <th>0</th>\n",
       "      <td>6873870</td>\n",
       "      <td>10001302</td>\n",
       "      <td>女</td>\n",
       "      <td>汉族</td>\n",
       "      <td>1992-11-06</td>\n",
       "      <td>28</td>\n",
       "      <td>153</td>\n",
       "      <td>52</td>\n",
       "    </tr>\n",
       "    <tr>\n",
       "      <th>1</th>\n",
       "      <td>6873870</td>\n",
       "      <td>10001302</td>\n",
       "      <td>女</td>\n",
       "      <td>汉族</td>\n",
       "      <td>1992-11-06</td>\n",
       "      <td>28</td>\n",
       "      <td>153</td>\n",
       "      <td>52</td>\n",
       "    </tr>\n",
       "    <tr>\n",
       "      <th>2</th>\n",
       "      <td>6873870</td>\n",
       "      <td>10001302</td>\n",
       "      <td>女</td>\n",
       "      <td>汉族</td>\n",
       "      <td>1992-11-06</td>\n",
       "      <td>28</td>\n",
       "      <td>153</td>\n",
       "      <td>52</td>\n",
       "    </tr>\n",
       "    <tr>\n",
       "      <th>3</th>\n",
       "      <td>547307</td>\n",
       "      <td>10005574</td>\n",
       "      <td>女</td>\n",
       "      <td>汉族</td>\n",
       "      <td>1995-05-13</td>\n",
       "      <td>25</td>\n",
       "      <td>162</td>\n",
       "      <td>52</td>\n",
       "    </tr>\n",
       "    <tr>\n",
       "      <th>4</th>\n",
       "      <td>547307</td>\n",
       "      <td>10005574</td>\n",
       "      <td>女</td>\n",
       "      <td>汉族</td>\n",
       "      <td>1995-05-13</td>\n",
       "      <td>25</td>\n",
       "      <td>162</td>\n",
       "      <td>52</td>\n",
       "    </tr>\n",
       "    <tr>\n",
       "      <th>...</th>\n",
       "      <td>...</td>\n",
       "      <td>...</td>\n",
       "      <td>...</td>\n",
       "      <td>...</td>\n",
       "      <td>...</td>\n",
       "      <td>...</td>\n",
       "      <td>...</td>\n",
       "      <td>...</td>\n",
       "    </tr>\n",
       "    <tr>\n",
       "      <th>958</th>\n",
       "      <td>6865481</td>\n",
       "      <td>9910592</td>\n",
       "      <td>男</td>\n",
       "      <td>汉族</td>\n",
       "      <td>2000-11-06</td>\n",
       "      <td>20</td>\n",
       "      <td>183</td>\n",
       "      <td>80</td>\n",
       "    </tr>\n",
       "    <tr>\n",
       "      <th>959</th>\n",
       "      <td>6865481</td>\n",
       "      <td>9910592</td>\n",
       "      <td>男</td>\n",
       "      <td>汉族</td>\n",
       "      <td>2000-11-06</td>\n",
       "      <td>20</td>\n",
       "      <td>183</td>\n",
       "      <td>80</td>\n",
       "    </tr>\n",
       "    <tr>\n",
       "      <th>960</th>\n",
       "      <td>6865481</td>\n",
       "      <td>9910592</td>\n",
       "      <td>男</td>\n",
       "      <td>汉族</td>\n",
       "      <td>2000-11-06</td>\n",
       "      <td>20</td>\n",
       "      <td>183</td>\n",
       "      <td>80</td>\n",
       "    </tr>\n",
       "    <tr>\n",
       "      <th>961</th>\n",
       "      <td>8374053</td>\n",
       "      <td>9963165</td>\n",
       "      <td>女</td>\n",
       "      <td>汉族</td>\n",
       "      <td>1997-09-15</td>\n",
       "      <td>23</td>\n",
       "      <td>160</td>\n",
       "      <td>62</td>\n",
       "    </tr>\n",
       "    <tr>\n",
       "      <th>962</th>\n",
       "      <td>8374053</td>\n",
       "      <td>9963165</td>\n",
       "      <td>女</td>\n",
       "      <td>汉族</td>\n",
       "      <td>1997-09-15</td>\n",
       "      <td>23</td>\n",
       "      <td>160</td>\n",
       "      <td>62</td>\n",
       "    </tr>\n",
       "  </tbody>\n",
       "</table>\n",
       "<p>963 rows × 8 columns</p>\n",
       "</div>"
      ],
      "text/plain": [
       "    patient_id   case_no gender race  birth_year  age   身高  体重\n",
       "0      6873870  10001302      女   汉族  1992-11-06   28  153  52\n",
       "1      6873870  10001302      女   汉族  1992-11-06   28  153  52\n",
       "2      6873870  10001302      女   汉族  1992-11-06   28  153  52\n",
       "3       547307  10005574      女   汉族  1995-05-13   25  162  52\n",
       "4       547307  10005574      女   汉族  1995-05-13   25  162  52\n",
       "..         ...       ...    ...  ...         ...  ...  ...  ..\n",
       "958    6865481   9910592      男   汉族  2000-11-06   20  183  80\n",
       "959    6865481   9910592      男   汉族  2000-11-06   20  183  80\n",
       "960    6865481   9910592      男   汉族  2000-11-06   20  183  80\n",
       "961    8374053   9963165      女   汉族  1997-09-15   23  160  62\n",
       "962    8374053   9963165      女   汉族  1997-09-15   23  160  62\n",
       "\n",
       "[963 rows x 8 columns]"
      ]
     },
     "execution_count": 76,
     "metadata": {},
     "output_type": "execute_result"
    }
   ],
   "source": [
    "df_patient_merge"
   ]
  },
  {
   "cell_type": "code",
   "execution_count": 77,
   "metadata": {},
   "outputs": [
    {
     "name": "stdout",
     "output_type": "stream",
     "text": [
      "(963, 8)\n",
      "211\n"
     ]
    }
   ],
   "source": [
    "print(df_patient_merge.shape)\n",
    "print(df_patient_merge['patient_id'].nunique())"
   ]
  },
  {
   "cell_type": "code",
   "execution_count": 78,
   "metadata": {},
   "outputs": [],
   "source": [
    "df_patient_merge.to_excel(project_path+'/data/pre_processed_raw_data/人口学特征/df_patient_merge.xlsx')"
   ]
  },
  {
   "cell_type": "markdown",
   "metadata": {},
   "source": [
    "# 纳排"
   ]
  },
  {
   "cell_type": "markdown",
   "metadata": {},
   "source": [
    "## 纳入标准"
   ]
  },
  {
   "cell_type": "markdown",
   "metadata": {},
   "source": [
    "### 提取丙戊酸用药"
   ]
  },
  {
   "cell_type": "code",
   "execution_count": 79,
   "metadata": {},
   "outputs": [],
   "source": [
    "# 提取甲氨蝶呤的用药数据\n",
    "# 注意药物缩写和药物音译名，wtf\n",
    "df_VPA = df_doctor_order[df_doctor_order['drug_name'].str.contains('丙戊酸') & (~df_doctor_order['drug_name'].str.contains('药材科'))]"
   ]
  },
  {
   "cell_type": "code",
   "execution_count": 80,
   "metadata": {
    "scrolled": true
   },
   "outputs": [
    {
     "data": {
      "text/html": [
       "<div>\n",
       "<style scoped>\n",
       "    .dataframe tbody tr th:only-of-type {\n",
       "        vertical-align: middle;\n",
       "    }\n",
       "\n",
       "    .dataframe tbody tr th {\n",
       "        vertical-align: top;\n",
       "    }\n",
       "\n",
       "    .dataframe thead th {\n",
       "        text-align: right;\n",
       "    }\n",
       "</style>\n",
       "<table border=\"1\" class=\"dataframe\">\n",
       "  <thead>\n",
       "    <tr style=\"text-align: right;\">\n",
       "      <th></th>\n",
       "      <th>patient_id</th>\n",
       "      <th>case_no</th>\n",
       "      <th>drug_name</th>\n",
       "      <th>amount</th>\n",
       "      <th>drug_spec</th>\n",
       "      <th>dosage</th>\n",
       "      <th>frequency</th>\n",
       "      <th>start_datetime</th>\n",
       "      <th>end_datetime</th>\n",
       "      <th>statusdesc</th>\n",
       "    </tr>\n",
       "  </thead>\n",
       "  <tbody>\n",
       "    <tr>\n",
       "      <th>55</th>\n",
       "      <td>6873870</td>\n",
       "      <td>10001302</td>\n",
       "      <td>丙戊酸钠缓释片(德巴金)[0.5g*30片]</td>\n",
       "      <td>1.0</td>\n",
       "      <td>0.5g*30片</td>\n",
       "      <td>0.5g</td>\n",
       "      <td>2/日</td>\n",
       "      <td>2020-08-24 10:37:31</td>\n",
       "      <td>2020-09-04 11:38:00</td>\n",
       "      <td>停止</td>\n",
       "    </tr>\n",
       "    <tr>\n",
       "      <th>70</th>\n",
       "      <td>6873870</td>\n",
       "      <td>10001302</td>\n",
       "      <td>丙戊酸钠缓释片(德巴金)[0.5g*30片]</td>\n",
       "      <td>1.0</td>\n",
       "      <td>0.5g*30片</td>\n",
       "      <td>0.5g</td>\n",
       "      <td>ONCE</td>\n",
       "      <td>2020-08-25 17:31:34</td>\n",
       "      <td>NaT</td>\n",
       "      <td>核实</td>\n",
       "    </tr>\n",
       "    <tr>\n",
       "      <th>105</th>\n",
       "      <td>6873870</td>\n",
       "      <td>10001302</td>\n",
       "      <td>丙戊酸钠缓释片(德巴金)[0.5g*30片]</td>\n",
       "      <td>1.0</td>\n",
       "      <td>0.5g*30片</td>\n",
       "      <td>0.5g</td>\n",
       "      <td>2/日</td>\n",
       "      <td>2020-09-04 11:38:55</td>\n",
       "      <td>NaT</td>\n",
       "      <td>核实</td>\n",
       "    </tr>\n",
       "    <tr>\n",
       "      <th>150</th>\n",
       "      <td>6873870</td>\n",
       "      <td>10001302</td>\n",
       "      <td>丙戊酸钠缓释片(德巴金)[0.5g*30片]</td>\n",
       "      <td>1.0</td>\n",
       "      <td>0.5g*30片</td>\n",
       "      <td>0.5g</td>\n",
       "      <td>1/日</td>\n",
       "      <td>2020-08-15 19:51:46</td>\n",
       "      <td>2020-08-24 10:37:37</td>\n",
       "      <td>停止</td>\n",
       "    </tr>\n",
       "    <tr>\n",
       "      <th>298</th>\n",
       "      <td>547307</td>\n",
       "      <td>10005574</td>\n",
       "      <td>丙戊酸钠缓释片(德巴金)[0.5g*30片]</td>\n",
       "      <td>1.0</td>\n",
       "      <td>0.5g*30片</td>\n",
       "      <td>0.5g</td>\n",
       "      <td>ONCE</td>\n",
       "      <td>2020-08-16 16:41:46</td>\n",
       "      <td>NaT</td>\n",
       "      <td>核实</td>\n",
       "    </tr>\n",
       "    <tr>\n",
       "      <th>...</th>\n",
       "      <td>...</td>\n",
       "      <td>...</td>\n",
       "      <td>...</td>\n",
       "      <td>...</td>\n",
       "      <td>...</td>\n",
       "      <td>...</td>\n",
       "      <td>...</td>\n",
       "      <td>...</td>\n",
       "      <td>...</td>\n",
       "      <td>...</td>\n",
       "    </tr>\n",
       "    <tr>\n",
       "      <th>34998</th>\n",
       "      <td>6865481</td>\n",
       "      <td>9910592</td>\n",
       "      <td>丙戊酸钠糖浆[100ml:5g*1瓶]</td>\n",
       "      <td>1.0</td>\n",
       "      <td>100ml*1瓶</td>\n",
       "      <td>10ml</td>\n",
       "      <td>2/日</td>\n",
       "      <td>2020-08-24 15:55:18</td>\n",
       "      <td>NaT</td>\n",
       "      <td>核实</td>\n",
       "    </tr>\n",
       "    <tr>\n",
       "      <th>35007</th>\n",
       "      <td>6865481</td>\n",
       "      <td>9910592</td>\n",
       "      <td>丙戊酸钠糖浆[100ml:5g*1瓶]</td>\n",
       "      <td>3.0</td>\n",
       "      <td>100ml*1瓶</td>\n",
       "      <td>10ml</td>\n",
       "      <td>Tid</td>\n",
       "      <td>2020-08-26 11:38:49</td>\n",
       "      <td>NaT</td>\n",
       "      <td>核实</td>\n",
       "    </tr>\n",
       "    <tr>\n",
       "      <th>35061</th>\n",
       "      <td>6865481</td>\n",
       "      <td>9910592</td>\n",
       "      <td>丙戊酸钠缓释片(德巴金)[0.5g*30片]</td>\n",
       "      <td>1.0</td>\n",
       "      <td>0.5g*30片</td>\n",
       "      <td>0.5g</td>\n",
       "      <td>2/日</td>\n",
       "      <td>2020-08-06 15:27:36</td>\n",
       "      <td>2020-08-11 11:13:42</td>\n",
       "      <td>停止</td>\n",
       "    </tr>\n",
       "    <tr>\n",
       "      <th>35088</th>\n",
       "      <td>8374053</td>\n",
       "      <td>9963165</td>\n",
       "      <td>丙戊酸钠缓释片(德巴金)[0.5g*30片]</td>\n",
       "      <td>1.0</td>\n",
       "      <td>0.5g*30片</td>\n",
       "      <td>0.5g</td>\n",
       "      <td>2/日</td>\n",
       "      <td>2020-08-11 22:09:19</td>\n",
       "      <td>2020-08-18 08:48:00</td>\n",
       "      <td>停止</td>\n",
       "    </tr>\n",
       "    <tr>\n",
       "      <th>35162</th>\n",
       "      <td>8374053</td>\n",
       "      <td>9963165</td>\n",
       "      <td>丙戊酸钠缓释片(德巴金)[0.5g*30片]</td>\n",
       "      <td>1.0</td>\n",
       "      <td>0.5g*30片</td>\n",
       "      <td>0.5g</td>\n",
       "      <td>2/日</td>\n",
       "      <td>2020-08-17 11:07:52</td>\n",
       "      <td>NaT</td>\n",
       "      <td>核实</td>\n",
       "    </tr>\n",
       "  </tbody>\n",
       "</table>\n",
       "<p>864 rows × 10 columns</p>\n",
       "</div>"
      ],
      "text/plain": [
       "      patient_id   case_no               drug_name  amount drug_spec dosage  \\\n",
       "55       6873870  10001302  丙戊酸钠缓释片(德巴金)[0.5g*30片]     1.0  0.5g*30片   0.5g   \n",
       "70       6873870  10001302  丙戊酸钠缓释片(德巴金)[0.5g*30片]     1.0  0.5g*30片   0.5g   \n",
       "105      6873870  10001302  丙戊酸钠缓释片(德巴金)[0.5g*30片]     1.0  0.5g*30片   0.5g   \n",
       "150      6873870  10001302  丙戊酸钠缓释片(德巴金)[0.5g*30片]     1.0  0.5g*30片   0.5g   \n",
       "298       547307  10005574  丙戊酸钠缓释片(德巴金)[0.5g*30片]     1.0  0.5g*30片   0.5g   \n",
       "...          ...       ...                     ...     ...       ...    ...   \n",
       "34998    6865481   9910592     丙戊酸钠糖浆[100ml:5g*1瓶]     1.0  100ml*1瓶   10ml   \n",
       "35007    6865481   9910592     丙戊酸钠糖浆[100ml:5g*1瓶]     3.0  100ml*1瓶   10ml   \n",
       "35061    6865481   9910592  丙戊酸钠缓释片(德巴金)[0.5g*30片]     1.0  0.5g*30片   0.5g   \n",
       "35088    8374053   9963165  丙戊酸钠缓释片(德巴金)[0.5g*30片]     1.0  0.5g*30片   0.5g   \n",
       "35162    8374053   9963165  丙戊酸钠缓释片(德巴金)[0.5g*30片]     1.0  0.5g*30片   0.5g   \n",
       "\n",
       "      frequency      start_datetime        end_datetime statusdesc  \n",
       "55          2/日 2020-08-24 10:37:31 2020-09-04 11:38:00         停止  \n",
       "70         ONCE 2020-08-25 17:31:34                 NaT         核实  \n",
       "105         2/日 2020-09-04 11:38:55                 NaT         核实  \n",
       "150         1/日 2020-08-15 19:51:46 2020-08-24 10:37:37         停止  \n",
       "298        ONCE 2020-08-16 16:41:46                 NaT         核实  \n",
       "...         ...                 ...                 ...        ...  \n",
       "34998       2/日 2020-08-24 15:55:18                 NaT         核实  \n",
       "35007       Tid 2020-08-26 11:38:49                 NaT         核实  \n",
       "35061       2/日 2020-08-06 15:27:36 2020-08-11 11:13:42         停止  \n",
       "35088       2/日 2020-08-11 22:09:19 2020-08-18 08:48:00         停止  \n",
       "35162       2/日 2020-08-17 11:07:52                 NaT         核实  \n",
       "\n",
       "[864 rows x 10 columns]"
      ]
     },
     "execution_count": 80,
     "metadata": {},
     "output_type": "execute_result"
    }
   ],
   "source": [
    "df_VPA"
   ]
  },
  {
   "cell_type": "code",
   "execution_count": 81,
   "metadata": {},
   "outputs": [
    {
     "name": "stdout",
     "output_type": "stream",
     "text": [
      "(864, 10)\n",
      "212\n"
     ]
    }
   ],
   "source": [
    "print(df_VPA.shape)\n",
    "print(df_VPA['patient_id'].nunique())"
   ]
  },
  {
   "cell_type": "code",
   "execution_count": 82,
   "metadata": {
    "scrolled": true
   },
   "outputs": [],
   "source": [
    "# 保存丙戊酸用药数据\n",
    "df_VPA.to_excel(project_path+'/data/processed_data/df_VPA.xlsx')"
   ]
  },
  {
   "cell_type": "markdown",
   "metadata": {},
   "source": [
    "### 双相情感障碍者"
   ]
  },
  {
   "cell_type": "code",
   "execution_count": 83,
   "metadata": {},
   "outputs": [],
   "source": [
    "# 从diagnostic_record中提取双相情感障碍\n",
    "df_BD=df_diagnostic_record[df_diagnostic_record['diagnostic_content'].str.contains('双相')]"
   ]
  },
  {
   "cell_type": "code",
   "execution_count": 84,
   "metadata": {},
   "outputs": [
    {
     "data": {
      "text/plain": [
       "array(['双相情感障碍，目前为伴有精神病性症状的躁狂发作', '双相情感障碍，目前为轻度或中度抑郁发作',\n",
       "       '双相情感障碍目前为不伴精神病性症状躁狂发作', '双相情感障碍，目前为轻躁狂发作', '双相情感障碍，目前为中度抑郁发作',\n",
       "       '双相情感障碍，目前为缓解状态', '双相情感障碍', '双相情感障碍，目前为混合性发作',\n",
       "       '双相情感障碍目前为伴精神病的重度抑郁发作', '双相情感障碍目前为不伴精神病的重度抑郁发作', '非典型双相情感障碍',\n",
       "       '双相情感障碍，目前为不伴有精神病性症状的重度抑郁发作', '双相情感障碍,快速循环型',\n",
       "       '双相情感障碍，目前为躁狂发作，伴有精神病性症状', '双相情感障碍，目前为不伴有精神病性症状的躁狂发作', '双相性情感障碍',\n",
       "       '双相情感障碍（恢复期）', '双相情感障碍,目前为中度抑郁发作', '双相情感障碍，伴有精神病性症状，目前为躁狂发作',\n",
       "       '双相情感障碍不伴有精神病性症状的躁狂发作', '双相性情感障碍?', '双相情感障碍目前为伴精神病性症状的躁狂发作？',\n",
       "       '双相情感障碍，目前为混合性发作？', '双相情感障碍，目前为重度抑郁发作', '双相情感障碍？',\n",
       "       '双相情感障碍，目前为伴有精神病性症状的重度抑郁发作', '非典型双相情感障碍?',\n",
       "       '双相情感障碍，目前为重度抑郁发作，伴有精神病性症'], dtype=object)"
      ]
     },
     "execution_count": 84,
     "metadata": {},
     "output_type": "execute_result"
    }
   ],
   "source": [
    "df_BD['diagnostic_content'].unique()"
   ]
  },
  {
   "cell_type": "code",
   "execution_count": 85,
   "metadata": {},
   "outputs": [
    {
     "name": "stdout",
     "output_type": "stream",
     "text": [
      "(861, 5)\n",
      "348\n"
     ]
    }
   ],
   "source": [
    "print(df_BD.shape)\n",
    "print(df_BD['patient_id'].nunique())"
   ]
  },
  {
   "cell_type": "code",
   "execution_count": 86,
   "metadata": {},
   "outputs": [],
   "source": [
    "# 纳入双相情感障碍\n",
    "df_VPA_BD=df_VPA[df_VPA['patient_id'].isin(df_BD['patient_id'].unique())]"
   ]
  },
  {
   "cell_type": "code",
   "execution_count": 87,
   "metadata": {},
   "outputs": [
    {
     "name": "stdout",
     "output_type": "stream",
     "text": [
      "(854, 10)\n",
      "208\n"
     ]
    }
   ],
   "source": [
    "print(df_VPA_BD.shape)\n",
    "print(df_VPA_BD['patient_id'].nunique())"
   ]
  },
  {
   "cell_type": "code",
   "execution_count": 88,
   "metadata": {},
   "outputs": [
    {
     "data": {
      "text/plain": [
       "array(['7680010', '7506303', '7528046', '7512212'], dtype=object)"
      ]
     },
     "execution_count": 88,
     "metadata": {},
     "output_type": "execute_result"
    }
   ],
   "source": [
    "df_VPA_BD_not=df_VPA[~ df_VPA['patient_id'].isin(df_BD['patient_id'].unique())]\n",
    "df_VPA_BD_not['patient_id'].unique()"
   ]
  },
  {
   "cell_type": "code",
   "execution_count": 89,
   "metadata": {},
   "outputs": [
    {
     "data": {
      "text/plain": [
       "array(['7680010', '7506303', '7528046', '7512212'], dtype=object)"
      ]
     },
     "execution_count": 89,
     "metadata": {},
     "output_type": "execute_result"
    }
   ],
   "source": [
    "df_VPA_BD_not['patient_id'].unique()"
   ]
  },
  {
   "cell_type": "markdown",
   "metadata": {},
   "source": [
    "### 18-65岁"
   ]
  },
  {
   "cell_type": "code",
   "execution_count": 90,
   "metadata": {},
   "outputs": [],
   "source": [
    "df_age_adult=df_age[(df_age['age']>=18) & (df_age['age']<=65)]"
   ]
  },
  {
   "cell_type": "code",
   "execution_count": 91,
   "metadata": {},
   "outputs": [
    {
     "data": {
      "text/html": [
       "<div>\n",
       "<style scoped>\n",
       "    .dataframe tbody tr th:only-of-type {\n",
       "        vertical-align: middle;\n",
       "    }\n",
       "\n",
       "    .dataframe tbody tr th {\n",
       "        vertical-align: top;\n",
       "    }\n",
       "\n",
       "    .dataframe thead th {\n",
       "        text-align: right;\n",
       "    }\n",
       "</style>\n",
       "<table border=\"1\" class=\"dataframe\">\n",
       "  <thead>\n",
       "    <tr style=\"text-align: right;\">\n",
       "      <th></th>\n",
       "      <th>patient_id</th>\n",
       "      <th>case_no</th>\n",
       "      <th>age</th>\n",
       "    </tr>\n",
       "  </thead>\n",
       "  <tbody>\n",
       "    <tr>\n",
       "      <th>0</th>\n",
       "      <td>6873870</td>\n",
       "      <td>10001302</td>\n",
       "      <td>28</td>\n",
       "    </tr>\n",
       "    <tr>\n",
       "      <th>1</th>\n",
       "      <td>547307</td>\n",
       "      <td>10005574</td>\n",
       "      <td>25</td>\n",
       "    </tr>\n",
       "    <tr>\n",
       "      <th>2</th>\n",
       "      <td>6949939</td>\n",
       "      <td>10019847</td>\n",
       "      <td>27</td>\n",
       "    </tr>\n",
       "    <tr>\n",
       "      <th>4</th>\n",
       "      <td>369329</td>\n",
       "      <td>10028911</td>\n",
       "      <td>33</td>\n",
       "    </tr>\n",
       "    <tr>\n",
       "      <th>5</th>\n",
       "      <td>8242965</td>\n",
       "      <td>10130473</td>\n",
       "      <td>24</td>\n",
       "    </tr>\n",
       "    <tr>\n",
       "      <th>...</th>\n",
       "      <td>...</td>\n",
       "      <td>...</td>\n",
       "      <td>...</td>\n",
       "    </tr>\n",
       "    <tr>\n",
       "      <th>228</th>\n",
       "      <td>7299707</td>\n",
       "      <td>9781575</td>\n",
       "      <td>25</td>\n",
       "    </tr>\n",
       "    <tr>\n",
       "      <th>229</th>\n",
       "      <td>8325164</td>\n",
       "      <td>9812242</td>\n",
       "      <td>30</td>\n",
       "    </tr>\n",
       "    <tr>\n",
       "      <th>230</th>\n",
       "      <td>2583650</td>\n",
       "      <td>9818116</td>\n",
       "      <td>59</td>\n",
       "    </tr>\n",
       "    <tr>\n",
       "      <th>233</th>\n",
       "      <td>6865481</td>\n",
       "      <td>9910592</td>\n",
       "      <td>20</td>\n",
       "    </tr>\n",
       "    <tr>\n",
       "      <th>234</th>\n",
       "      <td>8374053</td>\n",
       "      <td>9963165</td>\n",
       "      <td>23</td>\n",
       "    </tr>\n",
       "  </tbody>\n",
       "</table>\n",
       "<p>186 rows × 3 columns</p>\n",
       "</div>"
      ],
      "text/plain": [
       "    patient_id   case_no  age\n",
       "0      6873870  10001302   28\n",
       "1       547307  10005574   25\n",
       "2      6949939  10019847   27\n",
       "4       369329  10028911   33\n",
       "5      8242965  10130473   24\n",
       "..         ...       ...  ...\n",
       "228    7299707   9781575   25\n",
       "229    8325164   9812242   30\n",
       "230    2583650   9818116   59\n",
       "233    6865481   9910592   20\n",
       "234    8374053   9963165   23\n",
       "\n",
       "[186 rows x 3 columns]"
      ]
     },
     "execution_count": 91,
     "metadata": {},
     "output_type": "execute_result"
    }
   ],
   "source": [
    "df_age_adult"
   ]
  },
  {
   "cell_type": "code",
   "execution_count": 92,
   "metadata": {},
   "outputs": [
    {
     "name": "stdout",
     "output_type": "stream",
     "text": [
      "(186, 3)\n",
      "165\n"
     ]
    }
   ],
   "source": [
    "print(df_age_adult.shape)\n",
    "print(df_age_adult['patient_id'].nunique())"
   ]
  },
  {
   "cell_type": "code",
   "execution_count": 93,
   "metadata": {},
   "outputs": [],
   "source": [
    "# 纳入年龄限制\n",
    "df_VPA_age=df_VPA_BD[df_VPA_BD['patient_id'].isin(df_age_adult['patient_id'].unique())]"
   ]
  },
  {
   "cell_type": "code",
   "execution_count": 94,
   "metadata": {},
   "outputs": [
    {
     "name": "stdout",
     "output_type": "stream",
     "text": [
      "(679, 10)\n",
      "161\n"
     ]
    }
   ],
   "source": [
    "print(df_VPA_age.shape)\n",
    "print(df_VPA_age['patient_id'].nunique())"
   ]
  },
  {
   "cell_type": "code",
   "execution_count": 95,
   "metadata": {
    "scrolled": true
   },
   "outputs": [],
   "source": [
    "df_VPA_age.to_excel(project_path+'/data/processed_data/df_temp_VPA_age.xlsx')"
   ]
  },
  {
   "cell_type": "markdown",
   "metadata": {},
   "source": [
    "### HAMD≥20，BRMS≥20"
   ]
  },
  {
   "cell_type": "markdown",
   "metadata": {},
   "source": [
    "### 达到血药浓度稳态"
   ]
  },
  {
   "cell_type": "markdown",
   "metadata": {},
   "source": [
    "#### 计算丙戊酸日剂量"
   ]
  },
  {
   "cell_type": "code",
   "execution_count": 96,
   "metadata": {},
   "outputs": [],
   "source": [
    "df_VPA_dosage=df_VPA_age.copy()\n",
    "\n",
    "# 清洗单次日剂量dosage，100ml--5g，1ml--0.05g\n",
    "df_VPA_dosage['dosage']=df_VPA_dosage['dosage'].apply(lambda x: float(x.replace('ml', ''))*0.05 if 'ml' in x else x.replace('g', ''))"
   ]
  },
  {
   "cell_type": "code",
   "execution_count": 97,
   "metadata": {},
   "outputs": [],
   "source": [
    "# 清洗频次\n",
    "one=['1/午','ONCE','1/日','1/日(餐前)','1/早','1/晚','1/日']\n",
    "two=['1/12小时','2/日']\n",
    "three=['Tid','3/日（餐前）']\n",
    "df_VPA_dosage['frequency']=df_VPA_dosage['frequency'].apply(lambda x: 1 if x in one else\n",
    "                                                                2 if x in two else\n",
    "                                                                3 if x in three else x)"
   ]
  },
  {
   "cell_type": "code",
   "execution_count": 98,
   "metadata": {},
   "outputs": [],
   "source": [
    "# 计算日剂量\n",
    "df_VPA_dosage['日剂量']=df_VPA_dosage['dosage'].astype('float') * df_VPA_dosage['frequency'].astype('float')"
   ]
  },
  {
   "cell_type": "code",
   "execution_count": 99,
   "metadata": {},
   "outputs": [
    {
     "data": {
      "text/html": [
       "<div>\n",
       "<style scoped>\n",
       "    .dataframe tbody tr th:only-of-type {\n",
       "        vertical-align: middle;\n",
       "    }\n",
       "\n",
       "    .dataframe tbody tr th {\n",
       "        vertical-align: top;\n",
       "    }\n",
       "\n",
       "    .dataframe thead th {\n",
       "        text-align: right;\n",
       "    }\n",
       "</style>\n",
       "<table border=\"1\" class=\"dataframe\">\n",
       "  <thead>\n",
       "    <tr style=\"text-align: right;\">\n",
       "      <th></th>\n",
       "      <th>patient_id</th>\n",
       "      <th>case_no</th>\n",
       "      <th>drug_name</th>\n",
       "      <th>amount</th>\n",
       "      <th>drug_spec</th>\n",
       "      <th>dosage</th>\n",
       "      <th>frequency</th>\n",
       "      <th>start_datetime</th>\n",
       "      <th>end_datetime</th>\n",
       "      <th>statusdesc</th>\n",
       "      <th>日剂量</th>\n",
       "    </tr>\n",
       "  </thead>\n",
       "  <tbody>\n",
       "    <tr>\n",
       "      <th>55</th>\n",
       "      <td>6873870</td>\n",
       "      <td>10001302</td>\n",
       "      <td>丙戊酸钠缓释片(德巴金)[0.5g*30片]</td>\n",
       "      <td>1.0</td>\n",
       "      <td>0.5g*30片</td>\n",
       "      <td>0.5</td>\n",
       "      <td>2</td>\n",
       "      <td>2020-08-24 10:37:31</td>\n",
       "      <td>2020-09-04 11:38:00</td>\n",
       "      <td>停止</td>\n",
       "      <td>1.0</td>\n",
       "    </tr>\n",
       "    <tr>\n",
       "      <th>70</th>\n",
       "      <td>6873870</td>\n",
       "      <td>10001302</td>\n",
       "      <td>丙戊酸钠缓释片(德巴金)[0.5g*30片]</td>\n",
       "      <td>1.0</td>\n",
       "      <td>0.5g*30片</td>\n",
       "      <td>0.5</td>\n",
       "      <td>1</td>\n",
       "      <td>2020-08-25 17:31:34</td>\n",
       "      <td>NaT</td>\n",
       "      <td>核实</td>\n",
       "      <td>0.5</td>\n",
       "    </tr>\n",
       "    <tr>\n",
       "      <th>105</th>\n",
       "      <td>6873870</td>\n",
       "      <td>10001302</td>\n",
       "      <td>丙戊酸钠缓释片(德巴金)[0.5g*30片]</td>\n",
       "      <td>1.0</td>\n",
       "      <td>0.5g*30片</td>\n",
       "      <td>0.5</td>\n",
       "      <td>2</td>\n",
       "      <td>2020-09-04 11:38:55</td>\n",
       "      <td>NaT</td>\n",
       "      <td>核实</td>\n",
       "      <td>1.0</td>\n",
       "    </tr>\n",
       "    <tr>\n",
       "      <th>150</th>\n",
       "      <td>6873870</td>\n",
       "      <td>10001302</td>\n",
       "      <td>丙戊酸钠缓释片(德巴金)[0.5g*30片]</td>\n",
       "      <td>1.0</td>\n",
       "      <td>0.5g*30片</td>\n",
       "      <td>0.5</td>\n",
       "      <td>1</td>\n",
       "      <td>2020-08-15 19:51:46</td>\n",
       "      <td>2020-08-24 10:37:37</td>\n",
       "      <td>停止</td>\n",
       "      <td>0.5</td>\n",
       "    </tr>\n",
       "    <tr>\n",
       "      <th>298</th>\n",
       "      <td>547307</td>\n",
       "      <td>10005574</td>\n",
       "      <td>丙戊酸钠缓释片(德巴金)[0.5g*30片]</td>\n",
       "      <td>1.0</td>\n",
       "      <td>0.5g*30片</td>\n",
       "      <td>0.5</td>\n",
       "      <td>1</td>\n",
       "      <td>2020-08-16 16:41:46</td>\n",
       "      <td>NaT</td>\n",
       "      <td>核实</td>\n",
       "      <td>0.5</td>\n",
       "    </tr>\n",
       "    <tr>\n",
       "      <th>...</th>\n",
       "      <td>...</td>\n",
       "      <td>...</td>\n",
       "      <td>...</td>\n",
       "      <td>...</td>\n",
       "      <td>...</td>\n",
       "      <td>...</td>\n",
       "      <td>...</td>\n",
       "      <td>...</td>\n",
       "      <td>...</td>\n",
       "      <td>...</td>\n",
       "      <td>...</td>\n",
       "    </tr>\n",
       "    <tr>\n",
       "      <th>34998</th>\n",
       "      <td>6865481</td>\n",
       "      <td>9910592</td>\n",
       "      <td>丙戊酸钠糖浆[100ml:5g*1瓶]</td>\n",
       "      <td>1.0</td>\n",
       "      <td>100ml*1瓶</td>\n",
       "      <td>0.5</td>\n",
       "      <td>2</td>\n",
       "      <td>2020-08-24 15:55:18</td>\n",
       "      <td>NaT</td>\n",
       "      <td>核实</td>\n",
       "      <td>1.0</td>\n",
       "    </tr>\n",
       "    <tr>\n",
       "      <th>35007</th>\n",
       "      <td>6865481</td>\n",
       "      <td>9910592</td>\n",
       "      <td>丙戊酸钠糖浆[100ml:5g*1瓶]</td>\n",
       "      <td>3.0</td>\n",
       "      <td>100ml*1瓶</td>\n",
       "      <td>0.5</td>\n",
       "      <td>3</td>\n",
       "      <td>2020-08-26 11:38:49</td>\n",
       "      <td>NaT</td>\n",
       "      <td>核实</td>\n",
       "      <td>1.5</td>\n",
       "    </tr>\n",
       "    <tr>\n",
       "      <th>35061</th>\n",
       "      <td>6865481</td>\n",
       "      <td>9910592</td>\n",
       "      <td>丙戊酸钠缓释片(德巴金)[0.5g*30片]</td>\n",
       "      <td>1.0</td>\n",
       "      <td>0.5g*30片</td>\n",
       "      <td>0.5</td>\n",
       "      <td>2</td>\n",
       "      <td>2020-08-06 15:27:36</td>\n",
       "      <td>2020-08-11 11:13:42</td>\n",
       "      <td>停止</td>\n",
       "      <td>1.0</td>\n",
       "    </tr>\n",
       "    <tr>\n",
       "      <th>35088</th>\n",
       "      <td>8374053</td>\n",
       "      <td>9963165</td>\n",
       "      <td>丙戊酸钠缓释片(德巴金)[0.5g*30片]</td>\n",
       "      <td>1.0</td>\n",
       "      <td>0.5g*30片</td>\n",
       "      <td>0.5</td>\n",
       "      <td>2</td>\n",
       "      <td>2020-08-11 22:09:19</td>\n",
       "      <td>2020-08-18 08:48:00</td>\n",
       "      <td>停止</td>\n",
       "      <td>1.0</td>\n",
       "    </tr>\n",
       "    <tr>\n",
       "      <th>35162</th>\n",
       "      <td>8374053</td>\n",
       "      <td>9963165</td>\n",
       "      <td>丙戊酸钠缓释片(德巴金)[0.5g*30片]</td>\n",
       "      <td>1.0</td>\n",
       "      <td>0.5g*30片</td>\n",
       "      <td>0.5</td>\n",
       "      <td>2</td>\n",
       "      <td>2020-08-17 11:07:52</td>\n",
       "      <td>NaT</td>\n",
       "      <td>核实</td>\n",
       "      <td>1.0</td>\n",
       "    </tr>\n",
       "  </tbody>\n",
       "</table>\n",
       "<p>679 rows × 11 columns</p>\n",
       "</div>"
      ],
      "text/plain": [
       "      patient_id   case_no               drug_name  amount drug_spec dosage  \\\n",
       "55       6873870  10001302  丙戊酸钠缓释片(德巴金)[0.5g*30片]     1.0  0.5g*30片    0.5   \n",
       "70       6873870  10001302  丙戊酸钠缓释片(德巴金)[0.5g*30片]     1.0  0.5g*30片    0.5   \n",
       "105      6873870  10001302  丙戊酸钠缓释片(德巴金)[0.5g*30片]     1.0  0.5g*30片    0.5   \n",
       "150      6873870  10001302  丙戊酸钠缓释片(德巴金)[0.5g*30片]     1.0  0.5g*30片    0.5   \n",
       "298       547307  10005574  丙戊酸钠缓释片(德巴金)[0.5g*30片]     1.0  0.5g*30片    0.5   \n",
       "...          ...       ...                     ...     ...       ...    ...   \n",
       "34998    6865481   9910592     丙戊酸钠糖浆[100ml:5g*1瓶]     1.0  100ml*1瓶    0.5   \n",
       "35007    6865481   9910592     丙戊酸钠糖浆[100ml:5g*1瓶]     3.0  100ml*1瓶    0.5   \n",
       "35061    6865481   9910592  丙戊酸钠缓释片(德巴金)[0.5g*30片]     1.0  0.5g*30片    0.5   \n",
       "35088    8374053   9963165  丙戊酸钠缓释片(德巴金)[0.5g*30片]     1.0  0.5g*30片    0.5   \n",
       "35162    8374053   9963165  丙戊酸钠缓释片(德巴金)[0.5g*30片]     1.0  0.5g*30片    0.5   \n",
       "\n",
       "       frequency      start_datetime        end_datetime statusdesc  日剂量  \n",
       "55             2 2020-08-24 10:37:31 2020-09-04 11:38:00         停止  1.0  \n",
       "70             1 2020-08-25 17:31:34                 NaT         核实  0.5  \n",
       "105            2 2020-09-04 11:38:55                 NaT         核实  1.0  \n",
       "150            1 2020-08-15 19:51:46 2020-08-24 10:37:37         停止  0.5  \n",
       "298            1 2020-08-16 16:41:46                 NaT         核实  0.5  \n",
       "...          ...                 ...                 ...        ...  ...  \n",
       "34998          2 2020-08-24 15:55:18                 NaT         核实  1.0  \n",
       "35007          3 2020-08-26 11:38:49                 NaT         核实  1.5  \n",
       "35061          2 2020-08-06 15:27:36 2020-08-11 11:13:42         停止  1.0  \n",
       "35088          2 2020-08-11 22:09:19 2020-08-18 08:48:00         停止  1.0  \n",
       "35162          2 2020-08-17 11:07:52                 NaT         核实  1.0  \n",
       "\n",
       "[679 rows x 11 columns]"
      ]
     },
     "execution_count": 99,
     "metadata": {},
     "output_type": "execute_result"
    }
   ],
   "source": [
    "df_VPA_dosage"
   ]
  },
  {
   "cell_type": "code",
   "execution_count": 100,
   "metadata": {},
   "outputs": [
    {
     "name": "stdout",
     "output_type": "stream",
     "text": [
      "(679, 11)\n",
      "161\n",
      "182\n"
     ]
    }
   ],
   "source": [
    "print(df_VPA_dosage.shape)\n",
    "print(df_VPA_dosage['patient_id'].nunique())\n",
    "print(df_VPA_dosage['case_no'].nunique())"
   ]
  },
  {
   "cell_type": "code",
   "execution_count": 101,
   "metadata": {},
   "outputs": [],
   "source": [
    "df_VPA_dosage.to_excel(project_path+'/data/processed_data/df_2.1.5.1_计算日剂量.xlsx')"
   ]
  },
  {
   "cell_type": "markdown",
   "metadata": {},
   "source": [
    "#### 提取年月日"
   ]
  },
  {
   "cell_type": "code",
   "execution_count": 102,
   "metadata": {},
   "outputs": [],
   "source": [
    "# 临时用药的结束时间=开始时间\n",
    "aaa=df_VPA_dosage[df_VPA_dosage['end_datetime'].isnull()]\n",
    "bbb=df_VPA_dosage[df_VPA_dosage['end_datetime'].notnull()]\n",
    "aaa['end_datetime']=aaa['start_datetime']"
   ]
  },
  {
   "cell_type": "code",
   "execution_count": 103,
   "metadata": {},
   "outputs": [
    {
     "data": {
      "text/html": [
       "<div>\n",
       "<style scoped>\n",
       "    .dataframe tbody tr th:only-of-type {\n",
       "        vertical-align: middle;\n",
       "    }\n",
       "\n",
       "    .dataframe tbody tr th {\n",
       "        vertical-align: top;\n",
       "    }\n",
       "\n",
       "    .dataframe thead th {\n",
       "        text-align: right;\n",
       "    }\n",
       "</style>\n",
       "<table border=\"1\" class=\"dataframe\">\n",
       "  <thead>\n",
       "    <tr style=\"text-align: right;\">\n",
       "      <th></th>\n",
       "      <th>patient_id</th>\n",
       "      <th>case_no</th>\n",
       "      <th>drug_name</th>\n",
       "      <th>amount</th>\n",
       "      <th>drug_spec</th>\n",
       "      <th>dosage</th>\n",
       "      <th>frequency</th>\n",
       "      <th>start_datetime</th>\n",
       "      <th>end_datetime</th>\n",
       "      <th>statusdesc</th>\n",
       "      <th>日剂量</th>\n",
       "    </tr>\n",
       "  </thead>\n",
       "  <tbody>\n",
       "    <tr>\n",
       "      <th>70</th>\n",
       "      <td>6873870</td>\n",
       "      <td>10001302</td>\n",
       "      <td>丙戊酸钠缓释片(德巴金)[0.5g*30片]</td>\n",
       "      <td>1.0</td>\n",
       "      <td>0.5g*30片</td>\n",
       "      <td>0.5</td>\n",
       "      <td>1</td>\n",
       "      <td>2020-08-25 17:31:34</td>\n",
       "      <td>2020-08-25 17:31:34</td>\n",
       "      <td>核实</td>\n",
       "      <td>0.5</td>\n",
       "    </tr>\n",
       "    <tr>\n",
       "      <th>105</th>\n",
       "      <td>6873870</td>\n",
       "      <td>10001302</td>\n",
       "      <td>丙戊酸钠缓释片(德巴金)[0.5g*30片]</td>\n",
       "      <td>1.0</td>\n",
       "      <td>0.5g*30片</td>\n",
       "      <td>0.5</td>\n",
       "      <td>2</td>\n",
       "      <td>2020-09-04 11:38:55</td>\n",
       "      <td>2020-09-04 11:38:55</td>\n",
       "      <td>核实</td>\n",
       "      <td>1.0</td>\n",
       "    </tr>\n",
       "    <tr>\n",
       "      <th>298</th>\n",
       "      <td>547307</td>\n",
       "      <td>10005574</td>\n",
       "      <td>丙戊酸钠缓释片(德巴金)[0.5g*30片]</td>\n",
       "      <td>1.0</td>\n",
       "      <td>0.5g*30片</td>\n",
       "      <td>0.5</td>\n",
       "      <td>1</td>\n",
       "      <td>2020-08-16 16:41:46</td>\n",
       "      <td>2020-08-16 16:41:46</td>\n",
       "      <td>核实</td>\n",
       "      <td>0.5</td>\n",
       "    </tr>\n",
       "    <tr>\n",
       "      <th>355</th>\n",
       "      <td>6949939</td>\n",
       "      <td>10019847</td>\n",
       "      <td>丙戊酸钠缓释片(德巴金)[0.5g*30片]</td>\n",
       "      <td>1.0</td>\n",
       "      <td>0.5g*30片</td>\n",
       "      <td>0.5</td>\n",
       "      <td>2</td>\n",
       "      <td>2020-09-02 11:12:03</td>\n",
       "      <td>2020-09-02 11:12:03</td>\n",
       "      <td>核实</td>\n",
       "      <td>1.0</td>\n",
       "    </tr>\n",
       "    <tr>\n",
       "      <th>677</th>\n",
       "      <td>369329</td>\n",
       "      <td>10028911</td>\n",
       "      <td>丙戊酸钠缓释片(德巴金)[0.5g*30片]</td>\n",
       "      <td>1.0</td>\n",
       "      <td>0.5g*30片</td>\n",
       "      <td>0.5</td>\n",
       "      <td>1</td>\n",
       "      <td>2020-08-18 17:26:03</td>\n",
       "      <td>2020-08-18 17:26:03</td>\n",
       "      <td>核实</td>\n",
       "      <td>0.5</td>\n",
       "    </tr>\n",
       "    <tr>\n",
       "      <th>...</th>\n",
       "      <td>...</td>\n",
       "      <td>...</td>\n",
       "      <td>...</td>\n",
       "      <td>...</td>\n",
       "      <td>...</td>\n",
       "      <td>...</td>\n",
       "      <td>...</td>\n",
       "      <td>...</td>\n",
       "      <td>...</td>\n",
       "      <td>...</td>\n",
       "      <td>...</td>\n",
       "    </tr>\n",
       "    <tr>\n",
       "      <th>34957</th>\n",
       "      <td>6865481</td>\n",
       "      <td>9910592</td>\n",
       "      <td>丙戊酸钠糖浆[100ml:5g*1瓶]</td>\n",
       "      <td>1.0</td>\n",
       "      <td>100ml*1瓶</td>\n",
       "      <td>0.5</td>\n",
       "      <td>2</td>\n",
       "      <td>2020-08-15 17:49:32</td>\n",
       "      <td>2020-08-15 17:49:32</td>\n",
       "      <td>核实</td>\n",
       "      <td>1.0</td>\n",
       "    </tr>\n",
       "    <tr>\n",
       "      <th>34979</th>\n",
       "      <td>6865481</td>\n",
       "      <td>9910592</td>\n",
       "      <td>丙戊酸钠糖浆[100ml:5g*1瓶]</td>\n",
       "      <td>1.0</td>\n",
       "      <td>100ml*1瓶</td>\n",
       "      <td>0.5</td>\n",
       "      <td>2</td>\n",
       "      <td>2020-08-20 20:52:36</td>\n",
       "      <td>2020-08-20 20:52:36</td>\n",
       "      <td>核实</td>\n",
       "      <td>1.0</td>\n",
       "    </tr>\n",
       "    <tr>\n",
       "      <th>34998</th>\n",
       "      <td>6865481</td>\n",
       "      <td>9910592</td>\n",
       "      <td>丙戊酸钠糖浆[100ml:5g*1瓶]</td>\n",
       "      <td>1.0</td>\n",
       "      <td>100ml*1瓶</td>\n",
       "      <td>0.5</td>\n",
       "      <td>2</td>\n",
       "      <td>2020-08-24 15:55:18</td>\n",
       "      <td>2020-08-24 15:55:18</td>\n",
       "      <td>核实</td>\n",
       "      <td>1.0</td>\n",
       "    </tr>\n",
       "    <tr>\n",
       "      <th>35007</th>\n",
       "      <td>6865481</td>\n",
       "      <td>9910592</td>\n",
       "      <td>丙戊酸钠糖浆[100ml:5g*1瓶]</td>\n",
       "      <td>3.0</td>\n",
       "      <td>100ml*1瓶</td>\n",
       "      <td>0.5</td>\n",
       "      <td>3</td>\n",
       "      <td>2020-08-26 11:38:49</td>\n",
       "      <td>2020-08-26 11:38:49</td>\n",
       "      <td>核实</td>\n",
       "      <td>1.5</td>\n",
       "    </tr>\n",
       "    <tr>\n",
       "      <th>35162</th>\n",
       "      <td>8374053</td>\n",
       "      <td>9963165</td>\n",
       "      <td>丙戊酸钠缓释片(德巴金)[0.5g*30片]</td>\n",
       "      <td>1.0</td>\n",
       "      <td>0.5g*30片</td>\n",
       "      <td>0.5</td>\n",
       "      <td>2</td>\n",
       "      <td>2020-08-17 11:07:52</td>\n",
       "      <td>2020-08-17 11:07:52</td>\n",
       "      <td>核实</td>\n",
       "      <td>1.0</td>\n",
       "    </tr>\n",
       "  </tbody>\n",
       "</table>\n",
       "<p>394 rows × 11 columns</p>\n",
       "</div>"
      ],
      "text/plain": [
       "      patient_id   case_no               drug_name  amount drug_spec dosage  \\\n",
       "70       6873870  10001302  丙戊酸钠缓释片(德巴金)[0.5g*30片]     1.0  0.5g*30片    0.5   \n",
       "105      6873870  10001302  丙戊酸钠缓释片(德巴金)[0.5g*30片]     1.0  0.5g*30片    0.5   \n",
       "298       547307  10005574  丙戊酸钠缓释片(德巴金)[0.5g*30片]     1.0  0.5g*30片    0.5   \n",
       "355      6949939  10019847  丙戊酸钠缓释片(德巴金)[0.5g*30片]     1.0  0.5g*30片    0.5   \n",
       "677       369329  10028911  丙戊酸钠缓释片(德巴金)[0.5g*30片]     1.0  0.5g*30片    0.5   \n",
       "...          ...       ...                     ...     ...       ...    ...   \n",
       "34957    6865481   9910592     丙戊酸钠糖浆[100ml:5g*1瓶]     1.0  100ml*1瓶    0.5   \n",
       "34979    6865481   9910592     丙戊酸钠糖浆[100ml:5g*1瓶]     1.0  100ml*1瓶    0.5   \n",
       "34998    6865481   9910592     丙戊酸钠糖浆[100ml:5g*1瓶]     1.0  100ml*1瓶    0.5   \n",
       "35007    6865481   9910592     丙戊酸钠糖浆[100ml:5g*1瓶]     3.0  100ml*1瓶    0.5   \n",
       "35162    8374053   9963165  丙戊酸钠缓释片(德巴金)[0.5g*30片]     1.0  0.5g*30片    0.5   \n",
       "\n",
       "       frequency      start_datetime        end_datetime statusdesc  日剂量  \n",
       "70             1 2020-08-25 17:31:34 2020-08-25 17:31:34         核实  0.5  \n",
       "105            2 2020-09-04 11:38:55 2020-09-04 11:38:55         核实  1.0  \n",
       "298            1 2020-08-16 16:41:46 2020-08-16 16:41:46         核实  0.5  \n",
       "355            2 2020-09-02 11:12:03 2020-09-02 11:12:03         核实  1.0  \n",
       "677            1 2020-08-18 17:26:03 2020-08-18 17:26:03         核实  0.5  \n",
       "...          ...                 ...                 ...        ...  ...  \n",
       "34957          2 2020-08-15 17:49:32 2020-08-15 17:49:32         核实  1.0  \n",
       "34979          2 2020-08-20 20:52:36 2020-08-20 20:52:36         核实  1.0  \n",
       "34998          2 2020-08-24 15:55:18 2020-08-24 15:55:18         核实  1.0  \n",
       "35007          3 2020-08-26 11:38:49 2020-08-26 11:38:49         核实  1.5  \n",
       "35162          2 2020-08-17 11:07:52 2020-08-17 11:07:52         核实  1.0  \n",
       "\n",
       "[394 rows x 11 columns]"
      ]
     },
     "execution_count": 103,
     "metadata": {},
     "output_type": "execute_result"
    }
   ],
   "source": [
    "aaa"
   ]
  },
  {
   "cell_type": "code",
   "execution_count": 104,
   "metadata": {},
   "outputs": [],
   "source": [
    "df_VPA_time=pd.concat([aaa,bbb],axis=0)\n",
    "# 排序\n",
    "df_VPA_time=df_VPA_time.sort_values(by=['patient_id','case_no','start_datetime'])"
   ]
  },
  {
   "cell_type": "code",
   "execution_count": 105,
   "metadata": {},
   "outputs": [
    {
     "name": "stdout",
     "output_type": "stream",
     "text": [
      "(679, 11)\n",
      "161\n",
      "182\n"
     ]
    }
   ],
   "source": [
    "print(df_VPA_time.shape)\n",
    "print(df_VPA_time['patient_id'].nunique())\n",
    "print(df_VPA_time['case_no'].nunique())"
   ]
  },
  {
   "cell_type": "code",
   "execution_count": 106,
   "metadata": {},
   "outputs": [],
   "source": [
    "# 提取丙戊酸用药时间的年月日\n",
    "df_VPA_time['start_date']=df_VPA_time['start_datetime'].apply(lambda x: str(x).split(' ')[0])\n",
    "df_VPA_time['end_date']=df_VPA_time['end_datetime'].apply(lambda x: str(x).split(' ')[0])"
   ]
  },
  {
   "cell_type": "code",
   "execution_count": 107,
   "metadata": {},
   "outputs": [],
   "source": [
    "df_VPA_time.to_excel(project_path+'/data/processed_data/df_2.1.5.2_提取年月日.xlsx')"
   ]
  },
  {
   "cell_type": "markdown",
   "metadata": {},
   "source": [
    "#### 拆分长期医嘱和临时医嘱"
   ]
  },
  {
   "cell_type": "code",
   "execution_count": 108,
   "metadata": {},
   "outputs": [],
   "source": [
    "# 同一剂量至少连续服用3天\n",
    "# 打长期医嘱标签\n",
    "df_VPA_time['long_d_order']=df_VPA_time['statusdesc'].apply(lambda x: 1 if re.match('停止',x) else 0)"
   ]
  },
  {
   "cell_type": "code",
   "execution_count": 109,
   "metadata": {},
   "outputs": [],
   "source": [
    "# 长期医嘱和临时医嘱分开\n",
    "drug_temp = df_VPA_time[df_VPA_time['long_d_order']==0]\n",
    "drug_long = df_VPA_time[df_VPA_time['long_d_order']==1]"
   ]
  },
  {
   "cell_type": "code",
   "execution_count": 110,
   "metadata": {},
   "outputs": [],
   "source": [
    "# 打临时时间标签\n",
    "drug_temp['临时时间标签']=drug_temp['start_datetime'].apply(lambda x: 0 if x.hour <13 else 1)"
   ]
  },
  {
   "cell_type": "code",
   "execution_count": 111,
   "metadata": {},
   "outputs": [
    {
     "name": "stdout",
     "output_type": "stream",
     "text": [
      "(394, 15)\n",
      "154\n",
      "174\n"
     ]
    }
   ],
   "source": [
    "print(drug_temp.shape)\n",
    "print(drug_temp['patient_id'].nunique())\n",
    "print(drug_temp['case_no'].nunique())"
   ]
  },
  {
   "cell_type": "code",
   "execution_count": 112,
   "metadata": {},
   "outputs": [],
   "source": [
    "# ======= 单独对‘临时医嘱’处理 =======\n",
    "drug_temp_all = drug_temp.drop_duplicates(subset=['patient_id','start_date'],keep='first')\n",
    "drug_temp_1 = drug_temp.drop_duplicates(subset=['patient_id','start_date','临时时间标签'],keep='first')\n",
    "drug_temp_group = drug_temp_1.groupby(['patient_id','start_date'])['日剂量'].sum().reset_index()   # 同一天的临时医嘱相加，保证每天一条临时医嘱\n",
    "\n",
    "# 拼接完整数据\n",
    "drug_temp_result = pd.merge(drug_temp_all.drop(columns=['日剂量','临时时间标签']),drug_temp_group,on=['patient_id','start_date'],how='inner')"
   ]
  },
  {
   "cell_type": "code",
   "execution_count": 113,
   "metadata": {},
   "outputs": [
    {
     "name": "stdout",
     "output_type": "stream",
     "text": [
      "(346, 14)\n",
      "154\n",
      "174\n"
     ]
    }
   ],
   "source": [
    "print(drug_temp_result.shape)\n",
    "print(drug_temp_result['patient_id'].nunique())\n",
    "print(drug_temp_result['case_no'].nunique())"
   ]
  },
  {
   "cell_type": "code",
   "execution_count": 114,
   "metadata": {},
   "outputs": [
    {
     "data": {
      "text/html": [
       "<div>\n",
       "<style scoped>\n",
       "    .dataframe tbody tr th:only-of-type {\n",
       "        vertical-align: middle;\n",
       "    }\n",
       "\n",
       "    .dataframe tbody tr th {\n",
       "        vertical-align: top;\n",
       "    }\n",
       "\n",
       "    .dataframe thead th {\n",
       "        text-align: right;\n",
       "    }\n",
       "</style>\n",
       "<table border=\"1\" class=\"dataframe\">\n",
       "  <thead>\n",
       "    <tr style=\"text-align: right;\">\n",
       "      <th></th>\n",
       "      <th>patient_id</th>\n",
       "      <th>case_no</th>\n",
       "      <th>drug_name</th>\n",
       "      <th>amount</th>\n",
       "      <th>drug_spec</th>\n",
       "      <th>dosage</th>\n",
       "      <th>frequency</th>\n",
       "      <th>start_datetime</th>\n",
       "      <th>end_datetime</th>\n",
       "      <th>statusdesc</th>\n",
       "      <th>start_date</th>\n",
       "      <th>end_date</th>\n",
       "      <th>long_d_order</th>\n",
       "      <th>日剂量</th>\n",
       "    </tr>\n",
       "  </thead>\n",
       "  <tbody>\n",
       "    <tr>\n",
       "      <th>0</th>\n",
       "      <td>1112533</td>\n",
       "      <td>12210690</td>\n",
       "      <td>丙戊酸钠缓释片(德巴金)[0.5g*30片]</td>\n",
       "      <td>1.0</td>\n",
       "      <td>0.5g*30片</td>\n",
       "      <td>0.5</td>\n",
       "      <td>1</td>\n",
       "      <td>2021-03-29 19:14:29</td>\n",
       "      <td>2021-03-29 19:14:29</td>\n",
       "      <td>核实</td>\n",
       "      <td>2021-03-29</td>\n",
       "      <td>2021-03-29</td>\n",
       "      <td>0</td>\n",
       "      <td>0.5</td>\n",
       "    </tr>\n",
       "    <tr>\n",
       "      <th>1</th>\n",
       "      <td>1112533</td>\n",
       "      <td>12210690</td>\n",
       "      <td>丙戊酸钠缓释片(德巴金)[0.5g*30片]</td>\n",
       "      <td>1.0</td>\n",
       "      <td>0.5g*30片</td>\n",
       "      <td>0.5</td>\n",
       "      <td>2</td>\n",
       "      <td>2021-03-31 09:09:50</td>\n",
       "      <td>2021-03-31 09:09:50</td>\n",
       "      <td>核实</td>\n",
       "      <td>2021-03-31</td>\n",
       "      <td>2021-03-31</td>\n",
       "      <td>0</td>\n",
       "      <td>1.0</td>\n",
       "    </tr>\n",
       "    <tr>\n",
       "      <th>2</th>\n",
       "      <td>1112533</td>\n",
       "      <td>12210690</td>\n",
       "      <td>丙戊酸钠缓释片(德巴金)[0.5g*30片]</td>\n",
       "      <td>1.0</td>\n",
       "      <td>0.5g*30片</td>\n",
       "      <td>0.5</td>\n",
       "      <td>1</td>\n",
       "      <td>2021-04-07 09:10:18</td>\n",
       "      <td>2021-04-07 09:10:18</td>\n",
       "      <td>核实</td>\n",
       "      <td>2021-04-07</td>\n",
       "      <td>2021-04-07</td>\n",
       "      <td>0</td>\n",
       "      <td>0.5</td>\n",
       "    </tr>\n",
       "    <tr>\n",
       "      <th>3</th>\n",
       "      <td>1112533</td>\n",
       "      <td>12210690</td>\n",
       "      <td>丙戊酸钠缓释片(德巴金)[0.5g*30片]</td>\n",
       "      <td>1.0</td>\n",
       "      <td>0.5g*30片</td>\n",
       "      <td>0.5</td>\n",
       "      <td>1</td>\n",
       "      <td>2021-04-09 19:49:24</td>\n",
       "      <td>2021-04-09 19:49:24</td>\n",
       "      <td>核实</td>\n",
       "      <td>2021-04-09</td>\n",
       "      <td>2021-04-09</td>\n",
       "      <td>0</td>\n",
       "      <td>0.5</td>\n",
       "    </tr>\n",
       "    <tr>\n",
       "      <th>4</th>\n",
       "      <td>1173560</td>\n",
       "      <td>13397293</td>\n",
       "      <td>丙戊酸钠缓释片(德巴金)[0.5g*30片]</td>\n",
       "      <td>1.0</td>\n",
       "      <td>0.5g*30片</td>\n",
       "      <td>0.5</td>\n",
       "      <td>2</td>\n",
       "      <td>2021-07-21 16:21:42</td>\n",
       "      <td>2021-07-21 16:21:42</td>\n",
       "      <td>核实</td>\n",
       "      <td>2021-07-21</td>\n",
       "      <td>2021-07-21</td>\n",
       "      <td>0</td>\n",
       "      <td>1.0</td>\n",
       "    </tr>\n",
       "    <tr>\n",
       "      <th>...</th>\n",
       "      <td>...</td>\n",
       "      <td>...</td>\n",
       "      <td>...</td>\n",
       "      <td>...</td>\n",
       "      <td>...</td>\n",
       "      <td>...</td>\n",
       "      <td>...</td>\n",
       "      <td>...</td>\n",
       "      <td>...</td>\n",
       "      <td>...</td>\n",
       "      <td>...</td>\n",
       "      <td>...</td>\n",
       "      <td>...</td>\n",
       "      <td>...</td>\n",
       "    </tr>\n",
       "    <tr>\n",
       "      <th>341</th>\n",
       "      <td>9290063</td>\n",
       "      <td>14107745</td>\n",
       "      <td>丙戊酸钠缓释片(德巴金)[0.5g*30片]</td>\n",
       "      <td>1.0</td>\n",
       "      <td>0.5g*30片</td>\n",
       "      <td>0.5</td>\n",
       "      <td>1</td>\n",
       "      <td>2021-09-22 18:47:53</td>\n",
       "      <td>2021-09-22 18:47:53</td>\n",
       "      <td>核实</td>\n",
       "      <td>2021-09-22</td>\n",
       "      <td>2021-09-22</td>\n",
       "      <td>0</td>\n",
       "      <td>0.5</td>\n",
       "    </tr>\n",
       "    <tr>\n",
       "      <th>342</th>\n",
       "      <td>9290063</td>\n",
       "      <td>14107745</td>\n",
       "      <td>丙戊酸钠缓释片(德巴金)[0.5g*30片]</td>\n",
       "      <td>1.0</td>\n",
       "      <td>0.5g*30片</td>\n",
       "      <td>0.5</td>\n",
       "      <td>1</td>\n",
       "      <td>2021-10-20 08:53:52</td>\n",
       "      <td>2021-10-20 08:53:52</td>\n",
       "      <td>核实</td>\n",
       "      <td>2021-10-20</td>\n",
       "      <td>2021-10-20</td>\n",
       "      <td>0</td>\n",
       "      <td>0.5</td>\n",
       "    </tr>\n",
       "    <tr>\n",
       "      <th>343</th>\n",
       "      <td>9290063</td>\n",
       "      <td>14107745</td>\n",
       "      <td>丙戊酸钠缓释片(德巴金)[0.5g*30片]</td>\n",
       "      <td>1.0</td>\n",
       "      <td>0.5g*30片</td>\n",
       "      <td>0.5</td>\n",
       "      <td>2</td>\n",
       "      <td>2021-11-08 09:01:08</td>\n",
       "      <td>2021-11-08 09:01:08</td>\n",
       "      <td>核实</td>\n",
       "      <td>2021-11-08</td>\n",
       "      <td>2021-11-08</td>\n",
       "      <td>0</td>\n",
       "      <td>1.0</td>\n",
       "    </tr>\n",
       "    <tr>\n",
       "      <th>344</th>\n",
       "      <td>9307105</td>\n",
       "      <td>14184132</td>\n",
       "      <td>丙戊酸钠缓释片(德巴金)[0.5g*30片]</td>\n",
       "      <td>1.0</td>\n",
       "      <td>0.5g*30片</td>\n",
       "      <td>0.5</td>\n",
       "      <td>1</td>\n",
       "      <td>2021-09-29 15:07:29</td>\n",
       "      <td>2021-09-29 15:07:29</td>\n",
       "      <td>核实</td>\n",
       "      <td>2021-09-29</td>\n",
       "      <td>2021-09-29</td>\n",
       "      <td>0</td>\n",
       "      <td>0.5</td>\n",
       "    </tr>\n",
       "    <tr>\n",
       "      <th>345</th>\n",
       "      <td>9307105</td>\n",
       "      <td>14184132</td>\n",
       "      <td>丙戊酸钠缓释片(德巴金)[0.5g*30片]</td>\n",
       "      <td>1.0</td>\n",
       "      <td>0.5g*30片</td>\n",
       "      <td>0.5</td>\n",
       "      <td>2</td>\n",
       "      <td>2021-09-30 10:29:44</td>\n",
       "      <td>2021-09-30 10:29:44</td>\n",
       "      <td>核实</td>\n",
       "      <td>2021-09-30</td>\n",
       "      <td>2021-09-30</td>\n",
       "      <td>0</td>\n",
       "      <td>1.0</td>\n",
       "    </tr>\n",
       "  </tbody>\n",
       "</table>\n",
       "<p>346 rows × 14 columns</p>\n",
       "</div>"
      ],
      "text/plain": [
       "    patient_id   case_no               drug_name  amount drug_spec dosage  \\\n",
       "0      1112533  12210690  丙戊酸钠缓释片(德巴金)[0.5g*30片]     1.0  0.5g*30片    0.5   \n",
       "1      1112533  12210690  丙戊酸钠缓释片(德巴金)[0.5g*30片]     1.0  0.5g*30片    0.5   \n",
       "2      1112533  12210690  丙戊酸钠缓释片(德巴金)[0.5g*30片]     1.0  0.5g*30片    0.5   \n",
       "3      1112533  12210690  丙戊酸钠缓释片(德巴金)[0.5g*30片]     1.0  0.5g*30片    0.5   \n",
       "4      1173560  13397293  丙戊酸钠缓释片(德巴金)[0.5g*30片]     1.0  0.5g*30片    0.5   \n",
       "..         ...       ...                     ...     ...       ...    ...   \n",
       "341    9290063  14107745  丙戊酸钠缓释片(德巴金)[0.5g*30片]     1.0  0.5g*30片    0.5   \n",
       "342    9290063  14107745  丙戊酸钠缓释片(德巴金)[0.5g*30片]     1.0  0.5g*30片    0.5   \n",
       "343    9290063  14107745  丙戊酸钠缓释片(德巴金)[0.5g*30片]     1.0  0.5g*30片    0.5   \n",
       "344    9307105  14184132  丙戊酸钠缓释片(德巴金)[0.5g*30片]     1.0  0.5g*30片    0.5   \n",
       "345    9307105  14184132  丙戊酸钠缓释片(德巴金)[0.5g*30片]     1.0  0.5g*30片    0.5   \n",
       "\n",
       "     frequency      start_datetime        end_datetime statusdesc  start_date  \\\n",
       "0            1 2021-03-29 19:14:29 2021-03-29 19:14:29         核实  2021-03-29   \n",
       "1            2 2021-03-31 09:09:50 2021-03-31 09:09:50         核实  2021-03-31   \n",
       "2            1 2021-04-07 09:10:18 2021-04-07 09:10:18         核实  2021-04-07   \n",
       "3            1 2021-04-09 19:49:24 2021-04-09 19:49:24         核实  2021-04-09   \n",
       "4            2 2021-07-21 16:21:42 2021-07-21 16:21:42         核实  2021-07-21   \n",
       "..         ...                 ...                 ...        ...         ...   \n",
       "341          1 2021-09-22 18:47:53 2021-09-22 18:47:53         核实  2021-09-22   \n",
       "342          1 2021-10-20 08:53:52 2021-10-20 08:53:52         核实  2021-10-20   \n",
       "343          2 2021-11-08 09:01:08 2021-11-08 09:01:08         核实  2021-11-08   \n",
       "344          1 2021-09-29 15:07:29 2021-09-29 15:07:29         核实  2021-09-29   \n",
       "345          2 2021-09-30 10:29:44 2021-09-30 10:29:44         核实  2021-09-30   \n",
       "\n",
       "       end_date  long_d_order  日剂量  \n",
       "0    2021-03-29             0  0.5  \n",
       "1    2021-03-31             0  1.0  \n",
       "2    2021-04-07             0  0.5  \n",
       "3    2021-04-09             0  0.5  \n",
       "4    2021-07-21             0  1.0  \n",
       "..          ...           ...  ...  \n",
       "341  2021-09-22             0  0.5  \n",
       "342  2021-10-20             0  0.5  \n",
       "343  2021-11-08             0  1.0  \n",
       "344  2021-09-29             0  0.5  \n",
       "345  2021-09-30             0  1.0  \n",
       "\n",
       "[346 rows x 14 columns]"
      ]
     },
     "execution_count": 114,
     "metadata": {},
     "output_type": "execute_result"
    }
   ],
   "source": [
    "drug_temp_result"
   ]
  },
  {
   "cell_type": "code",
   "execution_count": 115,
   "metadata": {},
   "outputs": [],
   "source": [
    "# 把‘临时医嘱’和‘长期医嘱’拼接\n",
    "df_test_1 = pd.concat([drug_long,drug_temp_result],axis=0)\n",
    "df_test_1 = df_test_1[drug_long.columns.tolist()]\n",
    "\n",
    "# 拼接后重新排序\n",
    "drug_vancomycin_4 = df_test_1.groupby(['case_no']).apply(\n",
    "    lambda _df: _df.sort_values(by=['start_datetime'],ascending=1)).reset_index(drop=True)"
   ]
  },
  {
   "cell_type": "code",
   "execution_count": 116,
   "metadata": {},
   "outputs": [
    {
     "data": {
      "text/html": [
       "<div>\n",
       "<style scoped>\n",
       "    .dataframe tbody tr th:only-of-type {\n",
       "        vertical-align: middle;\n",
       "    }\n",
       "\n",
       "    .dataframe tbody tr th {\n",
       "        vertical-align: top;\n",
       "    }\n",
       "\n",
       "    .dataframe thead th {\n",
       "        text-align: right;\n",
       "    }\n",
       "</style>\n",
       "<table border=\"1\" class=\"dataframe\">\n",
       "  <thead>\n",
       "    <tr style=\"text-align: right;\">\n",
       "      <th></th>\n",
       "      <th>patient_id</th>\n",
       "      <th>case_no</th>\n",
       "      <th>drug_name</th>\n",
       "      <th>amount</th>\n",
       "      <th>drug_spec</th>\n",
       "      <th>dosage</th>\n",
       "      <th>frequency</th>\n",
       "      <th>start_datetime</th>\n",
       "      <th>end_datetime</th>\n",
       "      <th>statusdesc</th>\n",
       "      <th>日剂量</th>\n",
       "      <th>start_date</th>\n",
       "      <th>end_date</th>\n",
       "      <th>long_d_order</th>\n",
       "    </tr>\n",
       "  </thead>\n",
       "  <tbody>\n",
       "    <tr>\n",
       "      <th>0</th>\n",
       "      <td>6873870</td>\n",
       "      <td>10001302</td>\n",
       "      <td>丙戊酸钠缓释片(德巴金)[0.5g*30片]</td>\n",
       "      <td>1.0</td>\n",
       "      <td>0.5g*30片</td>\n",
       "      <td>0.5</td>\n",
       "      <td>1</td>\n",
       "      <td>2020-08-15 19:51:46</td>\n",
       "      <td>2020-08-24 10:37:37</td>\n",
       "      <td>停止</td>\n",
       "      <td>0.5</td>\n",
       "      <td>2020-08-15</td>\n",
       "      <td>2020-08-24</td>\n",
       "      <td>1</td>\n",
       "    </tr>\n",
       "    <tr>\n",
       "      <th>1</th>\n",
       "      <td>6873870</td>\n",
       "      <td>10001302</td>\n",
       "      <td>丙戊酸钠缓释片(德巴金)[0.5g*30片]</td>\n",
       "      <td>1.0</td>\n",
       "      <td>0.5g*30片</td>\n",
       "      <td>0.5</td>\n",
       "      <td>2</td>\n",
       "      <td>2020-08-24 10:37:31</td>\n",
       "      <td>2020-09-04 11:38:00</td>\n",
       "      <td>停止</td>\n",
       "      <td>1.0</td>\n",
       "      <td>2020-08-24</td>\n",
       "      <td>2020-09-04</td>\n",
       "      <td>1</td>\n",
       "    </tr>\n",
       "    <tr>\n",
       "      <th>2</th>\n",
       "      <td>6873870</td>\n",
       "      <td>10001302</td>\n",
       "      <td>丙戊酸钠缓释片(德巴金)[0.5g*30片]</td>\n",
       "      <td>1.0</td>\n",
       "      <td>0.5g*30片</td>\n",
       "      <td>0.5</td>\n",
       "      <td>1</td>\n",
       "      <td>2020-08-25 17:31:34</td>\n",
       "      <td>2020-08-25 17:31:34</td>\n",
       "      <td>核实</td>\n",
       "      <td>0.5</td>\n",
       "      <td>2020-08-25</td>\n",
       "      <td>2020-08-25</td>\n",
       "      <td>0</td>\n",
       "    </tr>\n",
       "    <tr>\n",
       "      <th>3</th>\n",
       "      <td>6873870</td>\n",
       "      <td>10001302</td>\n",
       "      <td>丙戊酸钠缓释片(德巴金)[0.5g*30片]</td>\n",
       "      <td>1.0</td>\n",
       "      <td>0.5g*30片</td>\n",
       "      <td>0.5</td>\n",
       "      <td>2</td>\n",
       "      <td>2020-09-04 11:38:55</td>\n",
       "      <td>2020-09-04 11:38:55</td>\n",
       "      <td>核实</td>\n",
       "      <td>1.0</td>\n",
       "      <td>2020-09-04</td>\n",
       "      <td>2020-09-04</td>\n",
       "      <td>0</td>\n",
       "    </tr>\n",
       "    <tr>\n",
       "      <th>4</th>\n",
       "      <td>547307</td>\n",
       "      <td>10005574</td>\n",
       "      <td>丙戊酸钠缓释片(德巴金)[0.5g*30片]</td>\n",
       "      <td>1.0</td>\n",
       "      <td>0.5g*30片</td>\n",
       "      <td>0.5</td>\n",
       "      <td>2</td>\n",
       "      <td>2020-08-16 16:41:46</td>\n",
       "      <td>2020-08-31 11:15:00</td>\n",
       "      <td>停止</td>\n",
       "      <td>1.0</td>\n",
       "      <td>2020-08-16</td>\n",
       "      <td>2020-08-31</td>\n",
       "      <td>1</td>\n",
       "    </tr>\n",
       "    <tr>\n",
       "      <th>...</th>\n",
       "      <td>...</td>\n",
       "      <td>...</td>\n",
       "      <td>...</td>\n",
       "      <td>...</td>\n",
       "      <td>...</td>\n",
       "      <td>...</td>\n",
       "      <td>...</td>\n",
       "      <td>...</td>\n",
       "      <td>...</td>\n",
       "      <td>...</td>\n",
       "      <td>...</td>\n",
       "      <td>...</td>\n",
       "      <td>...</td>\n",
       "      <td>...</td>\n",
       "    </tr>\n",
       "    <tr>\n",
       "      <th>626</th>\n",
       "      <td>6865481</td>\n",
       "      <td>9910592</td>\n",
       "      <td>丙戊酸钠糖浆[100ml:5g*1瓶]</td>\n",
       "      <td>1.0</td>\n",
       "      <td>100ml*1瓶</td>\n",
       "      <td>0.5</td>\n",
       "      <td>2</td>\n",
       "      <td>2020-08-20 20:52:36</td>\n",
       "      <td>2020-08-20 20:52:36</td>\n",
       "      <td>核实</td>\n",
       "      <td>1.0</td>\n",
       "      <td>2020-08-20</td>\n",
       "      <td>2020-08-20</td>\n",
       "      <td>0</td>\n",
       "    </tr>\n",
       "    <tr>\n",
       "      <th>627</th>\n",
       "      <td>6865481</td>\n",
       "      <td>9910592</td>\n",
       "      <td>丙戊酸钠糖浆[100ml:5g*1瓶]</td>\n",
       "      <td>1.0</td>\n",
       "      <td>100ml*1瓶</td>\n",
       "      <td>0.5</td>\n",
       "      <td>2</td>\n",
       "      <td>2020-08-24 15:55:18</td>\n",
       "      <td>2020-08-24 15:55:18</td>\n",
       "      <td>核实</td>\n",
       "      <td>1.0</td>\n",
       "      <td>2020-08-24</td>\n",
       "      <td>2020-08-24</td>\n",
       "      <td>0</td>\n",
       "    </tr>\n",
       "    <tr>\n",
       "      <th>628</th>\n",
       "      <td>6865481</td>\n",
       "      <td>9910592</td>\n",
       "      <td>丙戊酸钠糖浆[100ml:5g*1瓶]</td>\n",
       "      <td>3.0</td>\n",
       "      <td>100ml*1瓶</td>\n",
       "      <td>0.5</td>\n",
       "      <td>3</td>\n",
       "      <td>2020-08-26 11:38:49</td>\n",
       "      <td>2020-08-26 11:38:49</td>\n",
       "      <td>核实</td>\n",
       "      <td>1.5</td>\n",
       "      <td>2020-08-26</td>\n",
       "      <td>2020-08-26</td>\n",
       "      <td>0</td>\n",
       "    </tr>\n",
       "    <tr>\n",
       "      <th>629</th>\n",
       "      <td>8374053</td>\n",
       "      <td>9963165</td>\n",
       "      <td>丙戊酸钠缓释片(德巴金)[0.5g*30片]</td>\n",
       "      <td>1.0</td>\n",
       "      <td>0.5g*30片</td>\n",
       "      <td>0.5</td>\n",
       "      <td>2</td>\n",
       "      <td>2020-08-11 22:09:19</td>\n",
       "      <td>2020-08-18 08:48:00</td>\n",
       "      <td>停止</td>\n",
       "      <td>1.0</td>\n",
       "      <td>2020-08-11</td>\n",
       "      <td>2020-08-18</td>\n",
       "      <td>1</td>\n",
       "    </tr>\n",
       "    <tr>\n",
       "      <th>630</th>\n",
       "      <td>8374053</td>\n",
       "      <td>9963165</td>\n",
       "      <td>丙戊酸钠缓释片(德巴金)[0.5g*30片]</td>\n",
       "      <td>1.0</td>\n",
       "      <td>0.5g*30片</td>\n",
       "      <td>0.5</td>\n",
       "      <td>2</td>\n",
       "      <td>2020-08-17 11:07:52</td>\n",
       "      <td>2020-08-17 11:07:52</td>\n",
       "      <td>核实</td>\n",
       "      <td>1.0</td>\n",
       "      <td>2020-08-17</td>\n",
       "      <td>2020-08-17</td>\n",
       "      <td>0</td>\n",
       "    </tr>\n",
       "  </tbody>\n",
       "</table>\n",
       "<p>631 rows × 14 columns</p>\n",
       "</div>"
      ],
      "text/plain": [
       "    patient_id   case_no               drug_name  amount drug_spec dosage  \\\n",
       "0      6873870  10001302  丙戊酸钠缓释片(德巴金)[0.5g*30片]     1.0  0.5g*30片    0.5   \n",
       "1      6873870  10001302  丙戊酸钠缓释片(德巴金)[0.5g*30片]     1.0  0.5g*30片    0.5   \n",
       "2      6873870  10001302  丙戊酸钠缓释片(德巴金)[0.5g*30片]     1.0  0.5g*30片    0.5   \n",
       "3      6873870  10001302  丙戊酸钠缓释片(德巴金)[0.5g*30片]     1.0  0.5g*30片    0.5   \n",
       "4       547307  10005574  丙戊酸钠缓释片(德巴金)[0.5g*30片]     1.0  0.5g*30片    0.5   \n",
       "..         ...       ...                     ...     ...       ...    ...   \n",
       "626    6865481   9910592     丙戊酸钠糖浆[100ml:5g*1瓶]     1.0  100ml*1瓶    0.5   \n",
       "627    6865481   9910592     丙戊酸钠糖浆[100ml:5g*1瓶]     1.0  100ml*1瓶    0.5   \n",
       "628    6865481   9910592     丙戊酸钠糖浆[100ml:5g*1瓶]     3.0  100ml*1瓶    0.5   \n",
       "629    8374053   9963165  丙戊酸钠缓释片(德巴金)[0.5g*30片]     1.0  0.5g*30片    0.5   \n",
       "630    8374053   9963165  丙戊酸钠缓释片(德巴金)[0.5g*30片]     1.0  0.5g*30片    0.5   \n",
       "\n",
       "     frequency      start_datetime        end_datetime statusdesc  日剂量  \\\n",
       "0            1 2020-08-15 19:51:46 2020-08-24 10:37:37         停止  0.5   \n",
       "1            2 2020-08-24 10:37:31 2020-09-04 11:38:00         停止  1.0   \n",
       "2            1 2020-08-25 17:31:34 2020-08-25 17:31:34         核实  0.5   \n",
       "3            2 2020-09-04 11:38:55 2020-09-04 11:38:55         核实  1.0   \n",
       "4            2 2020-08-16 16:41:46 2020-08-31 11:15:00         停止  1.0   \n",
       "..         ...                 ...                 ...        ...  ...   \n",
       "626          2 2020-08-20 20:52:36 2020-08-20 20:52:36         核实  1.0   \n",
       "627          2 2020-08-24 15:55:18 2020-08-24 15:55:18         核实  1.0   \n",
       "628          3 2020-08-26 11:38:49 2020-08-26 11:38:49         核实  1.5   \n",
       "629          2 2020-08-11 22:09:19 2020-08-18 08:48:00         停止  1.0   \n",
       "630          2 2020-08-17 11:07:52 2020-08-17 11:07:52         核实  1.0   \n",
       "\n",
       "     start_date    end_date  long_d_order  \n",
       "0    2020-08-15  2020-08-24             1  \n",
       "1    2020-08-24  2020-09-04             1  \n",
       "2    2020-08-25  2020-08-25             0  \n",
       "3    2020-09-04  2020-09-04             0  \n",
       "4    2020-08-16  2020-08-31             1  \n",
       "..          ...         ...           ...  \n",
       "626  2020-08-20  2020-08-20             0  \n",
       "627  2020-08-24  2020-08-24             0  \n",
       "628  2020-08-26  2020-08-26             0  \n",
       "629  2020-08-11  2020-08-18             1  \n",
       "630  2020-08-17  2020-08-17             0  \n",
       "\n",
       "[631 rows x 14 columns]"
      ]
     },
     "execution_count": 116,
     "metadata": {},
     "output_type": "execute_result"
    }
   ],
   "source": [
    "drug_vancomycin_4"
   ]
  },
  {
   "cell_type": "code",
   "execution_count": 117,
   "metadata": {},
   "outputs": [],
   "source": [
    "drug_vancomycin_4.to_excel(project_path+'/data/processed_data/df_2.1.5.3_拆分临时医嘱.xlsx')"
   ]
  },
  {
   "cell_type": "markdown",
   "metadata": {},
   "source": [
    "#### 分裂日期"
   ]
  },
  {
   "cell_type": "code",
   "execution_count": 118,
   "metadata": {},
   "outputs": [],
   "source": [
    "# 将时间拆开\n",
    "def explode1(df, col):\n",
    "    dftem1 = pd.DataFrame()\n",
    "    for i in range(df.shape[0]):\n",
    "        dftem = df.iloc[i].to_frame().T\n",
    "        if isinstance(df.iloc[i][col], list):\n",
    "            if len(df.iloc[i][col]) > 0:\n",
    "                for j in range(len(df.iloc[i][col])):\n",
    "                    dftem[col + \"_\"] = df.iloc[i][col][j]\n",
    "                    dftem1 = pd.concat([dftem1, dftem])\n",
    "            else:\n",
    "                dftem1 = pd.concat([dftem1, dftem])\n",
    "        else:\n",
    "            dftem1 = pd.concat([dftem1, dftem])\n",
    "    del dftem1[col]\n",
    "    dftem1.rename(columns={col + \"_\": col}, inplace=True)\n",
    "    return dftem1"
   ]
  },
  {
   "cell_type": "code",
   "execution_count": 119,
   "metadata": {},
   "outputs": [],
   "source": [
    "# 生成 分裂日期\n",
    "drug_vancomycin_4['分裂日期'] = ''\n",
    "for i in range(len(drug_vancomycin_4)):\n",
    "    drug_vancomycin_4['分裂日期'][i] = list(pd.date_range(start=drug_vancomycin_4['start_date'][i], \n",
    "                                                      end=drug_vancomycin_4['end_date'][i]))\n",
    "\n",
    "##　＝＝　把时间List拆开　＝＝    \n",
    "drug_vancomycin_5 = explode1(drug_vancomycin_4,'分裂日期')\n",
    "drug_vancomycin_5['分裂日期']=drug_vancomycin_5['分裂日期'].apply(lambda x: str(x).split(' ')[0])\n",
    "\n",
    "drug_vancomycin_5['起始标签'] = drug_vancomycin_5.apply(lambda x: '起始' if x['分裂日期']==x['start_date'] else \n",
    "                                                                '结尾' if x['分裂日期']==x['end_date'] else \n",
    "                                                                '期间', axis=1)"
   ]
  },
  {
   "cell_type": "code",
   "execution_count": 120,
   "metadata": {
    "scrolled": true
   },
   "outputs": [
    {
     "data": {
      "text/html": [
       "<div>\n",
       "<style scoped>\n",
       "    .dataframe tbody tr th:only-of-type {\n",
       "        vertical-align: middle;\n",
       "    }\n",
       "\n",
       "    .dataframe tbody tr th {\n",
       "        vertical-align: top;\n",
       "    }\n",
       "\n",
       "    .dataframe thead th {\n",
       "        text-align: right;\n",
       "    }\n",
       "</style>\n",
       "<table border=\"1\" class=\"dataframe\">\n",
       "  <thead>\n",
       "    <tr style=\"text-align: right;\">\n",
       "      <th></th>\n",
       "      <th>patient_id</th>\n",
       "      <th>case_no</th>\n",
       "      <th>drug_name</th>\n",
       "      <th>amount</th>\n",
       "      <th>drug_spec</th>\n",
       "      <th>dosage</th>\n",
       "      <th>frequency</th>\n",
       "      <th>start_datetime</th>\n",
       "      <th>end_datetime</th>\n",
       "      <th>statusdesc</th>\n",
       "      <th>日剂量</th>\n",
       "      <th>start_date</th>\n",
       "      <th>end_date</th>\n",
       "      <th>long_d_order</th>\n",
       "      <th>分裂日期</th>\n",
       "      <th>起始标签</th>\n",
       "    </tr>\n",
       "  </thead>\n",
       "  <tbody>\n",
       "    <tr>\n",
       "      <th>0</th>\n",
       "      <td>6873870</td>\n",
       "      <td>10001302</td>\n",
       "      <td>丙戊酸钠缓释片(德巴金)[0.5g*30片]</td>\n",
       "      <td>1</td>\n",
       "      <td>0.5g*30片</td>\n",
       "      <td>0.5</td>\n",
       "      <td>1</td>\n",
       "      <td>2020-08-15 19:51:46</td>\n",
       "      <td>2020-08-24 10:37:37</td>\n",
       "      <td>停止</td>\n",
       "      <td>0.5</td>\n",
       "      <td>2020-08-15</td>\n",
       "      <td>2020-08-24</td>\n",
       "      <td>1</td>\n",
       "      <td>2020-08-15</td>\n",
       "      <td>起始</td>\n",
       "    </tr>\n",
       "    <tr>\n",
       "      <th>0</th>\n",
       "      <td>6873870</td>\n",
       "      <td>10001302</td>\n",
       "      <td>丙戊酸钠缓释片(德巴金)[0.5g*30片]</td>\n",
       "      <td>1</td>\n",
       "      <td>0.5g*30片</td>\n",
       "      <td>0.5</td>\n",
       "      <td>1</td>\n",
       "      <td>2020-08-15 19:51:46</td>\n",
       "      <td>2020-08-24 10:37:37</td>\n",
       "      <td>停止</td>\n",
       "      <td>0.5</td>\n",
       "      <td>2020-08-15</td>\n",
       "      <td>2020-08-24</td>\n",
       "      <td>1</td>\n",
       "      <td>2020-08-16</td>\n",
       "      <td>期间</td>\n",
       "    </tr>\n",
       "    <tr>\n",
       "      <th>0</th>\n",
       "      <td>6873870</td>\n",
       "      <td>10001302</td>\n",
       "      <td>丙戊酸钠缓释片(德巴金)[0.5g*30片]</td>\n",
       "      <td>1</td>\n",
       "      <td>0.5g*30片</td>\n",
       "      <td>0.5</td>\n",
       "      <td>1</td>\n",
       "      <td>2020-08-15 19:51:46</td>\n",
       "      <td>2020-08-24 10:37:37</td>\n",
       "      <td>停止</td>\n",
       "      <td>0.5</td>\n",
       "      <td>2020-08-15</td>\n",
       "      <td>2020-08-24</td>\n",
       "      <td>1</td>\n",
       "      <td>2020-08-17</td>\n",
       "      <td>期间</td>\n",
       "    </tr>\n",
       "    <tr>\n",
       "      <th>0</th>\n",
       "      <td>6873870</td>\n",
       "      <td>10001302</td>\n",
       "      <td>丙戊酸钠缓释片(德巴金)[0.5g*30片]</td>\n",
       "      <td>1</td>\n",
       "      <td>0.5g*30片</td>\n",
       "      <td>0.5</td>\n",
       "      <td>1</td>\n",
       "      <td>2020-08-15 19:51:46</td>\n",
       "      <td>2020-08-24 10:37:37</td>\n",
       "      <td>停止</td>\n",
       "      <td>0.5</td>\n",
       "      <td>2020-08-15</td>\n",
       "      <td>2020-08-24</td>\n",
       "      <td>1</td>\n",
       "      <td>2020-08-18</td>\n",
       "      <td>期间</td>\n",
       "    </tr>\n",
       "    <tr>\n",
       "      <th>0</th>\n",
       "      <td>6873870</td>\n",
       "      <td>10001302</td>\n",
       "      <td>丙戊酸钠缓释片(德巴金)[0.5g*30片]</td>\n",
       "      <td>1</td>\n",
       "      <td>0.5g*30片</td>\n",
       "      <td>0.5</td>\n",
       "      <td>1</td>\n",
       "      <td>2020-08-15 19:51:46</td>\n",
       "      <td>2020-08-24 10:37:37</td>\n",
       "      <td>停止</td>\n",
       "      <td>0.5</td>\n",
       "      <td>2020-08-15</td>\n",
       "      <td>2020-08-24</td>\n",
       "      <td>1</td>\n",
       "      <td>2020-08-19</td>\n",
       "      <td>期间</td>\n",
       "    </tr>\n",
       "    <tr>\n",
       "      <th>...</th>\n",
       "      <td>...</td>\n",
       "      <td>...</td>\n",
       "      <td>...</td>\n",
       "      <td>...</td>\n",
       "      <td>...</td>\n",
       "      <td>...</td>\n",
       "      <td>...</td>\n",
       "      <td>...</td>\n",
       "      <td>...</td>\n",
       "      <td>...</td>\n",
       "      <td>...</td>\n",
       "      <td>...</td>\n",
       "      <td>...</td>\n",
       "      <td>...</td>\n",
       "      <td>...</td>\n",
       "      <td>...</td>\n",
       "    </tr>\n",
       "    <tr>\n",
       "      <th>629</th>\n",
       "      <td>8374053</td>\n",
       "      <td>9963165</td>\n",
       "      <td>丙戊酸钠缓释片(德巴金)[0.5g*30片]</td>\n",
       "      <td>1</td>\n",
       "      <td>0.5g*30片</td>\n",
       "      <td>0.5</td>\n",
       "      <td>2</td>\n",
       "      <td>2020-08-11 22:09:19</td>\n",
       "      <td>2020-08-18 08:48:00</td>\n",
       "      <td>停止</td>\n",
       "      <td>1</td>\n",
       "      <td>2020-08-11</td>\n",
       "      <td>2020-08-18</td>\n",
       "      <td>1</td>\n",
       "      <td>2020-08-15</td>\n",
       "      <td>期间</td>\n",
       "    </tr>\n",
       "    <tr>\n",
       "      <th>629</th>\n",
       "      <td>8374053</td>\n",
       "      <td>9963165</td>\n",
       "      <td>丙戊酸钠缓释片(德巴金)[0.5g*30片]</td>\n",
       "      <td>1</td>\n",
       "      <td>0.5g*30片</td>\n",
       "      <td>0.5</td>\n",
       "      <td>2</td>\n",
       "      <td>2020-08-11 22:09:19</td>\n",
       "      <td>2020-08-18 08:48:00</td>\n",
       "      <td>停止</td>\n",
       "      <td>1</td>\n",
       "      <td>2020-08-11</td>\n",
       "      <td>2020-08-18</td>\n",
       "      <td>1</td>\n",
       "      <td>2020-08-16</td>\n",
       "      <td>期间</td>\n",
       "    </tr>\n",
       "    <tr>\n",
       "      <th>629</th>\n",
       "      <td>8374053</td>\n",
       "      <td>9963165</td>\n",
       "      <td>丙戊酸钠缓释片(德巴金)[0.5g*30片]</td>\n",
       "      <td>1</td>\n",
       "      <td>0.5g*30片</td>\n",
       "      <td>0.5</td>\n",
       "      <td>2</td>\n",
       "      <td>2020-08-11 22:09:19</td>\n",
       "      <td>2020-08-18 08:48:00</td>\n",
       "      <td>停止</td>\n",
       "      <td>1</td>\n",
       "      <td>2020-08-11</td>\n",
       "      <td>2020-08-18</td>\n",
       "      <td>1</td>\n",
       "      <td>2020-08-17</td>\n",
       "      <td>期间</td>\n",
       "    </tr>\n",
       "    <tr>\n",
       "      <th>629</th>\n",
       "      <td>8374053</td>\n",
       "      <td>9963165</td>\n",
       "      <td>丙戊酸钠缓释片(德巴金)[0.5g*30片]</td>\n",
       "      <td>1</td>\n",
       "      <td>0.5g*30片</td>\n",
       "      <td>0.5</td>\n",
       "      <td>2</td>\n",
       "      <td>2020-08-11 22:09:19</td>\n",
       "      <td>2020-08-18 08:48:00</td>\n",
       "      <td>停止</td>\n",
       "      <td>1</td>\n",
       "      <td>2020-08-11</td>\n",
       "      <td>2020-08-18</td>\n",
       "      <td>1</td>\n",
       "      <td>2020-08-18</td>\n",
       "      <td>结尾</td>\n",
       "    </tr>\n",
       "    <tr>\n",
       "      <th>630</th>\n",
       "      <td>8374053</td>\n",
       "      <td>9963165</td>\n",
       "      <td>丙戊酸钠缓释片(德巴金)[0.5g*30片]</td>\n",
       "      <td>1</td>\n",
       "      <td>0.5g*30片</td>\n",
       "      <td>0.5</td>\n",
       "      <td>2</td>\n",
       "      <td>2020-08-17 11:07:52</td>\n",
       "      <td>2020-08-17 11:07:52</td>\n",
       "      <td>核实</td>\n",
       "      <td>1</td>\n",
       "      <td>2020-08-17</td>\n",
       "      <td>2020-08-17</td>\n",
       "      <td>0</td>\n",
       "      <td>2020-08-17</td>\n",
       "      <td>起始</td>\n",
       "    </tr>\n",
       "  </tbody>\n",
       "</table>\n",
       "<p>3167 rows × 16 columns</p>\n",
       "</div>"
      ],
      "text/plain": [
       "    patient_id   case_no               drug_name amount drug_spec dosage  \\\n",
       "0      6873870  10001302  丙戊酸钠缓释片(德巴金)[0.5g*30片]      1  0.5g*30片    0.5   \n",
       "0      6873870  10001302  丙戊酸钠缓释片(德巴金)[0.5g*30片]      1  0.5g*30片    0.5   \n",
       "0      6873870  10001302  丙戊酸钠缓释片(德巴金)[0.5g*30片]      1  0.5g*30片    0.5   \n",
       "0      6873870  10001302  丙戊酸钠缓释片(德巴金)[0.5g*30片]      1  0.5g*30片    0.5   \n",
       "0      6873870  10001302  丙戊酸钠缓释片(德巴金)[0.5g*30片]      1  0.5g*30片    0.5   \n",
       "..         ...       ...                     ...    ...       ...    ...   \n",
       "629    8374053   9963165  丙戊酸钠缓释片(德巴金)[0.5g*30片]      1  0.5g*30片    0.5   \n",
       "629    8374053   9963165  丙戊酸钠缓释片(德巴金)[0.5g*30片]      1  0.5g*30片    0.5   \n",
       "629    8374053   9963165  丙戊酸钠缓释片(德巴金)[0.5g*30片]      1  0.5g*30片    0.5   \n",
       "629    8374053   9963165  丙戊酸钠缓释片(德巴金)[0.5g*30片]      1  0.5g*30片    0.5   \n",
       "630    8374053   9963165  丙戊酸钠缓释片(德巴金)[0.5g*30片]      1  0.5g*30片    0.5   \n",
       "\n",
       "    frequency      start_datetime        end_datetime statusdesc  日剂量  \\\n",
       "0           1 2020-08-15 19:51:46 2020-08-24 10:37:37         停止  0.5   \n",
       "0           1 2020-08-15 19:51:46 2020-08-24 10:37:37         停止  0.5   \n",
       "0           1 2020-08-15 19:51:46 2020-08-24 10:37:37         停止  0.5   \n",
       "0           1 2020-08-15 19:51:46 2020-08-24 10:37:37         停止  0.5   \n",
       "0           1 2020-08-15 19:51:46 2020-08-24 10:37:37         停止  0.5   \n",
       "..        ...                 ...                 ...        ...  ...   \n",
       "629         2 2020-08-11 22:09:19 2020-08-18 08:48:00         停止    1   \n",
       "629         2 2020-08-11 22:09:19 2020-08-18 08:48:00         停止    1   \n",
       "629         2 2020-08-11 22:09:19 2020-08-18 08:48:00         停止    1   \n",
       "629         2 2020-08-11 22:09:19 2020-08-18 08:48:00         停止    1   \n",
       "630         2 2020-08-17 11:07:52 2020-08-17 11:07:52         核实    1   \n",
       "\n",
       "     start_date    end_date long_d_order        分裂日期 起始标签  \n",
       "0    2020-08-15  2020-08-24            1  2020-08-15   起始  \n",
       "0    2020-08-15  2020-08-24            1  2020-08-16   期间  \n",
       "0    2020-08-15  2020-08-24            1  2020-08-17   期间  \n",
       "0    2020-08-15  2020-08-24            1  2020-08-18   期间  \n",
       "0    2020-08-15  2020-08-24            1  2020-08-19   期间  \n",
       "..          ...         ...          ...         ...  ...  \n",
       "629  2020-08-11  2020-08-18            1  2020-08-15   期间  \n",
       "629  2020-08-11  2020-08-18            1  2020-08-16   期间  \n",
       "629  2020-08-11  2020-08-18            1  2020-08-17   期间  \n",
       "629  2020-08-11  2020-08-18            1  2020-08-18   结尾  \n",
       "630  2020-08-17  2020-08-17            0  2020-08-17   起始  \n",
       "\n",
       "[3167 rows x 16 columns]"
      ]
     },
     "execution_count": 120,
     "metadata": {},
     "output_type": "execute_result"
    }
   ],
   "source": [
    "drug_vancomycin_5"
   ]
  },
  {
   "cell_type": "code",
   "execution_count": 121,
   "metadata": {},
   "outputs": [
    {
     "name": "stdout",
     "output_type": "stream",
     "text": [
      "(3167, 16)\n",
      "161\n",
      "182\n"
     ]
    }
   ],
   "source": [
    "print(drug_vancomycin_5.shape)\n",
    "print(drug_vancomycin_5['patient_id'].nunique())\n",
    "print(drug_vancomycin_5['case_no'].nunique())"
   ]
  },
  {
   "cell_type": "code",
   "execution_count": 122,
   "metadata": {},
   "outputs": [],
   "source": [
    "drug_vancomycin_5.to_excel(project_path+'/data/processed_data/df_2.1.5.4_分裂日期.xlsx')"
   ]
  },
  {
   "cell_type": "markdown",
   "metadata": {},
   "source": [
    "#### 打时间标签"
   ]
  },
  {
   "cell_type": "code",
   "execution_count": 123,
   "metadata": {},
   "outputs": [],
   "source": [
    "# 打日期标签\n",
    "def flag_ttt(x):\n",
    "    if (x['起始标签']!='结尾'):\n",
    "        if x['start_datetime'].hour<13:\n",
    "            return 0\n",
    "        else:\n",
    "            return 1\n",
    "    else:\n",
    "        if x['end_datetime'].hour<13:\n",
    "            return 0\n",
    "        else:\n",
    "            return 1"
   ]
  },
  {
   "cell_type": "code",
   "execution_count": 124,
   "metadata": {},
   "outputs": [],
   "source": [
    "# 上午是0，下午是1\n",
    "# 起始和期间看 起始时间， 结尾看停止时间\n",
    "drug_vancomycin_5['时间标签'] = drug_vancomycin_5.apply(lambda x: 0 if ((x['起始标签']!='结尾')and(x['start_datetime'].hour < 13)) else 1, axis=1)\n",
    "drug_vancomycin_5['时间标签'] = drug_vancomycin_5.apply(flag_ttt,axis=1)"
   ]
  },
  {
   "cell_type": "code",
   "execution_count": 125,
   "metadata": {},
   "outputs": [
    {
     "name": "stdout",
     "output_type": "stream",
     "text": [
      "(3167, 17)\n",
      "161\n",
      "182\n"
     ]
    }
   ],
   "source": [
    "print(drug_vancomycin_5.shape)\n",
    "print(drug_vancomycin_5['patient_id'].nunique())\n",
    "print(drug_vancomycin_5['case_no'].nunique())"
   ]
  },
  {
   "cell_type": "code",
   "execution_count": 126,
   "metadata": {},
   "outputs": [],
   "source": [
    "drug_vancomycin_5.to_excel(project_path+'/data/processed_data/df_2.1.5.5_打时间标签.xlsx')"
   ]
  },
  {
   "cell_type": "markdown",
   "metadata": {},
   "source": [
    "#### 调整日剂量"
   ]
  },
  {
   "cell_type": "code",
   "execution_count": 127,
   "metadata": {},
   "outputs": [],
   "source": [
    "temp_l = []\n",
    "\n",
    "for i in drug_vancomycin_5.case_no.unique():\n",
    "    temp = drug_vancomycin_5[drug_vancomycin_5['case_no']==i].reset_index(drop=True)\n",
    "    \n",
    "#     a = 1\n",
    "#     print('===={}===='.format(i))\n",
    "    for j in temp.分裂日期.unique():\n",
    "#         print(a,j)\n",
    "#         a+=1\n",
    "        temp_2 = temp[temp['分裂日期']==j]\n",
    "        if 0 in temp_2['long_d_order'].unique():\n",
    "            temp_long = temp_2[temp_2['long_d_order']==1].tail(1).reset_index(drop=True)\n",
    "            temp_st = temp_2[temp_2['long_d_order']==0]\n",
    "            temp_st['日剂量'] = temp_st['日剂量'].sum()\n",
    "            temp_st = temp_st.tail(1).reset_index(drop=True)\n",
    "#             print(temp_long.shape[0],temp_st.shape[0])\n",
    "            # 同一天，既有长期医嘱又有短期医嘱\n",
    "            if len(temp_long)>0:\n",
    "#                 print('long>0')\n",
    "                flag = temp_long.起始标签.unique()[0]\n",
    "                if flag == '期间':\n",
    "                    temp_long.loc[0,'日剂量'] = temp_long.loc[0,'日剂量'] + temp_st.loc[0,'日剂量']                           \n",
    "                    temp_l.append(temp_long)\n",
    "                else:\n",
    "                    temp_l.append(temp_st)\n",
    "            # 该天全是短期医嘱\n",
    "            else:\n",
    "#                 print(temp_st)\n",
    "#                 print('***')\n",
    "                temp_l.append(temp_st)\n",
    "        # 该天全是长期医嘱\n",
    "        else:\n",
    "            temp_long = temp_2.tail(1).reset_index(drop=True)\n",
    "            flag_l = temp_2.起始标签.unique().tolist()\n",
    "            flag_time_l = temp_2.时间标签.unique().tolist()\n",
    "            if ('结尾' in flag_l and '起始' in flag_l) or len(flag_time_l)>1:\n",
    "                # 按剂量去重（防止上一次结束，与下一次开始是两种情况）\n",
    "                temp_long.loc[0,'日剂量'] = temp_2.drop_duplicates(subset=['日剂量'],keep='last').日剂量.mean()\n",
    "                temp_l.append(temp_long)\n",
    "            else:\n",
    "                flag = temp_long.loc[0,'起始标签']\n",
    "                flag_time = temp_long.loc[0,'时间标签']\n",
    "                # 开头：大于13点取半天，  结尾：小于13点取半天\n",
    "                if flag=='起始' and flag_time==1:\n",
    "                    temp_long.loc[0,'日剂量'] = temp_long.loc[0,'日剂量'] / 2\n",
    "                if flag=='结尾' and flag_time==0:\n",
    "                    temp_long.loc[0,'日剂量'] = temp_long.loc[0,'日剂量'] / 2\n",
    "\n",
    "                temp_l.append(temp_long)\n",
    "        \n",
    "drug_vancomycin_6 = pd.concat(temp_l,axis=0).reset_index(drop=True)\n",
    "drug_vancomycin_6['日剂量']=drug_vancomycin_6['日剂量'].apply(lambda x: round(x,2))\n",
    "del temp_l"
   ]
  },
  {
   "cell_type": "code",
   "execution_count": 128,
   "metadata": {},
   "outputs": [
    {
     "name": "stdout",
     "output_type": "stream",
     "text": [
      "(2677, 17)\n",
      "161\n",
      "182\n"
     ]
    }
   ],
   "source": [
    "print(drug_vancomycin_6.shape)\n",
    "print(drug_vancomycin_6['patient_id'].nunique())\n",
    "print(drug_vancomycin_6['case_no'].nunique())"
   ]
  },
  {
   "cell_type": "code",
   "execution_count": 129,
   "metadata": {
    "collapsed": true
   },
   "outputs": [
    {
     "data": {
      "text/html": [
       "<div>\n",
       "<style scoped>\n",
       "    .dataframe tbody tr th:only-of-type {\n",
       "        vertical-align: middle;\n",
       "    }\n",
       "\n",
       "    .dataframe tbody tr th {\n",
       "        vertical-align: top;\n",
       "    }\n",
       "\n",
       "    .dataframe thead th {\n",
       "        text-align: right;\n",
       "    }\n",
       "</style>\n",
       "<table border=\"1\" class=\"dataframe\">\n",
       "  <thead>\n",
       "    <tr style=\"text-align: right;\">\n",
       "      <th></th>\n",
       "      <th>patient_id</th>\n",
       "      <th>case_no</th>\n",
       "      <th>drug_name</th>\n",
       "      <th>amount</th>\n",
       "      <th>drug_spec</th>\n",
       "      <th>dosage</th>\n",
       "      <th>frequency</th>\n",
       "      <th>start_datetime</th>\n",
       "      <th>end_datetime</th>\n",
       "      <th>statusdesc</th>\n",
       "      <th>日剂量</th>\n",
       "      <th>start_date</th>\n",
       "      <th>end_date</th>\n",
       "      <th>long_d_order</th>\n",
       "      <th>分裂日期</th>\n",
       "      <th>起始标签</th>\n",
       "      <th>时间标签</th>\n",
       "    </tr>\n",
       "  </thead>\n",
       "  <tbody>\n",
       "    <tr>\n",
       "      <th>0</th>\n",
       "      <td>6873870</td>\n",
       "      <td>10001302</td>\n",
       "      <td>丙戊酸钠缓释片(德巴金)[0.5g*30片]</td>\n",
       "      <td>1</td>\n",
       "      <td>0.5g*30片</td>\n",
       "      <td>0.5</td>\n",
       "      <td>1</td>\n",
       "      <td>2020-08-15 19:51:46</td>\n",
       "      <td>2020-08-24 10:37:37</td>\n",
       "      <td>停止</td>\n",
       "      <td>0.25</td>\n",
       "      <td>2020-08-15</td>\n",
       "      <td>2020-08-24</td>\n",
       "      <td>1</td>\n",
       "      <td>2020-08-15</td>\n",
       "      <td>起始</td>\n",
       "      <td>1</td>\n",
       "    </tr>\n",
       "    <tr>\n",
       "      <th>1</th>\n",
       "      <td>6873870</td>\n",
       "      <td>10001302</td>\n",
       "      <td>丙戊酸钠缓释片(德巴金)[0.5g*30片]</td>\n",
       "      <td>1</td>\n",
       "      <td>0.5g*30片</td>\n",
       "      <td>0.5</td>\n",
       "      <td>1</td>\n",
       "      <td>2020-08-15 19:51:46</td>\n",
       "      <td>2020-08-24 10:37:37</td>\n",
       "      <td>停止</td>\n",
       "      <td>0.50</td>\n",
       "      <td>2020-08-15</td>\n",
       "      <td>2020-08-24</td>\n",
       "      <td>1</td>\n",
       "      <td>2020-08-16</td>\n",
       "      <td>期间</td>\n",
       "      <td>1</td>\n",
       "    </tr>\n",
       "    <tr>\n",
       "      <th>2</th>\n",
       "      <td>6873870</td>\n",
       "      <td>10001302</td>\n",
       "      <td>丙戊酸钠缓释片(德巴金)[0.5g*30片]</td>\n",
       "      <td>1</td>\n",
       "      <td>0.5g*30片</td>\n",
       "      <td>0.5</td>\n",
       "      <td>1</td>\n",
       "      <td>2020-08-15 19:51:46</td>\n",
       "      <td>2020-08-24 10:37:37</td>\n",
       "      <td>停止</td>\n",
       "      <td>0.50</td>\n",
       "      <td>2020-08-15</td>\n",
       "      <td>2020-08-24</td>\n",
       "      <td>1</td>\n",
       "      <td>2020-08-17</td>\n",
       "      <td>期间</td>\n",
       "      <td>1</td>\n",
       "    </tr>\n",
       "    <tr>\n",
       "      <th>3</th>\n",
       "      <td>6873870</td>\n",
       "      <td>10001302</td>\n",
       "      <td>丙戊酸钠缓释片(德巴金)[0.5g*30片]</td>\n",
       "      <td>1</td>\n",
       "      <td>0.5g*30片</td>\n",
       "      <td>0.5</td>\n",
       "      <td>1</td>\n",
       "      <td>2020-08-15 19:51:46</td>\n",
       "      <td>2020-08-24 10:37:37</td>\n",
       "      <td>停止</td>\n",
       "      <td>0.50</td>\n",
       "      <td>2020-08-15</td>\n",
       "      <td>2020-08-24</td>\n",
       "      <td>1</td>\n",
       "      <td>2020-08-18</td>\n",
       "      <td>期间</td>\n",
       "      <td>1</td>\n",
       "    </tr>\n",
       "    <tr>\n",
       "      <th>4</th>\n",
       "      <td>6873870</td>\n",
       "      <td>10001302</td>\n",
       "      <td>丙戊酸钠缓释片(德巴金)[0.5g*30片]</td>\n",
       "      <td>1</td>\n",
       "      <td>0.5g*30片</td>\n",
       "      <td>0.5</td>\n",
       "      <td>1</td>\n",
       "      <td>2020-08-15 19:51:46</td>\n",
       "      <td>2020-08-24 10:37:37</td>\n",
       "      <td>停止</td>\n",
       "      <td>0.50</td>\n",
       "      <td>2020-08-15</td>\n",
       "      <td>2020-08-24</td>\n",
       "      <td>1</td>\n",
       "      <td>2020-08-19</td>\n",
       "      <td>期间</td>\n",
       "      <td>1</td>\n",
       "    </tr>\n",
       "    <tr>\n",
       "      <th>...</th>\n",
       "      <td>...</td>\n",
       "      <td>...</td>\n",
       "      <td>...</td>\n",
       "      <td>...</td>\n",
       "      <td>...</td>\n",
       "      <td>...</td>\n",
       "      <td>...</td>\n",
       "      <td>...</td>\n",
       "      <td>...</td>\n",
       "      <td>...</td>\n",
       "      <td>...</td>\n",
       "      <td>...</td>\n",
       "      <td>...</td>\n",
       "      <td>...</td>\n",
       "      <td>...</td>\n",
       "      <td>...</td>\n",
       "      <td>...</td>\n",
       "    </tr>\n",
       "    <tr>\n",
       "      <th>2672</th>\n",
       "      <td>8374053</td>\n",
       "      <td>9963165</td>\n",
       "      <td>丙戊酸钠缓释片(德巴金)[0.5g*30片]</td>\n",
       "      <td>1</td>\n",
       "      <td>0.5g*30片</td>\n",
       "      <td>0.5</td>\n",
       "      <td>2</td>\n",
       "      <td>2020-08-11 22:09:19</td>\n",
       "      <td>2020-08-18 08:48:00</td>\n",
       "      <td>停止</td>\n",
       "      <td>1.00</td>\n",
       "      <td>2020-08-11</td>\n",
       "      <td>2020-08-18</td>\n",
       "      <td>1</td>\n",
       "      <td>2020-08-14</td>\n",
       "      <td>期间</td>\n",
       "      <td>1</td>\n",
       "    </tr>\n",
       "    <tr>\n",
       "      <th>2673</th>\n",
       "      <td>8374053</td>\n",
       "      <td>9963165</td>\n",
       "      <td>丙戊酸钠缓释片(德巴金)[0.5g*30片]</td>\n",
       "      <td>1</td>\n",
       "      <td>0.5g*30片</td>\n",
       "      <td>0.5</td>\n",
       "      <td>2</td>\n",
       "      <td>2020-08-11 22:09:19</td>\n",
       "      <td>2020-08-18 08:48:00</td>\n",
       "      <td>停止</td>\n",
       "      <td>1.00</td>\n",
       "      <td>2020-08-11</td>\n",
       "      <td>2020-08-18</td>\n",
       "      <td>1</td>\n",
       "      <td>2020-08-15</td>\n",
       "      <td>期间</td>\n",
       "      <td>1</td>\n",
       "    </tr>\n",
       "    <tr>\n",
       "      <th>2674</th>\n",
       "      <td>8374053</td>\n",
       "      <td>9963165</td>\n",
       "      <td>丙戊酸钠缓释片(德巴金)[0.5g*30片]</td>\n",
       "      <td>1</td>\n",
       "      <td>0.5g*30片</td>\n",
       "      <td>0.5</td>\n",
       "      <td>2</td>\n",
       "      <td>2020-08-11 22:09:19</td>\n",
       "      <td>2020-08-18 08:48:00</td>\n",
       "      <td>停止</td>\n",
       "      <td>1.00</td>\n",
       "      <td>2020-08-11</td>\n",
       "      <td>2020-08-18</td>\n",
       "      <td>1</td>\n",
       "      <td>2020-08-16</td>\n",
       "      <td>期间</td>\n",
       "      <td>1</td>\n",
       "    </tr>\n",
       "    <tr>\n",
       "      <th>2675</th>\n",
       "      <td>8374053</td>\n",
       "      <td>9963165</td>\n",
       "      <td>丙戊酸钠缓释片(德巴金)[0.5g*30片]</td>\n",
       "      <td>1</td>\n",
       "      <td>0.5g*30片</td>\n",
       "      <td>0.5</td>\n",
       "      <td>2</td>\n",
       "      <td>2020-08-11 22:09:19</td>\n",
       "      <td>2020-08-18 08:48:00</td>\n",
       "      <td>停止</td>\n",
       "      <td>2.00</td>\n",
       "      <td>2020-08-11</td>\n",
       "      <td>2020-08-18</td>\n",
       "      <td>1</td>\n",
       "      <td>2020-08-17</td>\n",
       "      <td>期间</td>\n",
       "      <td>1</td>\n",
       "    </tr>\n",
       "    <tr>\n",
       "      <th>2676</th>\n",
       "      <td>8374053</td>\n",
       "      <td>9963165</td>\n",
       "      <td>丙戊酸钠缓释片(德巴金)[0.5g*30片]</td>\n",
       "      <td>1</td>\n",
       "      <td>0.5g*30片</td>\n",
       "      <td>0.5</td>\n",
       "      <td>2</td>\n",
       "      <td>2020-08-11 22:09:19</td>\n",
       "      <td>2020-08-18 08:48:00</td>\n",
       "      <td>停止</td>\n",
       "      <td>0.50</td>\n",
       "      <td>2020-08-11</td>\n",
       "      <td>2020-08-18</td>\n",
       "      <td>1</td>\n",
       "      <td>2020-08-18</td>\n",
       "      <td>结尾</td>\n",
       "      <td>0</td>\n",
       "    </tr>\n",
       "  </tbody>\n",
       "</table>\n",
       "<p>2677 rows × 17 columns</p>\n",
       "</div>"
      ],
      "text/plain": [
       "     patient_id   case_no               drug_name amount drug_spec dosage  \\\n",
       "0       6873870  10001302  丙戊酸钠缓释片(德巴金)[0.5g*30片]      1  0.5g*30片    0.5   \n",
       "1       6873870  10001302  丙戊酸钠缓释片(德巴金)[0.5g*30片]      1  0.5g*30片    0.5   \n",
       "2       6873870  10001302  丙戊酸钠缓释片(德巴金)[0.5g*30片]      1  0.5g*30片    0.5   \n",
       "3       6873870  10001302  丙戊酸钠缓释片(德巴金)[0.5g*30片]      1  0.5g*30片    0.5   \n",
       "4       6873870  10001302  丙戊酸钠缓释片(德巴金)[0.5g*30片]      1  0.5g*30片    0.5   \n",
       "...         ...       ...                     ...    ...       ...    ...   \n",
       "2672    8374053   9963165  丙戊酸钠缓释片(德巴金)[0.5g*30片]      1  0.5g*30片    0.5   \n",
       "2673    8374053   9963165  丙戊酸钠缓释片(德巴金)[0.5g*30片]      1  0.5g*30片    0.5   \n",
       "2674    8374053   9963165  丙戊酸钠缓释片(德巴金)[0.5g*30片]      1  0.5g*30片    0.5   \n",
       "2675    8374053   9963165  丙戊酸钠缓释片(德巴金)[0.5g*30片]      1  0.5g*30片    0.5   \n",
       "2676    8374053   9963165  丙戊酸钠缓释片(德巴金)[0.5g*30片]      1  0.5g*30片    0.5   \n",
       "\n",
       "     frequency      start_datetime        end_datetime statusdesc   日剂量  \\\n",
       "0            1 2020-08-15 19:51:46 2020-08-24 10:37:37         停止  0.25   \n",
       "1            1 2020-08-15 19:51:46 2020-08-24 10:37:37         停止  0.50   \n",
       "2            1 2020-08-15 19:51:46 2020-08-24 10:37:37         停止  0.50   \n",
       "3            1 2020-08-15 19:51:46 2020-08-24 10:37:37         停止  0.50   \n",
       "4            1 2020-08-15 19:51:46 2020-08-24 10:37:37         停止  0.50   \n",
       "...        ...                 ...                 ...        ...   ...   \n",
       "2672         2 2020-08-11 22:09:19 2020-08-18 08:48:00         停止  1.00   \n",
       "2673         2 2020-08-11 22:09:19 2020-08-18 08:48:00         停止  1.00   \n",
       "2674         2 2020-08-11 22:09:19 2020-08-18 08:48:00         停止  1.00   \n",
       "2675         2 2020-08-11 22:09:19 2020-08-18 08:48:00         停止  2.00   \n",
       "2676         2 2020-08-11 22:09:19 2020-08-18 08:48:00         停止  0.50   \n",
       "\n",
       "      start_date    end_date long_d_order        分裂日期 起始标签  时间标签  \n",
       "0     2020-08-15  2020-08-24            1  2020-08-15   起始     1  \n",
       "1     2020-08-15  2020-08-24            1  2020-08-16   期间     1  \n",
       "2     2020-08-15  2020-08-24            1  2020-08-17   期间     1  \n",
       "3     2020-08-15  2020-08-24            1  2020-08-18   期间     1  \n",
       "4     2020-08-15  2020-08-24            1  2020-08-19   期间     1  \n",
       "...          ...         ...          ...         ...  ...   ...  \n",
       "2672  2020-08-11  2020-08-18            1  2020-08-14   期间     1  \n",
       "2673  2020-08-11  2020-08-18            1  2020-08-15   期间     1  \n",
       "2674  2020-08-11  2020-08-18            1  2020-08-16   期间     1  \n",
       "2675  2020-08-11  2020-08-18            1  2020-08-17   期间     1  \n",
       "2676  2020-08-11  2020-08-18            1  2020-08-18   结尾     0  \n",
       "\n",
       "[2677 rows x 17 columns]"
      ]
     },
     "execution_count": 129,
     "metadata": {},
     "output_type": "execute_result"
    }
   ],
   "source": [
    "drug_vancomycin_6"
   ]
  },
  {
   "cell_type": "code",
   "execution_count": 442,
   "metadata": {},
   "outputs": [],
   "source": [
    "drug_vancomycin_6.to_excel(project_path+'/data/processed_data/df_2.1.5.6_调整日剂量.xlsx')"
   ]
  },
  {
   "cell_type": "markdown",
   "metadata": {},
   "source": [
    "#### tdm稳态筛选"
   ]
  },
  {
   "cell_type": "code",
   "execution_count": 481,
   "metadata": {},
   "outputs": [
    {
     "name": "stdout",
     "output_type": "stream",
     "text": [
      "10001302\n",
      "0\n",
      "1\n",
      "9\n",
      "10\n",
      "11\n",
      "10005574\n",
      "0\n",
      "1\n",
      "10019847\n",
      "0\n",
      "1\n",
      "16\n",
      "10028911\n",
      "0\n",
      "1\n",
      "10130473\n",
      "0\n",
      "10146112\n",
      "0\n",
      "1\n",
      "10171606\n",
      "0\n",
      "1\n",
      "2\n",
      "3\n",
      "12\n",
      "10200584\n",
      "0\n",
      "10297961\n",
      "0\n",
      "1\n",
      "10343367\n",
      "0\n",
      "2\n",
      "3\n",
      "10357709\n",
      "0\n",
      "1\n",
      "2\n",
      "3\n",
      "4\n",
      "10368285\n",
      "0\n",
      "1\n",
      "10389652\n",
      "0\n",
      "1\n",
      "2\n",
      "3\n",
      "10582637\n",
      "0\n",
      "1\n",
      "2\n",
      "10588084\n",
      "0\n",
      "1\n",
      "2\n",
      "10674663\n",
      "0\n",
      "1\n",
      "2\n",
      "10692337\n",
      "0\n",
      "1\n",
      "2\n",
      "10830666\n",
      "0\n",
      "10877290\n",
      "0\n",
      "1\n",
      "10914758\n",
      "0\n",
      "1\n",
      "10941636\n",
      "0\n",
      "1\n",
      "2\n",
      "10989230\n",
      "0\n",
      "1\n",
      "11022153\n",
      "0\n",
      "1\n",
      "11069250\n",
      "0\n",
      "11200975\n",
      "0\n",
      "1\n",
      "11238946\n",
      "0\n",
      "1\n",
      "11291598\n",
      "0\n",
      "1\n",
      "11351405\n",
      "0\n",
      "1\n",
      "19\n",
      "11547061\n",
      "0\n",
      "1\n",
      "11747590\n",
      "0\n",
      "1\n",
      "2\n",
      "11787937\n",
      "0\n",
      "12069121\n",
      "0\n",
      "1\n",
      "2\n",
      "12070485\n",
      "0\n",
      "1\n",
      "2\n",
      "12210690\n",
      "0\n",
      "1\n",
      "2\n",
      "12297734\n",
      "0\n",
      "1\n",
      "12313528\n",
      "0\n",
      "1\n",
      "2\n",
      "12325442\n",
      "0\n",
      "1\n",
      "2\n",
      "12631919\n",
      "0\n",
      "3\n",
      "4\n",
      "5\n",
      "12693940\n",
      "0\n",
      "1\n",
      "12696147\n",
      "0\n",
      "1\n",
      "12782405\n",
      "0\n",
      "1\n",
      "12855725\n",
      "0\n",
      "13022476\n",
      "0\n",
      "1\n",
      "13063464\n",
      "0\n",
      "1\n",
      "13150462\n",
      "0\n",
      "13176502\n",
      "0\n",
      "1\n",
      "13317922\n",
      "0\n",
      "13397293\n",
      "0\n",
      "13491055\n",
      "0\n",
      "1\n",
      "13561501\n",
      "0\n",
      "13817948\n",
      "0\n",
      "13951019\n",
      "0\n",
      "1\n",
      "13997754\n",
      "0\n",
      "14040566\n",
      "0\n",
      "1\n",
      "2\n",
      "3\n",
      "4\n",
      "5\n",
      "6\n",
      "14103871\n",
      "0\n",
      "1\n",
      "2\n",
      "3\n",
      "4\n",
      "14107745\n",
      "0\n",
      "1\n",
      "14135942\n",
      "0\n",
      "14184132\n",
      "0\n",
      "4028318\n",
      "0\n",
      "1\n",
      "2\n",
      "20\n",
      "4045163\n",
      "0\n",
      "1\n",
      "8\n",
      "4069083\n",
      "0\n",
      "1\n",
      "24\n",
      "4103620\n",
      "0\n",
      "1\n",
      "2\n",
      "19\n",
      "4112018\n",
      "0\n",
      "1\n",
      "17\n",
      "4133350\n",
      "0\n",
      "1\n",
      "11\n",
      "4151975\n",
      "0\n",
      "1\n",
      "4191397\n",
      "0\n",
      "1\n",
      "9\n",
      "10\n",
      "16\n",
      "4216082\n",
      "0\n",
      "5\n",
      "6\n",
      "7\n",
      "8\n",
      "13\n",
      "14\n",
      "15\n",
      "4236927\n",
      "0\n",
      "1\n",
      "2\n",
      "3\n",
      "8\n",
      "4255479\n",
      "0\n",
      "1\n",
      "23\n",
      "4267891\n",
      "0\n",
      "1\n",
      "3\n",
      "4\n",
      "13\n",
      "14\n",
      "22\n",
      "4283749\n",
      "0\n",
      "6\n",
      "7\n",
      "9\n",
      "4304073\n",
      "0\n",
      "1\n",
      "3\n",
      "4\n",
      "7\n",
      "9\n",
      "11\n",
      "4364618\n",
      "0\n",
      "1\n",
      "11\n",
      "12\n",
      "4366097\n",
      "0\n",
      "12\n",
      "4446056\n",
      "0\n",
      "1\n",
      "4446680\n",
      "0\n",
      "1\n",
      "28\n",
      "4536465\n",
      "0\n",
      "1\n",
      "3\n",
      "4\n",
      "5\n",
      "8\n",
      "10\n",
      "11\n",
      "22\n",
      "4553217\n",
      "0\n",
      "1\n",
      "4\n",
      "5\n",
      "8\n",
      "4560293\n",
      "0\n",
      "1\n",
      "6\n",
      "7\n",
      "15\n",
      "16\n",
      "4569640\n",
      "0\n",
      "6\n",
      "7\n",
      "8\n",
      "4592169\n",
      "0\n",
      "1\n",
      "2\n",
      "7\n",
      "8\n",
      "10\n",
      "4707313\n",
      "0\n",
      "1\n",
      "4761372\n",
      "0\n",
      "1\n",
      "3\n",
      "4\n",
      "8\n",
      "9\n",
      "13\n",
      "4821017\n",
      "0\n",
      "1\n",
      "2\n",
      "3\n",
      "16\n",
      "4842956\n",
      "0\n",
      "1\n",
      "5\n",
      "6\n",
      "20\n",
      "4860902\n",
      "0\n",
      "1\n",
      "11\n",
      "12\n",
      "16\n",
      "17\n",
      "4891032\n",
      "0\n",
      "2\n",
      "3\n",
      "4918748\n",
      "0\n",
      "1\n",
      "2\n",
      "4922567\n",
      "0\n",
      "1\n",
      "19\n",
      "4926506\n",
      "0\n",
      "1\n",
      "2\n",
      "4\n",
      "5\n",
      "15\n",
      "5125578\n",
      "0\n",
      "1\n",
      "2\n",
      "13\n",
      "5180331\n",
      "0\n",
      "1\n",
      "18\n",
      "5278319\n",
      "0\n",
      "1\n",
      "16\n",
      "5302878\n",
      "0\n",
      "1\n",
      "7\n",
      "5386601\n",
      "0\n",
      "3\n",
      "4\n",
      "5\n",
      "10\n",
      "11\n",
      "12\n",
      "5407981\n",
      "0\n",
      "6\n",
      "7\n",
      "5436932\n",
      "0\n",
      "1\n",
      "9\n",
      "5544859\n",
      "0\n",
      "1\n",
      "8\n",
      "5612768\n",
      "0\n",
      "1\n",
      "2\n",
      "4\n",
      "5\n",
      "6\n",
      "17\n",
      "5634908\n",
      "0\n",
      "10\n",
      "5653155\n",
      "0\n",
      "4\n",
      "5\n",
      "12\n",
      "5679938\n",
      "0\n",
      "1\n",
      "5682081\n",
      "0\n",
      "1\n",
      "28\n",
      "5683098\n",
      "0\n",
      "1\n",
      "18\n",
      "5696642\n",
      "0\n",
      "1\n",
      "5708206\n",
      "0\n",
      "17\n",
      "5722142\n",
      "0\n",
      "20\n",
      "5779804\n",
      "0\n",
      "3\n",
      "4\n",
      "8\n",
      "9\n",
      "13\n",
      "5968455\n",
      "0\n",
      "1\n",
      "3\n",
      "4\n",
      "6\n",
      "7\n",
      "21\n",
      "6000741\n",
      "0\n",
      "1\n",
      "7\n",
      "8\n",
      "12\n",
      "13\n",
      "6085020\n",
      "0\n",
      "2\n",
      "3\n",
      "6145716\n",
      "0\n",
      "1\n",
      "2\n",
      "14\n",
      "6158479\n",
      "0\n",
      "1\n",
      "22\n",
      "6242952\n",
      "0\n",
      "2\n",
      "3\n",
      "10\n",
      "11\n",
      "13\n",
      "14\n",
      "17\n",
      "6268920\n",
      "0\n",
      "1\n",
      "8\n",
      "9\n",
      "10\n",
      "6324940\n",
      "0\n",
      "3\n",
      "4\n",
      "27\n",
      "6338386\n",
      "0\n",
      "6361827\n",
      "0\n",
      "1\n",
      "13\n",
      "6486860\n",
      "0\n",
      "1\n",
      "12\n",
      "6518811\n",
      "0\n",
      "1\n",
      "11\n",
      "6588818\n",
      "0\n",
      "1\n",
      "2\n",
      "40\n",
      "6591824\n",
      "0\n",
      "4\n",
      "5\n",
      "18\n",
      "6610460\n",
      "0\n",
      "1\n",
      "2\n",
      "3\n",
      "33\n",
      "6655263\n",
      "0\n",
      "1\n",
      "2\n",
      "3\n",
      "6667714\n",
      "0\n",
      "2\n",
      "3\n",
      "4\n",
      "7\n",
      "8\n",
      "6800640\n",
      "0\n",
      "2\n",
      "3\n",
      "6884107\n",
      "0\n",
      "4\n",
      "5\n",
      "12\n",
      "6917667\n",
      "0\n",
      "1\n",
      "6982291\n",
      "0\n",
      "1\n",
      "11\n",
      "7079833\n",
      "0\n",
      "1\n",
      "16\n",
      "7234285\n",
      "0\n",
      "1\n",
      "4\n",
      "5\n",
      "11\n",
      "12\n",
      "18\n",
      "7251581\n",
      "0\n",
      "1\n",
      "2\n",
      "16\n",
      "7284844\n",
      "0\n",
      "15\n",
      "16\n",
      "32\n",
      "33\n",
      "58\n",
      "7309258\n",
      "0\n",
      "1\n",
      "24\n",
      "25\n",
      "26\n",
      "35\n",
      "7423611\n",
      "0\n",
      "8\n",
      "7480196\n",
      "0\n",
      "1\n",
      "7531700\n",
      "0\n",
      "1\n",
      "8\n",
      "9\n",
      "14\n",
      "7564885\n",
      "0\n",
      "1\n",
      "20\n",
      "7689281\n",
      "0\n",
      "1\n",
      "2\n",
      "11\n",
      "12\n",
      "7719716\n",
      "0\n",
      "1\n",
      "2\n",
      "16\n",
      "7731315\n",
      "0\n",
      "1\n",
      "14\n",
      "7732089\n",
      "0\n",
      "1\n",
      "3\n",
      "4\n",
      "7\n",
      "8\n",
      "13\n",
      "7749789\n",
      "0\n",
      "2\n",
      "3\n",
      "20\n",
      "7754134\n",
      "0\n",
      "1\n",
      "2\n",
      "3\n",
      "8\n",
      "9\n",
      "13\n",
      "14\n",
      "34\n",
      "7830248\n",
      "0\n",
      "1\n",
      "2\n",
      "6\n",
      "7869986\n",
      "0\n",
      "1\n",
      "2\n",
      "20\n",
      "7882556\n",
      "0\n",
      "1\n",
      "14\n",
      "15\n",
      "7891161\n",
      "0\n",
      "1\n",
      "2\n",
      "19\n",
      "7901590\n",
      "0\n",
      "26\n",
      "27\n",
      "38\n",
      "7967752\n",
      "0\n",
      "2\n",
      "3\n",
      "18\n",
      "19\n",
      "22\n",
      "23\n",
      "28\n",
      "8012028\n",
      "0\n",
      "1\n",
      "14\n",
      "8150786\n",
      "0\n",
      "1\n",
      "17\n",
      "8231866\n",
      "0\n",
      "1\n",
      "2\n",
      "10\n",
      "8368444\n",
      "0\n",
      "5\n",
      "6\n",
      "8390447\n",
      "0\n",
      "3\n",
      "4\n",
      "12\n",
      "8399009\n",
      "0\n",
      "1\n",
      "5\n",
      "6\n",
      "12\n",
      "13\n",
      "14\n",
      "8435856\n",
      "0\n",
      "1\n",
      "3\n",
      "4\n",
      "17\n",
      "18\n",
      "8506469\n",
      "0\n",
      "1\n",
      "9\n",
      "8542045\n",
      "0\n",
      "1\n",
      "4\n",
      "5\n",
      "9\n",
      "10\n",
      "8806185\n",
      "0\n",
      "2\n",
      "3\n",
      "20\n",
      "8838428\n",
      "0\n",
      "8839333\n",
      "0\n",
      "1\n",
      "2\n",
      "19\n",
      "20\n",
      "36\n",
      "8898454\n",
      "0\n",
      "1\n",
      "13\n",
      "14\n",
      "15\n",
      "8915869\n",
      "0\n",
      "2\n",
      "4\n",
      "5\n",
      "7\n",
      "8955947\n",
      "0\n",
      "14\n",
      "8981054\n",
      "0\n",
      "1\n",
      "2\n",
      "4\n",
      "5\n",
      "7\n",
      "9\n",
      "8981088\n",
      "0\n",
      "1\n",
      "34\n",
      "9077075\n",
      "0\n",
      "4\n",
      "5\n",
      "31\n",
      "9224530\n",
      "0\n",
      "1\n",
      "8\n",
      "9243738\n",
      "0\n",
      "1\n",
      "3\n",
      "4\n",
      "12\n",
      "23\n",
      "9391429\n",
      "0\n",
      "1\n",
      "2\n",
      "6\n",
      "7\n",
      "21\n",
      "22\n",
      "9513550\n",
      "0\n",
      "5\n",
      "6\n",
      "13\n",
      "9574993\n",
      "0\n",
      "48\n",
      "9601149\n",
      "0\n",
      "1\n",
      "12\n",
      "9687004\n",
      "0\n",
      "1\n",
      "2\n",
      "23\n",
      "9691399\n",
      "0\n",
      "2\n",
      "3\n",
      "9\n",
      "10\n",
      "9739796\n",
      "0\n",
      "1\n",
      "2\n",
      "8\n",
      "9\n",
      "19\n",
      "9781575\n",
      "0\n",
      "1\n",
      "11\n",
      "9812242\n",
      "0\n",
      "1\n",
      "7\n",
      "17\n",
      "9818116\n",
      "0\n",
      "1\n",
      "2\n",
      "6\n",
      "9910592\n",
      "0\n",
      "1\n",
      "4\n",
      "5\n",
      "6\n",
      "9\n",
      "10\n",
      "12\n",
      "13\n",
      "14\n",
      "15\n",
      "18\n",
      "19\n",
      "20\n",
      "9963165\n",
      "0\n",
      "1\n",
      "6\n"
     ]
    }
   ],
   "source": [
    "df_VPA_steady=drug_vancomycin_6.copy()\n",
    "# 到稳态血药浓度（同一剂量至少连续服用3天)\n",
    "temp_list=[]\n",
    "for i in df_VPA_steady['case_no'].unique():\n",
    "    print(i)\n",
    "    temp=df_VPA_steady[df_VPA_steady['case_no']==i]\n",
    "    temp=temp.reset_index(drop=True)\n",
    "    j=0\n",
    "    while j < temp.shape[0]:\n",
    "#         print(j)\n",
    "        # 连续服药3天，tdm达到稳态。1.剂量连续3天；2. 时间连续3天\n",
    "        dosage_judge=temp.loc[j,'日剂量']    \n",
    "        # 1. 剂量判断\n",
    "        break_bool=False\n",
    "        for k in range(j+1,temp.shape[0]):\n",
    "            differ = (pd.to_datetime(temp.loc[k,'分裂日期'])-pd.to_datetime(temp.loc[k-1,'分裂日期'])).days\n",
    "            if dosage_judge != temp.loc[k,'日剂量'] or differ != 1:\n",
    "                # 判断是否中断\n",
    "                break_bool=True\n",
    "                break\n",
    "        # 是否是最后一天\n",
    "        if k != temp.shape[0]-1:\n",
    "            # 是否是稳态\n",
    "            if k-1-j>=2:\n",
    "                temp_list.append(temp.loc[j:k-1,])\n",
    "            j=k\n",
    "            continue\n",
    "        else:\n",
    "            # 最后一天是否中断\n",
    "            if break_bool:\n",
    "                # 是否是稳态\n",
    "                if k-1-j>=2:\n",
    "                    temp_list.append(temp.loc[j:k-1,])\n",
    "            else:\n",
    "                if k-j >=2:\n",
    "                    temp_list.append(temp.loc[j:k,])\n",
    "            j=k+1"
   ]
  },
  {
   "cell_type": "code",
   "execution_count": 482,
   "metadata": {},
   "outputs": [],
   "source": [
    "# list转换为DataFrame\n",
    "df_VPA_steady = pd.concat(temp_list,axis=0).reset_index(drop=True)\n",
    "del temp_list"
   ]
  },
  {
   "cell_type": "code",
   "execution_count": 483,
   "metadata": {},
   "outputs": [
    {
     "name": "stdout",
     "output_type": "stream",
     "text": [
      "(1983, 18)\n",
      "121\n",
      "131\n"
     ]
    }
   ],
   "source": [
    "print(df_VPA_steady.shape)\n",
    "print(df_VPA_steady['patient_id'].nunique())\n",
    "print(df_VPA_steady['case_no'].nunique())"
   ]
  },
  {
   "cell_type": "code",
   "execution_count": 484,
   "metadata": {},
   "outputs": [
    {
     "data": {
      "text/html": [
       "<div>\n",
       "<style scoped>\n",
       "    .dataframe tbody tr th:only-of-type {\n",
       "        vertical-align: middle;\n",
       "    }\n",
       "\n",
       "    .dataframe tbody tr th {\n",
       "        vertical-align: top;\n",
       "    }\n",
       "\n",
       "    .dataframe thead th {\n",
       "        text-align: right;\n",
       "    }\n",
       "</style>\n",
       "<table border=\"1\" class=\"dataframe\">\n",
       "  <thead>\n",
       "    <tr style=\"text-align: right;\">\n",
       "      <th></th>\n",
       "      <th>patient_id</th>\n",
       "      <th>case_no</th>\n",
       "      <th>drug_name</th>\n",
       "      <th>amount</th>\n",
       "      <th>drug_spec</th>\n",
       "      <th>dosage</th>\n",
       "      <th>frequency</th>\n",
       "      <th>start_datetime</th>\n",
       "      <th>end_datetime</th>\n",
       "      <th>statusdesc</th>\n",
       "      <th>日剂量</th>\n",
       "      <th>start_date</th>\n",
       "      <th>end_date</th>\n",
       "      <th>long_d_order</th>\n",
       "      <th>分裂日期</th>\n",
       "      <th>起始标签</th>\n",
       "      <th>时间标签</th>\n",
       "      <th>连续标签</th>\n",
       "    </tr>\n",
       "  </thead>\n",
       "  <tbody>\n",
       "    <tr>\n",
       "      <th>0</th>\n",
       "      <td>6873870</td>\n",
       "      <td>10001302</td>\n",
       "      <td>丙戊酸钠缓释片(德巴金)[0.5g*30片]</td>\n",
       "      <td>1</td>\n",
       "      <td>0.5g*30片</td>\n",
       "      <td>0.5</td>\n",
       "      <td>1</td>\n",
       "      <td>2020-08-15 19:51:46</td>\n",
       "      <td>2020-08-24 10:37:37</td>\n",
       "      <td>停止</td>\n",
       "      <td>0.5</td>\n",
       "      <td>2020-08-15</td>\n",
       "      <td>2020-08-24</td>\n",
       "      <td>1</td>\n",
       "      <td>2020-08-16</td>\n",
       "      <td>期间</td>\n",
       "      <td>1</td>\n",
       "      <td>1</td>\n",
       "    </tr>\n",
       "    <tr>\n",
       "      <th>1</th>\n",
       "      <td>6873870</td>\n",
       "      <td>10001302</td>\n",
       "      <td>丙戊酸钠缓释片(德巴金)[0.5g*30片]</td>\n",
       "      <td>1</td>\n",
       "      <td>0.5g*30片</td>\n",
       "      <td>0.5</td>\n",
       "      <td>1</td>\n",
       "      <td>2020-08-15 19:51:46</td>\n",
       "      <td>2020-08-24 10:37:37</td>\n",
       "      <td>停止</td>\n",
       "      <td>0.5</td>\n",
       "      <td>2020-08-15</td>\n",
       "      <td>2020-08-24</td>\n",
       "      <td>1</td>\n",
       "      <td>2020-08-17</td>\n",
       "      <td>期间</td>\n",
       "      <td>1</td>\n",
       "      <td>2</td>\n",
       "    </tr>\n",
       "    <tr>\n",
       "      <th>2</th>\n",
       "      <td>6873870</td>\n",
       "      <td>10001302</td>\n",
       "      <td>丙戊酸钠缓释片(德巴金)[0.5g*30片]</td>\n",
       "      <td>1</td>\n",
       "      <td>0.5g*30片</td>\n",
       "      <td>0.5</td>\n",
       "      <td>1</td>\n",
       "      <td>2020-08-15 19:51:46</td>\n",
       "      <td>2020-08-24 10:37:37</td>\n",
       "      <td>停止</td>\n",
       "      <td>0.5</td>\n",
       "      <td>2020-08-15</td>\n",
       "      <td>2020-08-24</td>\n",
       "      <td>1</td>\n",
       "      <td>2020-08-18</td>\n",
       "      <td>期间</td>\n",
       "      <td>1</td>\n",
       "      <td>3</td>\n",
       "    </tr>\n",
       "    <tr>\n",
       "      <th>3</th>\n",
       "      <td>6873870</td>\n",
       "      <td>10001302</td>\n",
       "      <td>丙戊酸钠缓释片(德巴金)[0.5g*30片]</td>\n",
       "      <td>1</td>\n",
       "      <td>0.5g*30片</td>\n",
       "      <td>0.5</td>\n",
       "      <td>1</td>\n",
       "      <td>2020-08-15 19:51:46</td>\n",
       "      <td>2020-08-24 10:37:37</td>\n",
       "      <td>停止</td>\n",
       "      <td>0.5</td>\n",
       "      <td>2020-08-15</td>\n",
       "      <td>2020-08-24</td>\n",
       "      <td>1</td>\n",
       "      <td>2020-08-19</td>\n",
       "      <td>期间</td>\n",
       "      <td>1</td>\n",
       "      <td>4</td>\n",
       "    </tr>\n",
       "    <tr>\n",
       "      <th>4</th>\n",
       "      <td>6873870</td>\n",
       "      <td>10001302</td>\n",
       "      <td>丙戊酸钠缓释片(德巴金)[0.5g*30片]</td>\n",
       "      <td>1</td>\n",
       "      <td>0.5g*30片</td>\n",
       "      <td>0.5</td>\n",
       "      <td>1</td>\n",
       "      <td>2020-08-15 19:51:46</td>\n",
       "      <td>2020-08-24 10:37:37</td>\n",
       "      <td>停止</td>\n",
       "      <td>0.5</td>\n",
       "      <td>2020-08-15</td>\n",
       "      <td>2020-08-24</td>\n",
       "      <td>1</td>\n",
       "      <td>2020-08-20</td>\n",
       "      <td>期间</td>\n",
       "      <td>1</td>\n",
       "      <td>5</td>\n",
       "    </tr>\n",
       "    <tr>\n",
       "      <th>...</th>\n",
       "      <td>...</td>\n",
       "      <td>...</td>\n",
       "      <td>...</td>\n",
       "      <td>...</td>\n",
       "      <td>...</td>\n",
       "      <td>...</td>\n",
       "      <td>...</td>\n",
       "      <td>...</td>\n",
       "      <td>...</td>\n",
       "      <td>...</td>\n",
       "      <td>...</td>\n",
       "      <td>...</td>\n",
       "      <td>...</td>\n",
       "      <td>...</td>\n",
       "      <td>...</td>\n",
       "      <td>...</td>\n",
       "      <td>...</td>\n",
       "      <td>...</td>\n",
       "    </tr>\n",
       "    <tr>\n",
       "      <th>1978</th>\n",
       "      <td>8374053</td>\n",
       "      <td>9963165</td>\n",
       "      <td>丙戊酸钠缓释片(德巴金)[0.5g*30片]</td>\n",
       "      <td>1</td>\n",
       "      <td>0.5g*30片</td>\n",
       "      <td>0.5</td>\n",
       "      <td>2</td>\n",
       "      <td>2020-08-11 22:09:19</td>\n",
       "      <td>2020-08-18 08:48:00</td>\n",
       "      <td>停止</td>\n",
       "      <td>1.0</td>\n",
       "      <td>2020-08-11</td>\n",
       "      <td>2020-08-18</td>\n",
       "      <td>1</td>\n",
       "      <td>2020-08-12</td>\n",
       "      <td>期间</td>\n",
       "      <td>1</td>\n",
       "      <td>1</td>\n",
       "    </tr>\n",
       "    <tr>\n",
       "      <th>1979</th>\n",
       "      <td>8374053</td>\n",
       "      <td>9963165</td>\n",
       "      <td>丙戊酸钠缓释片(德巴金)[0.5g*30片]</td>\n",
       "      <td>1</td>\n",
       "      <td>0.5g*30片</td>\n",
       "      <td>0.5</td>\n",
       "      <td>2</td>\n",
       "      <td>2020-08-11 22:09:19</td>\n",
       "      <td>2020-08-18 08:48:00</td>\n",
       "      <td>停止</td>\n",
       "      <td>1.0</td>\n",
       "      <td>2020-08-11</td>\n",
       "      <td>2020-08-18</td>\n",
       "      <td>1</td>\n",
       "      <td>2020-08-13</td>\n",
       "      <td>期间</td>\n",
       "      <td>1</td>\n",
       "      <td>2</td>\n",
       "    </tr>\n",
       "    <tr>\n",
       "      <th>1980</th>\n",
       "      <td>8374053</td>\n",
       "      <td>9963165</td>\n",
       "      <td>丙戊酸钠缓释片(德巴金)[0.5g*30片]</td>\n",
       "      <td>1</td>\n",
       "      <td>0.5g*30片</td>\n",
       "      <td>0.5</td>\n",
       "      <td>2</td>\n",
       "      <td>2020-08-11 22:09:19</td>\n",
       "      <td>2020-08-18 08:48:00</td>\n",
       "      <td>停止</td>\n",
       "      <td>1.0</td>\n",
       "      <td>2020-08-11</td>\n",
       "      <td>2020-08-18</td>\n",
       "      <td>1</td>\n",
       "      <td>2020-08-14</td>\n",
       "      <td>期间</td>\n",
       "      <td>1</td>\n",
       "      <td>3</td>\n",
       "    </tr>\n",
       "    <tr>\n",
       "      <th>1981</th>\n",
       "      <td>8374053</td>\n",
       "      <td>9963165</td>\n",
       "      <td>丙戊酸钠缓释片(德巴金)[0.5g*30片]</td>\n",
       "      <td>1</td>\n",
       "      <td>0.5g*30片</td>\n",
       "      <td>0.5</td>\n",
       "      <td>2</td>\n",
       "      <td>2020-08-11 22:09:19</td>\n",
       "      <td>2020-08-18 08:48:00</td>\n",
       "      <td>停止</td>\n",
       "      <td>1.0</td>\n",
       "      <td>2020-08-11</td>\n",
       "      <td>2020-08-18</td>\n",
       "      <td>1</td>\n",
       "      <td>2020-08-15</td>\n",
       "      <td>期间</td>\n",
       "      <td>1</td>\n",
       "      <td>4</td>\n",
       "    </tr>\n",
       "    <tr>\n",
       "      <th>1982</th>\n",
       "      <td>8374053</td>\n",
       "      <td>9963165</td>\n",
       "      <td>丙戊酸钠缓释片(德巴金)[0.5g*30片]</td>\n",
       "      <td>1</td>\n",
       "      <td>0.5g*30片</td>\n",
       "      <td>0.5</td>\n",
       "      <td>2</td>\n",
       "      <td>2020-08-11 22:09:19</td>\n",
       "      <td>2020-08-18 08:48:00</td>\n",
       "      <td>停止</td>\n",
       "      <td>1.0</td>\n",
       "      <td>2020-08-11</td>\n",
       "      <td>2020-08-18</td>\n",
       "      <td>1</td>\n",
       "      <td>2020-08-16</td>\n",
       "      <td>期间</td>\n",
       "      <td>1</td>\n",
       "      <td>5</td>\n",
       "    </tr>\n",
       "  </tbody>\n",
       "</table>\n",
       "<p>1983 rows × 18 columns</p>\n",
       "</div>"
      ],
      "text/plain": [
       "     patient_id   case_no               drug_name amount drug_spec dosage  \\\n",
       "0       6873870  10001302  丙戊酸钠缓释片(德巴金)[0.5g*30片]      1  0.5g*30片    0.5   \n",
       "1       6873870  10001302  丙戊酸钠缓释片(德巴金)[0.5g*30片]      1  0.5g*30片    0.5   \n",
       "2       6873870  10001302  丙戊酸钠缓释片(德巴金)[0.5g*30片]      1  0.5g*30片    0.5   \n",
       "3       6873870  10001302  丙戊酸钠缓释片(德巴金)[0.5g*30片]      1  0.5g*30片    0.5   \n",
       "4       6873870  10001302  丙戊酸钠缓释片(德巴金)[0.5g*30片]      1  0.5g*30片    0.5   \n",
       "...         ...       ...                     ...    ...       ...    ...   \n",
       "1978    8374053   9963165  丙戊酸钠缓释片(德巴金)[0.5g*30片]      1  0.5g*30片    0.5   \n",
       "1979    8374053   9963165  丙戊酸钠缓释片(德巴金)[0.5g*30片]      1  0.5g*30片    0.5   \n",
       "1980    8374053   9963165  丙戊酸钠缓释片(德巴金)[0.5g*30片]      1  0.5g*30片    0.5   \n",
       "1981    8374053   9963165  丙戊酸钠缓释片(德巴金)[0.5g*30片]      1  0.5g*30片    0.5   \n",
       "1982    8374053   9963165  丙戊酸钠缓释片(德巴金)[0.5g*30片]      1  0.5g*30片    0.5   \n",
       "\n",
       "     frequency      start_datetime        end_datetime statusdesc  日剂量  \\\n",
       "0            1 2020-08-15 19:51:46 2020-08-24 10:37:37         停止  0.5   \n",
       "1            1 2020-08-15 19:51:46 2020-08-24 10:37:37         停止  0.5   \n",
       "2            1 2020-08-15 19:51:46 2020-08-24 10:37:37         停止  0.5   \n",
       "3            1 2020-08-15 19:51:46 2020-08-24 10:37:37         停止  0.5   \n",
       "4            1 2020-08-15 19:51:46 2020-08-24 10:37:37         停止  0.5   \n",
       "...        ...                 ...                 ...        ...  ...   \n",
       "1978         2 2020-08-11 22:09:19 2020-08-18 08:48:00         停止  1.0   \n",
       "1979         2 2020-08-11 22:09:19 2020-08-18 08:48:00         停止  1.0   \n",
       "1980         2 2020-08-11 22:09:19 2020-08-18 08:48:00         停止  1.0   \n",
       "1981         2 2020-08-11 22:09:19 2020-08-18 08:48:00         停止  1.0   \n",
       "1982         2 2020-08-11 22:09:19 2020-08-18 08:48:00         停止  1.0   \n",
       "\n",
       "      start_date    end_date long_d_order        分裂日期 起始标签  时间标签  连续标签  \n",
       "0     2020-08-15  2020-08-24            1  2020-08-16   期间     1     1  \n",
       "1     2020-08-15  2020-08-24            1  2020-08-17   期间     1     2  \n",
       "2     2020-08-15  2020-08-24            1  2020-08-18   期间     1     3  \n",
       "3     2020-08-15  2020-08-24            1  2020-08-19   期间     1     4  \n",
       "4     2020-08-15  2020-08-24            1  2020-08-20   期间     1     5  \n",
       "...          ...         ...          ...         ...  ...   ...   ...  \n",
       "1978  2020-08-11  2020-08-18            1  2020-08-12   期间     1     1  \n",
       "1979  2020-08-11  2020-08-18            1  2020-08-13   期间     1     2  \n",
       "1980  2020-08-11  2020-08-18            1  2020-08-14   期间     1     3  \n",
       "1981  2020-08-11  2020-08-18            1  2020-08-15   期间     1     4  \n",
       "1982  2020-08-11  2020-08-18            1  2020-08-16   期间     1     5  \n",
       "\n",
       "[1983 rows x 18 columns]"
      ]
     },
     "execution_count": 484,
     "metadata": {},
     "output_type": "execute_result"
    }
   ],
   "source": [
    "df_VPA_steady"
   ]
  },
  {
   "cell_type": "code",
   "execution_count": 485,
   "metadata": {},
   "outputs": [],
   "source": [
    "df_VPA_steady.to_excel(project_path+'/data/processed_data/df_2.1.5.7_tdm稳态筛选.xlsx')"
   ]
  },
  {
   "cell_type": "markdown",
   "metadata": {},
   "source": [
    "### 无躯体疾病"
   ]
  },
  {
   "cell_type": "code",
   "execution_count": 348,
   "metadata": {},
   "outputs": [],
   "source": [
    "# 无严重的或不稳定的躯体疾病，且经检查表明躯体健康（包括体检查、病史、心电图和血生化、血液学及尿检查）"
   ]
  },
  {
   "cell_type": "markdown",
   "metadata": {},
   "source": [
    "#### 无体检健康异常"
   ]
  },
  {
   "cell_type": "code",
   "execution_count": 349,
   "metadata": {},
   "outputs": [],
   "source": [
    "df_VPA_exam=df_VPA_steady.copy()\n",
    "# 删除体检异常\n",
    "for i in range(df_exam.shape[0]):\n",
    "    description=df_exam.loc[i,'description']\n",
    "    description_list=re.split('，|。',description)\n",
    "    for k in description_list:\n",
    "        if re.match('[^无否未见]*异常',k):\n",
    "            print(i)\n",
    "            df_VPA_exam=df_VPA_exam[df_VPA_exam['patient_id']!=df_exam.loc[i,'patient_id']]\n",
    "            break"
   ]
  },
  {
   "cell_type": "code",
   "execution_count": 350,
   "metadata": {},
   "outputs": [
    {
     "name": "stdout",
     "output_type": "stream",
     "text": [
      "(2099, 17)\n",
      "133\n",
      "144\n"
     ]
    }
   ],
   "source": [
    "print(df_VPA_exam.shape)\n",
    "print(df_VPA_exam['patient_id'].nunique())\n",
    "print(df_VPA_exam['case_no'].nunique())"
   ]
  },
  {
   "cell_type": "markdown",
   "metadata": {},
   "source": [
    "#### 病史"
   ]
  },
  {
   "cell_type": "code",
   "execution_count": 351,
   "metadata": {},
   "outputs": [
    {
     "data": {
      "text/plain": [
       "Index(['patient_id', 'case_no', 'record_date', 'diagnostic_type',\n",
       "       'diagnostic_content'],\n",
       "      dtype='object')"
      ]
     },
     "execution_count": 351,
     "metadata": {},
     "output_type": "execute_result"
    }
   ],
   "source": [
    "df_diagnostic_record.columns"
   ]
  },
  {
   "cell_type": "code",
   "execution_count": 352,
   "metadata": {},
   "outputs": [],
   "source": [
    "# 提取肝炎\n",
    "df_HCA=df_diagnostic_record[df_diagnostic_record['diagnostic_content'].str.contains('肝炎')]"
   ]
  },
  {
   "cell_type": "code",
   "execution_count": 353,
   "metadata": {},
   "outputs": [
    {
     "data": {
      "text/plain": [
       "(11, 5)"
      ]
     },
     "execution_count": 353,
     "metadata": {},
     "output_type": "execute_result"
    }
   ],
   "source": [
    "df_HCA.shape"
   ]
  },
  {
   "cell_type": "code",
   "execution_count": 354,
   "metadata": {},
   "outputs": [],
   "source": [
    "# 剔除肝炎患者\n",
    "df_VPA_exam=df_VPA_exam[~ df_VPA_exam['patient_id'].isin(df_HCA.patient_id.unique())]"
   ]
  },
  {
   "cell_type": "code",
   "execution_count": 355,
   "metadata": {},
   "outputs": [
    {
     "name": "stdout",
     "output_type": "stream",
     "text": [
      "(2054, 17)\n",
      "130\n",
      "141\n"
     ]
    }
   ],
   "source": [
    "print(df_VPA_exam.shape)\n",
    "print(df_VPA_exam['patient_id'].nunique())\n",
    "print(df_VPA_exam['case_no'].nunique())"
   ]
  },
  {
   "cell_type": "code",
   "execution_count": 356,
   "metadata": {},
   "outputs": [],
   "source": [
    "# 提取肾病，不包括肾结石\n",
    "df_NEP=df_diagnostic_record[(df_diagnostic_record['diagnostic_content'].str.contains('肾'))&\n",
    "                           (~ df_diagnostic_record['diagnostic_content'].str.contains('肾结石'))]"
   ]
  },
  {
   "cell_type": "code",
   "execution_count": 357,
   "metadata": {},
   "outputs": [
    {
     "data": {
      "text/html": [
       "<div>\n",
       "<style scoped>\n",
       "    .dataframe tbody tr th:only-of-type {\n",
       "        vertical-align: middle;\n",
       "    }\n",
       "\n",
       "    .dataframe tbody tr th {\n",
       "        vertical-align: top;\n",
       "    }\n",
       "\n",
       "    .dataframe thead th {\n",
       "        text-align: right;\n",
       "    }\n",
       "</style>\n",
       "<table border=\"1\" class=\"dataframe\">\n",
       "  <thead>\n",
       "    <tr style=\"text-align: right;\">\n",
       "      <th></th>\n",
       "      <th>patient_id</th>\n",
       "      <th>case_no</th>\n",
       "      <th>record_date</th>\n",
       "      <th>diagnostic_type</th>\n",
       "      <th>diagnostic_content</th>\n",
       "    </tr>\n",
       "  </thead>\n",
       "  <tbody>\n",
       "    <tr>\n",
       "      <th>555</th>\n",
       "      <td>8881895</td>\n",
       "      <td>14103871</td>\n",
       "      <td>2021-09-30 10:31:17</td>\n",
       "      <td>出院诊断</td>\n",
       "      <td>慢性肾功能不全</td>\n",
       "    </tr>\n",
       "    <tr>\n",
       "      <th>558</th>\n",
       "      <td>8881895</td>\n",
       "      <td>14103871</td>\n",
       "      <td>2021-09-30 10:31:17</td>\n",
       "      <td>出院诊断</td>\n",
       "      <td>肾上腺肿物</td>\n",
       "    </tr>\n",
       "    <tr>\n",
       "      <th>566</th>\n",
       "      <td>8881895</td>\n",
       "      <td>14103871</td>\n",
       "      <td>2021-10-19 16:09:54</td>\n",
       "      <td>出院诊断</td>\n",
       "      <td>慢性肾脏病3期</td>\n",
       "    </tr>\n",
       "    <tr>\n",
       "      <th>568</th>\n",
       "      <td>8881895</td>\n",
       "      <td>14103871</td>\n",
       "      <td>2021-09-22 15:38:17</td>\n",
       "      <td>初步诊断</td>\n",
       "      <td>肾上腺肿物</td>\n",
       "    </tr>\n",
       "    <tr>\n",
       "      <th>572</th>\n",
       "      <td>8881895</td>\n",
       "      <td>14103871</td>\n",
       "      <td>2021-09-22 15:38:17</td>\n",
       "      <td>初步诊断</td>\n",
       "      <td>慢性肾功能不全</td>\n",
       "    </tr>\n",
       "    <tr>\n",
       "      <th>709</th>\n",
       "      <td>6591495</td>\n",
       "      <td>4151975</td>\n",
       "      <td>2018-08-13 12:13:48</td>\n",
       "      <td>出院诊断</td>\n",
       "      <td>右肾囊肿</td>\n",
       "    </tr>\n",
       "    <tr>\n",
       "      <th>714</th>\n",
       "      <td>6591495</td>\n",
       "      <td>4151975</td>\n",
       "      <td>2018-08-13 13:27:42</td>\n",
       "      <td>最后诊断</td>\n",
       "      <td>右肾囊肿</td>\n",
       "    </tr>\n",
       "    <tr>\n",
       "      <th>1072</th>\n",
       "      <td>7656474</td>\n",
       "      <td>5436932</td>\n",
       "      <td>2019-01-25 15:02:03</td>\n",
       "      <td>最后诊断</td>\n",
       "      <td>肾囊肿</td>\n",
       "    </tr>\n",
       "    <tr>\n",
       "      <th>1077</th>\n",
       "      <td>7656474</td>\n",
       "      <td>5436932</td>\n",
       "      <td>2019-01-23 21:06:56</td>\n",
       "      <td>出院诊断</td>\n",
       "      <td>肾囊肿</td>\n",
       "    </tr>\n",
       "    <tr>\n",
       "      <th>1119</th>\n",
       "      <td>5265125</td>\n",
       "      <td>5682081</td>\n",
       "      <td>2019-03-21 10:35:59</td>\n",
       "      <td>出院诊断</td>\n",
       "      <td>肾囊肿</td>\n",
       "    </tr>\n",
       "    <tr>\n",
       "      <th>1232</th>\n",
       "      <td>7796728</td>\n",
       "      <td>6361827</td>\n",
       "      <td>2019-05-24 09:21:57</td>\n",
       "      <td>出院诊断</td>\n",
       "      <td>肾囊肿</td>\n",
       "    </tr>\n",
       "    <tr>\n",
       "      <th>1296</th>\n",
       "      <td>7836330</td>\n",
       "      <td>6645105</td>\n",
       "      <td>2019-06-25 09:36:10</td>\n",
       "      <td>出院诊断</td>\n",
       "      <td>肾囊肿</td>\n",
       "    </tr>\n",
       "  </tbody>\n",
       "</table>\n",
       "</div>"
      ],
      "text/plain": [
       "     patient_id   case_no         record_date diagnostic_type  \\\n",
       "555     8881895  14103871 2021-09-30 10:31:17            出院诊断   \n",
       "558     8881895  14103871 2021-09-30 10:31:17            出院诊断   \n",
       "566     8881895  14103871 2021-10-19 16:09:54            出院诊断   \n",
       "568     8881895  14103871 2021-09-22 15:38:17            初步诊断   \n",
       "572     8881895  14103871 2021-09-22 15:38:17            初步诊断   \n",
       "709     6591495   4151975 2018-08-13 12:13:48            出院诊断   \n",
       "714     6591495   4151975 2018-08-13 13:27:42            最后诊断   \n",
       "1072    7656474   5436932 2019-01-25 15:02:03            最后诊断   \n",
       "1077    7656474   5436932 2019-01-23 21:06:56            出院诊断   \n",
       "1119    5265125   5682081 2019-03-21 10:35:59            出院诊断   \n",
       "1232    7796728   6361827 2019-05-24 09:21:57            出院诊断   \n",
       "1296    7836330   6645105 2019-06-25 09:36:10            出院诊断   \n",
       "\n",
       "     diagnostic_content  \n",
       "555             慢性肾功能不全  \n",
       "558               肾上腺肿物  \n",
       "566             慢性肾脏病3期  \n",
       "568               肾上腺肿物  \n",
       "572             慢性肾功能不全  \n",
       "709                右肾囊肿  \n",
       "714                右肾囊肿  \n",
       "1072                肾囊肿  \n",
       "1077                肾囊肿  \n",
       "1119                肾囊肿  \n",
       "1232                肾囊肿  \n",
       "1296                肾囊肿  "
      ]
     },
     "execution_count": 357,
     "metadata": {},
     "output_type": "execute_result"
    }
   ],
   "source": [
    "df_NEP"
   ]
  },
  {
   "cell_type": "code",
   "execution_count": 358,
   "metadata": {},
   "outputs": [],
   "source": [
    "# 剔除肾病患者\n",
    "df_VPA_exam=df_VPA_exam[~ df_VPA_exam['patient_id'].isin(df_NEP.patient_id.unique())]"
   ]
  },
  {
   "cell_type": "code",
   "execution_count": 359,
   "metadata": {},
   "outputs": [
    {
     "name": "stdout",
     "output_type": "stream",
     "text": [
      "(1994, 17)\n",
      "125\n",
      "136\n"
     ]
    }
   ],
   "source": [
    "print(df_VPA_exam.shape)\n",
    "print(df_VPA_exam['patient_id'].nunique())\n",
    "print(df_VPA_exam['case_no'].nunique())"
   ]
  },
  {
   "cell_type": "code",
   "execution_count": 360,
   "metadata": {},
   "outputs": [],
   "source": [
    "# 提取高血压\n",
    "df_EH=df_diagnostic_record[df_diagnostic_record['diagnostic_content'].str.contains('高血压')]"
   ]
  },
  {
   "cell_type": "code",
   "execution_count": 361,
   "metadata": {},
   "outputs": [
    {
     "data": {
      "text/html": [
       "<div>\n",
       "<style scoped>\n",
       "    .dataframe tbody tr th:only-of-type {\n",
       "        vertical-align: middle;\n",
       "    }\n",
       "\n",
       "    .dataframe tbody tr th {\n",
       "        vertical-align: top;\n",
       "    }\n",
       "\n",
       "    .dataframe thead th {\n",
       "        text-align: right;\n",
       "    }\n",
       "</style>\n",
       "<table border=\"1\" class=\"dataframe\">\n",
       "  <thead>\n",
       "    <tr style=\"text-align: right;\">\n",
       "      <th></th>\n",
       "      <th>patient_id</th>\n",
       "      <th>case_no</th>\n",
       "      <th>record_date</th>\n",
       "      <th>diagnostic_type</th>\n",
       "      <th>diagnostic_content</th>\n",
       "    </tr>\n",
       "  </thead>\n",
       "  <tbody>\n",
       "    <tr>\n",
       "      <th>216</th>\n",
       "      <td>2930481</td>\n",
       "      <td>11022153</td>\n",
       "      <td>2020-12-02 14:44:52</td>\n",
       "      <td>初步诊断</td>\n",
       "      <td>高血压2级</td>\n",
       "    </tr>\n",
       "    <tr>\n",
       "      <th>218</th>\n",
       "      <td>2930481</td>\n",
       "      <td>11022153</td>\n",
       "      <td>2020-12-18 08:28:40</td>\n",
       "      <td>出院诊断</td>\n",
       "      <td>高血压2级</td>\n",
       "    </tr>\n",
       "    <tr>\n",
       "      <th>221</th>\n",
       "      <td>2930481</td>\n",
       "      <td>11022153</td>\n",
       "      <td>2020-12-19 02:12:10</td>\n",
       "      <td>出院诊断</td>\n",
       "      <td>高血压3级</td>\n",
       "    </tr>\n",
       "    <tr>\n",
       "      <th>712</th>\n",
       "      <td>6591495</td>\n",
       "      <td>4151975</td>\n",
       "      <td>2018-08-13 13:27:42</td>\n",
       "      <td>最后诊断</td>\n",
       "      <td>高血压病</td>\n",
       "    </tr>\n",
       "    <tr>\n",
       "      <th>716</th>\n",
       "      <td>6591495</td>\n",
       "      <td>4151975</td>\n",
       "      <td>2018-08-01 16:41:39</td>\n",
       "      <td>初步诊断</td>\n",
       "      <td>高血压病</td>\n",
       "    </tr>\n",
       "    <tr>\n",
       "      <th>718</th>\n",
       "      <td>6591495</td>\n",
       "      <td>4151975</td>\n",
       "      <td>2018-08-13 12:01:49</td>\n",
       "      <td>出院诊断</td>\n",
       "      <td>高血压病</td>\n",
       "    </tr>\n",
       "    <tr>\n",
       "      <th>873</th>\n",
       "      <td>2583650</td>\n",
       "      <td>None</td>\n",
       "      <td>2018-10-19 11:56:33</td>\n",
       "      <td>门诊诊断</td>\n",
       "      <td>高血压3级</td>\n",
       "    </tr>\n",
       "    <tr>\n",
       "      <th>1057</th>\n",
       "      <td>2583650</td>\n",
       "      <td>5407981</td>\n",
       "      <td>2019-01-17 12:35:55</td>\n",
       "      <td>出院诊断</td>\n",
       "      <td>高血压病</td>\n",
       "    </tr>\n",
       "    <tr>\n",
       "      <th>1064</th>\n",
       "      <td>2583650</td>\n",
       "      <td>5407981</td>\n",
       "      <td>2019-01-10 15:28:12</td>\n",
       "      <td>初步诊断</td>\n",
       "      <td>高血压病</td>\n",
       "    </tr>\n",
       "    <tr>\n",
       "      <th>1067</th>\n",
       "      <td>2583650</td>\n",
       "      <td>5407981</td>\n",
       "      <td>2019-01-17 12:21:54</td>\n",
       "      <td>最后诊断</td>\n",
       "      <td>高血压病</td>\n",
       "    </tr>\n",
       "    <tr>\n",
       "      <th>1403</th>\n",
       "      <td>7836330</td>\n",
       "      <td>None</td>\n",
       "      <td>2019-09-24 09:34:46</td>\n",
       "      <td>门诊诊断</td>\n",
       "      <td>高血压1级</td>\n",
       "    </tr>\n",
       "    <tr>\n",
       "      <th>1778</th>\n",
       "      <td>2583650</td>\n",
       "      <td>9818116</td>\n",
       "      <td>2020-08-03 08:29:12</td>\n",
       "      <td>出院诊断</td>\n",
       "      <td>高血压2级</td>\n",
       "    </tr>\n",
       "    <tr>\n",
       "      <th>1784</th>\n",
       "      <td>2583650</td>\n",
       "      <td>9818116</td>\n",
       "      <td>2020-07-27 22:18:01</td>\n",
       "      <td>初步诊断</td>\n",
       "      <td>高血压2级</td>\n",
       "    </tr>\n",
       "  </tbody>\n",
       "</table>\n",
       "</div>"
      ],
      "text/plain": [
       "     patient_id   case_no         record_date diagnostic_type  \\\n",
       "216     2930481  11022153 2020-12-02 14:44:52            初步诊断   \n",
       "218     2930481  11022153 2020-12-18 08:28:40            出院诊断   \n",
       "221     2930481  11022153 2020-12-19 02:12:10            出院诊断   \n",
       "712     6591495   4151975 2018-08-13 13:27:42            最后诊断   \n",
       "716     6591495   4151975 2018-08-01 16:41:39            初步诊断   \n",
       "718     6591495   4151975 2018-08-13 12:01:49            出院诊断   \n",
       "873     2583650      None 2018-10-19 11:56:33            门诊诊断   \n",
       "1057    2583650   5407981 2019-01-17 12:35:55            出院诊断   \n",
       "1064    2583650   5407981 2019-01-10 15:28:12            初步诊断   \n",
       "1067    2583650   5407981 2019-01-17 12:21:54            最后诊断   \n",
       "1403    7836330      None 2019-09-24 09:34:46            门诊诊断   \n",
       "1778    2583650   9818116 2020-08-03 08:29:12            出院诊断   \n",
       "1784    2583650   9818116 2020-07-27 22:18:01            初步诊断   \n",
       "\n",
       "     diagnostic_content  \n",
       "216               高血压2级  \n",
       "218               高血压2级  \n",
       "221               高血压3级  \n",
       "712                高血压病  \n",
       "716                高血压病  \n",
       "718                高血压病  \n",
       "873               高血压3级  \n",
       "1057               高血压病  \n",
       "1064               高血压病  \n",
       "1067               高血压病  \n",
       "1403              高血压1级  \n",
       "1778              高血压2级  \n",
       "1784              高血压2级  "
      ]
     },
     "execution_count": 361,
     "metadata": {},
     "output_type": "execute_result"
    }
   ],
   "source": [
    "df_EH"
   ]
  },
  {
   "cell_type": "code",
   "execution_count": 362,
   "metadata": {},
   "outputs": [],
   "source": [
    "# 剔除高血压患者\n",
    "df_VPA_exam=df_VPA_exam[~ df_VPA_exam['patient_id'].isin(df_EH.patient_id.unique())]"
   ]
  },
  {
   "cell_type": "code",
   "execution_count": 363,
   "metadata": {},
   "outputs": [
    {
     "name": "stdout",
     "output_type": "stream",
     "text": [
      "(1981, 17)\n",
      "123\n",
      "133\n"
     ]
    }
   ],
   "source": [
    "print(df_VPA_exam.shape)\n",
    "print(df_VPA_exam['patient_id'].nunique())\n",
    "print(df_VPA_exam['case_no'].nunique())"
   ]
  },
  {
   "cell_type": "code",
   "execution_count": 364,
   "metadata": {},
   "outputs": [],
   "source": [
    "# 提取糖尿病\n",
    "df_DM=df_diagnostic_record[df_diagnostic_record['diagnostic_content'].str.contains('糖尿病')]"
   ]
  },
  {
   "cell_type": "code",
   "execution_count": 365,
   "metadata": {},
   "outputs": [
    {
     "data": {
      "text/html": [
       "<div>\n",
       "<style scoped>\n",
       "    .dataframe tbody tr th:only-of-type {\n",
       "        vertical-align: middle;\n",
       "    }\n",
       "\n",
       "    .dataframe tbody tr th {\n",
       "        vertical-align: top;\n",
       "    }\n",
       "\n",
       "    .dataframe thead th {\n",
       "        text-align: right;\n",
       "    }\n",
       "</style>\n",
       "<table border=\"1\" class=\"dataframe\">\n",
       "  <thead>\n",
       "    <tr style=\"text-align: right;\">\n",
       "      <th></th>\n",
       "      <th>patient_id</th>\n",
       "      <th>case_no</th>\n",
       "      <th>record_date</th>\n",
       "      <th>diagnostic_type</th>\n",
       "      <th>diagnostic_content</th>\n",
       "    </tr>\n",
       "  </thead>\n",
       "  <tbody>\n",
       "    <tr>\n",
       "      <th>34</th>\n",
       "      <td>7006940</td>\n",
       "      <td>10146112</td>\n",
       "      <td>2020-09-10 10:14:26</td>\n",
       "      <td>出院诊断</td>\n",
       "      <td>2型糖尿病</td>\n",
       "    </tr>\n",
       "    <tr>\n",
       "      <th>35</th>\n",
       "      <td>7006940</td>\n",
       "      <td>10146112</td>\n",
       "      <td>2020-09-10 10:14:26</td>\n",
       "      <td>出院诊断</td>\n",
       "      <td>2型糖尿病周围神经病变</td>\n",
       "    </tr>\n",
       "    <tr>\n",
       "      <th>44</th>\n",
       "      <td>7006940</td>\n",
       "      <td>10146112</td>\n",
       "      <td>2020-08-31 15:23:24</td>\n",
       "      <td>初步诊断</td>\n",
       "      <td>2型糖尿病</td>\n",
       "    </tr>\n",
       "    <tr>\n",
       "      <th>46</th>\n",
       "      <td>7006940</td>\n",
       "      <td>10146112</td>\n",
       "      <td>2020-08-31 15:23:56</td>\n",
       "      <td>初步诊断</td>\n",
       "      <td>2型糖尿病周围神经病变</td>\n",
       "    </tr>\n",
       "    <tr>\n",
       "      <th>516</th>\n",
       "      <td>7651365</td>\n",
       "      <td>13817948</td>\n",
       "      <td>2021-08-26 19:40:05</td>\n",
       "      <td>初步诊断</td>\n",
       "      <td>2型糖尿病</td>\n",
       "    </tr>\n",
       "    <tr>\n",
       "      <th>548</th>\n",
       "      <td>8881895</td>\n",
       "      <td>14103871</td>\n",
       "      <td>2021-09-23 09:08:15</td>\n",
       "      <td>初步诊断</td>\n",
       "      <td>2型糖尿病</td>\n",
       "    </tr>\n",
       "    <tr>\n",
       "      <th>552</th>\n",
       "      <td>8881895</td>\n",
       "      <td>14103871</td>\n",
       "      <td>2021-09-30 10:31:17</td>\n",
       "      <td>出院诊断</td>\n",
       "      <td>2型糖尿病</td>\n",
       "    </tr>\n",
       "    <tr>\n",
       "      <th>567</th>\n",
       "      <td>8881895</td>\n",
       "      <td>14103871</td>\n",
       "      <td>2021-10-20 08:26:51</td>\n",
       "      <td>出院诊断</td>\n",
       "      <td>2型糖尿病周围神经病变</td>\n",
       "    </tr>\n",
       "    <tr>\n",
       "      <th>775</th>\n",
       "      <td>5878393</td>\n",
       "      <td>4366097</td>\n",
       "      <td>2018-09-13 11:39:26</td>\n",
       "      <td>最后诊断</td>\n",
       "      <td>2型糖尿病</td>\n",
       "    </tr>\n",
       "    <tr>\n",
       "      <th>778</th>\n",
       "      <td>5878393</td>\n",
       "      <td>4366097</td>\n",
       "      <td>2018-08-28 15:58:34</td>\n",
       "      <td>初步诊断</td>\n",
       "      <td>糖尿病</td>\n",
       "    </tr>\n",
       "    <tr>\n",
       "      <th>780</th>\n",
       "      <td>5878393</td>\n",
       "      <td>4366097</td>\n",
       "      <td>2018-09-08 10:41:00</td>\n",
       "      <td>出院诊断</td>\n",
       "      <td>2型糖尿病</td>\n",
       "    </tr>\n",
       "    <tr>\n",
       "      <th>874</th>\n",
       "      <td>2583650</td>\n",
       "      <td>None</td>\n",
       "      <td>2018-10-19 11:56:34</td>\n",
       "      <td>门诊诊断</td>\n",
       "      <td>糖尿病不伴有并发症</td>\n",
       "    </tr>\n",
       "    <tr>\n",
       "      <th>1056</th>\n",
       "      <td>2583650</td>\n",
       "      <td>5407981</td>\n",
       "      <td>2019-01-17 12:35:55</td>\n",
       "      <td>出院诊断</td>\n",
       "      <td>糖尿病不伴有并发症</td>\n",
       "    </tr>\n",
       "    <tr>\n",
       "      <th>1063</th>\n",
       "      <td>2583650</td>\n",
       "      <td>5407981</td>\n",
       "      <td>2019-01-10 12:12:53</td>\n",
       "      <td>初步诊断</td>\n",
       "      <td>糖尿病不伴有并发症</td>\n",
       "    </tr>\n",
       "    <tr>\n",
       "      <th>1066</th>\n",
       "      <td>2583650</td>\n",
       "      <td>5407981</td>\n",
       "      <td>2019-01-17 12:21:54</td>\n",
       "      <td>最后诊断</td>\n",
       "      <td>糖尿病不伴有并发症</td>\n",
       "    </tr>\n",
       "    <tr>\n",
       "      <th>1782</th>\n",
       "      <td>2583650</td>\n",
       "      <td>9818116</td>\n",
       "      <td>2020-08-03 08:29:12</td>\n",
       "      <td>出院诊断</td>\n",
       "      <td>2型糖尿病</td>\n",
       "    </tr>\n",
       "    <tr>\n",
       "      <th>1785</th>\n",
       "      <td>2583650</td>\n",
       "      <td>9818116</td>\n",
       "      <td>2020-07-27 22:18:01</td>\n",
       "      <td>初步诊断</td>\n",
       "      <td>2型糖尿病</td>\n",
       "    </tr>\n",
       "  </tbody>\n",
       "</table>\n",
       "</div>"
      ],
      "text/plain": [
       "     patient_id   case_no         record_date diagnostic_type  \\\n",
       "34      7006940  10146112 2020-09-10 10:14:26            出院诊断   \n",
       "35      7006940  10146112 2020-09-10 10:14:26            出院诊断   \n",
       "44      7006940  10146112 2020-08-31 15:23:24            初步诊断   \n",
       "46      7006940  10146112 2020-08-31 15:23:56            初步诊断   \n",
       "516     7651365  13817948 2021-08-26 19:40:05            初步诊断   \n",
       "548     8881895  14103871 2021-09-23 09:08:15            初步诊断   \n",
       "552     8881895  14103871 2021-09-30 10:31:17            出院诊断   \n",
       "567     8881895  14103871 2021-10-20 08:26:51            出院诊断   \n",
       "775     5878393   4366097 2018-09-13 11:39:26            最后诊断   \n",
       "778     5878393   4366097 2018-08-28 15:58:34            初步诊断   \n",
       "780     5878393   4366097 2018-09-08 10:41:00            出院诊断   \n",
       "874     2583650      None 2018-10-19 11:56:34            门诊诊断   \n",
       "1056    2583650   5407981 2019-01-17 12:35:55            出院诊断   \n",
       "1063    2583650   5407981 2019-01-10 12:12:53            初步诊断   \n",
       "1066    2583650   5407981 2019-01-17 12:21:54            最后诊断   \n",
       "1782    2583650   9818116 2020-08-03 08:29:12            出院诊断   \n",
       "1785    2583650   9818116 2020-07-27 22:18:01            初步诊断   \n",
       "\n",
       "     diagnostic_content  \n",
       "34                2型糖尿病  \n",
       "35          2型糖尿病周围神经病变  \n",
       "44                2型糖尿病  \n",
       "46          2型糖尿病周围神经病变  \n",
       "516               2型糖尿病  \n",
       "548               2型糖尿病  \n",
       "552               2型糖尿病  \n",
       "567         2型糖尿病周围神经病变  \n",
       "775               2型糖尿病  \n",
       "778                 糖尿病  \n",
       "780               2型糖尿病  \n",
       "874           糖尿病不伴有并发症  \n",
       "1056          糖尿病不伴有并发症  \n",
       "1063          糖尿病不伴有并发症  \n",
       "1066          糖尿病不伴有并发症  \n",
       "1782              2型糖尿病  \n",
       "1785              2型糖尿病  "
      ]
     },
     "execution_count": 365,
     "metadata": {},
     "output_type": "execute_result"
    }
   ],
   "source": [
    "df_DM"
   ]
  },
  {
   "cell_type": "code",
   "execution_count": 366,
   "metadata": {},
   "outputs": [],
   "source": [
    "# 剔除高血压患者\n",
    "df_VPA_exam=df_VPA_exam[~ df_VPA_exam['patient_id'].isin(df_DM.patient_id.unique())]"
   ]
  },
  {
   "cell_type": "code",
   "execution_count": 367,
   "metadata": {},
   "outputs": [
    {
     "name": "stdout",
     "output_type": "stream",
     "text": [
      "(1969, 17)\n",
      "122\n",
      "132\n"
     ]
    }
   ],
   "source": [
    "print(df_VPA_exam.shape)\n",
    "print(df_VPA_exam['patient_id'].nunique())\n",
    "print(df_VPA_exam['case_no'].nunique())"
   ]
  },
  {
   "cell_type": "code",
   "execution_count": 368,
   "metadata": {},
   "outputs": [],
   "source": [
    "# 保存纳入标准数据\n",
    "df_VPA_exam.to_excel(project_path+'/data/processed_data/df_2.1_纳入标准数据.xlsx')"
   ]
  },
  {
   "cell_type": "markdown",
   "metadata": {},
   "source": [
    "#### 血液检测"
   ]
  },
  {
   "cell_type": "markdown",
   "metadata": {},
   "source": [
    "#### 尿检"
   ]
  },
  {
   "cell_type": "markdown",
   "metadata": {},
   "source": [
    "## 排除标准"
   ]
  },
  {
   "cell_type": "markdown",
   "metadata": {},
   "source": [
    "### tdm稳态前给药方案发生改变"
   ]
  },
  {
   "cell_type": "markdown",
   "metadata": {},
   "source": [
    "### 筛选前4周内接受过抗抑郁治疗或电休克治疗"
   ]
  },
  {
   "cell_type": "markdown",
   "metadata": {},
   "source": [
    "### 妊娠或哺乳期妇女"
   ]
  },
  {
   "cell_type": "markdown",
   "metadata": {},
   "source": [
    "### 排除使用肝药酶诱导剂"
   ]
  },
  {
   "cell_type": "code",
   "execution_count": 369,
   "metadata": {},
   "outputs": [],
   "source": [
    "# 肝药酶诱导剂（如卡马西平、苯妥英钠、苯巴比妥等）"
   ]
  },
  {
   "cell_type": "markdown",
   "metadata": {},
   "source": [
    "### 排除严重肝、肾疾病"
   ]
  },
  {
   "cell_type": "markdown",
   "metadata": {},
   "source": [
    "### 排除数据严重缺失"
   ]
  },
  {
   "cell_type": "code",
   "execution_count": 370,
   "metadata": {},
   "outputs": [],
   "source": [
    "# 数据严重缺失（如患者ID、主要研究结局等"
   ]
  },
  {
   "cell_type": "markdown",
   "metadata": {},
   "source": [
    "### 排除物质滥用者"
   ]
  },
  {
   "cell_type": "markdown",
   "metadata": {},
   "source": [
    "### 排除脑器质疾病或躯体疾病所致的情感障碍"
   ]
  },
  {
   "cell_type": "code",
   "execution_count": 371,
   "metadata": {},
   "outputs": [],
   "source": [
    "# 提取脑器质疾病brain organic mental disorders\n",
    "df_bomd=df_diagnostic_record[(df_diagnostic_record['diagnostic_content'].str.contains('器质'))&\n",
    "                            df_diagnostic_record['diagnostic_content'].str.contains('精神')]"
   ]
  },
  {
   "cell_type": "code",
   "execution_count": 372,
   "metadata": {},
   "outputs": [
    {
     "data": {
      "text/html": [
       "<div>\n",
       "<style scoped>\n",
       "    .dataframe tbody tr th:only-of-type {\n",
       "        vertical-align: middle;\n",
       "    }\n",
       "\n",
       "    .dataframe tbody tr th {\n",
       "        vertical-align: top;\n",
       "    }\n",
       "\n",
       "    .dataframe thead th {\n",
       "        text-align: right;\n",
       "    }\n",
       "</style>\n",
       "<table border=\"1\" class=\"dataframe\">\n",
       "  <thead>\n",
       "    <tr style=\"text-align: right;\">\n",
       "      <th></th>\n",
       "      <th>patient_id</th>\n",
       "      <th>case_no</th>\n",
       "      <th>record_date</th>\n",
       "      <th>diagnostic_type</th>\n",
       "      <th>diagnostic_content</th>\n",
       "    </tr>\n",
       "  </thead>\n",
       "  <tbody>\n",
       "    <tr>\n",
       "      <th>551</th>\n",
       "      <td>8881895</td>\n",
       "      <td>14103871</td>\n",
       "      <td>2021-09-30 10:31:17</td>\n",
       "      <td>出院诊断</td>\n",
       "      <td>脑器质性精神障碍</td>\n",
       "    </tr>\n",
       "    <tr>\n",
       "      <th>575</th>\n",
       "      <td>9290063</td>\n",
       "      <td>14107745</td>\n",
       "      <td>2021-10-20 09:00:47</td>\n",
       "      <td>初步诊断</td>\n",
       "      <td>脑器质性精神障碍</td>\n",
       "    </tr>\n",
       "    <tr>\n",
       "      <th>577</th>\n",
       "      <td>9290063</td>\n",
       "      <td>14107745</td>\n",
       "      <td>2021-11-09 08:37:44</td>\n",
       "      <td>出院诊断</td>\n",
       "      <td>脑器质性精神障碍</td>\n",
       "    </tr>\n",
       "    <tr>\n",
       "      <th>783</th>\n",
       "      <td>7506303</td>\n",
       "      <td>4389270</td>\n",
       "      <td>2018-09-14 08:16:50</td>\n",
       "      <td>最后诊断</td>\n",
       "      <td>器质性精神障碍</td>\n",
       "    </tr>\n",
       "    <tr>\n",
       "      <th>784</th>\n",
       "      <td>7506303</td>\n",
       "      <td>4389270</td>\n",
       "      <td>2018-09-14 08:17:28</td>\n",
       "      <td>出院诊断</td>\n",
       "      <td>器质性精神障碍</td>\n",
       "    </tr>\n",
       "  </tbody>\n",
       "</table>\n",
       "</div>"
      ],
      "text/plain": [
       "    patient_id   case_no         record_date diagnostic_type  \\\n",
       "551    8881895  14103871 2021-09-30 10:31:17            出院诊断   \n",
       "575    9290063  14107745 2021-10-20 09:00:47            初步诊断   \n",
       "577    9290063  14107745 2021-11-09 08:37:44            出院诊断   \n",
       "783    7506303   4389270 2018-09-14 08:16:50            最后诊断   \n",
       "784    7506303   4389270 2018-09-14 08:17:28            出院诊断   \n",
       "\n",
       "    diagnostic_content  \n",
       "551           脑器质性精神障碍  \n",
       "575           脑器质性精神障碍  \n",
       "577           脑器质性精神障碍  \n",
       "783            器质性精神障碍  \n",
       "784            器质性精神障碍  "
      ]
     },
     "execution_count": 372,
     "metadata": {},
     "output_type": "execute_result"
    }
   ],
   "source": [
    "df_bomd"
   ]
  },
  {
   "cell_type": "code",
   "execution_count": 373,
   "metadata": {},
   "outputs": [],
   "source": [
    "# 剔除脑器质疾病\n",
    "df_VPA_exclusion=df_VPA_exam[~ df_VPA_exam['patient_id'].isin(df_bomd.patient_id.unique())]"
   ]
  },
  {
   "cell_type": "code",
   "execution_count": 374,
   "metadata": {},
   "outputs": [
    {
     "name": "stdout",
     "output_type": "stream",
     "text": [
      "(1966, 17)\n",
      "121\n",
      "131\n"
     ]
    }
   ],
   "source": [
    "print(df_VPA_exclusion.shape)\n",
    "print(df_VPA_exclusion['patient_id'].nunique())\n",
    "print(df_VPA_exclusion['case_no'].nunique())"
   ]
  },
  {
   "cell_type": "code",
   "execution_count": 376,
   "metadata": {},
   "outputs": [],
   "source": [
    "df_VPA_exclusion.to_excel(project_path+'/data/processed_data/df_2_纳排数据.xlsx')"
   ]
  },
  {
   "cell_type": "markdown",
   "metadata": {},
   "source": [
    "# 合并人口学特征"
   ]
  },
  {
   "cell_type": "code",
   "execution_count": 262,
   "metadata": {},
   "outputs": [],
   "source": [
    "# 提取人口学合并特征\n",
    "df_popu=df_patient_merge[['patient_id','gender','race','age','身高','体重']]\n",
    "# 删除重复数据\n",
    "df_popu=df_popu.drop_duplicates(['patient_id','gender','race'])"
   ]
  },
  {
   "cell_type": "code",
   "execution_count": 268,
   "metadata": {},
   "outputs": [
    {
     "name": "stdout",
     "output_type": "stream",
     "text": [
      "(211, 6)\n",
      "211\n"
     ]
    }
   ],
   "source": [
    "print(df_popu.shape)\n",
    "print(df_popu['patient_id'].nunique())"
   ]
  },
  {
   "cell_type": "markdown",
   "metadata": {},
   "source": [
    "## 计算BMI"
   ]
  },
  {
   "cell_type": "code",
   "execution_count": 288,
   "metadata": {},
   "outputs": [],
   "source": [
    "BMI_list=[round(x*10000/y/y,2) for (x,y) in zip(df_popu['体重'].astype('float').tolist(),df_popu['身高'].astype('float').tolist())]"
   ]
  },
  {
   "cell_type": "code",
   "execution_count": 289,
   "metadata": {},
   "outputs": [
    {
     "name": "stdout",
     "output_type": "stream",
     "text": [
      "211\n",
      "(211, 6)\n"
     ]
    }
   ],
   "source": [
    "print(len(BMI_list))\n",
    "print(df_popu.shape)"
   ]
  },
  {
   "cell_type": "code",
   "execution_count": 290,
   "metadata": {},
   "outputs": [],
   "source": [
    "df_popu['BMI']=np.array(BMI_list)"
   ]
  },
  {
   "cell_type": "code",
   "execution_count": 291,
   "metadata": {},
   "outputs": [
    {
     "data": {
      "text/html": [
       "<div>\n",
       "<style scoped>\n",
       "    .dataframe tbody tr th:only-of-type {\n",
       "        vertical-align: middle;\n",
       "    }\n",
       "\n",
       "    .dataframe tbody tr th {\n",
       "        vertical-align: top;\n",
       "    }\n",
       "\n",
       "    .dataframe thead th {\n",
       "        text-align: right;\n",
       "    }\n",
       "</style>\n",
       "<table border=\"1\" class=\"dataframe\">\n",
       "  <thead>\n",
       "    <tr style=\"text-align: right;\">\n",
       "      <th></th>\n",
       "      <th>patient_id</th>\n",
       "      <th>gender</th>\n",
       "      <th>race</th>\n",
       "      <th>age</th>\n",
       "      <th>身高</th>\n",
       "      <th>体重</th>\n",
       "      <th>BMI</th>\n",
       "    </tr>\n",
       "  </thead>\n",
       "  <tbody>\n",
       "    <tr>\n",
       "      <th>0</th>\n",
       "      <td>6873870</td>\n",
       "      <td>女</td>\n",
       "      <td>汉族</td>\n",
       "      <td>28</td>\n",
       "      <td>153</td>\n",
       "      <td>52</td>\n",
       "      <td>22.21</td>\n",
       "    </tr>\n",
       "    <tr>\n",
       "      <th>3</th>\n",
       "      <td>547307</td>\n",
       "      <td>女</td>\n",
       "      <td>汉族</td>\n",
       "      <td>25</td>\n",
       "      <td>162</td>\n",
       "      <td>52</td>\n",
       "      <td>19.81</td>\n",
       "    </tr>\n",
       "    <tr>\n",
       "      <th>6</th>\n",
       "      <td>6949939</td>\n",
       "      <td>女</td>\n",
       "      <td>汉族</td>\n",
       "      <td>27</td>\n",
       "      <td>160</td>\n",
       "      <td>45</td>\n",
       "      <td>17.58</td>\n",
       "    </tr>\n",
       "    <tr>\n",
       "      <th>9</th>\n",
       "      <td>7765586</td>\n",
       "      <td>女</td>\n",
       "      <td>汉族</td>\n",
       "      <td>16</td>\n",
       "      <td>168</td>\n",
       "      <td>82</td>\n",
       "      <td>29.05</td>\n",
       "    </tr>\n",
       "    <tr>\n",
       "      <th>11</th>\n",
       "      <td>369329</td>\n",
       "      <td>女</td>\n",
       "      <td>汉族</td>\n",
       "      <td>33</td>\n",
       "      <td>159</td>\n",
       "      <td>67</td>\n",
       "      <td>26.50</td>\n",
       "    </tr>\n",
       "    <tr>\n",
       "      <th>...</th>\n",
       "      <td>...</td>\n",
       "      <td>...</td>\n",
       "      <td>...</td>\n",
       "      <td>...</td>\n",
       "      <td>...</td>\n",
       "      <td>...</td>\n",
       "      <td>...</td>\n",
       "    </tr>\n",
       "    <tr>\n",
       "      <th>938</th>\n",
       "      <td>8281006</td>\n",
       "      <td>男</td>\n",
       "      <td>汉族</td>\n",
       "      <td>14</td>\n",
       "      <td>168</td>\n",
       "      <td>52</td>\n",
       "      <td>18.42</td>\n",
       "    </tr>\n",
       "    <tr>\n",
       "      <th>947</th>\n",
       "      <td>8325164</td>\n",
       "      <td>男</td>\n",
       "      <td>汉族</td>\n",
       "      <td>30</td>\n",
       "      <td>167</td>\n",
       "      <td>79</td>\n",
       "      <td>28.33</td>\n",
       "    </tr>\n",
       "    <tr>\n",
       "      <th>951</th>\n",
       "      <td>7411504</td>\n",
       "      <td>女</td>\n",
       "      <td>汉族</td>\n",
       "      <td>17</td>\n",
       "      <td>163</td>\n",
       "      <td>57</td>\n",
       "      <td>21.45</td>\n",
       "    </tr>\n",
       "    <tr>\n",
       "      <th>953</th>\n",
       "      <td>8334957</td>\n",
       "      <td>男</td>\n",
       "      <td>汉族</td>\n",
       "      <td>14</td>\n",
       "      <td>166</td>\n",
       "      <td>49</td>\n",
       "      <td>17.78</td>\n",
       "    </tr>\n",
       "    <tr>\n",
       "      <th>961</th>\n",
       "      <td>8374053</td>\n",
       "      <td>女</td>\n",
       "      <td>汉族</td>\n",
       "      <td>23</td>\n",
       "      <td>160</td>\n",
       "      <td>62</td>\n",
       "      <td>24.22</td>\n",
       "    </tr>\n",
       "  </tbody>\n",
       "</table>\n",
       "<p>211 rows × 7 columns</p>\n",
       "</div>"
      ],
      "text/plain": [
       "    patient_id gender race  age   身高  体重    BMI\n",
       "0      6873870      女   汉族   28  153  52  22.21\n",
       "3       547307      女   汉族   25  162  52  19.81\n",
       "6      6949939      女   汉族   27  160  45  17.58\n",
       "9      7765586      女   汉族   16  168  82  29.05\n",
       "11      369329      女   汉族   33  159  67  26.50\n",
       "..         ...    ...  ...  ...  ...  ..    ...\n",
       "938    8281006      男   汉族   14  168  52  18.42\n",
       "947    8325164      男   汉族   30  167  79  28.33\n",
       "951    7411504      女   汉族   17  163  57  21.45\n",
       "953    8334957      男   汉族   14  166  49  17.78\n",
       "961    8374053      女   汉族   23  160  62  24.22\n",
       "\n",
       "[211 rows x 7 columns]"
      ]
     },
     "execution_count": 291,
     "metadata": {},
     "output_type": "execute_result"
    }
   ],
   "source": [
    "df_popu"
   ]
  },
  {
   "cell_type": "markdown",
   "metadata": {},
   "source": [
    "## 合并人口学特征"
   ]
  },
  {
   "cell_type": "code",
   "execution_count": 292,
   "metadata": {},
   "outputs": [],
   "source": [
    "df_VPA_popu=pd.merge(df_VPA_exclusion,df_popu,on=['patient_id'],how='left')"
   ]
  },
  {
   "cell_type": "code",
   "execution_count": 293,
   "metadata": {},
   "outputs": [
    {
     "name": "stdout",
     "output_type": "stream",
     "text": [
      "(1921, 23)\n",
      "115\n",
      "125\n"
     ]
    }
   ],
   "source": [
    "print(df_VPA_popu.shape)\n",
    "print(df_VPA_popu['patient_id'].nunique())\n",
    "print(df_VPA_popu['case_no'].nunique())"
   ]
  },
  {
   "cell_type": "code",
   "execution_count": 295,
   "metadata": {},
   "outputs": [],
   "source": [
    "# 合并人口学特征\n",
    "df_VPA_popu.to_excel(project_path+'/data/processed_data/df_3_合并人口学特征.xlsx')"
   ]
  },
  {
   "cell_type": "markdown",
   "metadata": {},
   "source": [
    "# 提取安全性指标"
   ]
  },
  {
   "cell_type": "markdown",
   "metadata": {},
   "source": [
    "## 消化道紊乱（恶心、胃疼、消化不良）"
   ]
  },
  {
   "cell_type": "markdown",
   "metadata": {},
   "source": [
    "## 皮疹"
   ]
  },
  {
   "cell_type": "markdown",
   "metadata": {},
   "source": [
    "## 高氨血症（血氨NH3>60）"
   ]
  },
  {
   "cell_type": "markdown",
   "metadata": {},
   "source": [
    "## 血小板<100或降低超过50%"
   ]
  },
  {
   "cell_type": "markdown",
   "metadata": {},
   "source": [
    "## 白细胞减少"
   ]
  },
  {
   "cell_type": "markdown",
   "metadata": {},
   "source": [
    "## 肝功异常"
   ]
  },
  {
   "cell_type": "markdown",
   "metadata": {},
   "source": [
    "## 头痛、嗜睡"
   ]
  },
  {
   "cell_type": "markdown",
   "metadata": {
    "heading_collapsed": true
   },
   "source": [
    "## 骨髓抑制检测转置"
   ]
  },
  {
   "cell_type": "code",
   "execution_count": null,
   "metadata": {
    "hidden": true
   },
   "outputs": [],
   "source": [
    "# 扩展新列\n",
    "df_VPA_dosage.loc[:,'血红蛋白_before']=np.nan\n",
    "df_VPA_dosage.loc[:,'血红蛋白_3d']=np.nan\n",
    "df_VPA_dosage.loc[:,'血红蛋白_7d']=np.nan\n",
    "df_VPA_dosage.loc[:,'血红蛋白_14d']=np.nan\n",
    "df_VPA_dosage.loc[:,'白细胞_before']=np.nan\n",
    "df_VPA_dosage.loc[:,'白细胞_3d']=np.nan\n",
    "df_VPA_dosage.loc[:,'白细胞_7d']=np.nan\n",
    "df_VPA_dosage.loc[:,'白细胞_14d']=np.nan\n",
    "df_VPA_dosage.loc[:,'粒细胞_before']=np.nan\n",
    "df_VPA_dosage.loc[:,'粒细胞_3d']=np.nan\n",
    "df_VPA_dosage.loc[:,'粒细胞_7d']=np.nan\n",
    "df_VPA_dosage.loc[:,'粒细胞_14d']=np.nan\n",
    "df_VPA_dosage.loc[:,'血小板_before']=np.nan\n",
    "df_VPA_dosage.loc[:,'血小板_3d']=np.nan\n",
    "df_VPA_dosage.loc[:,'血小板_7d']=np.nan\n",
    "df_VPA_dosage.loc[:,'血小板_14d']=np.nan"
   ]
  },
  {
   "cell_type": "code",
   "execution_count": null,
   "metadata": {
    "hidden": true
   },
   "outputs": [],
   "source": [
    "df_VPA_dosage.shape"
   ]
  },
  {
   "cell_type": "code",
   "execution_count": null,
   "metadata": {
    "hidden": true
   },
   "outputs": [],
   "source": [
    "# 将一次用药的不同检测装置到一行中，比如WBC_before,WBC_3d,WBC_7d\n",
    "temp_list=[]\n",
    "for i in df_VPA_dosage['case_no'].unique():\n",
    "    temp=df_VPA_dosage[df_VPA_dosage['case_no']==i]\n",
    "    temp=temp.sort_values(['case_no','start_datetime'])\n",
    "    temp=temp.reset_index(drop=True)\n",
    "    # 血红蛋白检测\n",
    "    temp_HGB=df_test_HGB[df_test_HGB['case_no']==i]\n",
    "    temp_HGB=temp_HGB.sort_values(['case_no','test_date'])\n",
    "    temp_HGB=temp_HGB.reset_index(drop=True)\n",
    "    # 白细胞检测\n",
    "    temp_WBC=df_test_WBC[df_test_WBC['case_no']==i]\n",
    "    temp_WBC=temp_WBC.sort_values(['case_no','test_date'])\n",
    "    temp_WBC=temp_WBC.reset_index(drop=True)\n",
    "    # 粒细胞检测\n",
    "    temp_IG=df_test_IG[df_test_IG['case_no']==i]\n",
    "    temp_IG=temp_IG.sort_values(['case_no','test_date'])\n",
    "    temp_IG=temp_IG.reset_index(drop=True)\n",
    "    # 血小板检测\n",
    "    temp_PLT=df_test_PLT[df_test_PLT['case_no']==i]\n",
    "    temp_PLT=temp_PLT.sort_values(['case_no','test_date'])\n",
    "    temp_PLT=temp_PLT.reset_index(drop=True)\n",
    "    # 骨髓抑制是降低指标，应该取用药后第一次检测。\n",
    "    for j in range(temp.shape[0]):\n",
    "        # 血红蛋白检测转置\n",
    "        for k in range(temp_HGB.shape[0]):\n",
    "            x=(temp_HGB.loc[k,'test_date']-temp.loc[j,'start_datetime']).days\n",
    "            if (x>=-3)&(x<0):\n",
    "                temp.loc[j,'血红蛋白_before']=temp_HGB.loc[k,'test_result']\n",
    "            if (x>=1)&(x<=4):\n",
    "                if pd.isnull(temp.loc[j,'血红蛋白_3d']):\n",
    "                    temp.loc[j,'血红蛋白_3d']=temp_HGB.loc[k,'test_result']\n",
    "            if (x>=6)&(x<=8):\n",
    "                if pd.isnull(temp.loc[j,'血红蛋白_7d']):\n",
    "                    temp.loc[j,'血红蛋白_7d']=temp_HGB.loc[k,'test_result']\n",
    "            if (x>=13)&(x<=15):\n",
    "                if pd.isnull(temp.loc[j,'血红蛋白_14d']):\n",
    "                    temp.loc[j,'血红蛋白_14d']=temp_HGB.loc[k,'test_result']\n",
    "        # 白细胞检测转置\n",
    "        for k in range(temp_WBC.shape[0]):\n",
    "            x=(temp_WBC.loc[k,'test_date']-temp.loc[j,'start_datetime']).days\n",
    "            if (x>=-3)&(x<0):\n",
    "                temp.loc[j,'白细胞_before']=temp_WBC.loc[k,'test_result']\n",
    "            if (x>=1)&(x<=4):\n",
    "                if pd.isnull(temp.loc[j,'白细胞_3d']):\n",
    "                    temp.loc[j,'白细胞_3d']=temp_WBC.loc[k,'test_result']\n",
    "            if (x>=6)&(x<=8):\n",
    "                if pd.isnull(temp.loc[j,'白细胞_7d']):\n",
    "                    temp.loc[j,'白细胞_7d']=temp_WBC.loc[k,'test_result']\n",
    "            if (x>=13)&(x<=15):\n",
    "                if pd.isnull(temp.loc[j,'白细胞_14d']):\n",
    "                    temp.loc[j,'白细胞_14d']=temp_WBC.loc[k,'test_result']\n",
    "        # 粒细胞检测转置\n",
    "        for k in range(temp_IG.shape[0]):\n",
    "            x=(temp_IG.loc[k,'test_date']-temp.loc[j,'start_datetime']).days\n",
    "            if (x>=-3)&(x<0):\n",
    "                temp.loc[j,'粒细胞_before']=temp_IG.loc[k,'test_result']\n",
    "            if (x>=1)&(x<=4):\n",
    "                if pd.isnull(temp.loc[j,'粒细胞_3d']):\n",
    "                    temp.loc[j,'粒细胞_3d']=temp_IG.loc[k,'test_result']\n",
    "            if (x>=6)&(x<=8):\n",
    "                if pd.isnull(temp.loc[j,'粒细胞_7d']):\n",
    "                    temp.loc[j,'粒细胞_7d']=temp_IG.loc[k,'test_result']\n",
    "            if (x>=13)&(x<=15):\n",
    "                if pd.isnull(temp.loc[j,'粒细胞_14d']):\n",
    "                    temp.loc[j,'粒细胞_14d']=temp_IG.loc[k,'test_result']\n",
    "        # 血小板检测转置\n",
    "        for k in range(temp_PLT.shape[0]):\n",
    "            x=(temp_PLT.loc[k,'test_date']-temp.loc[j,'start_datetime']).days\n",
    "            if (x>=-3)&(x<0):\n",
    "                temp.loc[j,'血小板_before']=temp_PLT.loc[k,'test_result']\n",
    "            if (x>=1)&(x<=4):\n",
    "                if pd.isnull(temp.loc[j,'血小板_3d']):\n",
    "                    temp.loc[j,'血小板_3d']=temp_PLT.loc[k,'test_result']\n",
    "            if (x>=6)&(x<=8):\n",
    "                if pd.isnull(temp.loc[j,'血小板_7d']):\n",
    "                    temp.loc[j,'血小板_7d']=temp_PLT.loc[k,'test_result']\n",
    "            if (x>=13)&(x<=15):\n",
    "                if pd.isnull(temp.loc[j,'血小板_14d']):\n",
    "                    temp.loc[j,'血小板_14d']=temp_PLT.loc[k,'test_result']\n",
    "    temp_list.append(temp)"
   ]
  },
  {
   "cell_type": "code",
   "execution_count": null,
   "metadata": {
    "hidden": true
   },
   "outputs": [],
   "source": [
    "df_VPA_bmd_test_T=temp_list[0]\n",
    "for j in range(1,len(temp_list)):\n",
    "    df_VPA_bmd_test_T=pd.concat([df_VPA_bmd_test_T,temp_list[j]],axis=0)\n",
    "df_VPA_bmd_test_T=df_VPA_bmd_test_T.reset_index(drop=True)\n",
    "del temp_list"
   ]
  },
  {
   "cell_type": "code",
   "execution_count": null,
   "metadata": {
    "hidden": true
   },
   "outputs": [],
   "source": [
    "df_VPA_bmd_test_T[df_VPA_bmd_test_T['case_no']=='786473']"
   ]
  },
  {
   "cell_type": "code",
   "execution_count": null,
   "metadata": {
    "hidden": true
   },
   "outputs": [],
   "source": [
    "# 排序\n",
    "df_VPA_bmd_test_T=df_VPA_bmd_test_T.sort_values(['case_no','start_datetime'])\n",
    "df_VPA_bmd_test_T=df_VPA_bmd_test_T.reset_index(drop=True)"
   ]
  },
  {
   "cell_type": "code",
   "execution_count": null,
   "metadata": {
    "hidden": true
   },
   "outputs": [],
   "source": [
    "print(df_VPA_bmd_test_T.shape)\n",
    "print(df_VPA_bmd_test_T['case_no'].nunique())"
   ]
  },
  {
   "cell_type": "code",
   "execution_count": null,
   "metadata": {
    "hidden": true
   },
   "outputs": [],
   "source": [
    "# 保存甲氨蝶呤骨髓抑制检测\n",
    "writer=pd.ExcelWriter(project_path+'/data/processed_data/df_5.1_甲氨蝶呤骨髓抑制检测转置.xlsx')\n",
    "df_VPA_bmd_test_T.to_excel(writer)\n",
    "writer.save()"
   ]
  },
  {
   "cell_type": "markdown",
   "metadata": {
    "heading_collapsed": true
   },
   "source": [
    "## 骨髓抑制检测值0-1转换"
   ]
  },
  {
   "cell_type": "code",
   "execution_count": null,
   "metadata": {
    "hidden": true
   },
   "outputs": [],
   "source": [
    "# 根据本善提供的指标对骨髓抑制指标进行二进制转换\n",
    "df_VPA_bmd_test_binary=df_VPA_bmd_test_T.copy()\n",
    "# 判断血红蛋白指标\n",
    "df_VPA_bmd_test_binary['血红蛋白_before_B']=df_VPA_bmd_test_binary['血红蛋白_before'].apply(lambda x: x if pd.isnull(x) else\n",
    "                                                                                  1 if float(x)<=109 else 0)\n",
    "df_VPA_bmd_test_binary['血红蛋白_3d_B']=df_VPA_bmd_test_binary['血红蛋白_3d'].apply(lambda x: x if pd.isnull(x) else\n",
    "                                                                                  1 if float(x)<=109 else 0)\n",
    "df_VPA_bmd_test_binary['血红蛋白_7d_B']=df_VPA_bmd_test_binary['血红蛋白_7d'].apply(lambda x: x if pd.isnull(x) else\n",
    "                                                                              1 if float(x)<=109 else 0)\n",
    "df_VPA_bmd_test_binary['血红蛋白_14d_B']=df_VPA_bmd_test_binary['血红蛋白_14d'].apply(lambda x: x if pd.isnull(x) else\n",
    "                                                                              1 if float(x)<=109 else 0)\n",
    "# 判断白细胞指标\n",
    "df_VPA_bmd_test_binary['白细胞_before_B']=df_VPA_bmd_test_binary['白细胞_before'].apply(lambda x: x if pd.isnull(x) else\n",
    "                                                                              1 if float(x)<=3.9 else 0)\n",
    "df_VPA_bmd_test_binary['白细胞_3d_B']=df_VPA_bmd_test_binary['白细胞_3d'].apply(lambda x: x if pd.isnull(x) else\n",
    "                                                                              1 if float(x)<=3.9 else 0)\n",
    "df_VPA_bmd_test_binary['白细胞_7d_B']=df_VPA_bmd_test_binary['白细胞_7d'].apply(lambda x: x if pd.isnull(x) else\n",
    "                                                                              1 if float(x)<=3.9 else 0)\n",
    "df_VPA_bmd_test_binary['白细胞_14d_B']=df_VPA_bmd_test_binary['白细胞_14d'].apply(lambda x: x if pd.isnull(x) else\n",
    "                                                                              1 if float(x)<=3.9 else 0)\n",
    "# 判断粒细胞指标\n",
    "df_VPA_bmd_test_binary['粒细胞_before_B']=df_VPA_bmd_test_binary['粒细胞_before'].apply(lambda x: x if pd.isnull(x) else\n",
    "                                                                              1 if float(x)<=1.9 else 0)\n",
    "df_VPA_bmd_test_binary['粒细胞_3d_B']=df_VPA_bmd_test_binary['粒细胞_3d'].apply(lambda x: x if pd.isnull(x) else\n",
    "                                                                              1 if float(x)<=1.9 else 0)\n",
    "df_VPA_bmd_test_binary['粒细胞_7d_B']=df_VPA_bmd_test_binary['粒细胞_7d'].apply(lambda x: x if pd.isnull(x) else\n",
    "                                                                              1 if float(x)<=1.9 else 0)\n",
    "df_VPA_bmd_test_binary['粒细胞_14d_B']=df_VPA_bmd_test_binary['粒细胞_14d'].apply(lambda x: x if pd.isnull(x) else\n",
    "                                                                              1 if float(x)<=1.9 else 0)\n",
    "# 判断血小板指标\n",
    "df_VPA_bmd_test_binary['血小板_before_B']=df_VPA_bmd_test_binary['血小板_before'].apply(lambda x: x if pd.isnull(x) else\n",
    "                                                                              1 if float(x)<=99 else 0)\n",
    "df_VPA_bmd_test_binary['血小板_3d_B']=df_VPA_bmd_test_binary['血小板_3d'].apply(lambda x: x if pd.isnull(x) else\n",
    "                                                                              1 if float(x)<=99 else 0)\n",
    "df_VPA_bmd_test_binary['血小板_7d_B']=df_VPA_bmd_test_binary['血小板_7d'].apply(lambda x: x if pd.isnull(x) else\n",
    "                                                                              1 if float(x)<=99 else 0)\n",
    "df_VPA_bmd_test_binary['血小板_14d_B']=df_VPA_bmd_test_binary['血小板_14d'].apply(lambda x: x if pd.isnull(x) else\n",
    "                                                                              1 if float(x)<=99 else 0)"
   ]
  },
  {
   "cell_type": "code",
   "execution_count": null,
   "metadata": {
    "hidden": true
   },
   "outputs": [],
   "source": [
    "df_VPA_bmd_test_binary"
   ]
  },
  {
   "cell_type": "code",
   "execution_count": null,
   "metadata": {
    "hidden": true
   },
   "outputs": [],
   "source": [
    "print(df_VPA_bmd_test_binary.shape)\n",
    "print(df_VPA_bmd_test_binary['patient_id'].nunique())"
   ]
  },
  {
   "cell_type": "code",
   "execution_count": null,
   "metadata": {
    "hidden": true
   },
   "outputs": [],
   "source": [
    "# 保存甲氨蝶呤骨髓抑制检测\n",
    "writer=pd.ExcelWriter(project_path+'/data/processed_data/df_5.2_甲氨蝶呤骨髓抑制检测0-1转置.xlsx')\n",
    "df_VPA_bmd_test_binary.to_excel(writer)\n",
    "writer.save()"
   ]
  },
  {
   "cell_type": "markdown",
   "metadata": {
    "heading_collapsed": true
   },
   "source": [
    "## 判断骨髓抑制"
   ]
  },
  {
   "cell_type": "code",
   "execution_count": null,
   "metadata": {
    "hidden": true
   },
   "outputs": [],
   "source": [
    "# 如果同时出现2个指标降低，则认为发生\n",
    "for i in range(df_VPA_bmd_test_binary.shape[0]):\n",
    "    # 检测甲氨蝶呤服药前骨髓抑制\n",
    "    list_before=list(df_VPA_bmd_test_binary.loc[i,['血红蛋白_before_B','白细胞_before_B','粒细胞_before_B','血小板_before_B']])\n",
    "    if list_before.count(1) >=2:\n",
    "        df_VPA_bmd_test_binary.loc[i,'bmd_before']=1\n",
    "    else:\n",
    "        df_VPA_bmd_test_binary.loc[i,'bmd_before']=0\n",
    "    # 检测甲氨蝶呤服药第3天骨髓抑制\n",
    "    list_before=list(df_VPA_bmd_test_binary.loc[i,['血红蛋白_3d_B','白细胞_3d_B','粒细胞_3d_B','血小板_3d_B']])\n",
    "    if list_before.count(1) >=2:\n",
    "        df_VPA_bmd_test_binary.loc[i,'bmd_3d']=1\n",
    "    else:\n",
    "        df_VPA_bmd_test_binary.loc[i,'bmd_3d']=0\n",
    "    # 检测甲氨蝶呤服药第7天骨髓抑制\n",
    "    list_before=list(df_VPA_bmd_test_binary.loc[i,['血红蛋白_7d_B','白细胞_7d_B','粒细胞_7d_B','血小板_7d_B']])\n",
    "    if list_before.count(1) >=2:\n",
    "        df_VPA_bmd_test_binary.loc[i,'bmd_7d']=1\n",
    "    else:\n",
    "        df_VPA_bmd_test_binary.loc[i,'bmd_7d']=0\n",
    "    # 检测甲氨蝶呤服药第14天骨髓抑制\n",
    "    list_before=list(df_VPA_bmd_test_binary.loc[i,['血红蛋白_14d_B','白细胞_14d_B','粒细胞_14d_B','血小板_14d_B']])\n",
    "    if list_before.count(1) >=2:\n",
    "        df_VPA_bmd_test_binary.loc[i,'bmd_14d']=1\n",
    "    else:\n",
    "        df_VPA_bmd_test_binary.loc[i,'bmd_14d']=0"
   ]
  },
  {
   "cell_type": "code",
   "execution_count": null,
   "metadata": {
    "hidden": true
   },
   "outputs": [],
   "source": [
    "df_VPA_bmd_test_binary"
   ]
  },
  {
   "cell_type": "code",
   "execution_count": null,
   "metadata": {
    "hidden": true
   },
   "outputs": [],
   "source": [
    "# 排序\n",
    "df_VPA_bmd_test_binary=df_VPA_bmd_test_binary.sort_values(['patient_id','start_datetime'])\n",
    "df_VPA_bmd_test_binary=df_VPA_bmd_test_binary.reset_index(drop=True)"
   ]
  },
  {
   "cell_type": "code",
   "execution_count": null,
   "metadata": {
    "hidden": true
   },
   "outputs": [],
   "source": [
    "# 保存甲氨蝶呤骨髓抑制统计\n",
    "writer=pd.ExcelWriter(project_path+'/data/processed_data/df_5.3_判断是否出现骨髓抑制.xlsx')\n",
    "df_VPA_bmd_test_binary.to_excel(writer)\n",
    "writer.save()"
   ]
  },
  {
   "cell_type": "markdown",
   "metadata": {},
   "source": [
    "## 提取第一次入院第一次出现骨髓抑制"
   ]
  },
  {
   "cell_type": "markdown",
   "metadata": {},
   "source": [
    "### 提取第一次入院时的骨髓抑制"
   ]
  },
  {
   "cell_type": "code",
   "execution_count": null,
   "metadata": {},
   "outputs": [],
   "source": [
    "# 取第一次入院时的用药信息\n",
    "df_VPA_bmd_test_binary=df_VPA_bmd_test_binary.sort_values(['patient_id','start_datetime'])\n",
    "df_VPA_bmd_test_first=df_VPA_bmd_test_binary.drop_duplicates(subset=['patient_id'],keep='first')\n",
    "df_VPA_bmd_test_first=df_VPA_bmd_test_first.reset_index(drop=True)"
   ]
  },
  {
   "cell_type": "code",
   "execution_count": null,
   "metadata": {},
   "outputs": [],
   "source": [
    "print(df_VPA_bmd_test_first.shape)\n",
    "print(df_VPA_bmd_test_first['patient_id'].nunique())"
   ]
  },
  {
   "cell_type": "code",
   "execution_count": null,
   "metadata": {},
   "outputs": [],
   "source": [
    "# 保存第一次入院时甲氨蝶呤骨髓抑制统计\n",
    "writer=pd.ExcelWriter(project_path+'/data/processed_data/df_5.4.1_提取第一次入院出现骨髓抑制.xlsx')\n",
    "df_VPA_bmd_test_first.to_excel(writer)\n",
    "writer.save()"
   ]
  },
  {
   "cell_type": "code",
   "execution_count": null,
   "metadata": {},
   "outputs": [],
   "source": [
    "# 统计第一次入院前就骨髓抑制\n",
    "df_VPA_bmd_before=df_VPA_bmd_test_first[df_VPA_bmd_test_first['bmd_before']==1]"
   ]
  },
  {
   "cell_type": "code",
   "execution_count": null,
   "metadata": {},
   "outputs": [],
   "source": [
    "print(df_VPA_bmd_before.shape)\n",
    "print(df_VPA_bmd_before['patient_id'].nunique())"
   ]
  },
  {
   "cell_type": "code",
   "execution_count": null,
   "metadata": {},
   "outputs": [],
   "source": [
    "# 统计第一次用药3天后骨髓抑制\n",
    "df_VPA_bmd_3d=df_VPA_bmd_test_first[(df_VPA_bmd_test_first['bmd_3d']==1)&\n",
    "                                                             (df_VPA_bmd_test_first['bmd_before']==0)]"
   ]
  },
  {
   "cell_type": "code",
   "execution_count": null,
   "metadata": {},
   "outputs": [],
   "source": [
    "print(df_VPA_bmd_3d.shape)\n",
    "print(df_VPA_bmd_3d['patient_id'].nunique())"
   ]
  },
  {
   "cell_type": "code",
   "execution_count": null,
   "metadata": {},
   "outputs": [],
   "source": [
    "# 统计第一次用药7天后骨髓抑制\n",
    "df_VPA_bmd_7d=df_VPA_bmd_test_first[(df_VPA_bmd_test_first['bmd_7d']==1)&\n",
    "                                                              (df_VPA_bmd_test_first['bmd_3d']==0)&\n",
    "                                                             (df_VPA_bmd_test_first['bmd_before']==0)]"
   ]
  },
  {
   "cell_type": "code",
   "execution_count": null,
   "metadata": {},
   "outputs": [],
   "source": [
    "print(df_VPA_bmd_7d.shape)\n",
    "print(df_VPA_bmd_7d['patient_id'].nunique())"
   ]
  },
  {
   "cell_type": "code",
   "execution_count": null,
   "metadata": {},
   "outputs": [],
   "source": [
    "# 统计第一次用药14天后骨髓抑制\n",
    "df_VPA_bmd_14d=df_VPA_bmd_test_first[(df_VPA_bmd_test_first['bmd_14d']==1)&\n",
    "                                                               (df_VPA_bmd_test_first['bmd_7d']==0)&\n",
    "                                                              (df_VPA_bmd_test_first['bmd_3d']==0)&\n",
    "                                                             (df_VPA_bmd_test_first['bmd_before']==0)]"
   ]
  },
  {
   "cell_type": "code",
   "execution_count": null,
   "metadata": {},
   "outputs": [],
   "source": [
    "print(df_VPA_bmd_14d.shape)\n",
    "print(df_VPA_bmd_14d['patient_id'].nunique())"
   ]
  },
  {
   "cell_type": "code",
   "execution_count": null,
   "metadata": {},
   "outputs": [],
   "source": [
    "# 统计第一次用药后没有出现骨髓抑制\n",
    "df_VPA_bmd_no=df_VPA_bmd_test_first[(df_VPA_bmd_test_first['bmd_14d']==0)&\n",
    "                                                               (df_VPA_bmd_test_first['bmd_7d']==0)&\n",
    "                                                              (df_VPA_bmd_test_first['bmd_3d']==0)&\n",
    "                                                             (df_VPA_bmd_test_first['bmd_before']==0)]"
   ]
  },
  {
   "cell_type": "code",
   "execution_count": null,
   "metadata": {},
   "outputs": [],
   "source": [
    "print(df_VPA_bmd_no.shape)\n",
    "print(df_VPA_bmd_no['patient_id'].nunique())"
   ]
  },
  {
   "cell_type": "markdown",
   "metadata": {},
   "source": [
    "### 提取第一次发生骨髓抑制"
   ]
  },
  {
   "cell_type": "code",
   "execution_count": null,
   "metadata": {},
   "outputs": [],
   "source": [
    "# 取7天内天作为不良反应发生时间提取范围\n",
    "df_VPA_bmd=pd.concat([df_VPA_bmd_3d,df_VPA_bmd_7d],axis=0)\n",
    "df_VPA_bmd=df_VPA_bmd.reset_index(drop=True)"
   ]
  },
  {
   "cell_type": "code",
   "execution_count": null,
   "metadata": {},
   "outputs": [],
   "source": [
    "print(df_VPA_bmd.shape)\n",
    "print(df_VPA_bmd['patient_id'].nunique())"
   ]
  },
  {
   "cell_type": "code",
   "execution_count": null,
   "metadata": {},
   "outputs": [],
   "source": [
    "df_VPA_bmd['age'].describe()"
   ]
  },
  {
   "cell_type": "code",
   "execution_count": null,
   "metadata": {},
   "outputs": [],
   "source": [
    "# 保存第一次入院发生不良反应\n",
    "writer=pd.ExcelWriter(project_path+'/data/processed_data/df_5.4.2_提取VPA用药后第一次出现骨髓抑制.xlsx')\n",
    "df_VPA_bmd.to_excel(writer)\n",
    "writer.save()"
   ]
  },
  {
   "cell_type": "markdown",
   "metadata": {},
   "source": [
    "### 提取第一次发生骨髓抑制时间"
   ]
  },
  {
   "cell_type": "code",
   "execution_count": null,
   "metadata": {},
   "outputs": [],
   "source": [
    "# 计算第一次用药到第一次发生不良反应时间间隔=test_date - start_datetime\n",
    "temp_list=[]\n",
    "for i in df_VPA_bmd['case_no'].unique():\n",
    "    # print(i)\n",
    "    temp=df_VPA_bmd[df_VPA_bmd['case_no']==i]\n",
    "    temp=temp.reset_index(drop=True)\n",
    "    temp_bmd=df_test_bmd_low[(df_test_bmd_low['case_no']==i) &\n",
    "        (df_test_bmd_low['test_date']>=temp.loc[0,'start_datetime']+datetime.timedelta(days=1))]\n",
    "    temp_bmd=temp_bmd.sort_values(['test_date'])\n",
    "    temp_bmd=temp_bmd.reset_index(drop=True)\n",
    "    for j in range(1,temp_bmd.shape[0]):\n",
    "        # 如果出现2个降低的不同指标，则认为发生骨髓抑制，计算发生时间\n",
    "        if temp_bmd.loc[0,'project_name'] != temp_bmd.loc[j,'project_name']:\n",
    "            t = (temp_bmd.loc[j,'test_date']-temp.loc[0,'start_datetime']).days\n",
    "            # 发生不良反应的时间\n",
    "            temp.loc[0,'bmd_time']=temp_bmd.loc[j,'test_date']\n",
    "            # 服药到发生不良反应的时间间隔\n",
    "            temp.loc[0,'start_bmd_time']=t\n",
    "            break\n",
    "    temp_list.append(temp)"
   ]
  },
  {
   "cell_type": "code",
   "execution_count": null,
   "metadata": {},
   "outputs": [],
   "source": [
    "df_VPA_bmd_time=temp_list[0]\n",
    "for j in range(1,len(temp_list)):\n",
    "    df_VPA_bmd_time=pd.concat([df_VPA_bmd_time,temp_list[j]],axis=0)\n",
    "df_VPA_bmd_time=df_VPA_bmd_time.reset_index(drop=True)\n",
    "del temp_list"
   ]
  },
  {
   "cell_type": "code",
   "execution_count": null,
   "metadata": {},
   "outputs": [],
   "source": [
    "df_VPA_bmd_time=df_VPA_bmd_time.sort_values(['case_no','start_datetime'])\n",
    "df_VPA_bmd_time=df_VPA_bmd_time.reset_index(drop=True)"
   ]
  },
  {
   "cell_type": "code",
   "execution_count": null,
   "metadata": {},
   "outputs": [],
   "source": [
    "# 保存第一次入院第一次发生不良反应时间间隔\n",
    "writer=pd.ExcelWriter(project_path+'/data/processed_data/df_5.4.3_计算VPA用药-发生骨髓抑制时间间隔.xlsx')\n",
    "df_VPA_bmd_time.to_excel(writer)\n",
    "writer.save()"
   ]
  },
  {
   "cell_type": "markdown",
   "metadata": {
    "heading_collapsed": true
   },
   "source": [
    "## 骨髓抑制打标签"
   ]
  },
  {
   "cell_type": "code",
   "execution_count": null,
   "metadata": {
    "hidden": true
   },
   "outputs": [],
   "source": [
    "# 用药7天内新出现骨髓抑制算发生不良反应-1，其他的情况为0\n",
    "df_VPA_bmd_time['bmd_label']=1"
   ]
  },
  {
   "cell_type": "code",
   "execution_count": null,
   "metadata": {
    "hidden": true
   },
   "outputs": [],
   "source": [
    "df_VPA_bmd_0=pd.concat([df_VPA_bmd_before,df_VPA_bmd_14d],axis=0)\n",
    "df_VPA_bmd_0=pd.concat([df_VPA_bmd_0,df_VPA_bmd_no],axis=0)\n",
    "df_VPA_bmd_0['bmd_label']=0"
   ]
  },
  {
   "cell_type": "code",
   "execution_count": null,
   "metadata": {
    "hidden": true
   },
   "outputs": [],
   "source": [
    "# 将无不良反应的bmd_time定义为服药后第七天\n",
    "df_VPA_bmd_0['bmd_time']=df_VPA_bmd_0['start_datetime'].apply(lambda x: x+datetime.timedelta(days=7))"
   ]
  },
  {
   "cell_type": "code",
   "execution_count": null,
   "metadata": {
    "hidden": true
   },
   "outputs": [],
   "source": [
    "df_VPA_bmd_label=pd.concat([df_VPA_bmd_time,df_VPA_bmd_0],axis=0)\n",
    "df_VPA_bmd_label=df_VPA_bmd_label.reset_index(drop=True)"
   ]
  },
  {
   "cell_type": "code",
   "execution_count": null,
   "metadata": {
    "hidden": true
   },
   "outputs": [],
   "source": [
    "print(df_VPA_bmd_label.shape)\n",
    "print(df_VPA_bmd_label['patient_id'].nunique())"
   ]
  },
  {
   "cell_type": "code",
   "execution_count": null,
   "metadata": {
    "hidden": true
   },
   "outputs": [],
   "source": [
    "# 保存甲氨蝶呤骨髓抑制分组\n",
    "writer=pd.ExcelWriter(project_path+'/data/processed_data/df_5.5_甲氨蝶呤骨髓抑制打标签.xlsx')\n",
    "df_VPA_bmd_label.to_excel(writer)\n",
    "writer.save()"
   ]
  },
  {
   "cell_type": "markdown",
   "metadata": {},
   "source": [
    "# 添加丙戊酸TDM检测"
   ]
  },
  {
   "cell_type": "markdown",
   "metadata": {},
   "source": [
    "## 提取tdm检测数据"
   ]
  },
  {
   "cell_type": "code",
   "execution_count": 300,
   "metadata": {},
   "outputs": [],
   "source": [
    "# 提取用药后不良反应发生前的甲氨蝶呤血药浓度检测\n",
    "df_test_VPA=df_test[df_test['project_name'].str.contains('丙戊酸|VPA')]\n",
    "df_test_VPA=df_test_VPA.reset_index(drop=True)"
   ]
  },
  {
   "cell_type": "code",
   "execution_count": 301,
   "metadata": {},
   "outputs": [],
   "source": [
    "df_test_VPA['tdm_date']=df_test_VPA['test_date'].apply(lambda x: str(x).split(' ')[0])"
   ]
  },
  {
   "cell_type": "code",
   "execution_count": 302,
   "metadata": {},
   "outputs": [
    {
     "name": "stdout",
     "output_type": "stream",
     "text": [
      "(754, 14)\n",
      "358\n"
     ]
    }
   ],
   "source": [
    "print(df_test_VPA.shape)\n",
    "print(df_test_VPA['patient_id'].nunique())"
   ]
  },
  {
   "cell_type": "code",
   "execution_count": 303,
   "metadata": {},
   "outputs": [],
   "source": [
    "# 提取患者的tdm检测\n",
    "df_test_VPA=df_test_VPA[df_test_VPA['patient_id'].isin(df_VPA['patient_id'].unique())]\n",
    "df_test_VPA=df_test_VPA.sort_values(['patient_id','test_date'])\n",
    "df_test_VPA=df_test_VPA.reset_index(drop=True)"
   ]
  },
  {
   "cell_type": "code",
   "execution_count": 304,
   "metadata": {},
   "outputs": [
    {
     "name": "stdout",
     "output_type": "stream",
     "text": [
      "(515, 14)\n",
      "212\n"
     ]
    }
   ],
   "source": [
    "print(df_test_VPA.shape)\n",
    "print(df_test_VPA['patient_id'].nunique())"
   ]
  },
  {
   "cell_type": "code",
   "execution_count": 305,
   "metadata": {},
   "outputs": [],
   "source": [
    "# 保存丙戊酸血药浓度检测\n",
    "df_test_VPA.to_excel(project_path+'/data/processed_data/df_5.1_test_VPA.xlsx')"
   ]
  },
  {
   "cell_type": "markdown",
   "metadata": {},
   "source": [
    "## 合并tdm检测数据"
   ]
  },
  {
   "cell_type": "code",
   "execution_count": 339,
   "metadata": {},
   "outputs": [],
   "source": [
    "# 字符串转换为时间格式\n",
    "import datetime,time\n",
    "def str_to_date(x):\n",
    "    try:\n",
    "        a = (x, \"%Y-%m-%d\")\n",
    "        return a\n",
    "    except:\n",
    "        return np.NaN"
   ]
  },
  {
   "cell_type": "code",
   "execution_count": 341,
   "metadata": {},
   "outputs": [
    {
     "data": {
      "text/plain": [
       "Timestamp('2020-08-26 00:00:00')"
      ]
     },
     "execution_count": 341,
     "metadata": {},
     "output_type": "execute_result"
    }
   ],
   "source": [
    "pd.to_datetime(temp_tdm.loc[0,'tdm_date'])"
   ]
  },
  {
   "cell_type": "code",
   "execution_count": 330,
   "metadata": {},
   "outputs": [
    {
     "data": {
      "text/plain": [
       "'2020-08-26'"
      ]
     },
     "execution_count": 330,
     "metadata": {},
     "output_type": "execute_result"
    }
   ],
   "source": [
    "temp_tdm.loc[0,'tdm_date']"
   ]
  },
  {
   "cell_type": "code",
   "execution_count": null,
   "metadata": {},
   "outputs": [],
   "source": [
    "import datetime\n",
    "# 合并甲氨蝶呤tdm检测信息\n",
    "# 如果tdm用药前3天含有非稳态用药，删除；否则，保留。用倒序排列筛选\n",
    "temp_list=[]\n",
    "for i in np.unique(df_VPA_popu['case_no']):\n",
    "    # 稳态 丙戊酸temp\n",
    "    temp=df_VPA_popu[df_VPA_popu['case_no']==i]\n",
    "    temp=temp.sort_values(['patient_id','case_no','分裂日期'])\n",
    "    temp=temp.reset_index(drop=True)\n",
    "    # tdm temp\n",
    "    temp_tdm=df_test_VPA[df_test_VPA['case_no']==i]\n",
    "    temp_tdm=temp_tdm.sort_values(['patient_id','case_no','test_date'])\n",
    "    temp_tdm=temp_tdm.reset_index(drop=True)\n",
    "\n",
    "    for j in range(temp_tdm.shape[0]):\n",
    "        # 提取tdm检测前1天时间\n",
    "        temp_date=str(temp_tdm.loc[j,'test_date']-datetime.timedelta(days=1)).split(' ')[0]\n",
    "        # 判断稳态-temp_date之间是否有用药数据\n",
    "        # 稳态前对应的用药数据\n",
    "        time_split=drug_vancomycin_5[(drug_vancomycin_5['分裂日期']==temp_date)&\n",
    "                                    (drug_vancomycin_5['case_no']==i)]\n",
    "        # 稳态对应的用药数据\n",
    "        time_steady=temp[temp['分裂日期']==temp_date]\n",
    "        if time_split == time_steady:\n",
    "        break\n",
    "    break"
   ]
  },
  {
   "cell_type": "code",
   "execution_count": 320,
   "metadata": {},
   "outputs": [
    {
     "data": {
      "text/html": [
       "<div>\n",
       "<style scoped>\n",
       "    .dataframe tbody tr th:only-of-type {\n",
       "        vertical-align: middle;\n",
       "    }\n",
       "\n",
       "    .dataframe tbody tr th {\n",
       "        vertical-align: top;\n",
       "    }\n",
       "\n",
       "    .dataframe thead th {\n",
       "        text-align: right;\n",
       "    }\n",
       "</style>\n",
       "<table border=\"1\" class=\"dataframe\">\n",
       "  <thead>\n",
       "    <tr style=\"text-align: right;\">\n",
       "      <th></th>\n",
       "      <th>patient_id</th>\n",
       "      <th>case_no</th>\n",
       "      <th>drug_name</th>\n",
       "      <th>amount</th>\n",
       "      <th>drug_spec</th>\n",
       "      <th>dosage</th>\n",
       "      <th>frequency</th>\n",
       "      <th>start_datetime</th>\n",
       "      <th>end_datetime</th>\n",
       "      <th>statusdesc</th>\n",
       "      <th>日剂量</th>\n",
       "      <th>start_date</th>\n",
       "      <th>end_date</th>\n",
       "      <th>long_d_order</th>\n",
       "      <th>分裂日期</th>\n",
       "      <th>起始标签</th>\n",
       "      <th>时间标签</th>\n",
       "    </tr>\n",
       "  </thead>\n",
       "  <tbody>\n",
       "    <tr>\n",
       "      <th>1</th>\n",
       "      <td>6873870</td>\n",
       "      <td>10001302</td>\n",
       "      <td>丙戊酸钠缓释片(德巴金)[0.5g*30片]</td>\n",
       "      <td>1</td>\n",
       "      <td>0.5g*30片</td>\n",
       "      <td>0.5</td>\n",
       "      <td>2</td>\n",
       "      <td>2020-08-24 10:37:31</td>\n",
       "      <td>2020-09-04 11:38:00</td>\n",
       "      <td>停止</td>\n",
       "      <td>1</td>\n",
       "      <td>2020-08-24</td>\n",
       "      <td>2020-09-04</td>\n",
       "      <td>1</td>\n",
       "      <td>2020-08-25</td>\n",
       "      <td>期间</td>\n",
       "      <td>0</td>\n",
       "    </tr>\n",
       "    <tr>\n",
       "      <th>2</th>\n",
       "      <td>6873870</td>\n",
       "      <td>10001302</td>\n",
       "      <td>丙戊酸钠缓释片(德巴金)[0.5g*30片]</td>\n",
       "      <td>1</td>\n",
       "      <td>0.5g*30片</td>\n",
       "      <td>0.5</td>\n",
       "      <td>1</td>\n",
       "      <td>2020-08-25 17:31:34</td>\n",
       "      <td>2020-08-25 17:31:34</td>\n",
       "      <td>核实</td>\n",
       "      <td>0.5</td>\n",
       "      <td>2020-08-25</td>\n",
       "      <td>2020-08-25</td>\n",
       "      <td>0</td>\n",
       "      <td>2020-08-25</td>\n",
       "      <td>起始</td>\n",
       "      <td>1</td>\n",
       "    </tr>\n",
       "  </tbody>\n",
       "</table>\n",
       "</div>"
      ],
      "text/plain": [
       "  patient_id   case_no               drug_name amount drug_spec dosage  \\\n",
       "1    6873870  10001302  丙戊酸钠缓释片(德巴金)[0.5g*30片]      1  0.5g*30片    0.5   \n",
       "2    6873870  10001302  丙戊酸钠缓释片(德巴金)[0.5g*30片]      1  0.5g*30片    0.5   \n",
       "\n",
       "  frequency      start_datetime        end_datetime statusdesc  日剂量  \\\n",
       "1         2 2020-08-24 10:37:31 2020-09-04 11:38:00         停止    1   \n",
       "2         1 2020-08-25 17:31:34 2020-08-25 17:31:34         核实  0.5   \n",
       "\n",
       "   start_date    end_date long_d_order        分裂日期 起始标签  时间标签  \n",
       "1  2020-08-24  2020-09-04            1  2020-08-25   期间     0  \n",
       "2  2020-08-25  2020-08-25            0  2020-08-25   起始     1  "
      ]
     },
     "execution_count": 320,
     "metadata": {},
     "output_type": "execute_result"
    }
   ],
   "source": [
    "time_split"
   ]
  },
  {
   "cell_type": "code",
   "execution_count": 321,
   "metadata": {},
   "outputs": [
    {
     "data": {
      "text/html": [
       "<div>\n",
       "<style scoped>\n",
       "    .dataframe tbody tr th:only-of-type {\n",
       "        vertical-align: middle;\n",
       "    }\n",
       "\n",
       "    .dataframe tbody tr th {\n",
       "        vertical-align: top;\n",
       "    }\n",
       "\n",
       "    .dataframe thead th {\n",
       "        text-align: right;\n",
       "    }\n",
       "</style>\n",
       "<table border=\"1\" class=\"dataframe\">\n",
       "  <thead>\n",
       "    <tr style=\"text-align: right;\">\n",
       "      <th></th>\n",
       "      <th>patient_id</th>\n",
       "      <th>case_no</th>\n",
       "      <th>drug_name</th>\n",
       "      <th>amount</th>\n",
       "      <th>drug_spec</th>\n",
       "      <th>dosage</th>\n",
       "      <th>frequency</th>\n",
       "      <th>start_datetime</th>\n",
       "      <th>end_datetime</th>\n",
       "      <th>statusdesc</th>\n",
       "      <th>...</th>\n",
       "      <th>long_d_order</th>\n",
       "      <th>分裂日期</th>\n",
       "      <th>起始标签</th>\n",
       "      <th>时间标签</th>\n",
       "      <th>gender</th>\n",
       "      <th>race</th>\n",
       "      <th>age</th>\n",
       "      <th>身高</th>\n",
       "      <th>体重</th>\n",
       "      <th>BMI</th>\n",
       "    </tr>\n",
       "  </thead>\n",
       "  <tbody>\n",
       "  </tbody>\n",
       "</table>\n",
       "<p>0 rows × 23 columns</p>\n",
       "</div>"
      ],
      "text/plain": [
       "Empty DataFrame\n",
       "Columns: [patient_id, case_no, drug_name, amount, drug_spec, dosage, frequency, start_datetime, end_datetime, statusdesc, 日剂量, start_date, end_date, long_d_order, 分裂日期, 起始标签, 时间标签, gender, race, age, 身高, 体重, BMI]\n",
       "Index: []\n",
       "\n",
       "[0 rows x 23 columns]"
      ]
     },
     "execution_count": 321,
     "metadata": {},
     "output_type": "execute_result"
    }
   ],
   "source": [
    "time_steady"
   ]
  },
  {
   "cell_type": "code",
   "execution_count": null,
   "metadata": {},
   "outputs": [],
   "source": [
    "    # 如果存在\n",
    "    if i in np.unique(df_test_VPA_24['case_no']):\n",
    "        temp_VPA_24=df_test_VPA_24[df_test_VPA_24['case_no']==i]\n",
    "        temp_VPA_24=temp_VPA_24.reset_index(drop=True)\n",
    "        temp['VPA_tdm_24h']=temp_VPA_24.loc[0,'test_result']\n",
    "    temp_list.append(temp)"
   ]
  },
  {
   "cell_type": "code",
   "execution_count": null,
   "metadata": {},
   "outputs": [],
   "source": [
    "df_VPA_tdm=temp_list[0]\n",
    "for j in range(1,len(temp_list)):\n",
    "    df_VPA_tdm=pd.concat([df_VPA_tdm,temp_list[j]],axis=0)\n",
    "df_VPA_tdm=df_VPA_tdm.reset_index(drop=True)\n",
    "del temp_list\n",
    "\n",
    "print(df_VPA_tdm.shape)\n",
    "print(df_VPA_tdm['patient_id'].nunique())\n",
    "print(df_VPA_tdm['case_no'].nunique())"
   ]
  },
  {
   "cell_type": "code",
   "execution_count": null,
   "metadata": {},
   "outputs": [],
   "source": [
    "# 保存添加tdm检测的甲氨蝶呤用药\n",
    "writer=pd.ExcelWriter(project_path+'/data/processed_data/df_6_甲氨蝶呤添加tdm检测.xlsx')\n",
    "df_VPA_tdm.to_excel(writer)\n",
    "writer.save()"
   ]
  },
  {
   "cell_type": "markdown",
   "metadata": {},
   "source": [
    "# 增加联合用药"
   ]
  },
  {
   "cell_type": "code",
   "execution_count": null,
   "metadata": {},
   "outputs": [],
   "source": [
    "# 提取患者的联合用药\n",
    "df_drug_other=df_doctor_order[~ df_doctor_order['drug_name'].str.contains('甲氨蝶呤|甲氨喋呤|VPA|葡萄糖|氯化钠')]\n",
    "# 患者限定\n",
    "df_drug_other=df_drug_other[df_drug_other['case_no'].isin(df_VPA_history['case_no'].unique())]\n",
    "df_drug_other=df_drug_other.reset_index(drop=True)"
   ]
  },
  {
   "cell_type": "code",
   "execution_count": null,
   "metadata": {},
   "outputs": [],
   "source": [
    "# 联合用药时间限定：用药前3天内-不良反应发生前\n",
    "temp_list=[]\n",
    "for i in df_drug_other['case_no'].unique():\n",
    "    temp=df_drug_other[df_drug_other['case_no']==i]\n",
    "    temp=temp.reset_index(drop=True)\n",
    "    # VPA用药时间\n",
    "    temp_drug=df_VPA_history[df_VPA_history['case_no']==i]\n",
    "    temp_drug=temp_drug.reset_index(drop=True)\n",
    "    drug_time=temp_drug.loc[0,'start_datetime']\n",
    "    bmd_time=temp_drug.loc[0,'bmd_time']\n",
    "    # 提取用药前3天内-不良反应发生前的联合用药\n",
    "    temp=temp[(temp['start_datetime']>=drug_time-datetime.timedelta(days=3)) &\n",
    "             (temp['end_datetime']<bmd_time)]\n",
    "    temp=temp.sort_values(['start_datetime'])\n",
    "    temp_list.append(temp)"
   ]
  },
  {
   "cell_type": "code",
   "execution_count": null,
   "metadata": {},
   "outputs": [],
   "source": [
    "df_drug_other=temp_list[0]\n",
    "for j in range(1,len(temp_list)):\n",
    "    df_drug_other=pd.concat([df_drug_other,temp_list[j]],axis=0)\n",
    "df_drug_other=df_drug_other.reset_index(drop=True)\n",
    "del temp_list"
   ]
  },
  {
   "cell_type": "code",
   "execution_count": null,
   "metadata": {},
   "outputs": [],
   "source": [
    "df_drug_other.shape"
   ]
  },
  {
   "cell_type": "code",
   "execution_count": null,
   "metadata": {},
   "outputs": [],
   "source": [
    "df_drug_other_name=pd.DataFrame(df_drug_other.drug_name.value_counts())\n",
    "# 保存联合用药名\n",
    "writer=pd.ExcelWriter(project_path+'/data/processed_data/df_temp_联合用药名.xlsx')\n",
    "df_drug_other_name.to_excel(writer)\n",
    "writer.save()"
   ]
  },
  {
   "cell_type": "code",
   "execution_count": null,
   "metadata": {},
   "outputs": [],
   "source": [
    "# 主药：多柔比星、多柔比星脂质体、顺铂、异环磷酰胺、依托泊苷\n",
    "df_ADM = df_drug_other[df_drug_other['drug_name'].str.contains('注射用盐酸多柔比星')]\n",
    "df_IFO = df_drug_other[df_drug_other['drug_name'].str.contains('异环磷酰胺|IFO')]\n",
    "df_CDP = df_drug_other[df_drug_other['drug_name'].str.contains('顺铂|CDP')]\n",
    "df_VP = df_drug_other[df_drug_other['drug_name'].str.contains('依托泊苷|VP')]\n",
    "df_drug_zhi = df_drug_other[df_drug_other['drug_name'].str.contains('多柔比星脂质体')]\n",
    "\n",
    "# 辅助用药：头孢类、促红素、抗凝血、吡柔比星、保肝药、胃癌药\n",
    "df_drug_toubao =  df_drug_other[df_drug_other['drug_name'].str.contains('头孢')]\n",
    "df_drug_EPO = df_drug_other[df_drug_other['drug_name'].str.contains('促红素')]\n",
    "df_drug_THP = df_drug_other[df_drug_other['drug_name'].str.contains('吡柔比星|吡柔吡星|THP')]\n",
    "df_drug_kang = df_drug_other[df_drug_other['drug_name'].str.contains('美司钠|肝素钠')]\n",
    "df_drug_GSH = df_drug_other[df_drug_other['drug_name'].str.contains('谷胱甘肽')]\n",
    "df_drug_ganmei = df_drug_other[df_drug_other['drug_name'].str.contains('异甘草酸镁')]\n",
    "df_drug_PO4Na = df_drug_other[df_drug_other['drug_name'].str.contains('地塞米松磷酸钠')]\n",
    "df_drug_Tro = df_drug_other[df_drug_other['drug_name'].str.contains('托烷司琼')]\n",
    "df_drug_gangan = df_drug_other[df_drug_other['drug_name'].str.contains('甘草酸苷')]\n",
    "df_drug_VCR = df_drug_other[df_drug_other['drug_name'].str.contains('长春新碱')]\n",
    "df_drug_ppt = df_drug_other[df_drug_other['drug_name'].str.contains('多烯磷脂酰')]"
   ]
  },
  {
   "cell_type": "code",
   "execution_count": null,
   "metadata": {},
   "outputs": [],
   "source": [
    "# 合并联合用药\n",
    "df_VPA_drug_other=df_VPA_history.copy()\n",
    "df_VPA_drug_other['多柔比星']=df_VPA_drug_other['case_no'].astype('str').apply(lambda x: 1 if x in df_ADM['case_no'].unique() else 0)\n",
    "df_VPA_drug_other['异环磷酰胺']=df_VPA_drug_other['case_no'].astype('str').apply(lambda x: 1 if x in df_IFO['case_no'].unique() else 0)\n",
    "df_VPA_drug_other['顺铂']=df_VPA_drug_other['case_no'].astype('str').apply(lambda x: 1 if x in df_CDP['case_no'].unique() else 0)\n",
    "df_VPA_drug_other['依托泊苷']=df_VPA_drug_other['case_no'].astype('str').apply(lambda x: 1 if x in df_VP['case_no'].unique() else 0)\n",
    "df_VPA_drug_other['多柔比星脂质体']=df_VPA_drug_other['case_no'].astype('str').apply(lambda x: 1 if x in df_drug_zhi['case_no'].unique() else 0)\n",
    "\n",
    "df_VPA_drug_other['头孢类']=df_VPA_drug_other['case_no'].astype('str').apply(lambda x: 1 if x in df_drug_toubao['case_no'].unique() else 0)\n",
    "df_VPA_drug_other['促红素']=df_VPA_drug_other['case_no'].astype('str').apply(lambda x: 1 if x in df_drug_EPO['case_no'].unique() else 0)\n",
    "df_VPA_drug_other['吡柔吡星']=df_VPA_drug_other['case_no'].astype('str').apply(lambda x: 1 if x in df_drug_THP['case_no'].unique() else 0)\n",
    "df_VPA_drug_other['抗凝血']=df_VPA_drug_other['case_no'].astype('str').apply(lambda x: 1 if x in df_drug_kang['case_no'].unique() else 0)\n",
    "\n",
    "df_VPA_drug_other['谷胱甘肽']=df_VPA_drug_other['case_no'].astype('str').apply(lambda x: 1 if x in df_drug_GSH['case_no'].unique() else 0)\n",
    "df_VPA_drug_other['异甘草酸镁']=df_VPA_drug_other['case_no'].astype('str').apply(lambda x: 1 if x in df_drug_ganmei['case_no'].unique() else 0)\n",
    "df_VPA_drug_other['地塞米松磷酸钠']=df_VPA_drug_other['case_no'].astype('str').apply(lambda x: 1 if x in df_drug_PO4Na['case_no'].unique() else 0)\n",
    "df_VPA_drug_other['托烷司琼']=df_VPA_drug_other['case_no'].astype('str').apply(lambda x: 1 if x in df_drug_Tro['case_no'].unique() else 0)\n",
    "df_VPA_drug_other['甘草酸苷']=df_VPA_drug_other['case_no'].astype('str').apply(lambda x: 1 if x in df_drug_gangan['case_no'].unique() else 0)\n",
    "df_VPA_drug_other['长春新碱']=df_VPA_drug_other['case_no'].astype('str').apply(lambda x: 1 if x in df_drug_VCR['case_no'].unique() else 0)\n",
    "df_VPA_drug_other['多烯磷脂酰']=df_VPA_drug_other['case_no'].astype('str').apply(lambda x: 1 if x in df_drug_ppt['case_no'].unique() else 0)"
   ]
  },
  {
   "cell_type": "code",
   "execution_count": null,
   "metadata": {},
   "outputs": [],
   "source": [
    "# 保存联合用药\n",
    "writer=pd.ExcelWriter(project_path+'/data/processed_data/df_8_合并联合用药.xlsx')\n",
    "df_VPA_drug_other.to_excel(writer)\n",
    "writer.save()"
   ]
  },
  {
   "cell_type": "markdown",
   "metadata": {},
   "source": [
    "# 添加治疗方案"
   ]
  },
  {
   "cell_type": "code",
   "execution_count": null,
   "metadata": {},
   "outputs": [],
   "source": [
    "# 根据院方提供的治疗方案，进行标注\n",
    "# 单药：甲氨蝶呤、多柔比星、多柔比星脂质体、顺铂、异环磷酰胺、依托泊苷\n",
    "# 2种联合方案：甲氨蝶呤+多柔比星，甲氨蝶呤+多柔比星脂质体，甲氨蝶呤+顺铂，甲氨蝶呤+异环磷酰胺，甲氨蝶呤+依托泊苷\n",
    "# 3种联合方案：甲氨蝶呤+多柔比星+顺铂，甲氨蝶呤+多柔比星+异环磷酰胺，甲氨蝶呤+多柔比星+依托泊苷；\n",
    "            #甲氨蝶呤+多柔比星脂质体+顺铂，甲氨蝶呤+多柔比星脂质体+异环磷酰胺，甲氨蝶呤+多柔比星脂质体+依托泊苷；\n",
    "            #甲氨蝶呤+顺铂+异环磷酰胺，甲氨蝶呤+顺铂+依托泊苷\n",
    "            #甲氨蝶呤+异环磷酰胺+依托泊苷\n",
    "# 4种方案：甲氨蝶呤+多柔比星+顺铂+异环磷酰胺、甲氨蝶呤+多柔比星+顺铂+依托泊苷、甲氨蝶呤+多柔比星+异环磷酰胺+依托泊苷；\n",
    "        #甲氨蝶呤+多柔比星脂质体+顺铂+异环磷酰胺、甲氨蝶呤+多柔比星脂质体+顺铂+依托泊苷、甲氨蝶呤+多柔比星脂质体+异环磷酰胺+依托泊苷；\n",
    "        #甲氨蝶呤+顺铂+异环磷酰胺+依托泊苷\n",
    "# 5种方案：甲氨蝶呤+多柔比星+顺铂+异环磷酰胺+依托泊苷；甲氨蝶呤+多柔比星脂质体+顺铂+异环磷酰胺+依托泊苷"
   ]
  },
  {
   "cell_type": "code",
   "execution_count": null,
   "metadata": {},
   "outputs": [],
   "source": [
    "# 判断一个列表中是否同时存在两个元素，存在返回True，否则False\n",
    "def judge_list_element(list1,e1,e2):\n",
    "    if e1 in list1 and e2 in list1:\n",
    "        return True\n",
    "    else:\n",
    "        return False"
   ]
  },
  {
   "cell_type": "code",
   "execution_count": null,
   "metadata": {},
   "outputs": [],
   "source": [
    "from itertools import combinations, permutations\n",
    "drug_case=['多柔比星','多柔比星脂质体','顺铂','异环磷酰胺','依托泊苷']\n",
    "df_VPA_treatcase=df_VPA_drug_other.copy()\n",
    "df_VPA_treatcase=df_VPA_treatcase.reset_index(drop=True)\n",
    "for i in range(df_VPA_treatcase.shape[0]):\n",
    "    for j in range(1,len(drug_case)):\n",
    "        # 计算排列组合数\n",
    "        drug_case_set=combinations(drug_case,j)\n",
    "        for k in drug_case_set:\n",
    "            list1=list(k)\n",
    "            if judge_list_element(list1,'多柔比星','多柔比星脂质体'):\n",
    "                continue\n",
    "            if (df_VPA_treatcase.loc[i,list1]).sum() == len(list1):\n",
    "                list1.insert(0,'甲氨蝶呤')\n",
    "                df_VPA_treatcase.loc[i,'+'.join(list1)] = 1\n",
    "            else:\n",
    "                list1.insert(0,'甲氨蝶呤')\n",
    "                df_VPA_treatcase.loc[i,'+'.join(list1)] = 0"
   ]
  },
  {
   "cell_type": "code",
   "execution_count": null,
   "metadata": {},
   "outputs": [],
   "source": [
    "# 增加治疗方案\n",
    "writer=pd.ExcelWriter(project_path+'/data/processed_data/df_9_增加治疗方案.xlsx')\n",
    "df_VPA_treatcase.to_excel(writer)\n",
    "writer.save()"
   ]
  },
  {
   "cell_type": "markdown",
   "metadata": {},
   "source": [
    "# 高低剂量组"
   ]
  },
  {
   "cell_type": "code",
   "execution_count": null,
   "metadata": {},
   "outputs": [],
   "source": [
    "df_VPA_group=df_VPA_treatcase.copy()"
   ]
  },
  {
   "cell_type": "code",
   "execution_count": null,
   "metadata": {},
   "outputs": [],
   "source": [
    "# 按15mg划分高低剂量组\n",
    "df_VPA_group['group'] = df_VPA_group['日剂量'].astype('float').apply(lambda x: 1 if x>15 else 0)"
   ]
  },
  {
   "cell_type": "code",
   "execution_count": null,
   "metadata": {},
   "outputs": [],
   "source": [
    "print(df_VPA_group.shape)"
   ]
  },
  {
   "cell_type": "code",
   "execution_count": null,
   "metadata": {
    "scrolled": true
   },
   "outputs": [],
   "source": [
    "# 划分高低剂量组\n",
    "writer=pd.ExcelWriter(project_path+'/data/processed_data/df_10_划分高低剂量组.xlsx')\n",
    "df_VPA_group.to_excel(writer)\n",
    "writer.save()"
   ]
  },
  {
   "cell_type": "markdown",
   "metadata": {},
   "source": [
    "# 合并其他相关检测"
   ]
  },
  {
   "cell_type": "markdown",
   "metadata": {},
   "source": [
    "## 提取其他检测"
   ]
  },
  {
   "cell_type": "code",
   "execution_count": null,
   "metadata": {},
   "outputs": [],
   "source": [
    "# 提取甲氨蝶呤患者的所有检测\n",
    "df_test_other=df_test_result[df_test_result['case_no'].isin(df_VPA_group['case_no'].unique())]"
   ]
  },
  {
   "cell_type": "code",
   "execution_count": null,
   "metadata": {},
   "outputs": [],
   "source": [
    "# 提取患者的其他检测\n",
    "df_test_other = df_test_other[~ df_test_other['project_name'].str.contains('甲氨蝶呤|VPA|血红蛋白|白细胞|粒细胞|血小板|尿|粪|大便')]\n",
    "df_test_other = df_test_other[~ df_test_other['project_code'].str.contains('IG#|PLT')]\n",
    "df_test_other = df_test_other.reset_index(drop=True)"
   ]
  },
  {
   "cell_type": "code",
   "execution_count": null,
   "metadata": {},
   "outputs": [],
   "source": [
    "df_test_other.to_csv('temp_test_other.csv')"
   ]
  },
  {
   "cell_type": "code",
   "execution_count": null,
   "metadata": {},
   "outputs": [],
   "source": [
    "df_test_other.shape"
   ]
  },
  {
   "cell_type": "code",
   "execution_count": null,
   "metadata": {},
   "outputs": [],
   "source": [
    "df_test_other['project_name'].value_counts()"
   ]
  },
  {
   "cell_type": "code",
   "execution_count": null,
   "metadata": {
    "scrolled": true
   },
   "outputs": [],
   "source": [
    "print(df_test_other['project_name'].nunique())"
   ]
  },
  {
   "cell_type": "code",
   "execution_count": null,
   "metadata": {},
   "outputs": [],
   "source": [
    "df_test_other_name=pd.DataFrame(df_test_other['project_name'].value_counts())\n",
    "# 划分高低剂量组\n",
    "writer=pd.ExcelWriter(project_path+'/data/processed_data/df_temp_其他检测项.xlsx')\n",
    "df_test_other_name.to_excel(writer)\n",
    "writer.save()"
   ]
  },
  {
   "cell_type": "markdown",
   "metadata": {},
   "source": [
    "## 合并其他检测"
   ]
  },
  {
   "cell_type": "code",
   "execution_count": null,
   "metadata": {},
   "outputs": [],
   "source": [
    "def judge_float(x):\n",
    "    try:\n",
    "        a=float(x)\n",
    "        return a\n",
    "    except:\n",
    "        return np.NaN"
   ]
  },
  {
   "cell_type": "code",
   "execution_count": null,
   "metadata": {},
   "outputs": [],
   "source": [
    "# 将用药后不良反应发生前的最近一次其他检测转置到一行中\n",
    "for i in range(df_VPA_group.shape[0]):\n",
    "    case_no=df_VPA_group.loc[i,'case_no']\n",
    "    temp=df_VPA_group[df_VPA_group['case_no']==case_no]\n",
    "    temp=temp.reset_index(drop=True)\n",
    "    \n",
    "    # case_no的其他检测\n",
    "    temp_other= df_test_other[df_test_other['case_no']==case_no]\n",
    "    temp_other=temp_other.reset_index(drop=True)\n",
    "    # 取用药后不良反应发生前的其他检测\n",
    "    temp_other_1=temp_other[(temp_other['test_date']>=temp.loc[0,'start_datetime']+datetime.timedelta(days=1))&\n",
    "                            (temp_other['test_date']<=temp.loc[0,'bmd_time'])]\n",
    "    # 取最近的一次其他检测\n",
    "    temp_other_1=temp_other_1.sort_values(['test_date'])\n",
    "    temp_other_1=temp_other_1.drop_duplicates(['project_name'],keep='last')\n",
    "    temp_other_1=temp_other_1.reset_index(drop=True)\n",
    "    \n",
    "    # 检验项转置为表头\n",
    "    if temp_other_1.shape[0]>0:\n",
    "        temp_other_1['test_result']=temp_other_1['test_result'].apply(judge_float)\n",
    "        temp_other_pivot=temp_other_1.pivot_table('test_result',['case_no'], 'project_name')\n",
    "        temp_other_pivot=temp_other_pivot.reset_index(drop=True)\n",
    "        for j in temp_other_pivot.columns[1:]:\n",
    "            df_VPA_group.loc[i,j]=temp_other_pivot.loc[0,j]\n",
    "#     if case_no == '410308':\n",
    "#         print(temp.loc[0,'start_datetime'])\n",
    "#         print(temp.loc[0,'bmd_time'])\n",
    "#         print(temp_other_1)\n",
    "#         print(temp_other_2[temp_other_2['project_name']=='肌酐(干式)'])\n",
    "#         break"
   ]
  },
  {
   "cell_type": "code",
   "execution_count": null,
   "metadata": {},
   "outputs": [],
   "source": [
    "print(df_VPA_group.shape)"
   ]
  },
  {
   "cell_type": "code",
   "execution_count": null,
   "metadata": {},
   "outputs": [],
   "source": [
    "# 合并其他检测\n",
    "writer=pd.ExcelWriter(project_path+'/data/processed_data/df_11.2_合并其他检测.xlsx')\n",
    "df_VPA_group.to_excel(writer)\n",
    "writer.save()"
   ]
  },
  {
   "cell_type": "markdown",
   "metadata": {},
   "source": [
    "## 删除缺失率超过50%的列"
   ]
  },
  {
   "cell_type": "code",
   "execution_count": null,
   "metadata": {},
   "outputs": [],
   "source": [
    "# 删除缺失超过50%的检测\n",
    "for i in df_VPA_group.columns:\n",
    "    x=df_VPA_group[i].isnull().sum()\n",
    "    per_x = x/df_VPA_group.shape[0]\n",
    "    if per_x >= 0.5:\n",
    "        print(i)\n",
    "        del df_VPA_group[i]"
   ]
  },
  {
   "cell_type": "code",
   "execution_count": null,
   "metadata": {},
   "outputs": [],
   "source": [
    "print(df_VPA_group.shape)"
   ]
  },
  {
   "cell_type": "code",
   "execution_count": null,
   "metadata": {},
   "outputs": [],
   "source": [
    "    # 保存删除缺失率后的数据\n",
    "    writer=pd.ExcelWriter(project_path+'/data/processed_data/df_11.3_删除缺失超过50%的列.xlsx')\n",
    "    df_VPA_group.to_excel(writer)\n",
    "    writer.save()"
   ]
  },
  {
   "cell_type": "markdown",
   "metadata": {},
   "source": [
    "## 人工删除无意义列"
   ]
  },
  {
   "cell_type": "code",
   "execution_count": null,
   "metadata": {},
   "outputs": [],
   "source": [
    "del df_VPA_group['未分类管型']\n",
    "del df_VPA_group['比重']\n",
    "del df_VPA_group['透明管型']\n",
    "del df_VPA_group['粘液']\n",
    "del df_VPA_group['未分类结晶']\n",
    "del df_VPA_group['细胞比积']\n",
    "del df_VPA_group['钙(干式)']\n",
    "del df_VPA_group['非鳞状上皮细胞']\n",
    "del df_VPA_group['鳞状上皮细胞']"
   ]
  },
  {
   "cell_type": "code",
   "execution_count": null,
   "metadata": {},
   "outputs": [],
   "source": [
    "print(df_VPA_group.shape)"
   ]
  },
  {
   "cell_type": "code",
   "execution_count": null,
   "metadata": {},
   "outputs": [],
   "source": [
    "# 保存删除缺失率后的数据\n",
    "writer=pd.ExcelWriter(project_path+'/data/processed_data/df_11.4_人工删除无意义列.xlsx')\n",
    "df_VPA_group.to_excel(writer)\n",
    "writer.save()"
   ]
  }
 ],
 "metadata": {
  "kernelspec": {
   "display_name": "Python 3",
   "language": "python",
   "name": "python3"
  },
  "language_info": {
   "codemirror_mode": {
    "name": "ipython",
    "version": 3
   },
   "file_extension": ".py",
   "mimetype": "text/x-python",
   "name": "python",
   "nbconvert_exporter": "python",
   "pygments_lexer": "ipython3",
   "version": "3.6.8"
  },
  "toc": {
   "base_numbering": 1,
   "nav_menu": {},
   "number_sections": true,
   "sideBar": true,
   "skip_h1_title": false,
   "title_cell": "Table of Contents",
   "title_sidebar": "Contents",
   "toc_cell": false,
   "toc_position": {
    "height": "902.4px",
    "left": "39px",
    "top": "124.956px",
    "width": "409.594px"
   },
   "toc_section_display": true,
   "toc_window_display": true
  },
  "varInspector": {
   "cols": {
    "lenName": 16,
    "lenType": 16,
    "lenVar": 40
   },
   "kernels_config": {
    "python": {
     "delete_cmd_postfix": "",
     "delete_cmd_prefix": "del ",
     "library": "var_list.py",
     "varRefreshCmd": "print(var_dic_list())"
    },
    "r": {
     "delete_cmd_postfix": ") ",
     "delete_cmd_prefix": "rm(",
     "library": "var_list.r",
     "varRefreshCmd": "cat(var_dic_list()) "
    }
   },
   "types_to_exclude": [
    "module",
    "function",
    "builtin_function_or_method",
    "instance",
    "_Feature"
   ],
   "window_display": false
  }
 },
 "nbformat": 4,
 "nbformat_minor": 2
}
